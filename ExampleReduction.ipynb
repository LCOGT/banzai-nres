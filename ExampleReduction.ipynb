{
 "cells": [
  {
   "cell_type": "code",
   "execution_count": 1,
   "metadata": {},
   "outputs": [],
   "source": [
    "import os\n",
    "os.environ['OPENTSDB_PYTHON_METRICS_TEST_MODE'] = 'True'"
   ]
  },
  {
   "cell_type": "code",
   "execution_count": 2,
   "metadata": {},
   "outputs": [],
   "source": [
    "from banzai.calibrations import make_master_calibrations\n",
    "import requests\n",
    "from banzai_nres import settings\n",
    "from banzai import dbs\n",
    "from banzai.utils.stage_utils import run_pipeline_stages\n",
    "import logging\n",
    "from banzai.logs import set_log_level\n",
    "from glob import glob\n",
    "\n",
    "import pkg_resources"
   ]
  },
  {
   "cell_type": "markdown",
   "metadata": {},
   "source": [
    "Setup logging and some settings show we know where the DB should be.\n",
    "------"
   ]
  },
  {
   "cell_type": "code",
   "execution_count": 3,
   "metadata": {},
   "outputs": [],
   "source": [
    "set_log_level('DEBUG')\n",
    "logger = logging.getLogger('banzai')"
   ]
  },
  {
   "cell_type": "code",
   "execution_count": 4,
   "metadata": {},
   "outputs": [],
   "source": [
    "os.environ['DB_ADDRESS'] = 'sqlite:///test_data/test.db'\n",
    "\n",
    "settings.processed_path= os.path.join(os.getcwd(), 'test_data')\n",
    "settings.fpack=True\n",
    "settings.db_address = os.environ['DB_ADDRESS']"
   ]
  },
  {
   "cell_type": "code",
   "execution_count": 5,
   "metadata": {},
   "outputs": [
    {
     "name": "stdout",
     "output_type": "stream",
     "text": [
      "2020-07-28 13:08:43.857     INFO:          stages: Running banzai.stages.BadPixelMaskLoader | {\"filename\": \"lscnrs01-fl09-20180313-0030-e00.fits.fz\", \"site\": \"lsc\", \"instrument\": \"nres01\", \"epoch\": \"20180313\", \"request_num\": \"0001446787\", \"obstype\": \"TARGET\", \"filter\": null, \"processName\": \"MainProcess\"}\n",
      "2020-07-28 13:08:44.057     INFO:    calibrations: Applying master calibration | {\"filename\": \"lscnrs01-fl09-20180313-0030-e00.fits.fz\", \"site\": \"lsc\", \"instrument\": \"nres01\", \"epoch\": \"20180313\", \"request_num\": \"0001446787\", \"obstype\": \"TARGET\", \"filter\": null, \"master_calibration\": \"bpm-lsc-nres01-fl09-20180215.fits.fz\", \"processName\": \"MainProcess\"}\n",
      "2020-07-28 13:08:44.092     INFO:          stages: Running banzai.stages.OverscanSubtractor | {\"filename\": \"lscnrs01-fl09-20180313-0030-e00.fits.fz\", \"site\": \"lsc\", \"instrument\": \"nres01\", \"epoch\": \"20180313\", \"request_num\": \"0001446787\", \"obstype\": \"TARGET\", \"filter\": null, \"processName\": \"MainProcess\"}\n",
      "2020-07-28 13:08:44.123     INFO:          stages: Running banzai.stages.GainNormalizer | {\"filename\": \"lscnrs01-fl09-20180313-0030-e00.fits.fz\", \"site\": \"lsc\", \"instrument\": \"nres01\", \"epoch\": \"20180313\", \"request_num\": \"0001446787\", \"obstype\": \"TARGET\", \"filter\": null, \"processName\": \"MainProcess\"}\n",
      "2020-07-28 13:08:44.124     INFO:            gain: Multiplying by gain | {\"filename\": \"lscnrs01-fl09-20180313-0030-e00.fits.fz\", \"site\": \"lsc\", \"instrument\": \"nres01\", \"epoch\": \"20180313\", \"request_num\": \"0001446787\", \"obstype\": \"TARGET\", \"filter\": null, \"processName\": \"MainProcess\"}\n",
      "2020-07-28 13:08:44.159     INFO:          stages: Running banzai.stages.Trimmer | {\"filename\": \"lscnrs01-fl09-20180313-0030-e00.fits.fz\", \"site\": \"lsc\", \"instrument\": \"nres01\", \"epoch\": \"20180313\", \"request_num\": \"0001446787\", \"obstype\": \"TARGET\", \"filter\": null, \"processName\": \"MainProcess\"}\n",
      "2020-07-28 13:08:44.160     INFO:            trim: Trimming image | {\"filename\": \"lscnrs01-fl09-20180313-0030-e00.fits.fz\", \"site\": \"lsc\", \"instrument\": \"nres01\", \"epoch\": \"20180313\", \"request_num\": \"0001446787\", \"obstype\": \"TARGET\", \"filter\": null, \"processName\": \"MainProcess\"}\n",
      "2020-07-28 13:08:44.416     INFO:          stages: Running banzai.stages.BiasSubtractor | {\"filename\": \"lscnrs01-fl09-20180313-0030-e00.fits.fz\", \"site\": \"lsc\", \"instrument\": \"nres01\", \"epoch\": \"20180313\", \"request_num\": \"0001446787\", \"obstype\": \"TARGET\", \"filter\": null, \"processName\": \"MainProcess\"}\n",
      "2020-07-28 13:08:45.125     INFO:    calibrations: Applying master calibration | {\"filename\": \"lscnrs01-fl09-20180313-0030-e00.fits.fz\", \"site\": \"lsc\", \"instrument\": \"nres01\", \"epoch\": \"20180313\", \"request_num\": \"0001446787\", \"obstype\": \"TARGET\", \"filter\": null, \"master_calibration\": \"lscnrs01-fl09-20180313-bias-bin1x1.fits.fz\", \"processName\": \"MainProcess\"}\n",
      "2020-07-28 13:08:45.323     INFO:          stages: Running banzai.stages.PoissonInitializer | {\"filename\": \"lscnrs01-fl09-20180313-0030-e00.fits.fz\", \"site\": \"lsc\", \"instrument\": \"nres01\", \"epoch\": \"20180313\", \"request_num\": \"0001446787\", \"obstype\": \"TARGET\", \"filter\": null, \"processName\": \"MainProcess\"}\n",
      "2020-07-28 13:08:45.444     INFO:          stages: Running banzai.stages.DarkSubtractor | {\"filename\": \"lscnrs01-fl09-20180313-0030-e00.fits.fz\", \"site\": \"lsc\", \"instrument\": \"nres01\", \"epoch\": \"20180313\", \"request_num\": \"0001446787\", \"obstype\": \"TARGET\", \"filter\": null, \"processName\": \"MainProcess\"}\n",
      "2020-07-28 13:08:46.189     INFO:    calibrations: Applying master calibration | {\"filename\": \"lscnrs01-fl09-20180313-0030-e00.fits.fz\", \"site\": \"lsc\", \"instrument\": \"nres01\", \"epoch\": \"20180313\", \"request_num\": \"0001446787\", \"obstype\": \"TARGET\", \"filter\": null, \"master_calibration\": \"lscnrs01-fl09-20180313-dark-bin1x1.fits.fz\", \"processName\": \"MainProcess\"}\n",
      "2020-07-28 13:08:46.367     INFO:          stages: Running banzai.stages.FlatLoader | {\"filename\": \"lscnrs01-fl09-20180313-0030-e00.fits.fz\", \"site\": \"lsc\", \"instrument\": \"nres01\", \"epoch\": \"20180313\", \"request_num\": \"0001446787\", \"obstype\": \"TARGET\", \"filter\": null, \"processName\": \"MainProcess\"}\n",
      "2020-07-28 13:08:47.739     INFO:    calibrations: Applying master calibration | {\"filename\": \"lscnrs01-fl09-20180313-0030-e00.fits.fz\", \"site\": \"lsc\", \"instrument\": \"nres01\", \"epoch\": \"20180313\", \"request_num\": \"0001446787\", \"obstype\": \"TARGET\", \"filter\": null, \"master_calibration\": \"lscnrs01-fl09-20180313-lampflat-bin1x1-110.fits.fz\", \"processName\": \"MainProcess\"}\n",
      "2020-07-28 13:08:47.856     INFO:          stages: Running banzai.stages.BackgroundSubtractor | {\"filename\": \"lscnrs01-fl09-20180313-0030-e00.fits.fz\", \"site\": \"lsc\", \"instrument\": \"nres01\", \"epoch\": \"20180313\", \"request_num\": \"0001446787\", \"obstype\": \"TARGET\", \"filter\": null, \"processName\": \"MainProcess\"}\n",
      "2020-07-28 13:08:48.570     INFO:          stages: Running banzai.stages.ArcLoader | {\"filename\": \"lscnrs01-fl09-20180313-0030-e00.fits.fz\", \"site\": \"lsc\", \"instrument\": \"nres01\", \"epoch\": \"20180313\", \"request_num\": \"0001446787\", \"obstype\": \"TARGET\", \"filter\": null, \"processName\": \"MainProcess\"}\n",
      "2020-07-28 13:08:50.241     INFO:    calibrations: Applying master calibration | {\"filename\": \"lscnrs01-fl09-20180313-0030-e00.fits.fz\", \"site\": \"lsc\", \"instrument\": \"nres01\", \"epoch\": \"20180313\", \"request_num\": \"0001446787\", \"obstype\": \"TARGET\", \"filter\": null, \"master_calibration\": \"lscnrs01-fl09-20180313-double-bin1x1-110.fits.fz\", \"processName\": \"MainProcess\"}\n",
      "2020-07-28 13:08:50.394     INFO:          stages: Running banzai.stages.GetOptimalExtractionWeights | {\"filename\": \"lscnrs01-fl09-20180313-0030-e00.fits.fz\", \"site\": \"lsc\", \"instrument\": \"nres01\", \"epoch\": \"20180313\", \"request_num\": \"0001446787\", \"obstype\": \"TARGET\", \"filter\": null, \"processName\": \"MainProcess\"}\n",
      "2020-07-28 13:09:06.394     INFO:          stages: Running banzai.stages.WeightedExtract | {\"filename\": \"lscnrs01-fl09-20180313-0030-e00.fits.fz\", \"site\": \"lsc\", \"instrument\": \"nres01\", \"epoch\": \"20180313\", \"request_num\": \"0001446787\", \"obstype\": \"TARGET\", \"filter\": null, \"processName\": \"MainProcess\"}\n",
      "2020-07-28 13:09:22.445     INFO:          stages: Running banzai.stages.ContinuumNormalizer | {\"filename\": \"lscnrs01-fl09-20180313-0030-e00.fits.fz\", \"site\": \"lsc\", \"instrument\": \"nres01\", \"epoch\": \"20180313\", \"request_num\": \"0001446787\", \"obstype\": \"TARGET\", \"filter\": null, \"processName\": \"MainProcess\"}\n",
      "2020-07-28 13:09:23.764     INFO:          stages: Running banzai.stages.RVCalculator | {\"filename\": \"lscnrs01-fl09-20180313-0030-e00.fits.fz\", \"site\": \"lsc\", \"instrument\": \"nres01\", \"epoch\": \"20180313\", \"request_num\": \"0001446787\", \"obstype\": \"TARGET\", \"filter\": null, \"processName\": \"MainProcess\"}\n",
      "2020-07-28 13:09:23.769     INFO:              rv: Cross correlating for order: 75 | {\"filename\": \"lscnrs01-fl09-20180313-0030-e00.fits.fz\", \"site\": \"lsc\", \"instrument\": \"nres01\", \"epoch\": \"20180313\", \"request_num\": \"0001446787\", \"obstype\": \"TARGET\", \"filter\": null, \"processName\": \"MainProcess\"}\n",
      "2020-07-28 13:09:24.141     INFO:              rv: Cross correlating for order: 76 | {\"filename\": \"lscnrs01-fl09-20180313-0030-e00.fits.fz\", \"site\": \"lsc\", \"instrument\": \"nres01\", \"epoch\": \"20180313\", \"request_num\": \"0001446787\", \"obstype\": \"TARGET\", \"filter\": null, \"processName\": \"MainProcess\"}\n",
      "2020-07-28 13:09:24.514     INFO:              rv: Cross correlating for order: 77 | {\"filename\": \"lscnrs01-fl09-20180313-0030-e00.fits.fz\", \"site\": \"lsc\", \"instrument\": \"nres01\", \"epoch\": \"20180313\", \"request_num\": \"0001446787\", \"obstype\": \"TARGET\", \"filter\": null, \"processName\": \"MainProcess\"}\n",
      "2020-07-28 13:09:24.886     INFO:              rv: Cross correlating for order: 78 | {\"filename\": \"lscnrs01-fl09-20180313-0030-e00.fits.fz\", \"site\": \"lsc\", \"instrument\": \"nres01\", \"epoch\": \"20180313\", \"request_num\": \"0001446787\", \"obstype\": \"TARGET\", \"filter\": null, \"processName\": \"MainProcess\"}\n",
      "2020-07-28 13:09:25.267     INFO:              rv: Cross correlating for order: 79 | {\"filename\": \"lscnrs01-fl09-20180313-0030-e00.fits.fz\", \"site\": \"lsc\", \"instrument\": \"nres01\", \"epoch\": \"20180313\", \"request_num\": \"0001446787\", \"obstype\": \"TARGET\", \"filter\": null, \"processName\": \"MainProcess\"}\n",
      "2020-07-28 13:09:25.635     INFO:              rv: Cross correlating for order: 80 | {\"filename\": \"lscnrs01-fl09-20180313-0030-e00.fits.fz\", \"site\": \"lsc\", \"instrument\": \"nres01\", \"epoch\": \"20180313\", \"request_num\": \"0001446787\", \"obstype\": \"TARGET\", \"filter\": null, \"processName\": \"MainProcess\"}\n"
     ]
    },
    {
     "name": "stdout",
     "output_type": "stream",
     "text": [
      "2020-07-28 13:09:26.002     INFO:              rv: Cross correlating for order: 81 | {\"filename\": \"lscnrs01-fl09-20180313-0030-e00.fits.fz\", \"site\": \"lsc\", \"instrument\": \"nres01\", \"epoch\": \"20180313\", \"request_num\": \"0001446787\", \"obstype\": \"TARGET\", \"filter\": null, \"processName\": \"MainProcess\"}\n",
      "2020-07-28 13:09:26.368     INFO:              rv: Cross correlating for order: 82 | {\"filename\": \"lscnrs01-fl09-20180313-0030-e00.fits.fz\", \"site\": \"lsc\", \"instrument\": \"nres01\", \"epoch\": \"20180313\", \"request_num\": \"0001446787\", \"obstype\": \"TARGET\", \"filter\": null, \"processName\": \"MainProcess\"}\n",
      "2020-07-28 13:09:26.731     INFO:              rv: Cross correlating for order: 83 | {\"filename\": \"lscnrs01-fl09-20180313-0030-e00.fits.fz\", \"site\": \"lsc\", \"instrument\": \"nres01\", \"epoch\": \"20180313\", \"request_num\": \"0001446787\", \"obstype\": \"TARGET\", \"filter\": null, \"processName\": \"MainProcess\"}\n",
      "2020-07-28 13:09:27.095     INFO:              rv: Cross correlating for order: 84 | {\"filename\": \"lscnrs01-fl09-20180313-0030-e00.fits.fz\", \"site\": \"lsc\", \"instrument\": \"nres01\", \"epoch\": \"20180313\", \"request_num\": \"0001446787\", \"obstype\": \"TARGET\", \"filter\": null, \"processName\": \"MainProcess\"}\n",
      "2020-07-28 13:09:27.459     INFO:              rv: Cross correlating for order: 85 | {\"filename\": \"lscnrs01-fl09-20180313-0030-e00.fits.fz\", \"site\": \"lsc\", \"instrument\": \"nres01\", \"epoch\": \"20180313\", \"request_num\": \"0001446787\", \"obstype\": \"TARGET\", \"filter\": null, \"processName\": \"MainProcess\"}\n",
      "2020-07-28 13:09:27.823     INFO:              rv: Cross correlating for order: 86 | {\"filename\": \"lscnrs01-fl09-20180313-0030-e00.fits.fz\", \"site\": \"lsc\", \"instrument\": \"nres01\", \"epoch\": \"20180313\", \"request_num\": \"0001446787\", \"obstype\": \"TARGET\", \"filter\": null, \"processName\": \"MainProcess\"}\n",
      "2020-07-28 13:09:28.180     INFO:              rv: Cross correlating for order: 87 | {\"filename\": \"lscnrs01-fl09-20180313-0030-e00.fits.fz\", \"site\": \"lsc\", \"instrument\": \"nres01\", \"epoch\": \"20180313\", \"request_num\": \"0001446787\", \"obstype\": \"TARGET\", \"filter\": null, \"processName\": \"MainProcess\"}\n",
      "2020-07-28 13:09:28.543     INFO:              rv: Cross correlating for order: 88 | {\"filename\": \"lscnrs01-fl09-20180313-0030-e00.fits.fz\", \"site\": \"lsc\", \"instrument\": \"nres01\", \"epoch\": \"20180313\", \"request_num\": \"0001446787\", \"obstype\": \"TARGET\", \"filter\": null, \"processName\": \"MainProcess\"}\n",
      "2020-07-28 13:09:28.902     INFO:              rv: Cross correlating for order: 89 | {\"filename\": \"lscnrs01-fl09-20180313-0030-e00.fits.fz\", \"site\": \"lsc\", \"instrument\": \"nres01\", \"epoch\": \"20180313\", \"request_num\": \"0001446787\", \"obstype\": \"TARGET\", \"filter\": null, \"processName\": \"MainProcess\"}\n",
      "2020-07-28 13:09:29.260     INFO:              rv: Cross correlating for order: 90 | {\"filename\": \"lscnrs01-fl09-20180313-0030-e00.fits.fz\", \"site\": \"lsc\", \"instrument\": \"nres01\", \"epoch\": \"20180313\", \"request_num\": \"0001446787\", \"obstype\": \"TARGET\", \"filter\": null, \"processName\": \"MainProcess\"}\n",
      "2020-07-28 13:09:29.616     INFO:              rv: Cross correlating for order: 91 | {\"filename\": \"lscnrs01-fl09-20180313-0030-e00.fits.fz\", \"site\": \"lsc\", \"instrument\": \"nres01\", \"epoch\": \"20180313\", \"request_num\": \"0001446787\", \"obstype\": \"TARGET\", \"filter\": null, \"processName\": \"MainProcess\"}\n",
      "2020-07-28 13:09:29.967     INFO:              rv: Cross correlating for order: 92 | {\"filename\": \"lscnrs01-fl09-20180313-0030-e00.fits.fz\", \"site\": \"lsc\", \"instrument\": \"nres01\", \"epoch\": \"20180313\", \"request_num\": \"0001446787\", \"obstype\": \"TARGET\", \"filter\": null, \"processName\": \"MainProcess\"}\n",
      "2020-07-28 13:09:30.314     INFO:              rv: Cross correlating for order: 93 | {\"filename\": \"lscnrs01-fl09-20180313-0030-e00.fits.fz\", \"site\": \"lsc\", \"instrument\": \"nres01\", \"epoch\": \"20180313\", \"request_num\": \"0001446787\", \"obstype\": \"TARGET\", \"filter\": null, \"processName\": \"MainProcess\"}\n",
      "2020-07-28 13:09:30.679     INFO:              rv: Cross correlating for order: 94 | {\"filename\": \"lscnrs01-fl09-20180313-0030-e00.fits.fz\", \"site\": \"lsc\", \"instrument\": \"nres01\", \"epoch\": \"20180313\", \"request_num\": \"0001446787\", \"obstype\": \"TARGET\", \"filter\": null, \"processName\": \"MainProcess\"}\n",
      "2020-07-28 13:09:31.045     INFO:              rv: Cross correlating for order: 95 | {\"filename\": \"lscnrs01-fl09-20180313-0030-e00.fits.fz\", \"site\": \"lsc\", \"instrument\": \"nres01\", \"epoch\": \"20180313\", \"request_num\": \"0001446787\", \"obstype\": \"TARGET\", \"filter\": null, \"processName\": \"MainProcess\"}\n",
      "2020-07-28 13:09:31.409     INFO:              rv: Cross correlating for order: 96 | {\"filename\": \"lscnrs01-fl09-20180313-0030-e00.fits.fz\", \"site\": \"lsc\", \"instrument\": \"nres01\", \"epoch\": \"20180313\", \"request_num\": \"0001446787\", \"obstype\": \"TARGET\", \"filter\": null, \"processName\": \"MainProcess\"}\n",
      "2020-07-28 13:09:31.768     INFO:              rv: Cross correlating for order: 97 | {\"filename\": \"lscnrs01-fl09-20180313-0030-e00.fits.fz\", \"site\": \"lsc\", \"instrument\": \"nres01\", \"epoch\": \"20180313\", \"request_num\": \"0001446787\", \"obstype\": \"TARGET\", \"filter\": null, \"processName\": \"MainProcess\"}\n",
      "2020-07-28 13:09:32.123     INFO:              rv: Cross correlating for order: 98 | {\"filename\": \"lscnrs01-fl09-20180313-0030-e00.fits.fz\", \"site\": \"lsc\", \"instrument\": \"nres01\", \"epoch\": \"20180313\", \"request_num\": \"0001446787\", \"obstype\": \"TARGET\", \"filter\": null, \"processName\": \"MainProcess\"}\n",
      "2020-07-28 13:09:32.476     INFO:              rv: Cross correlating for order: 99 | {\"filename\": \"lscnrs01-fl09-20180313-0030-e00.fits.fz\", \"site\": \"lsc\", \"instrument\": \"nres01\", \"epoch\": \"20180313\", \"request_num\": \"0001446787\", \"obstype\": \"TARGET\", \"filter\": null, \"processName\": \"MainProcess\"}\n",
      "2020-07-28 13:09:32.839     INFO:              rv: Cross correlating for order: 100 | {\"filename\": \"lscnrs01-fl09-20180313-0030-e00.fits.fz\", \"site\": \"lsc\", \"instrument\": \"nres01\", \"epoch\": \"20180313\", \"request_num\": \"0001446787\", \"obstype\": \"TARGET\", \"filter\": null, \"processName\": \"MainProcess\"}\n",
      "2020-07-28 13:09:33.190     INFO:              rv: Cross correlating for order: 75 | {\"filename\": \"lscnrs01-fl09-20180313-0030-e00.fits.fz\", \"site\": \"lsc\", \"instrument\": \"nres01\", \"epoch\": \"20180313\", \"request_num\": \"0001446787\", \"obstype\": \"TARGET\", \"filter\": null, \"processName\": \"MainProcess\"}\n",
      "2020-07-28 13:09:33.576     INFO:              rv: Cross correlating for order: 76 | {\"filename\": \"lscnrs01-fl09-20180313-0030-e00.fits.fz\", \"site\": \"lsc\", \"instrument\": \"nres01\", \"epoch\": \"20180313\", \"request_num\": \"0001446787\", \"obstype\": \"TARGET\", \"filter\": null, \"processName\": \"MainProcess\"}\n",
      "2020-07-28 13:09:33.962     INFO:              rv: Cross correlating for order: 77 | {\"filename\": \"lscnrs01-fl09-20180313-0030-e00.fits.fz\", \"site\": \"lsc\", \"instrument\": \"nres01\", \"epoch\": \"20180313\", \"request_num\": \"0001446787\", \"obstype\": \"TARGET\", \"filter\": null, \"processName\": \"MainProcess\"}\n",
      "2020-07-28 13:09:34.344     INFO:              rv: Cross correlating for order: 78 | {\"filename\": \"lscnrs01-fl09-20180313-0030-e00.fits.fz\", \"site\": \"lsc\", \"instrument\": \"nres01\", \"epoch\": \"20180313\", \"request_num\": \"0001446787\", \"obstype\": \"TARGET\", \"filter\": null, \"processName\": \"MainProcess\"}\n",
      "2020-07-28 13:09:34.729     INFO:              rv: Cross correlating for order: 79 | {\"filename\": \"lscnrs01-fl09-20180313-0030-e00.fits.fz\", \"site\": \"lsc\", \"instrument\": \"nres01\", \"epoch\": \"20180313\", \"request_num\": \"0001446787\", \"obstype\": \"TARGET\", \"filter\": null, \"processName\": \"MainProcess\"}\n",
      "2020-07-28 13:09:35.127     INFO:              rv: Cross correlating for order: 80 | {\"filename\": \"lscnrs01-fl09-20180313-0030-e00.fits.fz\", \"site\": \"lsc\", \"instrument\": \"nres01\", \"epoch\": \"20180313\", \"request_num\": \"0001446787\", \"obstype\": \"TARGET\", \"filter\": null, \"processName\": \"MainProcess\"}\n",
      "2020-07-28 13:09:35.531     INFO:              rv: Cross correlating for order: 81 | {\"filename\": \"lscnrs01-fl09-20180313-0030-e00.fits.fz\", \"site\": \"lsc\", \"instrument\": \"nres01\", \"epoch\": \"20180313\", \"request_num\": \"0001446787\", \"obstype\": \"TARGET\", \"filter\": null, \"processName\": \"MainProcess\"}\n",
      "2020-07-28 13:09:35.914     INFO:              rv: Cross correlating for order: 82 | {\"filename\": \"lscnrs01-fl09-20180313-0030-e00.fits.fz\", \"site\": \"lsc\", \"instrument\": \"nres01\", \"epoch\": \"20180313\", \"request_num\": \"0001446787\", \"obstype\": \"TARGET\", \"filter\": null, \"processName\": \"MainProcess\"}\n"
     ]
    },
    {
     "name": "stdout",
     "output_type": "stream",
     "text": [
      "2020-07-28 13:09:36.353     INFO:              rv: Cross correlating for order: 83 | {\"filename\": \"lscnrs01-fl09-20180313-0030-e00.fits.fz\", \"site\": \"lsc\", \"instrument\": \"nres01\", \"epoch\": \"20180313\", \"request_num\": \"0001446787\", \"obstype\": \"TARGET\", \"filter\": null, \"processName\": \"MainProcess\"}\n",
      "2020-07-28 13:09:36.741     INFO:              rv: Cross correlating for order: 84 | {\"filename\": \"lscnrs01-fl09-20180313-0030-e00.fits.fz\", \"site\": \"lsc\", \"instrument\": \"nres01\", \"epoch\": \"20180313\", \"request_num\": \"0001446787\", \"obstype\": \"TARGET\", \"filter\": null, \"processName\": \"MainProcess\"}\n",
      "2020-07-28 13:09:37.143     INFO:              rv: Cross correlating for order: 85 | {\"filename\": \"lscnrs01-fl09-20180313-0030-e00.fits.fz\", \"site\": \"lsc\", \"instrument\": \"nres01\", \"epoch\": \"20180313\", \"request_num\": \"0001446787\", \"obstype\": \"TARGET\", \"filter\": null, \"processName\": \"MainProcess\"}\n",
      "2020-07-28 13:09:37.545     INFO:              rv: Cross correlating for order: 86 | {\"filename\": \"lscnrs01-fl09-20180313-0030-e00.fits.fz\", \"site\": \"lsc\", \"instrument\": \"nres01\", \"epoch\": \"20180313\", \"request_num\": \"0001446787\", \"obstype\": \"TARGET\", \"filter\": null, \"processName\": \"MainProcess\"}\n",
      "2020-07-28 13:09:37.941     INFO:              rv: Cross correlating for order: 87 | {\"filename\": \"lscnrs01-fl09-20180313-0030-e00.fits.fz\", \"site\": \"lsc\", \"instrument\": \"nres01\", \"epoch\": \"20180313\", \"request_num\": \"0001446787\", \"obstype\": \"TARGET\", \"filter\": null, \"processName\": \"MainProcess\"}\n",
      "2020-07-28 13:09:38.317     INFO:              rv: Cross correlating for order: 88 | {\"filename\": \"lscnrs01-fl09-20180313-0030-e00.fits.fz\", \"site\": \"lsc\", \"instrument\": \"nres01\", \"epoch\": \"20180313\", \"request_num\": \"0001446787\", \"obstype\": \"TARGET\", \"filter\": null, \"processName\": \"MainProcess\"}\n",
      "2020-07-28 13:09:38.701     INFO:              rv: Cross correlating for order: 89 | {\"filename\": \"lscnrs01-fl09-20180313-0030-e00.fits.fz\", \"site\": \"lsc\", \"instrument\": \"nres01\", \"epoch\": \"20180313\", \"request_num\": \"0001446787\", \"obstype\": \"TARGET\", \"filter\": null, \"processName\": \"MainProcess\"}\n",
      "2020-07-28 13:09:39.075     INFO:              rv: Cross correlating for order: 90 | {\"filename\": \"lscnrs01-fl09-20180313-0030-e00.fits.fz\", \"site\": \"lsc\", \"instrument\": \"nres01\", \"epoch\": \"20180313\", \"request_num\": \"0001446787\", \"obstype\": \"TARGET\", \"filter\": null, \"processName\": \"MainProcess\"}\n",
      "2020-07-28 13:09:39.441     INFO:              rv: Cross correlating for order: 91 | {\"filename\": \"lscnrs01-fl09-20180313-0030-e00.fits.fz\", \"site\": \"lsc\", \"instrument\": \"nres01\", \"epoch\": \"20180313\", \"request_num\": \"0001446787\", \"obstype\": \"TARGET\", \"filter\": null, \"processName\": \"MainProcess\"}\n",
      "2020-07-28 13:09:39.807     INFO:              rv: Cross correlating for order: 92 | {\"filename\": \"lscnrs01-fl09-20180313-0030-e00.fits.fz\", \"site\": \"lsc\", \"instrument\": \"nres01\", \"epoch\": \"20180313\", \"request_num\": \"0001446787\", \"obstype\": \"TARGET\", \"filter\": null, \"processName\": \"MainProcess\"}\n",
      "2020-07-28 13:09:40.168     INFO:              rv: Cross correlating for order: 93 | {\"filename\": \"lscnrs01-fl09-20180313-0030-e00.fits.fz\", \"site\": \"lsc\", \"instrument\": \"nres01\", \"epoch\": \"20180313\", \"request_num\": \"0001446787\", \"obstype\": \"TARGET\", \"filter\": null, \"processName\": \"MainProcess\"}\n",
      "2020-07-28 13:09:40.548     INFO:              rv: Cross correlating for order: 94 | {\"filename\": \"lscnrs01-fl09-20180313-0030-e00.fits.fz\", \"site\": \"lsc\", \"instrument\": \"nres01\", \"epoch\": \"20180313\", \"request_num\": \"0001446787\", \"obstype\": \"TARGET\", \"filter\": null, \"processName\": \"MainProcess\"}\n",
      "2020-07-28 13:09:40.934     INFO:              rv: Cross correlating for order: 95 | {\"filename\": \"lscnrs01-fl09-20180313-0030-e00.fits.fz\", \"site\": \"lsc\", \"instrument\": \"nres01\", \"epoch\": \"20180313\", \"request_num\": \"0001446787\", \"obstype\": \"TARGET\", \"filter\": null, \"processName\": \"MainProcess\"}\n",
      "2020-07-28 13:09:41.310     INFO:              rv: Cross correlating for order: 96 | {\"filename\": \"lscnrs01-fl09-20180313-0030-e00.fits.fz\", \"site\": \"lsc\", \"instrument\": \"nres01\", \"epoch\": \"20180313\", \"request_num\": \"0001446787\", \"obstype\": \"TARGET\", \"filter\": null, \"processName\": \"MainProcess\"}\n",
      "2020-07-28 13:09:41.683     INFO:              rv: Cross correlating for order: 97 | {\"filename\": \"lscnrs01-fl09-20180313-0030-e00.fits.fz\", \"site\": \"lsc\", \"instrument\": \"nres01\", \"epoch\": \"20180313\", \"request_num\": \"0001446787\", \"obstype\": \"TARGET\", \"filter\": null, \"processName\": \"MainProcess\"}\n",
      "2020-07-28 13:09:42.053     INFO:              rv: Cross correlating for order: 98 | {\"filename\": \"lscnrs01-fl09-20180313-0030-e00.fits.fz\", \"site\": \"lsc\", \"instrument\": \"nres01\", \"epoch\": \"20180313\", \"request_num\": \"0001446787\", \"obstype\": \"TARGET\", \"filter\": null, \"processName\": \"MainProcess\"}\n",
      "2020-07-28 13:09:42.420     INFO:              rv: Cross correlating for order: 99 | {\"filename\": \"lscnrs01-fl09-20180313-0030-e00.fits.fz\", \"site\": \"lsc\", \"instrument\": \"nres01\", \"epoch\": \"20180313\", \"request_num\": \"0001446787\", \"obstype\": \"TARGET\", \"filter\": null, \"processName\": \"MainProcess\"}\n",
      "2020-07-28 13:09:42.787     INFO:              rv: Cross correlating for order: 100 | {\"filename\": \"lscnrs01-fl09-20180313-0030-e00.fits.fz\", \"site\": \"lsc\", \"instrument\": \"nres01\", \"epoch\": \"20180313\", \"request_num\": \"0001446787\", \"obstype\": \"TARGET\", \"filter\": null, \"processName\": \"MainProcess\"}\n",
      "2020-07-28 13:09:51.995     INFO:          stages: Running banzai.stages.BadPixelMaskLoader | {\"filename\": \"lscnrs01-fl09-20180313-0031-e00.fits.fz\", \"site\": \"lsc\", \"instrument\": \"nres01\", \"epoch\": \"20180313\", \"request_num\": \"0001446787\", \"obstype\": \"TARGET\", \"filter\": null, \"processName\": \"MainProcess\"}\n",
      "2020-07-28 13:09:52.189     INFO:    calibrations: Applying master calibration | {\"filename\": \"lscnrs01-fl09-20180313-0031-e00.fits.fz\", \"site\": \"lsc\", \"instrument\": \"nres01\", \"epoch\": \"20180313\", \"request_num\": \"0001446787\", \"obstype\": \"TARGET\", \"filter\": null, \"master_calibration\": \"bpm-lsc-nres01-fl09-20180215.fits.fz\", \"processName\": \"MainProcess\"}\n",
      "2020-07-28 13:09:52.225     INFO:          stages: Running banzai.stages.OverscanSubtractor | {\"filename\": \"lscnrs01-fl09-20180313-0031-e00.fits.fz\", \"site\": \"lsc\", \"instrument\": \"nres01\", \"epoch\": \"20180313\", \"request_num\": \"0001446787\", \"obstype\": \"TARGET\", \"filter\": null, \"processName\": \"MainProcess\"}\n",
      "2020-07-28 13:09:52.253     INFO:          stages: Running banzai.stages.GainNormalizer | {\"filename\": \"lscnrs01-fl09-20180313-0031-e00.fits.fz\", \"site\": \"lsc\", \"instrument\": \"nres01\", \"epoch\": \"20180313\", \"request_num\": \"0001446787\", \"obstype\": \"TARGET\", \"filter\": null, \"processName\": \"MainProcess\"}\n",
      "2020-07-28 13:09:52.254     INFO:            gain: Multiplying by gain | {\"filename\": \"lscnrs01-fl09-20180313-0031-e00.fits.fz\", \"site\": \"lsc\", \"instrument\": \"nres01\", \"epoch\": \"20180313\", \"request_num\": \"0001446787\", \"obstype\": \"TARGET\", \"filter\": null, \"processName\": \"MainProcess\"}\n",
      "2020-07-28 13:09:52.290     INFO:          stages: Running banzai.stages.Trimmer | {\"filename\": \"lscnrs01-fl09-20180313-0031-e00.fits.fz\", \"site\": \"lsc\", \"instrument\": \"nres01\", \"epoch\": \"20180313\", \"request_num\": \"0001446787\", \"obstype\": \"TARGET\", \"filter\": null, \"processName\": \"MainProcess\"}\n",
      "2020-07-28 13:09:52.292     INFO:            trim: Trimming image | {\"filename\": \"lscnrs01-fl09-20180313-0031-e00.fits.fz\", \"site\": \"lsc\", \"instrument\": \"nres01\", \"epoch\": \"20180313\", \"request_num\": \"0001446787\", \"obstype\": \"TARGET\", \"filter\": null, \"processName\": \"MainProcess\"}\n",
      "2020-07-28 13:09:52.544     INFO:          stages: Running banzai.stages.BiasSubtractor | {\"filename\": \"lscnrs01-fl09-20180313-0031-e00.fits.fz\", \"site\": \"lsc\", \"instrument\": \"nres01\", \"epoch\": \"20180313\", \"request_num\": \"0001446787\", \"obstype\": \"TARGET\", \"filter\": null, \"processName\": \"MainProcess\"}\n",
      "2020-07-28 13:09:53.249     INFO:    calibrations: Applying master calibration | {\"filename\": \"lscnrs01-fl09-20180313-0031-e00.fits.fz\", \"site\": \"lsc\", \"instrument\": \"nres01\", \"epoch\": \"20180313\", \"request_num\": \"0001446787\", \"obstype\": \"TARGET\", \"filter\": null, \"master_calibration\": \"lscnrs01-fl09-20180313-bias-bin1x1.fits.fz\", \"processName\": \"MainProcess\"}\n",
      "2020-07-28 13:09:53.438     INFO:          stages: Running banzai.stages.PoissonInitializer | {\"filename\": \"lscnrs01-fl09-20180313-0031-e00.fits.fz\", \"site\": \"lsc\", \"instrument\": \"nres01\", \"epoch\": \"20180313\", \"request_num\": \"0001446787\", \"obstype\": \"TARGET\", \"filter\": null, \"processName\": \"MainProcess\"}\n"
     ]
    },
    {
     "name": "stdout",
     "output_type": "stream",
     "text": [
      "2020-07-28 13:09:53.548     INFO:          stages: Running banzai.stages.DarkSubtractor | {\"filename\": \"lscnrs01-fl09-20180313-0031-e00.fits.fz\", \"site\": \"lsc\", \"instrument\": \"nres01\", \"epoch\": \"20180313\", \"request_num\": \"0001446787\", \"obstype\": \"TARGET\", \"filter\": null, \"processName\": \"MainProcess\"}\n",
      "2020-07-28 13:09:54.252     INFO:    calibrations: Applying master calibration | {\"filename\": \"lscnrs01-fl09-20180313-0031-e00.fits.fz\", \"site\": \"lsc\", \"instrument\": \"nres01\", \"epoch\": \"20180313\", \"request_num\": \"0001446787\", \"obstype\": \"TARGET\", \"filter\": null, \"master_calibration\": \"lscnrs01-fl09-20180313-dark-bin1x1.fits.fz\", \"processName\": \"MainProcess\"}\n",
      "2020-07-28 13:09:54.413     INFO:          stages: Running banzai.stages.FlatLoader | {\"filename\": \"lscnrs01-fl09-20180313-0031-e00.fits.fz\", \"site\": \"lsc\", \"instrument\": \"nres01\", \"epoch\": \"20180313\", \"request_num\": \"0001446787\", \"obstype\": \"TARGET\", \"filter\": null, \"processName\": \"MainProcess\"}\n",
      "2020-07-28 13:09:55.810     INFO:    calibrations: Applying master calibration | {\"filename\": \"lscnrs01-fl09-20180313-0031-e00.fits.fz\", \"site\": \"lsc\", \"instrument\": \"nres01\", \"epoch\": \"20180313\", \"request_num\": \"0001446787\", \"obstype\": \"TARGET\", \"filter\": null, \"master_calibration\": \"lscnrs01-fl09-20180313-lampflat-bin1x1-110.fits.fz\", \"processName\": \"MainProcess\"}\n",
      "2020-07-28 13:09:55.927     INFO:          stages: Running banzai.stages.BackgroundSubtractor | {\"filename\": \"lscnrs01-fl09-20180313-0031-e00.fits.fz\", \"site\": \"lsc\", \"instrument\": \"nres01\", \"epoch\": \"20180313\", \"request_num\": \"0001446787\", \"obstype\": \"TARGET\", \"filter\": null, \"processName\": \"MainProcess\"}\n",
      "2020-07-28 13:09:56.315     INFO:          stages: Running banzai.stages.ArcLoader | {\"filename\": \"lscnrs01-fl09-20180313-0031-e00.fits.fz\", \"site\": \"lsc\", \"instrument\": \"nres01\", \"epoch\": \"20180313\", \"request_num\": \"0001446787\", \"obstype\": \"TARGET\", \"filter\": null, \"processName\": \"MainProcess\"}\n",
      "2020-07-28 13:09:58.012     INFO:    calibrations: Applying master calibration | {\"filename\": \"lscnrs01-fl09-20180313-0031-e00.fits.fz\", \"site\": \"lsc\", \"instrument\": \"nres01\", \"epoch\": \"20180313\", \"request_num\": \"0001446787\", \"obstype\": \"TARGET\", \"filter\": null, \"master_calibration\": \"lscnrs01-fl09-20180313-double-bin1x1-110.fits.fz\", \"processName\": \"MainProcess\"}\n",
      "2020-07-28 13:09:58.141     INFO:          stages: Running banzai.stages.GetOptimalExtractionWeights | {\"filename\": \"lscnrs01-fl09-20180313-0031-e00.fits.fz\", \"site\": \"lsc\", \"instrument\": \"nres01\", \"epoch\": \"20180313\", \"request_num\": \"0001446787\", \"obstype\": \"TARGET\", \"filter\": null, \"processName\": \"MainProcess\"}\n",
      "2020-07-28 13:10:14.571     INFO:          stages: Running banzai.stages.WeightedExtract | {\"filename\": \"lscnrs01-fl09-20180313-0031-e00.fits.fz\", \"site\": \"lsc\", \"instrument\": \"nres01\", \"epoch\": \"20180313\", \"request_num\": \"0001446787\", \"obstype\": \"TARGET\", \"filter\": null, \"processName\": \"MainProcess\"}\n",
      "2020-07-28 13:10:30.938     INFO:          stages: Running banzai.stages.ContinuumNormalizer | {\"filename\": \"lscnrs01-fl09-20180313-0031-e00.fits.fz\", \"site\": \"lsc\", \"instrument\": \"nres01\", \"epoch\": \"20180313\", \"request_num\": \"0001446787\", \"obstype\": \"TARGET\", \"filter\": null, \"processName\": \"MainProcess\"}\n",
      "2020-07-28 13:10:32.032     INFO:          stages: Running banzai.stages.RVCalculator | {\"filename\": \"lscnrs01-fl09-20180313-0031-e00.fits.fz\", \"site\": \"lsc\", \"instrument\": \"nres01\", \"epoch\": \"20180313\", \"request_num\": \"0001446787\", \"obstype\": \"TARGET\", \"filter\": null, \"processName\": \"MainProcess\"}\n",
      "2020-07-28 13:10:32.037     INFO:              rv: Cross correlating for order: 75 | {\"filename\": \"lscnrs01-fl09-20180313-0031-e00.fits.fz\", \"site\": \"lsc\", \"instrument\": \"nres01\", \"epoch\": \"20180313\", \"request_num\": \"0001446787\", \"obstype\": \"TARGET\", \"filter\": null, \"processName\": \"MainProcess\"}\n",
      "2020-07-28 13:10:32.412     INFO:              rv: Cross correlating for order: 76 | {\"filename\": \"lscnrs01-fl09-20180313-0031-e00.fits.fz\", \"site\": \"lsc\", \"instrument\": \"nres01\", \"epoch\": \"20180313\", \"request_num\": \"0001446787\", \"obstype\": \"TARGET\", \"filter\": null, \"processName\": \"MainProcess\"}\n",
      "2020-07-28 13:10:32.781     INFO:              rv: Cross correlating for order: 77 | {\"filename\": \"lscnrs01-fl09-20180313-0031-e00.fits.fz\", \"site\": \"lsc\", \"instrument\": \"nres01\", \"epoch\": \"20180313\", \"request_num\": \"0001446787\", \"obstype\": \"TARGET\", \"filter\": null, \"processName\": \"MainProcess\"}\n",
      "2020-07-28 13:10:33.149     INFO:              rv: Cross correlating for order: 78 | {\"filename\": \"lscnrs01-fl09-20180313-0031-e00.fits.fz\", \"site\": \"lsc\", \"instrument\": \"nres01\", \"epoch\": \"20180313\", \"request_num\": \"0001446787\", \"obstype\": \"TARGET\", \"filter\": null, \"processName\": \"MainProcess\"}\n",
      "2020-07-28 13:10:33.520     INFO:              rv: Cross correlating for order: 79 | {\"filename\": \"lscnrs01-fl09-20180313-0031-e00.fits.fz\", \"site\": \"lsc\", \"instrument\": \"nres01\", \"epoch\": \"20180313\", \"request_num\": \"0001446787\", \"obstype\": \"TARGET\", \"filter\": null, \"processName\": \"MainProcess\"}\n",
      "2020-07-28 13:10:33.890     INFO:              rv: Cross correlating for order: 80 | {\"filename\": \"lscnrs01-fl09-20180313-0031-e00.fits.fz\", \"site\": \"lsc\", \"instrument\": \"nres01\", \"epoch\": \"20180313\", \"request_num\": \"0001446787\", \"obstype\": \"TARGET\", \"filter\": null, \"processName\": \"MainProcess\"}\n",
      "2020-07-28 13:10:34.274     INFO:              rv: Cross correlating for order: 81 | {\"filename\": \"lscnrs01-fl09-20180313-0031-e00.fits.fz\", \"site\": \"lsc\", \"instrument\": \"nres01\", \"epoch\": \"20180313\", \"request_num\": \"0001446787\", \"obstype\": \"TARGET\", \"filter\": null, \"processName\": \"MainProcess\"}\n",
      "2020-07-28 13:10:34.641     INFO:              rv: Cross correlating for order: 82 | {\"filename\": \"lscnrs01-fl09-20180313-0031-e00.fits.fz\", \"site\": \"lsc\", \"instrument\": \"nres01\", \"epoch\": \"20180313\", \"request_num\": \"0001446787\", \"obstype\": \"TARGET\", \"filter\": null, \"processName\": \"MainProcess\"}\n",
      "2020-07-28 13:10:35.020     INFO:              rv: Cross correlating for order: 83 | {\"filename\": \"lscnrs01-fl09-20180313-0031-e00.fits.fz\", \"site\": \"lsc\", \"instrument\": \"nres01\", \"epoch\": \"20180313\", \"request_num\": \"0001446787\", \"obstype\": \"TARGET\", \"filter\": null, \"processName\": \"MainProcess\"}\n",
      "2020-07-28 13:10:35.384     INFO:              rv: Cross correlating for order: 84 | {\"filename\": \"lscnrs01-fl09-20180313-0031-e00.fits.fz\", \"site\": \"lsc\", \"instrument\": \"nres01\", \"epoch\": \"20180313\", \"request_num\": \"0001446787\", \"obstype\": \"TARGET\", \"filter\": null, \"processName\": \"MainProcess\"}\n",
      "2020-07-28 13:10:35.748     INFO:              rv: Cross correlating for order: 85 | {\"filename\": \"lscnrs01-fl09-20180313-0031-e00.fits.fz\", \"site\": \"lsc\", \"instrument\": \"nres01\", \"epoch\": \"20180313\", \"request_num\": \"0001446787\", \"obstype\": \"TARGET\", \"filter\": null, \"processName\": \"MainProcess\"}\n",
      "2020-07-28 13:10:36.117     INFO:              rv: Cross correlating for order: 86 | {\"filename\": \"lscnrs01-fl09-20180313-0031-e00.fits.fz\", \"site\": \"lsc\", \"instrument\": \"nres01\", \"epoch\": \"20180313\", \"request_num\": \"0001446787\", \"obstype\": \"TARGET\", \"filter\": null, \"processName\": \"MainProcess\"}\n",
      "2020-07-28 13:10:36.508     INFO:              rv: Cross correlating for order: 87 | {\"filename\": \"lscnrs01-fl09-20180313-0031-e00.fits.fz\", \"site\": \"lsc\", \"instrument\": \"nres01\", \"epoch\": \"20180313\", \"request_num\": \"0001446787\", \"obstype\": \"TARGET\", \"filter\": null, \"processName\": \"MainProcess\"}\n",
      "2020-07-28 13:10:36.887     INFO:              rv: Cross correlating for order: 88 | {\"filename\": \"lscnrs01-fl09-20180313-0031-e00.fits.fz\", \"site\": \"lsc\", \"instrument\": \"nres01\", \"epoch\": \"20180313\", \"request_num\": \"0001446787\", \"obstype\": \"TARGET\", \"filter\": null, \"processName\": \"MainProcess\"}\n",
      "2020-07-28 13:10:37.257     INFO:              rv: Cross correlating for order: 89 | {\"filename\": \"lscnrs01-fl09-20180313-0031-e00.fits.fz\", \"site\": \"lsc\", \"instrument\": \"nres01\", \"epoch\": \"20180313\", \"request_num\": \"0001446787\", \"obstype\": \"TARGET\", \"filter\": null, \"processName\": \"MainProcess\"}\n",
      "2020-07-28 13:10:37.623     INFO:              rv: Cross correlating for order: 90 | {\"filename\": \"lscnrs01-fl09-20180313-0031-e00.fits.fz\", \"site\": \"lsc\", \"instrument\": \"nres01\", \"epoch\": \"20180313\", \"request_num\": \"0001446787\", \"obstype\": \"TARGET\", \"filter\": null, \"processName\": \"MainProcess\"}\n"
     ]
    },
    {
     "name": "stdout",
     "output_type": "stream",
     "text": [
      "2020-07-28 13:10:37.995     INFO:              rv: Cross correlating for order: 91 | {\"filename\": \"lscnrs01-fl09-20180313-0031-e00.fits.fz\", \"site\": \"lsc\", \"instrument\": \"nres01\", \"epoch\": \"20180313\", \"request_num\": \"0001446787\", \"obstype\": \"TARGET\", \"filter\": null, \"processName\": \"MainProcess\"}\n",
      "2020-07-28 13:10:38.358     INFO:              rv: Cross correlating for order: 92 | {\"filename\": \"lscnrs01-fl09-20180313-0031-e00.fits.fz\", \"site\": \"lsc\", \"instrument\": \"nres01\", \"epoch\": \"20180313\", \"request_num\": \"0001446787\", \"obstype\": \"TARGET\", \"filter\": null, \"processName\": \"MainProcess\"}\n",
      "2020-07-28 13:10:38.720     INFO:              rv: Cross correlating for order: 93 | {\"filename\": \"lscnrs01-fl09-20180313-0031-e00.fits.fz\", \"site\": \"lsc\", \"instrument\": \"nres01\", \"epoch\": \"20180313\", \"request_num\": \"0001446787\", \"obstype\": \"TARGET\", \"filter\": null, \"processName\": \"MainProcess\"}\n",
      "2020-07-28 13:10:39.085     INFO:              rv: Cross correlating for order: 94 | {\"filename\": \"lscnrs01-fl09-20180313-0031-e00.fits.fz\", \"site\": \"lsc\", \"instrument\": \"nres01\", \"epoch\": \"20180313\", \"request_num\": \"0001446787\", \"obstype\": \"TARGET\", \"filter\": null, \"processName\": \"MainProcess\"}\n",
      "2020-07-28 13:10:39.456     INFO:              rv: Cross correlating for order: 95 | {\"filename\": \"lscnrs01-fl09-20180313-0031-e00.fits.fz\", \"site\": \"lsc\", \"instrument\": \"nres01\", \"epoch\": \"20180313\", \"request_num\": \"0001446787\", \"obstype\": \"TARGET\", \"filter\": null, \"processName\": \"MainProcess\"}\n",
      "2020-07-28 13:10:39.840     INFO:              rv: Cross correlating for order: 96 | {\"filename\": \"lscnrs01-fl09-20180313-0031-e00.fits.fz\", \"site\": \"lsc\", \"instrument\": \"nres01\", \"epoch\": \"20180313\", \"request_num\": \"0001446787\", \"obstype\": \"TARGET\", \"filter\": null, \"processName\": \"MainProcess\"}\n",
      "2020-07-28 13:10:40.210     INFO:              rv: Cross correlating for order: 97 | {\"filename\": \"lscnrs01-fl09-20180313-0031-e00.fits.fz\", \"site\": \"lsc\", \"instrument\": \"nres01\", \"epoch\": \"20180313\", \"request_num\": \"0001446787\", \"obstype\": \"TARGET\", \"filter\": null, \"processName\": \"MainProcess\"}\n",
      "2020-07-28 13:10:40.573     INFO:              rv: Cross correlating for order: 98 | {\"filename\": \"lscnrs01-fl09-20180313-0031-e00.fits.fz\", \"site\": \"lsc\", \"instrument\": \"nres01\", \"epoch\": \"20180313\", \"request_num\": \"0001446787\", \"obstype\": \"TARGET\", \"filter\": null, \"processName\": \"MainProcess\"}\n",
      "2020-07-28 13:10:40.928     INFO:              rv: Cross correlating for order: 99 | {\"filename\": \"lscnrs01-fl09-20180313-0031-e00.fits.fz\", \"site\": \"lsc\", \"instrument\": \"nres01\", \"epoch\": \"20180313\", \"request_num\": \"0001446787\", \"obstype\": \"TARGET\", \"filter\": null, \"processName\": \"MainProcess\"}\n",
      "2020-07-28 13:10:41.282     INFO:              rv: Cross correlating for order: 100 | {\"filename\": \"lscnrs01-fl09-20180313-0031-e00.fits.fz\", \"site\": \"lsc\", \"instrument\": \"nres01\", \"epoch\": \"20180313\", \"request_num\": \"0001446787\", \"obstype\": \"TARGET\", \"filter\": null, \"processName\": \"MainProcess\"}\n",
      "2020-07-28 13:10:41.637     INFO:              rv: Cross correlating for order: 75 | {\"filename\": \"lscnrs01-fl09-20180313-0031-e00.fits.fz\", \"site\": \"lsc\", \"instrument\": \"nres01\", \"epoch\": \"20180313\", \"request_num\": \"0001446787\", \"obstype\": \"TARGET\", \"filter\": null, \"processName\": \"MainProcess\"}\n",
      "2020-07-28 13:10:42.038     INFO:              rv: Cross correlating for order: 76 | {\"filename\": \"lscnrs01-fl09-20180313-0031-e00.fits.fz\", \"site\": \"lsc\", \"instrument\": \"nres01\", \"epoch\": \"20180313\", \"request_num\": \"0001446787\", \"obstype\": \"TARGET\", \"filter\": null, \"processName\": \"MainProcess\"}\n",
      "2020-07-28 13:10:42.442     INFO:              rv: Cross correlating for order: 77 | {\"filename\": \"lscnrs01-fl09-20180313-0031-e00.fits.fz\", \"site\": \"lsc\", \"instrument\": \"nres01\", \"epoch\": \"20180313\", \"request_num\": \"0001446787\", \"obstype\": \"TARGET\", \"filter\": null, \"processName\": \"MainProcess\"}\n",
      "2020-07-28 13:10:42.830     INFO:              rv: Cross correlating for order: 78 | {\"filename\": \"lscnrs01-fl09-20180313-0031-e00.fits.fz\", \"site\": \"lsc\", \"instrument\": \"nres01\", \"epoch\": \"20180313\", \"request_num\": \"0001446787\", \"obstype\": \"TARGET\", \"filter\": null, \"processName\": \"MainProcess\"}\n",
      "2020-07-28 13:10:43.220     INFO:              rv: Cross correlating for order: 79 | {\"filename\": \"lscnrs01-fl09-20180313-0031-e00.fits.fz\", \"site\": \"lsc\", \"instrument\": \"nres01\", \"epoch\": \"20180313\", \"request_num\": \"0001446787\", \"obstype\": \"TARGET\", \"filter\": null, \"processName\": \"MainProcess\"}\n",
      "2020-07-28 13:10:43.600     INFO:              rv: Cross correlating for order: 80 | {\"filename\": \"lscnrs01-fl09-20180313-0031-e00.fits.fz\", \"site\": \"lsc\", \"instrument\": \"nres01\", \"epoch\": \"20180313\", \"request_num\": \"0001446787\", \"obstype\": \"TARGET\", \"filter\": null, \"processName\": \"MainProcess\"}\n",
      "2020-07-28 13:10:43.979     INFO:              rv: Cross correlating for order: 81 | {\"filename\": \"lscnrs01-fl09-20180313-0031-e00.fits.fz\", \"site\": \"lsc\", \"instrument\": \"nres01\", \"epoch\": \"20180313\", \"request_num\": \"0001446787\", \"obstype\": \"TARGET\", \"filter\": null, \"processName\": \"MainProcess\"}\n",
      "2020-07-28 13:10:44.360     INFO:              rv: Cross correlating for order: 82 | {\"filename\": \"lscnrs01-fl09-20180313-0031-e00.fits.fz\", \"site\": \"lsc\", \"instrument\": \"nres01\", \"epoch\": \"20180313\", \"request_num\": \"0001446787\", \"obstype\": \"TARGET\", \"filter\": null, \"processName\": \"MainProcess\"}\n",
      "2020-07-28 13:10:44.745     INFO:              rv: Cross correlating for order: 83 | {\"filename\": \"lscnrs01-fl09-20180313-0031-e00.fits.fz\", \"site\": \"lsc\", \"instrument\": \"nres01\", \"epoch\": \"20180313\", \"request_num\": \"0001446787\", \"obstype\": \"TARGET\", \"filter\": null, \"processName\": \"MainProcess\"}\n",
      "2020-07-28 13:10:45.118     INFO:              rv: Cross correlating for order: 84 | {\"filename\": \"lscnrs01-fl09-20180313-0031-e00.fits.fz\", \"site\": \"lsc\", \"instrument\": \"nres01\", \"epoch\": \"20180313\", \"request_num\": \"0001446787\", \"obstype\": \"TARGET\", \"filter\": null, \"processName\": \"MainProcess\"}\n",
      "2020-07-28 13:10:45.498     INFO:              rv: Cross correlating for order: 85 | {\"filename\": \"lscnrs01-fl09-20180313-0031-e00.fits.fz\", \"site\": \"lsc\", \"instrument\": \"nres01\", \"epoch\": \"20180313\", \"request_num\": \"0001446787\", \"obstype\": \"TARGET\", \"filter\": null, \"processName\": \"MainProcess\"}\n",
      "2020-07-28 13:10:45.880     INFO:              rv: Cross correlating for order: 86 | {\"filename\": \"lscnrs01-fl09-20180313-0031-e00.fits.fz\", \"site\": \"lsc\", \"instrument\": \"nres01\", \"epoch\": \"20180313\", \"request_num\": \"0001446787\", \"obstype\": \"TARGET\", \"filter\": null, \"processName\": \"MainProcess\"}\n",
      "2020-07-28 13:10:46.259     INFO:              rv: Cross correlating for order: 87 | {\"filename\": \"lscnrs01-fl09-20180313-0031-e00.fits.fz\", \"site\": \"lsc\", \"instrument\": \"nres01\", \"epoch\": \"20180313\", \"request_num\": \"0001446787\", \"obstype\": \"TARGET\", \"filter\": null, \"processName\": \"MainProcess\"}\n",
      "2020-07-28 13:10:46.630     INFO:              rv: Cross correlating for order: 88 | {\"filename\": \"lscnrs01-fl09-20180313-0031-e00.fits.fz\", \"site\": \"lsc\", \"instrument\": \"nres01\", \"epoch\": \"20180313\", \"request_num\": \"0001446787\", \"obstype\": \"TARGET\", \"filter\": null, \"processName\": \"MainProcess\"}\n",
      "2020-07-28 13:10:47.011     INFO:              rv: Cross correlating for order: 89 | {\"filename\": \"lscnrs01-fl09-20180313-0031-e00.fits.fz\", \"site\": \"lsc\", \"instrument\": \"nres01\", \"epoch\": \"20180313\", \"request_num\": \"0001446787\", \"obstype\": \"TARGET\", \"filter\": null, \"processName\": \"MainProcess\"}\n",
      "2020-07-28 13:10:47.387     INFO:              rv: Cross correlating for order: 90 | {\"filename\": \"lscnrs01-fl09-20180313-0031-e00.fits.fz\", \"site\": \"lsc\", \"instrument\": \"nres01\", \"epoch\": \"20180313\", \"request_num\": \"0001446787\", \"obstype\": \"TARGET\", \"filter\": null, \"processName\": \"MainProcess\"}\n",
      "2020-07-28 13:10:47.758     INFO:              rv: Cross correlating for order: 91 | {\"filename\": \"lscnrs01-fl09-20180313-0031-e00.fits.fz\", \"site\": \"lsc\", \"instrument\": \"nres01\", \"epoch\": \"20180313\", \"request_num\": \"0001446787\", \"obstype\": \"TARGET\", \"filter\": null, \"processName\": \"MainProcess\"}\n",
      "2020-07-28 13:10:48.124     INFO:              rv: Cross correlating for order: 92 | {\"filename\": \"lscnrs01-fl09-20180313-0031-e00.fits.fz\", \"site\": \"lsc\", \"instrument\": \"nres01\", \"epoch\": \"20180313\", \"request_num\": \"0001446787\", \"obstype\": \"TARGET\", \"filter\": null, \"processName\": \"MainProcess\"}\n"
     ]
    },
    {
     "name": "stdout",
     "output_type": "stream",
     "text": [
      "2020-07-28 13:10:48.492     INFO:              rv: Cross correlating for order: 93 | {\"filename\": \"lscnrs01-fl09-20180313-0031-e00.fits.fz\", \"site\": \"lsc\", \"instrument\": \"nres01\", \"epoch\": \"20180313\", \"request_num\": \"0001446787\", \"obstype\": \"TARGET\", \"filter\": null, \"processName\": \"MainProcess\"}\n",
      "2020-07-28 13:10:48.873     INFO:              rv: Cross correlating for order: 94 | {\"filename\": \"lscnrs01-fl09-20180313-0031-e00.fits.fz\", \"site\": \"lsc\", \"instrument\": \"nres01\", \"epoch\": \"20180313\", \"request_num\": \"0001446787\", \"obstype\": \"TARGET\", \"filter\": null, \"processName\": \"MainProcess\"}\n",
      "2020-07-28 13:10:49.261     INFO:              rv: Cross correlating for order: 95 | {\"filename\": \"lscnrs01-fl09-20180313-0031-e00.fits.fz\", \"site\": \"lsc\", \"instrument\": \"nres01\", \"epoch\": \"20180313\", \"request_num\": \"0001446787\", \"obstype\": \"TARGET\", \"filter\": null, \"processName\": \"MainProcess\"}\n",
      "2020-07-28 13:10:49.639     INFO:              rv: Cross correlating for order: 96 | {\"filename\": \"lscnrs01-fl09-20180313-0031-e00.fits.fz\", \"site\": \"lsc\", \"instrument\": \"nres01\", \"epoch\": \"20180313\", \"request_num\": \"0001446787\", \"obstype\": \"TARGET\", \"filter\": null, \"processName\": \"MainProcess\"}\n",
      "2020-07-28 13:10:50.014     INFO:              rv: Cross correlating for order: 97 | {\"filename\": \"lscnrs01-fl09-20180313-0031-e00.fits.fz\", \"site\": \"lsc\", \"instrument\": \"nres01\", \"epoch\": \"20180313\", \"request_num\": \"0001446787\", \"obstype\": \"TARGET\", \"filter\": null, \"processName\": \"MainProcess\"}\n",
      "2020-07-28 13:10:50.382     INFO:              rv: Cross correlating for order: 98 | {\"filename\": \"lscnrs01-fl09-20180313-0031-e00.fits.fz\", \"site\": \"lsc\", \"instrument\": \"nres01\", \"epoch\": \"20180313\", \"request_num\": \"0001446787\", \"obstype\": \"TARGET\", \"filter\": null, \"processName\": \"MainProcess\"}\n",
      "2020-07-28 13:10:50.750     INFO:              rv: Cross correlating for order: 99 | {\"filename\": \"lscnrs01-fl09-20180313-0031-e00.fits.fz\", \"site\": \"lsc\", \"instrument\": \"nres01\", \"epoch\": \"20180313\", \"request_num\": \"0001446787\", \"obstype\": \"TARGET\", \"filter\": null, \"processName\": \"MainProcess\"}\n",
      "2020-07-28 13:10:51.112     INFO:              rv: Cross correlating for order: 100 | {\"filename\": \"lscnrs01-fl09-20180313-0031-e00.fits.fz\", \"site\": \"lsc\", \"instrument\": \"nres01\", \"epoch\": \"20180313\", \"request_num\": \"0001446787\", \"obstype\": \"TARGET\", \"filter\": null, \"processName\": \"MainProcess\"}\n",
      "2020-07-28 13:10:59.647     INFO:          stages: Running banzai.stages.BadPixelMaskLoader | {\"filename\": \"lscnrs01-fl09-20180313-0029-e00.fits.fz\", \"site\": \"lsc\", \"instrument\": \"nres01\", \"epoch\": \"20180313\", \"request_num\": \"0001446787\", \"obstype\": \"TARGET\", \"filter\": null, \"processName\": \"MainProcess\"}\n",
      "2020-07-28 13:10:59.835     INFO:    calibrations: Applying master calibration | {\"filename\": \"lscnrs01-fl09-20180313-0029-e00.fits.fz\", \"site\": \"lsc\", \"instrument\": \"nres01\", \"epoch\": \"20180313\", \"request_num\": \"0001446787\", \"obstype\": \"TARGET\", \"filter\": null, \"master_calibration\": \"bpm-lsc-nres01-fl09-20180215.fits.fz\", \"processName\": \"MainProcess\"}\n",
      "2020-07-28 13:10:59.868     INFO:          stages: Running banzai.stages.OverscanSubtractor | {\"filename\": \"lscnrs01-fl09-20180313-0029-e00.fits.fz\", \"site\": \"lsc\", \"instrument\": \"nres01\", \"epoch\": \"20180313\", \"request_num\": \"0001446787\", \"obstype\": \"TARGET\", \"filter\": null, \"processName\": \"MainProcess\"}\n",
      "2020-07-28 13:10:59.895     INFO:          stages: Running banzai.stages.GainNormalizer | {\"filename\": \"lscnrs01-fl09-20180313-0029-e00.fits.fz\", \"site\": \"lsc\", \"instrument\": \"nres01\", \"epoch\": \"20180313\", \"request_num\": \"0001446787\", \"obstype\": \"TARGET\", \"filter\": null, \"processName\": \"MainProcess\"}\n",
      "2020-07-28 13:10:59.896     INFO:            gain: Multiplying by gain | {\"filename\": \"lscnrs01-fl09-20180313-0029-e00.fits.fz\", \"site\": \"lsc\", \"instrument\": \"nres01\", \"epoch\": \"20180313\", \"request_num\": \"0001446787\", \"obstype\": \"TARGET\", \"filter\": null, \"processName\": \"MainProcess\"}\n",
      "2020-07-28 13:10:59.929     INFO:          stages: Running banzai.stages.Trimmer | {\"filename\": \"lscnrs01-fl09-20180313-0029-e00.fits.fz\", \"site\": \"lsc\", \"instrument\": \"nres01\", \"epoch\": \"20180313\", \"request_num\": \"0001446787\", \"obstype\": \"TARGET\", \"filter\": null, \"processName\": \"MainProcess\"}\n",
      "2020-07-28 13:10:59.930     INFO:            trim: Trimming image | {\"filename\": \"lscnrs01-fl09-20180313-0029-e00.fits.fz\", \"site\": \"lsc\", \"instrument\": \"nres01\", \"epoch\": \"20180313\", \"request_num\": \"0001446787\", \"obstype\": \"TARGET\", \"filter\": null, \"processName\": \"MainProcess\"}\n",
      "2020-07-28 13:11:00.180     INFO:          stages: Running banzai.stages.BiasSubtractor | {\"filename\": \"lscnrs01-fl09-20180313-0029-e00.fits.fz\", \"site\": \"lsc\", \"instrument\": \"nres01\", \"epoch\": \"20180313\", \"request_num\": \"0001446787\", \"obstype\": \"TARGET\", \"filter\": null, \"processName\": \"MainProcess\"}\n",
      "2020-07-28 13:11:00.872     INFO:    calibrations: Applying master calibration | {\"filename\": \"lscnrs01-fl09-20180313-0029-e00.fits.fz\", \"site\": \"lsc\", \"instrument\": \"nres01\", \"epoch\": \"20180313\", \"request_num\": \"0001446787\", \"obstype\": \"TARGET\", \"filter\": null, \"master_calibration\": \"lscnrs01-fl09-20180313-bias-bin1x1.fits.fz\", \"processName\": \"MainProcess\"}\n",
      "2020-07-28 13:11:01.062     INFO:          stages: Running banzai.stages.PoissonInitializer | {\"filename\": \"lscnrs01-fl09-20180313-0029-e00.fits.fz\", \"site\": \"lsc\", \"instrument\": \"nres01\", \"epoch\": \"20180313\", \"request_num\": \"0001446787\", \"obstype\": \"TARGET\", \"filter\": null, \"processName\": \"MainProcess\"}\n",
      "2020-07-28 13:11:01.175     INFO:          stages: Running banzai.stages.DarkSubtractor | {\"filename\": \"lscnrs01-fl09-20180313-0029-e00.fits.fz\", \"site\": \"lsc\", \"instrument\": \"nres01\", \"epoch\": \"20180313\", \"request_num\": \"0001446787\", \"obstype\": \"TARGET\", \"filter\": null, \"processName\": \"MainProcess\"}\n",
      "2020-07-28 13:11:01.890     INFO:    calibrations: Applying master calibration | {\"filename\": \"lscnrs01-fl09-20180313-0029-e00.fits.fz\", \"site\": \"lsc\", \"instrument\": \"nres01\", \"epoch\": \"20180313\", \"request_num\": \"0001446787\", \"obstype\": \"TARGET\", \"filter\": null, \"master_calibration\": \"lscnrs01-fl09-20180313-dark-bin1x1.fits.fz\", \"processName\": \"MainProcess\"}\n",
      "2020-07-28 13:11:02.055     INFO:          stages: Running banzai.stages.FlatLoader | {\"filename\": \"lscnrs01-fl09-20180313-0029-e00.fits.fz\", \"site\": \"lsc\", \"instrument\": \"nres01\", \"epoch\": \"20180313\", \"request_num\": \"0001446787\", \"obstype\": \"TARGET\", \"filter\": null, \"processName\": \"MainProcess\"}\n",
      "2020-07-28 13:11:03.405     INFO:    calibrations: Applying master calibration | {\"filename\": \"lscnrs01-fl09-20180313-0029-e00.fits.fz\", \"site\": \"lsc\", \"instrument\": \"nres01\", \"epoch\": \"20180313\", \"request_num\": \"0001446787\", \"obstype\": \"TARGET\", \"filter\": null, \"master_calibration\": \"lscnrs01-fl09-20180313-lampflat-bin1x1-110.fits.fz\", \"processName\": \"MainProcess\"}\n",
      "2020-07-28 13:11:03.529     INFO:          stages: Running banzai.stages.BackgroundSubtractor | {\"filename\": \"lscnrs01-fl09-20180313-0029-e00.fits.fz\", \"site\": \"lsc\", \"instrument\": \"nres01\", \"epoch\": \"20180313\", \"request_num\": \"0001446787\", \"obstype\": \"TARGET\", \"filter\": null, \"processName\": \"MainProcess\"}\n",
      "2020-07-28 13:11:03.915     INFO:          stages: Running banzai.stages.ArcLoader | {\"filename\": \"lscnrs01-fl09-20180313-0029-e00.fits.fz\", \"site\": \"lsc\", \"instrument\": \"nres01\", \"epoch\": \"20180313\", \"request_num\": \"0001446787\", \"obstype\": \"TARGET\", \"filter\": null, \"processName\": \"MainProcess\"}\n",
      "2020-07-28 13:11:05.624     INFO:    calibrations: Applying master calibration | {\"filename\": \"lscnrs01-fl09-20180313-0029-e00.fits.fz\", \"site\": \"lsc\", \"instrument\": \"nres01\", \"epoch\": \"20180313\", \"request_num\": \"0001446787\", \"obstype\": \"TARGET\", \"filter\": null, \"master_calibration\": \"lscnrs01-fl09-20180313-double-bin1x1-110.fits.fz\", \"processName\": \"MainProcess\"}\n",
      "2020-07-28 13:11:05.751     INFO:          stages: Running banzai.stages.GetOptimalExtractionWeights | {\"filename\": \"lscnrs01-fl09-20180313-0029-e00.fits.fz\", \"site\": \"lsc\", \"instrument\": \"nres01\", \"epoch\": \"20180313\", \"request_num\": \"0001446787\", \"obstype\": \"TARGET\", \"filter\": null, \"processName\": \"MainProcess\"}\n",
      "2020-07-28 13:11:22.109     INFO:          stages: Running banzai.stages.WeightedExtract | {\"filename\": \"lscnrs01-fl09-20180313-0029-e00.fits.fz\", \"site\": \"lsc\", \"instrument\": \"nres01\", \"epoch\": \"20180313\", \"request_num\": \"0001446787\", \"obstype\": \"TARGET\", \"filter\": null, \"processName\": \"MainProcess\"}\n"
     ]
    },
    {
     "name": "stdout",
     "output_type": "stream",
     "text": [
      "2020-07-28 13:11:38.312     INFO:          stages: Running banzai.stages.ContinuumNormalizer | {\"filename\": \"lscnrs01-fl09-20180313-0029-e00.fits.fz\", \"site\": \"lsc\", \"instrument\": \"nres01\", \"epoch\": \"20180313\", \"request_num\": \"0001446787\", \"obstype\": \"TARGET\", \"filter\": null, \"processName\": \"MainProcess\"}\n",
      "2020-07-28 13:11:39.433     INFO:          stages: Running banzai.stages.RVCalculator | {\"filename\": \"lscnrs01-fl09-20180313-0029-e00.fits.fz\", \"site\": \"lsc\", \"instrument\": \"nres01\", \"epoch\": \"20180313\", \"request_num\": \"0001446787\", \"obstype\": \"TARGET\", \"filter\": null, \"processName\": \"MainProcess\"}\n",
      "2020-07-28 13:11:39.437     INFO:              rv: Cross correlating for order: 75 | {\"filename\": \"lscnrs01-fl09-20180313-0029-e00.fits.fz\", \"site\": \"lsc\", \"instrument\": \"nres01\", \"epoch\": \"20180313\", \"request_num\": \"0001446787\", \"obstype\": \"TARGET\", \"filter\": null, \"processName\": \"MainProcess\"}\n",
      "2020-07-28 13:11:39.854     INFO:              rv: Cross correlating for order: 76 | {\"filename\": \"lscnrs01-fl09-20180313-0029-e00.fits.fz\", \"site\": \"lsc\", \"instrument\": \"nres01\", \"epoch\": \"20180313\", \"request_num\": \"0001446787\", \"obstype\": \"TARGET\", \"filter\": null, \"processName\": \"MainProcess\"}\n",
      "2020-07-28 13:11:40.241     INFO:              rv: Cross correlating for order: 77 | {\"filename\": \"lscnrs01-fl09-20180313-0029-e00.fits.fz\", \"site\": \"lsc\", \"instrument\": \"nres01\", \"epoch\": \"20180313\", \"request_num\": \"0001446787\", \"obstype\": \"TARGET\", \"filter\": null, \"processName\": \"MainProcess\"}\n",
      "2020-07-28 13:11:40.627     INFO:              rv: Cross correlating for order: 78 | {\"filename\": \"lscnrs01-fl09-20180313-0029-e00.fits.fz\", \"site\": \"lsc\", \"instrument\": \"nres01\", \"epoch\": \"20180313\", \"request_num\": \"0001446787\", \"obstype\": \"TARGET\", \"filter\": null, \"processName\": \"MainProcess\"}\n",
      "2020-07-28 13:11:40.997     INFO:              rv: Cross correlating for order: 79 | {\"filename\": \"lscnrs01-fl09-20180313-0029-e00.fits.fz\", \"site\": \"lsc\", \"instrument\": \"nres01\", \"epoch\": \"20180313\", \"request_num\": \"0001446787\", \"obstype\": \"TARGET\", \"filter\": null, \"processName\": \"MainProcess\"}\n",
      "2020-07-28 13:11:41.365     INFO:              rv: Cross correlating for order: 80 | {\"filename\": \"lscnrs01-fl09-20180313-0029-e00.fits.fz\", \"site\": \"lsc\", \"instrument\": \"nres01\", \"epoch\": \"20180313\", \"request_num\": \"0001446787\", \"obstype\": \"TARGET\", \"filter\": null, \"processName\": \"MainProcess\"}\n",
      "2020-07-28 13:11:41.737     INFO:              rv: Cross correlating for order: 81 | {\"filename\": \"lscnrs01-fl09-20180313-0029-e00.fits.fz\", \"site\": \"lsc\", \"instrument\": \"nres01\", \"epoch\": \"20180313\", \"request_num\": \"0001446787\", \"obstype\": \"TARGET\", \"filter\": null, \"processName\": \"MainProcess\"}\n",
      "2020-07-28 13:11:42.108     INFO:              rv: Cross correlating for order: 82 | {\"filename\": \"lscnrs01-fl09-20180313-0029-e00.fits.fz\", \"site\": \"lsc\", \"instrument\": \"nres01\", \"epoch\": \"20180313\", \"request_num\": \"0001446787\", \"obstype\": \"TARGET\", \"filter\": null, \"processName\": \"MainProcess\"}\n",
      "2020-07-28 13:11:42.473     INFO:              rv: Cross correlating for order: 83 | {\"filename\": \"lscnrs01-fl09-20180313-0029-e00.fits.fz\", \"site\": \"lsc\", \"instrument\": \"nres01\", \"epoch\": \"20180313\", \"request_num\": \"0001446787\", \"obstype\": \"TARGET\", \"filter\": null, \"processName\": \"MainProcess\"}\n",
      "2020-07-28 13:11:42.841     INFO:              rv: Cross correlating for order: 84 | {\"filename\": \"lscnrs01-fl09-20180313-0029-e00.fits.fz\", \"site\": \"lsc\", \"instrument\": \"nres01\", \"epoch\": \"20180313\", \"request_num\": \"0001446787\", \"obstype\": \"TARGET\", \"filter\": null, \"processName\": \"MainProcess\"}\n",
      "2020-07-28 13:11:43.218     INFO:              rv: Cross correlating for order: 85 | {\"filename\": \"lscnrs01-fl09-20180313-0029-e00.fits.fz\", \"site\": \"lsc\", \"instrument\": \"nres01\", \"epoch\": \"20180313\", \"request_num\": \"0001446787\", \"obstype\": \"TARGET\", \"filter\": null, \"processName\": \"MainProcess\"}\n",
      "2020-07-28 13:11:43.594     INFO:              rv: Cross correlating for order: 86 | {\"filename\": \"lscnrs01-fl09-20180313-0029-e00.fits.fz\", \"site\": \"lsc\", \"instrument\": \"nres01\", \"epoch\": \"20180313\", \"request_num\": \"0001446787\", \"obstype\": \"TARGET\", \"filter\": null, \"processName\": \"MainProcess\"}\n",
      "2020-07-28 13:11:43.972     INFO:              rv: Cross correlating for order: 87 | {\"filename\": \"lscnrs01-fl09-20180313-0029-e00.fits.fz\", \"site\": \"lsc\", \"instrument\": \"nres01\", \"epoch\": \"20180313\", \"request_num\": \"0001446787\", \"obstype\": \"TARGET\", \"filter\": null, \"processName\": \"MainProcess\"}\n",
      "2020-07-28 13:11:44.334     INFO:              rv: Cross correlating for order: 88 | {\"filename\": \"lscnrs01-fl09-20180313-0029-e00.fits.fz\", \"site\": \"lsc\", \"instrument\": \"nres01\", \"epoch\": \"20180313\", \"request_num\": \"0001446787\", \"obstype\": \"TARGET\", \"filter\": null, \"processName\": \"MainProcess\"}\n",
      "2020-07-28 13:11:44.701     INFO:              rv: Cross correlating for order: 89 | {\"filename\": \"lscnrs01-fl09-20180313-0029-e00.fits.fz\", \"site\": \"lsc\", \"instrument\": \"nres01\", \"epoch\": \"20180313\", \"request_num\": \"0001446787\", \"obstype\": \"TARGET\", \"filter\": null, \"processName\": \"MainProcess\"}\n",
      "2020-07-28 13:11:45.061     INFO:              rv: Cross correlating for order: 90 | {\"filename\": \"lscnrs01-fl09-20180313-0029-e00.fits.fz\", \"site\": \"lsc\", \"instrument\": \"nres01\", \"epoch\": \"20180313\", \"request_num\": \"0001446787\", \"obstype\": \"TARGET\", \"filter\": null, \"processName\": \"MainProcess\"}\n",
      "2020-07-28 13:11:45.424     INFO:              rv: Cross correlating for order: 91 | {\"filename\": \"lscnrs01-fl09-20180313-0029-e00.fits.fz\", \"site\": \"lsc\", \"instrument\": \"nres01\", \"epoch\": \"20180313\", \"request_num\": \"0001446787\", \"obstype\": \"TARGET\", \"filter\": null, \"processName\": \"MainProcess\"}\n",
      "2020-07-28 13:11:45.801     INFO:              rv: Cross correlating for order: 92 | {\"filename\": \"lscnrs01-fl09-20180313-0029-e00.fits.fz\", \"site\": \"lsc\", \"instrument\": \"nres01\", \"epoch\": \"20180313\", \"request_num\": \"0001446787\", \"obstype\": \"TARGET\", \"filter\": null, \"processName\": \"MainProcess\"}\n",
      "2020-07-28 13:11:46.156     INFO:              rv: Cross correlating for order: 93 | {\"filename\": \"lscnrs01-fl09-20180313-0029-e00.fits.fz\", \"site\": \"lsc\", \"instrument\": \"nres01\", \"epoch\": \"20180313\", \"request_num\": \"0001446787\", \"obstype\": \"TARGET\", \"filter\": null, \"processName\": \"MainProcess\"}\n",
      "2020-07-28 13:11:46.524     INFO:              rv: Cross correlating for order: 94 | {\"filename\": \"lscnrs01-fl09-20180313-0029-e00.fits.fz\", \"site\": \"lsc\", \"instrument\": \"nres01\", \"epoch\": \"20180313\", \"request_num\": \"0001446787\", \"obstype\": \"TARGET\", \"filter\": null, \"processName\": \"MainProcess\"}\n",
      "2020-07-28 13:11:46.900     INFO:              rv: Cross correlating for order: 95 | {\"filename\": \"lscnrs01-fl09-20180313-0029-e00.fits.fz\", \"site\": \"lsc\", \"instrument\": \"nres01\", \"epoch\": \"20180313\", \"request_num\": \"0001446787\", \"obstype\": \"TARGET\", \"filter\": null, \"processName\": \"MainProcess\"}\n",
      "2020-07-28 13:11:47.267     INFO:              rv: Cross correlating for order: 96 | {\"filename\": \"lscnrs01-fl09-20180313-0029-e00.fits.fz\", \"site\": \"lsc\", \"instrument\": \"nres01\", \"epoch\": \"20180313\", \"request_num\": \"0001446787\", \"obstype\": \"TARGET\", \"filter\": null, \"processName\": \"MainProcess\"}\n",
      "2020-07-28 13:11:47.631     INFO:              rv: Cross correlating for order: 97 | {\"filename\": \"lscnrs01-fl09-20180313-0029-e00.fits.fz\", \"site\": \"lsc\", \"instrument\": \"nres01\", \"epoch\": \"20180313\", \"request_num\": \"0001446787\", \"obstype\": \"TARGET\", \"filter\": null, \"processName\": \"MainProcess\"}\n",
      "2020-07-28 13:11:47.993     INFO:              rv: Cross correlating for order: 98 | {\"filename\": \"lscnrs01-fl09-20180313-0029-e00.fits.fz\", \"site\": \"lsc\", \"instrument\": \"nres01\", \"epoch\": \"20180313\", \"request_num\": \"0001446787\", \"obstype\": \"TARGET\", \"filter\": null, \"processName\": \"MainProcess\"}\n",
      "2020-07-28 13:11:48.352     INFO:              rv: Cross correlating for order: 99 | {\"filename\": \"lscnrs01-fl09-20180313-0029-e00.fits.fz\", \"site\": \"lsc\", \"instrument\": \"nres01\", \"epoch\": \"20180313\", \"request_num\": \"0001446787\", \"obstype\": \"TARGET\", \"filter\": null, \"processName\": \"MainProcess\"}\n",
      "2020-07-28 13:11:48.703     INFO:              rv: Cross correlating for order: 100 | {\"filename\": \"lscnrs01-fl09-20180313-0029-e00.fits.fz\", \"site\": \"lsc\", \"instrument\": \"nres01\", \"epoch\": \"20180313\", \"request_num\": \"0001446787\", \"obstype\": \"TARGET\", \"filter\": null, \"processName\": \"MainProcess\"}\n"
     ]
    },
    {
     "name": "stdout",
     "output_type": "stream",
     "text": [
      "2020-07-28 13:11:49.054     INFO:              rv: Cross correlating for order: 75 | {\"filename\": \"lscnrs01-fl09-20180313-0029-e00.fits.fz\", \"site\": \"lsc\", \"instrument\": \"nres01\", \"epoch\": \"20180313\", \"request_num\": \"0001446787\", \"obstype\": \"TARGET\", \"filter\": null, \"processName\": \"MainProcess\"}\n",
      "2020-07-28 13:11:49.446     INFO:              rv: Cross correlating for order: 76 | {\"filename\": \"lscnrs01-fl09-20180313-0029-e00.fits.fz\", \"site\": \"lsc\", \"instrument\": \"nres01\", \"epoch\": \"20180313\", \"request_num\": \"0001446787\", \"obstype\": \"TARGET\", \"filter\": null, \"processName\": \"MainProcess\"}\n",
      "2020-07-28 13:11:49.857     INFO:              rv: Cross correlating for order: 77 | {\"filename\": \"lscnrs01-fl09-20180313-0029-e00.fits.fz\", \"site\": \"lsc\", \"instrument\": \"nres01\", \"epoch\": \"20180313\", \"request_num\": \"0001446787\", \"obstype\": \"TARGET\", \"filter\": null, \"processName\": \"MainProcess\"}\n",
      "2020-07-28 13:11:50.246     INFO:              rv: Cross correlating for order: 78 | {\"filename\": \"lscnrs01-fl09-20180313-0029-e00.fits.fz\", \"site\": \"lsc\", \"instrument\": \"nres01\", \"epoch\": \"20180313\", \"request_num\": \"0001446787\", \"obstype\": \"TARGET\", \"filter\": null, \"processName\": \"MainProcess\"}\n",
      "2020-07-28 13:11:50.635     INFO:              rv: Cross correlating for order: 79 | {\"filename\": \"lscnrs01-fl09-20180313-0029-e00.fits.fz\", \"site\": \"lsc\", \"instrument\": \"nres01\", \"epoch\": \"20180313\", \"request_num\": \"0001446787\", \"obstype\": \"TARGET\", \"filter\": null, \"processName\": \"MainProcess\"}\n",
      "2020-07-28 13:11:51.018     INFO:              rv: Cross correlating for order: 80 | {\"filename\": \"lscnrs01-fl09-20180313-0029-e00.fits.fz\", \"site\": \"lsc\", \"instrument\": \"nres01\", \"epoch\": \"20180313\", \"request_num\": \"0001446787\", \"obstype\": \"TARGET\", \"filter\": null, \"processName\": \"MainProcess\"}\n",
      "2020-07-28 13:11:51.398     INFO:              rv: Cross correlating for order: 81 | {\"filename\": \"lscnrs01-fl09-20180313-0029-e00.fits.fz\", \"site\": \"lsc\", \"instrument\": \"nres01\", \"epoch\": \"20180313\", \"request_num\": \"0001446787\", \"obstype\": \"TARGET\", \"filter\": null, \"processName\": \"MainProcess\"}\n",
      "2020-07-28 13:11:51.774     INFO:              rv: Cross correlating for order: 82 | {\"filename\": \"lscnrs01-fl09-20180313-0029-e00.fits.fz\", \"site\": \"lsc\", \"instrument\": \"nres01\", \"epoch\": \"20180313\", \"request_num\": \"0001446787\", \"obstype\": \"TARGET\", \"filter\": null, \"processName\": \"MainProcess\"}\n",
      "2020-07-28 13:11:52.157     INFO:              rv: Cross correlating for order: 83 | {\"filename\": \"lscnrs01-fl09-20180313-0029-e00.fits.fz\", \"site\": \"lsc\", \"instrument\": \"nres01\", \"epoch\": \"20180313\", \"request_num\": \"0001446787\", \"obstype\": \"TARGET\", \"filter\": null, \"processName\": \"MainProcess\"}\n",
      "2020-07-28 13:11:52.548     INFO:              rv: Cross correlating for order: 84 | {\"filename\": \"lscnrs01-fl09-20180313-0029-e00.fits.fz\", \"site\": \"lsc\", \"instrument\": \"nres01\", \"epoch\": \"20180313\", \"request_num\": \"0001446787\", \"obstype\": \"TARGET\", \"filter\": null, \"processName\": \"MainProcess\"}\n",
      "2020-07-28 13:11:52.929     INFO:              rv: Cross correlating for order: 85 | {\"filename\": \"lscnrs01-fl09-20180313-0029-e00.fits.fz\", \"site\": \"lsc\", \"instrument\": \"nres01\", \"epoch\": \"20180313\", \"request_num\": \"0001446787\", \"obstype\": \"TARGET\", \"filter\": null, \"processName\": \"MainProcess\"}\n",
      "2020-07-28 13:11:53.312     INFO:              rv: Cross correlating for order: 86 | {\"filename\": \"lscnrs01-fl09-20180313-0029-e00.fits.fz\", \"site\": \"lsc\", \"instrument\": \"nres01\", \"epoch\": \"20180313\", \"request_num\": \"0001446787\", \"obstype\": \"TARGET\", \"filter\": null, \"processName\": \"MainProcess\"}\n",
      "2020-07-28 13:11:53.684     INFO:              rv: Cross correlating for order: 87 | {\"filename\": \"lscnrs01-fl09-20180313-0029-e00.fits.fz\", \"site\": \"lsc\", \"instrument\": \"nres01\", \"epoch\": \"20180313\", \"request_num\": \"0001446787\", \"obstype\": \"TARGET\", \"filter\": null, \"processName\": \"MainProcess\"}\n",
      "2020-07-28 13:11:54.054     INFO:              rv: Cross correlating for order: 88 | {\"filename\": \"lscnrs01-fl09-20180313-0029-e00.fits.fz\", \"site\": \"lsc\", \"instrument\": \"nres01\", \"epoch\": \"20180313\", \"request_num\": \"0001446787\", \"obstype\": \"TARGET\", \"filter\": null, \"processName\": \"MainProcess\"}\n",
      "2020-07-28 13:11:54.435     INFO:              rv: Cross correlating for order: 89 | {\"filename\": \"lscnrs01-fl09-20180313-0029-e00.fits.fz\", \"site\": \"lsc\", \"instrument\": \"nres01\", \"epoch\": \"20180313\", \"request_num\": \"0001446787\", \"obstype\": \"TARGET\", \"filter\": null, \"processName\": \"MainProcess\"}\n",
      "2020-07-28 13:11:54.803     INFO:              rv: Cross correlating for order: 90 | {\"filename\": \"lscnrs01-fl09-20180313-0029-e00.fits.fz\", \"site\": \"lsc\", \"instrument\": \"nres01\", \"epoch\": \"20180313\", \"request_num\": \"0001446787\", \"obstype\": \"TARGET\", \"filter\": null, \"processName\": \"MainProcess\"}\n",
      "2020-07-28 13:11:55.173     INFO:              rv: Cross correlating for order: 91 | {\"filename\": \"lscnrs01-fl09-20180313-0029-e00.fits.fz\", \"site\": \"lsc\", \"instrument\": \"nres01\", \"epoch\": \"20180313\", \"request_num\": \"0001446787\", \"obstype\": \"TARGET\", \"filter\": null, \"processName\": \"MainProcess\"}\n",
      "2020-07-28 13:11:55.536     INFO:              rv: Cross correlating for order: 92 | {\"filename\": \"lscnrs01-fl09-20180313-0029-e00.fits.fz\", \"site\": \"lsc\", \"instrument\": \"nres01\", \"epoch\": \"20180313\", \"request_num\": \"0001446787\", \"obstype\": \"TARGET\", \"filter\": null, \"processName\": \"MainProcess\"}\n",
      "2020-07-28 13:11:55.906     INFO:              rv: Cross correlating for order: 93 | {\"filename\": \"lscnrs01-fl09-20180313-0029-e00.fits.fz\", \"site\": \"lsc\", \"instrument\": \"nres01\", \"epoch\": \"20180313\", \"request_num\": \"0001446787\", \"obstype\": \"TARGET\", \"filter\": null, \"processName\": \"MainProcess\"}\n",
      "2020-07-28 13:11:56.290     INFO:              rv: Cross correlating for order: 94 | {\"filename\": \"lscnrs01-fl09-20180313-0029-e00.fits.fz\", \"site\": \"lsc\", \"instrument\": \"nres01\", \"epoch\": \"20180313\", \"request_num\": \"0001446787\", \"obstype\": \"TARGET\", \"filter\": null, \"processName\": \"MainProcess\"}\n",
      "2020-07-28 13:11:56.680     INFO:              rv: Cross correlating for order: 95 | {\"filename\": \"lscnrs01-fl09-20180313-0029-e00.fits.fz\", \"site\": \"lsc\", \"instrument\": \"nres01\", \"epoch\": \"20180313\", \"request_num\": \"0001446787\", \"obstype\": \"TARGET\", \"filter\": null, \"processName\": \"MainProcess\"}\n",
      "2020-07-28 13:11:57.064     INFO:              rv: Cross correlating for order: 96 | {\"filename\": \"lscnrs01-fl09-20180313-0029-e00.fits.fz\", \"site\": \"lsc\", \"instrument\": \"nres01\", \"epoch\": \"20180313\", \"request_num\": \"0001446787\", \"obstype\": \"TARGET\", \"filter\": null, \"processName\": \"MainProcess\"}\n",
      "2020-07-28 13:11:57.445     INFO:              rv: Cross correlating for order: 97 | {\"filename\": \"lscnrs01-fl09-20180313-0029-e00.fits.fz\", \"site\": \"lsc\", \"instrument\": \"nres01\", \"epoch\": \"20180313\", \"request_num\": \"0001446787\", \"obstype\": \"TARGET\", \"filter\": null, \"processName\": \"MainProcess\"}\n",
      "2020-07-28 13:11:57.825     INFO:              rv: Cross correlating for order: 98 | {\"filename\": \"lscnrs01-fl09-20180313-0029-e00.fits.fz\", \"site\": \"lsc\", \"instrument\": \"nres01\", \"epoch\": \"20180313\", \"request_num\": \"0001446787\", \"obstype\": \"TARGET\", \"filter\": null, \"processName\": \"MainProcess\"}\n",
      "2020-07-28 13:11:58.199     INFO:              rv: Cross correlating for order: 99 | {\"filename\": \"lscnrs01-fl09-20180313-0029-e00.fits.fz\", \"site\": \"lsc\", \"instrument\": \"nres01\", \"epoch\": \"20180313\", \"request_num\": \"0001446787\", \"obstype\": \"TARGET\", \"filter\": null, \"processName\": \"MainProcess\"}\n",
      "2020-07-28 13:11:58.565     INFO:              rv: Cross correlating for order: 100 | {\"filename\": \"lscnrs01-fl09-20180313-0029-e00.fits.fz\", \"site\": \"lsc\", \"instrument\": \"nres01\", \"epoch\": \"20180313\", \"request_num\": \"0001446787\", \"obstype\": \"TARGET\", \"filter\": null, \"processName\": \"MainProcess\"}\n",
      "2020-07-28 13:12:07.266     INFO:          stages: Running banzai.stages.BadPixelMaskLoader | {\"filename\": \"lscnrs01-fl09-20180313-0028-e00.fits.fz\", \"site\": \"lsc\", \"instrument\": \"nres01\", \"epoch\": \"20180313\", \"request_num\": \"0001446787\", \"obstype\": \"TARGET\", \"filter\": null, \"processName\": \"MainProcess\"}\n",
      "2020-07-28 13:12:07.469     INFO:    calibrations: Applying master calibration | {\"filename\": \"lscnrs01-fl09-20180313-0028-e00.fits.fz\", \"site\": \"lsc\", \"instrument\": \"nres01\", \"epoch\": \"20180313\", \"request_num\": \"0001446787\", \"obstype\": \"TARGET\", \"filter\": null, \"master_calibration\": \"bpm-lsc-nres01-fl09-20180215.fits.fz\", \"processName\": \"MainProcess\"}\n"
     ]
    },
    {
     "name": "stdout",
     "output_type": "stream",
     "text": [
      "2020-07-28 13:12:07.503     INFO:          stages: Running banzai.stages.OverscanSubtractor | {\"filename\": \"lscnrs01-fl09-20180313-0028-e00.fits.fz\", \"site\": \"lsc\", \"instrument\": \"nres01\", \"epoch\": \"20180313\", \"request_num\": \"0001446787\", \"obstype\": \"TARGET\", \"filter\": null, \"processName\": \"MainProcess\"}\n",
      "2020-07-28 13:12:07.530     INFO:          stages: Running banzai.stages.GainNormalizer | {\"filename\": \"lscnrs01-fl09-20180313-0028-e00.fits.fz\", \"site\": \"lsc\", \"instrument\": \"nres01\", \"epoch\": \"20180313\", \"request_num\": \"0001446787\", \"obstype\": \"TARGET\", \"filter\": null, \"processName\": \"MainProcess\"}\n",
      "2020-07-28 13:12:07.531     INFO:            gain: Multiplying by gain | {\"filename\": \"lscnrs01-fl09-20180313-0028-e00.fits.fz\", \"site\": \"lsc\", \"instrument\": \"nres01\", \"epoch\": \"20180313\", \"request_num\": \"0001446787\", \"obstype\": \"TARGET\", \"filter\": null, \"processName\": \"MainProcess\"}\n",
      "2020-07-28 13:12:07.565     INFO:          stages: Running banzai.stages.Trimmer | {\"filename\": \"lscnrs01-fl09-20180313-0028-e00.fits.fz\", \"site\": \"lsc\", \"instrument\": \"nres01\", \"epoch\": \"20180313\", \"request_num\": \"0001446787\", \"obstype\": \"TARGET\", \"filter\": null, \"processName\": \"MainProcess\"}\n",
      "2020-07-28 13:12:07.566     INFO:            trim: Trimming image | {\"filename\": \"lscnrs01-fl09-20180313-0028-e00.fits.fz\", \"site\": \"lsc\", \"instrument\": \"nres01\", \"epoch\": \"20180313\", \"request_num\": \"0001446787\", \"obstype\": \"TARGET\", \"filter\": null, \"processName\": \"MainProcess\"}\n",
      "2020-07-28 13:12:07.817     INFO:          stages: Running banzai.stages.BiasSubtractor | {\"filename\": \"lscnrs01-fl09-20180313-0028-e00.fits.fz\", \"site\": \"lsc\", \"instrument\": \"nres01\", \"epoch\": \"20180313\", \"request_num\": \"0001446787\", \"obstype\": \"TARGET\", \"filter\": null, \"processName\": \"MainProcess\"}\n",
      "2020-07-28 13:12:08.516     INFO:    calibrations: Applying master calibration | {\"filename\": \"lscnrs01-fl09-20180313-0028-e00.fits.fz\", \"site\": \"lsc\", \"instrument\": \"nres01\", \"epoch\": \"20180313\", \"request_num\": \"0001446787\", \"obstype\": \"TARGET\", \"filter\": null, \"master_calibration\": \"lscnrs01-fl09-20180313-bias-bin1x1.fits.fz\", \"processName\": \"MainProcess\"}\n",
      "2020-07-28 13:12:08.705     INFO:          stages: Running banzai.stages.PoissonInitializer | {\"filename\": \"lscnrs01-fl09-20180313-0028-e00.fits.fz\", \"site\": \"lsc\", \"instrument\": \"nres01\", \"epoch\": \"20180313\", \"request_num\": \"0001446787\", \"obstype\": \"TARGET\", \"filter\": null, \"processName\": \"MainProcess\"}\n",
      "2020-07-28 13:12:08.813     INFO:          stages: Running banzai.stages.DarkSubtractor | {\"filename\": \"lscnrs01-fl09-20180313-0028-e00.fits.fz\", \"site\": \"lsc\", \"instrument\": \"nres01\", \"epoch\": \"20180313\", \"request_num\": \"0001446787\", \"obstype\": \"TARGET\", \"filter\": null, \"processName\": \"MainProcess\"}\n",
      "2020-07-28 13:12:09.517     INFO:    calibrations: Applying master calibration | {\"filename\": \"lscnrs01-fl09-20180313-0028-e00.fits.fz\", \"site\": \"lsc\", \"instrument\": \"nres01\", \"epoch\": \"20180313\", \"request_num\": \"0001446787\", \"obstype\": \"TARGET\", \"filter\": null, \"master_calibration\": \"lscnrs01-fl09-20180313-dark-bin1x1.fits.fz\", \"processName\": \"MainProcess\"}\n",
      "2020-07-28 13:12:09.683     INFO:          stages: Running banzai.stages.FlatLoader | {\"filename\": \"lscnrs01-fl09-20180313-0028-e00.fits.fz\", \"site\": \"lsc\", \"instrument\": \"nres01\", \"epoch\": \"20180313\", \"request_num\": \"0001446787\", \"obstype\": \"TARGET\", \"filter\": null, \"processName\": \"MainProcess\"}\n",
      "2020-07-28 13:12:11.050     INFO:    calibrations: Applying master calibration | {\"filename\": \"lscnrs01-fl09-20180313-0028-e00.fits.fz\", \"site\": \"lsc\", \"instrument\": \"nres01\", \"epoch\": \"20180313\", \"request_num\": \"0001446787\", \"obstype\": \"TARGET\", \"filter\": null, \"master_calibration\": \"lscnrs01-fl09-20180313-lampflat-bin1x1-110.fits.fz\", \"processName\": \"MainProcess\"}\n",
      "2020-07-28 13:12:11.168     INFO:          stages: Running banzai.stages.BackgroundSubtractor | {\"filename\": \"lscnrs01-fl09-20180313-0028-e00.fits.fz\", \"site\": \"lsc\", \"instrument\": \"nres01\", \"epoch\": \"20180313\", \"request_num\": \"0001446787\", \"obstype\": \"TARGET\", \"filter\": null, \"processName\": \"MainProcess\"}\n",
      "2020-07-28 13:12:11.571     INFO:          stages: Running banzai.stages.ArcLoader | {\"filename\": \"lscnrs01-fl09-20180313-0028-e00.fits.fz\", \"site\": \"lsc\", \"instrument\": \"nres01\", \"epoch\": \"20180313\", \"request_num\": \"0001446787\", \"obstype\": \"TARGET\", \"filter\": null, \"processName\": \"MainProcess\"}\n",
      "2020-07-28 13:12:13.258     INFO:    calibrations: Applying master calibration | {\"filename\": \"lscnrs01-fl09-20180313-0028-e00.fits.fz\", \"site\": \"lsc\", \"instrument\": \"nres01\", \"epoch\": \"20180313\", \"request_num\": \"0001446787\", \"obstype\": \"TARGET\", \"filter\": null, \"master_calibration\": \"lscnrs01-fl09-20180313-double-bin1x1-110.fits.fz\", \"processName\": \"MainProcess\"}\n",
      "2020-07-28 13:12:13.381     INFO:          stages: Running banzai.stages.GetOptimalExtractionWeights | {\"filename\": \"lscnrs01-fl09-20180313-0028-e00.fits.fz\", \"site\": \"lsc\", \"instrument\": \"nres01\", \"epoch\": \"20180313\", \"request_num\": \"0001446787\", \"obstype\": \"TARGET\", \"filter\": null, \"processName\": \"MainProcess\"}\n",
      "2020-07-28 13:12:29.644     INFO:          stages: Running banzai.stages.WeightedExtract | {\"filename\": \"lscnrs01-fl09-20180313-0028-e00.fits.fz\", \"site\": \"lsc\", \"instrument\": \"nres01\", \"epoch\": \"20180313\", \"request_num\": \"0001446787\", \"obstype\": \"TARGET\", \"filter\": null, \"processName\": \"MainProcess\"}\n",
      "2020-07-28 13:12:45.910     INFO:          stages: Running banzai.stages.ContinuumNormalizer | {\"filename\": \"lscnrs01-fl09-20180313-0028-e00.fits.fz\", \"site\": \"lsc\", \"instrument\": \"nres01\", \"epoch\": \"20180313\", \"request_num\": \"0001446787\", \"obstype\": \"TARGET\", \"filter\": null, \"processName\": \"MainProcess\"}\n",
      "2020-07-28 13:12:47.005     INFO:          stages: Running banzai.stages.RVCalculator | {\"filename\": \"lscnrs01-fl09-20180313-0028-e00.fits.fz\", \"site\": \"lsc\", \"instrument\": \"nres01\", \"epoch\": \"20180313\", \"request_num\": \"0001446787\", \"obstype\": \"TARGET\", \"filter\": null, \"processName\": \"MainProcess\"}\n",
      "2020-07-28 13:12:47.009     INFO:              rv: Cross correlating for order: 75 | {\"filename\": \"lscnrs01-fl09-20180313-0028-e00.fits.fz\", \"site\": \"lsc\", \"instrument\": \"nres01\", \"epoch\": \"20180313\", \"request_num\": \"0001446787\", \"obstype\": \"TARGET\", \"filter\": null, \"processName\": \"MainProcess\"}\n",
      "2020-07-28 13:12:47.390     INFO:              rv: Cross correlating for order: 76 | {\"filename\": \"lscnrs01-fl09-20180313-0028-e00.fits.fz\", \"site\": \"lsc\", \"instrument\": \"nres01\", \"epoch\": \"20180313\", \"request_num\": \"0001446787\", \"obstype\": \"TARGET\", \"filter\": null, \"processName\": \"MainProcess\"}\n",
      "2020-07-28 13:12:47.768     INFO:              rv: Cross correlating for order: 77 | {\"filename\": \"lscnrs01-fl09-20180313-0028-e00.fits.fz\", \"site\": \"lsc\", \"instrument\": \"nres01\", \"epoch\": \"20180313\", \"request_num\": \"0001446787\", \"obstype\": \"TARGET\", \"filter\": null, \"processName\": \"MainProcess\"}\n",
      "2020-07-28 13:12:48.134     INFO:              rv: Cross correlating for order: 78 | {\"filename\": \"lscnrs01-fl09-20180313-0028-e00.fits.fz\", \"site\": \"lsc\", \"instrument\": \"nres01\", \"epoch\": \"20180313\", \"request_num\": \"0001446787\", \"obstype\": \"TARGET\", \"filter\": null, \"processName\": \"MainProcess\"}\n",
      "2020-07-28 13:12:48.502     INFO:              rv: Cross correlating for order: 79 | {\"filename\": \"lscnrs01-fl09-20180313-0028-e00.fits.fz\", \"site\": \"lsc\", \"instrument\": \"nres01\", \"epoch\": \"20180313\", \"request_num\": \"0001446787\", \"obstype\": \"TARGET\", \"filter\": null, \"processName\": \"MainProcess\"}\n",
      "2020-07-28 13:12:48.868     INFO:              rv: Cross correlating for order: 80 | {\"filename\": \"lscnrs01-fl09-20180313-0028-e00.fits.fz\", \"site\": \"lsc\", \"instrument\": \"nres01\", \"epoch\": \"20180313\", \"request_num\": \"0001446787\", \"obstype\": \"TARGET\", \"filter\": null, \"processName\": \"MainProcess\"}\n",
      "2020-07-28 13:12:49.232     INFO:              rv: Cross correlating for order: 81 | {\"filename\": \"lscnrs01-fl09-20180313-0028-e00.fits.fz\", \"site\": \"lsc\", \"instrument\": \"nres01\", \"epoch\": \"20180313\", \"request_num\": \"0001446787\", \"obstype\": \"TARGET\", \"filter\": null, \"processName\": \"MainProcess\"}\n",
      "2020-07-28 13:12:49.617     INFO:              rv: Cross correlating for order: 82 | {\"filename\": \"lscnrs01-fl09-20180313-0028-e00.fits.fz\", \"site\": \"lsc\", \"instrument\": \"nres01\", \"epoch\": \"20180313\", \"request_num\": \"0001446787\", \"obstype\": \"TARGET\", \"filter\": null, \"processName\": \"MainProcess\"}\n"
     ]
    },
    {
     "name": "stdout",
     "output_type": "stream",
     "text": [
      "2020-07-28 13:12:49.985     INFO:              rv: Cross correlating for order: 83 | {\"filename\": \"lscnrs01-fl09-20180313-0028-e00.fits.fz\", \"site\": \"lsc\", \"instrument\": \"nres01\", \"epoch\": \"20180313\", \"request_num\": \"0001446787\", \"obstype\": \"TARGET\", \"filter\": null, \"processName\": \"MainProcess\"}\n",
      "2020-07-28 13:12:50.361     INFO:              rv: Cross correlating for order: 84 | {\"filename\": \"lscnrs01-fl09-20180313-0028-e00.fits.fz\", \"site\": \"lsc\", \"instrument\": \"nres01\", \"epoch\": \"20180313\", \"request_num\": \"0001446787\", \"obstype\": \"TARGET\", \"filter\": null, \"processName\": \"MainProcess\"}\n",
      "2020-07-28 13:12:50.737     INFO:              rv: Cross correlating for order: 85 | {\"filename\": \"lscnrs01-fl09-20180313-0028-e00.fits.fz\", \"site\": \"lsc\", \"instrument\": \"nres01\", \"epoch\": \"20180313\", \"request_num\": \"0001446787\", \"obstype\": \"TARGET\", \"filter\": null, \"processName\": \"MainProcess\"}\n",
      "2020-07-28 13:12:51.111     INFO:              rv: Cross correlating for order: 86 | {\"filename\": \"lscnrs01-fl09-20180313-0028-e00.fits.fz\", \"site\": \"lsc\", \"instrument\": \"nres01\", \"epoch\": \"20180313\", \"request_num\": \"0001446787\", \"obstype\": \"TARGET\", \"filter\": null, \"processName\": \"MainProcess\"}\n",
      "2020-07-28 13:12:51.482     INFO:              rv: Cross correlating for order: 87 | {\"filename\": \"lscnrs01-fl09-20180313-0028-e00.fits.fz\", \"site\": \"lsc\", \"instrument\": \"nres01\", \"epoch\": \"20180313\", \"request_num\": \"0001446787\", \"obstype\": \"TARGET\", \"filter\": null, \"processName\": \"MainProcess\"}\n",
      "2020-07-28 13:12:51.842     INFO:              rv: Cross correlating for order: 88 | {\"filename\": \"lscnrs01-fl09-20180313-0028-e00.fits.fz\", \"site\": \"lsc\", \"instrument\": \"nres01\", \"epoch\": \"20180313\", \"request_num\": \"0001446787\", \"obstype\": \"TARGET\", \"filter\": null, \"processName\": \"MainProcess\"}\n",
      "2020-07-28 13:12:52.208     INFO:              rv: Cross correlating for order: 89 | {\"filename\": \"lscnrs01-fl09-20180313-0028-e00.fits.fz\", \"site\": \"lsc\", \"instrument\": \"nres01\", \"epoch\": \"20180313\", \"request_num\": \"0001446787\", \"obstype\": \"TARGET\", \"filter\": null, \"processName\": \"MainProcess\"}\n",
      "2020-07-28 13:12:52.579     INFO:              rv: Cross correlating for order: 90 | {\"filename\": \"lscnrs01-fl09-20180313-0028-e00.fits.fz\", \"site\": \"lsc\", \"instrument\": \"nres01\", \"epoch\": \"20180313\", \"request_num\": \"0001446787\", \"obstype\": \"TARGET\", \"filter\": null, \"processName\": \"MainProcess\"}\n",
      "2020-07-28 13:12:52.942     INFO:              rv: Cross correlating for order: 91 | {\"filename\": \"lscnrs01-fl09-20180313-0028-e00.fits.fz\", \"site\": \"lsc\", \"instrument\": \"nres01\", \"epoch\": \"20180313\", \"request_num\": \"0001446787\", \"obstype\": \"TARGET\", \"filter\": null, \"processName\": \"MainProcess\"}\n",
      "2020-07-28 13:12:53.306     INFO:              rv: Cross correlating for order: 92 | {\"filename\": \"lscnrs01-fl09-20180313-0028-e00.fits.fz\", \"site\": \"lsc\", \"instrument\": \"nres01\", \"epoch\": \"20180313\", \"request_num\": \"0001446787\", \"obstype\": \"TARGET\", \"filter\": null, \"processName\": \"MainProcess\"}\n",
      "2020-07-28 13:12:53.681     INFO:              rv: Cross correlating for order: 93 | {\"filename\": \"lscnrs01-fl09-20180313-0028-e00.fits.fz\", \"site\": \"lsc\", \"instrument\": \"nres01\", \"epoch\": \"20180313\", \"request_num\": \"0001446787\", \"obstype\": \"TARGET\", \"filter\": null, \"processName\": \"MainProcess\"}\n",
      "2020-07-28 13:12:54.054     INFO:              rv: Cross correlating for order: 94 | {\"filename\": \"lscnrs01-fl09-20180313-0028-e00.fits.fz\", \"site\": \"lsc\", \"instrument\": \"nres01\", \"epoch\": \"20180313\", \"request_num\": \"0001446787\", \"obstype\": \"TARGET\", \"filter\": null, \"processName\": \"MainProcess\"}\n",
      "2020-07-28 13:12:54.431     INFO:              rv: Cross correlating for order: 95 | {\"filename\": \"lscnrs01-fl09-20180313-0028-e00.fits.fz\", \"site\": \"lsc\", \"instrument\": \"nres01\", \"epoch\": \"20180313\", \"request_num\": \"0001446787\", \"obstype\": \"TARGET\", \"filter\": null, \"processName\": \"MainProcess\"}\n",
      "2020-07-28 13:12:54.800     INFO:              rv: Cross correlating for order: 96 | {\"filename\": \"lscnrs01-fl09-20180313-0028-e00.fits.fz\", \"site\": \"lsc\", \"instrument\": \"nres01\", \"epoch\": \"20180313\", \"request_num\": \"0001446787\", \"obstype\": \"TARGET\", \"filter\": null, \"processName\": \"MainProcess\"}\n",
      "2020-07-28 13:12:55.166     INFO:              rv: Cross correlating for order: 97 | {\"filename\": \"lscnrs01-fl09-20180313-0028-e00.fits.fz\", \"site\": \"lsc\", \"instrument\": \"nres01\", \"epoch\": \"20180313\", \"request_num\": \"0001446787\", \"obstype\": \"TARGET\", \"filter\": null, \"processName\": \"MainProcess\"}\n",
      "2020-07-28 13:12:55.531     INFO:              rv: Cross correlating for order: 98 | {\"filename\": \"lscnrs01-fl09-20180313-0028-e00.fits.fz\", \"site\": \"lsc\", \"instrument\": \"nres01\", \"epoch\": \"20180313\", \"request_num\": \"0001446787\", \"obstype\": \"TARGET\", \"filter\": null, \"processName\": \"MainProcess\"}\n",
      "2020-07-28 13:12:55.889     INFO:              rv: Cross correlating for order: 99 | {\"filename\": \"lscnrs01-fl09-20180313-0028-e00.fits.fz\", \"site\": \"lsc\", \"instrument\": \"nres01\", \"epoch\": \"20180313\", \"request_num\": \"0001446787\", \"obstype\": \"TARGET\", \"filter\": null, \"processName\": \"MainProcess\"}\n",
      "2020-07-28 13:12:56.246     INFO:              rv: Cross correlating for order: 100 | {\"filename\": \"lscnrs01-fl09-20180313-0028-e00.fits.fz\", \"site\": \"lsc\", \"instrument\": \"nres01\", \"epoch\": \"20180313\", \"request_num\": \"0001446787\", \"obstype\": \"TARGET\", \"filter\": null, \"processName\": \"MainProcess\"}\n",
      "2020-07-28 13:12:56.612     INFO:              rv: Cross correlating for order: 75 | {\"filename\": \"lscnrs01-fl09-20180313-0028-e00.fits.fz\", \"site\": \"lsc\", \"instrument\": \"nres01\", \"epoch\": \"20180313\", \"request_num\": \"0001446787\", \"obstype\": \"TARGET\", \"filter\": null, \"processName\": \"MainProcess\"}\n",
      "2020-07-28 13:12:57.014     INFO:              rv: Cross correlating for order: 76 | {\"filename\": \"lscnrs01-fl09-20180313-0028-e00.fits.fz\", \"site\": \"lsc\", \"instrument\": \"nres01\", \"epoch\": \"20180313\", \"request_num\": \"0001446787\", \"obstype\": \"TARGET\", \"filter\": null, \"processName\": \"MainProcess\"}\n",
      "2020-07-28 13:12:57.441     INFO:              rv: Cross correlating for order: 77 | {\"filename\": \"lscnrs01-fl09-20180313-0028-e00.fits.fz\", \"site\": \"lsc\", \"instrument\": \"nres01\", \"epoch\": \"20180313\", \"request_num\": \"0001446787\", \"obstype\": \"TARGET\", \"filter\": null, \"processName\": \"MainProcess\"}\n",
      "2020-07-28 13:12:57.825     INFO:              rv: Cross correlating for order: 78 | {\"filename\": \"lscnrs01-fl09-20180313-0028-e00.fits.fz\", \"site\": \"lsc\", \"instrument\": \"nres01\", \"epoch\": \"20180313\", \"request_num\": \"0001446787\", \"obstype\": \"TARGET\", \"filter\": null, \"processName\": \"MainProcess\"}\n",
      "2020-07-28 13:12:58.211     INFO:              rv: Cross correlating for order: 79 | {\"filename\": \"lscnrs01-fl09-20180313-0028-e00.fits.fz\", \"site\": \"lsc\", \"instrument\": \"nres01\", \"epoch\": \"20180313\", \"request_num\": \"0001446787\", \"obstype\": \"TARGET\", \"filter\": null, \"processName\": \"MainProcess\"}\n",
      "2020-07-28 13:12:58.595     INFO:              rv: Cross correlating for order: 80 | {\"filename\": \"lscnrs01-fl09-20180313-0028-e00.fits.fz\", \"site\": \"lsc\", \"instrument\": \"nres01\", \"epoch\": \"20180313\", \"request_num\": \"0001446787\", \"obstype\": \"TARGET\", \"filter\": null, \"processName\": \"MainProcess\"}\n",
      "2020-07-28 13:12:58.988     INFO:              rv: Cross correlating for order: 81 | {\"filename\": \"lscnrs01-fl09-20180313-0028-e00.fits.fz\", \"site\": \"lsc\", \"instrument\": \"nres01\", \"epoch\": \"20180313\", \"request_num\": \"0001446787\", \"obstype\": \"TARGET\", \"filter\": null, \"processName\": \"MainProcess\"}\n",
      "2020-07-28 13:12:59.386     INFO:              rv: Cross correlating for order: 82 | {\"filename\": \"lscnrs01-fl09-20180313-0028-e00.fits.fz\", \"site\": \"lsc\", \"instrument\": \"nres01\", \"epoch\": \"20180313\", \"request_num\": \"0001446787\", \"obstype\": \"TARGET\", \"filter\": null, \"processName\": \"MainProcess\"}\n",
      "2020-07-28 13:12:59.767     INFO:              rv: Cross correlating for order: 83 | {\"filename\": \"lscnrs01-fl09-20180313-0028-e00.fits.fz\", \"site\": \"lsc\", \"instrument\": \"nres01\", \"epoch\": \"20180313\", \"request_num\": \"0001446787\", \"obstype\": \"TARGET\", \"filter\": null, \"processName\": \"MainProcess\"}\n",
      "2020-07-28 13:13:00.152     INFO:              rv: Cross correlating for order: 84 | {\"filename\": \"lscnrs01-fl09-20180313-0028-e00.fits.fz\", \"site\": \"lsc\", \"instrument\": \"nres01\", \"epoch\": \"20180313\", \"request_num\": \"0001446787\", \"obstype\": \"TARGET\", \"filter\": null, \"processName\": \"MainProcess\"}\n"
     ]
    },
    {
     "name": "stdout",
     "output_type": "stream",
     "text": [
      "2020-07-28 13:13:00.528     INFO:              rv: Cross correlating for order: 85 | {\"filename\": \"lscnrs01-fl09-20180313-0028-e00.fits.fz\", \"site\": \"lsc\", \"instrument\": \"nres01\", \"epoch\": \"20180313\", \"request_num\": \"0001446787\", \"obstype\": \"TARGET\", \"filter\": null, \"processName\": \"MainProcess\"}\n",
      "2020-07-28 13:13:00.907     INFO:              rv: Cross correlating for order: 86 | {\"filename\": \"lscnrs01-fl09-20180313-0028-e00.fits.fz\", \"site\": \"lsc\", \"instrument\": \"nres01\", \"epoch\": \"20180313\", \"request_num\": \"0001446787\", \"obstype\": \"TARGET\", \"filter\": null, \"processName\": \"MainProcess\"}\n",
      "2020-07-28 13:13:01.289     INFO:              rv: Cross correlating for order: 87 | {\"filename\": \"lscnrs01-fl09-20180313-0028-e00.fits.fz\", \"site\": \"lsc\", \"instrument\": \"nres01\", \"epoch\": \"20180313\", \"request_num\": \"0001446787\", \"obstype\": \"TARGET\", \"filter\": null, \"processName\": \"MainProcess\"}\n",
      "2020-07-28 13:13:01.668     INFO:              rv: Cross correlating for order: 88 | {\"filename\": \"lscnrs01-fl09-20180313-0028-e00.fits.fz\", \"site\": \"lsc\", \"instrument\": \"nres01\", \"epoch\": \"20180313\", \"request_num\": \"0001446787\", \"obstype\": \"TARGET\", \"filter\": null, \"processName\": \"MainProcess\"}\n",
      "2020-07-28 13:13:02.061     INFO:              rv: Cross correlating for order: 89 | {\"filename\": \"lscnrs01-fl09-20180313-0028-e00.fits.fz\", \"site\": \"lsc\", \"instrument\": \"nres01\", \"epoch\": \"20180313\", \"request_num\": \"0001446787\", \"obstype\": \"TARGET\", \"filter\": null, \"processName\": \"MainProcess\"}\n",
      "2020-07-28 13:13:02.436     INFO:              rv: Cross correlating for order: 90 | {\"filename\": \"lscnrs01-fl09-20180313-0028-e00.fits.fz\", \"site\": \"lsc\", \"instrument\": \"nres01\", \"epoch\": \"20180313\", \"request_num\": \"0001446787\", \"obstype\": \"TARGET\", \"filter\": null, \"processName\": \"MainProcess\"}\n",
      "2020-07-28 13:13:02.808     INFO:              rv: Cross correlating for order: 91 | {\"filename\": \"lscnrs01-fl09-20180313-0028-e00.fits.fz\", \"site\": \"lsc\", \"instrument\": \"nres01\", \"epoch\": \"20180313\", \"request_num\": \"0001446787\", \"obstype\": \"TARGET\", \"filter\": null, \"processName\": \"MainProcess\"}\n",
      "2020-07-28 13:13:03.177     INFO:              rv: Cross correlating for order: 92 | {\"filename\": \"lscnrs01-fl09-20180313-0028-e00.fits.fz\", \"site\": \"lsc\", \"instrument\": \"nres01\", \"epoch\": \"20180313\", \"request_num\": \"0001446787\", \"obstype\": \"TARGET\", \"filter\": null, \"processName\": \"MainProcess\"}\n",
      "2020-07-28 13:13:03.544     INFO:              rv: Cross correlating for order: 93 | {\"filename\": \"lscnrs01-fl09-20180313-0028-e00.fits.fz\", \"site\": \"lsc\", \"instrument\": \"nres01\", \"epoch\": \"20180313\", \"request_num\": \"0001446787\", \"obstype\": \"TARGET\", \"filter\": null, \"processName\": \"MainProcess\"}\n",
      "2020-07-28 13:13:03.922     INFO:              rv: Cross correlating for order: 94 | {\"filename\": \"lscnrs01-fl09-20180313-0028-e00.fits.fz\", \"site\": \"lsc\", \"instrument\": \"nres01\", \"epoch\": \"20180313\", \"request_num\": \"0001446787\", \"obstype\": \"TARGET\", \"filter\": null, \"processName\": \"MainProcess\"}\n",
      "2020-07-28 13:13:04.308     INFO:              rv: Cross correlating for order: 95 | {\"filename\": \"lscnrs01-fl09-20180313-0028-e00.fits.fz\", \"site\": \"lsc\", \"instrument\": \"nres01\", \"epoch\": \"20180313\", \"request_num\": \"0001446787\", \"obstype\": \"TARGET\", \"filter\": null, \"processName\": \"MainProcess\"}\n",
      "2020-07-28 13:13:04.689     INFO:              rv: Cross correlating for order: 96 | {\"filename\": \"lscnrs01-fl09-20180313-0028-e00.fits.fz\", \"site\": \"lsc\", \"instrument\": \"nres01\", \"epoch\": \"20180313\", \"request_num\": \"0001446787\", \"obstype\": \"TARGET\", \"filter\": null, \"processName\": \"MainProcess\"}\n",
      "2020-07-28 13:13:05.069     INFO:              rv: Cross correlating for order: 97 | {\"filename\": \"lscnrs01-fl09-20180313-0028-e00.fits.fz\", \"site\": \"lsc\", \"instrument\": \"nres01\", \"epoch\": \"20180313\", \"request_num\": \"0001446787\", \"obstype\": \"TARGET\", \"filter\": null, \"processName\": \"MainProcess\"}\n",
      "2020-07-28 13:13:05.441     INFO:              rv: Cross correlating for order: 98 | {\"filename\": \"lscnrs01-fl09-20180313-0028-e00.fits.fz\", \"site\": \"lsc\", \"instrument\": \"nres01\", \"epoch\": \"20180313\", \"request_num\": \"0001446787\", \"obstype\": \"TARGET\", \"filter\": null, \"processName\": \"MainProcess\"}\n",
      "2020-07-28 13:13:05.807     INFO:              rv: Cross correlating for order: 99 | {\"filename\": \"lscnrs01-fl09-20180313-0028-e00.fits.fz\", \"site\": \"lsc\", \"instrument\": \"nres01\", \"epoch\": \"20180313\", \"request_num\": \"0001446787\", \"obstype\": \"TARGET\", \"filter\": null, \"processName\": \"MainProcess\"}\n",
      "2020-07-28 13:13:06.172     INFO:              rv: Cross correlating for order: 100 | {\"filename\": \"lscnrs01-fl09-20180313-0028-e00.fits.fz\", \"site\": \"lsc\", \"instrument\": \"nres01\", \"epoch\": \"20180313\", \"request_num\": \"0001446787\", \"obstype\": \"TARGET\", \"filter\": null, \"processName\": \"MainProcess\"}\n"
     ]
    }
   ],
   "source": [
    "# set up the context object.\n",
    "import banzai.main\n",
    "context = banzai.main.parse_args(settings, parse_system_args=False)"
   ]
  },
  {
   "cell_type": "markdown",
   "metadata": {},
   "source": [
    "Download some test data from the archive\n",
    "----------------------------------------"
   ]
  },
  {
   "cell_type": "code",
   "execution_count": null,
   "metadata": {},
   "outputs": [],
   "source": [
    "# make directories for the test dataset.\n",
    "raw_data_dir = 'test_data/lsc/nres01/20180313/raw'\n",
    "os.makedirs(raw_data_dir, exist_ok=True)\n",
    "bpm_dir = 'test_data/lsc/nres01/bpm/'\n",
    "os.makedirs(bpm_dir, exist_ok=True)"
   ]
  },
  {
   "cell_type": "code",
   "execution_count": null,
   "metadata": {},
   "outputs": [],
   "source": [
    "# choose which files we will download for our test dataset.\n",
    "bpm_filename = 'bpm-lsc-nres01-fl09-20180215.fits.fz'\n",
    "test_filenames = ['lscnrs01-fl09-20180313-0001-w00.fits.fz', 'lscnrs01-fl09-20180313-0002-w00.fits.fz',\n",
    "                  'lscnrs01-fl09-20180313-0003-w00.fits.fz', 'lscnrs01-fl09-20180313-0004-w00.fits.fz',\n",
    "                  'lscnrs01-fl09-20180313-0005-w00.fits.fz', 'lscnrs01-fl09-20180313-0006-a00.fits.fz',\n",
    "                  'lscnrs01-fl09-20180313-0007-a00.fits.fz', 'lscnrs01-fl09-20180313-0008-a00.fits.fz',\n",
    "                  'lscnrs01-fl09-20180313-0009-w00.fits.fz', 'lscnrs01-fl09-20180313-0010-w00.fits.fz',\n",
    "                  'lscnrs01-fl09-20180313-0011-w00.fits.fz', 'lscnrs01-fl09-20180313-0012-w00.fits.fz',\n",
    "                  'lscnrs01-fl09-20180313-0013-w00.fits.fz', 'lscnrs01-fl09-20180313-0014-w00.fits.fz',\n",
    "                  'lscnrs01-fl09-20180313-0015-w00.fits.fz', 'lscnrs01-fl09-20180313-0016-w00.fits.fz',\n",
    "                  'lscnrs01-fl09-20180313-0017-w00.fits.fz', 'lscnrs01-fl09-20180313-0018-w00.fits.fz',\n",
    "                  'lscnrs01-fl09-20180313-0019-a00.fits.fz', 'lscnrs01-fl09-20180313-0020-a00.fits.fz',\n",
    "                  'lscnrs01-fl09-20180313-0021-a00.fits.fz', 'lscnrs01-fl09-20180313-0022-a00.fits.fz',\n",
    "                  'lscnrs01-fl09-20180313-0023-a00.fits.fz', 'lscnrs01-fl09-20180313-0042-b00.fits.fz',\n",
    "                  'lscnrs01-fl09-20180313-0043-b00.fits.fz', 'lscnrs01-fl09-20180313-0044-b00.fits.fz',\n",
    "                  'lscnrs01-fl09-20180313-0045-b00.fits.fz', 'lscnrs01-fl09-20180313-0046-b00.fits.fz',\n",
    "                  'lscnrs01-fl09-20180313-0047-d00.fits.fz', 'lscnrs01-fl09-20180313-0048-d00.fits.fz',\n",
    "                  'lscnrs01-fl09-20180313-0049-d00.fits.fz', 'lscnrs01-fl09-20180313-0028-e00.fits.fz',\n",
    "                  'lscnrs01-fl09-20180313-0029-e00.fits.fz', 'lscnrs01-fl09-20180313-0030-e00.fits.fz',\n",
    "                  'lscnrs01-fl09-20180313-0031-e00.fits.fz']\n",
    "\n",
    "bpm_frame_id = '22529799'\n",
    "test_frame_ids = ['8148793', '8148822', '8148805', '8148824', '8148826', '8148876', '8148898',\n",
    "                  '8148932', '8148960', '8148978', '8149024', '8149104', '8149068', '8149090',\n",
    "                  '8149128', '8149173', '8149217', '8151252', '8149314', '8149388', '8149469',\n",
    "                  '8149547', '8149570', '8156341', '8156360', '8156366', '8156376', '8156385',\n",
    "                  '8156433', '8156500', '8156560', '8151997', '8152050', '8152110', '8152153']"
   ]
  },
  {
   "cell_type": "code",
   "execution_count": null,
   "metadata": {},
   "outputs": [],
   "source": [
    "# THIS DOWNLOADS A NEW DATA SET. DO NOT RUN IF YOU HAVE ALREADY DOWNLOADED THE DATA\n",
    "# Copy the data into the correct directory\n",
    "for test_filename, frame_id in zip(test_filenames, test_frame_ids):\n",
    "    archive_url = f'https://archive-api.lco.global/frames/{frame_id}'\n",
    "    frame_info = requests.get(archive_url).json()\n",
    "    with open(os.path.join(raw_data_dir, test_filename), 'wb') as f:\n",
    "        f.write(requests.get(frame_info['url']).content)\n",
    "        \n",
    "archive_url = f'https://archive-api.lco.global/frames/{bpm_frame_id}'\n",
    "frame_info = requests.get(archive_url).json()\n",
    "with open(os.path.join(bpm_dir, bpm_filename), 'wb') as f:\n",
    "    f.write(requests.get(frame_info['url']).content)"
   ]
  },
  {
   "cell_type": "markdown",
   "metadata": {},
   "source": [
    "Initialize the db and context object for the rest of the pipeline\n",
    "-----------------------------------------------------------------"
   ]
  },
  {
   "cell_type": "code",
   "execution_count": null,
   "metadata": {},
   "outputs": [],
   "source": [
    "# THIS MAKES A FRESH DATABASE. DO NOT RUN ME UNLESS YOU WANT TO DELETE YOUR test.db AND MAKE A FRESH ONE\n",
    "os.system(f'banzai_create_db --db-address={os.environ[\"DB_ADDRESS\"]}')\n",
    "os.system(f'banzai_add_site --site elp --latitude 30.67986944 --longitude -104.015175 --elevation 2027 --timezone -6 --db-address={os.environ[\"DB_ADDRESS\"]}')\n",
    "os.system(f'banzai_add_site --site lsc --latitude -30.1673833333 --longitude -70.8047888889 --elevation 2198 --timezone -4 --db-address={os.environ[\"DB_ADDRESS\"]}')   \n",
    "os.system(f'banzai_add_instrument --site lsc --camera fl09 --name nres01 --instrument-type 1m0-NRES-SciCam --db-address={os.environ[\"DB_ADDRESS\"]}')\n",
    "os.system(f'banzai_add_instrument --site elp --camera fl17 --name nres02 --instrument-type 1m0-NRES-SciCam --db-address={os.environ[\"DB_ADDRESS\"]}')\n",
    "for bpm_filename in glob('test_data/*/nres??/bpm/*bpm*'):\n",
    "    logger.info(f'adding bpm {bpm_filename} to the database')\n",
    "    os.system(f'banzai_nres_add_bpm --filename {bpm_filename} --db-address={os.environ[\"DB_ADDRESS\"]}')"
   ]
  },
  {
   "cell_type": "markdown",
   "metadata": {},
   "source": [
    "Process and Stack Bias Files\n",
    "----------------------------"
   ]
  },
  {
   "cell_type": "code",
   "execution_count": null,
   "metadata": {},
   "outputs": [],
   "source": [
    "bias_files = glob(os.path.join('test_data/*/nres??/*/raw/*b00*'))\n",
    "for bias_file in bias_files: \n",
    "    run_pipeline_stages([{'path': bias_file}], context) "
   ]
  },
  {
   "cell_type": "code",
   "execution_count": null,
   "metadata": {},
   "outputs": [],
   "source": [
    "def mark_frames_as_good(filenames):\n",
    "    for filename in glob(f'test_data/*/nres??/*/processed/{filenames}'):\n",
    "        dbs.mark_frame(os.path.basename(filename), \"good\", db_address=os.environ['DB_ADDRESS'])"
   ]
  },
  {
   "cell_type": "code",
   "execution_count": null,
   "metadata": {},
   "outputs": [],
   "source": [
    "mark_frames_as_good('*b91*')"
   ]
  },
  {
   "cell_type": "code",
   "execution_count": 6,
   "metadata": {},
   "outputs": [],
   "source": [
    "instrument = dbs.get_instruments_at_site('lsc', settings.db_address)[0]"
   ]
  },
  {
   "cell_type": "code",
   "execution_count": null,
   "metadata": {},
   "outputs": [],
   "source": [
    "make_master_calibrations(instrument, 'BIAS', '2017-01-01', '2019-01-01', context) "
   ]
  },
  {
   "cell_type": "markdown",
   "metadata": {},
   "source": [
    "Process and Stack Dark Files\n",
    "----------------------------"
   ]
  },
  {
   "cell_type": "code",
   "execution_count": null,
   "metadata": {},
   "outputs": [],
   "source": [
    "dark_files = glob('test_data/*/nres??/*/raw/*d00*')\n",
    "for dark_file in dark_files: \n",
    "    run_pipeline_stages([{'path': dark_file}], context)"
   ]
  },
  {
   "cell_type": "code",
   "execution_count": null,
   "metadata": {},
   "outputs": [],
   "source": [
    "mark_frames_as_good('*d91*')"
   ]
  },
  {
   "cell_type": "code",
   "execution_count": null,
   "metadata": {},
   "outputs": [],
   "source": [
    "make_master_calibrations(instrument, 'DARK', '2017-01-01', '2019-01-01', context) "
   ]
  },
  {
   "cell_type": "markdown",
   "metadata": {},
   "source": [
    "Process and stack lamp flats. This is where we also solve for the traces and profile.\n",
    "----------"
   ]
  },
  {
   "cell_type": "code",
   "execution_count": null,
   "metadata": {},
   "outputs": [],
   "source": [
    "flat_files = glob('test_data/*/nres??/*/raw/*w00*')\n",
    "for flat_file in flat_files: \n",
    "    run_pipeline_stages([{'path': flat_file}], context)"
   ]
  },
  {
   "cell_type": "code",
   "execution_count": null,
   "metadata": {},
   "outputs": [],
   "source": [
    "make_master_calibrations(instrument, 'LAMPFLAT', '2017-01-01', '2019-01-01', context)"
   ]
  },
  {
   "cell_type": "markdown",
   "metadata": {},
   "source": [
    "Process and stack arc lamps. Find the wavelength solution\n",
    "--------"
   ]
  },
  {
   "cell_type": "code",
   "execution_count": null,
   "metadata": {},
   "outputs": [],
   "source": [
    "arc_files = glob('test_data/*/nres??/*/raw/*a00*')\n",
    "for arc_file in arc_files: \n",
    "    run_pipeline_stages([{'path': arc_file}], context)"
   ]
  },
  {
   "cell_type": "code",
   "execution_count": null,
   "metadata": {},
   "outputs": [],
   "source": [
    "make_master_calibrations(instrument, 'DOUBLE', '2017-01-01', '2019-01-01', context)"
   ]
  },
  {
   "cell_type": "markdown",
   "metadata": {},
   "source": [
    "Process the science spectra\n",
    "------"
   ]
  },
  {
   "cell_type": "code",
   "execution_count": 7,
   "metadata": {},
   "outputs": [],
   "source": [
    "science_files = glob('test_data/*/nres??/*/raw/*e00*')\n",
    "for science_file in science_files: \n",
    "    run_pipeline_stages([{'path': science_file}], context)"
   ]
  },
  {
   "cell_type": "code",
   "execution_count": null,
   "metadata": {},
   "outputs": [],
   "source": []
  }
 ],
 "metadata": {
  "kernelspec": {
   "display_name": "Python 3",
   "language": "python",
   "name": "python3"
  },
  "language_info": {
   "codemirror_mode": {
    "name": "ipython",
    "version": 3
   },
   "file_extension": ".py",
   "mimetype": "text/x-python",
   "name": "python",
   "nbconvert_exporter": "python",
   "pygments_lexer": "ipython3",
   "version": "3.6.8"
  }
 },
 "nbformat": 4,
 "nbformat_minor": 4
}
