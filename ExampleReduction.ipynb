{
 "cells": [
  {
   "cell_type": "code",
   "execution_count": 1,
   "metadata": {},
   "outputs": [],
   "source": [
    "import os\n",
    "os.environ['OPENTSDB_PYTHON_METRICS_TEST_MODE'] = 'True'"
   ]
  },
  {
   "cell_type": "code",
   "execution_count": 2,
   "metadata": {},
   "outputs": [],
   "source": [
    "from banzai.calibrations import make_master_calibrations\n",
    "import requests\n",
    "from banzai_nres import settings\n",
    "from banzai import dbs\n",
    "from banzai.utils.stage_utils import run_pipeline_stages\n",
    "import logging\n",
    "from banzai.logs import set_log_level\n",
    "from glob import glob\n",
    "\n",
    "import pkg_resources"
   ]
  },
  {
   "cell_type": "markdown",
   "metadata": {},
   "source": [
    "Setup logging and some settings show we know where the DB should be.\n",
    "------"
   ]
  },
  {
   "cell_type": "code",
   "execution_count": 3,
   "metadata": {},
   "outputs": [],
   "source": [
    "set_log_level('DEBUG')\n",
    "logger = logging.getLogger('banzai')"
   ]
  },
  {
   "cell_type": "code",
   "execution_count": 4,
   "metadata": {},
   "outputs": [],
   "source": [
    "os.environ['DB_ADDRESS'] = 'sqlite:///test_data/test.db'\n",
    "\n",
    "settings.processed_path= os.path.join(os.getcwd(), 'test_data')\n",
    "settings.fpack=True\n",
    "settings.db_address = os.environ['DB_ADDRESS']"
   ]
  },
  {
   "cell_type": "code",
   "execution_count": 5,
   "metadata": {},
   "outputs": [
    {
     "name": "stdout",
     "output_type": "stream",
     "text": [
      "2020-07-27 11:26:35.382     INFO:          stages: Running banzai.stages.BadPixelMaskLoader | {\"filename\": \"lscnrs01-fl09-20180313-0030-e00.fits.fz\", \"site\": \"lsc\", \"instrument\": \"nres01\", \"epoch\": \"20180313\", \"request_num\": \"0001446787\", \"obstype\": \"TARGET\", \"filter\": null, \"processName\": \"MainProcess\"}\n",
      "2020-07-27 11:26:35.607     INFO:    calibrations: Applying master calibration | {\"filename\": \"lscnrs01-fl09-20180313-0030-e00.fits.fz\", \"site\": \"lsc\", \"instrument\": \"nres01\", \"epoch\": \"20180313\", \"request_num\": \"0001446787\", \"obstype\": \"TARGET\", \"filter\": null, \"master_calibration\": \"bpm-lsc-nres01-fl09-20180215.fits.fz\", \"processName\": \"MainProcess\"}\n",
      "2020-07-27 11:26:35.645     INFO:          stages: Running banzai.stages.OverscanSubtractor | {\"filename\": \"lscnrs01-fl09-20180313-0030-e00.fits.fz\", \"site\": \"lsc\", \"instrument\": \"nres01\", \"epoch\": \"20180313\", \"request_num\": \"0001446787\", \"obstype\": \"TARGET\", \"filter\": null, \"processName\": \"MainProcess\"}\n",
      "2020-07-27 11:26:35.686     INFO:          stages: Running banzai.stages.GainNormalizer | {\"filename\": \"lscnrs01-fl09-20180313-0030-e00.fits.fz\", \"site\": \"lsc\", \"instrument\": \"nres01\", \"epoch\": \"20180313\", \"request_num\": \"0001446787\", \"obstype\": \"TARGET\", \"filter\": null, \"processName\": \"MainProcess\"}\n",
      "2020-07-27 11:26:35.687     INFO:            gain: Multiplying by gain | {\"filename\": \"lscnrs01-fl09-20180313-0030-e00.fits.fz\", \"site\": \"lsc\", \"instrument\": \"nres01\", \"epoch\": \"20180313\", \"request_num\": \"0001446787\", \"obstype\": \"TARGET\", \"filter\": null, \"processName\": \"MainProcess\"}\n",
      "2020-07-27 11:26:35.729     INFO:          stages: Running banzai.stages.Trimmer | {\"filename\": \"lscnrs01-fl09-20180313-0030-e00.fits.fz\", \"site\": \"lsc\", \"instrument\": \"nres01\", \"epoch\": \"20180313\", \"request_num\": \"0001446787\", \"obstype\": \"TARGET\", \"filter\": null, \"processName\": \"MainProcess\"}\n",
      "2020-07-27 11:26:35.730     INFO:            trim: Trimming image | {\"filename\": \"lscnrs01-fl09-20180313-0030-e00.fits.fz\", \"site\": \"lsc\", \"instrument\": \"nres01\", \"epoch\": \"20180313\", \"request_num\": \"0001446787\", \"obstype\": \"TARGET\", \"filter\": null, \"processName\": \"MainProcess\"}\n",
      "2020-07-27 11:26:36.030     INFO:          stages: Running banzai.stages.BiasSubtractor | {\"filename\": \"lscnrs01-fl09-20180313-0030-e00.fits.fz\", \"site\": \"lsc\", \"instrument\": \"nres01\", \"epoch\": \"20180313\", \"request_num\": \"0001446787\", \"obstype\": \"TARGET\", \"filter\": null, \"processName\": \"MainProcess\"}\n",
      "2020-07-27 11:26:36.810     INFO:    calibrations: Applying master calibration | {\"filename\": \"lscnrs01-fl09-20180313-0030-e00.fits.fz\", \"site\": \"lsc\", \"instrument\": \"nres01\", \"epoch\": \"20180313\", \"request_num\": \"0001446787\", \"obstype\": \"TARGET\", \"filter\": null, \"master_calibration\": \"lscnrs01-fl09-20180313-bias-bin1x1.fits.fz\", \"processName\": \"MainProcess\"}\n",
      "2020-07-27 11:26:37.079     INFO:          stages: Running banzai.stages.PoissonInitializer | {\"filename\": \"lscnrs01-fl09-20180313-0030-e00.fits.fz\", \"site\": \"lsc\", \"instrument\": \"nres01\", \"epoch\": \"20180313\", \"request_num\": \"0001446787\", \"obstype\": \"TARGET\", \"filter\": null, \"processName\": \"MainProcess\"}\n",
      "2020-07-27 11:26:37.231     INFO:          stages: Running banzai.stages.DarkSubtractor | {\"filename\": \"lscnrs01-fl09-20180313-0030-e00.fits.fz\", \"site\": \"lsc\", \"instrument\": \"nres01\", \"epoch\": \"20180313\", \"request_num\": \"0001446787\", \"obstype\": \"TARGET\", \"filter\": null, \"processName\": \"MainProcess\"}\n",
      "2020-07-27 11:26:37.989     INFO:    calibrations: Applying master calibration | {\"filename\": \"lscnrs01-fl09-20180313-0030-e00.fits.fz\", \"site\": \"lsc\", \"instrument\": \"nres01\", \"epoch\": \"20180313\", \"request_num\": \"0001446787\", \"obstype\": \"TARGET\", \"filter\": null, \"master_calibration\": \"lscnrs01-fl09-20180313-dark-bin1x1.fits.fz\", \"processName\": \"MainProcess\"}\n",
      "2020-07-27 11:26:38.200     INFO:          stages: Running banzai.stages.FlatLoader | {\"filename\": \"lscnrs01-fl09-20180313-0030-e00.fits.fz\", \"site\": \"lsc\", \"instrument\": \"nres01\", \"epoch\": \"20180313\", \"request_num\": \"0001446787\", \"obstype\": \"TARGET\", \"filter\": null, \"processName\": \"MainProcess\"}\n",
      "2020-07-27 11:26:39.677     INFO:    calibrations: Applying master calibration | {\"filename\": \"lscnrs01-fl09-20180313-0030-e00.fits.fz\", \"site\": \"lsc\", \"instrument\": \"nres01\", \"epoch\": \"20180313\", \"request_num\": \"0001446787\", \"obstype\": \"TARGET\", \"filter\": null, \"master_calibration\": \"lscnrs01-fl09-20180313-lampflat-bin1x1-110.fits.fz\", \"processName\": \"MainProcess\"}\n",
      "2020-07-27 11:26:39.815     INFO:          stages: Running banzai.stages.BackgroundSubtractor | {\"filename\": \"lscnrs01-fl09-20180313-0030-e00.fits.fz\", \"site\": \"lsc\", \"instrument\": \"nres01\", \"epoch\": \"20180313\", \"request_num\": \"0001446787\", \"obstype\": \"TARGET\", \"filter\": null, \"processName\": \"MainProcess\"}\n",
      "2020-07-27 11:26:40.802     INFO:          stages: Running banzai.stages.ArcLoader | {\"filename\": \"lscnrs01-fl09-20180313-0030-e00.fits.fz\", \"site\": \"lsc\", \"instrument\": \"nres01\", \"epoch\": \"20180313\", \"request_num\": \"0001446787\", \"obstype\": \"TARGET\", \"filter\": null, \"processName\": \"MainProcess\"}\n",
      "2020-07-27 11:26:40.810    ERROR:    calibrations: Master DOUBLE does not exist | {\"filename\": \"lscnrs01-fl09-20180313-0030-e00.fits.fz\", \"site\": \"lsc\", \"instrument\": \"nres01\", \"epoch\": \"20180313\", \"request_num\": \"0001446787\", \"obstype\": \"TARGET\", \"filter\": null, \"processName\": \"MainProcess\"}\n",
      "2020-07-27 11:26:40.878    ERROR:     stage_utils: Reduction stopped | {\"filename\": [{\"path\": \"test_data/lsc/nres01/20180313/raw/lscnrs01-fl09-20180313-0030-e00.fits.fz\"}], \"processName\": \"MainProcess\"}\n",
      "2020-07-27 11:26:41.465     INFO:          stages: Running banzai.stages.BadPixelMaskLoader | {\"filename\": \"lscnrs01-fl09-20180313-0031-e00.fits.fz\", \"site\": \"lsc\", \"instrument\": \"nres01\", \"epoch\": \"20180313\", \"request_num\": \"0001446787\", \"obstype\": \"TARGET\", \"filter\": null, \"processName\": \"MainProcess\"}\n",
      "2020-07-27 11:26:41.686     INFO:    calibrations: Applying master calibration | {\"filename\": \"lscnrs01-fl09-20180313-0031-e00.fits.fz\", \"site\": \"lsc\", \"instrument\": \"nres01\", \"epoch\": \"20180313\", \"request_num\": \"0001446787\", \"obstype\": \"TARGET\", \"filter\": null, \"master_calibration\": \"bpm-lsc-nres01-fl09-20180215.fits.fz\", \"processName\": \"MainProcess\"}\n",
      "2020-07-27 11:26:41.724     INFO:          stages: Running banzai.stages.OverscanSubtractor | {\"filename\": \"lscnrs01-fl09-20180313-0031-e00.fits.fz\", \"site\": \"lsc\", \"instrument\": \"nres01\", \"epoch\": \"20180313\", \"request_num\": \"0001446787\", \"obstype\": \"TARGET\", \"filter\": null, \"processName\": \"MainProcess\"}\n",
      "2020-07-27 11:26:41.755     INFO:          stages: Running banzai.stages.GainNormalizer | {\"filename\": \"lscnrs01-fl09-20180313-0031-e00.fits.fz\", \"site\": \"lsc\", \"instrument\": \"nres01\", \"epoch\": \"20180313\", \"request_num\": \"0001446787\", \"obstype\": \"TARGET\", \"filter\": null, \"processName\": \"MainProcess\"}\n",
      "2020-07-27 11:26:41.757     INFO:            gain: Multiplying by gain | {\"filename\": \"lscnrs01-fl09-20180313-0031-e00.fits.fz\", \"site\": \"lsc\", \"instrument\": \"nres01\", \"epoch\": \"20180313\", \"request_num\": \"0001446787\", \"obstype\": \"TARGET\", \"filter\": null, \"processName\": \"MainProcess\"}\n",
      "2020-07-27 11:26:41.799     INFO:          stages: Running banzai.stages.Trimmer | {\"filename\": \"lscnrs01-fl09-20180313-0031-e00.fits.fz\", \"site\": \"lsc\", \"instrument\": \"nres01\", \"epoch\": \"20180313\", \"request_num\": \"0001446787\", \"obstype\": \"TARGET\", \"filter\": null, \"processName\": \"MainProcess\"}\n",
      "2020-07-27 11:26:41.800     INFO:            trim: Trimming image | {\"filename\": \"lscnrs01-fl09-20180313-0031-e00.fits.fz\", \"site\": \"lsc\", \"instrument\": \"nres01\", \"epoch\": \"20180313\", \"request_num\": \"0001446787\", \"obstype\": \"TARGET\", \"filter\": null, \"processName\": \"MainProcess\"}\n",
      "2020-07-27 11:26:42.091     INFO:          stages: Running banzai.stages.BiasSubtractor | {\"filename\": \"lscnrs01-fl09-20180313-0031-e00.fits.fz\", \"site\": \"lsc\", \"instrument\": \"nres01\", \"epoch\": \"20180313\", \"request_num\": \"0001446787\", \"obstype\": \"TARGET\", \"filter\": null, \"processName\": \"MainProcess\"}\n",
      "2020-07-27 11:26:42.852     INFO:    calibrations: Applying master calibration | {\"filename\": \"lscnrs01-fl09-20180313-0031-e00.fits.fz\", \"site\": \"lsc\", \"instrument\": \"nres01\", \"epoch\": \"20180313\", \"request_num\": \"0001446787\", \"obstype\": \"TARGET\", \"filter\": null, \"master_calibration\": \"lscnrs01-fl09-20180313-bias-bin1x1.fits.fz\", \"processName\": \"MainProcess\"}\n"
     ]
    },
    {
     "name": "stdout",
     "output_type": "stream",
     "text": [
      "2020-07-27 11:26:43.097     INFO:          stages: Running banzai.stages.PoissonInitializer | {\"filename\": \"lscnrs01-fl09-20180313-0031-e00.fits.fz\", \"site\": \"lsc\", \"instrument\": \"nres01\", \"epoch\": \"20180313\", \"request_num\": \"0001446787\", \"obstype\": \"TARGET\", \"filter\": null, \"processName\": \"MainProcess\"}\n",
      "2020-07-27 11:26:43.246     INFO:          stages: Running banzai.stages.DarkSubtractor | {\"filename\": \"lscnrs01-fl09-20180313-0031-e00.fits.fz\", \"site\": \"lsc\", \"instrument\": \"nres01\", \"epoch\": \"20180313\", \"request_num\": \"0001446787\", \"obstype\": \"TARGET\", \"filter\": null, \"processName\": \"MainProcess\"}\n",
      "2020-07-27 11:26:43.997     INFO:    calibrations: Applying master calibration | {\"filename\": \"lscnrs01-fl09-20180313-0031-e00.fits.fz\", \"site\": \"lsc\", \"instrument\": \"nres01\", \"epoch\": \"20180313\", \"request_num\": \"0001446787\", \"obstype\": \"TARGET\", \"filter\": null, \"master_calibration\": \"lscnrs01-fl09-20180313-dark-bin1x1.fits.fz\", \"processName\": \"MainProcess\"}\n",
      "2020-07-27 11:26:44.198     INFO:          stages: Running banzai.stages.FlatLoader | {\"filename\": \"lscnrs01-fl09-20180313-0031-e00.fits.fz\", \"site\": \"lsc\", \"instrument\": \"nres01\", \"epoch\": \"20180313\", \"request_num\": \"0001446787\", \"obstype\": \"TARGET\", \"filter\": null, \"processName\": \"MainProcess\"}\n",
      "2020-07-27 11:26:45.665     INFO:    calibrations: Applying master calibration | {\"filename\": \"lscnrs01-fl09-20180313-0031-e00.fits.fz\", \"site\": \"lsc\", \"instrument\": \"nres01\", \"epoch\": \"20180313\", \"request_num\": \"0001446787\", \"obstype\": \"TARGET\", \"filter\": null, \"master_calibration\": \"lscnrs01-fl09-20180313-lampflat-bin1x1-110.fits.fz\", \"processName\": \"MainProcess\"}\n",
      "2020-07-27 11:26:45.796     INFO:          stages: Running banzai.stages.BackgroundSubtractor | {\"filename\": \"lscnrs01-fl09-20180313-0031-e00.fits.fz\", \"site\": \"lsc\", \"instrument\": \"nres01\", \"epoch\": \"20180313\", \"request_num\": \"0001446787\", \"obstype\": \"TARGET\", \"filter\": null, \"processName\": \"MainProcess\"}\n",
      "2020-07-27 11:26:46.248     INFO:          stages: Running banzai.stages.ArcLoader | {\"filename\": \"lscnrs01-fl09-20180313-0031-e00.fits.fz\", \"site\": \"lsc\", \"instrument\": \"nres01\", \"epoch\": \"20180313\", \"request_num\": \"0001446787\", \"obstype\": \"TARGET\", \"filter\": null, \"processName\": \"MainProcess\"}\n",
      "2020-07-27 11:26:46.258    ERROR:    calibrations: Master DOUBLE does not exist | {\"filename\": \"lscnrs01-fl09-20180313-0031-e00.fits.fz\", \"site\": \"lsc\", \"instrument\": \"nres01\", \"epoch\": \"20180313\", \"request_num\": \"0001446787\", \"obstype\": \"TARGET\", \"filter\": null, \"processName\": \"MainProcess\"}\n",
      "2020-07-27 11:26:46.327    ERROR:     stage_utils: Reduction stopped | {\"filename\": [{\"path\": \"test_data/lsc/nres01/20180313/raw/lscnrs01-fl09-20180313-0031-e00.fits.fz\"}], \"processName\": \"MainProcess\"}\n",
      "2020-07-27 11:26:46.908     INFO:          stages: Running banzai.stages.BadPixelMaskLoader | {\"filename\": \"lscnrs01-fl09-20180313-0029-e00.fits.fz\", \"site\": \"lsc\", \"instrument\": \"nres01\", \"epoch\": \"20180313\", \"request_num\": \"0001446787\", \"obstype\": \"TARGET\", \"filter\": null, \"processName\": \"MainProcess\"}\n",
      "2020-07-27 11:26:47.136     INFO:    calibrations: Applying master calibration | {\"filename\": \"lscnrs01-fl09-20180313-0029-e00.fits.fz\", \"site\": \"lsc\", \"instrument\": \"nres01\", \"epoch\": \"20180313\", \"request_num\": \"0001446787\", \"obstype\": \"TARGET\", \"filter\": null, \"master_calibration\": \"bpm-lsc-nres01-fl09-20180215.fits.fz\", \"processName\": \"MainProcess\"}\n",
      "2020-07-27 11:26:47.174     INFO:          stages: Running banzai.stages.OverscanSubtractor | {\"filename\": \"lscnrs01-fl09-20180313-0029-e00.fits.fz\", \"site\": \"lsc\", \"instrument\": \"nres01\", \"epoch\": \"20180313\", \"request_num\": \"0001446787\", \"obstype\": \"TARGET\", \"filter\": null, \"processName\": \"MainProcess\"}\n",
      "2020-07-27 11:26:47.204     INFO:          stages: Running banzai.stages.GainNormalizer | {\"filename\": \"lscnrs01-fl09-20180313-0029-e00.fits.fz\", \"site\": \"lsc\", \"instrument\": \"nres01\", \"epoch\": \"20180313\", \"request_num\": \"0001446787\", \"obstype\": \"TARGET\", \"filter\": null, \"processName\": \"MainProcess\"}\n",
      "2020-07-27 11:26:47.204     INFO:            gain: Multiplying by gain | {\"filename\": \"lscnrs01-fl09-20180313-0029-e00.fits.fz\", \"site\": \"lsc\", \"instrument\": \"nres01\", \"epoch\": \"20180313\", \"request_num\": \"0001446787\", \"obstype\": \"TARGET\", \"filter\": null, \"processName\": \"MainProcess\"}\n",
      "2020-07-27 11:26:47.240     INFO:          stages: Running banzai.stages.Trimmer | {\"filename\": \"lscnrs01-fl09-20180313-0029-e00.fits.fz\", \"site\": \"lsc\", \"instrument\": \"nres01\", \"epoch\": \"20180313\", \"request_num\": \"0001446787\", \"obstype\": \"TARGET\", \"filter\": null, \"processName\": \"MainProcess\"}\n",
      "2020-07-27 11:26:47.241     INFO:            trim: Trimming image | {\"filename\": \"lscnrs01-fl09-20180313-0029-e00.fits.fz\", \"site\": \"lsc\", \"instrument\": \"nres01\", \"epoch\": \"20180313\", \"request_num\": \"0001446787\", \"obstype\": \"TARGET\", \"filter\": null, \"processName\": \"MainProcess\"}\n",
      "2020-07-27 11:26:47.538     INFO:          stages: Running banzai.stages.BiasSubtractor | {\"filename\": \"lscnrs01-fl09-20180313-0029-e00.fits.fz\", \"site\": \"lsc\", \"instrument\": \"nres01\", \"epoch\": \"20180313\", \"request_num\": \"0001446787\", \"obstype\": \"TARGET\", \"filter\": null, \"processName\": \"MainProcess\"}\n",
      "2020-07-27 11:26:48.281     INFO:    calibrations: Applying master calibration | {\"filename\": \"lscnrs01-fl09-20180313-0029-e00.fits.fz\", \"site\": \"lsc\", \"instrument\": \"nres01\", \"epoch\": \"20180313\", \"request_num\": \"0001446787\", \"obstype\": \"TARGET\", \"filter\": null, \"master_calibration\": \"lscnrs01-fl09-20180313-bias-bin1x1.fits.fz\", \"processName\": \"MainProcess\"}\n",
      "2020-07-27 11:26:48.516     INFO:          stages: Running banzai.stages.PoissonInitializer | {\"filename\": \"lscnrs01-fl09-20180313-0029-e00.fits.fz\", \"site\": \"lsc\", \"instrument\": \"nres01\", \"epoch\": \"20180313\", \"request_num\": \"0001446787\", \"obstype\": \"TARGET\", \"filter\": null, \"processName\": \"MainProcess\"}\n",
      "2020-07-27 11:26:48.659     INFO:          stages: Running banzai.stages.DarkSubtractor | {\"filename\": \"lscnrs01-fl09-20180313-0029-e00.fits.fz\", \"site\": \"lsc\", \"instrument\": \"nres01\", \"epoch\": \"20180313\", \"request_num\": \"0001446787\", \"obstype\": \"TARGET\", \"filter\": null, \"processName\": \"MainProcess\"}\n",
      "2020-07-27 11:26:49.434     INFO:    calibrations: Applying master calibration | {\"filename\": \"lscnrs01-fl09-20180313-0029-e00.fits.fz\", \"site\": \"lsc\", \"instrument\": \"nres01\", \"epoch\": \"20180313\", \"request_num\": \"0001446787\", \"obstype\": \"TARGET\", \"filter\": null, \"master_calibration\": \"lscnrs01-fl09-20180313-dark-bin1x1.fits.fz\", \"processName\": \"MainProcess\"}\n",
      "2020-07-27 11:26:49.628     INFO:          stages: Running banzai.stages.FlatLoader | {\"filename\": \"lscnrs01-fl09-20180313-0029-e00.fits.fz\", \"site\": \"lsc\", \"instrument\": \"nres01\", \"epoch\": \"20180313\", \"request_num\": \"0001446787\", \"obstype\": \"TARGET\", \"filter\": null, \"processName\": \"MainProcess\"}\n",
      "2020-07-27 11:26:51.138     INFO:    calibrations: Applying master calibration | {\"filename\": \"lscnrs01-fl09-20180313-0029-e00.fits.fz\", \"site\": \"lsc\", \"instrument\": \"nres01\", \"epoch\": \"20180313\", \"request_num\": \"0001446787\", \"obstype\": \"TARGET\", \"filter\": null, \"master_calibration\": \"lscnrs01-fl09-20180313-lampflat-bin1x1-110.fits.fz\", \"processName\": \"MainProcess\"}\n",
      "2020-07-27 11:27:10.139     INFO:    calibrations: Making master frames | {\"type\": \"1m0-NRES-SciCam\", \"site\": \"lsc\", \"camera\": \"fl09\", \"obstype\": \"DOUBLE\", \"min_date\": \"2017-01-01\", \"max_date\": \"2019-01-01\", \"processName\": \"MainProcess\"}\n",
      "2020-07-27 11:27:16.997     INFO:          stages: Running banzai.stages.ArcStacker | {\"filename\": \"lscnrs01-fl09-20180313-0007-a91.fits.fz\", \"site\": \"lsc\", \"instrument\": \"nres01\", \"epoch\": \"20180313\", \"request_num\": \"UNSPECIFIED\", \"obstype\": \"DOUBLE\", \"filter\": null, \"processName\": \"MainProcess\"}\n",
      "2020-07-27 11:27:19.508     INFO:    calibrations: Created master calibration stack | {\"filename\": \"lscnrs01-fl09-20180313-double-bin1x1-011.fits\", \"site\": \"lsc\", \"instrument\": \"nres01\", \"epoch\": \"20180313\", \"request_num\": \"UNSPECIFIED\", \"obstype\": \"DOUBLE\", \"filter\": null, \"calibration_type\": \"DOUBLE\", \"processName\": \"MainProcess\"}\n",
      "2020-07-27 11:27:19.509     INFO:          stages: Running banzai.stages.ArcStacker | {\"filename\": \"lscnrs01-fl09-20180313-0021-a91.fits.fz\", \"site\": \"lsc\", \"instrument\": \"nres01\", \"epoch\": \"20180313\", \"request_num\": \"UNSPECIFIED\", \"obstype\": \"DOUBLE\", \"filter\": null, \"processName\": \"MainProcess\"}\n"
     ]
    },
    {
     "name": "stdout",
     "output_type": "stream",
     "text": [
      "2020-07-27 11:27:22.584     INFO:    calibrations: Created master calibration stack | {\"filename\": \"lscnrs01-fl09-20180313-double-bin1x1-110.fits\", \"site\": \"lsc\", \"instrument\": \"nres01\", \"epoch\": \"20180313\", \"request_num\": \"UNSPECIFIED\", \"obstype\": \"DOUBLE\", \"filter\": null, \"calibration_type\": \"DOUBLE\", \"processName\": \"MainProcess\"}\n",
      "2020-07-27 11:27:22.739     INFO:          stages: Running banzai.stages.FlatLoader | {\"filename\": \"lscnrs01-fl09-20180313-double-bin1x1-011.fits\", \"site\": \"lsc\", \"instrument\": \"nres01\", \"epoch\": \"20180313\", \"request_num\": \"UNSPECIFIED\", \"obstype\": \"DOUBLE\", \"filter\": null, \"processName\": \"MainProcess\"}\n",
      "2020-07-27 11:27:24.220     INFO:    calibrations: Applying master calibration | {\"filename\": \"lscnrs01-fl09-20180313-double-bin1x1-011.fits\", \"site\": \"lsc\", \"instrument\": \"nres01\", \"epoch\": \"20180313\", \"request_num\": \"UNSPECIFIED\", \"obstype\": \"DOUBLE\", \"filter\": null, \"master_calibration\": \"lscnrs01-fl09-20180313-lampflat-bin1x1-011.fits.fz\", \"processName\": \"MainProcess\"}\n",
      "2020-07-27 11:27:24.385     INFO:          stages: Running banzai.stages.FlatLoader | {\"filename\": \"lscnrs01-fl09-20180313-double-bin1x1-110.fits\", \"site\": \"lsc\", \"instrument\": \"nres01\", \"epoch\": \"20180313\", \"request_num\": \"UNSPECIFIED\", \"obstype\": \"DOUBLE\", \"filter\": null, \"processName\": \"MainProcess\"}\n",
      "2020-07-27 11:27:25.856     INFO:    calibrations: Applying master calibration | {\"filename\": \"lscnrs01-fl09-20180313-double-bin1x1-110.fits\", \"site\": \"lsc\", \"instrument\": \"nres01\", \"epoch\": \"20180313\", \"request_num\": \"UNSPECIFIED\", \"obstype\": \"DOUBLE\", \"filter\": null, \"master_calibration\": \"lscnrs01-fl09-20180313-lampflat-bin1x1-110.fits.fz\", \"processName\": \"MainProcess\"}\n",
      "2020-07-27 11:27:26.003     INFO:          stages: Running banzai.stages.ArcLoader | {\"filename\": \"lscnrs01-fl09-20180313-double-bin1x1-011.fits\", \"site\": \"lsc\", \"instrument\": \"nres01\", \"epoch\": \"20180313\", \"request_num\": \"UNSPECIFIED\", \"obstype\": \"DOUBLE\", \"filter\": null, \"processName\": \"MainProcess\"}\n",
      "2020-07-27 11:27:26.011     INFO:          stages: Running banzai.stages.ArcLoader | {\"filename\": \"lscnrs01-fl09-20180313-double-bin1x1-110.fits\", \"site\": \"lsc\", \"instrument\": \"nres01\", \"epoch\": \"20180313\", \"request_num\": \"UNSPECIFIED\", \"obstype\": \"DOUBLE\", \"filter\": null, \"processName\": \"MainProcess\"}\n",
      "2020-07-27 11:27:26.019     INFO:          stages: Running banzai.stages.LineListLoader | {\"filename\": \"lscnrs01-fl09-20180313-double-bin1x1-011.fits\", \"site\": \"lsc\", \"instrument\": \"nres01\", \"epoch\": \"20180313\", \"request_num\": \"UNSPECIFIED\", \"obstype\": \"DOUBLE\", \"filter\": null, \"processName\": \"MainProcess\"}\n",
      "2020-07-27 11:27:26.034     INFO:      wavelength: Applying master calibration | {\"filename\": \"lscnrs01-fl09-20180313-double-bin1x1-011.fits\", \"site\": \"lsc\", \"instrument\": \"nres01\", \"epoch\": \"20180313\", \"request_num\": \"UNSPECIFIED\", \"obstype\": \"DOUBLE\", \"filter\": null, \"master_calibration\": \"ThAr_atlas_ESO.txt\", \"processName\": \"MainProcess\"}\n",
      "2020-07-27 11:27:26.035     INFO:          stages: Running banzai.stages.LineListLoader | {\"filename\": \"lscnrs01-fl09-20180313-double-bin1x1-110.fits\", \"site\": \"lsc\", \"instrument\": \"nres01\", \"epoch\": \"20180313\", \"request_num\": \"UNSPECIFIED\", \"obstype\": \"DOUBLE\", \"filter\": null, \"processName\": \"MainProcess\"}\n",
      "2020-07-27 11:27:26.043     INFO:      wavelength: Applying master calibration | {\"filename\": \"lscnrs01-fl09-20180313-double-bin1x1-110.fits\", \"site\": \"lsc\", \"instrument\": \"nres01\", \"epoch\": \"20180313\", \"request_num\": \"UNSPECIFIED\", \"obstype\": \"DOUBLE\", \"filter\": null, \"master_calibration\": \"ThAr_atlas_ESO.txt\", \"processName\": \"MainProcess\"}\n",
      "2020-07-27 11:27:26.044     INFO:          stages: Running banzai.stages.IdentifyFeatures | {\"filename\": \"lscnrs01-fl09-20180313-double-bin1x1-011.fits\", \"site\": \"lsc\", \"instrument\": \"nres01\", \"epoch\": \"20180313\", \"request_num\": \"UNSPECIFIED\", \"obstype\": \"DOUBLE\", \"filter\": null, \"processName\": \"MainProcess\"}\n",
      "2020-07-27 11:27:34.570     INFO:      wavelength: 9264 emission features found on this image | {\"filename\": \"lscnrs01-fl09-20180313-double-bin1x1-011.fits\", \"site\": \"lsc\", \"instrument\": \"nres01\", \"epoch\": \"20180313\", \"request_num\": \"UNSPECIFIED\", \"obstype\": \"DOUBLE\", \"filter\": null, \"processName\": \"MainProcess\"}\n",
      "2020-07-27 11:27:34.624     INFO:      wavelength: Blaze correcting emission feature fluxes | {\"filename\": \"lscnrs01-fl09-20180313-double-bin1x1-011.fits\", \"site\": \"lsc\", \"instrument\": \"nres01\", \"epoch\": \"20180313\", \"request_num\": \"UNSPECIFIED\", \"obstype\": \"DOUBLE\", \"filter\": null, \"processName\": \"MainProcess\"}\n",
      "2020-07-27 11:27:34.630     INFO:      wavelength: 4000 emission features on this image will be used | {\"filename\": \"lscnrs01-fl09-20180313-double-bin1x1-011.fits\", \"site\": \"lsc\", \"instrument\": \"nres01\", \"epoch\": \"20180313\", \"request_num\": \"UNSPECIFIED\", \"obstype\": \"DOUBLE\", \"filter\": null, \"processName\": \"MainProcess\"}\n",
      "2020-07-27 11:27:34.630     INFO:          stages: Running banzai.stages.IdentifyFeatures | {\"filename\": \"lscnrs01-fl09-20180313-double-bin1x1-110.fits\", \"site\": \"lsc\", \"instrument\": \"nres01\", \"epoch\": \"20180313\", \"request_num\": \"UNSPECIFIED\", \"obstype\": \"DOUBLE\", \"filter\": null, \"processName\": \"MainProcess\"}\n",
      "2020-07-27 11:27:39.934     INFO:      wavelength: 5992 emission features found on this image | {\"filename\": \"lscnrs01-fl09-20180313-double-bin1x1-110.fits\", \"site\": \"lsc\", \"instrument\": \"nres01\", \"epoch\": \"20180313\", \"request_num\": \"UNSPECIFIED\", \"obstype\": \"DOUBLE\", \"filter\": null, \"processName\": \"MainProcess\"}\n",
      "2020-07-27 11:27:39.970     INFO:      wavelength: Blaze correcting emission feature fluxes | {\"filename\": \"lscnrs01-fl09-20180313-double-bin1x1-110.fits\", \"site\": \"lsc\", \"instrument\": \"nres01\", \"epoch\": \"20180313\", \"request_num\": \"UNSPECIFIED\", \"obstype\": \"DOUBLE\", \"filter\": null, \"processName\": \"MainProcess\"}\n",
      "2020-07-27 11:27:39.976     INFO:      wavelength: 4000 emission features on this image will be used | {\"filename\": \"lscnrs01-fl09-20180313-double-bin1x1-110.fits\", \"site\": \"lsc\", \"instrument\": \"nres01\", \"epoch\": \"20180313\", \"request_num\": \"UNSPECIFIED\", \"obstype\": \"DOUBLE\", \"filter\": null, \"processName\": \"MainProcess\"}\n",
      "2020-07-27 11:27:39.977     INFO:          stages: Running banzai.stages.WavelengthCalibrate | {\"filename\": \"lscnrs01-fl09-20180313-double-bin1x1-011.fits\", \"site\": \"lsc\", \"instrument\": \"nres01\", \"epoch\": \"20180313\", \"request_num\": \"UNSPECIFIED\", \"obstype\": \"DOUBLE\", \"filter\": null, \"processName\": \"MainProcess\"}\n",
      "2020-07-27 11:27:40.002     INFO:      wavelength: Blind solving for the wavelengths for fiber 0 (arbitrary label). | {\"filename\": \"lscnrs01-fl09-20180313-double-bin1x1-011.fits\", \"site\": \"lsc\", \"instrument\": \"nres01\", \"epoch\": \"20180313\", \"request_num\": \"UNSPECIFIED\", \"obstype\": \"DOUBLE\", \"filter\": null, \"processName\": \"MainProcess\"}\n",
      "2020-07-27 11:29:25.918     INFO:      wavelength: Blind solving for the wavelengths for fiber 1 (arbitrary label). | {\"filename\": \"lscnrs01-fl09-20180313-double-bin1x1-011.fits\", \"site\": \"lsc\", \"instrument\": \"nres01\", \"epoch\": \"20180313\", \"request_num\": \"UNSPECIFIED\", \"obstype\": \"DOUBLE\", \"filter\": null, \"processName\": \"MainProcess\"}\n",
      "2020-07-27 11:30:14.702     INFO:      wavelength: Principle order number is 51 for fiber 0.0 | {\"filename\": \"lscnrs01-fl09-20180313-double-bin1x1-011.fits\", \"site\": \"lsc\", \"instrument\": \"nres01\", \"epoch\": \"20180313\", \"request_num\": \"UNSPECIFIED\", \"obstype\": \"DOUBLE\", \"filter\": null, \"processName\": \"MainProcess\"}\n",
      "2020-07-27 11:30:23.772     INFO:      wavelength: Principle order number is 52 for fiber 1.0 | {\"filename\": \"lscnrs01-fl09-20180313-double-bin1x1-011.fits\", \"site\": \"lsc\", \"instrument\": \"nres01\", \"epoch\": \"20180313\", \"request_num\": \"UNSPECIFIED\", \"obstype\": \"DOUBLE\", \"filter\": null, \"processName\": \"MainProcess\"}\n",
      "2020-07-27 11:30:33.154     INFO:          stages: Running banzai.stages.WavelengthCalibrate | {\"filename\": \"lscnrs01-fl09-20180313-double-bin1x1-110.fits\", \"site\": \"lsc\", \"instrument\": \"nres01\", \"epoch\": \"20180313\", \"request_num\": \"UNSPECIFIED\", \"obstype\": \"DOUBLE\", \"filter\": null, \"processName\": \"MainProcess\"}\n",
      "2020-07-27 11:30:33.171     INFO:      wavelength: Blind solving for the wavelengths for fiber 0 (arbitrary label). | {\"filename\": \"lscnrs01-fl09-20180313-double-bin1x1-110.fits\", \"site\": \"lsc\", \"instrument\": \"nres01\", \"epoch\": \"20180313\", \"request_num\": \"UNSPECIFIED\", \"obstype\": \"DOUBLE\", \"filter\": null, \"processName\": \"MainProcess\"}\n"
     ]
    },
    {
     "name": "stdout",
     "output_type": "stream",
     "text": [
      "2020-07-27 11:32:06.849     INFO:      wavelength: Blind solving for the wavelengths for fiber 1 (arbitrary label). | {\"filename\": \"lscnrs01-fl09-20180313-double-bin1x1-110.fits\", \"site\": \"lsc\", \"instrument\": \"nres01\", \"epoch\": \"20180313\", \"request_num\": \"UNSPECIFIED\", \"obstype\": \"DOUBLE\", \"filter\": null, \"processName\": \"MainProcess\"}\n",
      "2020-07-27 11:33:15.631     INFO:      wavelength: Principle order number is 51 for fiber 0.0 | {\"filename\": \"lscnrs01-fl09-20180313-double-bin1x1-110.fits\", \"site\": \"lsc\", \"instrument\": \"nres01\", \"epoch\": \"20180313\", \"request_num\": \"UNSPECIFIED\", \"obstype\": \"DOUBLE\", \"filter\": null, \"processName\": \"MainProcess\"}\n",
      "2020-07-27 11:33:24.767     INFO:      wavelength: Principle order number is 51 for fiber 1.0 | {\"filename\": \"lscnrs01-fl09-20180313-double-bin1x1-110.fits\", \"site\": \"lsc\", \"instrument\": \"nres01\", \"epoch\": \"20180313\", \"request_num\": \"UNSPECIFIED\", \"obstype\": \"DOUBLE\", \"filter\": null, \"processName\": \"MainProcess\"}\n",
      "2020-07-27 11:33:33.631     INFO:          stages: Running banzai.stages.AssessWavelengthSolution | {\"filename\": \"lscnrs01-fl09-20180313-double-bin1x1-011.fits\", \"site\": \"lsc\", \"instrument\": \"nres01\", \"epoch\": \"20180313\", \"request_num\": \"UNSPECIFIED\", \"obstype\": \"DOUBLE\", \"filter\": null, \"processName\": \"MainProcess\"}\n",
      "2020-07-27 11:33:33.634     INFO:          stages: Running banzai.stages.AssessWavelengthSolution | {\"filename\": \"lscnrs01-fl09-20180313-double-bin1x1-110.fits\", \"site\": \"lsc\", \"instrument\": \"nres01\", \"epoch\": \"20180313\", \"request_num\": \"UNSPECIFIED\", \"obstype\": \"DOUBLE\", \"filter\": null, \"processName\": \"MainProcess\"}\n",
      "2020-07-27 11:33:45.144     INFO:    calibrations: Finished | {\"processName\": \"MainProcess\"}\n",
      "2020-07-27 11:34:19.070     INFO:          stages: Running banzai.stages.BadPixelMaskLoader | {\"filename\": \"lscnrs01-fl09-20180313-0030-e00.fits.fz\", \"site\": \"lsc\", \"instrument\": \"nres01\", \"epoch\": \"20180313\", \"request_num\": \"0001446787\", \"obstype\": \"TARGET\", \"filter\": null, \"processName\": \"MainProcess\"}\n",
      "2020-07-27 11:34:19.279     INFO:    calibrations: Applying master calibration | {\"filename\": \"lscnrs01-fl09-20180313-0030-e00.fits.fz\", \"site\": \"lsc\", \"instrument\": \"nres01\", \"epoch\": \"20180313\", \"request_num\": \"0001446787\", \"obstype\": \"TARGET\", \"filter\": null, \"master_calibration\": \"bpm-lsc-nres01-fl09-20180215.fits.fz\", \"processName\": \"MainProcess\"}\n",
      "2020-07-27 11:34:19.325     INFO:          stages: Running banzai.stages.OverscanSubtractor | {\"filename\": \"lscnrs01-fl09-20180313-0030-e00.fits.fz\", \"site\": \"lsc\", \"instrument\": \"nres01\", \"epoch\": \"20180313\", \"request_num\": \"0001446787\", \"obstype\": \"TARGET\", \"filter\": null, \"processName\": \"MainProcess\"}\n",
      "2020-07-27 11:34:19.357     INFO:          stages: Running banzai.stages.GainNormalizer | {\"filename\": \"lscnrs01-fl09-20180313-0030-e00.fits.fz\", \"site\": \"lsc\", \"instrument\": \"nres01\", \"epoch\": \"20180313\", \"request_num\": \"0001446787\", \"obstype\": \"TARGET\", \"filter\": null, \"processName\": \"MainProcess\"}\n",
      "2020-07-27 11:34:19.358     INFO:            gain: Multiplying by gain | {\"filename\": \"lscnrs01-fl09-20180313-0030-e00.fits.fz\", \"site\": \"lsc\", \"instrument\": \"nres01\", \"epoch\": \"20180313\", \"request_num\": \"0001446787\", \"obstype\": \"TARGET\", \"filter\": null, \"processName\": \"MainProcess\"}\n",
      "2020-07-27 11:34:19.395     INFO:          stages: Running banzai.stages.Trimmer | {\"filename\": \"lscnrs01-fl09-20180313-0030-e00.fits.fz\", \"site\": \"lsc\", \"instrument\": \"nres01\", \"epoch\": \"20180313\", \"request_num\": \"0001446787\", \"obstype\": \"TARGET\", \"filter\": null, \"processName\": \"MainProcess\"}\n",
      "2020-07-27 11:34:19.396     INFO:            trim: Trimming image | {\"filename\": \"lscnrs01-fl09-20180313-0030-e00.fits.fz\", \"site\": \"lsc\", \"instrument\": \"nres01\", \"epoch\": \"20180313\", \"request_num\": \"0001446787\", \"obstype\": \"TARGET\", \"filter\": null, \"processName\": \"MainProcess\"}\n",
      "2020-07-27 11:34:19.680     INFO:          stages: Running banzai.stages.BiasSubtractor | {\"filename\": \"lscnrs01-fl09-20180313-0030-e00.fits.fz\", \"site\": \"lsc\", \"instrument\": \"nres01\", \"epoch\": \"20180313\", \"request_num\": \"0001446787\", \"obstype\": \"TARGET\", \"filter\": null, \"processName\": \"MainProcess\"}\n",
      "2020-07-27 11:34:20.427     INFO:    calibrations: Applying master calibration | {\"filename\": \"lscnrs01-fl09-20180313-0030-e00.fits.fz\", \"site\": \"lsc\", \"instrument\": \"nres01\", \"epoch\": \"20180313\", \"request_num\": \"0001446787\", \"obstype\": \"TARGET\", \"filter\": null, \"master_calibration\": \"lscnrs01-fl09-20180313-bias-bin1x1.fits.fz\", \"processName\": \"MainProcess\"}\n",
      "2020-07-27 11:34:20.657     INFO:          stages: Running banzai.stages.PoissonInitializer | {\"filename\": \"lscnrs01-fl09-20180313-0030-e00.fits.fz\", \"site\": \"lsc\", \"instrument\": \"nres01\", \"epoch\": \"20180313\", \"request_num\": \"0001446787\", \"obstype\": \"TARGET\", \"filter\": null, \"processName\": \"MainProcess\"}\n",
      "2020-07-27 11:34:20.791     INFO:          stages: Running banzai.stages.DarkSubtractor | {\"filename\": \"lscnrs01-fl09-20180313-0030-e00.fits.fz\", \"site\": \"lsc\", \"instrument\": \"nres01\", \"epoch\": \"20180313\", \"request_num\": \"0001446787\", \"obstype\": \"TARGET\", \"filter\": null, \"processName\": \"MainProcess\"}\n",
      "2020-07-27 11:34:21.550     INFO:    calibrations: Applying master calibration | {\"filename\": \"lscnrs01-fl09-20180313-0030-e00.fits.fz\", \"site\": \"lsc\", \"instrument\": \"nres01\", \"epoch\": \"20180313\", \"request_num\": \"0001446787\", \"obstype\": \"TARGET\", \"filter\": null, \"master_calibration\": \"lscnrs01-fl09-20180313-dark-bin1x1.fits.fz\", \"processName\": \"MainProcess\"}\n",
      "2020-07-27 11:34:21.753     INFO:          stages: Running banzai.stages.FlatLoader | {\"filename\": \"lscnrs01-fl09-20180313-0030-e00.fits.fz\", \"site\": \"lsc\", \"instrument\": \"nres01\", \"epoch\": \"20180313\", \"request_num\": \"0001446787\", \"obstype\": \"TARGET\", \"filter\": null, \"processName\": \"MainProcess\"}\n",
      "2020-07-27 11:34:23.162     INFO:    calibrations: Applying master calibration | {\"filename\": \"lscnrs01-fl09-20180313-0030-e00.fits.fz\", \"site\": \"lsc\", \"instrument\": \"nres01\", \"epoch\": \"20180313\", \"request_num\": \"0001446787\", \"obstype\": \"TARGET\", \"filter\": null, \"master_calibration\": \"lscnrs01-fl09-20180313-lampflat-bin1x1-110.fits.fz\", \"processName\": \"MainProcess\"}\n",
      "2020-07-27 11:34:23.296     INFO:          stages: Running banzai.stages.BackgroundSubtractor | {\"filename\": \"lscnrs01-fl09-20180313-0030-e00.fits.fz\", \"site\": \"lsc\", \"instrument\": \"nres01\", \"epoch\": \"20180313\", \"request_num\": \"0001446787\", \"obstype\": \"TARGET\", \"filter\": null, \"processName\": \"MainProcess\"}\n",
      "2020-07-27 11:34:23.737     INFO:          stages: Running banzai.stages.ArcLoader | {\"filename\": \"lscnrs01-fl09-20180313-0030-e00.fits.fz\", \"site\": \"lsc\", \"instrument\": \"nres01\", \"epoch\": \"20180313\", \"request_num\": \"0001446787\", \"obstype\": \"TARGET\", \"filter\": null, \"processName\": \"MainProcess\"}\n",
      "2020-07-27 11:34:25.554     INFO:    calibrations: Applying master calibration | {\"filename\": \"lscnrs01-fl09-20180313-0030-e00.fits.fz\", \"site\": \"lsc\", \"instrument\": \"nres01\", \"epoch\": \"20180313\", \"request_num\": \"0001446787\", \"obstype\": \"TARGET\", \"filter\": null, \"master_calibration\": \"lscnrs01-fl09-20180313-double-bin1x1-110.fits.fz\", \"processName\": \"MainProcess\"}\n",
      "2020-07-27 11:34:25.708     INFO:          stages: Running banzai.stages.GetOptimalExtractionWeights | {\"filename\": \"lscnrs01-fl09-20180313-0030-e00.fits.fz\", \"site\": \"lsc\", \"instrument\": \"nres01\", \"epoch\": \"20180313\", \"request_num\": \"0001446787\", \"obstype\": \"TARGET\", \"filter\": null, \"processName\": \"MainProcess\"}\n",
      "2020-07-27 11:34:42.978     INFO:          stages: Running banzai.stages.WeightedExtract | {\"filename\": \"lscnrs01-fl09-20180313-0030-e00.fits.fz\", \"site\": \"lsc\", \"instrument\": \"nres01\", \"epoch\": \"20180313\", \"request_num\": \"0001446787\", \"obstype\": \"TARGET\", \"filter\": null, \"processName\": \"MainProcess\"}\n",
      "2020-07-27 11:35:00.232     INFO:          stages: Running banzai.stages.ContinuumNormalizer | {\"filename\": \"lscnrs01-fl09-20180313-0030-e00.fits.fz\", \"site\": \"lsc\", \"instrument\": \"nres01\", \"epoch\": \"20180313\", \"request_num\": \"0001446787\", \"obstype\": \"TARGET\", \"filter\": null, \"processName\": \"MainProcess\"}\n",
      "2020-07-27 11:35:01.438     INFO:          stages: Running banzai.stages.RVCalculator | {\"filename\": \"lscnrs01-fl09-20180313-0030-e00.fits.fz\", \"site\": \"lsc\", \"instrument\": \"nres01\", \"epoch\": \"20180313\", \"request_num\": \"0001446787\", \"obstype\": \"TARGET\", \"filter\": null, \"processName\": \"MainProcess\"}\n"
     ]
    },
    {
     "name": "stdout",
     "output_type": "stream",
     "text": [
      "2020-07-27 11:35:01.445     INFO:              rv: Cross correlating for order: 75 | {\"filename\": \"lscnrs01-fl09-20180313-0030-e00.fits.fz\", \"site\": \"lsc\", \"instrument\": \"nres01\", \"epoch\": \"20180313\", \"request_num\": \"0001446787\", \"obstype\": \"TARGET\", \"filter\": null, \"processName\": \"MainProcess\"}\n",
      "2020-07-27 11:35:01.840     INFO:              rv: Cross correlating for order: 76 | {\"filename\": \"lscnrs01-fl09-20180313-0030-e00.fits.fz\", \"site\": \"lsc\", \"instrument\": \"nres01\", \"epoch\": \"20180313\", \"request_num\": \"0001446787\", \"obstype\": \"TARGET\", \"filter\": null, \"processName\": \"MainProcess\"}\n",
      "2020-07-27 11:35:02.230     INFO:              rv: Cross correlating for order: 77 | {\"filename\": \"lscnrs01-fl09-20180313-0030-e00.fits.fz\", \"site\": \"lsc\", \"instrument\": \"nres01\", \"epoch\": \"20180313\", \"request_num\": \"0001446787\", \"obstype\": \"TARGET\", \"filter\": null, \"processName\": \"MainProcess\"}\n",
      "2020-07-27 11:35:02.617     INFO:              rv: Cross correlating for order: 78 | {\"filename\": \"lscnrs01-fl09-20180313-0030-e00.fits.fz\", \"site\": \"lsc\", \"instrument\": \"nres01\", \"epoch\": \"20180313\", \"request_num\": \"0001446787\", \"obstype\": \"TARGET\", \"filter\": null, \"processName\": \"MainProcess\"}\n",
      "2020-07-27 11:35:02.995     INFO:              rv: Cross correlating for order: 79 | {\"filename\": \"lscnrs01-fl09-20180313-0030-e00.fits.fz\", \"site\": \"lsc\", \"instrument\": \"nres01\", \"epoch\": \"20180313\", \"request_num\": \"0001446787\", \"obstype\": \"TARGET\", \"filter\": null, \"processName\": \"MainProcess\"}\n",
      "2020-07-27 11:35:03.365     INFO:              rv: Cross correlating for order: 80 | {\"filename\": \"lscnrs01-fl09-20180313-0030-e00.fits.fz\", \"site\": \"lsc\", \"instrument\": \"nres01\", \"epoch\": \"20180313\", \"request_num\": \"0001446787\", \"obstype\": \"TARGET\", \"filter\": null, \"processName\": \"MainProcess\"}\n",
      "2020-07-27 11:35:03.739     INFO:              rv: Cross correlating for order: 81 | {\"filename\": \"lscnrs01-fl09-20180313-0030-e00.fits.fz\", \"site\": \"lsc\", \"instrument\": \"nres01\", \"epoch\": \"20180313\", \"request_num\": \"0001446787\", \"obstype\": \"TARGET\", \"filter\": null, \"processName\": \"MainProcess\"}\n",
      "2020-07-27 11:35:04.115     INFO:              rv: Cross correlating for order: 82 | {\"filename\": \"lscnrs01-fl09-20180313-0030-e00.fits.fz\", \"site\": \"lsc\", \"instrument\": \"nres01\", \"epoch\": \"20180313\", \"request_num\": \"0001446787\", \"obstype\": \"TARGET\", \"filter\": null, \"processName\": \"MainProcess\"}\n",
      "2020-07-27 11:35:04.490     INFO:              rv: Cross correlating for order: 83 | {\"filename\": \"lscnrs01-fl09-20180313-0030-e00.fits.fz\", \"site\": \"lsc\", \"instrument\": \"nres01\", \"epoch\": \"20180313\", \"request_num\": \"0001446787\", \"obstype\": \"TARGET\", \"filter\": null, \"processName\": \"MainProcess\"}\n",
      "2020-07-27 11:35:04.859     INFO:              rv: Cross correlating for order: 84 | {\"filename\": \"lscnrs01-fl09-20180313-0030-e00.fits.fz\", \"site\": \"lsc\", \"instrument\": \"nres01\", \"epoch\": \"20180313\", \"request_num\": \"0001446787\", \"obstype\": \"TARGET\", \"filter\": null, \"processName\": \"MainProcess\"}\n",
      "2020-07-27 11:35:05.231     INFO:              rv: Cross correlating for order: 85 | {\"filename\": \"lscnrs01-fl09-20180313-0030-e00.fits.fz\", \"site\": \"lsc\", \"instrument\": \"nres01\", \"epoch\": \"20180313\", \"request_num\": \"0001446787\", \"obstype\": \"TARGET\", \"filter\": null, \"processName\": \"MainProcess\"}\n",
      "2020-07-27 11:35:05.603     INFO:              rv: Cross correlating for order: 86 | {\"filename\": \"lscnrs01-fl09-20180313-0030-e00.fits.fz\", \"site\": \"lsc\", \"instrument\": \"nres01\", \"epoch\": \"20180313\", \"request_num\": \"0001446787\", \"obstype\": \"TARGET\", \"filter\": null, \"processName\": \"MainProcess\"}\n",
      "2020-07-27 11:35:05.973     INFO:              rv: Cross correlating for order: 87 | {\"filename\": \"lscnrs01-fl09-20180313-0030-e00.fits.fz\", \"site\": \"lsc\", \"instrument\": \"nres01\", \"epoch\": \"20180313\", \"request_num\": \"0001446787\", \"obstype\": \"TARGET\", \"filter\": null, \"processName\": \"MainProcess\"}\n",
      "2020-07-27 11:35:06.342     INFO:              rv: Cross correlating for order: 88 | {\"filename\": \"lscnrs01-fl09-20180313-0030-e00.fits.fz\", \"site\": \"lsc\", \"instrument\": \"nres01\", \"epoch\": \"20180313\", \"request_num\": \"0001446787\", \"obstype\": \"TARGET\", \"filter\": null, \"processName\": \"MainProcess\"}\n",
      "2020-07-27 11:35:06.716     INFO:              rv: Cross correlating for order: 89 | {\"filename\": \"lscnrs01-fl09-20180313-0030-e00.fits.fz\", \"site\": \"lsc\", \"instrument\": \"nres01\", \"epoch\": \"20180313\", \"request_num\": \"0001446787\", \"obstype\": \"TARGET\", \"filter\": null, \"processName\": \"MainProcess\"}\n",
      "2020-07-27 11:35:07.088     INFO:              rv: Cross correlating for order: 90 | {\"filename\": \"lscnrs01-fl09-20180313-0030-e00.fits.fz\", \"site\": \"lsc\", \"instrument\": \"nres01\", \"epoch\": \"20180313\", \"request_num\": \"0001446787\", \"obstype\": \"TARGET\", \"filter\": null, \"processName\": \"MainProcess\"}\n",
      "2020-07-27 11:35:07.453     INFO:              rv: Cross correlating for order: 91 | {\"filename\": \"lscnrs01-fl09-20180313-0030-e00.fits.fz\", \"site\": \"lsc\", \"instrument\": \"nres01\", \"epoch\": \"20180313\", \"request_num\": \"0001446787\", \"obstype\": \"TARGET\", \"filter\": null, \"processName\": \"MainProcess\"}\n",
      "2020-07-27 11:35:07.823     INFO:              rv: Cross correlating for order: 92 | {\"filename\": \"lscnrs01-fl09-20180313-0030-e00.fits.fz\", \"site\": \"lsc\", \"instrument\": \"nres01\", \"epoch\": \"20180313\", \"request_num\": \"0001446787\", \"obstype\": \"TARGET\", \"filter\": null, \"processName\": \"MainProcess\"}\n",
      "2020-07-27 11:35:08.197     INFO:              rv: Cross correlating for order: 93 | {\"filename\": \"lscnrs01-fl09-20180313-0030-e00.fits.fz\", \"site\": \"lsc\", \"instrument\": \"nres01\", \"epoch\": \"20180313\", \"request_num\": \"0001446787\", \"obstype\": \"TARGET\", \"filter\": null, \"processName\": \"MainProcess\"}\n",
      "2020-07-27 11:35:08.573     INFO:              rv: Cross correlating for order: 94 | {\"filename\": \"lscnrs01-fl09-20180313-0030-e00.fits.fz\", \"site\": \"lsc\", \"instrument\": \"nres01\", \"epoch\": \"20180313\", \"request_num\": \"0001446787\", \"obstype\": \"TARGET\", \"filter\": null, \"processName\": \"MainProcess\"}\n",
      "2020-07-27 11:35:08.956     INFO:              rv: Cross correlating for order: 95 | {\"filename\": \"lscnrs01-fl09-20180313-0030-e00.fits.fz\", \"site\": \"lsc\", \"instrument\": \"nres01\", \"epoch\": \"20180313\", \"request_num\": \"0001446787\", \"obstype\": \"TARGET\", \"filter\": null, \"processName\": \"MainProcess\"}\n",
      "2020-07-27 11:35:09.338     INFO:              rv: Cross correlating for order: 96 | {\"filename\": \"lscnrs01-fl09-20180313-0030-e00.fits.fz\", \"site\": \"lsc\", \"instrument\": \"nres01\", \"epoch\": \"20180313\", \"request_num\": \"0001446787\", \"obstype\": \"TARGET\", \"filter\": null, \"processName\": \"MainProcess\"}\n",
      "2020-07-27 11:35:09.713     INFO:              rv: Cross correlating for order: 97 | {\"filename\": \"lscnrs01-fl09-20180313-0030-e00.fits.fz\", \"site\": \"lsc\", \"instrument\": \"nres01\", \"epoch\": \"20180313\", \"request_num\": \"0001446787\", \"obstype\": \"TARGET\", \"filter\": null, \"processName\": \"MainProcess\"}\n",
      "2020-07-27 11:35:10.090     INFO:              rv: Cross correlating for order: 98 | {\"filename\": \"lscnrs01-fl09-20180313-0030-e00.fits.fz\", \"site\": \"lsc\", \"instrument\": \"nres01\", \"epoch\": \"20180313\", \"request_num\": \"0001446787\", \"obstype\": \"TARGET\", \"filter\": null, \"processName\": \"MainProcess\"}\n",
      "2020-07-27 11:35:10.466     INFO:              rv: Cross correlating for order: 99 | {\"filename\": \"lscnrs01-fl09-20180313-0030-e00.fits.fz\", \"site\": \"lsc\", \"instrument\": \"nres01\", \"epoch\": \"20180313\", \"request_num\": \"0001446787\", \"obstype\": \"TARGET\", \"filter\": null, \"processName\": \"MainProcess\"}\n",
      "2020-07-27 11:35:10.834     INFO:              rv: Cross correlating for order: 100 | {\"filename\": \"lscnrs01-fl09-20180313-0030-e00.fits.fz\", \"site\": \"lsc\", \"instrument\": \"nres01\", \"epoch\": \"20180313\", \"request_num\": \"0001446787\", \"obstype\": \"TARGET\", \"filter\": null, \"processName\": \"MainProcess\"}\n",
      "2020-07-27 11:35:11.219     INFO:              rv: Cross correlating for order: 75 | {\"filename\": \"lscnrs01-fl09-20180313-0030-e00.fits.fz\", \"site\": \"lsc\", \"instrument\": \"nres01\", \"epoch\": \"20180313\", \"request_num\": \"0001446787\", \"obstype\": \"TARGET\", \"filter\": null, \"processName\": \"MainProcess\"}\n",
      "2020-07-27 11:35:11.642     INFO:              rv: Cross correlating for order: 76 | {\"filename\": \"lscnrs01-fl09-20180313-0030-e00.fits.fz\", \"site\": \"lsc\", \"instrument\": \"nres01\", \"epoch\": \"20180313\", \"request_num\": \"0001446787\", \"obstype\": \"TARGET\", \"filter\": null, \"processName\": \"MainProcess\"}\n"
     ]
    },
    {
     "name": "stdout",
     "output_type": "stream",
     "text": [
      "2020-07-27 11:35:12.058     INFO:              rv: Cross correlating for order: 77 | {\"filename\": \"lscnrs01-fl09-20180313-0030-e00.fits.fz\", \"site\": \"lsc\", \"instrument\": \"nres01\", \"epoch\": \"20180313\", \"request_num\": \"0001446787\", \"obstype\": \"TARGET\", \"filter\": null, \"processName\": \"MainProcess\"}\n",
      "2020-07-27 11:35:12.469     INFO:              rv: Cross correlating for order: 78 | {\"filename\": \"lscnrs01-fl09-20180313-0030-e00.fits.fz\", \"site\": \"lsc\", \"instrument\": \"nres01\", \"epoch\": \"20180313\", \"request_num\": \"0001446787\", \"obstype\": \"TARGET\", \"filter\": null, \"processName\": \"MainProcess\"}\n",
      "2020-07-27 11:35:12.875     INFO:              rv: Cross correlating for order: 79 | {\"filename\": \"lscnrs01-fl09-20180313-0030-e00.fits.fz\", \"site\": \"lsc\", \"instrument\": \"nres01\", \"epoch\": \"20180313\", \"request_num\": \"0001446787\", \"obstype\": \"TARGET\", \"filter\": null, \"processName\": \"MainProcess\"}\n",
      "2020-07-27 11:35:13.288     INFO:              rv: Cross correlating for order: 80 | {\"filename\": \"lscnrs01-fl09-20180313-0030-e00.fits.fz\", \"site\": \"lsc\", \"instrument\": \"nres01\", \"epoch\": \"20180313\", \"request_num\": \"0001446787\", \"obstype\": \"TARGET\", \"filter\": null, \"processName\": \"MainProcess\"}\n",
      "2020-07-27 11:35:13.692     INFO:              rv: Cross correlating for order: 81 | {\"filename\": \"lscnrs01-fl09-20180313-0030-e00.fits.fz\", \"site\": \"lsc\", \"instrument\": \"nres01\", \"epoch\": \"20180313\", \"request_num\": \"0001446787\", \"obstype\": \"TARGET\", \"filter\": null, \"processName\": \"MainProcess\"}\n",
      "2020-07-27 11:35:14.093     INFO:              rv: Cross correlating for order: 82 | {\"filename\": \"lscnrs01-fl09-20180313-0030-e00.fits.fz\", \"site\": \"lsc\", \"instrument\": \"nres01\", \"epoch\": \"20180313\", \"request_num\": \"0001446787\", \"obstype\": \"TARGET\", \"filter\": null, \"processName\": \"MainProcess\"}\n",
      "2020-07-27 11:35:14.497     INFO:              rv: Cross correlating for order: 83 | {\"filename\": \"lscnrs01-fl09-20180313-0030-e00.fits.fz\", \"site\": \"lsc\", \"instrument\": \"nres01\", \"epoch\": \"20180313\", \"request_num\": \"0001446787\", \"obstype\": \"TARGET\", \"filter\": null, \"processName\": \"MainProcess\"}\n",
      "2020-07-27 11:35:14.896     INFO:              rv: Cross correlating for order: 84 | {\"filename\": \"lscnrs01-fl09-20180313-0030-e00.fits.fz\", \"site\": \"lsc\", \"instrument\": \"nres01\", \"epoch\": \"20180313\", \"request_num\": \"0001446787\", \"obstype\": \"TARGET\", \"filter\": null, \"processName\": \"MainProcess\"}\n",
      "2020-07-27 11:35:15.293     INFO:              rv: Cross correlating for order: 85 | {\"filename\": \"lscnrs01-fl09-20180313-0030-e00.fits.fz\", \"site\": \"lsc\", \"instrument\": \"nres01\", \"epoch\": \"20180313\", \"request_num\": \"0001446787\", \"obstype\": \"TARGET\", \"filter\": null, \"processName\": \"MainProcess\"}\n",
      "2020-07-27 11:35:15.687     INFO:              rv: Cross correlating for order: 86 | {\"filename\": \"lscnrs01-fl09-20180313-0030-e00.fits.fz\", \"site\": \"lsc\", \"instrument\": \"nres01\", \"epoch\": \"20180313\", \"request_num\": \"0001446787\", \"obstype\": \"TARGET\", \"filter\": null, \"processName\": \"MainProcess\"}\n",
      "2020-07-27 11:35:16.082     INFO:              rv: Cross correlating for order: 87 | {\"filename\": \"lscnrs01-fl09-20180313-0030-e00.fits.fz\", \"site\": \"lsc\", \"instrument\": \"nres01\", \"epoch\": \"20180313\", \"request_num\": \"0001446787\", \"obstype\": \"TARGET\", \"filter\": null, \"processName\": \"MainProcess\"}\n",
      "2020-07-27 11:35:16.473     INFO:              rv: Cross correlating for order: 88 | {\"filename\": \"lscnrs01-fl09-20180313-0030-e00.fits.fz\", \"site\": \"lsc\", \"instrument\": \"nres01\", \"epoch\": \"20180313\", \"request_num\": \"0001446787\", \"obstype\": \"TARGET\", \"filter\": null, \"processName\": \"MainProcess\"}\n",
      "2020-07-27 11:35:16.867     INFO:              rv: Cross correlating for order: 89 | {\"filename\": \"lscnrs01-fl09-20180313-0030-e00.fits.fz\", \"site\": \"lsc\", \"instrument\": \"nres01\", \"epoch\": \"20180313\", \"request_num\": \"0001446787\", \"obstype\": \"TARGET\", \"filter\": null, \"processName\": \"MainProcess\"}\n",
      "2020-07-27 11:35:17.261     INFO:              rv: Cross correlating for order: 90 | {\"filename\": \"lscnrs01-fl09-20180313-0030-e00.fits.fz\", \"site\": \"lsc\", \"instrument\": \"nres01\", \"epoch\": \"20180313\", \"request_num\": \"0001446787\", \"obstype\": \"TARGET\", \"filter\": null, \"processName\": \"MainProcess\"}\n",
      "2020-07-27 11:35:17.653     INFO:              rv: Cross correlating for order: 91 | {\"filename\": \"lscnrs01-fl09-20180313-0030-e00.fits.fz\", \"site\": \"lsc\", \"instrument\": \"nres01\", \"epoch\": \"20180313\", \"request_num\": \"0001446787\", \"obstype\": \"TARGET\", \"filter\": null, \"processName\": \"MainProcess\"}\n",
      "2020-07-27 11:35:18.034     INFO:              rv: Cross correlating for order: 92 | {\"filename\": \"lscnrs01-fl09-20180313-0030-e00.fits.fz\", \"site\": \"lsc\", \"instrument\": \"nres01\", \"epoch\": \"20180313\", \"request_num\": \"0001446787\", \"obstype\": \"TARGET\", \"filter\": null, \"processName\": \"MainProcess\"}\n",
      "2020-07-27 11:35:18.407     INFO:              rv: Cross correlating for order: 93 | {\"filename\": \"lscnrs01-fl09-20180313-0030-e00.fits.fz\", \"site\": \"lsc\", \"instrument\": \"nres01\", \"epoch\": \"20180313\", \"request_num\": \"0001446787\", \"obstype\": \"TARGET\", \"filter\": null, \"processName\": \"MainProcess\"}\n",
      "2020-07-27 11:35:18.821     INFO:              rv: Cross correlating for order: 94 | {\"filename\": \"lscnrs01-fl09-20180313-0030-e00.fits.fz\", \"site\": \"lsc\", \"instrument\": \"nres01\", \"epoch\": \"20180313\", \"request_num\": \"0001446787\", \"obstype\": \"TARGET\", \"filter\": null, \"processName\": \"MainProcess\"}\n",
      "2020-07-27 11:35:19.225     INFO:              rv: Cross correlating for order: 95 | {\"filename\": \"lscnrs01-fl09-20180313-0030-e00.fits.fz\", \"site\": \"lsc\", \"instrument\": \"nres01\", \"epoch\": \"20180313\", \"request_num\": \"0001446787\", \"obstype\": \"TARGET\", \"filter\": null, \"processName\": \"MainProcess\"}\n",
      "2020-07-27 11:35:19.626     INFO:              rv: Cross correlating for order: 96 | {\"filename\": \"lscnrs01-fl09-20180313-0030-e00.fits.fz\", \"site\": \"lsc\", \"instrument\": \"nres01\", \"epoch\": \"20180313\", \"request_num\": \"0001446787\", \"obstype\": \"TARGET\", \"filter\": null, \"processName\": \"MainProcess\"}\n",
      "2020-07-27 11:35:20.022     INFO:              rv: Cross correlating for order: 97 | {\"filename\": \"lscnrs01-fl09-20180313-0030-e00.fits.fz\", \"site\": \"lsc\", \"instrument\": \"nres01\", \"epoch\": \"20180313\", \"request_num\": \"0001446787\", \"obstype\": \"TARGET\", \"filter\": null, \"processName\": \"MainProcess\"}\n",
      "2020-07-27 11:35:20.424     INFO:              rv: Cross correlating for order: 98 | {\"filename\": \"lscnrs01-fl09-20180313-0030-e00.fits.fz\", \"site\": \"lsc\", \"instrument\": \"nres01\", \"epoch\": \"20180313\", \"request_num\": \"0001446787\", \"obstype\": \"TARGET\", \"filter\": null, \"processName\": \"MainProcess\"}\n",
      "2020-07-27 11:35:20.825     INFO:              rv: Cross correlating for order: 99 | {\"filename\": \"lscnrs01-fl09-20180313-0030-e00.fits.fz\", \"site\": \"lsc\", \"instrument\": \"nres01\", \"epoch\": \"20180313\", \"request_num\": \"0001446787\", \"obstype\": \"TARGET\", \"filter\": null, \"processName\": \"MainProcess\"}\n",
      "2020-07-27 11:35:21.232     INFO:              rv: Cross correlating for order: 100 | {\"filename\": \"lscnrs01-fl09-20180313-0030-e00.fits.fz\", \"site\": \"lsc\", \"instrument\": \"nres01\", \"epoch\": \"20180313\", \"request_num\": \"0001446787\", \"obstype\": \"TARGET\", \"filter\": null, \"processName\": \"MainProcess\"}\n",
      "2020-07-27 11:35:21.631    ERROR:          stages: ['Traceback (most recent call last):\\n', '  File \"/home/gmbrandt/envs/nres/lib/python3.6/site-packages/sqlalchemy/engine/base.py\", line 1246, in _execute_context\\n    cursor, statement, parameters, context\\n', '  File \"/home/gmbrandt/envs/nres/lib/python3.6/site-packages/sqlalchemy/engine/default.py\", line 588, in do_execute\\n    cursor.execute(statement, parameters)\\n', 'sqlite3.OperationalError: no such column: sites.latitude\\n', '\\nThe above exception was the direct cause of the following exception:\\n\\n', 'Traceback (most recent call last):\\n', '  File \"/home/gmbrandt/envs/nres/lib/python3.6/site-packages/banzai/stages.py\", line 47, in run\\n    processed_image = self.do_stage(image_set)\\n', '  File \"/home/gmbrandt/Documents/banzai-nres/banzai_nres/rv.py\", line 125, in do_stage\\n    dbs.get_site(image.instrument.site, self.runtime_context.db_address))\\n', '  File \"/home/gmbrandt/envs/nres/lib/python3.6/site-packages/banzai/dbs.py\", line 316, in get_site\\n    site_list = db_session.query(Site).filter(Site.id == site_id).all()\\n', '  File \"/home/gmbrandt/envs/nres/lib/python3.6/site-packages/sqlalchemy/orm/query.py\", line 3233, in all\\n    return list(self)\\n', '  File \"/home/gmbrandt/envs/nres/lib/python3.6/site-packages/sqlalchemy/orm/query.py\", line 3389, in __iter__\\n    return self._execute_and_instances(context)\\n', '  File \"/home/gmbrandt/envs/nres/lib/python3.6/site-packages/sqlalchemy/orm/query.py\", line 3414, in _execute_and_instances\\n    result = conn.execute(querycontext.statement, self._params)\\n', '  File \"/home/gmbrandt/envs/nres/lib/python3.6/site-packages/sqlalchemy/engine/base.py\", line 982, in execute\\n    return meth(self, multiparams, params)\\n', '  File \"/home/gmbrandt/envs/nres/lib/python3.6/site-packages/sqlalchemy/sql/elements.py\", line 293, in _execute_on_connection\\n    return connection._execute_clauseelement(self, multiparams, params)\\n', '  File \"/home/gmbrandt/envs/nres/lib/python3.6/site-packages/sqlalchemy/engine/base.py\", line 1101, in _execute_clauseelement\\n    distilled_params,\\n', '  File \"/home/gmbrandt/envs/nres/lib/python3.6/site-packages/sqlalchemy/engine/base.py\", line 1250, in _execute_context\\n    e, statement, parameters, cursor, context\\n', '  File \"/home/gmbrandt/envs/nres/lib/python3.6/site-packages/sqlalchemy/engine/base.py\", line 1476, in _handle_dbapi_exception\\n    util.raise_from_cause(sqlalchemy_exception, exc_info)\\n', '  File \"/home/gmbrandt/envs/nres/lib/python3.6/site-packages/sqlalchemy/util/compat.py\", line 398, in raise_from_cause\\n    reraise(type(exception), exception, tb=exc_tb, cause=cause)\\n', '  File \"/home/gmbrandt/envs/nres/lib/python3.6/site-packages/sqlalchemy/util/compat.py\", line 152, in reraise\\n    raise value.with_traceback(tb)\\n', '  File \"/home/gmbrandt/envs/nres/lib/python3.6/site-packages/sqlalchemy/engine/base.py\", line 1246, in _execute_context\\n    cursor, statement, parameters, context\\n', '  File \"/home/gmbrandt/envs/nres/lib/python3.6/site-packages/sqlalchemy/engine/default.py\", line 588, in do_execute\\n    cursor.execute(statement, parameters)\\n', \"sqlalchemy.exc.OperationalError: (sqlite3.OperationalError) no such column: sites.latitude\\n[SQL: SELECT sites.id AS sites_id, sites.timezone AS sites_timezone, sites.latitude AS sites_latitude, sites.longitude AS sites_longitude, sites.elevation AS sites_elevation \\nFROM sites \\nWHERE sites.id = ?]\\n[parameters: ('lsc',)]\\n(Background on this error at: http://sqlalche.me/e/e3q8)\\n\"] | {\"processName\": \"MainProcess\"}\n"
     ]
    },
    {
     "name": "stdout",
     "output_type": "stream",
     "text": [
      "2020-07-27 11:35:21.633    ERROR:     stage_utils: Reduction stopped | {\"filename\": [{\"path\": \"test_data/lsc/nres01/20180313/raw/lscnrs01-fl09-20180313-0030-e00.fits.fz\"}], \"processName\": \"MainProcess\"}\n",
      "2020-07-27 11:35:22.268     INFO:          stages: Running banzai.stages.BadPixelMaskLoader | {\"filename\": \"lscnrs01-fl09-20180313-0031-e00.fits.fz\", \"site\": \"lsc\", \"instrument\": \"nres01\", \"epoch\": \"20180313\", \"request_num\": \"0001446787\", \"obstype\": \"TARGET\", \"filter\": null, \"processName\": \"MainProcess\"}\n",
      "2020-07-27 11:35:22.462     INFO:    calibrations: Applying master calibration | {\"filename\": \"lscnrs01-fl09-20180313-0031-e00.fits.fz\", \"site\": \"lsc\", \"instrument\": \"nres01\", \"epoch\": \"20180313\", \"request_num\": \"0001446787\", \"obstype\": \"TARGET\", \"filter\": null, \"master_calibration\": \"bpm-lsc-nres01-fl09-20180215.fits.fz\", \"processName\": \"MainProcess\"}\n",
      "2020-07-27 11:35:22.497     INFO:          stages: Running banzai.stages.OverscanSubtractor | {\"filename\": \"lscnrs01-fl09-20180313-0031-e00.fits.fz\", \"site\": \"lsc\", \"instrument\": \"nres01\", \"epoch\": \"20180313\", \"request_num\": \"0001446787\", \"obstype\": \"TARGET\", \"filter\": null, \"processName\": \"MainProcess\"}\n",
      "2020-07-27 11:35:22.527     INFO:          stages: Running banzai.stages.GainNormalizer | {\"filename\": \"lscnrs01-fl09-20180313-0031-e00.fits.fz\", \"site\": \"lsc\", \"instrument\": \"nres01\", \"epoch\": \"20180313\", \"request_num\": \"0001446787\", \"obstype\": \"TARGET\", \"filter\": null, \"processName\": \"MainProcess\"}\n",
      "2020-07-27 11:35:22.528     INFO:            gain: Multiplying by gain | {\"filename\": \"lscnrs01-fl09-20180313-0031-e00.fits.fz\", \"site\": \"lsc\", \"instrument\": \"nres01\", \"epoch\": \"20180313\", \"request_num\": \"0001446787\", \"obstype\": \"TARGET\", \"filter\": null, \"processName\": \"MainProcess\"}\n",
      "2020-07-27 11:35:22.563     INFO:          stages: Running banzai.stages.Trimmer | {\"filename\": \"lscnrs01-fl09-20180313-0031-e00.fits.fz\", \"site\": \"lsc\", \"instrument\": \"nres01\", \"epoch\": \"20180313\", \"request_num\": \"0001446787\", \"obstype\": \"TARGET\", \"filter\": null, \"processName\": \"MainProcess\"}\n",
      "2020-07-27 11:35:22.565     INFO:            trim: Trimming image | {\"filename\": \"lscnrs01-fl09-20180313-0031-e00.fits.fz\", \"site\": \"lsc\", \"instrument\": \"nres01\", \"epoch\": \"20180313\", \"request_num\": \"0001446787\", \"obstype\": \"TARGET\", \"filter\": null, \"processName\": \"MainProcess\"}\n",
      "2020-07-27 11:35:22.825     INFO:          stages: Running banzai.stages.BiasSubtractor | {\"filename\": \"lscnrs01-fl09-20180313-0031-e00.fits.fz\", \"site\": \"lsc\", \"instrument\": \"nres01\", \"epoch\": \"20180313\", \"request_num\": \"0001446787\", \"obstype\": \"TARGET\", \"filter\": null, \"processName\": \"MainProcess\"}\n",
      "2020-07-27 11:35:23.537     INFO:    calibrations: Applying master calibration | {\"filename\": \"lscnrs01-fl09-20180313-0031-e00.fits.fz\", \"site\": \"lsc\", \"instrument\": \"nres01\", \"epoch\": \"20180313\", \"request_num\": \"0001446787\", \"obstype\": \"TARGET\", \"filter\": null, \"master_calibration\": \"lscnrs01-fl09-20180313-bias-bin1x1.fits.fz\", \"processName\": \"MainProcess\"}\n",
      "2020-07-27 11:35:23.745     INFO:          stages: Running banzai.stages.PoissonInitializer | {\"filename\": \"lscnrs01-fl09-20180313-0031-e00.fits.fz\", \"site\": \"lsc\", \"instrument\": \"nres01\", \"epoch\": \"20180313\", \"request_num\": \"0001446787\", \"obstype\": \"TARGET\", \"filter\": null, \"processName\": \"MainProcess\"}\n",
      "2020-07-27 11:35:23.868     INFO:          stages: Running banzai.stages.DarkSubtractor | {\"filename\": \"lscnrs01-fl09-20180313-0031-e00.fits.fz\", \"site\": \"lsc\", \"instrument\": \"nres01\", \"epoch\": \"20180313\", \"request_num\": \"0001446787\", \"obstype\": \"TARGET\", \"filter\": null, \"processName\": \"MainProcess\"}\n",
      "2020-07-27 11:35:24.583     INFO:    calibrations: Applying master calibration | {\"filename\": \"lscnrs01-fl09-20180313-0031-e00.fits.fz\", \"site\": \"lsc\", \"instrument\": \"nres01\", \"epoch\": \"20180313\", \"request_num\": \"0001446787\", \"obstype\": \"TARGET\", \"filter\": null, \"master_calibration\": \"lscnrs01-fl09-20180313-dark-bin1x1.fits.fz\", \"processName\": \"MainProcess\"}\n",
      "2020-07-27 11:35:24.764     INFO:          stages: Running banzai.stages.FlatLoader | {\"filename\": \"lscnrs01-fl09-20180313-0031-e00.fits.fz\", \"site\": \"lsc\", \"instrument\": \"nres01\", \"epoch\": \"20180313\", \"request_num\": \"0001446787\", \"obstype\": \"TARGET\", \"filter\": null, \"processName\": \"MainProcess\"}\n",
      "2020-07-27 11:35:26.147     INFO:    calibrations: Applying master calibration | {\"filename\": \"lscnrs01-fl09-20180313-0031-e00.fits.fz\", \"site\": \"lsc\", \"instrument\": \"nres01\", \"epoch\": \"20180313\", \"request_num\": \"0001446787\", \"obstype\": \"TARGET\", \"filter\": null, \"master_calibration\": \"lscnrs01-fl09-20180313-lampflat-bin1x1-110.fits.fz\", \"processName\": \"MainProcess\"}\n",
      "2020-07-27 11:35:26.270     INFO:          stages: Running banzai.stages.BackgroundSubtractor | {\"filename\": \"lscnrs01-fl09-20180313-0031-e00.fits.fz\", \"site\": \"lsc\", \"instrument\": \"nres01\", \"epoch\": \"20180313\", \"request_num\": \"0001446787\", \"obstype\": \"TARGET\", \"filter\": null, \"processName\": \"MainProcess\"}\n",
      "2020-07-27 11:35:26.665     INFO:          stages: Running banzai.stages.ArcLoader | {\"filename\": \"lscnrs01-fl09-20180313-0031-e00.fits.fz\", \"site\": \"lsc\", \"instrument\": \"nres01\", \"epoch\": \"20180313\", \"request_num\": \"0001446787\", \"obstype\": \"TARGET\", \"filter\": null, \"processName\": \"MainProcess\"}\n",
      "2020-07-27 11:35:28.394     INFO:    calibrations: Applying master calibration | {\"filename\": \"lscnrs01-fl09-20180313-0031-e00.fits.fz\", \"site\": \"lsc\", \"instrument\": \"nres01\", \"epoch\": \"20180313\", \"request_num\": \"0001446787\", \"obstype\": \"TARGET\", \"filter\": null, \"master_calibration\": \"lscnrs01-fl09-20180313-double-bin1x1-110.fits.fz\", \"processName\": \"MainProcess\"}\n",
      "2020-07-27 11:35:28.550     INFO:          stages: Running banzai.stages.GetOptimalExtractionWeights | {\"filename\": \"lscnrs01-fl09-20180313-0031-e00.fits.fz\", \"site\": \"lsc\", \"instrument\": \"nres01\", \"epoch\": \"20180313\", \"request_num\": \"0001446787\", \"obstype\": \"TARGET\", \"filter\": null, \"processName\": \"MainProcess\"}\n",
      "2020-07-27 11:35:45.405     INFO:          stages: Running banzai.stages.WeightedExtract | {\"filename\": \"lscnrs01-fl09-20180313-0031-e00.fits.fz\", \"site\": \"lsc\", \"instrument\": \"nres01\", \"epoch\": \"20180313\", \"request_num\": \"0001446787\", \"obstype\": \"TARGET\", \"filter\": null, \"processName\": \"MainProcess\"}\n",
      "2020-07-27 11:36:02.339     INFO:          stages: Running banzai.stages.ContinuumNormalizer | {\"filename\": \"lscnrs01-fl09-20180313-0031-e00.fits.fz\", \"site\": \"lsc\", \"instrument\": \"nres01\", \"epoch\": \"20180313\", \"request_num\": \"0001446787\", \"obstype\": \"TARGET\", \"filter\": null, \"processName\": \"MainProcess\"}\n",
      "2020-07-27 11:36:03.543     INFO:          stages: Running banzai.stages.RVCalculator | {\"filename\": \"lscnrs01-fl09-20180313-0031-e00.fits.fz\", \"site\": \"lsc\", \"instrument\": \"nres01\", \"epoch\": \"20180313\", \"request_num\": \"0001446787\", \"obstype\": \"TARGET\", \"filter\": null, \"processName\": \"MainProcess\"}\n",
      "2020-07-27 11:36:03.549     INFO:              rv: Cross correlating for order: 75 | {\"filename\": \"lscnrs01-fl09-20180313-0031-e00.fits.fz\", \"site\": \"lsc\", \"instrument\": \"nres01\", \"epoch\": \"20180313\", \"request_num\": \"0001446787\", \"obstype\": \"TARGET\", \"filter\": null, \"processName\": \"MainProcess\"}\n",
      "2020-07-27 11:36:03.943     INFO:              rv: Cross correlating for order: 76 | {\"filename\": \"lscnrs01-fl09-20180313-0031-e00.fits.fz\", \"site\": \"lsc\", \"instrument\": \"nres01\", \"epoch\": \"20180313\", \"request_num\": \"0001446787\", \"obstype\": \"TARGET\", \"filter\": null, \"processName\": \"MainProcess\"}\n",
      "2020-07-27 11:36:04.330     INFO:              rv: Cross correlating for order: 77 | {\"filename\": \"lscnrs01-fl09-20180313-0031-e00.fits.fz\", \"site\": \"lsc\", \"instrument\": \"nres01\", \"epoch\": \"20180313\", \"request_num\": \"0001446787\", \"obstype\": \"TARGET\", \"filter\": null, \"processName\": \"MainProcess\"}\n",
      "2020-07-27 11:36:04.719     INFO:              rv: Cross correlating for order: 78 | {\"filename\": \"lscnrs01-fl09-20180313-0031-e00.fits.fz\", \"site\": \"lsc\", \"instrument\": \"nres01\", \"epoch\": \"20180313\", \"request_num\": \"0001446787\", \"obstype\": \"TARGET\", \"filter\": null, \"processName\": \"MainProcess\"}\n",
      "2020-07-27 11:36:05.108     INFO:              rv: Cross correlating for order: 79 | {\"filename\": \"lscnrs01-fl09-20180313-0031-e00.fits.fz\", \"site\": \"lsc\", \"instrument\": \"nres01\", \"epoch\": \"20180313\", \"request_num\": \"0001446787\", \"obstype\": \"TARGET\", \"filter\": null, \"processName\": \"MainProcess\"}\n"
     ]
    },
    {
     "name": "stdout",
     "output_type": "stream",
     "text": [
      "2020-07-27 11:36:05.505     INFO:              rv: Cross correlating for order: 80 | {\"filename\": \"lscnrs01-fl09-20180313-0031-e00.fits.fz\", \"site\": \"lsc\", \"instrument\": \"nres01\", \"epoch\": \"20180313\", \"request_num\": \"0001446787\", \"obstype\": \"TARGET\", \"filter\": null, \"processName\": \"MainProcess\"}\n",
      "2020-07-27 11:36:05.893     INFO:              rv: Cross correlating for order: 81 | {\"filename\": \"lscnrs01-fl09-20180313-0031-e00.fits.fz\", \"site\": \"lsc\", \"instrument\": \"nres01\", \"epoch\": \"20180313\", \"request_num\": \"0001446787\", \"obstype\": \"TARGET\", \"filter\": null, \"processName\": \"MainProcess\"}\n",
      "2020-07-27 11:36:06.282     INFO:              rv: Cross correlating for order: 82 | {\"filename\": \"lscnrs01-fl09-20180313-0031-e00.fits.fz\", \"site\": \"lsc\", \"instrument\": \"nres01\", \"epoch\": \"20180313\", \"request_num\": \"0001446787\", \"obstype\": \"TARGET\", \"filter\": null, \"processName\": \"MainProcess\"}\n",
      "2020-07-27 11:36:06.687     INFO:              rv: Cross correlating for order: 83 | {\"filename\": \"lscnrs01-fl09-20180313-0031-e00.fits.fz\", \"site\": \"lsc\", \"instrument\": \"nres01\", \"epoch\": \"20180313\", \"request_num\": \"0001446787\", \"obstype\": \"TARGET\", \"filter\": null, \"processName\": \"MainProcess\"}\n",
      "2020-07-27 11:36:07.093     INFO:              rv: Cross correlating for order: 84 | {\"filename\": \"lscnrs01-fl09-20180313-0031-e00.fits.fz\", \"site\": \"lsc\", \"instrument\": \"nres01\", \"epoch\": \"20180313\", \"request_num\": \"0001446787\", \"obstype\": \"TARGET\", \"filter\": null, \"processName\": \"MainProcess\"}\n",
      "2020-07-27 11:36:07.466     INFO:              rv: Cross correlating for order: 85 | {\"filename\": \"lscnrs01-fl09-20180313-0031-e00.fits.fz\", \"site\": \"lsc\", \"instrument\": \"nres01\", \"epoch\": \"20180313\", \"request_num\": \"0001446787\", \"obstype\": \"TARGET\", \"filter\": null, \"processName\": \"MainProcess\"}\n",
      "2020-07-27 11:36:07.844     INFO:              rv: Cross correlating for order: 86 | {\"filename\": \"lscnrs01-fl09-20180313-0031-e00.fits.fz\", \"site\": \"lsc\", \"instrument\": \"nres01\", \"epoch\": \"20180313\", \"request_num\": \"0001446787\", \"obstype\": \"TARGET\", \"filter\": null, \"processName\": \"MainProcess\"}\n",
      "2020-07-27 11:36:08.228     INFO:              rv: Cross correlating for order: 87 | {\"filename\": \"lscnrs01-fl09-20180313-0031-e00.fits.fz\", \"site\": \"lsc\", \"instrument\": \"nres01\", \"epoch\": \"20180313\", \"request_num\": \"0001446787\", \"obstype\": \"TARGET\", \"filter\": null, \"processName\": \"MainProcess\"}\n",
      "2020-07-27 11:36:08.594     INFO:              rv: Cross correlating for order: 88 | {\"filename\": \"lscnrs01-fl09-20180313-0031-e00.fits.fz\", \"site\": \"lsc\", \"instrument\": \"nres01\", \"epoch\": \"20180313\", \"request_num\": \"0001446787\", \"obstype\": \"TARGET\", \"filter\": null, \"processName\": \"MainProcess\"}\n",
      "2020-07-27 11:36:08.956     INFO:              rv: Cross correlating for order: 89 | {\"filename\": \"lscnrs01-fl09-20180313-0031-e00.fits.fz\", \"site\": \"lsc\", \"instrument\": \"nres01\", \"epoch\": \"20180313\", \"request_num\": \"0001446787\", \"obstype\": \"TARGET\", \"filter\": null, \"processName\": \"MainProcess\"}\n",
      "2020-07-27 11:36:09.314     INFO:              rv: Cross correlating for order: 90 | {\"filename\": \"lscnrs01-fl09-20180313-0031-e00.fits.fz\", \"site\": \"lsc\", \"instrument\": \"nres01\", \"epoch\": \"20180313\", \"request_num\": \"0001446787\", \"obstype\": \"TARGET\", \"filter\": null, \"processName\": \"MainProcess\"}\n",
      "2020-07-27 11:36:09.678     INFO:              rv: Cross correlating for order: 91 | {\"filename\": \"lscnrs01-fl09-20180313-0031-e00.fits.fz\", \"site\": \"lsc\", \"instrument\": \"nres01\", \"epoch\": \"20180313\", \"request_num\": \"0001446787\", \"obstype\": \"TARGET\", \"filter\": null, \"processName\": \"MainProcess\"}\n",
      "2020-07-27 11:36:10.038     INFO:              rv: Cross correlating for order: 92 | {\"filename\": \"lscnrs01-fl09-20180313-0031-e00.fits.fz\", \"site\": \"lsc\", \"instrument\": \"nres01\", \"epoch\": \"20180313\", \"request_num\": \"0001446787\", \"obstype\": \"TARGET\", \"filter\": null, \"processName\": \"MainProcess\"}\n",
      "2020-07-27 11:36:10.396     INFO:              rv: Cross correlating for order: 93 | {\"filename\": \"lscnrs01-fl09-20180313-0031-e00.fits.fz\", \"site\": \"lsc\", \"instrument\": \"nres01\", \"epoch\": \"20180313\", \"request_num\": \"0001446787\", \"obstype\": \"TARGET\", \"filter\": null, \"processName\": \"MainProcess\"}\n",
      "2020-07-27 11:36:10.770     INFO:              rv: Cross correlating for order: 94 | {\"filename\": \"lscnrs01-fl09-20180313-0031-e00.fits.fz\", \"site\": \"lsc\", \"instrument\": \"nres01\", \"epoch\": \"20180313\", \"request_num\": \"0001446787\", \"obstype\": \"TARGET\", \"filter\": null, \"processName\": \"MainProcess\"}\n",
      "2020-07-27 11:36:11.174     INFO:              rv: Cross correlating for order: 95 | {\"filename\": \"lscnrs01-fl09-20180313-0031-e00.fits.fz\", \"site\": \"lsc\", \"instrument\": \"nres01\", \"epoch\": \"20180313\", \"request_num\": \"0001446787\", \"obstype\": \"TARGET\", \"filter\": null, \"processName\": \"MainProcess\"}\n",
      "2020-07-27 11:36:11.565     INFO:              rv: Cross correlating for order: 96 | {\"filename\": \"lscnrs01-fl09-20180313-0031-e00.fits.fz\", \"site\": \"lsc\", \"instrument\": \"nres01\", \"epoch\": \"20180313\", \"request_num\": \"0001446787\", \"obstype\": \"TARGET\", \"filter\": null, \"processName\": \"MainProcess\"}\n",
      "2020-07-27 11:36:11.959     INFO:              rv: Cross correlating for order: 97 | {\"filename\": \"lscnrs01-fl09-20180313-0031-e00.fits.fz\", \"site\": \"lsc\", \"instrument\": \"nres01\", \"epoch\": \"20180313\", \"request_num\": \"0001446787\", \"obstype\": \"TARGET\", \"filter\": null, \"processName\": \"MainProcess\"}\n",
      "2020-07-27 11:36:12.341     INFO:              rv: Cross correlating for order: 98 | {\"filename\": \"lscnrs01-fl09-20180313-0031-e00.fits.fz\", \"site\": \"lsc\", \"instrument\": \"nres01\", \"epoch\": \"20180313\", \"request_num\": \"0001446787\", \"obstype\": \"TARGET\", \"filter\": null, \"processName\": \"MainProcess\"}\n",
      "2020-07-27 11:36:12.724     INFO:              rv: Cross correlating for order: 99 | {\"filename\": \"lscnrs01-fl09-20180313-0031-e00.fits.fz\", \"site\": \"lsc\", \"instrument\": \"nres01\", \"epoch\": \"20180313\", \"request_num\": \"0001446787\", \"obstype\": \"TARGET\", \"filter\": null, \"processName\": \"MainProcess\"}\n",
      "2020-07-27 11:36:13.112     INFO:              rv: Cross correlating for order: 100 | {\"filename\": \"lscnrs01-fl09-20180313-0031-e00.fits.fz\", \"site\": \"lsc\", \"instrument\": \"nres01\", \"epoch\": \"20180313\", \"request_num\": \"0001446787\", \"obstype\": \"TARGET\", \"filter\": null, \"processName\": \"MainProcess\"}\n",
      "2020-07-27 11:36:13.487     INFO:              rv: Cross correlating for order: 75 | {\"filename\": \"lscnrs01-fl09-20180313-0031-e00.fits.fz\", \"site\": \"lsc\", \"instrument\": \"nres01\", \"epoch\": \"20180313\", \"request_num\": \"0001446787\", \"obstype\": \"TARGET\", \"filter\": null, \"processName\": \"MainProcess\"}\n",
      "2020-07-27 11:36:13.890     INFO:              rv: Cross correlating for order: 76 | {\"filename\": \"lscnrs01-fl09-20180313-0031-e00.fits.fz\", \"site\": \"lsc\", \"instrument\": \"nres01\", \"epoch\": \"20180313\", \"request_num\": \"0001446787\", \"obstype\": \"TARGET\", \"filter\": null, \"processName\": \"MainProcess\"}\n",
      "2020-07-27 11:36:14.295     INFO:              rv: Cross correlating for order: 77 | {\"filename\": \"lscnrs01-fl09-20180313-0031-e00.fits.fz\", \"site\": \"lsc\", \"instrument\": \"nres01\", \"epoch\": \"20180313\", \"request_num\": \"0001446787\", \"obstype\": \"TARGET\", \"filter\": null, \"processName\": \"MainProcess\"}\n",
      "2020-07-27 11:36:14.713     INFO:              rv: Cross correlating for order: 78 | {\"filename\": \"lscnrs01-fl09-20180313-0031-e00.fits.fz\", \"site\": \"lsc\", \"instrument\": \"nres01\", \"epoch\": \"20180313\", \"request_num\": \"0001446787\", \"obstype\": \"TARGET\", \"filter\": null, \"processName\": \"MainProcess\"}\n",
      "2020-07-27 11:36:15.115     INFO:              rv: Cross correlating for order: 79 | {\"filename\": \"lscnrs01-fl09-20180313-0031-e00.fits.fz\", \"site\": \"lsc\", \"instrument\": \"nres01\", \"epoch\": \"20180313\", \"request_num\": \"0001446787\", \"obstype\": \"TARGET\", \"filter\": null, \"processName\": \"MainProcess\"}\n",
      "2020-07-27 11:36:15.531     INFO:              rv: Cross correlating for order: 80 | {\"filename\": \"lscnrs01-fl09-20180313-0031-e00.fits.fz\", \"site\": \"lsc\", \"instrument\": \"nres01\", \"epoch\": \"20180313\", \"request_num\": \"0001446787\", \"obstype\": \"TARGET\", \"filter\": null, \"processName\": \"MainProcess\"}\n",
      "2020-07-27 11:36:15.937     INFO:              rv: Cross correlating for order: 81 | {\"filename\": \"lscnrs01-fl09-20180313-0031-e00.fits.fz\", \"site\": \"lsc\", \"instrument\": \"nres01\", \"epoch\": \"20180313\", \"request_num\": \"0001446787\", \"obstype\": \"TARGET\", \"filter\": null, \"processName\": \"MainProcess\"}\n"
     ]
    },
    {
     "name": "stdout",
     "output_type": "stream",
     "text": [
      "2020-07-27 11:36:16.357     INFO:              rv: Cross correlating for order: 82 | {\"filename\": \"lscnrs01-fl09-20180313-0031-e00.fits.fz\", \"site\": \"lsc\", \"instrument\": \"nres01\", \"epoch\": \"20180313\", \"request_num\": \"0001446787\", \"obstype\": \"TARGET\", \"filter\": null, \"processName\": \"MainProcess\"}\n",
      "2020-07-27 11:36:16.743     INFO:              rv: Cross correlating for order: 83 | {\"filename\": \"lscnrs01-fl09-20180313-0031-e00.fits.fz\", \"site\": \"lsc\", \"instrument\": \"nres01\", \"epoch\": \"20180313\", \"request_num\": \"0001446787\", \"obstype\": \"TARGET\", \"filter\": null, \"processName\": \"MainProcess\"}\n",
      "2020-07-27 11:36:17.136     INFO:              rv: Cross correlating for order: 84 | {\"filename\": \"lscnrs01-fl09-20180313-0031-e00.fits.fz\", \"site\": \"lsc\", \"instrument\": \"nres01\", \"epoch\": \"20180313\", \"request_num\": \"0001446787\", \"obstype\": \"TARGET\", \"filter\": null, \"processName\": \"MainProcess\"}\n",
      "2020-07-27 11:36:17.533     INFO:              rv: Cross correlating for order: 85 | {\"filename\": \"lscnrs01-fl09-20180313-0031-e00.fits.fz\", \"site\": \"lsc\", \"instrument\": \"nres01\", \"epoch\": \"20180313\", \"request_num\": \"0001446787\", \"obstype\": \"TARGET\", \"filter\": null, \"processName\": \"MainProcess\"}\n",
      "2020-07-27 11:36:17.944     INFO:              rv: Cross correlating for order: 86 | {\"filename\": \"lscnrs01-fl09-20180313-0031-e00.fits.fz\", \"site\": \"lsc\", \"instrument\": \"nres01\", \"epoch\": \"20180313\", \"request_num\": \"0001446787\", \"obstype\": \"TARGET\", \"filter\": null, \"processName\": \"MainProcess\"}\n",
      "2020-07-27 11:36:18.349     INFO:              rv: Cross correlating for order: 87 | {\"filename\": \"lscnrs01-fl09-20180313-0031-e00.fits.fz\", \"site\": \"lsc\", \"instrument\": \"nres01\", \"epoch\": \"20180313\", \"request_num\": \"0001446787\", \"obstype\": \"TARGET\", \"filter\": null, \"processName\": \"MainProcess\"}\n",
      "2020-07-27 11:36:18.751     INFO:              rv: Cross correlating for order: 88 | {\"filename\": \"lscnrs01-fl09-20180313-0031-e00.fits.fz\", \"site\": \"lsc\", \"instrument\": \"nres01\", \"epoch\": \"20180313\", \"request_num\": \"0001446787\", \"obstype\": \"TARGET\", \"filter\": null, \"processName\": \"MainProcess\"}\n",
      "2020-07-27 11:36:19.170     INFO:              rv: Cross correlating for order: 89 | {\"filename\": \"lscnrs01-fl09-20180313-0031-e00.fits.fz\", \"site\": \"lsc\", \"instrument\": \"nres01\", \"epoch\": \"20180313\", \"request_num\": \"0001446787\", \"obstype\": \"TARGET\", \"filter\": null, \"processName\": \"MainProcess\"}\n",
      "2020-07-27 11:36:19.580     INFO:              rv: Cross correlating for order: 90 | {\"filename\": \"lscnrs01-fl09-20180313-0031-e00.fits.fz\", \"site\": \"lsc\", \"instrument\": \"nres01\", \"epoch\": \"20180313\", \"request_num\": \"0001446787\", \"obstype\": \"TARGET\", \"filter\": null, \"processName\": \"MainProcess\"}\n",
      "2020-07-27 11:36:19.996     INFO:              rv: Cross correlating for order: 91 | {\"filename\": \"lscnrs01-fl09-20180313-0031-e00.fits.fz\", \"site\": \"lsc\", \"instrument\": \"nres01\", \"epoch\": \"20180313\", \"request_num\": \"0001446787\", \"obstype\": \"TARGET\", \"filter\": null, \"processName\": \"MainProcess\"}\n",
      "2020-07-27 11:36:20.375     INFO:              rv: Cross correlating for order: 92 | {\"filename\": \"lscnrs01-fl09-20180313-0031-e00.fits.fz\", \"site\": \"lsc\", \"instrument\": \"nres01\", \"epoch\": \"20180313\", \"request_num\": \"0001446787\", \"obstype\": \"TARGET\", \"filter\": null, \"processName\": \"MainProcess\"}\n",
      "2020-07-27 11:36:20.757     INFO:              rv: Cross correlating for order: 93 | {\"filename\": \"lscnrs01-fl09-20180313-0031-e00.fits.fz\", \"site\": \"lsc\", \"instrument\": \"nres01\", \"epoch\": \"20180313\", \"request_num\": \"0001446787\", \"obstype\": \"TARGET\", \"filter\": null, \"processName\": \"MainProcess\"}\n",
      "2020-07-27 11:36:21.162     INFO:              rv: Cross correlating for order: 94 | {\"filename\": \"lscnrs01-fl09-20180313-0031-e00.fits.fz\", \"site\": \"lsc\", \"instrument\": \"nres01\", \"epoch\": \"20180313\", \"request_num\": \"0001446787\", \"obstype\": \"TARGET\", \"filter\": null, \"processName\": \"MainProcess\"}\n",
      "2020-07-27 11:36:21.586     INFO:              rv: Cross correlating for order: 95 | {\"filename\": \"lscnrs01-fl09-20180313-0031-e00.fits.fz\", \"site\": \"lsc\", \"instrument\": \"nres01\", \"epoch\": \"20180313\", \"request_num\": \"0001446787\", \"obstype\": \"TARGET\", \"filter\": null, \"processName\": \"MainProcess\"}\n",
      "2020-07-27 11:36:21.983     INFO:              rv: Cross correlating for order: 96 | {\"filename\": \"lscnrs01-fl09-20180313-0031-e00.fits.fz\", \"site\": \"lsc\", \"instrument\": \"nres01\", \"epoch\": \"20180313\", \"request_num\": \"0001446787\", \"obstype\": \"TARGET\", \"filter\": null, \"processName\": \"MainProcess\"}\n",
      "2020-07-27 11:36:22.388     INFO:              rv: Cross correlating for order: 97 | {\"filename\": \"lscnrs01-fl09-20180313-0031-e00.fits.fz\", \"site\": \"lsc\", \"instrument\": \"nres01\", \"epoch\": \"20180313\", \"request_num\": \"0001446787\", \"obstype\": \"TARGET\", \"filter\": null, \"processName\": \"MainProcess\"}\n",
      "2020-07-27 11:36:22.785     INFO:              rv: Cross correlating for order: 98 | {\"filename\": \"lscnrs01-fl09-20180313-0031-e00.fits.fz\", \"site\": \"lsc\", \"instrument\": \"nres01\", \"epoch\": \"20180313\", \"request_num\": \"0001446787\", \"obstype\": \"TARGET\", \"filter\": null, \"processName\": \"MainProcess\"}\n",
      "2020-07-27 11:36:23.195     INFO:              rv: Cross correlating for order: 99 | {\"filename\": \"lscnrs01-fl09-20180313-0031-e00.fits.fz\", \"site\": \"lsc\", \"instrument\": \"nres01\", \"epoch\": \"20180313\", \"request_num\": \"0001446787\", \"obstype\": \"TARGET\", \"filter\": null, \"processName\": \"MainProcess\"}\n",
      "2020-07-27 11:36:23.584     INFO:              rv: Cross correlating for order: 100 | {\"filename\": \"lscnrs01-fl09-20180313-0031-e00.fits.fz\", \"site\": \"lsc\", \"instrument\": \"nres01\", \"epoch\": \"20180313\", \"request_num\": \"0001446787\", \"obstype\": \"TARGET\", \"filter\": null, \"processName\": \"MainProcess\"}\n",
      "2020-07-27 11:36:23.987    ERROR:          stages: ['Traceback (most recent call last):\\n', '  File \"/home/gmbrandt/envs/nres/lib/python3.6/site-packages/sqlalchemy/engine/base.py\", line 1246, in _execute_context\\n    cursor, statement, parameters, context\\n', '  File \"/home/gmbrandt/envs/nres/lib/python3.6/site-packages/sqlalchemy/engine/default.py\", line 588, in do_execute\\n    cursor.execute(statement, parameters)\\n', 'sqlite3.OperationalError: no such column: sites.latitude\\n', '\\nThe above exception was the direct cause of the following exception:\\n\\n', 'Traceback (most recent call last):\\n', '  File \"/home/gmbrandt/envs/nres/lib/python3.6/site-packages/banzai/stages.py\", line 47, in run\\n    processed_image = self.do_stage(image_set)\\n', '  File \"/home/gmbrandt/Documents/banzai-nres/banzai_nres/rv.py\", line 125, in do_stage\\n    dbs.get_site(image.instrument.site, self.runtime_context.db_address))\\n', '  File \"/home/gmbrandt/envs/nres/lib/python3.6/site-packages/banzai/dbs.py\", line 316, in get_site\\n    site_list = db_session.query(Site).filter(Site.id == site_id).all()\\n', '  File \"/home/gmbrandt/envs/nres/lib/python3.6/site-packages/sqlalchemy/orm/query.py\", line 3233, in all\\n    return list(self)\\n', '  File \"/home/gmbrandt/envs/nres/lib/python3.6/site-packages/sqlalchemy/orm/query.py\", line 3389, in __iter__\\n    return self._execute_and_instances(context)\\n', '  File \"/home/gmbrandt/envs/nres/lib/python3.6/site-packages/sqlalchemy/orm/query.py\", line 3414, in _execute_and_instances\\n    result = conn.execute(querycontext.statement, self._params)\\n', '  File \"/home/gmbrandt/envs/nres/lib/python3.6/site-packages/sqlalchemy/engine/base.py\", line 982, in execute\\n    return meth(self, multiparams, params)\\n', '  File \"/home/gmbrandt/envs/nres/lib/python3.6/site-packages/sqlalchemy/sql/elements.py\", line 293, in _execute_on_connection\\n    return connection._execute_clauseelement(self, multiparams, params)\\n', '  File \"/home/gmbrandt/envs/nres/lib/python3.6/site-packages/sqlalchemy/engine/base.py\", line 1101, in _execute_clauseelement\\n    distilled_params,\\n', '  File \"/home/gmbrandt/envs/nres/lib/python3.6/site-packages/sqlalchemy/engine/base.py\", line 1250, in _execute_context\\n    e, statement, parameters, cursor, context\\n', '  File \"/home/gmbrandt/envs/nres/lib/python3.6/site-packages/sqlalchemy/engine/base.py\", line 1476, in _handle_dbapi_exception\\n    util.raise_from_cause(sqlalchemy_exception, exc_info)\\n', '  File \"/home/gmbrandt/envs/nres/lib/python3.6/site-packages/sqlalchemy/util/compat.py\", line 398, in raise_from_cause\\n    reraise(type(exception), exception, tb=exc_tb, cause=cause)\\n', '  File \"/home/gmbrandt/envs/nres/lib/python3.6/site-packages/sqlalchemy/util/compat.py\", line 152, in reraise\\n    raise value.with_traceback(tb)\\n', '  File \"/home/gmbrandt/envs/nres/lib/python3.6/site-packages/sqlalchemy/engine/base.py\", line 1246, in _execute_context\\n    cursor, statement, parameters, context\\n', '  File \"/home/gmbrandt/envs/nres/lib/python3.6/site-packages/sqlalchemy/engine/default.py\", line 588, in do_execute\\n    cursor.execute(statement, parameters)\\n', \"sqlalchemy.exc.OperationalError: (sqlite3.OperationalError) no such column: sites.latitude\\n[SQL: SELECT sites.id AS sites_id, sites.timezone AS sites_timezone, sites.latitude AS sites_latitude, sites.longitude AS sites_longitude, sites.elevation AS sites_elevation \\nFROM sites \\nWHERE sites.id = ?]\\n[parameters: ('lsc',)]\\n(Background on this error at: http://sqlalche.me/e/e3q8)\\n\"] | {\"processName\": \"MainProcess\"}\n"
     ]
    },
    {
     "name": "stdout",
     "output_type": "stream",
     "text": [
      "2020-07-27 11:36:23.988    ERROR:     stage_utils: Reduction stopped | {\"filename\": [{\"path\": \"test_data/lsc/nres01/20180313/raw/lscnrs01-fl09-20180313-0031-e00.fits.fz\"}], \"processName\": \"MainProcess\"}\n",
      "2020-07-27 11:36:24.627     INFO:          stages: Running banzai.stages.BadPixelMaskLoader | {\"filename\": \"lscnrs01-fl09-20180313-0029-e00.fits.fz\", \"site\": \"lsc\", \"instrument\": \"nres01\", \"epoch\": \"20180313\", \"request_num\": \"0001446787\", \"obstype\": \"TARGET\", \"filter\": null, \"processName\": \"MainProcess\"}\n",
      "2020-07-27 11:36:24.831     INFO:    calibrations: Applying master calibration | {\"filename\": \"lscnrs01-fl09-20180313-0029-e00.fits.fz\", \"site\": \"lsc\", \"instrument\": \"nres01\", \"epoch\": \"20180313\", \"request_num\": \"0001446787\", \"obstype\": \"TARGET\", \"filter\": null, \"master_calibration\": \"bpm-lsc-nres01-fl09-20180215.fits.fz\", \"processName\": \"MainProcess\"}\n",
      "2020-07-27 11:36:24.876     INFO:          stages: Running banzai.stages.OverscanSubtractor | {\"filename\": \"lscnrs01-fl09-20180313-0029-e00.fits.fz\", \"site\": \"lsc\", \"instrument\": \"nres01\", \"epoch\": \"20180313\", \"request_num\": \"0001446787\", \"obstype\": \"TARGET\", \"filter\": null, \"processName\": \"MainProcess\"}\n",
      "2020-07-27 11:36:24.904     INFO:          stages: Running banzai.stages.GainNormalizer | {\"filename\": \"lscnrs01-fl09-20180313-0029-e00.fits.fz\", \"site\": \"lsc\", \"instrument\": \"nres01\", \"epoch\": \"20180313\", \"request_num\": \"0001446787\", \"obstype\": \"TARGET\", \"filter\": null, \"processName\": \"MainProcess\"}\n",
      "2020-07-27 11:36:24.905     INFO:            gain: Multiplying by gain | {\"filename\": \"lscnrs01-fl09-20180313-0029-e00.fits.fz\", \"site\": \"lsc\", \"instrument\": \"nres01\", \"epoch\": \"20180313\", \"request_num\": \"0001446787\", \"obstype\": \"TARGET\", \"filter\": null, \"processName\": \"MainProcess\"}\n",
      "2020-07-27 11:36:24.941     INFO:          stages: Running banzai.stages.Trimmer | {\"filename\": \"lscnrs01-fl09-20180313-0029-e00.fits.fz\", \"site\": \"lsc\", \"instrument\": \"nres01\", \"epoch\": \"20180313\", \"request_num\": \"0001446787\", \"obstype\": \"TARGET\", \"filter\": null, \"processName\": \"MainProcess\"}\n",
      "2020-07-27 11:36:24.942     INFO:            trim: Trimming image | {\"filename\": \"lscnrs01-fl09-20180313-0029-e00.fits.fz\", \"site\": \"lsc\", \"instrument\": \"nres01\", \"epoch\": \"20180313\", \"request_num\": \"0001446787\", \"obstype\": \"TARGET\", \"filter\": null, \"processName\": \"MainProcess\"}\n",
      "2020-07-27 11:36:25.213     INFO:          stages: Running banzai.stages.BiasSubtractor | {\"filename\": \"lscnrs01-fl09-20180313-0029-e00.fits.fz\", \"site\": \"lsc\", \"instrument\": \"nres01\", \"epoch\": \"20180313\", \"request_num\": \"0001446787\", \"obstype\": \"TARGET\", \"filter\": null, \"processName\": \"MainProcess\"}\n",
      "2020-07-27 11:36:25.945     INFO:    calibrations: Applying master calibration | {\"filename\": \"lscnrs01-fl09-20180313-0029-e00.fits.fz\", \"site\": \"lsc\", \"instrument\": \"nres01\", \"epoch\": \"20180313\", \"request_num\": \"0001446787\", \"obstype\": \"TARGET\", \"filter\": null, \"master_calibration\": \"lscnrs01-fl09-20180313-bias-bin1x1.fits.fz\", \"processName\": \"MainProcess\"}\n",
      "2020-07-27 11:36:26.330     INFO:          stages: Running banzai.stages.PoissonInitializer | {\"filename\": \"lscnrs01-fl09-20180313-0029-e00.fits.fz\", \"site\": \"lsc\", \"instrument\": \"nres01\", \"epoch\": \"20180313\", \"request_num\": \"0001446787\", \"obstype\": \"TARGET\", \"filter\": null, \"processName\": \"MainProcess\"}\n",
      "2020-07-27 11:36:26.454     INFO:          stages: Running banzai.stages.DarkSubtractor | {\"filename\": \"lscnrs01-fl09-20180313-0029-e00.fits.fz\", \"site\": \"lsc\", \"instrument\": \"nres01\", \"epoch\": \"20180313\", \"request_num\": \"0001446787\", \"obstype\": \"TARGET\", \"filter\": null, \"processName\": \"MainProcess\"}\n",
      "2020-07-27 11:36:27.210     INFO:    calibrations: Applying master calibration | {\"filename\": \"lscnrs01-fl09-20180313-0029-e00.fits.fz\", \"site\": \"lsc\", \"instrument\": \"nres01\", \"epoch\": \"20180313\", \"request_num\": \"0001446787\", \"obstype\": \"TARGET\", \"filter\": null, \"master_calibration\": \"lscnrs01-fl09-20180313-dark-bin1x1.fits.fz\", \"processName\": \"MainProcess\"}\n",
      "2020-07-27 11:36:27.396     INFO:          stages: Running banzai.stages.FlatLoader | {\"filename\": \"lscnrs01-fl09-20180313-0029-e00.fits.fz\", \"site\": \"lsc\", \"instrument\": \"nres01\", \"epoch\": \"20180313\", \"request_num\": \"0001446787\", \"obstype\": \"TARGET\", \"filter\": null, \"processName\": \"MainProcess\"}\n",
      "2020-07-27 11:36:28.798     INFO:    calibrations: Applying master calibration | {\"filename\": \"lscnrs01-fl09-20180313-0029-e00.fits.fz\", \"site\": \"lsc\", \"instrument\": \"nres01\", \"epoch\": \"20180313\", \"request_num\": \"0001446787\", \"obstype\": \"TARGET\", \"filter\": null, \"master_calibration\": \"lscnrs01-fl09-20180313-lampflat-bin1x1-110.fits.fz\", \"processName\": \"MainProcess\"}\n",
      "2020-07-27 11:36:28.932     INFO:          stages: Running banzai.stages.BackgroundSubtractor | {\"filename\": \"lscnrs01-fl09-20180313-0029-e00.fits.fz\", \"site\": \"lsc\", \"instrument\": \"nres01\", \"epoch\": \"20180313\", \"request_num\": \"0001446787\", \"obstype\": \"TARGET\", \"filter\": null, \"processName\": \"MainProcess\"}\n",
      "2020-07-27 11:36:29.335     INFO:          stages: Running banzai.stages.ArcLoader | {\"filename\": \"lscnrs01-fl09-20180313-0029-e00.fits.fz\", \"site\": \"lsc\", \"instrument\": \"nres01\", \"epoch\": \"20180313\", \"request_num\": \"0001446787\", \"obstype\": \"TARGET\", \"filter\": null, \"processName\": \"MainProcess\"}\n",
      "2020-07-27 11:36:31.160     INFO:    calibrations: Applying master calibration | {\"filename\": \"lscnrs01-fl09-20180313-0029-e00.fits.fz\", \"site\": \"lsc\", \"instrument\": \"nres01\", \"epoch\": \"20180313\", \"request_num\": \"0001446787\", \"obstype\": \"TARGET\", \"filter\": null, \"master_calibration\": \"lscnrs01-fl09-20180313-double-bin1x1-110.fits.fz\", \"processName\": \"MainProcess\"}\n",
      "2020-07-27 11:36:31.327     INFO:          stages: Running banzai.stages.GetOptimalExtractionWeights | {\"filename\": \"lscnrs01-fl09-20180313-0029-e00.fits.fz\", \"site\": \"lsc\", \"instrument\": \"nres01\", \"epoch\": \"20180313\", \"request_num\": \"0001446787\", \"obstype\": \"TARGET\", \"filter\": null, \"processName\": \"MainProcess\"}\n",
      "2020-07-27 11:36:48.967     INFO:          stages: Running banzai.stages.WeightedExtract | {\"filename\": \"lscnrs01-fl09-20180313-0029-e00.fits.fz\", \"site\": \"lsc\", \"instrument\": \"nres01\", \"epoch\": \"20180313\", \"request_num\": \"0001446787\", \"obstype\": \"TARGET\", \"filter\": null, \"processName\": \"MainProcess\"}\n",
      "2020-07-27 11:37:07.416     INFO:          stages: Running banzai.stages.ContinuumNormalizer | {\"filename\": \"lscnrs01-fl09-20180313-0029-e00.fits.fz\", \"site\": \"lsc\", \"instrument\": \"nres01\", \"epoch\": \"20180313\", \"request_num\": \"0001446787\", \"obstype\": \"TARGET\", \"filter\": null, \"processName\": \"MainProcess\"}\n",
      "2020-07-27 11:37:08.710     INFO:          stages: Running banzai.stages.RVCalculator | {\"filename\": \"lscnrs01-fl09-20180313-0029-e00.fits.fz\", \"site\": \"lsc\", \"instrument\": \"nres01\", \"epoch\": \"20180313\", \"request_num\": \"0001446787\", \"obstype\": \"TARGET\", \"filter\": null, \"processName\": \"MainProcess\"}\n",
      "2020-07-27 11:37:08.714     INFO:              rv: Cross correlating for order: 75 | {\"filename\": \"lscnrs01-fl09-20180313-0029-e00.fits.fz\", \"site\": \"lsc\", \"instrument\": \"nres01\", \"epoch\": \"20180313\", \"request_num\": \"0001446787\", \"obstype\": \"TARGET\", \"filter\": null, \"processName\": \"MainProcess\"}\n",
      "2020-07-27 11:37:09.101     INFO:              rv: Cross correlating for order: 76 | {\"filename\": \"lscnrs01-fl09-20180313-0029-e00.fits.fz\", \"site\": \"lsc\", \"instrument\": \"nres01\", \"epoch\": \"20180313\", \"request_num\": \"0001446787\", \"obstype\": \"TARGET\", \"filter\": null, \"processName\": \"MainProcess\"}\n",
      "2020-07-27 11:37:09.490     INFO:              rv: Cross correlating for order: 77 | {\"filename\": \"lscnrs01-fl09-20180313-0029-e00.fits.fz\", \"site\": \"lsc\", \"instrument\": \"nres01\", \"epoch\": \"20180313\", \"request_num\": \"0001446787\", \"obstype\": \"TARGET\", \"filter\": null, \"processName\": \"MainProcess\"}\n",
      "2020-07-27 11:37:09.882     INFO:              rv: Cross correlating for order: 78 | {\"filename\": \"lscnrs01-fl09-20180313-0029-e00.fits.fz\", \"site\": \"lsc\", \"instrument\": \"nres01\", \"epoch\": \"20180313\", \"request_num\": \"0001446787\", \"obstype\": \"TARGET\", \"filter\": null, \"processName\": \"MainProcess\"}\n",
      "2020-07-27 11:37:10.300     INFO:              rv: Cross correlating for order: 79 | {\"filename\": \"lscnrs01-fl09-20180313-0029-e00.fits.fz\", \"site\": \"lsc\", \"instrument\": \"nres01\", \"epoch\": \"20180313\", \"request_num\": \"0001446787\", \"obstype\": \"TARGET\", \"filter\": null, \"processName\": \"MainProcess\"}\n"
     ]
    },
    {
     "name": "stdout",
     "output_type": "stream",
     "text": [
      "2020-07-27 11:37:10.704     INFO:              rv: Cross correlating for order: 80 | {\"filename\": \"lscnrs01-fl09-20180313-0029-e00.fits.fz\", \"site\": \"lsc\", \"instrument\": \"nres01\", \"epoch\": \"20180313\", \"request_num\": \"0001446787\", \"obstype\": \"TARGET\", \"filter\": null, \"processName\": \"MainProcess\"}\n",
      "2020-07-27 11:37:11.108     INFO:              rv: Cross correlating for order: 81 | {\"filename\": \"lscnrs01-fl09-20180313-0029-e00.fits.fz\", \"site\": \"lsc\", \"instrument\": \"nres01\", \"epoch\": \"20180313\", \"request_num\": \"0001446787\", \"obstype\": \"TARGET\", \"filter\": null, \"processName\": \"MainProcess\"}\n",
      "2020-07-27 11:37:11.496     INFO:              rv: Cross correlating for order: 82 | {\"filename\": \"lscnrs01-fl09-20180313-0029-e00.fits.fz\", \"site\": \"lsc\", \"instrument\": \"nres01\", \"epoch\": \"20180313\", \"request_num\": \"0001446787\", \"obstype\": \"TARGET\", \"filter\": null, \"processName\": \"MainProcess\"}\n",
      "2020-07-27 11:37:11.893     INFO:              rv: Cross correlating for order: 83 | {\"filename\": \"lscnrs01-fl09-20180313-0029-e00.fits.fz\", \"site\": \"lsc\", \"instrument\": \"nres01\", \"epoch\": \"20180313\", \"request_num\": \"0001446787\", \"obstype\": \"TARGET\", \"filter\": null, \"processName\": \"MainProcess\"}\n",
      "2020-07-27 11:37:12.262     INFO:              rv: Cross correlating for order: 84 | {\"filename\": \"lscnrs01-fl09-20180313-0029-e00.fits.fz\", \"site\": \"lsc\", \"instrument\": \"nres01\", \"epoch\": \"20180313\", \"request_num\": \"0001446787\", \"obstype\": \"TARGET\", \"filter\": null, \"processName\": \"MainProcess\"}\n",
      "2020-07-27 11:37:12.684     INFO:              rv: Cross correlating for order: 85 | {\"filename\": \"lscnrs01-fl09-20180313-0029-e00.fits.fz\", \"site\": \"lsc\", \"instrument\": \"nres01\", \"epoch\": \"20180313\", \"request_num\": \"0001446787\", \"obstype\": \"TARGET\", \"filter\": null, \"processName\": \"MainProcess\"}\n",
      "2020-07-27 11:37:13.115     INFO:              rv: Cross correlating for order: 86 | {\"filename\": \"lscnrs01-fl09-20180313-0029-e00.fits.fz\", \"site\": \"lsc\", \"instrument\": \"nres01\", \"epoch\": \"20180313\", \"request_num\": \"0001446787\", \"obstype\": \"TARGET\", \"filter\": null, \"processName\": \"MainProcess\"}\n",
      "2020-07-27 11:37:13.491     INFO:              rv: Cross correlating for order: 87 | {\"filename\": \"lscnrs01-fl09-20180313-0029-e00.fits.fz\", \"site\": \"lsc\", \"instrument\": \"nres01\", \"epoch\": \"20180313\", \"request_num\": \"0001446787\", \"obstype\": \"TARGET\", \"filter\": null, \"processName\": \"MainProcess\"}\n",
      "2020-07-27 11:37:13.862     INFO:              rv: Cross correlating for order: 88 | {\"filename\": \"lscnrs01-fl09-20180313-0029-e00.fits.fz\", \"site\": \"lsc\", \"instrument\": \"nres01\", \"epoch\": \"20180313\", \"request_num\": \"0001446787\", \"obstype\": \"TARGET\", \"filter\": null, \"processName\": \"MainProcess\"}\n",
      "2020-07-27 11:37:14.264     INFO:              rv: Cross correlating for order: 89 | {\"filename\": \"lscnrs01-fl09-20180313-0029-e00.fits.fz\", \"site\": \"lsc\", \"instrument\": \"nres01\", \"epoch\": \"20180313\", \"request_num\": \"0001446787\", \"obstype\": \"TARGET\", \"filter\": null, \"processName\": \"MainProcess\"}\n",
      "2020-07-27 11:37:14.668     INFO:              rv: Cross correlating for order: 90 | {\"filename\": \"lscnrs01-fl09-20180313-0029-e00.fits.fz\", \"site\": \"lsc\", \"instrument\": \"nres01\", \"epoch\": \"20180313\", \"request_num\": \"0001446787\", \"obstype\": \"TARGET\", \"filter\": null, \"processName\": \"MainProcess\"}\n",
      "2020-07-27 11:37:15.064     INFO:              rv: Cross correlating for order: 91 | {\"filename\": \"lscnrs01-fl09-20180313-0029-e00.fits.fz\", \"site\": \"lsc\", \"instrument\": \"nres01\", \"epoch\": \"20180313\", \"request_num\": \"0001446787\", \"obstype\": \"TARGET\", \"filter\": null, \"processName\": \"MainProcess\"}\n",
      "2020-07-27 11:37:15.459     INFO:              rv: Cross correlating for order: 92 | {\"filename\": \"lscnrs01-fl09-20180313-0029-e00.fits.fz\", \"site\": \"lsc\", \"instrument\": \"nres01\", \"epoch\": \"20180313\", \"request_num\": \"0001446787\", \"obstype\": \"TARGET\", \"filter\": null, \"processName\": \"MainProcess\"}\n",
      "2020-07-27 11:37:15.854     INFO:              rv: Cross correlating for order: 93 | {\"filename\": \"lscnrs01-fl09-20180313-0029-e00.fits.fz\", \"site\": \"lsc\", \"instrument\": \"nres01\", \"epoch\": \"20180313\", \"request_num\": \"0001446787\", \"obstype\": \"TARGET\", \"filter\": null, \"processName\": \"MainProcess\"}\n",
      "2020-07-27 11:37:16.273     INFO:              rv: Cross correlating for order: 94 | {\"filename\": \"lscnrs01-fl09-20180313-0029-e00.fits.fz\", \"site\": \"lsc\", \"instrument\": \"nres01\", \"epoch\": \"20180313\", \"request_num\": \"0001446787\", \"obstype\": \"TARGET\", \"filter\": null, \"processName\": \"MainProcess\"}\n",
      "2020-07-27 11:37:16.690     INFO:              rv: Cross correlating for order: 95 | {\"filename\": \"lscnrs01-fl09-20180313-0029-e00.fits.fz\", \"site\": \"lsc\", \"instrument\": \"nres01\", \"epoch\": \"20180313\", \"request_num\": \"0001446787\", \"obstype\": \"TARGET\", \"filter\": null, \"processName\": \"MainProcess\"}\n",
      "2020-07-27 11:37:17.097     INFO:              rv: Cross correlating for order: 96 | {\"filename\": \"lscnrs01-fl09-20180313-0029-e00.fits.fz\", \"site\": \"lsc\", \"instrument\": \"nres01\", \"epoch\": \"20180313\", \"request_num\": \"0001446787\", \"obstype\": \"TARGET\", \"filter\": null, \"processName\": \"MainProcess\"}\n",
      "2020-07-27 11:37:17.491     INFO:              rv: Cross correlating for order: 97 | {\"filename\": \"lscnrs01-fl09-20180313-0029-e00.fits.fz\", \"site\": \"lsc\", \"instrument\": \"nres01\", \"epoch\": \"20180313\", \"request_num\": \"0001446787\", \"obstype\": \"TARGET\", \"filter\": null, \"processName\": \"MainProcess\"}\n",
      "2020-07-27 11:37:17.874     INFO:              rv: Cross correlating for order: 98 | {\"filename\": \"lscnrs01-fl09-20180313-0029-e00.fits.fz\", \"site\": \"lsc\", \"instrument\": \"nres01\", \"epoch\": \"20180313\", \"request_num\": \"0001446787\", \"obstype\": \"TARGET\", \"filter\": null, \"processName\": \"MainProcess\"}\n",
      "2020-07-27 11:37:18.252     INFO:              rv: Cross correlating for order: 99 | {\"filename\": \"lscnrs01-fl09-20180313-0029-e00.fits.fz\", \"site\": \"lsc\", \"instrument\": \"nres01\", \"epoch\": \"20180313\", \"request_num\": \"0001446787\", \"obstype\": \"TARGET\", \"filter\": null, \"processName\": \"MainProcess\"}\n",
      "2020-07-27 11:37:18.627     INFO:              rv: Cross correlating for order: 100 | {\"filename\": \"lscnrs01-fl09-20180313-0029-e00.fits.fz\", \"site\": \"lsc\", \"instrument\": \"nres01\", \"epoch\": \"20180313\", \"request_num\": \"0001446787\", \"obstype\": \"TARGET\", \"filter\": null, \"processName\": \"MainProcess\"}\n",
      "2020-07-27 11:37:19.019     INFO:              rv: Cross correlating for order: 75 | {\"filename\": \"lscnrs01-fl09-20180313-0029-e00.fits.fz\", \"site\": \"lsc\", \"instrument\": \"nres01\", \"epoch\": \"20180313\", \"request_num\": \"0001446787\", \"obstype\": \"TARGET\", \"filter\": null, \"processName\": \"MainProcess\"}\n",
      "2020-07-27 11:37:19.461     INFO:              rv: Cross correlating for order: 76 | {\"filename\": \"lscnrs01-fl09-20180313-0029-e00.fits.fz\", \"site\": \"lsc\", \"instrument\": \"nres01\", \"epoch\": \"20180313\", \"request_num\": \"0001446787\", \"obstype\": \"TARGET\", \"filter\": null, \"processName\": \"MainProcess\"}\n",
      "2020-07-27 11:37:19.877     INFO:              rv: Cross correlating for order: 77 | {\"filename\": \"lscnrs01-fl09-20180313-0029-e00.fits.fz\", \"site\": \"lsc\", \"instrument\": \"nres01\", \"epoch\": \"20180313\", \"request_num\": \"0001446787\", \"obstype\": \"TARGET\", \"filter\": null, \"processName\": \"MainProcess\"}\n",
      "2020-07-27 11:37:20.320     INFO:              rv: Cross correlating for order: 78 | {\"filename\": \"lscnrs01-fl09-20180313-0029-e00.fits.fz\", \"site\": \"lsc\", \"instrument\": \"nres01\", \"epoch\": \"20180313\", \"request_num\": \"0001446787\", \"obstype\": \"TARGET\", \"filter\": null, \"processName\": \"MainProcess\"}\n",
      "2020-07-27 11:37:20.726     INFO:              rv: Cross correlating for order: 79 | {\"filename\": \"lscnrs01-fl09-20180313-0029-e00.fits.fz\", \"site\": \"lsc\", \"instrument\": \"nres01\", \"epoch\": \"20180313\", \"request_num\": \"0001446787\", \"obstype\": \"TARGET\", \"filter\": null, \"processName\": \"MainProcess\"}\n",
      "2020-07-27 11:37:21.150     INFO:              rv: Cross correlating for order: 80 | {\"filename\": \"lscnrs01-fl09-20180313-0029-e00.fits.fz\", \"site\": \"lsc\", \"instrument\": \"nres01\", \"epoch\": \"20180313\", \"request_num\": \"0001446787\", \"obstype\": \"TARGET\", \"filter\": null, \"processName\": \"MainProcess\"}\n",
      "2020-07-27 11:37:21.568     INFO:              rv: Cross correlating for order: 81 | {\"filename\": \"lscnrs01-fl09-20180313-0029-e00.fits.fz\", \"site\": \"lsc\", \"instrument\": \"nres01\", \"epoch\": \"20180313\", \"request_num\": \"0001446787\", \"obstype\": \"TARGET\", \"filter\": null, \"processName\": \"MainProcess\"}\n"
     ]
    },
    {
     "name": "stdout",
     "output_type": "stream",
     "text": [
      "2020-07-27 11:37:21.958     INFO:              rv: Cross correlating for order: 82 | {\"filename\": \"lscnrs01-fl09-20180313-0029-e00.fits.fz\", \"site\": \"lsc\", \"instrument\": \"nres01\", \"epoch\": \"20180313\", \"request_num\": \"0001446787\", \"obstype\": \"TARGET\", \"filter\": null, \"processName\": \"MainProcess\"}\n",
      "2020-07-27 11:37:22.346     INFO:              rv: Cross correlating for order: 83 | {\"filename\": \"lscnrs01-fl09-20180313-0029-e00.fits.fz\", \"site\": \"lsc\", \"instrument\": \"nres01\", \"epoch\": \"20180313\", \"request_num\": \"0001446787\", \"obstype\": \"TARGET\", \"filter\": null, \"processName\": \"MainProcess\"}\n",
      "2020-07-27 11:37:22.736     INFO:              rv: Cross correlating for order: 84 | {\"filename\": \"lscnrs01-fl09-20180313-0029-e00.fits.fz\", \"site\": \"lsc\", \"instrument\": \"nres01\", \"epoch\": \"20180313\", \"request_num\": \"0001446787\", \"obstype\": \"TARGET\", \"filter\": null, \"processName\": \"MainProcess\"}\n",
      "2020-07-27 11:37:23.140     INFO:              rv: Cross correlating for order: 85 | {\"filename\": \"lscnrs01-fl09-20180313-0029-e00.fits.fz\", \"site\": \"lsc\", \"instrument\": \"nres01\", \"epoch\": \"20180313\", \"request_num\": \"0001446787\", \"obstype\": \"TARGET\", \"filter\": null, \"processName\": \"MainProcess\"}\n",
      "2020-07-27 11:37:23.548     INFO:              rv: Cross correlating for order: 86 | {\"filename\": \"lscnrs01-fl09-20180313-0029-e00.fits.fz\", \"site\": \"lsc\", \"instrument\": \"nres01\", \"epoch\": \"20180313\", \"request_num\": \"0001446787\", \"obstype\": \"TARGET\", \"filter\": null, \"processName\": \"MainProcess\"}\n",
      "2020-07-27 11:37:23.966     INFO:              rv: Cross correlating for order: 87 | {\"filename\": \"lscnrs01-fl09-20180313-0029-e00.fits.fz\", \"site\": \"lsc\", \"instrument\": \"nres01\", \"epoch\": \"20180313\", \"request_num\": \"0001446787\", \"obstype\": \"TARGET\", \"filter\": null, \"processName\": \"MainProcess\"}\n",
      "2020-07-27 11:37:24.363     INFO:              rv: Cross correlating for order: 88 | {\"filename\": \"lscnrs01-fl09-20180313-0029-e00.fits.fz\", \"site\": \"lsc\", \"instrument\": \"nres01\", \"epoch\": \"20180313\", \"request_num\": \"0001446787\", \"obstype\": \"TARGET\", \"filter\": null, \"processName\": \"MainProcess\"}\n",
      "2020-07-27 11:37:24.747     INFO:              rv: Cross correlating for order: 89 | {\"filename\": \"lscnrs01-fl09-20180313-0029-e00.fits.fz\", \"site\": \"lsc\", \"instrument\": \"nres01\", \"epoch\": \"20180313\", \"request_num\": \"0001446787\", \"obstype\": \"TARGET\", \"filter\": null, \"processName\": \"MainProcess\"}\n",
      "2020-07-27 11:37:25.130     INFO:              rv: Cross correlating for order: 90 | {\"filename\": \"lscnrs01-fl09-20180313-0029-e00.fits.fz\", \"site\": \"lsc\", \"instrument\": \"nres01\", \"epoch\": \"20180313\", \"request_num\": \"0001446787\", \"obstype\": \"TARGET\", \"filter\": null, \"processName\": \"MainProcess\"}\n",
      "2020-07-27 11:37:25.518     INFO:              rv: Cross correlating for order: 91 | {\"filename\": \"lscnrs01-fl09-20180313-0029-e00.fits.fz\", \"site\": \"lsc\", \"instrument\": \"nres01\", \"epoch\": \"20180313\", \"request_num\": \"0001446787\", \"obstype\": \"TARGET\", \"filter\": null, \"processName\": \"MainProcess\"}\n",
      "2020-07-27 11:37:25.899     INFO:              rv: Cross correlating for order: 92 | {\"filename\": \"lscnrs01-fl09-20180313-0029-e00.fits.fz\", \"site\": \"lsc\", \"instrument\": \"nres01\", \"epoch\": \"20180313\", \"request_num\": \"0001446787\", \"obstype\": \"TARGET\", \"filter\": null, \"processName\": \"MainProcess\"}\n",
      "2020-07-27 11:37:26.283     INFO:              rv: Cross correlating for order: 93 | {\"filename\": \"lscnrs01-fl09-20180313-0029-e00.fits.fz\", \"site\": \"lsc\", \"instrument\": \"nres01\", \"epoch\": \"20180313\", \"request_num\": \"0001446787\", \"obstype\": \"TARGET\", \"filter\": null, \"processName\": \"MainProcess\"}\n",
      "2020-07-27 11:37:26.676     INFO:              rv: Cross correlating for order: 94 | {\"filename\": \"lscnrs01-fl09-20180313-0029-e00.fits.fz\", \"site\": \"lsc\", \"instrument\": \"nres01\", \"epoch\": \"20180313\", \"request_num\": \"0001446787\", \"obstype\": \"TARGET\", \"filter\": null, \"processName\": \"MainProcess\"}\n",
      "2020-07-27 11:37:27.063     INFO:              rv: Cross correlating for order: 95 | {\"filename\": \"lscnrs01-fl09-20180313-0029-e00.fits.fz\", \"site\": \"lsc\", \"instrument\": \"nres01\", \"epoch\": \"20180313\", \"request_num\": \"0001446787\", \"obstype\": \"TARGET\", \"filter\": null, \"processName\": \"MainProcess\"}\n",
      "2020-07-27 11:37:27.454     INFO:              rv: Cross correlating for order: 96 | {\"filename\": \"lscnrs01-fl09-20180313-0029-e00.fits.fz\", \"site\": \"lsc\", \"instrument\": \"nres01\", \"epoch\": \"20180313\", \"request_num\": \"0001446787\", \"obstype\": \"TARGET\", \"filter\": null, \"processName\": \"MainProcess\"}\n",
      "2020-07-27 11:37:27.863     INFO:              rv: Cross correlating for order: 97 | {\"filename\": \"lscnrs01-fl09-20180313-0029-e00.fits.fz\", \"site\": \"lsc\", \"instrument\": \"nres01\", \"epoch\": \"20180313\", \"request_num\": \"0001446787\", \"obstype\": \"TARGET\", \"filter\": null, \"processName\": \"MainProcess\"}\n",
      "2020-07-27 11:37:28.275     INFO:              rv: Cross correlating for order: 98 | {\"filename\": \"lscnrs01-fl09-20180313-0029-e00.fits.fz\", \"site\": \"lsc\", \"instrument\": \"nres01\", \"epoch\": \"20180313\", \"request_num\": \"0001446787\", \"obstype\": \"TARGET\", \"filter\": null, \"processName\": \"MainProcess\"}\n",
      "2020-07-27 11:37:28.693     INFO:              rv: Cross correlating for order: 99 | {\"filename\": \"lscnrs01-fl09-20180313-0029-e00.fits.fz\", \"site\": \"lsc\", \"instrument\": \"nres01\", \"epoch\": \"20180313\", \"request_num\": \"0001446787\", \"obstype\": \"TARGET\", \"filter\": null, \"processName\": \"MainProcess\"}\n",
      "2020-07-27 11:37:29.103     INFO:              rv: Cross correlating for order: 100 | {\"filename\": \"lscnrs01-fl09-20180313-0029-e00.fits.fz\", \"site\": \"lsc\", \"instrument\": \"nres01\", \"epoch\": \"20180313\", \"request_num\": \"0001446787\", \"obstype\": \"TARGET\", \"filter\": null, \"processName\": \"MainProcess\"}\n",
      "2020-07-27 11:37:29.502    ERROR:          stages: ['Traceback (most recent call last):\\n', '  File \"/home/gmbrandt/envs/nres/lib/python3.6/site-packages/sqlalchemy/engine/base.py\", line 1246, in _execute_context\\n    cursor, statement, parameters, context\\n', '  File \"/home/gmbrandt/envs/nres/lib/python3.6/site-packages/sqlalchemy/engine/default.py\", line 588, in do_execute\\n    cursor.execute(statement, parameters)\\n', 'sqlite3.OperationalError: no such column: sites.latitude\\n', '\\nThe above exception was the direct cause of the following exception:\\n\\n', 'Traceback (most recent call last):\\n', '  File \"/home/gmbrandt/envs/nres/lib/python3.6/site-packages/banzai/stages.py\", line 47, in run\\n    processed_image = self.do_stage(image_set)\\n', '  File \"/home/gmbrandt/Documents/banzai-nres/banzai_nres/rv.py\", line 125, in do_stage\\n    dbs.get_site(image.instrument.site, self.runtime_context.db_address))\\n', '  File \"/home/gmbrandt/envs/nres/lib/python3.6/site-packages/banzai/dbs.py\", line 316, in get_site\\n    site_list = db_session.query(Site).filter(Site.id == site_id).all()\\n', '  File \"/home/gmbrandt/envs/nres/lib/python3.6/site-packages/sqlalchemy/orm/query.py\", line 3233, in all\\n    return list(self)\\n', '  File \"/home/gmbrandt/envs/nres/lib/python3.6/site-packages/sqlalchemy/orm/query.py\", line 3389, in __iter__\\n    return self._execute_and_instances(context)\\n', '  File \"/home/gmbrandt/envs/nres/lib/python3.6/site-packages/sqlalchemy/orm/query.py\", line 3414, in _execute_and_instances\\n    result = conn.execute(querycontext.statement, self._params)\\n', '  File \"/home/gmbrandt/envs/nres/lib/python3.6/site-packages/sqlalchemy/engine/base.py\", line 982, in execute\\n    return meth(self, multiparams, params)\\n', '  File \"/home/gmbrandt/envs/nres/lib/python3.6/site-packages/sqlalchemy/sql/elements.py\", line 293, in _execute_on_connection\\n    return connection._execute_clauseelement(self, multiparams, params)\\n', '  File \"/home/gmbrandt/envs/nres/lib/python3.6/site-packages/sqlalchemy/engine/base.py\", line 1101, in _execute_clauseelement\\n    distilled_params,\\n', '  File \"/home/gmbrandt/envs/nres/lib/python3.6/site-packages/sqlalchemy/engine/base.py\", line 1250, in _execute_context\\n    e, statement, parameters, cursor, context\\n', '  File \"/home/gmbrandt/envs/nres/lib/python3.6/site-packages/sqlalchemy/engine/base.py\", line 1476, in _handle_dbapi_exception\\n    util.raise_from_cause(sqlalchemy_exception, exc_info)\\n', '  File \"/home/gmbrandt/envs/nres/lib/python3.6/site-packages/sqlalchemy/util/compat.py\", line 398, in raise_from_cause\\n    reraise(type(exception), exception, tb=exc_tb, cause=cause)\\n', '  File \"/home/gmbrandt/envs/nres/lib/python3.6/site-packages/sqlalchemy/util/compat.py\", line 152, in reraise\\n    raise value.with_traceback(tb)\\n', '  File \"/home/gmbrandt/envs/nres/lib/python3.6/site-packages/sqlalchemy/engine/base.py\", line 1246, in _execute_context\\n    cursor, statement, parameters, context\\n', '  File \"/home/gmbrandt/envs/nres/lib/python3.6/site-packages/sqlalchemy/engine/default.py\", line 588, in do_execute\\n    cursor.execute(statement, parameters)\\n', \"sqlalchemy.exc.OperationalError: (sqlite3.OperationalError) no such column: sites.latitude\\n[SQL: SELECT sites.id AS sites_id, sites.timezone AS sites_timezone, sites.latitude AS sites_latitude, sites.longitude AS sites_longitude, sites.elevation AS sites_elevation \\nFROM sites \\nWHERE sites.id = ?]\\n[parameters: ('lsc',)]\\n(Background on this error at: http://sqlalche.me/e/e3q8)\\n\"] | {\"processName\": \"MainProcess\"}\n"
     ]
    },
    {
     "name": "stdout",
     "output_type": "stream",
     "text": [
      "2020-07-27 11:37:29.504    ERROR:     stage_utils: Reduction stopped | {\"filename\": [{\"path\": \"test_data/lsc/nres01/20180313/raw/lscnrs01-fl09-20180313-0029-e00.fits.fz\"}], \"processName\": \"MainProcess\"}\n",
      "2020-07-27 11:37:30.131     INFO:          stages: Running banzai.stages.BadPixelMaskLoader | {\"filename\": \"lscnrs01-fl09-20180313-0028-e00.fits.fz\", \"site\": \"lsc\", \"instrument\": \"nres01\", \"epoch\": \"20180313\", \"request_num\": \"0001446787\", \"obstype\": \"TARGET\", \"filter\": null, \"processName\": \"MainProcess\"}\n",
      "2020-07-27 11:37:30.328     INFO:    calibrations: Applying master calibration | {\"filename\": \"lscnrs01-fl09-20180313-0028-e00.fits.fz\", \"site\": \"lsc\", \"instrument\": \"nres01\", \"epoch\": \"20180313\", \"request_num\": \"0001446787\", \"obstype\": \"TARGET\", \"filter\": null, \"master_calibration\": \"bpm-lsc-nres01-fl09-20180215.fits.fz\", \"processName\": \"MainProcess\"}\n",
      "2020-07-27 11:37:30.363     INFO:          stages: Running banzai.stages.OverscanSubtractor | {\"filename\": \"lscnrs01-fl09-20180313-0028-e00.fits.fz\", \"site\": \"lsc\", \"instrument\": \"nres01\", \"epoch\": \"20180313\", \"request_num\": \"0001446787\", \"obstype\": \"TARGET\", \"filter\": null, \"processName\": \"MainProcess\"}\n",
      "2020-07-27 11:37:30.392     INFO:          stages: Running banzai.stages.GainNormalizer | {\"filename\": \"lscnrs01-fl09-20180313-0028-e00.fits.fz\", \"site\": \"lsc\", \"instrument\": \"nres01\", \"epoch\": \"20180313\", \"request_num\": \"0001446787\", \"obstype\": \"TARGET\", \"filter\": null, \"processName\": \"MainProcess\"}\n",
      "2020-07-27 11:37:30.393     INFO:            gain: Multiplying by gain | {\"filename\": \"lscnrs01-fl09-20180313-0028-e00.fits.fz\", \"site\": \"lsc\", \"instrument\": \"nres01\", \"epoch\": \"20180313\", \"request_num\": \"0001446787\", \"obstype\": \"TARGET\", \"filter\": null, \"processName\": \"MainProcess\"}\n",
      "2020-07-27 11:37:30.429     INFO:          stages: Running banzai.stages.Trimmer | {\"filename\": \"lscnrs01-fl09-20180313-0028-e00.fits.fz\", \"site\": \"lsc\", \"instrument\": \"nres01\", \"epoch\": \"20180313\", \"request_num\": \"0001446787\", \"obstype\": \"TARGET\", \"filter\": null, \"processName\": \"MainProcess\"}\n",
      "2020-07-27 11:37:30.431     INFO:            trim: Trimming image | {\"filename\": \"lscnrs01-fl09-20180313-0028-e00.fits.fz\", \"site\": \"lsc\", \"instrument\": \"nres01\", \"epoch\": \"20180313\", \"request_num\": \"0001446787\", \"obstype\": \"TARGET\", \"filter\": null, \"processName\": \"MainProcess\"}\n",
      "2020-07-27 11:37:30.760     INFO:          stages: Running banzai.stages.BiasSubtractor | {\"filename\": \"lscnrs01-fl09-20180313-0028-e00.fits.fz\", \"site\": \"lsc\", \"instrument\": \"nres01\", \"epoch\": \"20180313\", \"request_num\": \"0001446787\", \"obstype\": \"TARGET\", \"filter\": null, \"processName\": \"MainProcess\"}\n",
      "2020-07-27 11:37:31.514     INFO:    calibrations: Applying master calibration | {\"filename\": \"lscnrs01-fl09-20180313-0028-e00.fits.fz\", \"site\": \"lsc\", \"instrument\": \"nres01\", \"epoch\": \"20180313\", \"request_num\": \"0001446787\", \"obstype\": \"TARGET\", \"filter\": null, \"master_calibration\": \"lscnrs01-fl09-20180313-bias-bin1x1.fits.fz\", \"processName\": \"MainProcess\"}\n",
      "2020-07-27 11:37:31.787     INFO:          stages: Running banzai.stages.PoissonInitializer | {\"filename\": \"lscnrs01-fl09-20180313-0028-e00.fits.fz\", \"site\": \"lsc\", \"instrument\": \"nres01\", \"epoch\": \"20180313\", \"request_num\": \"0001446787\", \"obstype\": \"TARGET\", \"filter\": null, \"processName\": \"MainProcess\"}\n",
      "2020-07-27 11:37:31.936     INFO:          stages: Running banzai.stages.DarkSubtractor | {\"filename\": \"lscnrs01-fl09-20180313-0028-e00.fits.fz\", \"site\": \"lsc\", \"instrument\": \"nres01\", \"epoch\": \"20180313\", \"request_num\": \"0001446787\", \"obstype\": \"TARGET\", \"filter\": null, \"processName\": \"MainProcess\"}\n",
      "2020-07-27 11:37:32.662     INFO:    calibrations: Applying master calibration | {\"filename\": \"lscnrs01-fl09-20180313-0028-e00.fits.fz\", \"site\": \"lsc\", \"instrument\": \"nres01\", \"epoch\": \"20180313\", \"request_num\": \"0001446787\", \"obstype\": \"TARGET\", \"filter\": null, \"master_calibration\": \"lscnrs01-fl09-20180313-dark-bin1x1.fits.fz\", \"processName\": \"MainProcess\"}\n",
      "2020-07-27 11:37:32.840     INFO:          stages: Running banzai.stages.FlatLoader | {\"filename\": \"lscnrs01-fl09-20180313-0028-e00.fits.fz\", \"site\": \"lsc\", \"instrument\": \"nres01\", \"epoch\": \"20180313\", \"request_num\": \"0001446787\", \"obstype\": \"TARGET\", \"filter\": null, \"processName\": \"MainProcess\"}\n",
      "2020-07-27 11:37:34.486     INFO:    calibrations: Applying master calibration | {\"filename\": \"lscnrs01-fl09-20180313-0028-e00.fits.fz\", \"site\": \"lsc\", \"instrument\": \"nres01\", \"epoch\": \"20180313\", \"request_num\": \"0001446787\", \"obstype\": \"TARGET\", \"filter\": null, \"master_calibration\": \"lscnrs01-fl09-20180313-lampflat-bin1x1-110.fits.fz\", \"processName\": \"MainProcess\"}\n",
      "2020-07-27 11:37:34.607     INFO:          stages: Running banzai.stages.BackgroundSubtractor | {\"filename\": \"lscnrs01-fl09-20180313-0028-e00.fits.fz\", \"site\": \"lsc\", \"instrument\": \"nres01\", \"epoch\": \"20180313\", \"request_num\": \"0001446787\", \"obstype\": \"TARGET\", \"filter\": null, \"processName\": \"MainProcess\"}\n",
      "2020-07-27 11:37:35.027     INFO:          stages: Running banzai.stages.ArcLoader | {\"filename\": \"lscnrs01-fl09-20180313-0028-e00.fits.fz\", \"site\": \"lsc\", \"instrument\": \"nres01\", \"epoch\": \"20180313\", \"request_num\": \"0001446787\", \"obstype\": \"TARGET\", \"filter\": null, \"processName\": \"MainProcess\"}\n",
      "2020-07-27 11:37:36.905     INFO:    calibrations: Applying master calibration | {\"filename\": \"lscnrs01-fl09-20180313-0028-e00.fits.fz\", \"site\": \"lsc\", \"instrument\": \"nres01\", \"epoch\": \"20180313\", \"request_num\": \"0001446787\", \"obstype\": \"TARGET\", \"filter\": null, \"master_calibration\": \"lscnrs01-fl09-20180313-double-bin1x1-110.fits.fz\", \"processName\": \"MainProcess\"}\n",
      "2020-07-27 11:37:37.053     INFO:          stages: Running banzai.stages.GetOptimalExtractionWeights | {\"filename\": \"lscnrs01-fl09-20180313-0028-e00.fits.fz\", \"site\": \"lsc\", \"instrument\": \"nres01\", \"epoch\": \"20180313\", \"request_num\": \"0001446787\", \"obstype\": \"TARGET\", \"filter\": null, \"processName\": \"MainProcess\"}\n",
      "2020-07-27 11:37:53.909     INFO:          stages: Running banzai.stages.WeightedExtract | {\"filename\": \"lscnrs01-fl09-20180313-0028-e00.fits.fz\", \"site\": \"lsc\", \"instrument\": \"nres01\", \"epoch\": \"20180313\", \"request_num\": \"0001446787\", \"obstype\": \"TARGET\", \"filter\": null, \"processName\": \"MainProcess\"}\n"
     ]
    }
   ],
   "source": [
    "# set up the context object.\n",
    "import banzai.main\n",
    "context = banzai.main.parse_args(settings, parse_system_args=False)"
   ]
  },
  {
   "cell_type": "markdown",
   "metadata": {},
   "source": [
    "Download some test data from the archive\n",
    "----------------------------------------"
   ]
  },
  {
   "cell_type": "code",
   "execution_count": null,
   "metadata": {},
   "outputs": [],
   "source": [
    "# make directories for the test dataset.\n",
    "raw_data_dir = 'test_data/lsc/nres01/20180313/raw'\n",
    "os.makedirs(raw_data_dir, exist_ok=True)\n",
    "bpm_dir = 'test_data/lsc/nres01/bpm/'\n",
    "os.makedirs(bpm_dir, exist_ok=True)"
   ]
  },
  {
   "cell_type": "code",
   "execution_count": null,
   "metadata": {},
   "outputs": [],
   "source": [
    "# choose which files we will download for our test dataset.\n",
    "bpm_filename = 'bpm-lsc-nres01-fl09-20180215.fits.fz'\n",
    "test_filenames = ['lscnrs01-fl09-20180313-0001-w00.fits.fz', 'lscnrs01-fl09-20180313-0002-w00.fits.fz',\n",
    "                  'lscnrs01-fl09-20180313-0003-w00.fits.fz', 'lscnrs01-fl09-20180313-0004-w00.fits.fz',\n",
    "                  'lscnrs01-fl09-20180313-0005-w00.fits.fz', 'lscnrs01-fl09-20180313-0006-a00.fits.fz',\n",
    "                  'lscnrs01-fl09-20180313-0007-a00.fits.fz', 'lscnrs01-fl09-20180313-0008-a00.fits.fz',\n",
    "                  'lscnrs01-fl09-20180313-0009-w00.fits.fz', 'lscnrs01-fl09-20180313-0010-w00.fits.fz',\n",
    "                  'lscnrs01-fl09-20180313-0011-w00.fits.fz', 'lscnrs01-fl09-20180313-0012-w00.fits.fz',\n",
    "                  'lscnrs01-fl09-20180313-0013-w00.fits.fz', 'lscnrs01-fl09-20180313-0014-w00.fits.fz',\n",
    "                  'lscnrs01-fl09-20180313-0015-w00.fits.fz', 'lscnrs01-fl09-20180313-0016-w00.fits.fz',\n",
    "                  'lscnrs01-fl09-20180313-0017-w00.fits.fz', 'lscnrs01-fl09-20180313-0018-w00.fits.fz',\n",
    "                  'lscnrs01-fl09-20180313-0019-a00.fits.fz', 'lscnrs01-fl09-20180313-0020-a00.fits.fz',\n",
    "                  'lscnrs01-fl09-20180313-0021-a00.fits.fz', 'lscnrs01-fl09-20180313-0022-a00.fits.fz',\n",
    "                  'lscnrs01-fl09-20180313-0023-a00.fits.fz', 'lscnrs01-fl09-20180313-0042-b00.fits.fz',\n",
    "                  'lscnrs01-fl09-20180313-0043-b00.fits.fz', 'lscnrs01-fl09-20180313-0044-b00.fits.fz',\n",
    "                  'lscnrs01-fl09-20180313-0045-b00.fits.fz', 'lscnrs01-fl09-20180313-0046-b00.fits.fz',\n",
    "                  'lscnrs01-fl09-20180313-0047-d00.fits.fz', 'lscnrs01-fl09-20180313-0048-d00.fits.fz',\n",
    "                  'lscnrs01-fl09-20180313-0049-d00.fits.fz', 'lscnrs01-fl09-20180313-0028-e00.fits.fz',\n",
    "                  'lscnrs01-fl09-20180313-0029-e00.fits.fz', 'lscnrs01-fl09-20180313-0030-e00.fits.fz',\n",
    "                  'lscnrs01-fl09-20180313-0031-e00.fits.fz']\n",
    "\n",
    "bpm_frame_id = '22529799'\n",
    "test_frame_ids = ['8148793', '8148822', '8148805', '8148824', '8148826', '8148876', '8148898',\n",
    "                  '8148932', '8148960', '8148978', '8149024', '8149104', '8149068', '8149090',\n",
    "                  '8149128', '8149173', '8149217', '8151252', '8149314', '8149388', '8149469',\n",
    "                  '8149547', '8149570', '8156341', '8156360', '8156366', '8156376', '8156385',\n",
    "                  '8156433', '8156500', '8156560', '8151997', '8152050', '8152110', '8152153']"
   ]
  },
  {
   "cell_type": "code",
   "execution_count": null,
   "metadata": {},
   "outputs": [],
   "source": [
    "# THIS DOWNLOADS A NEW DATA SET. DO NOT RUN IF YOU HAVE ALREADY DOWNLOADED THE DATA\n",
    "# Copy the data into the correct directory\n",
    "for test_filename, frame_id in zip(test_filenames, test_frame_ids):\n",
    "    archive_url = f'https://archive-api.lco.global/frames/{frame_id}'\n",
    "    frame_info = requests.get(archive_url).json()\n",
    "    with open(os.path.join(raw_data_dir, test_filename), 'wb') as f:\n",
    "        f.write(requests.get(frame_info['url']).content)\n",
    "        \n",
    "archive_url = f'https://archive-api.lco.global/frames/{bpm_frame_id}'\n",
    "frame_info = requests.get(archive_url).json()\n",
    "with open(os.path.join(bpm_dir, bpm_filename), 'wb') as f:\n",
    "    f.write(requests.get(frame_info['url']).content)"
   ]
  },
  {
   "cell_type": "markdown",
   "metadata": {},
   "source": [
    "Initialize the db and context object for the rest of the pipeline\n",
    "-----------------------------------------------------------------"
   ]
  },
  {
   "cell_type": "code",
   "execution_count": null,
   "metadata": {},
   "outputs": [],
   "source": [
    "# THIS MAKES A FRESH DATABASE. DO NOT RUN ME UNLESS YOU WANT TO DELETE YOUR test.db AND MAKE A FRESH ONE\n",
    "os.system(f'banzai_create_db --db-address={os.environ[\"DB_ADDRESS\"]}')\n",
    "os.system(f'banzai_add_site --site elp --latitude 30.67986944 --longitude -104.015175 --elevation 2027 --timezone -6 --db-address={os.environ[\"DB_ADDRESS\"]}')\n",
    "os.system(f'banzai_add_site --site lsc --latitude -30.1673833333 --longitude -70.8047888889 --elevation 2198 --timezone -4 --db-address={os.environ[\"DB_ADDRESS\"]}')   \n",
    "os.system(f'banzai_add_instrument --site lsc --camera fl09 --name nres01 --instrument-type 1m0-NRES-SciCam --db-address={os.environ[\"DB_ADDRESS\"]}')\n",
    "os.system(f'banzai_add_instrument --site elp --camera fl17 --name nres02 --instrument-type 1m0-NRES-SciCam --db-address={os.environ[\"DB_ADDRESS\"]}')\n",
    "for bpm_filename in glob('test_data/*/nres??/bpm/*bpm*'):\n",
    "    logger.info(f'adding bpm {bpm_filename} to the database')\n",
    "    os.system(f'banzai_nres_add_bpm --filename {bpm_filename} --db-address={os.environ[\"DB_ADDRESS\"]}')"
   ]
  },
  {
   "cell_type": "markdown",
   "metadata": {},
   "source": [
    "Process and Stack Bias Files\n",
    "----------------------------"
   ]
  },
  {
   "cell_type": "code",
   "execution_count": null,
   "metadata": {},
   "outputs": [],
   "source": [
    "bias_files = glob(os.path.join('test_data/*/nres??/*/raw/*b00*'))\n",
    "for bias_file in bias_files: \n",
    "    run_pipeline_stages([{'path': bias_file}], context) "
   ]
  },
  {
   "cell_type": "code",
   "execution_count": null,
   "metadata": {},
   "outputs": [],
   "source": [
    "def mark_frames_as_good(filenames):\n",
    "    for filename in glob(f'test_data/*/nres??/*/processed/{filenames}'):\n",
    "        dbs.mark_frame(os.path.basename(filename), \"good\", db_address=os.environ['DB_ADDRESS'])"
   ]
  },
  {
   "cell_type": "code",
   "execution_count": null,
   "metadata": {},
   "outputs": [],
   "source": [
    "mark_frames_as_good('*b91*')"
   ]
  },
  {
   "cell_type": "code",
   "execution_count": 6,
   "metadata": {},
   "outputs": [],
   "source": [
    "instrument = dbs.get_instruments_at_site('lsc', settings.db_address)[0]"
   ]
  },
  {
   "cell_type": "code",
   "execution_count": null,
   "metadata": {},
   "outputs": [],
   "source": [
    "make_master_calibrations(instrument, 'BIAS', '2017-01-01', '2019-01-01', context) "
   ]
  },
  {
   "cell_type": "markdown",
   "metadata": {},
   "source": [
    "Process and Stack Dark Files\n",
    "----------------------------"
   ]
  },
  {
   "cell_type": "code",
   "execution_count": null,
   "metadata": {},
   "outputs": [],
   "source": [
    "dark_files = glob('test_data/*/nres??/*/raw/*d00*')\n",
    "for dark_file in dark_files: \n",
    "    run_pipeline_stages([{'path': dark_file}], context)"
   ]
  },
  {
   "cell_type": "code",
   "execution_count": null,
   "metadata": {},
   "outputs": [],
   "source": [
    "mark_frames_as_good('*d91*')"
   ]
  },
  {
   "cell_type": "code",
   "execution_count": null,
   "metadata": {},
   "outputs": [],
   "source": [
    "make_master_calibrations(instrument, 'DARK', '2017-01-01', '2019-01-01', context) "
   ]
  },
  {
   "cell_type": "markdown",
   "metadata": {},
   "source": [
    "Process and stack lamp flats. This is where we also solve for the traces and profile.\n",
    "----------"
   ]
  },
  {
   "cell_type": "code",
   "execution_count": null,
   "metadata": {},
   "outputs": [],
   "source": [
    "flat_files = glob('test_data/*/nres??/*/raw/*w00*')\n",
    "for flat_file in flat_files: \n",
    "    run_pipeline_stages([{'path': flat_file}], context)"
   ]
  },
  {
   "cell_type": "code",
   "execution_count": null,
   "metadata": {},
   "outputs": [],
   "source": [
    "make_master_calibrations(instrument, 'LAMPFLAT', '2017-01-01', '2019-01-01', context)"
   ]
  },
  {
   "cell_type": "markdown",
   "metadata": {},
   "source": [
    "Process and stack arc lamps. Find the wavelength solution\n",
    "--------"
   ]
  },
  {
   "cell_type": "code",
   "execution_count": null,
   "metadata": {},
   "outputs": [],
   "source": [
    "arc_files = glob('test_data/*/nres??/*/raw/*a00*')\n",
    "for arc_file in arc_files: \n",
    "    run_pipeline_stages([{'path': arc_file}], context)"
   ]
  },
  {
   "cell_type": "code",
   "execution_count": 8,
   "metadata": {},
   "outputs": [],
   "source": [
    "make_master_calibrations(instrument, 'DOUBLE', '2017-01-01', '2019-01-01', context)"
   ]
  },
  {
   "cell_type": "markdown",
   "metadata": {},
   "source": [
    "Process the science spectra\n",
    "------"
   ]
  },
  {
   "cell_type": "code",
   "execution_count": 9,
   "metadata": {},
   "outputs": [
    {
     "ename": "KeyboardInterrupt",
     "evalue": "",
     "output_type": "error",
     "traceback": [
      "\u001b[0;31m---------------------------------------------------------------------------\u001b[0m",
      "\u001b[0;31mKeyboardInterrupt\u001b[0m                         Traceback (most recent call last)",
      "\u001b[0;32m<ipython-input-9-1215307ab7fb>\u001b[0m in \u001b[0;36m<module>\u001b[0;34m\u001b[0m\n\u001b[1;32m      1\u001b[0m \u001b[0mscience_files\u001b[0m \u001b[0;34m=\u001b[0m \u001b[0mglob\u001b[0m\u001b[0;34m(\u001b[0m\u001b[0;34m'test_data/*/nres??/*/raw/*e00*'\u001b[0m\u001b[0;34m)\u001b[0m\u001b[0;34m\u001b[0m\u001b[0;34m\u001b[0m\u001b[0m\n\u001b[1;32m      2\u001b[0m \u001b[0;32mfor\u001b[0m \u001b[0mscience_file\u001b[0m \u001b[0;32min\u001b[0m \u001b[0mscience_files\u001b[0m\u001b[0;34m:\u001b[0m\u001b[0;34m\u001b[0m\u001b[0;34m\u001b[0m\u001b[0m\n\u001b[0;32m----> 3\u001b[0;31m     \u001b[0mrun_pipeline_stages\u001b[0m\u001b[0;34m(\u001b[0m\u001b[0;34m[\u001b[0m\u001b[0;34m{\u001b[0m\u001b[0;34m'path'\u001b[0m\u001b[0;34m:\u001b[0m \u001b[0mscience_file\u001b[0m\u001b[0;34m}\u001b[0m\u001b[0;34m]\u001b[0m\u001b[0;34m,\u001b[0m \u001b[0mcontext\u001b[0m\u001b[0;34m)\u001b[0m\u001b[0;34m\u001b[0m\u001b[0;34m\u001b[0m\u001b[0m\n\u001b[0m",
      "\u001b[0;32m~/envs/nres/lib/python3.6/site-packages/banzai/utils/stage_utils.py\u001b[0m in \u001b[0;36mrun_pipeline_stages\u001b[0;34m(image_paths, runtime_context, calibration_maker)\u001b[0m\n\u001b[1;32m     56\u001b[0m         \u001b[0mstage_constructor\u001b[0m \u001b[0;34m=\u001b[0m \u001b[0mimport_utils\u001b[0m\u001b[0;34m.\u001b[0m\u001b[0mimport_attribute\u001b[0m\u001b[0;34m(\u001b[0m\u001b[0mstage_name\u001b[0m\u001b[0;34m)\u001b[0m\u001b[0;34m\u001b[0m\u001b[0;34m\u001b[0m\u001b[0m\n\u001b[1;32m     57\u001b[0m         \u001b[0mstage\u001b[0m \u001b[0;34m=\u001b[0m \u001b[0mstage_constructor\u001b[0m\u001b[0;34m(\u001b[0m\u001b[0mruntime_context\u001b[0m\u001b[0;34m)\u001b[0m\u001b[0;34m\u001b[0m\u001b[0;34m\u001b[0m\u001b[0m\n\u001b[0;32m---> 58\u001b[0;31m         \u001b[0mimages\u001b[0m \u001b[0;34m=\u001b[0m \u001b[0mstage\u001b[0m\u001b[0;34m.\u001b[0m\u001b[0mrun\u001b[0m\u001b[0;34m(\u001b[0m\u001b[0mimages\u001b[0m\u001b[0;34m)\u001b[0m\u001b[0;34m\u001b[0m\u001b[0;34m\u001b[0m\u001b[0m\n\u001b[0m\u001b[1;32m     59\u001b[0m \u001b[0;34m\u001b[0m\u001b[0m\n\u001b[1;32m     60\u001b[0m         \u001b[0;32mif\u001b[0m \u001b[0;32mnot\u001b[0m \u001b[0mimages\u001b[0m \u001b[0;34m:\u001b[0m\u001b[0;34m\u001b[0m\u001b[0;34m\u001b[0m\u001b[0m\n",
      "\u001b[0;32m~/envs/nres/lib/python3.6/site-packages/banzai/stages.py\u001b[0m in \u001b[0;36mrun\u001b[0;34m(self, images)\u001b[0m\n\u001b[1;32m     45\u001b[0m                     \u001b[0mimage\u001b[0m \u001b[0;34m=\u001b[0m \u001b[0mimage_set\u001b[0m\u001b[0;34m\u001b[0m\u001b[0;34m\u001b[0m\u001b[0m\n\u001b[1;32m     46\u001b[0m                 \u001b[0mlogger\u001b[0m\u001b[0;34m.\u001b[0m\u001b[0minfo\u001b[0m\u001b[0;34m(\u001b[0m\u001b[0;34m'Running {0}'\u001b[0m\u001b[0;34m.\u001b[0m\u001b[0mformat\u001b[0m\u001b[0;34m(\u001b[0m\u001b[0mself\u001b[0m\u001b[0;34m.\u001b[0m\u001b[0mstage_name\u001b[0m\u001b[0;34m)\u001b[0m\u001b[0;34m,\u001b[0m \u001b[0mimage\u001b[0m\u001b[0;34m=\u001b[0m\u001b[0mimage\u001b[0m\u001b[0;34m)\u001b[0m\u001b[0;34m\u001b[0m\u001b[0;34m\u001b[0m\u001b[0m\n\u001b[0;32m---> 47\u001b[0;31m                 \u001b[0mprocessed_image\u001b[0m \u001b[0;34m=\u001b[0m \u001b[0mself\u001b[0m\u001b[0;34m.\u001b[0m\u001b[0mdo_stage\u001b[0m\u001b[0;34m(\u001b[0m\u001b[0mimage_set\u001b[0m\u001b[0;34m)\u001b[0m\u001b[0;34m\u001b[0m\u001b[0;34m\u001b[0m\u001b[0m\n\u001b[0m\u001b[1;32m     48\u001b[0m                 \u001b[0;32mif\u001b[0m \u001b[0mprocessed_image\u001b[0m \u001b[0;32mis\u001b[0m \u001b[0;32mnot\u001b[0m \u001b[0;32mNone\u001b[0m\u001b[0;34m:\u001b[0m\u001b[0;34m\u001b[0m\u001b[0;34m\u001b[0m\u001b[0m\n\u001b[1;32m     49\u001b[0m                     \u001b[0mprocessed_images\u001b[0m\u001b[0;34m.\u001b[0m\u001b[0mappend\u001b[0m\u001b[0;34m(\u001b[0m\u001b[0mprocessed_image\u001b[0m\u001b[0;34m)\u001b[0m\u001b[0;34m\u001b[0m\u001b[0;34m\u001b[0m\u001b[0m\n",
      "\u001b[0;32m~/Documents/banzai-nres/banzai_nres/extract.py\u001b[0m in \u001b[0;36mdo_stage\u001b[0;34m(self, image)\u001b[0m\n\u001b[1;32m     24\u001b[0m         \u001b[0mtrace_ids\u001b[0m \u001b[0;34m=\u001b[0m \u001b[0mnp\u001b[0m\u001b[0;34m.\u001b[0m\u001b[0marange\u001b[0m\u001b[0;34m(\u001b[0m\u001b[0;36m1\u001b[0m\u001b[0;34m,\u001b[0m \u001b[0mimage\u001b[0m\u001b[0;34m.\u001b[0m\u001b[0mnum_traces\u001b[0m \u001b[0;34m+\u001b[0m \u001b[0;36m1\u001b[0m\u001b[0;34m)\u001b[0m\u001b[0;34m\u001b[0m\u001b[0;34m\u001b[0m\u001b[0m\n\u001b[1;32m     25\u001b[0m         \u001b[0;32mfor\u001b[0m \u001b[0mi\u001b[0m\u001b[0;34m,\u001b[0m \u001b[0mtrace_id\u001b[0m \u001b[0;32min\u001b[0m \u001b[0menumerate\u001b[0m\u001b[0;34m(\u001b[0m\u001b[0mtrace_ids\u001b[0m\u001b[0;34m)\u001b[0m\u001b[0;34m:\u001b[0m\u001b[0;34m\u001b[0m\u001b[0;34m\u001b[0m\u001b[0m\n\u001b[0;32m---> 26\u001b[0;31m             \u001b[0mthis_trace\u001b[0m \u001b[0;34m=\u001b[0m \u001b[0mget_trace_region\u001b[0m\u001b[0;34m(\u001b[0m\u001b[0mnp\u001b[0m\u001b[0;34m.\u001b[0m\u001b[0misclose\u001b[0m\u001b[0;34m(\u001b[0m\u001b[0mimage\u001b[0m\u001b[0;34m.\u001b[0m\u001b[0mtraces\u001b[0m\u001b[0;34m,\u001b[0m \u001b[0mtrace_id\u001b[0m\u001b[0;34m)\u001b[0m\u001b[0;34m)\u001b[0m\u001b[0;34m\u001b[0m\u001b[0;34m\u001b[0m\u001b[0m\n\u001b[0m\u001b[1;32m     27\u001b[0m             \u001b[0;31m# get the horizontal (x) extent of the trace. Consider making this a get_extent function.\u001b[0m\u001b[0;34m\u001b[0m\u001b[0;34m\u001b[0m\u001b[0;34m\u001b[0m\u001b[0m\n\u001b[1;32m     28\u001b[0m             \u001b[0mx_extent\u001b[0m \u001b[0;34m=\u001b[0m \u001b[0mslice\u001b[0m\u001b[0;34m(\u001b[0m\u001b[0mnp\u001b[0m\u001b[0;34m.\u001b[0m\u001b[0mmin\u001b[0m\u001b[0;34m(\u001b[0m\u001b[0mthis_trace\u001b[0m\u001b[0;34m[\u001b[0m\u001b[0;36m1\u001b[0m\u001b[0;34m]\u001b[0m\u001b[0;34m)\u001b[0m\u001b[0;34m,\u001b[0m \u001b[0mnp\u001b[0m\u001b[0;34m.\u001b[0m\u001b[0mmax\u001b[0m\u001b[0;34m(\u001b[0m\u001b[0mthis_trace\u001b[0m\u001b[0;34m[\u001b[0m\u001b[0;36m1\u001b[0m\u001b[0;34m]\u001b[0m\u001b[0;34m)\u001b[0m \u001b[0;34m+\u001b[0m \u001b[0;36m1\u001b[0m\u001b[0;34m)\u001b[0m\u001b[0;34m\u001b[0m\u001b[0;34m\u001b[0m\u001b[0m\n",
      "\u001b[0;32m~/Documents/banzai-nres/banzai_nres/utils/trace_utils.py\u001b[0m in \u001b[0;36mget_trace_region\u001b[0;34m(trace_mask)\u001b[0m\n\u001b[1;32m     12\u001b[0m            \u001b[0mwritten\u001b[0m \u001b[0mout\u001b[0m \u001b[0mdirectly\u001b[0m \u001b[0mto\u001b[0m \u001b[0ma\u001b[0m \u001b[0mfits\u001b[0m \u001b[0mfile\u001b[0m\u001b[0;34m\u001b[0m\u001b[0;34m\u001b[0m\u001b[0m\n\u001b[1;32m     13\u001b[0m     \"\"\"\n\u001b[0;32m---> 14\u001b[0;31m     \u001b[0mpixel_indices\u001b[0m \u001b[0;34m=\u001b[0m \u001b[0mnp\u001b[0m\u001b[0;34m.\u001b[0m\u001b[0mwhere\u001b[0m\u001b[0;34m(\u001b[0m\u001b[0mtrace_mask\u001b[0m\u001b[0;34m)\u001b[0m\u001b[0;34m\u001b[0m\u001b[0;34m\u001b[0m\u001b[0m\n\u001b[0m\u001b[1;32m     15\u001b[0m \u001b[0;34m\u001b[0m\u001b[0m\n\u001b[1;32m     16\u001b[0m     \u001b[0;31m# This ravels the data in the wrong direction, so we need to resort the indexes\u001b[0m\u001b[0;34m\u001b[0m\u001b[0;34m\u001b[0m\u001b[0;34m\u001b[0m\u001b[0m\n",
      "\u001b[0;32m<__array_function__ internals>\u001b[0m in \u001b[0;36mwhere\u001b[0;34m(*args, **kwargs)\u001b[0m\n",
      "\u001b[0;31mKeyboardInterrupt\u001b[0m: "
     ]
    }
   ],
   "source": [
    "science_files = glob('test_data/*/nres??/*/raw/*e00*')\n",
    "for science_file in science_files: \n",
    "    run_pipeline_stages([{'path': science_file}], context)"
   ]
  },
  {
   "cell_type": "code",
   "execution_count": null,
   "metadata": {},
   "outputs": [],
   "source": []
  }
 ],
 "metadata": {
  "kernelspec": {
   "display_name": "Python 3",
   "language": "python",
   "name": "python3"
  },
  "language_info": {
   "codemirror_mode": {
    "name": "ipython",
    "version": 3
   },
   "file_extension": ".py",
   "mimetype": "text/x-python",
   "name": "python",
   "nbconvert_exporter": "python",
   "pygments_lexer": "ipython3",
   "version": "3.6.8"
  }
 },
 "nbformat": 4,
 "nbformat_minor": 4
}
