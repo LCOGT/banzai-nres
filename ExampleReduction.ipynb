{
 "cells": [
  {
   "cell_type": "code",
   "execution_count": 1,
   "metadata": {},
   "outputs": [],
   "source": [
    "import os\n",
    "os.environ['OPENTSDB_PYTHON_METRICS_TEST_MODE'] = 'True'"
   ]
  },
  {
   "cell_type": "code",
   "execution_count": 2,
   "metadata": {},
   "outputs": [],
   "source": [
    "from banzai.calibrations import make_master_calibrations\n",
    "import requests\n",
    "from banzai_nres import settings\n",
    "from banzai import dbs\n",
    "from banzai.utils.stage_utils import run_pipeline_stages\n",
    "import logging\n",
    "from banzai.logs import set_log_level\n",
    "from glob import glob\n",
    "\n",
    "import pkg_resources"
   ]
  },
  {
   "cell_type": "markdown",
   "metadata": {},
   "source": [
    "Setup logging and some settings show we know where the DB should be.\n",
    "------"
   ]
  },
  {
   "cell_type": "code",
   "execution_count": 3,
   "metadata": {},
   "outputs": [],
   "source": [
    "set_log_level('DEBUG')\n",
    "logger = logging.getLogger('banzai')"
   ]
  },
  {
   "cell_type": "code",
   "execution_count": 4,
   "metadata": {},
   "outputs": [],
   "source": [
    "os.environ['DB_ADDRESS'] = 'sqlite:///test_data/test.db'\n",
    "\n",
    "settings.processed_path= os.path.join(os.getcwd(), 'test_data')\n",
    "settings.fpack=True\n",
    "settings.db_address = os.environ['DB_ADDRESS']"
   ]
  },
  {
   "cell_type": "code",
   "execution_count": 5,
   "metadata": {},
   "outputs": [
    {
     "name": "stdout",
     "output_type": "stream",
     "text": [
      "2020-08-27 10:53:28.033     INFO:          stages: Running banzai.stages.BadPixelMaskLoader | {\"filename\": \"lscnrs01-fl09-20180313-0031-e00.fits.fz\", \"site\": \"lsc\", \"instrument\": \"nres01\", \"epoch\": \"20180313\", \"request_num\": \"0001446787\", \"obstype\": \"TARGET\", \"filter\": null, \"processName\": \"MainProcess\"}\n",
      "2020-08-27 10:53:28.231     INFO:    calibrations: Applying master calibration | {\"filename\": \"lscnrs01-fl09-20180313-0031-e00.fits.fz\", \"site\": \"lsc\", \"instrument\": \"nres01\", \"epoch\": \"20180313\", \"request_num\": \"0001446787\", \"obstype\": \"TARGET\", \"filter\": null, \"master_calibration\": \"bpm-lsc-nres01-fl09-20180215.fits.fz\", \"processName\": \"MainProcess\"}\n",
      "2020-08-27 10:53:28.265     INFO:          stages: Running banzai.stages.OverscanSubtractor | {\"filename\": \"lscnrs01-fl09-20180313-0031-e00.fits.fz\", \"site\": \"lsc\", \"instrument\": \"nres01\", \"epoch\": \"20180313\", \"request_num\": \"0001446787\", \"obstype\": \"TARGET\", \"filter\": null, \"processName\": \"MainProcess\"}\n",
      "2020-08-27 10:53:28.296     INFO:          stages: Running banzai.stages.GainNormalizer | {\"filename\": \"lscnrs01-fl09-20180313-0031-e00.fits.fz\", \"site\": \"lsc\", \"instrument\": \"nres01\", \"epoch\": \"20180313\", \"request_num\": \"0001446787\", \"obstype\": \"TARGET\", \"filter\": null, \"processName\": \"MainProcess\"}\n",
      "2020-08-27 10:53:28.297     INFO:            gain: Multiplying by gain | {\"filename\": \"lscnrs01-fl09-20180313-0031-e00.fits.fz\", \"site\": \"lsc\", \"instrument\": \"nres01\", \"epoch\": \"20180313\", \"request_num\": \"0001446787\", \"obstype\": \"TARGET\", \"filter\": null, \"processName\": \"MainProcess\"}\n",
      "2020-08-27 10:53:28.335     INFO:          stages: Running banzai.stages.Trimmer | {\"filename\": \"lscnrs01-fl09-20180313-0031-e00.fits.fz\", \"site\": \"lsc\", \"instrument\": \"nres01\", \"epoch\": \"20180313\", \"request_num\": \"0001446787\", \"obstype\": \"TARGET\", \"filter\": null, \"processName\": \"MainProcess\"}\n",
      "2020-08-27 10:53:28.336     INFO:            trim: Trimming image | {\"filename\": \"lscnrs01-fl09-20180313-0031-e00.fits.fz\", \"site\": \"lsc\", \"instrument\": \"nres01\", \"epoch\": \"20180313\", \"request_num\": \"0001446787\", \"obstype\": \"TARGET\", \"filter\": null, \"processName\": \"MainProcess\"}\n",
      "2020-08-27 10:53:28.595     INFO:          stages: Running banzai.stages.BiasSubtractor | {\"filename\": \"lscnrs01-fl09-20180313-0031-e00.fits.fz\", \"site\": \"lsc\", \"instrument\": \"nres01\", \"epoch\": \"20180313\", \"request_num\": \"0001446787\", \"obstype\": \"TARGET\", \"filter\": null, \"processName\": \"MainProcess\"}\n",
      "2020-08-27 10:53:29.304     INFO:    calibrations: Applying master calibration | {\"filename\": \"lscnrs01-fl09-20180313-0031-e00.fits.fz\", \"site\": \"lsc\", \"instrument\": \"nres01\", \"epoch\": \"20180313\", \"request_num\": \"0001446787\", \"obstype\": \"TARGET\", \"filter\": null, \"master_calibration\": \"lscnrs01-fl09-20180313-bias-bin1x1.fits.fz\", \"processName\": \"MainProcess\"}\n",
      "2020-08-27 10:53:29.513     INFO:          stages: Running banzai.stages.PoissonInitializer | {\"filename\": \"lscnrs01-fl09-20180313-0031-e00.fits.fz\", \"site\": \"lsc\", \"instrument\": \"nres01\", \"epoch\": \"20180313\", \"request_num\": \"0001446787\", \"obstype\": \"TARGET\", \"filter\": null, \"processName\": \"MainProcess\"}\n",
      "2020-08-27 10:53:29.638     INFO:          stages: Running banzai.stages.DarkSubtractor | {\"filename\": \"lscnrs01-fl09-20180313-0031-e00.fits.fz\", \"site\": \"lsc\", \"instrument\": \"nres01\", \"epoch\": \"20180313\", \"request_num\": \"0001446787\", \"obstype\": \"TARGET\", \"filter\": null, \"processName\": \"MainProcess\"}\n",
      "2020-08-27 10:53:30.333     INFO:    calibrations: Applying master calibration | {\"filename\": \"lscnrs01-fl09-20180313-0031-e00.fits.fz\", \"site\": \"lsc\", \"instrument\": \"nres01\", \"epoch\": \"20180313\", \"request_num\": \"0001446787\", \"obstype\": \"TARGET\", \"filter\": null, \"master_calibration\": \"lscnrs01-fl09-20180313-dark-bin1x1.fits.fz\", \"processName\": \"MainProcess\"}\n",
      "2020-08-27 10:53:30.503     INFO:          stages: Running banzai.stages.FlatLoader | {\"filename\": \"lscnrs01-fl09-20180313-0031-e00.fits.fz\", \"site\": \"lsc\", \"instrument\": \"nres01\", \"epoch\": \"20180313\", \"request_num\": \"0001446787\", \"obstype\": \"TARGET\", \"filter\": null, \"processName\": \"MainProcess\"}\n",
      "2020-08-27 10:53:31.806     INFO:    calibrations: Applying master calibration | {\"filename\": \"lscnrs01-fl09-20180313-0031-e00.fits.fz\", \"site\": \"lsc\", \"instrument\": \"nres01\", \"epoch\": \"20180313\", \"request_num\": \"0001446787\", \"obstype\": \"TARGET\", \"filter\": null, \"master_calibration\": \"lscnrs01-fl09-20180313-lampflat-bin1x1-110.fits.fz\", \"processName\": \"MainProcess\"}\n",
      "2020-08-27 10:53:31.928     INFO:          stages: Running banzai.stages.BackgroundSubtractor | {\"filename\": \"lscnrs01-fl09-20180313-0031-e00.fits.fz\", \"site\": \"lsc\", \"instrument\": \"nres01\", \"epoch\": \"20180313\", \"request_num\": \"0001446787\", \"obstype\": \"TARGET\", \"filter\": null, \"processName\": \"MainProcess\"}\n",
      "2020-08-27 10:53:32.640     INFO:          stages: Running banzai.stages.ArcLoader | {\"filename\": \"lscnrs01-fl09-20180313-0031-e00.fits.fz\", \"site\": \"lsc\", \"instrument\": \"nres01\", \"epoch\": \"20180313\", \"request_num\": \"0001446787\", \"obstype\": \"TARGET\", \"filter\": null, \"processName\": \"MainProcess\"}\n",
      "2020-08-27 10:53:34.311     INFO:    calibrations: Applying master calibration | {\"filename\": \"lscnrs01-fl09-20180313-0031-e00.fits.fz\", \"site\": \"lsc\", \"instrument\": \"nres01\", \"epoch\": \"20180313\", \"request_num\": \"0001446787\", \"obstype\": \"TARGET\", \"filter\": null, \"master_calibration\": \"lscnrs01-fl09-20180313-double-bin1x1-110.fits.fz\", \"processName\": \"MainProcess\"}\n",
      "2020-08-27 10:53:34.441     INFO:          stages: Running banzai.stages.GetOptimalExtractionWeights | {\"filename\": \"lscnrs01-fl09-20180313-0031-e00.fits.fz\", \"site\": \"lsc\", \"instrument\": \"nres01\", \"epoch\": \"20180313\", \"request_num\": \"0001446787\", \"obstype\": \"TARGET\", \"filter\": null, \"processName\": \"MainProcess\"}\n",
      "2020-08-27 10:53:50.132     INFO:          stages: Running banzai.stages.WeightedExtract | {\"filename\": \"lscnrs01-fl09-20180313-0031-e00.fits.fz\", \"site\": \"lsc\", \"instrument\": \"nres01\", \"epoch\": \"20180313\", \"request_num\": \"0001446787\", \"obstype\": \"TARGET\", \"filter\": null, \"processName\": \"MainProcess\"}\n",
      "2020-08-27 10:54:05.690     INFO:          stages: Running banzai.stages.ContinuumNormalizer | {\"filename\": \"lscnrs01-fl09-20180313-0031-e00.fits.fz\", \"site\": \"lsc\", \"instrument\": \"nres01\", \"epoch\": \"20180313\", \"request_num\": \"0001446787\", \"obstype\": \"TARGET\", \"filter\": null, \"processName\": \"MainProcess\"}\n",
      "2020-08-27 10:54:05.691     INFO:             log: Science fiber is 0 | {\"processName\": \"MainProcess\"}\n",
      "2020-08-27 10:54:05.694     INFO:             log: fitting continuum for order, fiber: (51.0, 1) | {\"processName\": \"MainProcess\"}\n",
      "2020-08-27 10:54:05.713     INFO:             log: fitting continuum for order, fiber: (51.0, 0) | {\"processName\": \"MainProcess\"}\n",
      "2020-08-27 10:54:05.722     INFO:             log: fitting continuum for order, fiber: (52.0, 1) | {\"processName\": \"MainProcess\"}\n",
      "2020-08-27 10:54:05.731     INFO:             log: fitting continuum for order, fiber: (52.0, 0) | {\"processName\": \"MainProcess\"}\n",
      "2020-08-27 10:54:05.740     INFO:             log: fitting continuum for order, fiber: (53.0, 1) | {\"processName\": \"MainProcess\"}\n",
      "2020-08-27 10:54:05.749     INFO:             log: fitting continuum for order, fiber: (53.0, 0) | {\"processName\": \"MainProcess\"}\n",
      "2020-08-27 10:54:05.759     INFO:             log: fitting continuum for order, fiber: (54.0, 1) | {\"processName\": \"MainProcess\"}\n",
      "2020-08-27 10:54:05.775     INFO:             log: fitting continuum for order, fiber: (54.0, 0) | {\"processName\": \"MainProcess\"}\n",
      "2020-08-27 10:54:05.784     INFO:             log: fitting continuum for order, fiber: (55.0, 1) | {\"processName\": \"MainProcess\"}\n",
      "2020-08-27 10:54:05.793     INFO:             log: fitting continuum for order, fiber: (55.0, 0) | {\"processName\": \"MainProcess\"}\n",
      "2020-08-27 10:54:05.804     INFO:             log: fitting continuum for order, fiber: (56.0, 1) | {\"processName\": \"MainProcess\"}\n",
      "2020-08-27 10:54:05.814     INFO:             log: fitting continuum for order, fiber: (56.0, 0) | {\"processName\": \"MainProcess\"}\n",
      "2020-08-27 10:54:05.825     INFO:             log: fitting continuum for order, fiber: (57.0, 1) | {\"processName\": \"MainProcess\"}\n",
      "2020-08-27 10:54:05.836     INFO:             log: fitting continuum for order, fiber: (57.0, 0) | {\"processName\": \"MainProcess\"}\n"
     ]
    },
    {
     "name": "stdout",
     "output_type": "stream",
     "text": [
      "2020-08-27 10:54:05.845     INFO:             log: fitting continuum for order, fiber: (58.0, 1) | {\"processName\": \"MainProcess\"}\n",
      "2020-08-27 10:54:05.856     INFO:             log: fitting continuum for order, fiber: (58.0, 0) | {\"processName\": \"MainProcess\"}\n",
      "2020-08-27 10:54:05.864     INFO:             log: fitting continuum for order, fiber: (59.0, 1) | {\"processName\": \"MainProcess\"}\n",
      "2020-08-27 10:54:05.874     INFO:             log: fitting continuum for order, fiber: (59.0, 0) | {\"processName\": \"MainProcess\"}\n",
      "2020-08-27 10:54:05.883     INFO:             log: fitting continuum for order, fiber: (60.0, 1) | {\"processName\": \"MainProcess\"}\n",
      "2020-08-27 10:54:05.893     INFO:             log: fitting continuum for order, fiber: (60.0, 0) | {\"processName\": \"MainProcess\"}\n",
      "2020-08-27 10:54:05.901     INFO:             log: fitting continuum for order, fiber: (61.0, 1) | {\"processName\": \"MainProcess\"}\n",
      "2020-08-27 10:54:05.981     INFO:             log: fitting continuum for order, fiber: (61.0, 0) | {\"processName\": \"MainProcess\"}\n",
      "2020-08-27 10:54:05.990     INFO:             log: fitting continuum for order, fiber: (62.0, 1) | {\"processName\": \"MainProcess\"}\n",
      "2020-08-27 10:54:06.002     INFO:             log: fitting continuum for order, fiber: (62.0, 0) | {\"processName\": \"MainProcess\"}\n",
      "2020-08-27 10:54:06.011     INFO:             log: fitting continuum for order, fiber: (63.0, 1) | {\"processName\": \"MainProcess\"}\n",
      "2020-08-27 10:54:06.020     INFO:             log: fitting continuum for order, fiber: (63.0, 0) | {\"processName\": \"MainProcess\"}\n",
      "2020-08-27 10:54:06.029     INFO:             log: fitting continuum for order, fiber: (64.0, 1) | {\"processName\": \"MainProcess\"}\n",
      "2020-08-27 10:54:06.038     INFO:             log: fitting continuum for order, fiber: (64.0, 0) | {\"processName\": \"MainProcess\"}\n",
      "2020-08-27 10:54:06.047     INFO:             log: fitting continuum for order, fiber: (65.0, 1) | {\"processName\": \"MainProcess\"}\n",
      "2020-08-27 10:54:06.055     INFO:             log: fitting continuum for order, fiber: (65.0, 0) | {\"processName\": \"MainProcess\"}\n",
      "2020-08-27 10:54:06.064     INFO:             log: fitting continuum for order, fiber: (66.0, 1) | {\"processName\": \"MainProcess\"}\n",
      "2020-08-27 10:54:06.073     INFO:             log: fitting continuum for order, fiber: (66.0, 0) | {\"processName\": \"MainProcess\"}\n",
      "2020-08-27 10:54:06.082     INFO:             log: fitting continuum for order, fiber: (67.0, 1) | {\"processName\": \"MainProcess\"}\n",
      "2020-08-27 10:54:06.090     INFO:             log: fitting continuum for order, fiber: (67.0, 0) | {\"processName\": \"MainProcess\"}\n",
      "2020-08-27 10:54:06.099     INFO:             log: fitting continuum for order, fiber: (68.0, 1) | {\"processName\": \"MainProcess\"}\n",
      "2020-08-27 10:54:06.108     INFO:             log: fitting continuum for order, fiber: (68.0, 0) | {\"processName\": \"MainProcess\"}\n",
      "2020-08-27 10:54:06.117     INFO:             log: fitting continuum for order, fiber: (69.0, 1) | {\"processName\": \"MainProcess\"}\n",
      "2020-08-27 10:54:06.125     INFO:             log: fitting continuum for order, fiber: (69.0, 0) | {\"processName\": \"MainProcess\"}\n",
      "2020-08-27 10:54:06.134     INFO:             log: fitting continuum for order, fiber: (70.0, 1) | {\"processName\": \"MainProcess\"}\n",
      "2020-08-27 10:54:06.143     INFO:             log: fitting continuum for order, fiber: (70.0, 0) | {\"processName\": \"MainProcess\"}\n",
      "2020-08-27 10:54:06.152     INFO:             log: fitting continuum for order, fiber: (71.0, 1) | {\"processName\": \"MainProcess\"}\n",
      "2020-08-27 10:54:06.160     INFO:             log: fitting continuum for order, fiber: (71.0, 0) | {\"processName\": \"MainProcess\"}\n",
      "2020-08-27 10:54:06.168     INFO:             log: fitting continuum for order, fiber: (72.0, 1) | {\"processName\": \"MainProcess\"}\n",
      "2020-08-27 10:54:06.177     INFO:             log: fitting continuum for order, fiber: (72.0, 0) | {\"processName\": \"MainProcess\"}\n",
      "2020-08-27 10:54:06.186     INFO:             log: fitting continuum for order, fiber: (73.0, 1) | {\"processName\": \"MainProcess\"}\n",
      "2020-08-27 10:54:06.194     INFO:             log: fitting continuum for order, fiber: (73.0, 0) | {\"processName\": \"MainProcess\"}\n",
      "2020-08-27 10:54:06.203     INFO:             log: fitting continuum for order, fiber: (74.0, 1) | {\"processName\": \"MainProcess\"}\n",
      "2020-08-27 10:54:06.211     INFO:             log: fitting continuum for order, fiber: (74.0, 0) | {\"processName\": \"MainProcess\"}\n",
      "2020-08-27 10:54:06.227     INFO:             log: fitting continuum for order, fiber: (75.0, 1) | {\"processName\": \"MainProcess\"}\n",
      "2020-08-27 10:54:06.235     INFO:             log: fitting continuum for order, fiber: (75.0, 0) | {\"processName\": \"MainProcess\"}\n",
      "2020-08-27 10:54:06.244     INFO:             log: fitting continuum for order, fiber: (76.0, 1) | {\"processName\": \"MainProcess\"}\n",
      "2020-08-27 10:54:06.252     INFO:             log: fitting continuum for order, fiber: (76.0, 0) | {\"processName\": \"MainProcess\"}\n",
      "2020-08-27 10:54:06.261     INFO:             log: fitting continuum for order, fiber: (77.0, 1) | {\"processName\": \"MainProcess\"}\n",
      "2020-08-27 10:54:06.269     INFO:             log: fitting continuum for order, fiber: (77.0, 0) | {\"processName\": \"MainProcess\"}\n",
      "2020-08-27 10:54:06.277     INFO:             log: fitting continuum for order, fiber: (78.0, 1) | {\"processName\": \"MainProcess\"}\n",
      "2020-08-27 10:54:06.285     INFO:             log: fitting continuum for order, fiber: (78.0, 0) | {\"processName\": \"MainProcess\"}\n",
      "2020-08-27 10:54:06.294     INFO:             log: fitting continuum for order, fiber: (79.0, 1) | {\"processName\": \"MainProcess\"}\n",
      "2020-08-27 10:54:06.302     INFO:             log: fitting continuum for order, fiber: (79.0, 0) | {\"processName\": \"MainProcess\"}\n",
      "2020-08-27 10:54:06.311     INFO:             log: fitting continuum for order, fiber: (80.0, 1) | {\"processName\": \"MainProcess\"}\n",
      "2020-08-27 10:54:06.319     INFO:             log: fitting continuum for order, fiber: (80.0, 0) | {\"processName\": \"MainProcess\"}\n",
      "2020-08-27 10:54:06.327     INFO:             log: fitting continuum for order, fiber: (81.0, 1) | {\"processName\": \"MainProcess\"}\n",
      "2020-08-27 10:54:06.336     INFO:             log: fitting continuum for order, fiber: (81.0, 0) | {\"processName\": \"MainProcess\"}\n",
      "2020-08-27 10:54:06.343     INFO:             log: fitting continuum for order, fiber: (82.0, 1) | {\"processName\": \"MainProcess\"}\n",
      "2020-08-27 10:54:06.352     INFO:             log: fitting continuum for order, fiber: (82.0, 0) | {\"processName\": \"MainProcess\"}\n",
      "2020-08-27 10:54:06.361     INFO:             log: fitting continuum for order, fiber: (83.0, 1) | {\"processName\": \"MainProcess\"}\n",
      "2020-08-27 10:54:06.370     INFO:             log: fitting continuum for order, fiber: (83.0, 0) | {\"processName\": \"MainProcess\"}\n",
      "2020-08-27 10:54:06.378     INFO:             log: fitting continuum for order, fiber: (84.0, 1) | {\"processName\": \"MainProcess\"}\n",
      "2020-08-27 10:54:06.386     INFO:             log: fitting continuum for order, fiber: (84.0, 0) | {\"processName\": \"MainProcess\"}\n",
      "2020-08-27 10:54:06.395     INFO:             log: fitting continuum for order, fiber: (85.0, 1) | {\"processName\": \"MainProcess\"}\n",
      "2020-08-27 10:54:06.403     INFO:             log: fitting continuum for order, fiber: (85.0, 0) | {\"processName\": \"MainProcess\"}\n",
      "2020-08-27 10:54:06.411     INFO:             log: fitting continuum for order, fiber: (86.0, 1) | {\"processName\": \"MainProcess\"}\n",
      "2020-08-27 10:54:06.420     INFO:             log: fitting continuum for order, fiber: (86.0, 0) | {\"processName\": \"MainProcess\"}\n",
      "2020-08-27 10:54:06.428     INFO:             log: fitting continuum for order, fiber: (87.0, 1) | {\"processName\": \"MainProcess\"}\n",
      "2020-08-27 10:54:06.436     INFO:             log: fitting continuum for order, fiber: (87.0, 0) | {\"processName\": \"MainProcess\"}\n",
      "2020-08-27 10:54:06.445     INFO:             log: fitting continuum for order, fiber: (88.0, 1) | {\"processName\": \"MainProcess\"}\n",
      "2020-08-27 10:54:06.453     INFO:             log: fitting continuum for order, fiber: (88.0, 0) | {\"processName\": \"MainProcess\"}\n",
      "2020-08-27 10:54:06.461     INFO:             log: fitting continuum for order, fiber: (89.0, 1) | {\"processName\": \"MainProcess\"}\n",
      "2020-08-27 10:54:06.472     INFO:             log: fitting continuum for order, fiber: (89.0, 0) | {\"processName\": \"MainProcess\"}\n"
     ]
    },
    {
     "name": "stdout",
     "output_type": "stream",
     "text": [
      "2020-08-27 10:54:06.481     INFO:             log: fitting continuum for order, fiber: (90.0, 1) | {\"processName\": \"MainProcess\"}\n",
      "2020-08-27 10:54:06.489     INFO:             log: fitting continuum for order, fiber: (90.0, 0) | {\"processName\": \"MainProcess\"}\n",
      "2020-08-27 10:54:06.498     INFO:             log: fitting continuum for order, fiber: (91.0, 1) | {\"processName\": \"MainProcess\"}\n",
      "2020-08-27 10:54:06.506     INFO:             log: fitting continuum for order, fiber: (91.0, 0) | {\"processName\": \"MainProcess\"}\n",
      "2020-08-27 10:54:06.514     INFO:             log: fitting continuum for order, fiber: (92.0, 1) | {\"processName\": \"MainProcess\"}\n",
      "2020-08-27 10:54:06.523     INFO:             log: fitting continuum for order, fiber: (92.0, 0) | {\"processName\": \"MainProcess\"}\n",
      "2020-08-27 10:54:06.531     INFO:             log: fitting continuum for order, fiber: (93.0, 1) | {\"processName\": \"MainProcess\"}\n",
      "2020-08-27 10:54:06.539     INFO:             log: fitting continuum for order, fiber: (93.0, 0) | {\"processName\": \"MainProcess\"}\n",
      "2020-08-27 10:54:06.548     INFO:             log: fitting continuum for order, fiber: (94.0, 1) | {\"processName\": \"MainProcess\"}\n",
      "2020-08-27 10:54:06.556     INFO:             log: fitting continuum for order, fiber: (94.0, 0) | {\"processName\": \"MainProcess\"}\n",
      "2020-08-27 10:54:06.565     INFO:             log: fitting continuum for order, fiber: (95.0, 1) | {\"processName\": \"MainProcess\"}\n",
      "2020-08-27 10:54:06.573     INFO:             log: fitting continuum for order, fiber: (95.0, 0) | {\"processName\": \"MainProcess\"}\n",
      "2020-08-27 10:54:06.582     INFO:             log: fitting continuum for order, fiber: (96.0, 1) | {\"processName\": \"MainProcess\"}\n",
      "2020-08-27 10:54:06.590     INFO:             log: fitting continuum for order, fiber: (96.0, 0) | {\"processName\": \"MainProcess\"}\n",
      "2020-08-27 10:54:06.598     INFO:             log: fitting continuum for order, fiber: (97.0, 1) | {\"processName\": \"MainProcess\"}\n",
      "2020-08-27 10:54:06.606     INFO:             log: fitting continuum for order, fiber: (97.0, 0) | {\"processName\": \"MainProcess\"}\n",
      "2020-08-27 10:54:06.615     INFO:             log: fitting continuum for order, fiber: (98.0, 1) | {\"processName\": \"MainProcess\"}\n",
      "2020-08-27 10:54:06.623     INFO:             log: fitting continuum for order, fiber: (98.0, 0) | {\"processName\": \"MainProcess\"}\n",
      "2020-08-27 10:54:06.632     INFO:             log: fitting continuum for order, fiber: (99.0, 1) | {\"processName\": \"MainProcess\"}\n",
      "2020-08-27 10:54:06.641     INFO:             log: fitting continuum for order, fiber: (99.0, 0) | {\"processName\": \"MainProcess\"}\n",
      "2020-08-27 10:54:06.649     INFO:             log: fitting continuum for order, fiber: (100.0, 1) | {\"processName\": \"MainProcess\"}\n",
      "2020-08-27 10:54:06.657     INFO:             log: fitting continuum for order, fiber: (100.0, 0) | {\"processName\": \"MainProcess\"}\n",
      "2020-08-27 10:54:06.665     INFO:             log: fitting continuum for order, fiber: (101.0, 1) | {\"processName\": \"MainProcess\"}\n",
      "2020-08-27 10:54:06.674     INFO:             log: fitting continuum for order, fiber: (101.0, 0) | {\"processName\": \"MainProcess\"}\n",
      "2020-08-27 10:54:06.682     INFO:             log: fitting continuum for order, fiber: (102.0, 1) | {\"processName\": \"MainProcess\"}\n",
      "2020-08-27 10:54:06.690     INFO:             log: fitting continuum for order, fiber: (102.0, 0) | {\"processName\": \"MainProcess\"}\n",
      "2020-08-27 10:54:06.699     INFO:             log: fitting continuum for order, fiber: (103.0, 1) | {\"processName\": \"MainProcess\"}\n",
      "2020-08-27 10:54:06.707     INFO:             log: fitting continuum for order, fiber: (103.0, 0) | {\"processName\": \"MainProcess\"}\n",
      "2020-08-27 10:54:06.715     INFO:             log: fitting continuum for order, fiber: (104.0, 1) | {\"processName\": \"MainProcess\"}\n",
      "2020-08-27 10:54:06.723     INFO:             log: fitting continuum for order, fiber: (104.0, 0) | {\"processName\": \"MainProcess\"}\n",
      "2020-08-27 10:54:06.732     INFO:             log: fitting continuum for order, fiber: (105.0, 1) | {\"processName\": \"MainProcess\"}\n",
      "2020-08-27 10:54:06.740     INFO:             log: fitting continuum for order, fiber: (105.0, 0) | {\"processName\": \"MainProcess\"}\n",
      "2020-08-27 10:54:06.748     INFO:             log: fitting continuum for order, fiber: (106.0, 1) | {\"processName\": \"MainProcess\"}\n",
      "2020-08-27 10:54:06.756     INFO:             log: fitting continuum for order, fiber: (106.0, 0) | {\"processName\": \"MainProcess\"}\n",
      "2020-08-27 10:54:06.765     INFO:             log: fitting continuum for order, fiber: (107.0, 1) | {\"processName\": \"MainProcess\"}\n",
      "2020-08-27 10:54:06.773     INFO:             log: fitting continuum for order, fiber: (107.0, 0) | {\"processName\": \"MainProcess\"}\n",
      "2020-08-27 10:54:06.781     INFO:             log: fitting continuum for order, fiber: (108.0, 1) | {\"processName\": \"MainProcess\"}\n",
      "2020-08-27 10:54:06.789     INFO:             log: fitting continuum for order, fiber: (108.0, 0) | {\"processName\": \"MainProcess\"}\n",
      "2020-08-27 10:54:06.797     INFO:             log: fitting continuum for order, fiber: (109.0, 1) | {\"processName\": \"MainProcess\"}\n",
      "2020-08-27 10:54:06.805     INFO:             log: fitting continuum for order, fiber: (109.0, 0) | {\"processName\": \"MainProcess\"}\n",
      "2020-08-27 10:54:06.813     INFO:             log: fitting continuum for order, fiber: (110.0, 1) | {\"processName\": \"MainProcess\"}\n",
      "2020-08-27 10:54:06.821     INFO:             log: fitting continuum for order, fiber: (110.0, 0) | {\"processName\": \"MainProcess\"}\n",
      "2020-08-27 10:54:06.830     INFO:             log: fitting continuum for order, fiber: (111.0, 1) | {\"processName\": \"MainProcess\"}\n",
      "2020-08-27 10:54:06.838     INFO:             log: fitting continuum for order, fiber: (111.0, 0) | {\"processName\": \"MainProcess\"}\n",
      "2020-08-27 10:54:06.846     INFO:             log: fitting continuum for order, fiber: (112.0, 1) | {\"processName\": \"MainProcess\"}\n",
      "2020-08-27 10:54:06.854     INFO:             log: fitting continuum for order, fiber: (112.0, 0) | {\"processName\": \"MainProcess\"}\n",
      "2020-08-27 10:54:06.862     INFO:             log: fitting continuum for order, fiber: (113.0, 1) | {\"processName\": \"MainProcess\"}\n",
      "2020-08-27 10:54:06.870     INFO:             log: fitting continuum for order, fiber: (113.0, 0) | {\"processName\": \"MainProcess\"}\n",
      "2020-08-27 10:54:06.877     INFO:             log: fitting continuum for order, fiber: (114.0, 1) | {\"processName\": \"MainProcess\"}\n",
      "2020-08-27 10:54:06.885     INFO:             log: fitting continuum for order, fiber: (114.0, 0) | {\"processName\": \"MainProcess\"}\n",
      "2020-08-27 10:54:06.893     INFO:             log: fitting continuum for order, fiber: (115.0, 1) | {\"processName\": \"MainProcess\"}\n",
      "2020-08-27 10:54:06.901     INFO:             log: fitting continuum for order, fiber: (115.0, 0) | {\"processName\": \"MainProcess\"}\n",
      "2020-08-27 10:54:06.909     INFO:             log: fitting continuum for order, fiber: (116.0, 1) | {\"processName\": \"MainProcess\"}\n",
      "2020-08-27 10:54:06.917     INFO:             log: fitting continuum for order, fiber: (116.0, 0) | {\"processName\": \"MainProcess\"}\n",
      "2020-08-27 10:54:06.925     INFO:             log: fitting continuum for order, fiber: (117.0, 1) | {\"processName\": \"MainProcess\"}\n",
      "2020-08-27 10:54:06.928    ERROR:          stages: ['Traceback (most recent call last):\\n', '  File \"/home/gmbrandt/envs/nres/lib/python3.6/site-packages/banzai/stages.py\", line 47, in run\\n    processed_image = self.do_stage(image_set)\\n', '  File \"/home/gmbrandt/Documents/banzai-nres/banzai_nres/continuum.py\", line 36, in do_stage\\n    order=3, sigma=5, mask=mask)\\n', '  File \"/home/gmbrandt/Documents/banzai-nres/banzai_nres/fitting.py\", line 27, in fit_polynomial\\n    best_fit = fitter(model, x_to_fit, y_to_fit, weights=weights)\\n', '  File \"/home/gmbrandt/envs/nres/lib/python3.6/site-packages/astropy/modeling/fitting.py\", line 176, in wrapper\\n    return func(self, model, x, y, z=z, **kwargs)\\n', '  File \"/home/gmbrandt/envs/nres/lib/python3.6/site-packages/astropy/modeling/fitting.py\", line 507, in __call__\\n    rhs[good], rcond)\\n', '  File \"<__array_function__ internals>\", line 6, in lstsq\\n', '  File \"/home/gmbrandt/envs/nres/lib/python3.6/site-packages/numpy/linalg/linalg.py\", line 2268, in lstsq\\n    x, resids, rank, s = gufunc(a, b, rcond, signature=signature, extobj=extobj)\\n', 'ValueError: On entry to DLASCL parameter number 4 had an illegal value\\n'] | {\"processName\": \"MainProcess\"}\n"
     ]
    },
    {
     "name": "stdout",
     "output_type": "stream",
     "text": [
      "2020-08-27 10:54:07.006    ERROR:     stage_utils: Reduction stopped | {\"filename\": [{\"path\": \"test_data/lsc/nres01/20180313/raw/lscnrs01-fl09-20180313-0031-e00.fits.fz\"}], \"processName\": \"MainProcess\"}\n"
     ]
    }
   ],
   "source": [
    "# set up the context object.\n",
    "import banzai.main\n",
    "context = banzai.main.parse_args(settings, parse_system_args=False)"
   ]
  },
  {
   "cell_type": "markdown",
   "metadata": {},
   "source": [
    "Download some test data from the archive\n",
    "----------------------------------------"
   ]
  },
  {
   "cell_type": "code",
   "execution_count": null,
   "metadata": {},
   "outputs": [],
   "source": [
    "# make directories for the test dataset.\n",
    "raw_data_dir = 'test_data/lsc/nres01/20180313/raw'\n",
    "os.makedirs(raw_data_dir, exist_ok=True)\n",
    "bpm_dir = 'test_data/lsc/nres01/bpm/'\n",
    "os.makedirs(bpm_dir, exist_ok=True)\n",
    "phoenix_dir = 'test_data/phoenix_models'\n",
    "os.makedirs(phoenix_dir, exist_ok=True)\n",
    "raw_phoenix_dir = 'test_data/raw_phoenix_models'\n",
    "os.makedirs(raw_phoenix_dir, exist_ok=True)"
   ]
  },
  {
   "cell_type": "code",
   "execution_count": null,
   "metadata": {},
   "outputs": [],
   "source": [
    "# choose which files we will download for our test dataset.\n",
    "bpm_filename = 'bpm-lsc-nres01-fl09-20180215.fits.fz'\n",
    "test_filenames = ['lscnrs01-fl09-20180313-0001-w00.fits.fz', 'lscnrs01-fl09-20180313-0002-w00.fits.fz',\n",
    "                  'lscnrs01-fl09-20180313-0003-w00.fits.fz', 'lscnrs01-fl09-20180313-0004-w00.fits.fz',\n",
    "                  'lscnrs01-fl09-20180313-0005-w00.fits.fz', 'lscnrs01-fl09-20180313-0006-a00.fits.fz',\n",
    "                  'lscnrs01-fl09-20180313-0007-a00.fits.fz', 'lscnrs01-fl09-20180313-0008-a00.fits.fz',\n",
    "                  'lscnrs01-fl09-20180313-0009-w00.fits.fz', 'lscnrs01-fl09-20180313-0010-w00.fits.fz',\n",
    "                  'lscnrs01-fl09-20180313-0011-w00.fits.fz', 'lscnrs01-fl09-20180313-0012-w00.fits.fz',\n",
    "                  'lscnrs01-fl09-20180313-0013-w00.fits.fz', 'lscnrs01-fl09-20180313-0014-w00.fits.fz',\n",
    "                  'lscnrs01-fl09-20180313-0015-w00.fits.fz', 'lscnrs01-fl09-20180313-0016-w00.fits.fz',\n",
    "                  'lscnrs01-fl09-20180313-0017-w00.fits.fz', 'lscnrs01-fl09-20180313-0018-w00.fits.fz',\n",
    "                  'lscnrs01-fl09-20180313-0019-a00.fits.fz', 'lscnrs01-fl09-20180313-0020-a00.fits.fz',\n",
    "                  'lscnrs01-fl09-20180313-0021-a00.fits.fz', 'lscnrs01-fl09-20180313-0022-a00.fits.fz',\n",
    "                  'lscnrs01-fl09-20180313-0023-a00.fits.fz', 'lscnrs01-fl09-20180313-0042-b00.fits.fz',\n",
    "                  'lscnrs01-fl09-20180313-0043-b00.fits.fz', 'lscnrs01-fl09-20180313-0044-b00.fits.fz',\n",
    "                  'lscnrs01-fl09-20180313-0045-b00.fits.fz', 'lscnrs01-fl09-20180313-0046-b00.fits.fz',\n",
    "                  'lscnrs01-fl09-20180313-0047-d00.fits.fz', 'lscnrs01-fl09-20180313-0048-d00.fits.fz',\n",
    "                  'lscnrs01-fl09-20180313-0049-d00.fits.fz', 'lscnrs01-fl09-20180313-0028-e00.fits.fz',\n",
    "                  'lscnrs01-fl09-20180313-0029-e00.fits.fz', 'lscnrs01-fl09-20180313-0030-e00.fits.fz',\n",
    "                  'lscnrs01-fl09-20180313-0031-e00.fits.fz']\n",
    "\n",
    "bpm_frame_id = '22529799'\n",
    "test_frame_ids = ['8148793', '8148822', '8148805', '8148824', '8148826', '8148876', '8148898',\n",
    "                  '8148932', '8148960', '8148978', '8149024', '8149104', '8149068', '8149090',\n",
    "                  '8149128', '8149173', '8149217', '8151252', '8149314', '8149388', '8149469',\n",
    "                  '8149547', '8149570', '8156341', '8156360', '8156366', '8156376', '8156385',\n",
    "                  '8156433', '8156500', '8156560', '8151997', '8152050', '8152110', '8152153']"
   ]
  },
  {
   "cell_type": "code",
   "execution_count": null,
   "metadata": {},
   "outputs": [],
   "source": [
    "# THIS DOWNLOADS A NEW DATA SET. DO NOT RUN IF YOU HAVE ALREADY DOWNLOADED THE DATA\n",
    "# Copy the data into the correct directory\n",
    "for test_filename, frame_id in zip(test_filenames, test_frame_ids):\n",
    "    archive_url = f'https://archive-api.lco.global/frames/{frame_id}'\n",
    "    frame_info = requests.get(archive_url).json()\n",
    "    with open(os.path.join(raw_data_dir, test_filename), 'wb') as f:\n",
    "        f.write(requests.get(frame_info['url']).content)\n",
    "        \n",
    "archive_url = f'https://archive-api.lco.global/frames/{bpm_frame_id}'\n",
    "frame_info = requests.get(archive_url).json()\n",
    "with open(os.path.join(bpm_dir, bpm_filename), 'wb') as f:\n",
    "    f.write(requests.get(frame_info['url']).content)"
   ]
  },
  {
   "cell_type": "code",
   "execution_count": null,
   "metadata": {},
   "outputs": [],
   "source": [
    "#Download the phoenix models and get them into the correct format. \n",
    "#Likewise, do not run if you have already downloaded the data.\n",
    "os.system(f'wget ftp://phoenix.astro.physik.uni-goettingen.de/v2.0/HiResFITS/PHOENIX-ACES-AGSS-COND-2011/Z-0.0/lte05700-4.50-0.0.PHOENIX-ACES-AGSS-COND-2011-HiRes.fits -P {raw_phoenix_dir}/')\n",
    "os.system(f'wget ftp://phoenix.astro.physik.uni-goettingen.de/v2.0/HiResFITS/WAVE_PHOENIX-ACES-AGSS-COND-2011.fits -P {raw_phoenix_dir}/')\n",
    "\n",
    "os.system(f'banzai_nres_munge_phoenix --input-dir={raw_phoenix_dir} --output-dir={phoenix_dir}')"
   ]
  },
  {
   "cell_type": "markdown",
   "metadata": {},
   "source": [
    "Initialize the db and context object for the rest of the pipeline\n",
    "-----------------------------------------------------------------"
   ]
  },
  {
   "cell_type": "code",
   "execution_count": null,
   "metadata": {},
   "outputs": [],
   "source": [
    "# THIS MAKES A FRESH DATABASE. DO NOT RUN ME UNLESS YOU WANT TO DELETE YOUR test.db AND MAKE A FRESH ONE\n",
    "full_phoenix_path=os.path.join(os.getcwd(),phoenix_dir)\n",
    "os.system(f'banzai_nres_create_db --db-address={os.environ[\"DB_ADDRESS\"]}')\n",
    "os.system(f'banzai_nres_populate_phoenix_models --model-location={full_phoenix_path} --db-address={os.environ[\"DB_ADDRESS\"]}')\n",
    "os.system(f'banzai_add_site --site elp --latitude 30.67986944 --longitude -104.015175 --elevation 2027 --timezone -6 --db-address={os.environ[\"DB_ADDRESS\"]}')\n",
    "os.system(f'banzai_add_site --site lsc --latitude -30.1673833333 --longitude -70.8047888889 --elevation 2198 --timezone -4 --db-address={os.environ[\"DB_ADDRESS\"]}')   \n",
    "os.system(f'banzai_add_instrument --site lsc --camera fl09 --name nres01 --instrument-type 1m0-NRES-SciCam --db-address={os.environ[\"DB_ADDRESS\"]}')\n",
    "os.system(f'banzai_add_instrument --site elp --camera fl17 --name nres02 --instrument-type 1m0-NRES-SciCam --db-address={os.environ[\"DB_ADDRESS\"]}')\n",
    "for bpm_filename in glob('test_data/*/nres??/bpm/*bpm*'):\n",
    "    logger.info(f'adding bpm {bpm_filename} to the database')\n",
    "    os.system(f'banzai_nres_add_bpm --filename {bpm_filename} --db-address={os.environ[\"DB_ADDRESS\"]}')"
   ]
  },
  {
   "cell_type": "markdown",
   "metadata": {},
   "source": [
    "Process and Stack Bias Files\n",
    "----------------------------"
   ]
  },
  {
   "cell_type": "code",
   "execution_count": null,
   "metadata": {},
   "outputs": [],
   "source": [
    "bias_files = glob(os.path.join('test_data/*/nres??/*/raw/*b00*'))\n",
    "for bias_file in bias_files: \n",
    "    run_pipeline_stages([{'path': bias_file}], context) "
   ]
  },
  {
   "cell_type": "code",
   "execution_count": null,
   "metadata": {},
   "outputs": [],
   "source": [
    "def mark_frames_as_good(filenames):\n",
    "    for filename in glob(f'test_data/*/nres??/*/processed/{filenames}'):\n",
    "        dbs.mark_frame(os.path.basename(filename), \"good\", db_address=os.environ['DB_ADDRESS'])"
   ]
  },
  {
   "cell_type": "code",
   "execution_count": null,
   "metadata": {},
   "outputs": [],
   "source": [
    "mark_frames_as_good('*b91*')"
   ]
  },
  {
   "cell_type": "code",
   "execution_count": 6,
   "metadata": {},
   "outputs": [],
   "source": [
    "instrument = dbs.get_instruments_at_site('lsc', settings.db_address)[0]"
   ]
  },
  {
   "cell_type": "code",
   "execution_count": null,
   "metadata": {},
   "outputs": [],
   "source": [
    "make_master_calibrations(instrument, 'BIAS', '2017-01-01', '2019-01-01', context) "
   ]
  },
  {
   "cell_type": "markdown",
   "metadata": {},
   "source": [
    "Process and Stack Dark Files\n",
    "----------------------------"
   ]
  },
  {
   "cell_type": "code",
   "execution_count": null,
   "metadata": {},
   "outputs": [],
   "source": [
    "dark_files = glob('test_data/*/nres??/*/raw/*d00*')\n",
    "for dark_file in dark_files: \n",
    "    run_pipeline_stages([{'path': dark_file}], context)"
   ]
  },
  {
   "cell_type": "code",
   "execution_count": null,
   "metadata": {},
   "outputs": [],
   "source": [
    "mark_frames_as_good('*d91*')"
   ]
  },
  {
   "cell_type": "code",
   "execution_count": null,
   "metadata": {},
   "outputs": [],
   "source": [
    "make_master_calibrations(instrument, 'DARK', '2017-01-01', '2019-01-01', context) "
   ]
  },
  {
   "cell_type": "markdown",
   "metadata": {},
   "source": [
    "Process and stack lamp flats. This is where we also solve for the traces and profile.\n",
    "----------"
   ]
  },
  {
   "cell_type": "code",
   "execution_count": null,
   "metadata": {},
   "outputs": [],
   "source": [
    "flat_files = glob('test_data/*/nres??/*/raw/*w00*')\n",
    "for flat_file in flat_files: \n",
    "    run_pipeline_stages([{'path': flat_file}], context)"
   ]
  },
  {
   "cell_type": "code",
   "execution_count": null,
   "metadata": {},
   "outputs": [],
   "source": [
    "make_master_calibrations(instrument, 'LAMPFLAT', '2017-01-01', '2019-01-01', context)"
   ]
  },
  {
   "cell_type": "markdown",
   "metadata": {},
   "source": [
    "Process and stack arc lamps. Find the wavelength solution\n",
    "--------"
   ]
  },
  {
   "cell_type": "code",
   "execution_count": null,
   "metadata": {},
   "outputs": [],
   "source": [
    "arc_files = glob('test_data/*/nres??/*/raw/*a00*')\n",
    "for arc_file in arc_files: \n",
    "    run_pipeline_stages([{'path': arc_file}], context)"
   ]
  },
  {
   "cell_type": "code",
   "execution_count": null,
   "metadata": {},
   "outputs": [],
   "source": [
    "make_master_calibrations(instrument, 'DOUBLE', '2017-01-01', '2019-01-01', context)"
   ]
  },
  {
   "cell_type": "markdown",
   "metadata": {},
   "source": [
    "Process the science spectra\n",
    "------"
   ]
  },
  {
   "cell_type": "code",
   "execution_count": 7,
   "metadata": {},
   "outputs": [],
   "source": [
    "science_files = glob('test_data/*/nres??/*/raw/*e00*')\n",
    "for science_file in science_files: \n",
    "    run_pipeline_stages([{'path': science_file}], context)"
   ]
  },
  {
   "cell_type": "code",
   "execution_count": null,
   "metadata": {},
   "outputs": [],
   "source": []
  }
 ],
 "metadata": {
  "kernelspec": {
   "display_name": "Python 3",
   "language": "python",
   "name": "python3"
  },
  "language_info": {
   "codemirror_mode": {
    "name": "ipython",
    "version": 3
   },
   "file_extension": ".py",
   "mimetype": "text/x-python",
   "name": "python",
   "nbconvert_exporter": "python",
   "pygments_lexer": "ipython3",
   "version": "3.6.8"
  }
 },
 "nbformat": 4,
 "nbformat_minor": 4
}
