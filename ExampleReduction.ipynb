{
 "cells": [
  {
   "cell_type": "code",
   "execution_count": 1,
   "metadata": {},
   "outputs": [],
   "source": [
    "import os\n",
    "os.environ['OPENTSDB_PYTHON_METRICS_TEST_MODE'] = 'True'"
   ]
  },
  {
   "cell_type": "code",
   "execution_count": 2,
   "metadata": {},
   "outputs": [],
   "source": [
    "from banzai.calibrations import make_master_calibrations\n",
    "import requests\n",
    "from banzai_nres import settings\n",
    "from banzai import dbs\n",
    "from banzai.utils.stage_utils import run_pipeline_stages\n",
    "import logging\n",
    "from banzai.logs import set_log_level\n",
    "from glob import glob\n",
    "\n",
    "import pkg_resources"
   ]
  },
  {
   "cell_type": "markdown",
   "metadata": {},
   "source": [
    "Setup logging and some settings show we know where the DB should be.\n",
    "------"
   ]
  },
  {
   "cell_type": "code",
   "execution_count": 3,
   "metadata": {},
   "outputs": [],
   "source": [
    "set_log_level('DEBUG')\n",
    "logger = logging.getLogger('banzai')"
   ]
  },
  {
   "cell_type": "code",
   "execution_count": 4,
   "metadata": {},
   "outputs": [],
   "source": [
    "os.environ['DB_ADDRESS'] = 'sqlite:///test_data/test.db'\n",
    "\n",
    "settings.processed_path= os.path.join(os.getcwd(), 'test_data')\n",
    "settings.fpack=True\n",
    "settings.db_address = os.environ['DB_ADDRESS']"
   ]
  },
  {
   "cell_type": "code",
   "execution_count": 5,
   "metadata": {},
   "outputs": [
    {
     "name": "stdout",
     "output_type": "stream",
     "text": [
      "2020-08-27 12:46:36.736     INFO:    calibrations: Making master frames | {\"type\": \"1m0-NRES-SciCam\", \"site\": \"lsc\", \"camera\": \"fl09\", \"obstype\": \"DOUBLE\", \"min_date\": \"2017-01-01\", \"max_date\": \"2019-01-01\", \"processName\": \"MainProcess\"}\n",
      "2020-08-27 12:46:43.377     INFO:          stages: Running banzai.stages.ArcStacker | {\"filename\": \"lscnrs01-fl09-20180313-0007-a91.fits.fz\", \"site\": \"lsc\", \"instrument\": \"nres01\", \"epoch\": \"20180313\", \"request_num\": \"UNSPECIFIED\", \"obstype\": \"DOUBLE\", \"filter\": null, \"processName\": \"MainProcess\"}\n",
      "2020-08-27 12:46:45.618     INFO:    calibrations: Created master calibration stack | {\"filename\": \"lscnrs01-fl09-20180313-double-bin1x1-011.fits\", \"site\": \"lsc\", \"instrument\": \"nres01\", \"epoch\": \"20180313\", \"request_num\": \"UNSPECIFIED\", \"obstype\": \"DOUBLE\", \"filter\": null, \"calibration_type\": \"DOUBLE\", \"processName\": \"MainProcess\"}\n",
      "2020-08-27 12:46:45.619     INFO:          stages: Running banzai.stages.ArcStacker | {\"filename\": \"lscnrs01-fl09-20180313-0021-a91.fits.fz\", \"site\": \"lsc\", \"instrument\": \"nres01\", \"epoch\": \"20180313\", \"request_num\": \"UNSPECIFIED\", \"obstype\": \"DOUBLE\", \"filter\": null, \"processName\": \"MainProcess\"}\n",
      "2020-08-27 12:46:48.390     INFO:    calibrations: Created master calibration stack | {\"filename\": \"lscnrs01-fl09-20180313-double-bin1x1-110.fits\", \"site\": \"lsc\", \"instrument\": \"nres01\", \"epoch\": \"20180313\", \"request_num\": \"UNSPECIFIED\", \"obstype\": \"DOUBLE\", \"filter\": null, \"calibration_type\": \"DOUBLE\", \"processName\": \"MainProcess\"}\n",
      "2020-08-27 12:46:48.545     INFO:          stages: Running banzai.stages.FlatLoader | {\"filename\": \"lscnrs01-fl09-20180313-double-bin1x1-011.fits\", \"site\": \"lsc\", \"instrument\": \"nres01\", \"epoch\": \"20180313\", \"request_num\": \"UNSPECIFIED\", \"obstype\": \"DOUBLE\", \"filter\": null, \"processName\": \"MainProcess\"}\n",
      "2020-08-27 12:46:49.923     INFO:    calibrations: Applying master calibration | {\"filename\": \"lscnrs01-fl09-20180313-double-bin1x1-011.fits\", \"site\": \"lsc\", \"instrument\": \"nres01\", \"epoch\": \"20180313\", \"request_num\": \"UNSPECIFIED\", \"obstype\": \"DOUBLE\", \"filter\": null, \"master_calibration\": \"lscnrs01-fl09-20180313-lampflat-bin1x1-011.fits.fz\", \"processName\": \"MainProcess\"}\n",
      "2020-08-27 12:46:50.047     INFO:          stages: Running banzai.stages.FlatLoader | {\"filename\": \"lscnrs01-fl09-20180313-double-bin1x1-110.fits\", \"site\": \"lsc\", \"instrument\": \"nres01\", \"epoch\": \"20180313\", \"request_num\": \"UNSPECIFIED\", \"obstype\": \"DOUBLE\", \"filter\": null, \"processName\": \"MainProcess\"}\n",
      "2020-08-27 12:46:51.444     INFO:    calibrations: Applying master calibration | {\"filename\": \"lscnrs01-fl09-20180313-double-bin1x1-110.fits\", \"site\": \"lsc\", \"instrument\": \"nres01\", \"epoch\": \"20180313\", \"request_num\": \"UNSPECIFIED\", \"obstype\": \"DOUBLE\", \"filter\": null, \"master_calibration\": \"lscnrs01-fl09-20180313-lampflat-bin1x1-110.fits.fz\", \"processName\": \"MainProcess\"}\n",
      "2020-08-27 12:46:51.602     INFO:          stages: Running banzai.stages.ArcLoader | {\"filename\": \"lscnrs01-fl09-20180313-double-bin1x1-011.fits\", \"site\": \"lsc\", \"instrument\": \"nres01\", \"epoch\": \"20180313\", \"request_num\": \"UNSPECIFIED\", \"obstype\": \"DOUBLE\", \"filter\": null, \"processName\": \"MainProcess\"}\n",
      "2020-08-27 12:46:51.610     INFO:          stages: Running banzai.stages.ArcLoader | {\"filename\": \"lscnrs01-fl09-20180313-double-bin1x1-110.fits\", \"site\": \"lsc\", \"instrument\": \"nres01\", \"epoch\": \"20180313\", \"request_num\": \"UNSPECIFIED\", \"obstype\": \"DOUBLE\", \"filter\": null, \"processName\": \"MainProcess\"}\n",
      "2020-08-27 12:46:51.617     INFO:          stages: Running banzai.stages.LineListLoader | {\"filename\": \"lscnrs01-fl09-20180313-double-bin1x1-011.fits\", \"site\": \"lsc\", \"instrument\": \"nres01\", \"epoch\": \"20180313\", \"request_num\": \"UNSPECIFIED\", \"obstype\": \"DOUBLE\", \"filter\": null, \"processName\": \"MainProcess\"}\n",
      "2020-08-27 12:46:51.630     INFO:      wavelength: Applying master calibration | {\"filename\": \"lscnrs01-fl09-20180313-double-bin1x1-011.fits\", \"site\": \"lsc\", \"instrument\": \"nres01\", \"epoch\": \"20180313\", \"request_num\": \"UNSPECIFIED\", \"obstype\": \"DOUBLE\", \"filter\": null, \"master_calibration\": \"ThAr_atlas_ESO_vacuum.txt\", \"processName\": \"MainProcess\"}\n",
      "2020-08-27 12:46:51.631     INFO:          stages: Running banzai.stages.LineListLoader | {\"filename\": \"lscnrs01-fl09-20180313-double-bin1x1-110.fits\", \"site\": \"lsc\", \"instrument\": \"nres01\", \"epoch\": \"20180313\", \"request_num\": \"UNSPECIFIED\", \"obstype\": \"DOUBLE\", \"filter\": null, \"processName\": \"MainProcess\"}\n",
      "2020-08-27 12:46:51.641     INFO:      wavelength: Applying master calibration | {\"filename\": \"lscnrs01-fl09-20180313-double-bin1x1-110.fits\", \"site\": \"lsc\", \"instrument\": \"nres01\", \"epoch\": \"20180313\", \"request_num\": \"UNSPECIFIED\", \"obstype\": \"DOUBLE\", \"filter\": null, \"master_calibration\": \"ThAr_atlas_ESO_vacuum.txt\", \"processName\": \"MainProcess\"}\n",
      "2020-08-27 12:46:51.643     INFO:          stages: Running banzai.stages.IdentifyFeatures | {\"filename\": \"lscnrs01-fl09-20180313-double-bin1x1-011.fits\", \"site\": \"lsc\", \"instrument\": \"nres01\", \"epoch\": \"20180313\", \"request_num\": \"UNSPECIFIED\", \"obstype\": \"DOUBLE\", \"filter\": null, \"processName\": \"MainProcess\"}\n",
      "2020-08-27 12:46:59.605     INFO:      wavelength: 9186 emission features found on this image | {\"filename\": \"lscnrs01-fl09-20180313-double-bin1x1-011.fits\", \"site\": \"lsc\", \"instrument\": \"nres01\", \"epoch\": \"20180313\", \"request_num\": \"UNSPECIFIED\", \"obstype\": \"DOUBLE\", \"filter\": null, \"processName\": \"MainProcess\"}\n",
      "2020-08-27 12:46:59.655     INFO:      wavelength: Blaze correcting emission feature fluxes | {\"filename\": \"lscnrs01-fl09-20180313-double-bin1x1-011.fits\", \"site\": \"lsc\", \"instrument\": \"nres01\", \"epoch\": \"20180313\", \"request_num\": \"UNSPECIFIED\", \"obstype\": \"DOUBLE\", \"filter\": null, \"processName\": \"MainProcess\"}\n",
      "2020-08-27 12:46:59.659     INFO:      wavelength: 4000 emission features on this image will be used | {\"filename\": \"lscnrs01-fl09-20180313-double-bin1x1-011.fits\", \"site\": \"lsc\", \"instrument\": \"nres01\", \"epoch\": \"20180313\", \"request_num\": \"UNSPECIFIED\", \"obstype\": \"DOUBLE\", \"filter\": null, \"processName\": \"MainProcess\"}\n",
      "2020-08-27 12:46:59.660     INFO:          stages: Running banzai.stages.IdentifyFeatures | {\"filename\": \"lscnrs01-fl09-20180313-double-bin1x1-110.fits\", \"site\": \"lsc\", \"instrument\": \"nres01\", \"epoch\": \"20180313\", \"request_num\": \"UNSPECIFIED\", \"obstype\": \"DOUBLE\", \"filter\": null, \"processName\": \"MainProcess\"}\n",
      "2020-08-27 12:47:04.726     INFO:      wavelength: 5960 emission features found on this image | {\"filename\": \"lscnrs01-fl09-20180313-double-bin1x1-110.fits\", \"site\": \"lsc\", \"instrument\": \"nres01\", \"epoch\": \"20180313\", \"request_num\": \"UNSPECIFIED\", \"obstype\": \"DOUBLE\", \"filter\": null, \"processName\": \"MainProcess\"}\n",
      "2020-08-27 12:47:04.759     INFO:      wavelength: Blaze correcting emission feature fluxes | {\"filename\": \"lscnrs01-fl09-20180313-double-bin1x1-110.fits\", \"site\": \"lsc\", \"instrument\": \"nres01\", \"epoch\": \"20180313\", \"request_num\": \"UNSPECIFIED\", \"obstype\": \"DOUBLE\", \"filter\": null, \"processName\": \"MainProcess\"}\n",
      "2020-08-27 12:47:04.762     INFO:      wavelength: 4000 emission features on this image will be used | {\"filename\": \"lscnrs01-fl09-20180313-double-bin1x1-110.fits\", \"site\": \"lsc\", \"instrument\": \"nres01\", \"epoch\": \"20180313\", \"request_num\": \"UNSPECIFIED\", \"obstype\": \"DOUBLE\", \"filter\": null, \"processName\": \"MainProcess\"}\n",
      "2020-08-27 12:47:04.763     INFO:          stages: Running banzai.stages.WavelengthCalibrate | {\"filename\": \"lscnrs01-fl09-20180313-double-bin1x1-011.fits\", \"site\": \"lsc\", \"instrument\": \"nres01\", \"epoch\": \"20180313\", \"request_num\": \"UNSPECIFIED\", \"obstype\": \"DOUBLE\", \"filter\": null, \"processName\": \"MainProcess\"}\n",
      "2020-08-27 12:47:04.777     INFO:      wavelength: Blind solving for the wavelengths for fiber 0 (arbitrary label). | {\"filename\": \"lscnrs01-fl09-20180313-double-bin1x1-011.fits\", \"site\": \"lsc\", \"instrument\": \"nres01\", \"epoch\": \"20180313\", \"request_num\": \"UNSPECIFIED\", \"obstype\": \"DOUBLE\", \"filter\": null, \"processName\": \"MainProcess\"}\n",
      "2020-08-27 12:48:31.876     INFO:      wavelength: Blind solving for the wavelengths for fiber 1 (arbitrary label). | {\"filename\": \"lscnrs01-fl09-20180313-double-bin1x1-011.fits\", \"site\": \"lsc\", \"instrument\": \"nres01\", \"epoch\": \"20180313\", \"request_num\": \"UNSPECIFIED\", \"obstype\": \"DOUBLE\", \"filter\": null, \"processName\": \"MainProcess\"}\n"
     ]
    },
    {
     "name": "stdout",
     "output_type": "stream",
     "text": [
      "2020-08-27 12:49:12.864     INFO:      wavelength: Principle order number is 51 for fiber 0.0 | {\"filename\": \"lscnrs01-fl09-20180313-double-bin1x1-011.fits\", \"site\": \"lsc\", \"instrument\": \"nres01\", \"epoch\": \"20180313\", \"request_num\": \"UNSPECIFIED\", \"obstype\": \"DOUBLE\", \"filter\": null, \"processName\": \"MainProcess\"}\n",
      "2020-08-27 12:49:21.435     INFO:      wavelength: Principle order number is 52 for fiber 1.0 | {\"filename\": \"lscnrs01-fl09-20180313-double-bin1x1-011.fits\", \"site\": \"lsc\", \"instrument\": \"nres01\", \"epoch\": \"20180313\", \"request_num\": \"UNSPECIFIED\", \"obstype\": \"DOUBLE\", \"filter\": null, \"processName\": \"MainProcess\"}\n",
      "2020-08-27 12:49:29.707     INFO:          stages: Running banzai.stages.WavelengthCalibrate | {\"filename\": \"lscnrs01-fl09-20180313-double-bin1x1-110.fits\", \"site\": \"lsc\", \"instrument\": \"nres01\", \"epoch\": \"20180313\", \"request_num\": \"UNSPECIFIED\", \"obstype\": \"DOUBLE\", \"filter\": null, \"processName\": \"MainProcess\"}\n",
      "2020-08-27 12:49:29.735     INFO:      wavelength: Blind solving for the wavelengths for fiber 0 (arbitrary label). | {\"filename\": \"lscnrs01-fl09-20180313-double-bin1x1-110.fits\", \"site\": \"lsc\", \"instrument\": \"nres01\", \"epoch\": \"20180313\", \"request_num\": \"UNSPECIFIED\", \"obstype\": \"DOUBLE\", \"filter\": null, \"processName\": \"MainProcess\"}\n",
      "2020-08-27 12:50:49.323     INFO:      wavelength: Blind solving for the wavelengths for fiber 1 (arbitrary label). | {\"filename\": \"lscnrs01-fl09-20180313-double-bin1x1-110.fits\", \"site\": \"lsc\", \"instrument\": \"nres01\", \"epoch\": \"20180313\", \"request_num\": \"UNSPECIFIED\", \"obstype\": \"DOUBLE\", \"filter\": null, \"processName\": \"MainProcess\"}\n",
      "2020-08-27 12:51:49.094     INFO:      wavelength: Principle order number is 51 for fiber 0.0 | {\"filename\": \"lscnrs01-fl09-20180313-double-bin1x1-110.fits\", \"site\": \"lsc\", \"instrument\": \"nres01\", \"epoch\": \"20180313\", \"request_num\": \"UNSPECIFIED\", \"obstype\": \"DOUBLE\", \"filter\": null, \"processName\": \"MainProcess\"}\n",
      "2020-08-27 12:51:57.484     INFO:      wavelength: Principle order number is 51 for fiber 1.0 | {\"filename\": \"lscnrs01-fl09-20180313-double-bin1x1-110.fits\", \"site\": \"lsc\", \"instrument\": \"nres01\", \"epoch\": \"20180313\", \"request_num\": \"UNSPECIFIED\", \"obstype\": \"DOUBLE\", \"filter\": null, \"processName\": \"MainProcess\"}\n",
      "2020-08-27 12:52:05.935     INFO:          stages: Running banzai.stages.AssessWavelengthSolution | {\"filename\": \"lscnrs01-fl09-20180313-double-bin1x1-011.fits\", \"site\": \"lsc\", \"instrument\": \"nres01\", \"epoch\": \"20180313\", \"request_num\": \"UNSPECIFIED\", \"obstype\": \"DOUBLE\", \"filter\": null, \"processName\": \"MainProcess\"}\n",
      "2020-08-27 12:52:05.939     INFO:          stages: Running banzai.stages.AssessWavelengthSolution | {\"filename\": \"lscnrs01-fl09-20180313-double-bin1x1-110.fits\", \"site\": \"lsc\", \"instrument\": \"nres01\", \"epoch\": \"20180313\", \"request_num\": \"UNSPECIFIED\", \"obstype\": \"DOUBLE\", \"filter\": null, \"processName\": \"MainProcess\"}\n",
      "2020-08-27 12:52:17.321     INFO:    calibrations: Finished | {\"processName\": \"MainProcess\"}\n",
      "2020-08-27 12:54:29.792     INFO:          stages: Running banzai.stages.BadPixelMaskLoader | {\"filename\": \"lscnrs01-fl09-20180313-0031-e00.fits.fz\", \"site\": \"lsc\", \"instrument\": \"nres01\", \"epoch\": \"20180313\", \"request_num\": \"0001446787\", \"obstype\": \"TARGET\", \"filter\": null, \"processName\": \"MainProcess\"}\n",
      "2020-08-27 12:54:29.992     INFO:    calibrations: Applying master calibration | {\"filename\": \"lscnrs01-fl09-20180313-0031-e00.fits.fz\", \"site\": \"lsc\", \"instrument\": \"nres01\", \"epoch\": \"20180313\", \"request_num\": \"0001446787\", \"obstype\": \"TARGET\", \"filter\": null, \"master_calibration\": \"bpm-lsc-nres01-fl09-20180215.fits.fz\", \"processName\": \"MainProcess\"}\n",
      "2020-08-27 12:54:30.039     INFO:          stages: Running banzai.stages.OverscanSubtractor | {\"filename\": \"lscnrs01-fl09-20180313-0031-e00.fits.fz\", \"site\": \"lsc\", \"instrument\": \"nres01\", \"epoch\": \"20180313\", \"request_num\": \"0001446787\", \"obstype\": \"TARGET\", \"filter\": null, \"processName\": \"MainProcess\"}\n",
      "2020-08-27 12:54:30.068     INFO:          stages: Running banzai.stages.GainNormalizer | {\"filename\": \"lscnrs01-fl09-20180313-0031-e00.fits.fz\", \"site\": \"lsc\", \"instrument\": \"nres01\", \"epoch\": \"20180313\", \"request_num\": \"0001446787\", \"obstype\": \"TARGET\", \"filter\": null, \"processName\": \"MainProcess\"}\n",
      "2020-08-27 12:54:30.069     INFO:            gain: Multiplying by gain | {\"filename\": \"lscnrs01-fl09-20180313-0031-e00.fits.fz\", \"site\": \"lsc\", \"instrument\": \"nres01\", \"epoch\": \"20180313\", \"request_num\": \"0001446787\", \"obstype\": \"TARGET\", \"filter\": null, \"processName\": \"MainProcess\"}\n",
      "2020-08-27 12:54:30.105     INFO:          stages: Running banzai.stages.Trimmer | {\"filename\": \"lscnrs01-fl09-20180313-0031-e00.fits.fz\", \"site\": \"lsc\", \"instrument\": \"nres01\", \"epoch\": \"20180313\", \"request_num\": \"0001446787\", \"obstype\": \"TARGET\", \"filter\": null, \"processName\": \"MainProcess\"}\n",
      "2020-08-27 12:54:30.106     INFO:            trim: Trimming image | {\"filename\": \"lscnrs01-fl09-20180313-0031-e00.fits.fz\", \"site\": \"lsc\", \"instrument\": \"nres01\", \"epoch\": \"20180313\", \"request_num\": \"0001446787\", \"obstype\": \"TARGET\", \"filter\": null, \"processName\": \"MainProcess\"}\n",
      "2020-08-27 12:54:30.370     INFO:          stages: Running banzai.stages.BiasSubtractor | {\"filename\": \"lscnrs01-fl09-20180313-0031-e00.fits.fz\", \"site\": \"lsc\", \"instrument\": \"nres01\", \"epoch\": \"20180313\", \"request_num\": \"0001446787\", \"obstype\": \"TARGET\", \"filter\": null, \"processName\": \"MainProcess\"}\n",
      "2020-08-27 12:54:31.076     INFO:    calibrations: Applying master calibration | {\"filename\": \"lscnrs01-fl09-20180313-0031-e00.fits.fz\", \"site\": \"lsc\", \"instrument\": \"nres01\", \"epoch\": \"20180313\", \"request_num\": \"0001446787\", \"obstype\": \"TARGET\", \"filter\": null, \"master_calibration\": \"lscnrs01-fl09-20180313-bias-bin1x1.fits.fz\", \"processName\": \"MainProcess\"}\n",
      "2020-08-27 12:54:31.274     INFO:          stages: Running banzai.stages.PoissonInitializer | {\"filename\": \"lscnrs01-fl09-20180313-0031-e00.fits.fz\", \"site\": \"lsc\", \"instrument\": \"nres01\", \"epoch\": \"20180313\", \"request_num\": \"0001446787\", \"obstype\": \"TARGET\", \"filter\": null, \"processName\": \"MainProcess\"}\n",
      "2020-08-27 12:54:31.387     INFO:          stages: Running banzai.stages.DarkSubtractor | {\"filename\": \"lscnrs01-fl09-20180313-0031-e00.fits.fz\", \"site\": \"lsc\", \"instrument\": \"nres01\", \"epoch\": \"20180313\", \"request_num\": \"0001446787\", \"obstype\": \"TARGET\", \"filter\": null, \"processName\": \"MainProcess\"}\n",
      "2020-08-27 12:54:32.097     INFO:    calibrations: Applying master calibration | {\"filename\": \"lscnrs01-fl09-20180313-0031-e00.fits.fz\", \"site\": \"lsc\", \"instrument\": \"nres01\", \"epoch\": \"20180313\", \"request_num\": \"0001446787\", \"obstype\": \"TARGET\", \"filter\": null, \"master_calibration\": \"lscnrs01-fl09-20180313-dark-bin1x1.fits.fz\", \"processName\": \"MainProcess\"}\n",
      "2020-08-27 12:54:32.265     INFO:          stages: Running banzai.stages.FlatLoader | {\"filename\": \"lscnrs01-fl09-20180313-0031-e00.fits.fz\", \"site\": \"lsc\", \"instrument\": \"nres01\", \"epoch\": \"20180313\", \"request_num\": \"0001446787\", \"obstype\": \"TARGET\", \"filter\": null, \"processName\": \"MainProcess\"}\n",
      "2020-08-27 12:54:33.624     INFO:    calibrations: Applying master calibration | {\"filename\": \"lscnrs01-fl09-20180313-0031-e00.fits.fz\", \"site\": \"lsc\", \"instrument\": \"nres01\", \"epoch\": \"20180313\", \"request_num\": \"0001446787\", \"obstype\": \"TARGET\", \"filter\": null, \"master_calibration\": \"lscnrs01-fl09-20180313-lampflat-bin1x1-110.fits.fz\", \"processName\": \"MainProcess\"}\n",
      "2020-08-27 12:54:33.754     INFO:          stages: Running banzai.stages.BackgroundSubtractor | {\"filename\": \"lscnrs01-fl09-20180313-0031-e00.fits.fz\", \"site\": \"lsc\", \"instrument\": \"nres01\", \"epoch\": \"20180313\", \"request_num\": \"0001446787\", \"obstype\": \"TARGET\", \"filter\": null, \"processName\": \"MainProcess\"}\n",
      "2020-08-27 12:54:34.242     INFO:          stages: Running banzai.stages.ArcLoader | {\"filename\": \"lscnrs01-fl09-20180313-0031-e00.fits.fz\", \"site\": \"lsc\", \"instrument\": \"nres01\", \"epoch\": \"20180313\", \"request_num\": \"0001446787\", \"obstype\": \"TARGET\", \"filter\": null, \"processName\": \"MainProcess\"}\n",
      "2020-08-27 12:54:35.955     INFO:    calibrations: Applying master calibration | {\"filename\": \"lscnrs01-fl09-20180313-0031-e00.fits.fz\", \"site\": \"lsc\", \"instrument\": \"nres01\", \"epoch\": \"20180313\", \"request_num\": \"0001446787\", \"obstype\": \"TARGET\", \"filter\": null, \"master_calibration\": \"lscnrs01-fl09-20180313-double-bin1x1-110.fits.fz\", \"processName\": \"MainProcess\"}\n"
     ]
    },
    {
     "name": "stdout",
     "output_type": "stream",
     "text": [
      "2020-08-27 12:54:36.099     INFO:          stages: Running banzai.stages.GetOptimalExtractionWeights | {\"filename\": \"lscnrs01-fl09-20180313-0031-e00.fits.fz\", \"site\": \"lsc\", \"instrument\": \"nres01\", \"epoch\": \"20180313\", \"request_num\": \"0001446787\", \"obstype\": \"TARGET\", \"filter\": null, \"processName\": \"MainProcess\"}\n",
      "2020-08-27 12:54:52.115     INFO:          stages: Running banzai.stages.WeightedExtract | {\"filename\": \"lscnrs01-fl09-20180313-0031-e00.fits.fz\", \"site\": \"lsc\", \"instrument\": \"nres01\", \"epoch\": \"20180313\", \"request_num\": \"0001446787\", \"obstype\": \"TARGET\", \"filter\": null, \"processName\": \"MainProcess\"}\n",
      "2020-08-27 12:55:08.218     INFO:          stages: Running banzai.stages.ContinuumNormalizer | {\"filename\": \"lscnrs01-fl09-20180313-0031-e00.fits.fz\", \"site\": \"lsc\", \"instrument\": \"nres01\", \"epoch\": \"20180313\", \"request_num\": \"0001446787\", \"obstype\": \"TARGET\", \"filter\": null, \"processName\": \"MainProcess\"}\n",
      "2020-08-27 12:55:08.843     INFO:          stages: Running banzai.stages.RVCalculator | {\"filename\": \"lscnrs01-fl09-20180313-0031-e00.fits.fz\", \"site\": \"lsc\", \"instrument\": \"nres01\", \"epoch\": \"20180313\", \"request_num\": \"0001446787\", \"obstype\": \"TARGET\", \"filter\": null, \"processName\": \"MainProcess\"}\n",
      "2020-08-27 12:55:08.859     INFO:              rv: Cross correlating for order: 75 | {\"filename\": \"lscnrs01-fl09-20180313-0031-e00.fits.fz\", \"site\": \"lsc\", \"instrument\": \"nres01\", \"epoch\": \"20180313\", \"request_num\": \"0001446787\", \"obstype\": \"TARGET\", \"filter\": null, \"processName\": \"MainProcess\"}\n",
      "2020-08-27 12:55:09.260     INFO:              rv: Cross correlating for order: 76 | {\"filename\": \"lscnrs01-fl09-20180313-0031-e00.fits.fz\", \"site\": \"lsc\", \"instrument\": \"nres01\", \"epoch\": \"20180313\", \"request_num\": \"0001446787\", \"obstype\": \"TARGET\", \"filter\": null, \"processName\": \"MainProcess\"}\n",
      "2020-08-27 12:55:09.636     INFO:              rv: Cross correlating for order: 77 | {\"filename\": \"lscnrs01-fl09-20180313-0031-e00.fits.fz\", \"site\": \"lsc\", \"instrument\": \"nres01\", \"epoch\": \"20180313\", \"request_num\": \"0001446787\", \"obstype\": \"TARGET\", \"filter\": null, \"processName\": \"MainProcess\"}\n",
      "2020-08-27 12:55:10.011     INFO:              rv: Cross correlating for order: 78 | {\"filename\": \"lscnrs01-fl09-20180313-0031-e00.fits.fz\", \"site\": \"lsc\", \"instrument\": \"nres01\", \"epoch\": \"20180313\", \"request_num\": \"0001446787\", \"obstype\": \"TARGET\", \"filter\": null, \"processName\": \"MainProcess\"}\n",
      "2020-08-27 12:55:10.379     INFO:              rv: Cross correlating for order: 79 | {\"filename\": \"lscnrs01-fl09-20180313-0031-e00.fits.fz\", \"site\": \"lsc\", \"instrument\": \"nres01\", \"epoch\": \"20180313\", \"request_num\": \"0001446787\", \"obstype\": \"TARGET\", \"filter\": null, \"processName\": \"MainProcess\"}\n",
      "2020-08-27 12:55:10.751     INFO:              rv: Cross correlating for order: 80 | {\"filename\": \"lscnrs01-fl09-20180313-0031-e00.fits.fz\", \"site\": \"lsc\", \"instrument\": \"nres01\", \"epoch\": \"20180313\", \"request_num\": \"0001446787\", \"obstype\": \"TARGET\", \"filter\": null, \"processName\": \"MainProcess\"}\n",
      "2020-08-27 12:55:11.119     INFO:              rv: Cross correlating for order: 81 | {\"filename\": \"lscnrs01-fl09-20180313-0031-e00.fits.fz\", \"site\": \"lsc\", \"instrument\": \"nres01\", \"epoch\": \"20180313\", \"request_num\": \"0001446787\", \"obstype\": \"TARGET\", \"filter\": null, \"processName\": \"MainProcess\"}\n",
      "2020-08-27 12:55:11.482     INFO:              rv: Cross correlating for order: 82 | {\"filename\": \"lscnrs01-fl09-20180313-0031-e00.fits.fz\", \"site\": \"lsc\", \"instrument\": \"nres01\", \"epoch\": \"20180313\", \"request_num\": \"0001446787\", \"obstype\": \"TARGET\", \"filter\": null, \"processName\": \"MainProcess\"}\n",
      "2020-08-27 12:55:11.846     INFO:              rv: Cross correlating for order: 83 | {\"filename\": \"lscnrs01-fl09-20180313-0031-e00.fits.fz\", \"site\": \"lsc\", \"instrument\": \"nres01\", \"epoch\": \"20180313\", \"request_num\": \"0001446787\", \"obstype\": \"TARGET\", \"filter\": null, \"processName\": \"MainProcess\"}\n",
      "2020-08-27 12:55:12.238     INFO:              rv: Cross correlating for order: 84 | {\"filename\": \"lscnrs01-fl09-20180313-0031-e00.fits.fz\", \"site\": \"lsc\", \"instrument\": \"nres01\", \"epoch\": \"20180313\", \"request_num\": \"0001446787\", \"obstype\": \"TARGET\", \"filter\": null, \"processName\": \"MainProcess\"}\n",
      "2020-08-27 12:55:12.604     INFO:              rv: Cross correlating for order: 85 | {\"filename\": \"lscnrs01-fl09-20180313-0031-e00.fits.fz\", \"site\": \"lsc\", \"instrument\": \"nres01\", \"epoch\": \"20180313\", \"request_num\": \"0001446787\", \"obstype\": \"TARGET\", \"filter\": null, \"processName\": \"MainProcess\"}\n",
      "2020-08-27 12:55:13.008     INFO:              rv: Cross correlating for order: 86 | {\"filename\": \"lscnrs01-fl09-20180313-0031-e00.fits.fz\", \"site\": \"lsc\", \"instrument\": \"nres01\", \"epoch\": \"20180313\", \"request_num\": \"0001446787\", \"obstype\": \"TARGET\", \"filter\": null, \"processName\": \"MainProcess\"}\n",
      "2020-08-27 12:55:13.366     INFO:              rv: Cross correlating for order: 87 | {\"filename\": \"lscnrs01-fl09-20180313-0031-e00.fits.fz\", \"site\": \"lsc\", \"instrument\": \"nres01\", \"epoch\": \"20180313\", \"request_num\": \"0001446787\", \"obstype\": \"TARGET\", \"filter\": null, \"processName\": \"MainProcess\"}\n",
      "2020-08-27 12:55:13.723     INFO:              rv: Cross correlating for order: 88 | {\"filename\": \"lscnrs01-fl09-20180313-0031-e00.fits.fz\", \"site\": \"lsc\", \"instrument\": \"nres01\", \"epoch\": \"20180313\", \"request_num\": \"0001446787\", \"obstype\": \"TARGET\", \"filter\": null, \"processName\": \"MainProcess\"}\n",
      "2020-08-27 12:55:14.077     INFO:              rv: Cross correlating for order: 89 | {\"filename\": \"lscnrs01-fl09-20180313-0031-e00.fits.fz\", \"site\": \"lsc\", \"instrument\": \"nres01\", \"epoch\": \"20180313\", \"request_num\": \"0001446787\", \"obstype\": \"TARGET\", \"filter\": null, \"processName\": \"MainProcess\"}\n",
      "2020-08-27 12:55:14.429     INFO:              rv: Cross correlating for order: 90 | {\"filename\": \"lscnrs01-fl09-20180313-0031-e00.fits.fz\", \"site\": \"lsc\", \"instrument\": \"nres01\", \"epoch\": \"20180313\", \"request_num\": \"0001446787\", \"obstype\": \"TARGET\", \"filter\": null, \"processName\": \"MainProcess\"}\n",
      "2020-08-27 12:55:14.789     INFO:              rv: Cross correlating for order: 91 | {\"filename\": \"lscnrs01-fl09-20180313-0031-e00.fits.fz\", \"site\": \"lsc\", \"instrument\": \"nres01\", \"epoch\": \"20180313\", \"request_num\": \"0001446787\", \"obstype\": \"TARGET\", \"filter\": null, \"processName\": \"MainProcess\"}\n",
      "2020-08-27 12:55:15.180     INFO:              rv: Cross correlating for order: 92 | {\"filename\": \"lscnrs01-fl09-20180313-0031-e00.fits.fz\", \"site\": \"lsc\", \"instrument\": \"nres01\", \"epoch\": \"20180313\", \"request_num\": \"0001446787\", \"obstype\": \"TARGET\", \"filter\": null, \"processName\": \"MainProcess\"}\n",
      "2020-08-27 12:55:15.532     INFO:              rv: Cross correlating for order: 93 | {\"filename\": \"lscnrs01-fl09-20180313-0031-e00.fits.fz\", \"site\": \"lsc\", \"instrument\": \"nres01\", \"epoch\": \"20180313\", \"request_num\": \"0001446787\", \"obstype\": \"TARGET\", \"filter\": null, \"processName\": \"MainProcess\"}\n",
      "2020-08-27 12:55:15.915     INFO:              rv: Cross correlating for order: 94 | {\"filename\": \"lscnrs01-fl09-20180313-0031-e00.fits.fz\", \"site\": \"lsc\", \"instrument\": \"nres01\", \"epoch\": \"20180313\", \"request_num\": \"0001446787\", \"obstype\": \"TARGET\", \"filter\": null, \"processName\": \"MainProcess\"}\n",
      "2020-08-27 12:55:16.300     INFO:              rv: Cross correlating for order: 95 | {\"filename\": \"lscnrs01-fl09-20180313-0031-e00.fits.fz\", \"site\": \"lsc\", \"instrument\": \"nres01\", \"epoch\": \"20180313\", \"request_num\": \"0001446787\", \"obstype\": \"TARGET\", \"filter\": null, \"processName\": \"MainProcess\"}\n",
      "2020-08-27 12:55:16.663     INFO:              rv: Cross correlating for order: 96 | {\"filename\": \"lscnrs01-fl09-20180313-0031-e00.fits.fz\", \"site\": \"lsc\", \"instrument\": \"nres01\", \"epoch\": \"20180313\", \"request_num\": \"0001446787\", \"obstype\": \"TARGET\", \"filter\": null, \"processName\": \"MainProcess\"}\n",
      "2020-08-27 12:55:17.024     INFO:              rv: Cross correlating for order: 97 | {\"filename\": \"lscnrs01-fl09-20180313-0031-e00.fits.fz\", \"site\": \"lsc\", \"instrument\": \"nres01\", \"epoch\": \"20180313\", \"request_num\": \"0001446787\", \"obstype\": \"TARGET\", \"filter\": null, \"processName\": \"MainProcess\"}\n",
      "2020-08-27 12:55:17.377     INFO:              rv: Cross correlating for order: 98 | {\"filename\": \"lscnrs01-fl09-20180313-0031-e00.fits.fz\", \"site\": \"lsc\", \"instrument\": \"nres01\", \"epoch\": \"20180313\", \"request_num\": \"0001446787\", \"obstype\": \"TARGET\", \"filter\": null, \"processName\": \"MainProcess\"}\n"
     ]
    },
    {
     "name": "stdout",
     "output_type": "stream",
     "text": [
      "2020-08-27 12:55:17.732     INFO:              rv: Cross correlating for order: 99 | {\"filename\": \"lscnrs01-fl09-20180313-0031-e00.fits.fz\", \"site\": \"lsc\", \"instrument\": \"nres01\", \"epoch\": \"20180313\", \"request_num\": \"0001446787\", \"obstype\": \"TARGET\", \"filter\": null, \"processName\": \"MainProcess\"}\n",
      "2020-08-27 12:55:18.077     INFO:              rv: Cross correlating for order: 100 | {\"filename\": \"lscnrs01-fl09-20180313-0031-e00.fits.fz\", \"site\": \"lsc\", \"instrument\": \"nres01\", \"epoch\": \"20180313\", \"request_num\": \"0001446787\", \"obstype\": \"TARGET\", \"filter\": null, \"processName\": \"MainProcess\"}\n",
      "2020-08-27 12:55:18.429     INFO:              rv: Cross correlating for order: 75 | {\"filename\": \"lscnrs01-fl09-20180313-0031-e00.fits.fz\", \"site\": \"lsc\", \"instrument\": \"nres01\", \"epoch\": \"20180313\", \"request_num\": \"0001446787\", \"obstype\": \"TARGET\", \"filter\": null, \"processName\": \"MainProcess\"}\n",
      "2020-08-27 12:55:18.823     INFO:              rv: Cross correlating for order: 76 | {\"filename\": \"lscnrs01-fl09-20180313-0031-e00.fits.fz\", \"site\": \"lsc\", \"instrument\": \"nres01\", \"epoch\": \"20180313\", \"request_num\": \"0001446787\", \"obstype\": \"TARGET\", \"filter\": null, \"processName\": \"MainProcess\"}\n",
      "2020-08-27 12:55:19.220     INFO:              rv: Cross correlating for order: 77 | {\"filename\": \"lscnrs01-fl09-20180313-0031-e00.fits.fz\", \"site\": \"lsc\", \"instrument\": \"nres01\", \"epoch\": \"20180313\", \"request_num\": \"0001446787\", \"obstype\": \"TARGET\", \"filter\": null, \"processName\": \"MainProcess\"}\n",
      "2020-08-27 12:55:19.635     INFO:              rv: Cross correlating for order: 78 | {\"filename\": \"lscnrs01-fl09-20180313-0031-e00.fits.fz\", \"site\": \"lsc\", \"instrument\": \"nres01\", \"epoch\": \"20180313\", \"request_num\": \"0001446787\", \"obstype\": \"TARGET\", \"filter\": null, \"processName\": \"MainProcess\"}\n",
      "2020-08-27 12:55:20.018     INFO:              rv: Cross correlating for order: 79 | {\"filename\": \"lscnrs01-fl09-20180313-0031-e00.fits.fz\", \"site\": \"lsc\", \"instrument\": \"nres01\", \"epoch\": \"20180313\", \"request_num\": \"0001446787\", \"obstype\": \"TARGET\", \"filter\": null, \"processName\": \"MainProcess\"}\n",
      "2020-08-27 12:55:20.403     INFO:              rv: Cross correlating for order: 80 | {\"filename\": \"lscnrs01-fl09-20180313-0031-e00.fits.fz\", \"site\": \"lsc\", \"instrument\": \"nres01\", \"epoch\": \"20180313\", \"request_num\": \"0001446787\", \"obstype\": \"TARGET\", \"filter\": null, \"processName\": \"MainProcess\"}\n",
      "2020-08-27 12:55:20.778     INFO:              rv: Cross correlating for order: 81 | {\"filename\": \"lscnrs01-fl09-20180313-0031-e00.fits.fz\", \"site\": \"lsc\", \"instrument\": \"nres01\", \"epoch\": \"20180313\", \"request_num\": \"0001446787\", \"obstype\": \"TARGET\", \"filter\": null, \"processName\": \"MainProcess\"}\n",
      "2020-08-27 12:55:21.162     INFO:              rv: Cross correlating for order: 82 | {\"filename\": \"lscnrs01-fl09-20180313-0031-e00.fits.fz\", \"site\": \"lsc\", \"instrument\": \"nres01\", \"epoch\": \"20180313\", \"request_num\": \"0001446787\", \"obstype\": \"TARGET\", \"filter\": null, \"processName\": \"MainProcess\"}\n",
      "2020-08-27 12:55:21.532     INFO:              rv: Cross correlating for order: 83 | {\"filename\": \"lscnrs01-fl09-20180313-0031-e00.fits.fz\", \"site\": \"lsc\", \"instrument\": \"nres01\", \"epoch\": \"20180313\", \"request_num\": \"0001446787\", \"obstype\": \"TARGET\", \"filter\": null, \"processName\": \"MainProcess\"}\n",
      "2020-08-27 12:55:21.900     INFO:              rv: Cross correlating for order: 84 | {\"filename\": \"lscnrs01-fl09-20180313-0031-e00.fits.fz\", \"site\": \"lsc\", \"instrument\": \"nres01\", \"epoch\": \"20180313\", \"request_num\": \"0001446787\", \"obstype\": \"TARGET\", \"filter\": null, \"processName\": \"MainProcess\"}\n",
      "2020-08-27 12:55:22.275     INFO:              rv: Cross correlating for order: 85 | {\"filename\": \"lscnrs01-fl09-20180313-0031-e00.fits.fz\", \"site\": \"lsc\", \"instrument\": \"nres01\", \"epoch\": \"20180313\", \"request_num\": \"0001446787\", \"obstype\": \"TARGET\", \"filter\": null, \"processName\": \"MainProcess\"}\n",
      "2020-08-27 12:55:22.643     INFO:              rv: Cross correlating for order: 86 | {\"filename\": \"lscnrs01-fl09-20180313-0031-e00.fits.fz\", \"site\": \"lsc\", \"instrument\": \"nres01\", \"epoch\": \"20180313\", \"request_num\": \"0001446787\", \"obstype\": \"TARGET\", \"filter\": null, \"processName\": \"MainProcess\"}\n",
      "2020-08-27 12:55:23.023     INFO:              rv: Cross correlating for order: 87 | {\"filename\": \"lscnrs01-fl09-20180313-0031-e00.fits.fz\", \"site\": \"lsc\", \"instrument\": \"nres01\", \"epoch\": \"20180313\", \"request_num\": \"0001446787\", \"obstype\": \"TARGET\", \"filter\": null, \"processName\": \"MainProcess\"}\n",
      "2020-08-27 12:55:23.392     INFO:              rv: Cross correlating for order: 88 | {\"filename\": \"lscnrs01-fl09-20180313-0031-e00.fits.fz\", \"site\": \"lsc\", \"instrument\": \"nres01\", \"epoch\": \"20180313\", \"request_num\": \"0001446787\", \"obstype\": \"TARGET\", \"filter\": null, \"processName\": \"MainProcess\"}\n",
      "2020-08-27 12:55:23.758     INFO:              rv: Cross correlating for order: 89 | {\"filename\": \"lscnrs01-fl09-20180313-0031-e00.fits.fz\", \"site\": \"lsc\", \"instrument\": \"nres01\", \"epoch\": \"20180313\", \"request_num\": \"0001446787\", \"obstype\": \"TARGET\", \"filter\": null, \"processName\": \"MainProcess\"}\n",
      "2020-08-27 12:55:24.126     INFO:              rv: Cross correlating for order: 90 | {\"filename\": \"lscnrs01-fl09-20180313-0031-e00.fits.fz\", \"site\": \"lsc\", \"instrument\": \"nres01\", \"epoch\": \"20180313\", \"request_num\": \"0001446787\", \"obstype\": \"TARGET\", \"filter\": null, \"processName\": \"MainProcess\"}\n",
      "2020-08-27 12:55:24.492     INFO:              rv: Cross correlating for order: 91 | {\"filename\": \"lscnrs01-fl09-20180313-0031-e00.fits.fz\", \"site\": \"lsc\", \"instrument\": \"nres01\", \"epoch\": \"20180313\", \"request_num\": \"0001446787\", \"obstype\": \"TARGET\", \"filter\": null, \"processName\": \"MainProcess\"}\n",
      "2020-08-27 12:55:24.892     INFO:              rv: Cross correlating for order: 92 | {\"filename\": \"lscnrs01-fl09-20180313-0031-e00.fits.fz\", \"site\": \"lsc\", \"instrument\": \"nres01\", \"epoch\": \"20180313\", \"request_num\": \"0001446787\", \"obstype\": \"TARGET\", \"filter\": null, \"processName\": \"MainProcess\"}\n",
      "2020-08-27 12:55:25.264     INFO:              rv: Cross correlating for order: 93 | {\"filename\": \"lscnrs01-fl09-20180313-0031-e00.fits.fz\", \"site\": \"lsc\", \"instrument\": \"nres01\", \"epoch\": \"20180313\", \"request_num\": \"0001446787\", \"obstype\": \"TARGET\", \"filter\": null, \"processName\": \"MainProcess\"}\n",
      "2020-08-27 12:55:25.638     INFO:              rv: Cross correlating for order: 94 | {\"filename\": \"lscnrs01-fl09-20180313-0031-e00.fits.fz\", \"site\": \"lsc\", \"instrument\": \"nres01\", \"epoch\": \"20180313\", \"request_num\": \"0001446787\", \"obstype\": \"TARGET\", \"filter\": null, \"processName\": \"MainProcess\"}\n",
      "2020-08-27 12:55:26.023     INFO:              rv: Cross correlating for order: 95 | {\"filename\": \"lscnrs01-fl09-20180313-0031-e00.fits.fz\", \"site\": \"lsc\", \"instrument\": \"nres01\", \"epoch\": \"20180313\", \"request_num\": \"0001446787\", \"obstype\": \"TARGET\", \"filter\": null, \"processName\": \"MainProcess\"}\n",
      "2020-08-27 12:55:26.399     INFO:              rv: Cross correlating for order: 96 | {\"filename\": \"lscnrs01-fl09-20180313-0031-e00.fits.fz\", \"site\": \"lsc\", \"instrument\": \"nres01\", \"epoch\": \"20180313\", \"request_num\": \"0001446787\", \"obstype\": \"TARGET\", \"filter\": null, \"processName\": \"MainProcess\"}\n",
      "2020-08-27 12:55:26.775     INFO:              rv: Cross correlating for order: 97 | {\"filename\": \"lscnrs01-fl09-20180313-0031-e00.fits.fz\", \"site\": \"lsc\", \"instrument\": \"nres01\", \"epoch\": \"20180313\", \"request_num\": \"0001446787\", \"obstype\": \"TARGET\", \"filter\": null, \"processName\": \"MainProcess\"}\n",
      "2020-08-27 12:55:27.147     INFO:              rv: Cross correlating for order: 98 | {\"filename\": \"lscnrs01-fl09-20180313-0031-e00.fits.fz\", \"site\": \"lsc\", \"instrument\": \"nres01\", \"epoch\": \"20180313\", \"request_num\": \"0001446787\", \"obstype\": \"TARGET\", \"filter\": null, \"processName\": \"MainProcess\"}\n",
      "2020-08-27 12:55:27.517     INFO:              rv: Cross correlating for order: 99 | {\"filename\": \"lscnrs01-fl09-20180313-0031-e00.fits.fz\", \"site\": \"lsc\", \"instrument\": \"nres01\", \"epoch\": \"20180313\", \"request_num\": \"0001446787\", \"obstype\": \"TARGET\", \"filter\": null, \"processName\": \"MainProcess\"}\n",
      "2020-08-27 12:55:27.878     INFO:              rv: Cross correlating for order: 100 | {\"filename\": \"lscnrs01-fl09-20180313-0031-e00.fits.fz\", \"site\": \"lsc\", \"instrument\": \"nres01\", \"epoch\": \"20180313\", \"request_num\": \"0001446787\", \"obstype\": \"TARGET\", \"filter\": null, \"processName\": \"MainProcess\"}\n"
     ]
    },
    {
     "name": "stdout",
     "output_type": "stream",
     "text": [
      "2020-08-27 12:56:17.535     INFO:          stages: Running banzai.stages.BadPixelMaskLoader | {\"filename\": \"lscnrs01-fl09-20180313-0030-e00.fits.fz\", \"site\": \"lsc\", \"instrument\": \"nres01\", \"epoch\": \"20180313\", \"request_num\": \"0001446787\", \"obstype\": \"TARGET\", \"filter\": null, \"processName\": \"MainProcess\"}\n",
      "2020-08-27 12:56:17.725     INFO:    calibrations: Applying master calibration | {\"filename\": \"lscnrs01-fl09-20180313-0030-e00.fits.fz\", \"site\": \"lsc\", \"instrument\": \"nres01\", \"epoch\": \"20180313\", \"request_num\": \"0001446787\", \"obstype\": \"TARGET\", \"filter\": null, \"master_calibration\": \"bpm-lsc-nres01-fl09-20180215.fits.fz\", \"processName\": \"MainProcess\"}\n",
      "2020-08-27 12:56:17.764     INFO:          stages: Running banzai.stages.OverscanSubtractor | {\"filename\": \"lscnrs01-fl09-20180313-0030-e00.fits.fz\", \"site\": \"lsc\", \"instrument\": \"nres01\", \"epoch\": \"20180313\", \"request_num\": \"0001446787\", \"obstype\": \"TARGET\", \"filter\": null, \"processName\": \"MainProcess\"}\n",
      "2020-08-27 12:56:17.795     INFO:          stages: Running banzai.stages.GainNormalizer | {\"filename\": \"lscnrs01-fl09-20180313-0030-e00.fits.fz\", \"site\": \"lsc\", \"instrument\": \"nres01\", \"epoch\": \"20180313\", \"request_num\": \"0001446787\", \"obstype\": \"TARGET\", \"filter\": null, \"processName\": \"MainProcess\"}\n",
      "2020-08-27 12:56:17.797     INFO:            gain: Multiplying by gain | {\"filename\": \"lscnrs01-fl09-20180313-0030-e00.fits.fz\", \"site\": \"lsc\", \"instrument\": \"nres01\", \"epoch\": \"20180313\", \"request_num\": \"0001446787\", \"obstype\": \"TARGET\", \"filter\": null, \"processName\": \"MainProcess\"}\n",
      "2020-08-27 12:56:17.831     INFO:          stages: Running banzai.stages.Trimmer | {\"filename\": \"lscnrs01-fl09-20180313-0030-e00.fits.fz\", \"site\": \"lsc\", \"instrument\": \"nres01\", \"epoch\": \"20180313\", \"request_num\": \"0001446787\", \"obstype\": \"TARGET\", \"filter\": null, \"processName\": \"MainProcess\"}\n",
      "2020-08-27 12:56:17.833     INFO:            trim: Trimming image | {\"filename\": \"lscnrs01-fl09-20180313-0030-e00.fits.fz\", \"site\": \"lsc\", \"instrument\": \"nres01\", \"epoch\": \"20180313\", \"request_num\": \"0001446787\", \"obstype\": \"TARGET\", \"filter\": null, \"processName\": \"MainProcess\"}\n",
      "2020-08-27 12:56:18.090     INFO:          stages: Running banzai.stages.BiasSubtractor | {\"filename\": \"lscnrs01-fl09-20180313-0030-e00.fits.fz\", \"site\": \"lsc\", \"instrument\": \"nres01\", \"epoch\": \"20180313\", \"request_num\": \"0001446787\", \"obstype\": \"TARGET\", \"filter\": null, \"processName\": \"MainProcess\"}\n",
      "2020-08-27 12:56:18.790     INFO:    calibrations: Applying master calibration | {\"filename\": \"lscnrs01-fl09-20180313-0030-e00.fits.fz\", \"site\": \"lsc\", \"instrument\": \"nres01\", \"epoch\": \"20180313\", \"request_num\": \"0001446787\", \"obstype\": \"TARGET\", \"filter\": null, \"master_calibration\": \"lscnrs01-fl09-20180313-bias-bin1x1.fits.fz\", \"processName\": \"MainProcess\"}\n",
      "2020-08-27 12:56:18.993     INFO:          stages: Running banzai.stages.PoissonInitializer | {\"filename\": \"lscnrs01-fl09-20180313-0030-e00.fits.fz\", \"site\": \"lsc\", \"instrument\": \"nres01\", \"epoch\": \"20180313\", \"request_num\": \"0001446787\", \"obstype\": \"TARGET\", \"filter\": null, \"processName\": \"MainProcess\"}\n",
      "2020-08-27 12:56:19.118     INFO:          stages: Running banzai.stages.DarkSubtractor | {\"filename\": \"lscnrs01-fl09-20180313-0030-e00.fits.fz\", \"site\": \"lsc\", \"instrument\": \"nres01\", \"epoch\": \"20180313\", \"request_num\": \"0001446787\", \"obstype\": \"TARGET\", \"filter\": null, \"processName\": \"MainProcess\"}\n",
      "2020-08-27 12:56:19.832     INFO:    calibrations: Applying master calibration | {\"filename\": \"lscnrs01-fl09-20180313-0030-e00.fits.fz\", \"site\": \"lsc\", \"instrument\": \"nres01\", \"epoch\": \"20180313\", \"request_num\": \"0001446787\", \"obstype\": \"TARGET\", \"filter\": null, \"master_calibration\": \"lscnrs01-fl09-20180313-dark-bin1x1.fits.fz\", \"processName\": \"MainProcess\"}\n",
      "2020-08-27 12:56:19.999     INFO:          stages: Running banzai.stages.FlatLoader | {\"filename\": \"lscnrs01-fl09-20180313-0030-e00.fits.fz\", \"site\": \"lsc\", \"instrument\": \"nres01\", \"epoch\": \"20180313\", \"request_num\": \"0001446787\", \"obstype\": \"TARGET\", \"filter\": null, \"processName\": \"MainProcess\"}\n",
      "2020-08-27 12:56:21.350     INFO:    calibrations: Applying master calibration | {\"filename\": \"lscnrs01-fl09-20180313-0030-e00.fits.fz\", \"site\": \"lsc\", \"instrument\": \"nres01\", \"epoch\": \"20180313\", \"request_num\": \"0001446787\", \"obstype\": \"TARGET\", \"filter\": null, \"master_calibration\": \"lscnrs01-fl09-20180313-lampflat-bin1x1-110.fits.fz\", \"processName\": \"MainProcess\"}\n",
      "2020-08-27 12:56:21.469     INFO:          stages: Running banzai.stages.BackgroundSubtractor | {\"filename\": \"lscnrs01-fl09-20180313-0030-e00.fits.fz\", \"site\": \"lsc\", \"instrument\": \"nres01\", \"epoch\": \"20180313\", \"request_num\": \"0001446787\", \"obstype\": \"TARGET\", \"filter\": null, \"processName\": \"MainProcess\"}\n",
      "2020-08-27 12:56:21.847     INFO:          stages: Running banzai.stages.ArcLoader | {\"filename\": \"lscnrs01-fl09-20180313-0030-e00.fits.fz\", \"site\": \"lsc\", \"instrument\": \"nres01\", \"epoch\": \"20180313\", \"request_num\": \"0001446787\", \"obstype\": \"TARGET\", \"filter\": null, \"processName\": \"MainProcess\"}\n",
      "2020-08-27 12:56:23.538     INFO:    calibrations: Applying master calibration | {\"filename\": \"lscnrs01-fl09-20180313-0030-e00.fits.fz\", \"site\": \"lsc\", \"instrument\": \"nres01\", \"epoch\": \"20180313\", \"request_num\": \"0001446787\", \"obstype\": \"TARGET\", \"filter\": null, \"master_calibration\": \"lscnrs01-fl09-20180313-double-bin1x1-110.fits.fz\", \"processName\": \"MainProcess\"}\n",
      "2020-08-27 12:56:23.676     INFO:          stages: Running banzai.stages.GetOptimalExtractionWeights | {\"filename\": \"lscnrs01-fl09-20180313-0030-e00.fits.fz\", \"site\": \"lsc\", \"instrument\": \"nres01\", \"epoch\": \"20180313\", \"request_num\": \"0001446787\", \"obstype\": \"TARGET\", \"filter\": null, \"processName\": \"MainProcess\"}\n",
      "2020-08-27 12:56:39.663     INFO:          stages: Running banzai.stages.WeightedExtract | {\"filename\": \"lscnrs01-fl09-20180313-0030-e00.fits.fz\", \"site\": \"lsc\", \"instrument\": \"nres01\", \"epoch\": \"20180313\", \"request_num\": \"0001446787\", \"obstype\": \"TARGET\", \"filter\": null, \"processName\": \"MainProcess\"}\n",
      "2020-08-27 12:56:55.408     INFO:          stages: Running banzai.stages.ContinuumNormalizer | {\"filename\": \"lscnrs01-fl09-20180313-0030-e00.fits.fz\", \"site\": \"lsc\", \"instrument\": \"nres01\", \"epoch\": \"20180313\", \"request_num\": \"0001446787\", \"obstype\": \"TARGET\", \"filter\": null, \"processName\": \"MainProcess\"}\n",
      "2020-08-27 12:56:55.940     INFO:          stages: Running banzai.stages.RVCalculator | {\"filename\": \"lscnrs01-fl09-20180313-0030-e00.fits.fz\", \"site\": \"lsc\", \"instrument\": \"nres01\", \"epoch\": \"20180313\", \"request_num\": \"0001446787\", \"obstype\": \"TARGET\", \"filter\": null, \"processName\": \"MainProcess\"}\n",
      "2020-08-27 12:56:55.951     INFO:              rv: Cross correlating for order: 75 | {\"filename\": \"lscnrs01-fl09-20180313-0030-e00.fits.fz\", \"site\": \"lsc\", \"instrument\": \"nres01\", \"epoch\": \"20180313\", \"request_num\": \"0001446787\", \"obstype\": \"TARGET\", \"filter\": null, \"processName\": \"MainProcess\"}\n",
      "2020-08-27 12:56:56.338     INFO:              rv: Cross correlating for order: 76 | {\"filename\": \"lscnrs01-fl09-20180313-0030-e00.fits.fz\", \"site\": \"lsc\", \"instrument\": \"nres01\", \"epoch\": \"20180313\", \"request_num\": \"0001446787\", \"obstype\": \"TARGET\", \"filter\": null, \"processName\": \"MainProcess\"}\n",
      "2020-08-27 12:56:56.719     INFO:              rv: Cross correlating for order: 77 | {\"filename\": \"lscnrs01-fl09-20180313-0030-e00.fits.fz\", \"site\": \"lsc\", \"instrument\": \"nres01\", \"epoch\": \"20180313\", \"request_num\": \"0001446787\", \"obstype\": \"TARGET\", \"filter\": null, \"processName\": \"MainProcess\"}\n",
      "2020-08-27 12:56:57.093     INFO:              rv: Cross correlating for order: 78 | {\"filename\": \"lscnrs01-fl09-20180313-0030-e00.fits.fz\", \"site\": \"lsc\", \"instrument\": \"nres01\", \"epoch\": \"20180313\", \"request_num\": \"0001446787\", \"obstype\": \"TARGET\", \"filter\": null, \"processName\": \"MainProcess\"}\n",
      "2020-08-27 12:56:57.456     INFO:              rv: Cross correlating for order: 79 | {\"filename\": \"lscnrs01-fl09-20180313-0030-e00.fits.fz\", \"site\": \"lsc\", \"instrument\": \"nres01\", \"epoch\": \"20180313\", \"request_num\": \"0001446787\", \"obstype\": \"TARGET\", \"filter\": null, \"processName\": \"MainProcess\"}\n",
      "2020-08-27 12:56:57.826     INFO:              rv: Cross correlating for order: 80 | {\"filename\": \"lscnrs01-fl09-20180313-0030-e00.fits.fz\", \"site\": \"lsc\", \"instrument\": \"nres01\", \"epoch\": \"20180313\", \"request_num\": \"0001446787\", \"obstype\": \"TARGET\", \"filter\": null, \"processName\": \"MainProcess\"}\n"
     ]
    },
    {
     "name": "stdout",
     "output_type": "stream",
     "text": [
      "2020-08-27 12:56:58.187     INFO:              rv: Cross correlating for order: 81 | {\"filename\": \"lscnrs01-fl09-20180313-0030-e00.fits.fz\", \"site\": \"lsc\", \"instrument\": \"nres01\", \"epoch\": \"20180313\", \"request_num\": \"0001446787\", \"obstype\": \"TARGET\", \"filter\": null, \"processName\": \"MainProcess\"}\n",
      "2020-08-27 12:56:58.547     INFO:              rv: Cross correlating for order: 82 | {\"filename\": \"lscnrs01-fl09-20180313-0030-e00.fits.fz\", \"site\": \"lsc\", \"instrument\": \"nres01\", \"epoch\": \"20180313\", \"request_num\": \"0001446787\", \"obstype\": \"TARGET\", \"filter\": null, \"processName\": \"MainProcess\"}\n",
      "2020-08-27 12:56:58.913     INFO:              rv: Cross correlating for order: 83 | {\"filename\": \"lscnrs01-fl09-20180313-0030-e00.fits.fz\", \"site\": \"lsc\", \"instrument\": \"nres01\", \"epoch\": \"20180313\", \"request_num\": \"0001446787\", \"obstype\": \"TARGET\", \"filter\": null, \"processName\": \"MainProcess\"}\n",
      "2020-08-27 12:56:59.270     INFO:              rv: Cross correlating for order: 84 | {\"filename\": \"lscnrs01-fl09-20180313-0030-e00.fits.fz\", \"site\": \"lsc\", \"instrument\": \"nres01\", \"epoch\": \"20180313\", \"request_num\": \"0001446787\", \"obstype\": \"TARGET\", \"filter\": null, \"processName\": \"MainProcess\"}\n",
      "2020-08-27 12:56:59.629     INFO:              rv: Cross correlating for order: 85 | {\"filename\": \"lscnrs01-fl09-20180313-0030-e00.fits.fz\", \"site\": \"lsc\", \"instrument\": \"nres01\", \"epoch\": \"20180313\", \"request_num\": \"0001446787\", \"obstype\": \"TARGET\", \"filter\": null, \"processName\": \"MainProcess\"}\n",
      "2020-08-27 12:56:59.988     INFO:              rv: Cross correlating for order: 86 | {\"filename\": \"lscnrs01-fl09-20180313-0030-e00.fits.fz\", \"site\": \"lsc\", \"instrument\": \"nres01\", \"epoch\": \"20180313\", \"request_num\": \"0001446787\", \"obstype\": \"TARGET\", \"filter\": null, \"processName\": \"MainProcess\"}\n",
      "2020-08-27 12:57:00.345     INFO:              rv: Cross correlating for order: 87 | {\"filename\": \"lscnrs01-fl09-20180313-0030-e00.fits.fz\", \"site\": \"lsc\", \"instrument\": \"nres01\", \"epoch\": \"20180313\", \"request_num\": \"0001446787\", \"obstype\": \"TARGET\", \"filter\": null, \"processName\": \"MainProcess\"}\n",
      "2020-08-27 12:57:00.705     INFO:              rv: Cross correlating for order: 88 | {\"filename\": \"lscnrs01-fl09-20180313-0030-e00.fits.fz\", \"site\": \"lsc\", \"instrument\": \"nres01\", \"epoch\": \"20180313\", \"request_num\": \"0001446787\", \"obstype\": \"TARGET\", \"filter\": null, \"processName\": \"MainProcess\"}\n",
      "2020-08-27 12:57:01.066     INFO:              rv: Cross correlating for order: 89 | {\"filename\": \"lscnrs01-fl09-20180313-0030-e00.fits.fz\", \"site\": \"lsc\", \"instrument\": \"nres01\", \"epoch\": \"20180313\", \"request_num\": \"0001446787\", \"obstype\": \"TARGET\", \"filter\": null, \"processName\": \"MainProcess\"}\n",
      "2020-08-27 12:57:01.425     INFO:              rv: Cross correlating for order: 90 | {\"filename\": \"lscnrs01-fl09-20180313-0030-e00.fits.fz\", \"site\": \"lsc\", \"instrument\": \"nres01\", \"epoch\": \"20180313\", \"request_num\": \"0001446787\", \"obstype\": \"TARGET\", \"filter\": null, \"processName\": \"MainProcess\"}\n",
      "2020-08-27 12:57:01.787     INFO:              rv: Cross correlating for order: 91 | {\"filename\": \"lscnrs01-fl09-20180313-0030-e00.fits.fz\", \"site\": \"lsc\", \"instrument\": \"nres01\", \"epoch\": \"20180313\", \"request_num\": \"0001446787\", \"obstype\": \"TARGET\", \"filter\": null, \"processName\": \"MainProcess\"}\n",
      "2020-08-27 12:57:02.143     INFO:              rv: Cross correlating for order: 92 | {\"filename\": \"lscnrs01-fl09-20180313-0030-e00.fits.fz\", \"site\": \"lsc\", \"instrument\": \"nres01\", \"epoch\": \"20180313\", \"request_num\": \"0001446787\", \"obstype\": \"TARGET\", \"filter\": null, \"processName\": \"MainProcess\"}\n",
      "2020-08-27 12:57:02.494     INFO:              rv: Cross correlating for order: 93 | {\"filename\": \"lscnrs01-fl09-20180313-0030-e00.fits.fz\", \"site\": \"lsc\", \"instrument\": \"nres01\", \"epoch\": \"20180313\", \"request_num\": \"0001446787\", \"obstype\": \"TARGET\", \"filter\": null, \"processName\": \"MainProcess\"}\n",
      "2020-08-27 12:57:02.858     INFO:              rv: Cross correlating for order: 94 | {\"filename\": \"lscnrs01-fl09-20180313-0030-e00.fits.fz\", \"site\": \"lsc\", \"instrument\": \"nres01\", \"epoch\": \"20180313\", \"request_num\": \"0001446787\", \"obstype\": \"TARGET\", \"filter\": null, \"processName\": \"MainProcess\"}\n",
      "2020-08-27 12:57:03.226     INFO:              rv: Cross correlating for order: 95 | {\"filename\": \"lscnrs01-fl09-20180313-0030-e00.fits.fz\", \"site\": \"lsc\", \"instrument\": \"nres01\", \"epoch\": \"20180313\", \"request_num\": \"0001446787\", \"obstype\": \"TARGET\", \"filter\": null, \"processName\": \"MainProcess\"}\n",
      "2020-08-27 12:57:03.590     INFO:              rv: Cross correlating for order: 96 | {\"filename\": \"lscnrs01-fl09-20180313-0030-e00.fits.fz\", \"site\": \"lsc\", \"instrument\": \"nres01\", \"epoch\": \"20180313\", \"request_num\": \"0001446787\", \"obstype\": \"TARGET\", \"filter\": null, \"processName\": \"MainProcess\"}\n",
      "2020-08-27 12:57:03.956     INFO:              rv: Cross correlating for order: 97 | {\"filename\": \"lscnrs01-fl09-20180313-0030-e00.fits.fz\", \"site\": \"lsc\", \"instrument\": \"nres01\", \"epoch\": \"20180313\", \"request_num\": \"0001446787\", \"obstype\": \"TARGET\", \"filter\": null, \"processName\": \"MainProcess\"}\n",
      "2020-08-27 12:57:04.325     INFO:              rv: Cross correlating for order: 98 | {\"filename\": \"lscnrs01-fl09-20180313-0030-e00.fits.fz\", \"site\": \"lsc\", \"instrument\": \"nres01\", \"epoch\": \"20180313\", \"request_num\": \"0001446787\", \"obstype\": \"TARGET\", \"filter\": null, \"processName\": \"MainProcess\"}\n",
      "2020-08-27 12:57:04.678     INFO:              rv: Cross correlating for order: 99 | {\"filename\": \"lscnrs01-fl09-20180313-0030-e00.fits.fz\", \"site\": \"lsc\", \"instrument\": \"nres01\", \"epoch\": \"20180313\", \"request_num\": \"0001446787\", \"obstype\": \"TARGET\", \"filter\": null, \"processName\": \"MainProcess\"}\n",
      "2020-08-27 12:57:05.026     INFO:              rv: Cross correlating for order: 100 | {\"filename\": \"lscnrs01-fl09-20180313-0030-e00.fits.fz\", \"site\": \"lsc\", \"instrument\": \"nres01\", \"epoch\": \"20180313\", \"request_num\": \"0001446787\", \"obstype\": \"TARGET\", \"filter\": null, \"processName\": \"MainProcess\"}\n",
      "2020-08-27 12:57:05.370     INFO:              rv: Cross correlating for order: 75 | {\"filename\": \"lscnrs01-fl09-20180313-0030-e00.fits.fz\", \"site\": \"lsc\", \"instrument\": \"nres01\", \"epoch\": \"20180313\", \"request_num\": \"0001446787\", \"obstype\": \"TARGET\", \"filter\": null, \"processName\": \"MainProcess\"}\n",
      "2020-08-27 12:57:05.752     INFO:              rv: Cross correlating for order: 76 | {\"filename\": \"lscnrs01-fl09-20180313-0030-e00.fits.fz\", \"site\": \"lsc\", \"instrument\": \"nres01\", \"epoch\": \"20180313\", \"request_num\": \"0001446787\", \"obstype\": \"TARGET\", \"filter\": null, \"processName\": \"MainProcess\"}\n",
      "2020-08-27 12:57:06.147     INFO:              rv: Cross correlating for order: 77 | {\"filename\": \"lscnrs01-fl09-20180313-0030-e00.fits.fz\", \"site\": \"lsc\", \"instrument\": \"nres01\", \"epoch\": \"20180313\", \"request_num\": \"0001446787\", \"obstype\": \"TARGET\", \"filter\": null, \"processName\": \"MainProcess\"}\n",
      "2020-08-27 12:57:06.533     INFO:              rv: Cross correlating for order: 78 | {\"filename\": \"lscnrs01-fl09-20180313-0030-e00.fits.fz\", \"site\": \"lsc\", \"instrument\": \"nres01\", \"epoch\": \"20180313\", \"request_num\": \"0001446787\", \"obstype\": \"TARGET\", \"filter\": null, \"processName\": \"MainProcess\"}\n",
      "2020-08-27 12:57:06.908     INFO:              rv: Cross correlating for order: 79 | {\"filename\": \"lscnrs01-fl09-20180313-0030-e00.fits.fz\", \"site\": \"lsc\", \"instrument\": \"nres01\", \"epoch\": \"20180313\", \"request_num\": \"0001446787\", \"obstype\": \"TARGET\", \"filter\": null, \"processName\": \"MainProcess\"}\n",
      "2020-08-27 12:57:07.284     INFO:              rv: Cross correlating for order: 80 | {\"filename\": \"lscnrs01-fl09-20180313-0030-e00.fits.fz\", \"site\": \"lsc\", \"instrument\": \"nres01\", \"epoch\": \"20180313\", \"request_num\": \"0001446787\", \"obstype\": \"TARGET\", \"filter\": null, \"processName\": \"MainProcess\"}\n",
      "2020-08-27 12:57:07.661     INFO:              rv: Cross correlating for order: 81 | {\"filename\": \"lscnrs01-fl09-20180313-0030-e00.fits.fz\", \"site\": \"lsc\", \"instrument\": \"nres01\", \"epoch\": \"20180313\", \"request_num\": \"0001446787\", \"obstype\": \"TARGET\", \"filter\": null, \"processName\": \"MainProcess\"}\n",
      "2020-08-27 12:57:08.033     INFO:              rv: Cross correlating for order: 82 | {\"filename\": \"lscnrs01-fl09-20180313-0030-e00.fits.fz\", \"site\": \"lsc\", \"instrument\": \"nres01\", \"epoch\": \"20180313\", \"request_num\": \"0001446787\", \"obstype\": \"TARGET\", \"filter\": null, \"processName\": \"MainProcess\"}\n"
     ]
    },
    {
     "name": "stdout",
     "output_type": "stream",
     "text": [
      "2020-08-27 12:57:08.406     INFO:              rv: Cross correlating for order: 83 | {\"filename\": \"lscnrs01-fl09-20180313-0030-e00.fits.fz\", \"site\": \"lsc\", \"instrument\": \"nres01\", \"epoch\": \"20180313\", \"request_num\": \"0001446787\", \"obstype\": \"TARGET\", \"filter\": null, \"processName\": \"MainProcess\"}\n",
      "2020-08-27 12:57:08.776     INFO:              rv: Cross correlating for order: 84 | {\"filename\": \"lscnrs01-fl09-20180313-0030-e00.fits.fz\", \"site\": \"lsc\", \"instrument\": \"nres01\", \"epoch\": \"20180313\", \"request_num\": \"0001446787\", \"obstype\": \"TARGET\", \"filter\": null, \"processName\": \"MainProcess\"}\n",
      "2020-08-27 12:57:09.147     INFO:              rv: Cross correlating for order: 85 | {\"filename\": \"lscnrs01-fl09-20180313-0030-e00.fits.fz\", \"site\": \"lsc\", \"instrument\": \"nres01\", \"epoch\": \"20180313\", \"request_num\": \"0001446787\", \"obstype\": \"TARGET\", \"filter\": null, \"processName\": \"MainProcess\"}\n",
      "2020-08-27 12:57:09.519     INFO:              rv: Cross correlating for order: 86 | {\"filename\": \"lscnrs01-fl09-20180313-0030-e00.fits.fz\", \"site\": \"lsc\", \"instrument\": \"nres01\", \"epoch\": \"20180313\", \"request_num\": \"0001446787\", \"obstype\": \"TARGET\", \"filter\": null, \"processName\": \"MainProcess\"}\n",
      "2020-08-27 12:57:09.890     INFO:              rv: Cross correlating for order: 87 | {\"filename\": \"lscnrs01-fl09-20180313-0030-e00.fits.fz\", \"site\": \"lsc\", \"instrument\": \"nres01\", \"epoch\": \"20180313\", \"request_num\": \"0001446787\", \"obstype\": \"TARGET\", \"filter\": null, \"processName\": \"MainProcess\"}\n",
      "2020-08-27 12:57:10.263     INFO:              rv: Cross correlating for order: 88 | {\"filename\": \"lscnrs01-fl09-20180313-0030-e00.fits.fz\", \"site\": \"lsc\", \"instrument\": \"nres01\", \"epoch\": \"20180313\", \"request_num\": \"0001446787\", \"obstype\": \"TARGET\", \"filter\": null, \"processName\": \"MainProcess\"}\n",
      "2020-08-27 12:57:10.629     INFO:              rv: Cross correlating for order: 89 | {\"filename\": \"lscnrs01-fl09-20180313-0030-e00.fits.fz\", \"site\": \"lsc\", \"instrument\": \"nres01\", \"epoch\": \"20180313\", \"request_num\": \"0001446787\", \"obstype\": \"TARGET\", \"filter\": null, \"processName\": \"MainProcess\"}\n",
      "2020-08-27 12:57:10.993     INFO:              rv: Cross correlating for order: 90 | {\"filename\": \"lscnrs01-fl09-20180313-0030-e00.fits.fz\", \"site\": \"lsc\", \"instrument\": \"nres01\", \"epoch\": \"20180313\", \"request_num\": \"0001446787\", \"obstype\": \"TARGET\", \"filter\": null, \"processName\": \"MainProcess\"}\n",
      "2020-08-27 12:57:11.362     INFO:              rv: Cross correlating for order: 91 | {\"filename\": \"lscnrs01-fl09-20180313-0030-e00.fits.fz\", \"site\": \"lsc\", \"instrument\": \"nres01\", \"epoch\": \"20180313\", \"request_num\": \"0001446787\", \"obstype\": \"TARGET\", \"filter\": null, \"processName\": \"MainProcess\"}\n",
      "2020-08-27 12:57:11.727     INFO:              rv: Cross correlating for order: 92 | {\"filename\": \"lscnrs01-fl09-20180313-0030-e00.fits.fz\", \"site\": \"lsc\", \"instrument\": \"nres01\", \"epoch\": \"20180313\", \"request_num\": \"0001446787\", \"obstype\": \"TARGET\", \"filter\": null, \"processName\": \"MainProcess\"}\n",
      "2020-08-27 12:57:12.087     INFO:              rv: Cross correlating for order: 93 | {\"filename\": \"lscnrs01-fl09-20180313-0030-e00.fits.fz\", \"site\": \"lsc\", \"instrument\": \"nres01\", \"epoch\": \"20180313\", \"request_num\": \"0001446787\", \"obstype\": \"TARGET\", \"filter\": null, \"processName\": \"MainProcess\"}\n",
      "2020-08-27 12:57:12.468     INFO:              rv: Cross correlating for order: 94 | {\"filename\": \"lscnrs01-fl09-20180313-0030-e00.fits.fz\", \"site\": \"lsc\", \"instrument\": \"nres01\", \"epoch\": \"20180313\", \"request_num\": \"0001446787\", \"obstype\": \"TARGET\", \"filter\": null, \"processName\": \"MainProcess\"}\n",
      "2020-08-27 12:57:12.844     INFO:              rv: Cross correlating for order: 95 | {\"filename\": \"lscnrs01-fl09-20180313-0030-e00.fits.fz\", \"site\": \"lsc\", \"instrument\": \"nres01\", \"epoch\": \"20180313\", \"request_num\": \"0001446787\", \"obstype\": \"TARGET\", \"filter\": null, \"processName\": \"MainProcess\"}\n",
      "2020-08-27 12:57:13.222     INFO:              rv: Cross correlating for order: 96 | {\"filename\": \"lscnrs01-fl09-20180313-0030-e00.fits.fz\", \"site\": \"lsc\", \"instrument\": \"nres01\", \"epoch\": \"20180313\", \"request_num\": \"0001446787\", \"obstype\": \"TARGET\", \"filter\": null, \"processName\": \"MainProcess\"}\n",
      "2020-08-27 12:57:13.599     INFO:              rv: Cross correlating for order: 97 | {\"filename\": \"lscnrs01-fl09-20180313-0030-e00.fits.fz\", \"site\": \"lsc\", \"instrument\": \"nres01\", \"epoch\": \"20180313\", \"request_num\": \"0001446787\", \"obstype\": \"TARGET\", \"filter\": null, \"processName\": \"MainProcess\"}\n",
      "2020-08-27 12:57:13.967     INFO:              rv: Cross correlating for order: 98 | {\"filename\": \"lscnrs01-fl09-20180313-0030-e00.fits.fz\", \"site\": \"lsc\", \"instrument\": \"nres01\", \"epoch\": \"20180313\", \"request_num\": \"0001446787\", \"obstype\": \"TARGET\", \"filter\": null, \"processName\": \"MainProcess\"}\n",
      "2020-08-27 12:57:14.342     INFO:              rv: Cross correlating for order: 99 | {\"filename\": \"lscnrs01-fl09-20180313-0030-e00.fits.fz\", \"site\": \"lsc\", \"instrument\": \"nres01\", \"epoch\": \"20180313\", \"request_num\": \"0001446787\", \"obstype\": \"TARGET\", \"filter\": null, \"processName\": \"MainProcess\"}\n",
      "2020-08-27 12:57:14.701     INFO:              rv: Cross correlating for order: 100 | {\"filename\": \"lscnrs01-fl09-20180313-0030-e00.fits.fz\", \"site\": \"lsc\", \"instrument\": \"nres01\", \"epoch\": \"20180313\", \"request_num\": \"0001446787\", \"obstype\": \"TARGET\", \"filter\": null, \"processName\": \"MainProcess\"}\n",
      "2020-08-27 12:57:23.586     INFO:          stages: Running banzai.stages.BadPixelMaskLoader | {\"filename\": \"lscnrs01-fl09-20180313-0031-e00.fits.fz\", \"site\": \"lsc\", \"instrument\": \"nres01\", \"epoch\": \"20180313\", \"request_num\": \"0001446787\", \"obstype\": \"TARGET\", \"filter\": null, \"processName\": \"MainProcess\"}\n",
      "2020-08-27 12:57:23.774     INFO:    calibrations: Applying master calibration | {\"filename\": \"lscnrs01-fl09-20180313-0031-e00.fits.fz\", \"site\": \"lsc\", \"instrument\": \"nres01\", \"epoch\": \"20180313\", \"request_num\": \"0001446787\", \"obstype\": \"TARGET\", \"filter\": null, \"master_calibration\": \"bpm-lsc-nres01-fl09-20180215.fits.fz\", \"processName\": \"MainProcess\"}\n",
      "2020-08-27 12:57:23.809     INFO:          stages: Running banzai.stages.OverscanSubtractor | {\"filename\": \"lscnrs01-fl09-20180313-0031-e00.fits.fz\", \"site\": \"lsc\", \"instrument\": \"nres01\", \"epoch\": \"20180313\", \"request_num\": \"0001446787\", \"obstype\": \"TARGET\", \"filter\": null, \"processName\": \"MainProcess\"}\n",
      "2020-08-27 12:57:23.837     INFO:          stages: Running banzai.stages.GainNormalizer | {\"filename\": \"lscnrs01-fl09-20180313-0031-e00.fits.fz\", \"site\": \"lsc\", \"instrument\": \"nres01\", \"epoch\": \"20180313\", \"request_num\": \"0001446787\", \"obstype\": \"TARGET\", \"filter\": null, \"processName\": \"MainProcess\"}\n",
      "2020-08-27 12:57:23.838     INFO:            gain: Multiplying by gain | {\"filename\": \"lscnrs01-fl09-20180313-0031-e00.fits.fz\", \"site\": \"lsc\", \"instrument\": \"nres01\", \"epoch\": \"20180313\", \"request_num\": \"0001446787\", \"obstype\": \"TARGET\", \"filter\": null, \"processName\": \"MainProcess\"}\n",
      "2020-08-27 12:57:23.872     INFO:          stages: Running banzai.stages.Trimmer | {\"filename\": \"lscnrs01-fl09-20180313-0031-e00.fits.fz\", \"site\": \"lsc\", \"instrument\": \"nres01\", \"epoch\": \"20180313\", \"request_num\": \"0001446787\", \"obstype\": \"TARGET\", \"filter\": null, \"processName\": \"MainProcess\"}\n",
      "2020-08-27 12:57:23.873     INFO:            trim: Trimming image | {\"filename\": \"lscnrs01-fl09-20180313-0031-e00.fits.fz\", \"site\": \"lsc\", \"instrument\": \"nres01\", \"epoch\": \"20180313\", \"request_num\": \"0001446787\", \"obstype\": \"TARGET\", \"filter\": null, \"processName\": \"MainProcess\"}\n",
      "2020-08-27 12:57:24.131     INFO:          stages: Running banzai.stages.BiasSubtractor | {\"filename\": \"lscnrs01-fl09-20180313-0031-e00.fits.fz\", \"site\": \"lsc\", \"instrument\": \"nres01\", \"epoch\": \"20180313\", \"request_num\": \"0001446787\", \"obstype\": \"TARGET\", \"filter\": null, \"processName\": \"MainProcess\"}\n",
      "2020-08-27 12:57:24.842     INFO:    calibrations: Applying master calibration | {\"filename\": \"lscnrs01-fl09-20180313-0031-e00.fits.fz\", \"site\": \"lsc\", \"instrument\": \"nres01\", \"epoch\": \"20180313\", \"request_num\": \"0001446787\", \"obstype\": \"TARGET\", \"filter\": null, \"master_calibration\": \"lscnrs01-fl09-20180313-bias-bin1x1.fits.fz\", \"processName\": \"MainProcess\"}\n",
      "2020-08-27 12:57:25.041     INFO:          stages: Running banzai.stages.PoissonInitializer | {\"filename\": \"lscnrs01-fl09-20180313-0031-e00.fits.fz\", \"site\": \"lsc\", \"instrument\": \"nres01\", \"epoch\": \"20180313\", \"request_num\": \"0001446787\", \"obstype\": \"TARGET\", \"filter\": null, \"processName\": \"MainProcess\"}\n"
     ]
    },
    {
     "name": "stdout",
     "output_type": "stream",
     "text": [
      "2020-08-27 12:57:25.158     INFO:          stages: Running banzai.stages.DarkSubtractor | {\"filename\": \"lscnrs01-fl09-20180313-0031-e00.fits.fz\", \"site\": \"lsc\", \"instrument\": \"nres01\", \"epoch\": \"20180313\", \"request_num\": \"0001446787\", \"obstype\": \"TARGET\", \"filter\": null, \"processName\": \"MainProcess\"}\n",
      "2020-08-27 12:57:25.858     INFO:    calibrations: Applying master calibration | {\"filename\": \"lscnrs01-fl09-20180313-0031-e00.fits.fz\", \"site\": \"lsc\", \"instrument\": \"nres01\", \"epoch\": \"20180313\", \"request_num\": \"0001446787\", \"obstype\": \"TARGET\", \"filter\": null, \"master_calibration\": \"lscnrs01-fl09-20180313-dark-bin1x1.fits.fz\", \"processName\": \"MainProcess\"}\n",
      "2020-08-27 12:57:26.030     INFO:          stages: Running banzai.stages.FlatLoader | {\"filename\": \"lscnrs01-fl09-20180313-0031-e00.fits.fz\", \"site\": \"lsc\", \"instrument\": \"nres01\", \"epoch\": \"20180313\", \"request_num\": \"0001446787\", \"obstype\": \"TARGET\", \"filter\": null, \"processName\": \"MainProcess\"}\n",
      "2020-08-27 12:57:27.374     INFO:    calibrations: Applying master calibration | {\"filename\": \"lscnrs01-fl09-20180313-0031-e00.fits.fz\", \"site\": \"lsc\", \"instrument\": \"nres01\", \"epoch\": \"20180313\", \"request_num\": \"0001446787\", \"obstype\": \"TARGET\", \"filter\": null, \"master_calibration\": \"lscnrs01-fl09-20180313-lampflat-bin1x1-110.fits.fz\", \"processName\": \"MainProcess\"}\n",
      "2020-08-27 12:57:27.493     INFO:          stages: Running banzai.stages.BackgroundSubtractor | {\"filename\": \"lscnrs01-fl09-20180313-0031-e00.fits.fz\", \"site\": \"lsc\", \"instrument\": \"nres01\", \"epoch\": \"20180313\", \"request_num\": \"0001446787\", \"obstype\": \"TARGET\", \"filter\": null, \"processName\": \"MainProcess\"}\n",
      "2020-08-27 12:57:27.887     INFO:          stages: Running banzai.stages.ArcLoader | {\"filename\": \"lscnrs01-fl09-20180313-0031-e00.fits.fz\", \"site\": \"lsc\", \"instrument\": \"nres01\", \"epoch\": \"20180313\", \"request_num\": \"0001446787\", \"obstype\": \"TARGET\", \"filter\": null, \"processName\": \"MainProcess\"}\n",
      "2020-08-27 12:57:29.548     INFO:    calibrations: Applying master calibration | {\"filename\": \"lscnrs01-fl09-20180313-0031-e00.fits.fz\", \"site\": \"lsc\", \"instrument\": \"nres01\", \"epoch\": \"20180313\", \"request_num\": \"0001446787\", \"obstype\": \"TARGET\", \"filter\": null, \"master_calibration\": \"lscnrs01-fl09-20180313-double-bin1x1-110.fits.fz\", \"processName\": \"MainProcess\"}\n",
      "2020-08-27 12:57:29.691     INFO:          stages: Running banzai.stages.GetOptimalExtractionWeights | {\"filename\": \"lscnrs01-fl09-20180313-0031-e00.fits.fz\", \"site\": \"lsc\", \"instrument\": \"nres01\", \"epoch\": \"20180313\", \"request_num\": \"0001446787\", \"obstype\": \"TARGET\", \"filter\": null, \"processName\": \"MainProcess\"}\n",
      "2020-08-27 12:57:45.458     INFO:          stages: Running banzai.stages.WeightedExtract | {\"filename\": \"lscnrs01-fl09-20180313-0031-e00.fits.fz\", \"site\": \"lsc\", \"instrument\": \"nres01\", \"epoch\": \"20180313\", \"request_num\": \"0001446787\", \"obstype\": \"TARGET\", \"filter\": null, \"processName\": \"MainProcess\"}\n",
      "2020-08-27 12:58:01.240     INFO:          stages: Running banzai.stages.ContinuumNormalizer | {\"filename\": \"lscnrs01-fl09-20180313-0031-e00.fits.fz\", \"site\": \"lsc\", \"instrument\": \"nres01\", \"epoch\": \"20180313\", \"request_num\": \"0001446787\", \"obstype\": \"TARGET\", \"filter\": null, \"processName\": \"MainProcess\"}\n",
      "2020-08-27 12:58:01.780     INFO:          stages: Running banzai.stages.RVCalculator | {\"filename\": \"lscnrs01-fl09-20180313-0031-e00.fits.fz\", \"site\": \"lsc\", \"instrument\": \"nres01\", \"epoch\": \"20180313\", \"request_num\": \"0001446787\", \"obstype\": \"TARGET\", \"filter\": null, \"processName\": \"MainProcess\"}\n",
      "2020-08-27 12:58:01.797     INFO:              rv: Cross correlating for order: 75 | {\"filename\": \"lscnrs01-fl09-20180313-0031-e00.fits.fz\", \"site\": \"lsc\", \"instrument\": \"nres01\", \"epoch\": \"20180313\", \"request_num\": \"0001446787\", \"obstype\": \"TARGET\", \"filter\": null, \"processName\": \"MainProcess\"}\n",
      "2020-08-27 12:58:02.195     INFO:              rv: Cross correlating for order: 76 | {\"filename\": \"lscnrs01-fl09-20180313-0031-e00.fits.fz\", \"site\": \"lsc\", \"instrument\": \"nres01\", \"epoch\": \"20180313\", \"request_num\": \"0001446787\", \"obstype\": \"TARGET\", \"filter\": null, \"processName\": \"MainProcess\"}\n",
      "2020-08-27 12:58:02.575     INFO:              rv: Cross correlating for order: 77 | {\"filename\": \"lscnrs01-fl09-20180313-0031-e00.fits.fz\", \"site\": \"lsc\", \"instrument\": \"nres01\", \"epoch\": \"20180313\", \"request_num\": \"0001446787\", \"obstype\": \"TARGET\", \"filter\": null, \"processName\": \"MainProcess\"}\n",
      "2020-08-27 12:58:02.942     INFO:              rv: Cross correlating for order: 78 | {\"filename\": \"lscnrs01-fl09-20180313-0031-e00.fits.fz\", \"site\": \"lsc\", \"instrument\": \"nres01\", \"epoch\": \"20180313\", \"request_num\": \"0001446787\", \"obstype\": \"TARGET\", \"filter\": null, \"processName\": \"MainProcess\"}\n",
      "2020-08-27 12:58:03.311     INFO:              rv: Cross correlating for order: 79 | {\"filename\": \"lscnrs01-fl09-20180313-0031-e00.fits.fz\", \"site\": \"lsc\", \"instrument\": \"nres01\", \"epoch\": \"20180313\", \"request_num\": \"0001446787\", \"obstype\": \"TARGET\", \"filter\": null, \"processName\": \"MainProcess\"}\n",
      "2020-08-27 12:58:03.677     INFO:              rv: Cross correlating for order: 80 | {\"filename\": \"lscnrs01-fl09-20180313-0031-e00.fits.fz\", \"site\": \"lsc\", \"instrument\": \"nres01\", \"epoch\": \"20180313\", \"request_num\": \"0001446787\", \"obstype\": \"TARGET\", \"filter\": null, \"processName\": \"MainProcess\"}\n",
      "2020-08-27 12:58:04.042     INFO:              rv: Cross correlating for order: 81 | {\"filename\": \"lscnrs01-fl09-20180313-0031-e00.fits.fz\", \"site\": \"lsc\", \"instrument\": \"nres01\", \"epoch\": \"20180313\", \"request_num\": \"0001446787\", \"obstype\": \"TARGET\", \"filter\": null, \"processName\": \"MainProcess\"}\n",
      "2020-08-27 12:58:04.413     INFO:              rv: Cross correlating for order: 82 | {\"filename\": \"lscnrs01-fl09-20180313-0031-e00.fits.fz\", \"site\": \"lsc\", \"instrument\": \"nres01\", \"epoch\": \"20180313\", \"request_num\": \"0001446787\", \"obstype\": \"TARGET\", \"filter\": null, \"processName\": \"MainProcess\"}\n",
      "2020-08-27 12:58:04.780     INFO:              rv: Cross correlating for order: 83 | {\"filename\": \"lscnrs01-fl09-20180313-0031-e00.fits.fz\", \"site\": \"lsc\", \"instrument\": \"nres01\", \"epoch\": \"20180313\", \"request_num\": \"0001446787\", \"obstype\": \"TARGET\", \"filter\": null, \"processName\": \"MainProcess\"}\n",
      "2020-08-27 12:58:05.137     INFO:              rv: Cross correlating for order: 84 | {\"filename\": \"lscnrs01-fl09-20180313-0031-e00.fits.fz\", \"site\": \"lsc\", \"instrument\": \"nres01\", \"epoch\": \"20180313\", \"request_num\": \"0001446787\", \"obstype\": \"TARGET\", \"filter\": null, \"processName\": \"MainProcess\"}\n",
      "2020-08-27 12:58:05.496     INFO:              rv: Cross correlating for order: 85 | {\"filename\": \"lscnrs01-fl09-20180313-0031-e00.fits.fz\", \"site\": \"lsc\", \"instrument\": \"nres01\", \"epoch\": \"20180313\", \"request_num\": \"0001446787\", \"obstype\": \"TARGET\", \"filter\": null, \"processName\": \"MainProcess\"}\n",
      "2020-08-27 12:58:05.854     INFO:              rv: Cross correlating for order: 86 | {\"filename\": \"lscnrs01-fl09-20180313-0031-e00.fits.fz\", \"site\": \"lsc\", \"instrument\": \"nres01\", \"epoch\": \"20180313\", \"request_num\": \"0001446787\", \"obstype\": \"TARGET\", \"filter\": null, \"processName\": \"MainProcess\"}\n",
      "2020-08-27 12:58:06.214     INFO:              rv: Cross correlating for order: 87 | {\"filename\": \"lscnrs01-fl09-20180313-0031-e00.fits.fz\", \"site\": \"lsc\", \"instrument\": \"nres01\", \"epoch\": \"20180313\", \"request_num\": \"0001446787\", \"obstype\": \"TARGET\", \"filter\": null, \"processName\": \"MainProcess\"}\n",
      "2020-08-27 12:58:06.573     INFO:              rv: Cross correlating for order: 88 | {\"filename\": \"lscnrs01-fl09-20180313-0031-e00.fits.fz\", \"site\": \"lsc\", \"instrument\": \"nres01\", \"epoch\": \"20180313\", \"request_num\": \"0001446787\", \"obstype\": \"TARGET\", \"filter\": null, \"processName\": \"MainProcess\"}\n",
      "2020-08-27 12:58:06.939     INFO:              rv: Cross correlating for order: 89 | {\"filename\": \"lscnrs01-fl09-20180313-0031-e00.fits.fz\", \"site\": \"lsc\", \"instrument\": \"nres01\", \"epoch\": \"20180313\", \"request_num\": \"0001446787\", \"obstype\": \"TARGET\", \"filter\": null, \"processName\": \"MainProcess\"}\n",
      "2020-08-27 12:58:07.294     INFO:              rv: Cross correlating for order: 90 | {\"filename\": \"lscnrs01-fl09-20180313-0031-e00.fits.fz\", \"site\": \"lsc\", \"instrument\": \"nres01\", \"epoch\": \"20180313\", \"request_num\": \"0001446787\", \"obstype\": \"TARGET\", \"filter\": null, \"processName\": \"MainProcess\"}\n"
     ]
    },
    {
     "name": "stdout",
     "output_type": "stream",
     "text": [
      "2020-08-27 12:58:07.648     INFO:              rv: Cross correlating for order: 91 | {\"filename\": \"lscnrs01-fl09-20180313-0031-e00.fits.fz\", \"site\": \"lsc\", \"instrument\": \"nres01\", \"epoch\": \"20180313\", \"request_num\": \"0001446787\", \"obstype\": \"TARGET\", \"filter\": null, \"processName\": \"MainProcess\"}\n",
      "2020-08-27 12:58:08.000     INFO:              rv: Cross correlating for order: 92 | {\"filename\": \"lscnrs01-fl09-20180313-0031-e00.fits.fz\", \"site\": \"lsc\", \"instrument\": \"nres01\", \"epoch\": \"20180313\", \"request_num\": \"0001446787\", \"obstype\": \"TARGET\", \"filter\": null, \"processName\": \"MainProcess\"}\n",
      "2020-08-27 12:58:08.351     INFO:              rv: Cross correlating for order: 93 | {\"filename\": \"lscnrs01-fl09-20180313-0031-e00.fits.fz\", \"site\": \"lsc\", \"instrument\": \"nres01\", \"epoch\": \"20180313\", \"request_num\": \"0001446787\", \"obstype\": \"TARGET\", \"filter\": null, \"processName\": \"MainProcess\"}\n",
      "2020-08-27 12:58:08.708     INFO:              rv: Cross correlating for order: 94 | {\"filename\": \"lscnrs01-fl09-20180313-0031-e00.fits.fz\", \"site\": \"lsc\", \"instrument\": \"nres01\", \"epoch\": \"20180313\", \"request_num\": \"0001446787\", \"obstype\": \"TARGET\", \"filter\": null, \"processName\": \"MainProcess\"}\n",
      "2020-08-27 12:58:09.074     INFO:              rv: Cross correlating for order: 95 | {\"filename\": \"lscnrs01-fl09-20180313-0031-e00.fits.fz\", \"site\": \"lsc\", \"instrument\": \"nres01\", \"epoch\": \"20180313\", \"request_num\": \"0001446787\", \"obstype\": \"TARGET\", \"filter\": null, \"processName\": \"MainProcess\"}\n",
      "2020-08-27 12:58:09.442     INFO:              rv: Cross correlating for order: 96 | {\"filename\": \"lscnrs01-fl09-20180313-0031-e00.fits.fz\", \"site\": \"lsc\", \"instrument\": \"nres01\", \"epoch\": \"20180313\", \"request_num\": \"0001446787\", \"obstype\": \"TARGET\", \"filter\": null, \"processName\": \"MainProcess\"}\n",
      "2020-08-27 12:58:09.803     INFO:              rv: Cross correlating for order: 97 | {\"filename\": \"lscnrs01-fl09-20180313-0031-e00.fits.fz\", \"site\": \"lsc\", \"instrument\": \"nres01\", \"epoch\": \"20180313\", \"request_num\": \"0001446787\", \"obstype\": \"TARGET\", \"filter\": null, \"processName\": \"MainProcess\"}\n",
      "2020-08-27 12:58:10.160     INFO:              rv: Cross correlating for order: 98 | {\"filename\": \"lscnrs01-fl09-20180313-0031-e00.fits.fz\", \"site\": \"lsc\", \"instrument\": \"nres01\", \"epoch\": \"20180313\", \"request_num\": \"0001446787\", \"obstype\": \"TARGET\", \"filter\": null, \"processName\": \"MainProcess\"}\n",
      "2020-08-27 12:58:10.522     INFO:              rv: Cross correlating for order: 99 | {\"filename\": \"lscnrs01-fl09-20180313-0031-e00.fits.fz\", \"site\": \"lsc\", \"instrument\": \"nres01\", \"epoch\": \"20180313\", \"request_num\": \"0001446787\", \"obstype\": \"TARGET\", \"filter\": null, \"processName\": \"MainProcess\"}\n",
      "2020-08-27 12:58:10.871     INFO:              rv: Cross correlating for order: 100 | {\"filename\": \"lscnrs01-fl09-20180313-0031-e00.fits.fz\", \"site\": \"lsc\", \"instrument\": \"nres01\", \"epoch\": \"20180313\", \"request_num\": \"0001446787\", \"obstype\": \"TARGET\", \"filter\": null, \"processName\": \"MainProcess\"}\n",
      "2020-08-27 12:58:11.215     INFO:              rv: Cross correlating for order: 75 | {\"filename\": \"lscnrs01-fl09-20180313-0031-e00.fits.fz\", \"site\": \"lsc\", \"instrument\": \"nres01\", \"epoch\": \"20180313\", \"request_num\": \"0001446787\", \"obstype\": \"TARGET\", \"filter\": null, \"processName\": \"MainProcess\"}\n",
      "2020-08-27 12:58:11.608     INFO:              rv: Cross correlating for order: 76 | {\"filename\": \"lscnrs01-fl09-20180313-0031-e00.fits.fz\", \"site\": \"lsc\", \"instrument\": \"nres01\", \"epoch\": \"20180313\", \"request_num\": \"0001446787\", \"obstype\": \"TARGET\", \"filter\": null, \"processName\": \"MainProcess\"}\n",
      "2020-08-27 12:58:11.992     INFO:              rv: Cross correlating for order: 77 | {\"filename\": \"lscnrs01-fl09-20180313-0031-e00.fits.fz\", \"site\": \"lsc\", \"instrument\": \"nres01\", \"epoch\": \"20180313\", \"request_num\": \"0001446787\", \"obstype\": \"TARGET\", \"filter\": null, \"processName\": \"MainProcess\"}\n",
      "2020-08-27 12:58:12.376     INFO:              rv: Cross correlating for order: 78 | {\"filename\": \"lscnrs01-fl09-20180313-0031-e00.fits.fz\", \"site\": \"lsc\", \"instrument\": \"nres01\", \"epoch\": \"20180313\", \"request_num\": \"0001446787\", \"obstype\": \"TARGET\", \"filter\": null, \"processName\": \"MainProcess\"}\n",
      "2020-08-27 12:58:12.756     INFO:              rv: Cross correlating for order: 79 | {\"filename\": \"lscnrs01-fl09-20180313-0031-e00.fits.fz\", \"site\": \"lsc\", \"instrument\": \"nres01\", \"epoch\": \"20180313\", \"request_num\": \"0001446787\", \"obstype\": \"TARGET\", \"filter\": null, \"processName\": \"MainProcess\"}\n",
      "2020-08-27 12:58:13.135     INFO:              rv: Cross correlating for order: 80 | {\"filename\": \"lscnrs01-fl09-20180313-0031-e00.fits.fz\", \"site\": \"lsc\", \"instrument\": \"nres01\", \"epoch\": \"20180313\", \"request_num\": \"0001446787\", \"obstype\": \"TARGET\", \"filter\": null, \"processName\": \"MainProcess\"}\n",
      "2020-08-27 12:58:13.514     INFO:              rv: Cross correlating for order: 81 | {\"filename\": \"lscnrs01-fl09-20180313-0031-e00.fits.fz\", \"site\": \"lsc\", \"instrument\": \"nres01\", \"epoch\": \"20180313\", \"request_num\": \"0001446787\", \"obstype\": \"TARGET\", \"filter\": null, \"processName\": \"MainProcess\"}\n",
      "2020-08-27 12:58:13.888     INFO:              rv: Cross correlating for order: 82 | {\"filename\": \"lscnrs01-fl09-20180313-0031-e00.fits.fz\", \"site\": \"lsc\", \"instrument\": \"nres01\", \"epoch\": \"20180313\", \"request_num\": \"0001446787\", \"obstype\": \"TARGET\", \"filter\": null, \"processName\": \"MainProcess\"}\n",
      "2020-08-27 12:58:14.262     INFO:              rv: Cross correlating for order: 83 | {\"filename\": \"lscnrs01-fl09-20180313-0031-e00.fits.fz\", \"site\": \"lsc\", \"instrument\": \"nres01\", \"epoch\": \"20180313\", \"request_num\": \"0001446787\", \"obstype\": \"TARGET\", \"filter\": null, \"processName\": \"MainProcess\"}\n",
      "2020-08-27 12:58:14.636     INFO:              rv: Cross correlating for order: 84 | {\"filename\": \"lscnrs01-fl09-20180313-0031-e00.fits.fz\", \"site\": \"lsc\", \"instrument\": \"nres01\", \"epoch\": \"20180313\", \"request_num\": \"0001446787\", \"obstype\": \"TARGET\", \"filter\": null, \"processName\": \"MainProcess\"}\n",
      "2020-08-27 12:58:15.009     INFO:              rv: Cross correlating for order: 85 | {\"filename\": \"lscnrs01-fl09-20180313-0031-e00.fits.fz\", \"site\": \"lsc\", \"instrument\": \"nres01\", \"epoch\": \"20180313\", \"request_num\": \"0001446787\", \"obstype\": \"TARGET\", \"filter\": null, \"processName\": \"MainProcess\"}\n",
      "2020-08-27 12:58:15.387     INFO:              rv: Cross correlating for order: 86 | {\"filename\": \"lscnrs01-fl09-20180313-0031-e00.fits.fz\", \"site\": \"lsc\", \"instrument\": \"nres01\", \"epoch\": \"20180313\", \"request_num\": \"0001446787\", \"obstype\": \"TARGET\", \"filter\": null, \"processName\": \"MainProcess\"}\n",
      "2020-08-27 12:58:15.756     INFO:              rv: Cross correlating for order: 87 | {\"filename\": \"lscnrs01-fl09-20180313-0031-e00.fits.fz\", \"site\": \"lsc\", \"instrument\": \"nres01\", \"epoch\": \"20180313\", \"request_num\": \"0001446787\", \"obstype\": \"TARGET\", \"filter\": null, \"processName\": \"MainProcess\"}\n",
      "2020-08-27 12:58:16.122     INFO:              rv: Cross correlating for order: 88 | {\"filename\": \"lscnrs01-fl09-20180313-0031-e00.fits.fz\", \"site\": \"lsc\", \"instrument\": \"nres01\", \"epoch\": \"20180313\", \"request_num\": \"0001446787\", \"obstype\": \"TARGET\", \"filter\": null, \"processName\": \"MainProcess\"}\n",
      "2020-08-27 12:58:16.488     INFO:              rv: Cross correlating for order: 89 | {\"filename\": \"lscnrs01-fl09-20180313-0031-e00.fits.fz\", \"site\": \"lsc\", \"instrument\": \"nres01\", \"epoch\": \"20180313\", \"request_num\": \"0001446787\", \"obstype\": \"TARGET\", \"filter\": null, \"processName\": \"MainProcess\"}\n",
      "2020-08-27 12:58:16.855     INFO:              rv: Cross correlating for order: 90 | {\"filename\": \"lscnrs01-fl09-20180313-0031-e00.fits.fz\", \"site\": \"lsc\", \"instrument\": \"nres01\", \"epoch\": \"20180313\", \"request_num\": \"0001446787\", \"obstype\": \"TARGET\", \"filter\": null, \"processName\": \"MainProcess\"}\n",
      "2020-08-27 12:58:17.229     INFO:              rv: Cross correlating for order: 91 | {\"filename\": \"lscnrs01-fl09-20180313-0031-e00.fits.fz\", \"site\": \"lsc\", \"instrument\": \"nres01\", \"epoch\": \"20180313\", \"request_num\": \"0001446787\", \"obstype\": \"TARGET\", \"filter\": null, \"processName\": \"MainProcess\"}\n",
      "2020-08-27 12:58:17.589     INFO:              rv: Cross correlating for order: 92 | {\"filename\": \"lscnrs01-fl09-20180313-0031-e00.fits.fz\", \"site\": \"lsc\", \"instrument\": \"nres01\", \"epoch\": \"20180313\", \"request_num\": \"0001446787\", \"obstype\": \"TARGET\", \"filter\": null, \"processName\": \"MainProcess\"}\n"
     ]
    },
    {
     "name": "stdout",
     "output_type": "stream",
     "text": [
      "2020-08-27 12:58:17.950     INFO:              rv: Cross correlating for order: 93 | {\"filename\": \"lscnrs01-fl09-20180313-0031-e00.fits.fz\", \"site\": \"lsc\", \"instrument\": \"nres01\", \"epoch\": \"20180313\", \"request_num\": \"0001446787\", \"obstype\": \"TARGET\", \"filter\": null, \"processName\": \"MainProcess\"}\n",
      "2020-08-27 12:58:18.336     INFO:              rv: Cross correlating for order: 94 | {\"filename\": \"lscnrs01-fl09-20180313-0031-e00.fits.fz\", \"site\": \"lsc\", \"instrument\": \"nres01\", \"epoch\": \"20180313\", \"request_num\": \"0001446787\", \"obstype\": \"TARGET\", \"filter\": null, \"processName\": \"MainProcess\"}\n",
      "2020-08-27 12:58:18.719     INFO:              rv: Cross correlating for order: 95 | {\"filename\": \"lscnrs01-fl09-20180313-0031-e00.fits.fz\", \"site\": \"lsc\", \"instrument\": \"nres01\", \"epoch\": \"20180313\", \"request_num\": \"0001446787\", \"obstype\": \"TARGET\", \"filter\": null, \"processName\": \"MainProcess\"}\n",
      "2020-08-27 12:58:19.097     INFO:              rv: Cross correlating for order: 96 | {\"filename\": \"lscnrs01-fl09-20180313-0031-e00.fits.fz\", \"site\": \"lsc\", \"instrument\": \"nres01\", \"epoch\": \"20180313\", \"request_num\": \"0001446787\", \"obstype\": \"TARGET\", \"filter\": null, \"processName\": \"MainProcess\"}\n",
      "2020-08-27 12:58:19.468     INFO:              rv: Cross correlating for order: 97 | {\"filename\": \"lscnrs01-fl09-20180313-0031-e00.fits.fz\", \"site\": \"lsc\", \"instrument\": \"nres01\", \"epoch\": \"20180313\", \"request_num\": \"0001446787\", \"obstype\": \"TARGET\", \"filter\": null, \"processName\": \"MainProcess\"}\n",
      "2020-08-27 12:58:19.839     INFO:              rv: Cross correlating for order: 98 | {\"filename\": \"lscnrs01-fl09-20180313-0031-e00.fits.fz\", \"site\": \"lsc\", \"instrument\": \"nres01\", \"epoch\": \"20180313\", \"request_num\": \"0001446787\", \"obstype\": \"TARGET\", \"filter\": null, \"processName\": \"MainProcess\"}\n",
      "2020-08-27 12:58:20.213     INFO:              rv: Cross correlating for order: 99 | {\"filename\": \"lscnrs01-fl09-20180313-0031-e00.fits.fz\", \"site\": \"lsc\", \"instrument\": \"nres01\", \"epoch\": \"20180313\", \"request_num\": \"0001446787\", \"obstype\": \"TARGET\", \"filter\": null, \"processName\": \"MainProcess\"}\n",
      "2020-08-27 12:58:20.579     INFO:              rv: Cross correlating for order: 100 | {\"filename\": \"lscnrs01-fl09-20180313-0031-e00.fits.fz\", \"site\": \"lsc\", \"instrument\": \"nres01\", \"epoch\": \"20180313\", \"request_num\": \"0001446787\", \"obstype\": \"TARGET\", \"filter\": null, \"processName\": \"MainProcess\"}\n",
      "2020-08-27 12:58:29.543     INFO:          stages: Running banzai.stages.BadPixelMaskLoader | {\"filename\": \"lscnrs01-fl09-20180313-0029-e00.fits.fz\", \"site\": \"lsc\", \"instrument\": \"nres01\", \"epoch\": \"20180313\", \"request_num\": \"0001446787\", \"obstype\": \"TARGET\", \"filter\": null, \"processName\": \"MainProcess\"}\n",
      "2020-08-27 12:58:29.734     INFO:    calibrations: Applying master calibration | {\"filename\": \"lscnrs01-fl09-20180313-0029-e00.fits.fz\", \"site\": \"lsc\", \"instrument\": \"nres01\", \"epoch\": \"20180313\", \"request_num\": \"0001446787\", \"obstype\": \"TARGET\", \"filter\": null, \"master_calibration\": \"bpm-lsc-nres01-fl09-20180215.fits.fz\", \"processName\": \"MainProcess\"}\n",
      "2020-08-27 12:58:29.772     INFO:          stages: Running banzai.stages.OverscanSubtractor | {\"filename\": \"lscnrs01-fl09-20180313-0029-e00.fits.fz\", \"site\": \"lsc\", \"instrument\": \"nres01\", \"epoch\": \"20180313\", \"request_num\": \"0001446787\", \"obstype\": \"TARGET\", \"filter\": null, \"processName\": \"MainProcess\"}\n",
      "2020-08-27 12:58:29.800     INFO:          stages: Running banzai.stages.GainNormalizer | {\"filename\": \"lscnrs01-fl09-20180313-0029-e00.fits.fz\", \"site\": \"lsc\", \"instrument\": \"nres01\", \"epoch\": \"20180313\", \"request_num\": \"0001446787\", \"obstype\": \"TARGET\", \"filter\": null, \"processName\": \"MainProcess\"}\n",
      "2020-08-27 12:58:29.801     INFO:            gain: Multiplying by gain | {\"filename\": \"lscnrs01-fl09-20180313-0029-e00.fits.fz\", \"site\": \"lsc\", \"instrument\": \"nres01\", \"epoch\": \"20180313\", \"request_num\": \"0001446787\", \"obstype\": \"TARGET\", \"filter\": null, \"processName\": \"MainProcess\"}\n",
      "2020-08-27 12:58:29.834     INFO:          stages: Running banzai.stages.Trimmer | {\"filename\": \"lscnrs01-fl09-20180313-0029-e00.fits.fz\", \"site\": \"lsc\", \"instrument\": \"nres01\", \"epoch\": \"20180313\", \"request_num\": \"0001446787\", \"obstype\": \"TARGET\", \"filter\": null, \"processName\": \"MainProcess\"}\n",
      "2020-08-27 12:58:29.835     INFO:            trim: Trimming image | {\"filename\": \"lscnrs01-fl09-20180313-0029-e00.fits.fz\", \"site\": \"lsc\", \"instrument\": \"nres01\", \"epoch\": \"20180313\", \"request_num\": \"0001446787\", \"obstype\": \"TARGET\", \"filter\": null, \"processName\": \"MainProcess\"}\n",
      "2020-08-27 12:58:30.091     INFO:          stages: Running banzai.stages.BiasSubtractor | {\"filename\": \"lscnrs01-fl09-20180313-0029-e00.fits.fz\", \"site\": \"lsc\", \"instrument\": \"nres01\", \"epoch\": \"20180313\", \"request_num\": \"0001446787\", \"obstype\": \"TARGET\", \"filter\": null, \"processName\": \"MainProcess\"}\n",
      "2020-08-27 12:58:30.791     INFO:    calibrations: Applying master calibration | {\"filename\": \"lscnrs01-fl09-20180313-0029-e00.fits.fz\", \"site\": \"lsc\", \"instrument\": \"nres01\", \"epoch\": \"20180313\", \"request_num\": \"0001446787\", \"obstype\": \"TARGET\", \"filter\": null, \"master_calibration\": \"lscnrs01-fl09-20180313-bias-bin1x1.fits.fz\", \"processName\": \"MainProcess\"}\n",
      "2020-08-27 12:58:30.991     INFO:          stages: Running banzai.stages.PoissonInitializer | {\"filename\": \"lscnrs01-fl09-20180313-0029-e00.fits.fz\", \"site\": \"lsc\", \"instrument\": \"nres01\", \"epoch\": \"20180313\", \"request_num\": \"0001446787\", \"obstype\": \"TARGET\", \"filter\": null, \"processName\": \"MainProcess\"}\n",
      "2020-08-27 12:58:31.108     INFO:          stages: Running banzai.stages.DarkSubtractor | {\"filename\": \"lscnrs01-fl09-20180313-0029-e00.fits.fz\", \"site\": \"lsc\", \"instrument\": \"nres01\", \"epoch\": \"20180313\", \"request_num\": \"0001446787\", \"obstype\": \"TARGET\", \"filter\": null, \"processName\": \"MainProcess\"}\n",
      "2020-08-27 12:58:31.815     INFO:    calibrations: Applying master calibration | {\"filename\": \"lscnrs01-fl09-20180313-0029-e00.fits.fz\", \"site\": \"lsc\", \"instrument\": \"nres01\", \"epoch\": \"20180313\", \"request_num\": \"0001446787\", \"obstype\": \"TARGET\", \"filter\": null, \"master_calibration\": \"lscnrs01-fl09-20180313-dark-bin1x1.fits.fz\", \"processName\": \"MainProcess\"}\n",
      "2020-08-27 12:58:31.987     INFO:          stages: Running banzai.stages.FlatLoader | {\"filename\": \"lscnrs01-fl09-20180313-0029-e00.fits.fz\", \"site\": \"lsc\", \"instrument\": \"nres01\", \"epoch\": \"20180313\", \"request_num\": \"0001446787\", \"obstype\": \"TARGET\", \"filter\": null, \"processName\": \"MainProcess\"}\n",
      "2020-08-27 12:58:33.338     INFO:    calibrations: Applying master calibration | {\"filename\": \"lscnrs01-fl09-20180313-0029-e00.fits.fz\", \"site\": \"lsc\", \"instrument\": \"nres01\", \"epoch\": \"20180313\", \"request_num\": \"0001446787\", \"obstype\": \"TARGET\", \"filter\": null, \"master_calibration\": \"lscnrs01-fl09-20180313-lampflat-bin1x1-110.fits.fz\", \"processName\": \"MainProcess\"}\n",
      "2020-08-27 12:58:33.461     INFO:          stages: Running banzai.stages.BackgroundSubtractor | {\"filename\": \"lscnrs01-fl09-20180313-0029-e00.fits.fz\", \"site\": \"lsc\", \"instrument\": \"nres01\", \"epoch\": \"20180313\", \"request_num\": \"0001446787\", \"obstype\": \"TARGET\", \"filter\": null, \"processName\": \"MainProcess\"}\n",
      "2020-08-27 12:58:33.858     INFO:          stages: Running banzai.stages.ArcLoader | {\"filename\": \"lscnrs01-fl09-20180313-0029-e00.fits.fz\", \"site\": \"lsc\", \"instrument\": \"nres01\", \"epoch\": \"20180313\", \"request_num\": \"0001446787\", \"obstype\": \"TARGET\", \"filter\": null, \"processName\": \"MainProcess\"}\n",
      "2020-08-27 12:58:35.527     INFO:    calibrations: Applying master calibration | {\"filename\": \"lscnrs01-fl09-20180313-0029-e00.fits.fz\", \"site\": \"lsc\", \"instrument\": \"nres01\", \"epoch\": \"20180313\", \"request_num\": \"0001446787\", \"obstype\": \"TARGET\", \"filter\": null, \"master_calibration\": \"lscnrs01-fl09-20180313-double-bin1x1-110.fits.fz\", \"processName\": \"MainProcess\"}\n",
      "2020-08-27 12:58:35.666     INFO:          stages: Running banzai.stages.GetOptimalExtractionWeights | {\"filename\": \"lscnrs01-fl09-20180313-0029-e00.fits.fz\", \"site\": \"lsc\", \"instrument\": \"nres01\", \"epoch\": \"20180313\", \"request_num\": \"0001446787\", \"obstype\": \"TARGET\", \"filter\": null, \"processName\": \"MainProcess\"}\n",
      "2020-08-27 12:58:51.513     INFO:          stages: Running banzai.stages.WeightedExtract | {\"filename\": \"lscnrs01-fl09-20180313-0029-e00.fits.fz\", \"site\": \"lsc\", \"instrument\": \"nres01\", \"epoch\": \"20180313\", \"request_num\": \"0001446787\", \"obstype\": \"TARGET\", \"filter\": null, \"processName\": \"MainProcess\"}\n"
     ]
    },
    {
     "name": "stdout",
     "output_type": "stream",
     "text": [
      "2020-08-27 12:59:07.280     INFO:          stages: Running banzai.stages.ContinuumNormalizer | {\"filename\": \"lscnrs01-fl09-20180313-0029-e00.fits.fz\", \"site\": \"lsc\", \"instrument\": \"nres01\", \"epoch\": \"20180313\", \"request_num\": \"0001446787\", \"obstype\": \"TARGET\", \"filter\": null, \"processName\": \"MainProcess\"}\n",
      "2020-08-27 12:59:07.797     INFO:          stages: Running banzai.stages.RVCalculator | {\"filename\": \"lscnrs01-fl09-20180313-0029-e00.fits.fz\", \"site\": \"lsc\", \"instrument\": \"nres01\", \"epoch\": \"20180313\", \"request_num\": \"0001446787\", \"obstype\": \"TARGET\", \"filter\": null, \"processName\": \"MainProcess\"}\n",
      "2020-08-27 12:59:07.809     INFO:              rv: Cross correlating for order: 75 | {\"filename\": \"lscnrs01-fl09-20180313-0029-e00.fits.fz\", \"site\": \"lsc\", \"instrument\": \"nres01\", \"epoch\": \"20180313\", \"request_num\": \"0001446787\", \"obstype\": \"TARGET\", \"filter\": null, \"processName\": \"MainProcess\"}\n",
      "2020-08-27 12:59:08.204     INFO:              rv: Cross correlating for order: 76 | {\"filename\": \"lscnrs01-fl09-20180313-0029-e00.fits.fz\", \"site\": \"lsc\", \"instrument\": \"nres01\", \"epoch\": \"20180313\", \"request_num\": \"0001446787\", \"obstype\": \"TARGET\", \"filter\": null, \"processName\": \"MainProcess\"}\n",
      "2020-08-27 12:59:08.598     INFO:              rv: Cross correlating for order: 77 | {\"filename\": \"lscnrs01-fl09-20180313-0029-e00.fits.fz\", \"site\": \"lsc\", \"instrument\": \"nres01\", \"epoch\": \"20180313\", \"request_num\": \"0001446787\", \"obstype\": \"TARGET\", \"filter\": null, \"processName\": \"MainProcess\"}\n",
      "2020-08-27 12:59:08.982     INFO:              rv: Cross correlating for order: 78 | {\"filename\": \"lscnrs01-fl09-20180313-0029-e00.fits.fz\", \"site\": \"lsc\", \"instrument\": \"nres01\", \"epoch\": \"20180313\", \"request_num\": \"0001446787\", \"obstype\": \"TARGET\", \"filter\": null, \"processName\": \"MainProcess\"}\n",
      "2020-08-27 12:59:09.345     INFO:              rv: Cross correlating for order: 79 | {\"filename\": \"lscnrs01-fl09-20180313-0029-e00.fits.fz\", \"site\": \"lsc\", \"instrument\": \"nres01\", \"epoch\": \"20180313\", \"request_num\": \"0001446787\", \"obstype\": \"TARGET\", \"filter\": null, \"processName\": \"MainProcess\"}\n",
      "2020-08-27 12:59:09.708     INFO:              rv: Cross correlating for order: 80 | {\"filename\": \"lscnrs01-fl09-20180313-0029-e00.fits.fz\", \"site\": \"lsc\", \"instrument\": \"nres01\", \"epoch\": \"20180313\", \"request_num\": \"0001446787\", \"obstype\": \"TARGET\", \"filter\": null, \"processName\": \"MainProcess\"}\n",
      "2020-08-27 12:59:10.070     INFO:              rv: Cross correlating for order: 81 | {\"filename\": \"lscnrs01-fl09-20180313-0029-e00.fits.fz\", \"site\": \"lsc\", \"instrument\": \"nres01\", \"epoch\": \"20180313\", \"request_num\": \"0001446787\", \"obstype\": \"TARGET\", \"filter\": null, \"processName\": \"MainProcess\"}\n",
      "2020-08-27 12:59:10.431     INFO:              rv: Cross correlating for order: 82 | {\"filename\": \"lscnrs01-fl09-20180313-0029-e00.fits.fz\", \"site\": \"lsc\", \"instrument\": \"nres01\", \"epoch\": \"20180313\", \"request_num\": \"0001446787\", \"obstype\": \"TARGET\", \"filter\": null, \"processName\": \"MainProcess\"}\n",
      "2020-08-27 12:59:10.797     INFO:              rv: Cross correlating for order: 83 | {\"filename\": \"lscnrs01-fl09-20180313-0029-e00.fits.fz\", \"site\": \"lsc\", \"instrument\": \"nres01\", \"epoch\": \"20180313\", \"request_num\": \"0001446787\", \"obstype\": \"TARGET\", \"filter\": null, \"processName\": \"MainProcess\"}\n",
      "2020-08-27 12:59:11.162     INFO:              rv: Cross correlating for order: 84 | {\"filename\": \"lscnrs01-fl09-20180313-0029-e00.fits.fz\", \"site\": \"lsc\", \"instrument\": \"nres01\", \"epoch\": \"20180313\", \"request_num\": \"0001446787\", \"obstype\": \"TARGET\", \"filter\": null, \"processName\": \"MainProcess\"}\n",
      "2020-08-27 12:59:11.532     INFO:              rv: Cross correlating for order: 85 | {\"filename\": \"lscnrs01-fl09-20180313-0029-e00.fits.fz\", \"site\": \"lsc\", \"instrument\": \"nres01\", \"epoch\": \"20180313\", \"request_num\": \"0001446787\", \"obstype\": \"TARGET\", \"filter\": null, \"processName\": \"MainProcess\"}\n",
      "2020-08-27 12:59:11.886     INFO:              rv: Cross correlating for order: 86 | {\"filename\": \"lscnrs01-fl09-20180313-0029-e00.fits.fz\", \"site\": \"lsc\", \"instrument\": \"nres01\", \"epoch\": \"20180313\", \"request_num\": \"0001446787\", \"obstype\": \"TARGET\", \"filter\": null, \"processName\": \"MainProcess\"}\n",
      "2020-08-27 12:59:12.242     INFO:              rv: Cross correlating for order: 87 | {\"filename\": \"lscnrs01-fl09-20180313-0029-e00.fits.fz\", \"site\": \"lsc\", \"instrument\": \"nres01\", \"epoch\": \"20180313\", \"request_num\": \"0001446787\", \"obstype\": \"TARGET\", \"filter\": null, \"processName\": \"MainProcess\"}\n",
      "2020-08-27 12:59:12.598     INFO:              rv: Cross correlating for order: 88 | {\"filename\": \"lscnrs01-fl09-20180313-0029-e00.fits.fz\", \"site\": \"lsc\", \"instrument\": \"nres01\", \"epoch\": \"20180313\", \"request_num\": \"0001446787\", \"obstype\": \"TARGET\", \"filter\": null, \"processName\": \"MainProcess\"}\n",
      "2020-08-27 12:59:12.954     INFO:              rv: Cross correlating for order: 89 | {\"filename\": \"lscnrs01-fl09-20180313-0029-e00.fits.fz\", \"site\": \"lsc\", \"instrument\": \"nres01\", \"epoch\": \"20180313\", \"request_num\": \"0001446787\", \"obstype\": \"TARGET\", \"filter\": null, \"processName\": \"MainProcess\"}\n",
      "2020-08-27 12:59:13.309     INFO:              rv: Cross correlating for order: 90 | {\"filename\": \"lscnrs01-fl09-20180313-0029-e00.fits.fz\", \"site\": \"lsc\", \"instrument\": \"nres01\", \"epoch\": \"20180313\", \"request_num\": \"0001446787\", \"obstype\": \"TARGET\", \"filter\": null, \"processName\": \"MainProcess\"}\n",
      "2020-08-27 12:59:13.659     INFO:              rv: Cross correlating for order: 91 | {\"filename\": \"lscnrs01-fl09-20180313-0029-e00.fits.fz\", \"site\": \"lsc\", \"instrument\": \"nres01\", \"epoch\": \"20180313\", \"request_num\": \"0001446787\", \"obstype\": \"TARGET\", \"filter\": null, \"processName\": \"MainProcess\"}\n",
      "2020-08-27 12:59:14.009     INFO:              rv: Cross correlating for order: 92 | {\"filename\": \"lscnrs01-fl09-20180313-0029-e00.fits.fz\", \"site\": \"lsc\", \"instrument\": \"nres01\", \"epoch\": \"20180313\", \"request_num\": \"0001446787\", \"obstype\": \"TARGET\", \"filter\": null, \"processName\": \"MainProcess\"}\n",
      "2020-08-27 12:59:14.359     INFO:              rv: Cross correlating for order: 93 | {\"filename\": \"lscnrs01-fl09-20180313-0029-e00.fits.fz\", \"site\": \"lsc\", \"instrument\": \"nres01\", \"epoch\": \"20180313\", \"request_num\": \"0001446787\", \"obstype\": \"TARGET\", \"filter\": null, \"processName\": \"MainProcess\"}\n",
      "2020-08-27 12:59:14.720     INFO:              rv: Cross correlating for order: 94 | {\"filename\": \"lscnrs01-fl09-20180313-0029-e00.fits.fz\", \"site\": \"lsc\", \"instrument\": \"nres01\", \"epoch\": \"20180313\", \"request_num\": \"0001446787\", \"obstype\": \"TARGET\", \"filter\": null, \"processName\": \"MainProcess\"}\n",
      "2020-08-27 12:59:15.085     INFO:              rv: Cross correlating for order: 95 | {\"filename\": \"lscnrs01-fl09-20180313-0029-e00.fits.fz\", \"site\": \"lsc\", \"instrument\": \"nres01\", \"epoch\": \"20180313\", \"request_num\": \"0001446787\", \"obstype\": \"TARGET\", \"filter\": null, \"processName\": \"MainProcess\"}\n",
      "2020-08-27 12:59:15.448     INFO:              rv: Cross correlating for order: 96 | {\"filename\": \"lscnrs01-fl09-20180313-0029-e00.fits.fz\", \"site\": \"lsc\", \"instrument\": \"nres01\", \"epoch\": \"20180313\", \"request_num\": \"0001446787\", \"obstype\": \"TARGET\", \"filter\": null, \"processName\": \"MainProcess\"}\n",
      "2020-08-27 12:59:15.814     INFO:              rv: Cross correlating for order: 97 | {\"filename\": \"lscnrs01-fl09-20180313-0029-e00.fits.fz\", \"site\": \"lsc\", \"instrument\": \"nres01\", \"epoch\": \"20180313\", \"request_num\": \"0001446787\", \"obstype\": \"TARGET\", \"filter\": null, \"processName\": \"MainProcess\"}\n",
      "2020-08-27 12:59:16.168     INFO:              rv: Cross correlating for order: 98 | {\"filename\": \"lscnrs01-fl09-20180313-0029-e00.fits.fz\", \"site\": \"lsc\", \"instrument\": \"nres01\", \"epoch\": \"20180313\", \"request_num\": \"0001446787\", \"obstype\": \"TARGET\", \"filter\": null, \"processName\": \"MainProcess\"}\n",
      "2020-08-27 12:59:16.522     INFO:              rv: Cross correlating for order: 99 | {\"filename\": \"lscnrs01-fl09-20180313-0029-e00.fits.fz\", \"site\": \"lsc\", \"instrument\": \"nres01\", \"epoch\": \"20180313\", \"request_num\": \"0001446787\", \"obstype\": \"TARGET\", \"filter\": null, \"processName\": \"MainProcess\"}\n",
      "2020-08-27 12:59:16.871     INFO:              rv: Cross correlating for order: 100 | {\"filename\": \"lscnrs01-fl09-20180313-0029-e00.fits.fz\", \"site\": \"lsc\", \"instrument\": \"nres01\", \"epoch\": \"20180313\", \"request_num\": \"0001446787\", \"obstype\": \"TARGET\", \"filter\": null, \"processName\": \"MainProcess\"}\n"
     ]
    },
    {
     "name": "stdout",
     "output_type": "stream",
     "text": [
      "2020-08-27 12:59:17.220     INFO:              rv: Cross correlating for order: 75 | {\"filename\": \"lscnrs01-fl09-20180313-0029-e00.fits.fz\", \"site\": \"lsc\", \"instrument\": \"nres01\", \"epoch\": \"20180313\", \"request_num\": \"0001446787\", \"obstype\": \"TARGET\", \"filter\": null, \"processName\": \"MainProcess\"}\n",
      "2020-08-27 12:59:17.607     INFO:              rv: Cross correlating for order: 76 | {\"filename\": \"lscnrs01-fl09-20180313-0029-e00.fits.fz\", \"site\": \"lsc\", \"instrument\": \"nres01\", \"epoch\": \"20180313\", \"request_num\": \"0001446787\", \"obstype\": \"TARGET\", \"filter\": null, \"processName\": \"MainProcess\"}\n",
      "2020-08-27 12:59:17.997     INFO:              rv: Cross correlating for order: 77 | {\"filename\": \"lscnrs01-fl09-20180313-0029-e00.fits.fz\", \"site\": \"lsc\", \"instrument\": \"nres01\", \"epoch\": \"20180313\", \"request_num\": \"0001446787\", \"obstype\": \"TARGET\", \"filter\": null, \"processName\": \"MainProcess\"}\n",
      "2020-08-27 12:59:18.378     INFO:              rv: Cross correlating for order: 78 | {\"filename\": \"lscnrs01-fl09-20180313-0029-e00.fits.fz\", \"site\": \"lsc\", \"instrument\": \"nres01\", \"epoch\": \"20180313\", \"request_num\": \"0001446787\", \"obstype\": \"TARGET\", \"filter\": null, \"processName\": \"MainProcess\"}\n",
      "2020-08-27 12:59:18.755     INFO:              rv: Cross correlating for order: 79 | {\"filename\": \"lscnrs01-fl09-20180313-0029-e00.fits.fz\", \"site\": \"lsc\", \"instrument\": \"nres01\", \"epoch\": \"20180313\", \"request_num\": \"0001446787\", \"obstype\": \"TARGET\", \"filter\": null, \"processName\": \"MainProcess\"}\n",
      "2020-08-27 12:59:19.140     INFO:              rv: Cross correlating for order: 80 | {\"filename\": \"lscnrs01-fl09-20180313-0029-e00.fits.fz\", \"site\": \"lsc\", \"instrument\": \"nres01\", \"epoch\": \"20180313\", \"request_num\": \"0001446787\", \"obstype\": \"TARGET\", \"filter\": null, \"processName\": \"MainProcess\"}\n",
      "2020-08-27 12:59:19.520     INFO:              rv: Cross correlating for order: 81 | {\"filename\": \"lscnrs01-fl09-20180313-0029-e00.fits.fz\", \"site\": \"lsc\", \"instrument\": \"nres01\", \"epoch\": \"20180313\", \"request_num\": \"0001446787\", \"obstype\": \"TARGET\", \"filter\": null, \"processName\": \"MainProcess\"}\n",
      "2020-08-27 12:59:19.896     INFO:              rv: Cross correlating for order: 82 | {\"filename\": \"lscnrs01-fl09-20180313-0029-e00.fits.fz\", \"site\": \"lsc\", \"instrument\": \"nres01\", \"epoch\": \"20180313\", \"request_num\": \"0001446787\", \"obstype\": \"TARGET\", \"filter\": null, \"processName\": \"MainProcess\"}\n",
      "2020-08-27 12:59:20.273     INFO:              rv: Cross correlating for order: 83 | {\"filename\": \"lscnrs01-fl09-20180313-0029-e00.fits.fz\", \"site\": \"lsc\", \"instrument\": \"nres01\", \"epoch\": \"20180313\", \"request_num\": \"0001446787\", \"obstype\": \"TARGET\", \"filter\": null, \"processName\": \"MainProcess\"}\n",
      "2020-08-27 12:59:20.654     INFO:              rv: Cross correlating for order: 84 | {\"filename\": \"lscnrs01-fl09-20180313-0029-e00.fits.fz\", \"site\": \"lsc\", \"instrument\": \"nres01\", \"epoch\": \"20180313\", \"request_num\": \"0001446787\", \"obstype\": \"TARGET\", \"filter\": null, \"processName\": \"MainProcess\"}\n",
      "2020-08-27 12:59:21.031     INFO:              rv: Cross correlating for order: 85 | {\"filename\": \"lscnrs01-fl09-20180313-0029-e00.fits.fz\", \"site\": \"lsc\", \"instrument\": \"nres01\", \"epoch\": \"20180313\", \"request_num\": \"0001446787\", \"obstype\": \"TARGET\", \"filter\": null, \"processName\": \"MainProcess\"}\n",
      "2020-08-27 12:59:21.401     INFO:              rv: Cross correlating for order: 86 | {\"filename\": \"lscnrs01-fl09-20180313-0029-e00.fits.fz\", \"site\": \"lsc\", \"instrument\": \"nres01\", \"epoch\": \"20180313\", \"request_num\": \"0001446787\", \"obstype\": \"TARGET\", \"filter\": null, \"processName\": \"MainProcess\"}\n",
      "2020-08-27 12:59:21.769     INFO:              rv: Cross correlating for order: 87 | {\"filename\": \"lscnrs01-fl09-20180313-0029-e00.fits.fz\", \"site\": \"lsc\", \"instrument\": \"nres01\", \"epoch\": \"20180313\", \"request_num\": \"0001446787\", \"obstype\": \"TARGET\", \"filter\": null, \"processName\": \"MainProcess\"}\n",
      "2020-08-27 12:59:22.142     INFO:              rv: Cross correlating for order: 88 | {\"filename\": \"lscnrs01-fl09-20180313-0029-e00.fits.fz\", \"site\": \"lsc\", \"instrument\": \"nres01\", \"epoch\": \"20180313\", \"request_num\": \"0001446787\", \"obstype\": \"TARGET\", \"filter\": null, \"processName\": \"MainProcess\"}\n",
      "2020-08-27 12:59:22.516     INFO:              rv: Cross correlating for order: 89 | {\"filename\": \"lscnrs01-fl09-20180313-0029-e00.fits.fz\", \"site\": \"lsc\", \"instrument\": \"nres01\", \"epoch\": \"20180313\", \"request_num\": \"0001446787\", \"obstype\": \"TARGET\", \"filter\": null, \"processName\": \"MainProcess\"}\n",
      "2020-08-27 12:59:22.887     INFO:              rv: Cross correlating for order: 90 | {\"filename\": \"lscnrs01-fl09-20180313-0029-e00.fits.fz\", \"site\": \"lsc\", \"instrument\": \"nres01\", \"epoch\": \"20180313\", \"request_num\": \"0001446787\", \"obstype\": \"TARGET\", \"filter\": null, \"processName\": \"MainProcess\"}\n",
      "2020-08-27 12:59:23.255     INFO:              rv: Cross correlating for order: 91 | {\"filename\": \"lscnrs01-fl09-20180313-0029-e00.fits.fz\", \"site\": \"lsc\", \"instrument\": \"nres01\", \"epoch\": \"20180313\", \"request_num\": \"0001446787\", \"obstype\": \"TARGET\", \"filter\": null, \"processName\": \"MainProcess\"}\n",
      "2020-08-27 12:59:23.620     INFO:              rv: Cross correlating for order: 92 | {\"filename\": \"lscnrs01-fl09-20180313-0029-e00.fits.fz\", \"site\": \"lsc\", \"instrument\": \"nres01\", \"epoch\": \"20180313\", \"request_num\": \"0001446787\", \"obstype\": \"TARGET\", \"filter\": null, \"processName\": \"MainProcess\"}\n",
      "2020-08-27 12:59:23.989     INFO:              rv: Cross correlating for order: 93 | {\"filename\": \"lscnrs01-fl09-20180313-0029-e00.fits.fz\", \"site\": \"lsc\", \"instrument\": \"nres01\", \"epoch\": \"20180313\", \"request_num\": \"0001446787\", \"obstype\": \"TARGET\", \"filter\": null, \"processName\": \"MainProcess\"}\n",
      "2020-08-27 12:59:24.370     INFO:              rv: Cross correlating for order: 94 | {\"filename\": \"lscnrs01-fl09-20180313-0029-e00.fits.fz\", \"site\": \"lsc\", \"instrument\": \"nres01\", \"epoch\": \"20180313\", \"request_num\": \"0001446787\", \"obstype\": \"TARGET\", \"filter\": null, \"processName\": \"MainProcess\"}\n",
      "2020-08-27 12:59:24.757     INFO:              rv: Cross correlating for order: 95 | {\"filename\": \"lscnrs01-fl09-20180313-0029-e00.fits.fz\", \"site\": \"lsc\", \"instrument\": \"nres01\", \"epoch\": \"20180313\", \"request_num\": \"0001446787\", \"obstype\": \"TARGET\", \"filter\": null, \"processName\": \"MainProcess\"}\n",
      "2020-08-27 12:59:25.133     INFO:              rv: Cross correlating for order: 96 | {\"filename\": \"lscnrs01-fl09-20180313-0029-e00.fits.fz\", \"site\": \"lsc\", \"instrument\": \"nres01\", \"epoch\": \"20180313\", \"request_num\": \"0001446787\", \"obstype\": \"TARGET\", \"filter\": null, \"processName\": \"MainProcess\"}\n",
      "2020-08-27 12:59:25.523     INFO:              rv: Cross correlating for order: 97 | {\"filename\": \"lscnrs01-fl09-20180313-0029-e00.fits.fz\", \"site\": \"lsc\", \"instrument\": \"nres01\", \"epoch\": \"20180313\", \"request_num\": \"0001446787\", \"obstype\": \"TARGET\", \"filter\": null, \"processName\": \"MainProcess\"}\n",
      "2020-08-27 12:59:25.910     INFO:              rv: Cross correlating for order: 98 | {\"filename\": \"lscnrs01-fl09-20180313-0029-e00.fits.fz\", \"site\": \"lsc\", \"instrument\": \"nres01\", \"epoch\": \"20180313\", \"request_num\": \"0001446787\", \"obstype\": \"TARGET\", \"filter\": null, \"processName\": \"MainProcess\"}\n",
      "2020-08-27 12:59:26.286     INFO:              rv: Cross correlating for order: 99 | {\"filename\": \"lscnrs01-fl09-20180313-0029-e00.fits.fz\", \"site\": \"lsc\", \"instrument\": \"nres01\", \"epoch\": \"20180313\", \"request_num\": \"0001446787\", \"obstype\": \"TARGET\", \"filter\": null, \"processName\": \"MainProcess\"}\n",
      "2020-08-27 12:59:26.660     INFO:              rv: Cross correlating for order: 100 | {\"filename\": \"lscnrs01-fl09-20180313-0029-e00.fits.fz\", \"site\": \"lsc\", \"instrument\": \"nres01\", \"epoch\": \"20180313\", \"request_num\": \"0001446787\", \"obstype\": \"TARGET\", \"filter\": null, \"processName\": \"MainProcess\"}\n",
      "2020-08-27 12:59:35.592     INFO:          stages: Running banzai.stages.BadPixelMaskLoader | {\"filename\": \"lscnrs01-fl09-20180313-0028-e00.fits.fz\", \"site\": \"lsc\", \"instrument\": \"nres01\", \"epoch\": \"20180313\", \"request_num\": \"0001446787\", \"obstype\": \"TARGET\", \"filter\": null, \"processName\": \"MainProcess\"}\n",
      "2020-08-27 12:59:35.782     INFO:    calibrations: Applying master calibration | {\"filename\": \"lscnrs01-fl09-20180313-0028-e00.fits.fz\", \"site\": \"lsc\", \"instrument\": \"nres01\", \"epoch\": \"20180313\", \"request_num\": \"0001446787\", \"obstype\": \"TARGET\", \"filter\": null, \"master_calibration\": \"bpm-lsc-nres01-fl09-20180215.fits.fz\", \"processName\": \"MainProcess\"}\n"
     ]
    },
    {
     "name": "stdout",
     "output_type": "stream",
     "text": [
      "2020-08-27 12:59:35.818     INFO:          stages: Running banzai.stages.OverscanSubtractor | {\"filename\": \"lscnrs01-fl09-20180313-0028-e00.fits.fz\", \"site\": \"lsc\", \"instrument\": \"nres01\", \"epoch\": \"20180313\", \"request_num\": \"0001446787\", \"obstype\": \"TARGET\", \"filter\": null, \"processName\": \"MainProcess\"}\n",
      "2020-08-27 12:59:35.846     INFO:          stages: Running banzai.stages.GainNormalizer | {\"filename\": \"lscnrs01-fl09-20180313-0028-e00.fits.fz\", \"site\": \"lsc\", \"instrument\": \"nres01\", \"epoch\": \"20180313\", \"request_num\": \"0001446787\", \"obstype\": \"TARGET\", \"filter\": null, \"processName\": \"MainProcess\"}\n",
      "2020-08-27 12:59:35.847     INFO:            gain: Multiplying by gain | {\"filename\": \"lscnrs01-fl09-20180313-0028-e00.fits.fz\", \"site\": \"lsc\", \"instrument\": \"nres01\", \"epoch\": \"20180313\", \"request_num\": \"0001446787\", \"obstype\": \"TARGET\", \"filter\": null, \"processName\": \"MainProcess\"}\n",
      "2020-08-27 12:59:35.880     INFO:          stages: Running banzai.stages.Trimmer | {\"filename\": \"lscnrs01-fl09-20180313-0028-e00.fits.fz\", \"site\": \"lsc\", \"instrument\": \"nres01\", \"epoch\": \"20180313\", \"request_num\": \"0001446787\", \"obstype\": \"TARGET\", \"filter\": null, \"processName\": \"MainProcess\"}\n",
      "2020-08-27 12:59:35.881     INFO:            trim: Trimming image | {\"filename\": \"lscnrs01-fl09-20180313-0028-e00.fits.fz\", \"site\": \"lsc\", \"instrument\": \"nres01\", \"epoch\": \"20180313\", \"request_num\": \"0001446787\", \"obstype\": \"TARGET\", \"filter\": null, \"processName\": \"MainProcess\"}\n",
      "2020-08-27 12:59:36.134     INFO:          stages: Running banzai.stages.BiasSubtractor | {\"filename\": \"lscnrs01-fl09-20180313-0028-e00.fits.fz\", \"site\": \"lsc\", \"instrument\": \"nres01\", \"epoch\": \"20180313\", \"request_num\": \"0001446787\", \"obstype\": \"TARGET\", \"filter\": null, \"processName\": \"MainProcess\"}\n",
      "2020-08-27 12:59:36.832     INFO:    calibrations: Applying master calibration | {\"filename\": \"lscnrs01-fl09-20180313-0028-e00.fits.fz\", \"site\": \"lsc\", \"instrument\": \"nres01\", \"epoch\": \"20180313\", \"request_num\": \"0001446787\", \"obstype\": \"TARGET\", \"filter\": null, \"master_calibration\": \"lscnrs01-fl09-20180313-bias-bin1x1.fits.fz\", \"processName\": \"MainProcess\"}\n",
      "2020-08-27 12:59:37.031     INFO:          stages: Running banzai.stages.PoissonInitializer | {\"filename\": \"lscnrs01-fl09-20180313-0028-e00.fits.fz\", \"site\": \"lsc\", \"instrument\": \"nres01\", \"epoch\": \"20180313\", \"request_num\": \"0001446787\", \"obstype\": \"TARGET\", \"filter\": null, \"processName\": \"MainProcess\"}\n",
      "2020-08-27 12:59:37.146     INFO:          stages: Running banzai.stages.DarkSubtractor | {\"filename\": \"lscnrs01-fl09-20180313-0028-e00.fits.fz\", \"site\": \"lsc\", \"instrument\": \"nres01\", \"epoch\": \"20180313\", \"request_num\": \"0001446787\", \"obstype\": \"TARGET\", \"filter\": null, \"processName\": \"MainProcess\"}\n",
      "2020-08-27 12:59:37.857     INFO:    calibrations: Applying master calibration | {\"filename\": \"lscnrs01-fl09-20180313-0028-e00.fits.fz\", \"site\": \"lsc\", \"instrument\": \"nres01\", \"epoch\": \"20180313\", \"request_num\": \"0001446787\", \"obstype\": \"TARGET\", \"filter\": null, \"master_calibration\": \"lscnrs01-fl09-20180313-dark-bin1x1.fits.fz\", \"processName\": \"MainProcess\"}\n",
      "2020-08-27 12:59:38.028     INFO:          stages: Running banzai.stages.FlatLoader | {\"filename\": \"lscnrs01-fl09-20180313-0028-e00.fits.fz\", \"site\": \"lsc\", \"instrument\": \"nres01\", \"epoch\": \"20180313\", \"request_num\": \"0001446787\", \"obstype\": \"TARGET\", \"filter\": null, \"processName\": \"MainProcess\"}\n",
      "2020-08-27 12:59:39.385     INFO:    calibrations: Applying master calibration | {\"filename\": \"lscnrs01-fl09-20180313-0028-e00.fits.fz\", \"site\": \"lsc\", \"instrument\": \"nres01\", \"epoch\": \"20180313\", \"request_num\": \"0001446787\", \"obstype\": \"TARGET\", \"filter\": null, \"master_calibration\": \"lscnrs01-fl09-20180313-lampflat-bin1x1-110.fits.fz\", \"processName\": \"MainProcess\"}\n",
      "2020-08-27 12:59:39.505     INFO:          stages: Running banzai.stages.BackgroundSubtractor | {\"filename\": \"lscnrs01-fl09-20180313-0028-e00.fits.fz\", \"site\": \"lsc\", \"instrument\": \"nres01\", \"epoch\": \"20180313\", \"request_num\": \"0001446787\", \"obstype\": \"TARGET\", \"filter\": null, \"processName\": \"MainProcess\"}\n",
      "2020-08-27 12:59:39.883     INFO:          stages: Running banzai.stages.ArcLoader | {\"filename\": \"lscnrs01-fl09-20180313-0028-e00.fits.fz\", \"site\": \"lsc\", \"instrument\": \"nres01\", \"epoch\": \"20180313\", \"request_num\": \"0001446787\", \"obstype\": \"TARGET\", \"filter\": null, \"processName\": \"MainProcess\"}\n",
      "2020-08-27 12:59:41.554     INFO:    calibrations: Applying master calibration | {\"filename\": \"lscnrs01-fl09-20180313-0028-e00.fits.fz\", \"site\": \"lsc\", \"instrument\": \"nres01\", \"epoch\": \"20180313\", \"request_num\": \"0001446787\", \"obstype\": \"TARGET\", \"filter\": null, \"master_calibration\": \"lscnrs01-fl09-20180313-double-bin1x1-110.fits.fz\", \"processName\": \"MainProcess\"}\n",
      "2020-08-27 12:59:41.690     INFO:          stages: Running banzai.stages.GetOptimalExtractionWeights | {\"filename\": \"lscnrs01-fl09-20180313-0028-e00.fits.fz\", \"site\": \"lsc\", \"instrument\": \"nres01\", \"epoch\": \"20180313\", \"request_num\": \"0001446787\", \"obstype\": \"TARGET\", \"filter\": null, \"processName\": \"MainProcess\"}\n",
      "2020-08-27 12:59:57.530     INFO:          stages: Running banzai.stages.WeightedExtract | {\"filename\": \"lscnrs01-fl09-20180313-0028-e00.fits.fz\", \"site\": \"lsc\", \"instrument\": \"nres01\", \"epoch\": \"20180313\", \"request_num\": \"0001446787\", \"obstype\": \"TARGET\", \"filter\": null, \"processName\": \"MainProcess\"}\n",
      "2020-08-27 13:00:13.295     INFO:          stages: Running banzai.stages.ContinuumNormalizer | {\"filename\": \"lscnrs01-fl09-20180313-0028-e00.fits.fz\", \"site\": \"lsc\", \"instrument\": \"nres01\", \"epoch\": \"20180313\", \"request_num\": \"0001446787\", \"obstype\": \"TARGET\", \"filter\": null, \"processName\": \"MainProcess\"}\n",
      "2020-08-27 13:00:13.814     INFO:          stages: Running banzai.stages.RVCalculator | {\"filename\": \"lscnrs01-fl09-20180313-0028-e00.fits.fz\", \"site\": \"lsc\", \"instrument\": \"nres01\", \"epoch\": \"20180313\", \"request_num\": \"0001446787\", \"obstype\": \"TARGET\", \"filter\": null, \"processName\": \"MainProcess\"}\n",
      "2020-08-27 13:00:13.825     INFO:              rv: Cross correlating for order: 75 | {\"filename\": \"lscnrs01-fl09-20180313-0028-e00.fits.fz\", \"site\": \"lsc\", \"instrument\": \"nres01\", \"epoch\": \"20180313\", \"request_num\": \"0001446787\", \"obstype\": \"TARGET\", \"filter\": null, \"processName\": \"MainProcess\"}\n",
      "2020-08-27 13:00:14.202     INFO:              rv: Cross correlating for order: 76 | {\"filename\": \"lscnrs01-fl09-20180313-0028-e00.fits.fz\", \"site\": \"lsc\", \"instrument\": \"nres01\", \"epoch\": \"20180313\", \"request_num\": \"0001446787\", \"obstype\": \"TARGET\", \"filter\": null, \"processName\": \"MainProcess\"}\n",
      "2020-08-27 13:00:14.590     INFO:              rv: Cross correlating for order: 77 | {\"filename\": \"lscnrs01-fl09-20180313-0028-e00.fits.fz\", \"site\": \"lsc\", \"instrument\": \"nres01\", \"epoch\": \"20180313\", \"request_num\": \"0001446787\", \"obstype\": \"TARGET\", \"filter\": null, \"processName\": \"MainProcess\"}\n",
      "2020-08-27 13:00:14.982     INFO:              rv: Cross correlating for order: 78 | {\"filename\": \"lscnrs01-fl09-20180313-0028-e00.fits.fz\", \"site\": \"lsc\", \"instrument\": \"nres01\", \"epoch\": \"20180313\", \"request_num\": \"0001446787\", \"obstype\": \"TARGET\", \"filter\": null, \"processName\": \"MainProcess\"}\n",
      "2020-08-27 13:00:15.362     INFO:              rv: Cross correlating for order: 79 | {\"filename\": \"lscnrs01-fl09-20180313-0028-e00.fits.fz\", \"site\": \"lsc\", \"instrument\": \"nres01\", \"epoch\": \"20180313\", \"request_num\": \"0001446787\", \"obstype\": \"TARGET\", \"filter\": null, \"processName\": \"MainProcess\"}\n",
      "2020-08-27 13:00:15.725     INFO:              rv: Cross correlating for order: 80 | {\"filename\": \"lscnrs01-fl09-20180313-0028-e00.fits.fz\", \"site\": \"lsc\", \"instrument\": \"nres01\", \"epoch\": \"20180313\", \"request_num\": \"0001446787\", \"obstype\": \"TARGET\", \"filter\": null, \"processName\": \"MainProcess\"}\n",
      "2020-08-27 13:00:16.092     INFO:              rv: Cross correlating for order: 81 | {\"filename\": \"lscnrs01-fl09-20180313-0028-e00.fits.fz\", \"site\": \"lsc\", \"instrument\": \"nres01\", \"epoch\": \"20180313\", \"request_num\": \"0001446787\", \"obstype\": \"TARGET\", \"filter\": null, \"processName\": \"MainProcess\"}\n",
      "2020-08-27 13:00:16.456     INFO:              rv: Cross correlating for order: 82 | {\"filename\": \"lscnrs01-fl09-20180313-0028-e00.fits.fz\", \"site\": \"lsc\", \"instrument\": \"nres01\", \"epoch\": \"20180313\", \"request_num\": \"0001446787\", \"obstype\": \"TARGET\", \"filter\": null, \"processName\": \"MainProcess\"}\n"
     ]
    },
    {
     "name": "stdout",
     "output_type": "stream",
     "text": [
      "2020-08-27 13:00:16.818     INFO:              rv: Cross correlating for order: 83 | {\"filename\": \"lscnrs01-fl09-20180313-0028-e00.fits.fz\", \"site\": \"lsc\", \"instrument\": \"nres01\", \"epoch\": \"20180313\", \"request_num\": \"0001446787\", \"obstype\": \"TARGET\", \"filter\": null, \"processName\": \"MainProcess\"}\n",
      "2020-08-27 13:00:17.181     INFO:              rv: Cross correlating for order: 84 | {\"filename\": \"lscnrs01-fl09-20180313-0028-e00.fits.fz\", \"site\": \"lsc\", \"instrument\": \"nres01\", \"epoch\": \"20180313\", \"request_num\": \"0001446787\", \"obstype\": \"TARGET\", \"filter\": null, \"processName\": \"MainProcess\"}\n",
      "2020-08-27 13:00:17.546     INFO:              rv: Cross correlating for order: 85 | {\"filename\": \"lscnrs01-fl09-20180313-0028-e00.fits.fz\", \"site\": \"lsc\", \"instrument\": \"nres01\", \"epoch\": \"20180313\", \"request_num\": \"0001446787\", \"obstype\": \"TARGET\", \"filter\": null, \"processName\": \"MainProcess\"}\n",
      "2020-08-27 13:00:17.906     INFO:              rv: Cross correlating for order: 86 | {\"filename\": \"lscnrs01-fl09-20180313-0028-e00.fits.fz\", \"site\": \"lsc\", \"instrument\": \"nres01\", \"epoch\": \"20180313\", \"request_num\": \"0001446787\", \"obstype\": \"TARGET\", \"filter\": null, \"processName\": \"MainProcess\"}\n",
      "2020-08-27 13:00:18.266     INFO:              rv: Cross correlating for order: 87 | {\"filename\": \"lscnrs01-fl09-20180313-0028-e00.fits.fz\", \"site\": \"lsc\", \"instrument\": \"nres01\", \"epoch\": \"20180313\", \"request_num\": \"0001446787\", \"obstype\": \"TARGET\", \"filter\": null, \"processName\": \"MainProcess\"}\n",
      "2020-08-27 13:00:18.625     INFO:              rv: Cross correlating for order: 88 | {\"filename\": \"lscnrs01-fl09-20180313-0028-e00.fits.fz\", \"site\": \"lsc\", \"instrument\": \"nres01\", \"epoch\": \"20180313\", \"request_num\": \"0001446787\", \"obstype\": \"TARGET\", \"filter\": null, \"processName\": \"MainProcess\"}\n",
      "2020-08-27 13:00:18.983     INFO:              rv: Cross correlating for order: 89 | {\"filename\": \"lscnrs01-fl09-20180313-0028-e00.fits.fz\", \"site\": \"lsc\", \"instrument\": \"nres01\", \"epoch\": \"20180313\", \"request_num\": \"0001446787\", \"obstype\": \"TARGET\", \"filter\": null, \"processName\": \"MainProcess\"}\n",
      "2020-08-27 13:00:19.339     INFO:              rv: Cross correlating for order: 90 | {\"filename\": \"lscnrs01-fl09-20180313-0028-e00.fits.fz\", \"site\": \"lsc\", \"instrument\": \"nres01\", \"epoch\": \"20180313\", \"request_num\": \"0001446787\", \"obstype\": \"TARGET\", \"filter\": null, \"processName\": \"MainProcess\"}\n",
      "2020-08-27 13:00:19.698     INFO:              rv: Cross correlating for order: 91 | {\"filename\": \"lscnrs01-fl09-20180313-0028-e00.fits.fz\", \"site\": \"lsc\", \"instrument\": \"nres01\", \"epoch\": \"20180313\", \"request_num\": \"0001446787\", \"obstype\": \"TARGET\", \"filter\": null, \"processName\": \"MainProcess\"}\n",
      "2020-08-27 13:00:20.056     INFO:              rv: Cross correlating for order: 92 | {\"filename\": \"lscnrs01-fl09-20180313-0028-e00.fits.fz\", \"site\": \"lsc\", \"instrument\": \"nres01\", \"epoch\": \"20180313\", \"request_num\": \"0001446787\", \"obstype\": \"TARGET\", \"filter\": null, \"processName\": \"MainProcess\"}\n",
      "2020-08-27 13:00:20.410     INFO:              rv: Cross correlating for order: 93 | {\"filename\": \"lscnrs01-fl09-20180313-0028-e00.fits.fz\", \"site\": \"lsc\", \"instrument\": \"nres01\", \"epoch\": \"20180313\", \"request_num\": \"0001446787\", \"obstype\": \"TARGET\", \"filter\": null, \"processName\": \"MainProcess\"}\n",
      "2020-08-27 13:00:20.770     INFO:              rv: Cross correlating for order: 94 | {\"filename\": \"lscnrs01-fl09-20180313-0028-e00.fits.fz\", \"site\": \"lsc\", \"instrument\": \"nres01\", \"epoch\": \"20180313\", \"request_num\": \"0001446787\", \"obstype\": \"TARGET\", \"filter\": null, \"processName\": \"MainProcess\"}\n",
      "2020-08-27 13:00:21.137     INFO:              rv: Cross correlating for order: 95 | {\"filename\": \"lscnrs01-fl09-20180313-0028-e00.fits.fz\", \"site\": \"lsc\", \"instrument\": \"nres01\", \"epoch\": \"20180313\", \"request_num\": \"0001446787\", \"obstype\": \"TARGET\", \"filter\": null, \"processName\": \"MainProcess\"}\n",
      "2020-08-27 13:00:21.501     INFO:              rv: Cross correlating for order: 96 | {\"filename\": \"lscnrs01-fl09-20180313-0028-e00.fits.fz\", \"site\": \"lsc\", \"instrument\": \"nres01\", \"epoch\": \"20180313\", \"request_num\": \"0001446787\", \"obstype\": \"TARGET\", \"filter\": null, \"processName\": \"MainProcess\"}\n",
      "2020-08-27 13:00:21.862     INFO:              rv: Cross correlating for order: 97 | {\"filename\": \"lscnrs01-fl09-20180313-0028-e00.fits.fz\", \"site\": \"lsc\", \"instrument\": \"nres01\", \"epoch\": \"20180313\", \"request_num\": \"0001446787\", \"obstype\": \"TARGET\", \"filter\": null, \"processName\": \"MainProcess\"}\n",
      "2020-08-27 13:00:22.223     INFO:              rv: Cross correlating for order: 98 | {\"filename\": \"lscnrs01-fl09-20180313-0028-e00.fits.fz\", \"site\": \"lsc\", \"instrument\": \"nres01\", \"epoch\": \"20180313\", \"request_num\": \"0001446787\", \"obstype\": \"TARGET\", \"filter\": null, \"processName\": \"MainProcess\"}\n",
      "2020-08-27 13:00:22.582     INFO:              rv: Cross correlating for order: 99 | {\"filename\": \"lscnrs01-fl09-20180313-0028-e00.fits.fz\", \"site\": \"lsc\", \"instrument\": \"nres01\", \"epoch\": \"20180313\", \"request_num\": \"0001446787\", \"obstype\": \"TARGET\", \"filter\": null, \"processName\": \"MainProcess\"}\n",
      "2020-08-27 13:00:22.934     INFO:              rv: Cross correlating for order: 100 | {\"filename\": \"lscnrs01-fl09-20180313-0028-e00.fits.fz\", \"site\": \"lsc\", \"instrument\": \"nres01\", \"epoch\": \"20180313\", \"request_num\": \"0001446787\", \"obstype\": \"TARGET\", \"filter\": null, \"processName\": \"MainProcess\"}\n",
      "2020-08-27 13:00:23.291     INFO:              rv: Cross correlating for order: 75 | {\"filename\": \"lscnrs01-fl09-20180313-0028-e00.fits.fz\", \"site\": \"lsc\", \"instrument\": \"nres01\", \"epoch\": \"20180313\", \"request_num\": \"0001446787\", \"obstype\": \"TARGET\", \"filter\": null, \"processName\": \"MainProcess\"}\n",
      "2020-08-27 13:00:23.683     INFO:              rv: Cross correlating for order: 76 | {\"filename\": \"lscnrs01-fl09-20180313-0028-e00.fits.fz\", \"site\": \"lsc\", \"instrument\": \"nres01\", \"epoch\": \"20180313\", \"request_num\": \"0001446787\", \"obstype\": \"TARGET\", \"filter\": null, \"processName\": \"MainProcess\"}\n",
      "2020-08-27 13:00:24.065     INFO:              rv: Cross correlating for order: 77 | {\"filename\": \"lscnrs01-fl09-20180313-0028-e00.fits.fz\", \"site\": \"lsc\", \"instrument\": \"nres01\", \"epoch\": \"20180313\", \"request_num\": \"0001446787\", \"obstype\": \"TARGET\", \"filter\": null, \"processName\": \"MainProcess\"}\n",
      "2020-08-27 13:00:24.450     INFO:              rv: Cross correlating for order: 78 | {\"filename\": \"lscnrs01-fl09-20180313-0028-e00.fits.fz\", \"site\": \"lsc\", \"instrument\": \"nres01\", \"epoch\": \"20180313\", \"request_num\": \"0001446787\", \"obstype\": \"TARGET\", \"filter\": null, \"processName\": \"MainProcess\"}\n",
      "2020-08-27 13:00:24.825     INFO:              rv: Cross correlating for order: 79 | {\"filename\": \"lscnrs01-fl09-20180313-0028-e00.fits.fz\", \"site\": \"lsc\", \"instrument\": \"nres01\", \"epoch\": \"20180313\", \"request_num\": \"0001446787\", \"obstype\": \"TARGET\", \"filter\": null, \"processName\": \"MainProcess\"}\n",
      "2020-08-27 13:00:25.209     INFO:              rv: Cross correlating for order: 80 | {\"filename\": \"lscnrs01-fl09-20180313-0028-e00.fits.fz\", \"site\": \"lsc\", \"instrument\": \"nres01\", \"epoch\": \"20180313\", \"request_num\": \"0001446787\", \"obstype\": \"TARGET\", \"filter\": null, \"processName\": \"MainProcess\"}\n",
      "2020-08-27 13:00:25.592     INFO:              rv: Cross correlating for order: 81 | {\"filename\": \"lscnrs01-fl09-20180313-0028-e00.fits.fz\", \"site\": \"lsc\", \"instrument\": \"nres01\", \"epoch\": \"20180313\", \"request_num\": \"0001446787\", \"obstype\": \"TARGET\", \"filter\": null, \"processName\": \"MainProcess\"}\n",
      "2020-08-27 13:00:25.968     INFO:              rv: Cross correlating for order: 82 | {\"filename\": \"lscnrs01-fl09-20180313-0028-e00.fits.fz\", \"site\": \"lsc\", \"instrument\": \"nres01\", \"epoch\": \"20180313\", \"request_num\": \"0001446787\", \"obstype\": \"TARGET\", \"filter\": null, \"processName\": \"MainProcess\"}\n",
      "2020-08-27 13:00:26.344     INFO:              rv: Cross correlating for order: 83 | {\"filename\": \"lscnrs01-fl09-20180313-0028-e00.fits.fz\", \"site\": \"lsc\", \"instrument\": \"nres01\", \"epoch\": \"20180313\", \"request_num\": \"0001446787\", \"obstype\": \"TARGET\", \"filter\": null, \"processName\": \"MainProcess\"}\n",
      "2020-08-27 13:00:26.723     INFO:              rv: Cross correlating for order: 84 | {\"filename\": \"lscnrs01-fl09-20180313-0028-e00.fits.fz\", \"site\": \"lsc\", \"instrument\": \"nres01\", \"epoch\": \"20180313\", \"request_num\": \"0001446787\", \"obstype\": \"TARGET\", \"filter\": null, \"processName\": \"MainProcess\"}\n"
     ]
    },
    {
     "name": "stdout",
     "output_type": "stream",
     "text": [
      "2020-08-27 13:00:27.106     INFO:              rv: Cross correlating for order: 85 | {\"filename\": \"lscnrs01-fl09-20180313-0028-e00.fits.fz\", \"site\": \"lsc\", \"instrument\": \"nres01\", \"epoch\": \"20180313\", \"request_num\": \"0001446787\", \"obstype\": \"TARGET\", \"filter\": null, \"processName\": \"MainProcess\"}\n",
      "2020-08-27 13:00:27.479     INFO:              rv: Cross correlating for order: 86 | {\"filename\": \"lscnrs01-fl09-20180313-0028-e00.fits.fz\", \"site\": \"lsc\", \"instrument\": \"nres01\", \"epoch\": \"20180313\", \"request_num\": \"0001446787\", \"obstype\": \"TARGET\", \"filter\": null, \"processName\": \"MainProcess\"}\n",
      "2020-08-27 13:00:27.854     INFO:              rv: Cross correlating for order: 87 | {\"filename\": \"lscnrs01-fl09-20180313-0028-e00.fits.fz\", \"site\": \"lsc\", \"instrument\": \"nres01\", \"epoch\": \"20180313\", \"request_num\": \"0001446787\", \"obstype\": \"TARGET\", \"filter\": null, \"processName\": \"MainProcess\"}\n",
      "2020-08-27 13:00:28.230     INFO:              rv: Cross correlating for order: 88 | {\"filename\": \"lscnrs01-fl09-20180313-0028-e00.fits.fz\", \"site\": \"lsc\", \"instrument\": \"nres01\", \"epoch\": \"20180313\", \"request_num\": \"0001446787\", \"obstype\": \"TARGET\", \"filter\": null, \"processName\": \"MainProcess\"}\n",
      "2020-08-27 13:00:28.601     INFO:              rv: Cross correlating for order: 89 | {\"filename\": \"lscnrs01-fl09-20180313-0028-e00.fits.fz\", \"site\": \"lsc\", \"instrument\": \"nres01\", \"epoch\": \"20180313\", \"request_num\": \"0001446787\", \"obstype\": \"TARGET\", \"filter\": null, \"processName\": \"MainProcess\"}\n",
      "2020-08-27 13:00:28.968     INFO:              rv: Cross correlating for order: 90 | {\"filename\": \"lscnrs01-fl09-20180313-0028-e00.fits.fz\", \"site\": \"lsc\", \"instrument\": \"nres01\", \"epoch\": \"20180313\", \"request_num\": \"0001446787\", \"obstype\": \"TARGET\", \"filter\": null, \"processName\": \"MainProcess\"}\n",
      "2020-08-27 13:00:29.339     INFO:              rv: Cross correlating for order: 91 | {\"filename\": \"lscnrs01-fl09-20180313-0028-e00.fits.fz\", \"site\": \"lsc\", \"instrument\": \"nres01\", \"epoch\": \"20180313\", \"request_num\": \"0001446787\", \"obstype\": \"TARGET\", \"filter\": null, \"processName\": \"MainProcess\"}\n",
      "2020-08-27 13:00:29.709     INFO:              rv: Cross correlating for order: 92 | {\"filename\": \"lscnrs01-fl09-20180313-0028-e00.fits.fz\", \"site\": \"lsc\", \"instrument\": \"nres01\", \"epoch\": \"20180313\", \"request_num\": \"0001446787\", \"obstype\": \"TARGET\", \"filter\": null, \"processName\": \"MainProcess\"}\n",
      "2020-08-27 13:00:30.073     INFO:              rv: Cross correlating for order: 93 | {\"filename\": \"lscnrs01-fl09-20180313-0028-e00.fits.fz\", \"site\": \"lsc\", \"instrument\": \"nres01\", \"epoch\": \"20180313\", \"request_num\": \"0001446787\", \"obstype\": \"TARGET\", \"filter\": null, \"processName\": \"MainProcess\"}\n",
      "2020-08-27 13:00:30.448     INFO:              rv: Cross correlating for order: 94 | {\"filename\": \"lscnrs01-fl09-20180313-0028-e00.fits.fz\", \"site\": \"lsc\", \"instrument\": \"nres01\", \"epoch\": \"20180313\", \"request_num\": \"0001446787\", \"obstype\": \"TARGET\", \"filter\": null, \"processName\": \"MainProcess\"}\n",
      "2020-08-27 13:00:30.829     INFO:              rv: Cross correlating for order: 95 | {\"filename\": \"lscnrs01-fl09-20180313-0028-e00.fits.fz\", \"site\": \"lsc\", \"instrument\": \"nres01\", \"epoch\": \"20180313\", \"request_num\": \"0001446787\", \"obstype\": \"TARGET\", \"filter\": null, \"processName\": \"MainProcess\"}\n",
      "2020-08-27 13:00:31.210     INFO:              rv: Cross correlating for order: 96 | {\"filename\": \"lscnrs01-fl09-20180313-0028-e00.fits.fz\", \"site\": \"lsc\", \"instrument\": \"nres01\", \"epoch\": \"20180313\", \"request_num\": \"0001446787\", \"obstype\": \"TARGET\", \"filter\": null, \"processName\": \"MainProcess\"}\n",
      "2020-08-27 13:00:31.580     INFO:              rv: Cross correlating for order: 97 | {\"filename\": \"lscnrs01-fl09-20180313-0028-e00.fits.fz\", \"site\": \"lsc\", \"instrument\": \"nres01\", \"epoch\": \"20180313\", \"request_num\": \"0001446787\", \"obstype\": \"TARGET\", \"filter\": null, \"processName\": \"MainProcess\"}\n",
      "2020-08-27 13:00:31.957     INFO:              rv: Cross correlating for order: 98 | {\"filename\": \"lscnrs01-fl09-20180313-0028-e00.fits.fz\", \"site\": \"lsc\", \"instrument\": \"nres01\", \"epoch\": \"20180313\", \"request_num\": \"0001446787\", \"obstype\": \"TARGET\", \"filter\": null, \"processName\": \"MainProcess\"}\n",
      "2020-08-27 13:00:32.322     INFO:              rv: Cross correlating for order: 99 | {\"filename\": \"lscnrs01-fl09-20180313-0028-e00.fits.fz\", \"site\": \"lsc\", \"instrument\": \"nres01\", \"epoch\": \"20180313\", \"request_num\": \"0001446787\", \"obstype\": \"TARGET\", \"filter\": null, \"processName\": \"MainProcess\"}\n",
      "2020-08-27 13:00:32.696     INFO:              rv: Cross correlating for order: 100 | {\"filename\": \"lscnrs01-fl09-20180313-0028-e00.fits.fz\", \"site\": \"lsc\", \"instrument\": \"nres01\", \"epoch\": \"20180313\", \"request_num\": \"0001446787\", \"obstype\": \"TARGET\", \"filter\": null, \"processName\": \"MainProcess\"}\n"
     ]
    }
   ],
   "source": [
    "# set up the context object.\n",
    "import banzai.main\n",
    "context = banzai.main.parse_args(settings, parse_system_args=False)"
   ]
  },
  {
   "cell_type": "markdown",
   "metadata": {},
   "source": [
    "Download some test data from the archive\n",
    "----------------------------------------"
   ]
  },
  {
   "cell_type": "code",
   "execution_count": null,
   "metadata": {},
   "outputs": [],
   "source": [
    "# make directories for the test dataset.\n",
    "raw_data_dir = 'test_data/lsc/nres01/20180313/raw'\n",
    "os.makedirs(raw_data_dir, exist_ok=True)\n",
    "bpm_dir = 'test_data/lsc/nres01/bpm/'\n",
    "os.makedirs(bpm_dir, exist_ok=True)\n",
    "phoenix_dir = 'test_data/phoenix_models'\n",
    "os.makedirs(phoenix_dir, exist_ok=True)\n",
    "raw_phoenix_dir = 'test_data/raw_phoenix_models'\n",
    "os.makedirs(raw_phoenix_dir, exist_ok=True)"
   ]
  },
  {
   "cell_type": "code",
   "execution_count": null,
   "metadata": {},
   "outputs": [],
   "source": [
    "# choose which files we will download for our test dataset.\n",
    "bpm_filename = 'bpm-lsc-nres01-fl09-20180215.fits.fz'\n",
    "test_filenames = ['lscnrs01-fl09-20180313-0001-w00.fits.fz', 'lscnrs01-fl09-20180313-0002-w00.fits.fz',\n",
    "                  'lscnrs01-fl09-20180313-0003-w00.fits.fz', 'lscnrs01-fl09-20180313-0004-w00.fits.fz',\n",
    "                  'lscnrs01-fl09-20180313-0005-w00.fits.fz', 'lscnrs01-fl09-20180313-0006-a00.fits.fz',\n",
    "                  'lscnrs01-fl09-20180313-0007-a00.fits.fz', 'lscnrs01-fl09-20180313-0008-a00.fits.fz',\n",
    "                  'lscnrs01-fl09-20180313-0009-w00.fits.fz', 'lscnrs01-fl09-20180313-0010-w00.fits.fz',\n",
    "                  'lscnrs01-fl09-20180313-0011-w00.fits.fz', 'lscnrs01-fl09-20180313-0012-w00.fits.fz',\n",
    "                  'lscnrs01-fl09-20180313-0013-w00.fits.fz', 'lscnrs01-fl09-20180313-0014-w00.fits.fz',\n",
    "                  'lscnrs01-fl09-20180313-0015-w00.fits.fz', 'lscnrs01-fl09-20180313-0016-w00.fits.fz',\n",
    "                  'lscnrs01-fl09-20180313-0017-w00.fits.fz', 'lscnrs01-fl09-20180313-0018-w00.fits.fz',\n",
    "                  'lscnrs01-fl09-20180313-0019-a00.fits.fz', 'lscnrs01-fl09-20180313-0020-a00.fits.fz',\n",
    "                  'lscnrs01-fl09-20180313-0021-a00.fits.fz', 'lscnrs01-fl09-20180313-0022-a00.fits.fz',\n",
    "                  'lscnrs01-fl09-20180313-0023-a00.fits.fz', 'lscnrs01-fl09-20180313-0042-b00.fits.fz',\n",
    "                  'lscnrs01-fl09-20180313-0043-b00.fits.fz', 'lscnrs01-fl09-20180313-0044-b00.fits.fz',\n",
    "                  'lscnrs01-fl09-20180313-0045-b00.fits.fz', 'lscnrs01-fl09-20180313-0046-b00.fits.fz',\n",
    "                  'lscnrs01-fl09-20180313-0047-d00.fits.fz', 'lscnrs01-fl09-20180313-0048-d00.fits.fz',\n",
    "                  'lscnrs01-fl09-20180313-0049-d00.fits.fz', 'lscnrs01-fl09-20180313-0028-e00.fits.fz',\n",
    "                  'lscnrs01-fl09-20180313-0029-e00.fits.fz', 'lscnrs01-fl09-20180313-0030-e00.fits.fz',\n",
    "                  'lscnrs01-fl09-20180313-0031-e00.fits.fz']\n",
    "\n",
    "bpm_frame_id = '22529799'\n",
    "test_frame_ids = ['8148793', '8148822', '8148805', '8148824', '8148826', '8148876', '8148898',\n",
    "                  '8148932', '8148960', '8148978', '8149024', '8149104', '8149068', '8149090',\n",
    "                  '8149128', '8149173', '8149217', '8151252', '8149314', '8149388', '8149469',\n",
    "                  '8149547', '8149570', '8156341', '8156360', '8156366', '8156376', '8156385',\n",
    "                  '8156433', '8156500', '8156560', '8151997', '8152050', '8152110', '8152153']"
   ]
  },
  {
   "cell_type": "code",
   "execution_count": null,
   "metadata": {},
   "outputs": [],
   "source": [
    "# THIS DOWNLOADS A NEW DATA SET. DO NOT RUN IF YOU HAVE ALREADY DOWNLOADED THE DATA\n",
    "# Copy the data into the correct directory\n",
    "for test_filename, frame_id in zip(test_filenames, test_frame_ids):\n",
    "    archive_url = f'https://archive-api.lco.global/frames/{frame_id}'\n",
    "    frame_info = requests.get(archive_url).json()\n",
    "    with open(os.path.join(raw_data_dir, test_filename), 'wb') as f:\n",
    "        f.write(requests.get(frame_info['url']).content)\n",
    "        \n",
    "archive_url = f'https://archive-api.lco.global/frames/{bpm_frame_id}'\n",
    "frame_info = requests.get(archive_url).json()\n",
    "with open(os.path.join(bpm_dir, bpm_filename), 'wb') as f:\n",
    "    f.write(requests.get(frame_info['url']).content)"
   ]
  },
  {
   "cell_type": "code",
   "execution_count": null,
   "metadata": {},
   "outputs": [],
   "source": [
    "#Download the phoenix models and get them into the correct format. \n",
    "#Likewise, do not run if you have already downloaded the data.\n",
    "os.system(f'wget ftp://phoenix.astro.physik.uni-goettingen.de/v2.0/HiResFITS/PHOENIX-ACES-AGSS-COND-2011/Z-0.0/lte05700-4.50-0.0.PHOENIX-ACES-AGSS-COND-2011-HiRes.fits -P {raw_phoenix_dir}/')\n",
    "os.system(f'wget ftp://phoenix.astro.physik.uni-goettingen.de/v2.0/HiResFITS/WAVE_PHOENIX-ACES-AGSS-COND-2011.fits -P {raw_phoenix_dir}/')\n",
    "\n",
    "os.system(f'banzai_nres_munge_phoenix --input-dir={raw_phoenix_dir} --output-dir={phoenix_dir}')"
   ]
  },
  {
   "cell_type": "markdown",
   "metadata": {},
   "source": [
    "Initialize the db and context object for the rest of the pipeline\n",
    "-----------------------------------------------------------------"
   ]
  },
  {
   "cell_type": "code",
   "execution_count": null,
   "metadata": {},
   "outputs": [],
   "source": [
    "# THIS MAKES A FRESH DATABASE. DO NOT RUN ME UNLESS YOU WANT TO DELETE YOUR test.db AND MAKE A FRESH ONE\n",
    "full_phoenix_path=os.path.join(os.getcwd(),phoenix_dir)\n",
    "os.system(f'banzai_nres_create_db --db-address={os.environ[\"DB_ADDRESS\"]}')\n",
    "os.system(f'banzai_nres_populate_phoenix_models --model-location={full_phoenix_path} --db-address={os.environ[\"DB_ADDRESS\"]}')\n",
    "os.system(f'banzai_add_site --site elp --latitude 30.67986944 --longitude -104.015175 --elevation 2027 --timezone -6 --db-address={os.environ[\"DB_ADDRESS\"]}')\n",
    "os.system(f'banzai_add_site --site lsc --latitude -30.1673833333 --longitude -70.8047888889 --elevation 2198 --timezone -4 --db-address={os.environ[\"DB_ADDRESS\"]}')   \n",
    "os.system(f'banzai_add_instrument --site lsc --camera fl09 --name nres01 --instrument-type 1m0-NRES-SciCam --db-address={os.environ[\"DB_ADDRESS\"]}')\n",
    "os.system(f'banzai_add_instrument --site elp --camera fl17 --name nres02 --instrument-type 1m0-NRES-SciCam --db-address={os.environ[\"DB_ADDRESS\"]}')\n",
    "for bpm_filename in glob('test_data/*/nres??/bpm/*bpm*'):\n",
    "    logger.info(f'adding bpm {bpm_filename} to the database')\n",
    "    os.system(f'banzai_nres_add_bpm --filename {bpm_filename} --db-address={os.environ[\"DB_ADDRESS\"]}')"
   ]
  },
  {
   "cell_type": "markdown",
   "metadata": {},
   "source": [
    "Process and Stack Bias Files\n",
    "----------------------------"
   ]
  },
  {
   "cell_type": "code",
   "execution_count": null,
   "metadata": {},
   "outputs": [],
   "source": [
    "bias_files = glob(os.path.join('test_data/*/nres??/*/raw/*b00*'))\n",
    "for bias_file in bias_files: \n",
    "    run_pipeline_stages([{'path': bias_file}], context) "
   ]
  },
  {
   "cell_type": "code",
   "execution_count": null,
   "metadata": {},
   "outputs": [],
   "source": [
    "def mark_frames_as_good(filenames):\n",
    "    for filename in glob(f'test_data/*/nres??/*/processed/{filenames}'):\n",
    "        dbs.mark_frame(os.path.basename(filename), \"good\", db_address=os.environ['DB_ADDRESS'])"
   ]
  },
  {
   "cell_type": "code",
   "execution_count": null,
   "metadata": {},
   "outputs": [],
   "source": [
    "mark_frames_as_good('*b91*')"
   ]
  },
  {
   "cell_type": "code",
   "execution_count": 6,
   "metadata": {},
   "outputs": [],
   "source": [
    "instrument = dbs.get_instruments_at_site('lsc', settings.db_address)[0]"
   ]
  },
  {
   "cell_type": "code",
   "execution_count": null,
   "metadata": {},
   "outputs": [],
   "source": [
    "make_master_calibrations(instrument, 'BIAS', '2017-01-01', '2019-01-01', context) "
   ]
  },
  {
   "cell_type": "markdown",
   "metadata": {},
   "source": [
    "Process and Stack Dark Files\n",
    "----------------------------"
   ]
  },
  {
   "cell_type": "code",
   "execution_count": null,
   "metadata": {},
   "outputs": [],
   "source": [
    "dark_files = glob('test_data/*/nres??/*/raw/*d00*')\n",
    "for dark_file in dark_files: \n",
    "    run_pipeline_stages([{'path': dark_file}], context)"
   ]
  },
  {
   "cell_type": "code",
   "execution_count": null,
   "metadata": {},
   "outputs": [],
   "source": [
    "mark_frames_as_good('*d91*')"
   ]
  },
  {
   "cell_type": "code",
   "execution_count": null,
   "metadata": {},
   "outputs": [],
   "source": [
    "make_master_calibrations(instrument, 'DARK', '2017-01-01', '2019-01-01', context) "
   ]
  },
  {
   "cell_type": "markdown",
   "metadata": {},
   "source": [
    "Process and stack lamp flats. This is where we also solve for the traces and profile.\n",
    "----------"
   ]
  },
  {
   "cell_type": "code",
   "execution_count": null,
   "metadata": {},
   "outputs": [],
   "source": [
    "flat_files = glob('test_data/*/nres??/*/raw/*w00*')\n",
    "for flat_file in flat_files: \n",
    "    run_pipeline_stages([{'path': flat_file}], context)"
   ]
  },
  {
   "cell_type": "code",
   "execution_count": null,
   "metadata": {},
   "outputs": [],
   "source": [
    "make_master_calibrations(instrument, 'LAMPFLAT', '2017-01-01', '2019-01-01', context)"
   ]
  },
  {
   "cell_type": "markdown",
   "metadata": {},
   "source": [
    "Process and stack arc lamps. Find the wavelength solution\n",
    "--------"
   ]
  },
  {
   "cell_type": "code",
   "execution_count": null,
   "metadata": {},
   "outputs": [],
   "source": [
    "arc_files = glob('test_data/*/nres??/*/raw/*a00*')\n",
    "for arc_file in arc_files: \n",
    "    run_pipeline_stages([{'path': arc_file}], context)"
   ]
  },
  {
   "cell_type": "code",
   "execution_count": 7,
   "metadata": {},
   "outputs": [],
   "source": [
    "make_master_calibrations(instrument, 'DOUBLE', '2017-01-01', '2019-01-01', context)"
   ]
  },
  {
   "cell_type": "markdown",
   "metadata": {},
   "source": [
    "Process the science spectra\n",
    "------"
   ]
  },
  {
   "cell_type": "code",
   "execution_count": 9,
   "metadata": {},
   "outputs": [],
   "source": [
    "science_files = glob('test_data/*/nres??/*/raw/*e00*')\n",
    "for science_file in science_files: \n",
    "    run_pipeline_stages([{'path': science_file}], context)"
   ]
  },
  {
   "cell_type": "code",
   "execution_count": null,
   "metadata": {},
   "outputs": [],
   "source": []
  }
 ],
 "metadata": {
  "kernelspec": {
   "display_name": "Python 3",
   "language": "python",
   "name": "python3"
  },
  "language_info": {
   "codemirror_mode": {
    "name": "ipython",
    "version": 3
   },
   "file_extension": ".py",
   "mimetype": "text/x-python",
   "name": "python",
   "nbconvert_exporter": "python",
   "pygments_lexer": "ipython3",
   "version": "3.6.8"
  }
 },
 "nbformat": 4,
 "nbformat_minor": 4
}
