{
 "cells": [
  {
   "cell_type": "code",
   "execution_count": 1,
   "metadata": {},
   "outputs": [],
   "source": [
    "import os\n",
    "os.environ['OPENTSDB_PYTHON_METRICS_TEST_MODE'] = 'True'"
   ]
  },
  {
   "cell_type": "code",
   "execution_count": 2,
   "metadata": {},
   "outputs": [],
   "source": [
    "from banzai.calibrations import make_master_calibrations\n",
    "import requests\n",
    "from banzai_nres import settings\n",
    "from banzai import dbs\n",
    "from banzai.utils.stage_utils import run_pipeline_stages\n",
    "import logging\n",
    "from banzai.logs import set_log_level\n",
    "from glob import glob\n",
    "\n",
    "import pkg_resources"
   ]
  },
  {
   "cell_type": "markdown",
   "metadata": {},
   "source": [
    "Setup logging and some settings show we know where the DB should be.\n",
    "------"
   ]
  },
  {
   "cell_type": "code",
   "execution_count": 3,
   "metadata": {},
   "outputs": [],
   "source": [
    "set_log_level('DEBUG')\n",
    "logger = logging.getLogger('banzai')"
   ]
  },
  {
   "cell_type": "code",
   "execution_count": 4,
   "metadata": {},
   "outputs": [],
   "source": [
    "os.environ['DB_ADDRESS'] = 'sqlite:///test_data/test.db'\n",
    "\n",
    "settings.processed_path= os.path.join(os.getcwd(), 'test_data')\n",
    "settings.fpack=True\n",
    "settings.db_address = os.environ['DB_ADDRESS']"
   ]
  },
  {
   "cell_type": "code",
   "execution_count": 5,
   "metadata": {},
   "outputs": [
    {
     "name": "stdout",
     "output_type": "stream",
     "text": [
      "2020-08-27 13:39:18.330     INFO:    calibrations: Making master frames | {\"type\": \"1m0-NRES-SciCam\", \"site\": \"lsc\", \"camera\": \"fl09\", \"obstype\": \"DOUBLE\", \"min_date\": \"2017-01-01\", \"max_date\": \"2019-01-01\", \"processName\": \"MainProcess\"}\n",
      "2020-08-27 13:39:25.106     INFO:          stages: Running banzai.stages.ArcStacker | {\"filename\": \"lscnrs01-fl09-20180313-0007-a91.fits.fz\", \"site\": \"lsc\", \"instrument\": \"nres01\", \"epoch\": \"20180313\", \"request_num\": \"UNSPECIFIED\", \"obstype\": \"DOUBLE\", \"filter\": null, \"processName\": \"MainProcess\"}\n",
      "2020-08-27 13:39:27.485     INFO:    calibrations: Created master calibration stack | {\"filename\": \"lscnrs01-fl09-20180313-double-bin1x1-011.fits\", \"site\": \"lsc\", \"instrument\": \"nres01\", \"epoch\": \"20180313\", \"request_num\": \"UNSPECIFIED\", \"obstype\": \"DOUBLE\", \"filter\": null, \"calibration_type\": \"DOUBLE\", \"processName\": \"MainProcess\"}\n",
      "2020-08-27 13:39:27.487     INFO:          stages: Running banzai.stages.ArcStacker | {\"filename\": \"lscnrs01-fl09-20180313-0021-a91.fits.fz\", \"site\": \"lsc\", \"instrument\": \"nres01\", \"epoch\": \"20180313\", \"request_num\": \"UNSPECIFIED\", \"obstype\": \"DOUBLE\", \"filter\": null, \"processName\": \"MainProcess\"}\n",
      "2020-08-27 13:39:30.470     INFO:    calibrations: Created master calibration stack | {\"filename\": \"lscnrs01-fl09-20180313-double-bin1x1-110.fits\", \"site\": \"lsc\", \"instrument\": \"nres01\", \"epoch\": \"20180313\", \"request_num\": \"UNSPECIFIED\", \"obstype\": \"DOUBLE\", \"filter\": null, \"calibration_type\": \"DOUBLE\", \"processName\": \"MainProcess\"}\n",
      "2020-08-27 13:39:30.606     INFO:          stages: Running banzai.stages.FlatLoader | {\"filename\": \"lscnrs01-fl09-20180313-double-bin1x1-011.fits\", \"site\": \"lsc\", \"instrument\": \"nres01\", \"epoch\": \"20180313\", \"request_num\": \"UNSPECIFIED\", \"obstype\": \"DOUBLE\", \"filter\": null, \"processName\": \"MainProcess\"}\n",
      "2020-08-27 13:39:32.002     INFO:    calibrations: Applying master calibration | {\"filename\": \"lscnrs01-fl09-20180313-double-bin1x1-011.fits\", \"site\": \"lsc\", \"instrument\": \"nres01\", \"epoch\": \"20180313\", \"request_num\": \"UNSPECIFIED\", \"obstype\": \"DOUBLE\", \"filter\": null, \"master_calibration\": \"lscnrs01-fl09-20180313-lampflat-bin1x1-011.fits.fz\", \"processName\": \"MainProcess\"}\n",
      "2020-08-27 13:39:32.128     INFO:          stages: Running banzai.stages.FlatLoader | {\"filename\": \"lscnrs01-fl09-20180313-double-bin1x1-110.fits\", \"site\": \"lsc\", \"instrument\": \"nres01\", \"epoch\": \"20180313\", \"request_num\": \"UNSPECIFIED\", \"obstype\": \"DOUBLE\", \"filter\": null, \"processName\": \"MainProcess\"}\n",
      "2020-08-27 13:39:33.503     INFO:    calibrations: Applying master calibration | {\"filename\": \"lscnrs01-fl09-20180313-double-bin1x1-110.fits\", \"site\": \"lsc\", \"instrument\": \"nres01\", \"epoch\": \"20180313\", \"request_num\": \"UNSPECIFIED\", \"obstype\": \"DOUBLE\", \"filter\": null, \"master_calibration\": \"lscnrs01-fl09-20180313-lampflat-bin1x1-110.fits.fz\", \"processName\": \"MainProcess\"}\n",
      "2020-08-27 13:39:33.639     INFO:          stages: Running banzai.stages.ArcLoader | {\"filename\": \"lscnrs01-fl09-20180313-double-bin1x1-011.fits\", \"site\": \"lsc\", \"instrument\": \"nres01\", \"epoch\": \"20180313\", \"request_num\": \"UNSPECIFIED\", \"obstype\": \"DOUBLE\", \"filter\": null, \"processName\": \"MainProcess\"}\n",
      "2020-08-27 13:39:33.647     INFO:          stages: Running banzai.stages.ArcLoader | {\"filename\": \"lscnrs01-fl09-20180313-double-bin1x1-110.fits\", \"site\": \"lsc\", \"instrument\": \"nres01\", \"epoch\": \"20180313\", \"request_num\": \"UNSPECIFIED\", \"obstype\": \"DOUBLE\", \"filter\": null, \"processName\": \"MainProcess\"}\n",
      "2020-08-27 13:39:33.662     INFO:          stages: Running banzai.stages.LineListLoader | {\"filename\": \"lscnrs01-fl09-20180313-double-bin1x1-011.fits\", \"site\": \"lsc\", \"instrument\": \"nres01\", \"epoch\": \"20180313\", \"request_num\": \"UNSPECIFIED\", \"obstype\": \"DOUBLE\", \"filter\": null, \"processName\": \"MainProcess\"}\n",
      "2020-08-27 13:39:33.671     INFO:      wavelength: Applying master calibration | {\"filename\": \"lscnrs01-fl09-20180313-double-bin1x1-011.fits\", \"site\": \"lsc\", \"instrument\": \"nres01\", \"epoch\": \"20180313\", \"request_num\": \"UNSPECIFIED\", \"obstype\": \"DOUBLE\", \"filter\": null, \"master_calibration\": \"ThAr_atlas_ESO_vacuum.txt\", \"processName\": \"MainProcess\"}\n",
      "2020-08-27 13:39:33.672     INFO:          stages: Running banzai.stages.LineListLoader | {\"filename\": \"lscnrs01-fl09-20180313-double-bin1x1-110.fits\", \"site\": \"lsc\", \"instrument\": \"nres01\", \"epoch\": \"20180313\", \"request_num\": \"UNSPECIFIED\", \"obstype\": \"DOUBLE\", \"filter\": null, \"processName\": \"MainProcess\"}\n",
      "2020-08-27 13:39:33.680     INFO:      wavelength: Applying master calibration | {\"filename\": \"lscnrs01-fl09-20180313-double-bin1x1-110.fits\", \"site\": \"lsc\", \"instrument\": \"nres01\", \"epoch\": \"20180313\", \"request_num\": \"UNSPECIFIED\", \"obstype\": \"DOUBLE\", \"filter\": null, \"master_calibration\": \"ThAr_atlas_ESO_vacuum.txt\", \"processName\": \"MainProcess\"}\n",
      "2020-08-27 13:39:33.681     INFO:          stages: Running banzai.stages.IdentifyFeatures | {\"filename\": \"lscnrs01-fl09-20180313-double-bin1x1-011.fits\", \"site\": \"lsc\", \"instrument\": \"nres01\", \"epoch\": \"20180313\", \"request_num\": \"UNSPECIFIED\", \"obstype\": \"DOUBLE\", \"filter\": null, \"processName\": \"MainProcess\"}\n",
      "2020-08-27 13:39:41.817     INFO:      wavelength: 9186 emission features found on this image | {\"filename\": \"lscnrs01-fl09-20180313-double-bin1x1-011.fits\", \"site\": \"lsc\", \"instrument\": \"nres01\", \"epoch\": \"20180313\", \"request_num\": \"UNSPECIFIED\", \"obstype\": \"DOUBLE\", \"filter\": null, \"processName\": \"MainProcess\"}\n",
      "2020-08-27 13:39:41.868     INFO:      wavelength: Blaze correcting emission feature fluxes | {\"filename\": \"lscnrs01-fl09-20180313-double-bin1x1-011.fits\", \"site\": \"lsc\", \"instrument\": \"nres01\", \"epoch\": \"20180313\", \"request_num\": \"UNSPECIFIED\", \"obstype\": \"DOUBLE\", \"filter\": null, \"processName\": \"MainProcess\"}\n",
      "2020-08-27 13:39:41.872     INFO:      wavelength: 4000 emission features on this image will be used | {\"filename\": \"lscnrs01-fl09-20180313-double-bin1x1-011.fits\", \"site\": \"lsc\", \"instrument\": \"nres01\", \"epoch\": \"20180313\", \"request_num\": \"UNSPECIFIED\", \"obstype\": \"DOUBLE\", \"filter\": null, \"processName\": \"MainProcess\"}\n",
      "2020-08-27 13:39:41.873     INFO:          stages: Running banzai.stages.IdentifyFeatures | {\"filename\": \"lscnrs01-fl09-20180313-double-bin1x1-110.fits\", \"site\": \"lsc\", \"instrument\": \"nres01\", \"epoch\": \"20180313\", \"request_num\": \"UNSPECIFIED\", \"obstype\": \"DOUBLE\", \"filter\": null, \"processName\": \"MainProcess\"}\n",
      "2020-08-27 13:39:47.325     INFO:      wavelength: 5960 emission features found on this image | {\"filename\": \"lscnrs01-fl09-20180313-double-bin1x1-110.fits\", \"site\": \"lsc\", \"instrument\": \"nres01\", \"epoch\": \"20180313\", \"request_num\": \"UNSPECIFIED\", \"obstype\": \"DOUBLE\", \"filter\": null, \"processName\": \"MainProcess\"}\n",
      "2020-08-27 13:39:47.359     INFO:      wavelength: Blaze correcting emission feature fluxes | {\"filename\": \"lscnrs01-fl09-20180313-double-bin1x1-110.fits\", \"site\": \"lsc\", \"instrument\": \"nres01\", \"epoch\": \"20180313\", \"request_num\": \"UNSPECIFIED\", \"obstype\": \"DOUBLE\", \"filter\": null, \"processName\": \"MainProcess\"}\n",
      "2020-08-27 13:39:47.364     INFO:      wavelength: 4000 emission features on this image will be used | {\"filename\": \"lscnrs01-fl09-20180313-double-bin1x1-110.fits\", \"site\": \"lsc\", \"instrument\": \"nres01\", \"epoch\": \"20180313\", \"request_num\": \"UNSPECIFIED\", \"obstype\": \"DOUBLE\", \"filter\": null, \"processName\": \"MainProcess\"}\n",
      "2020-08-27 13:39:47.366     INFO:          stages: Running banzai.stages.WavelengthCalibrate | {\"filename\": \"lscnrs01-fl09-20180313-double-bin1x1-011.fits\", \"site\": \"lsc\", \"instrument\": \"nres01\", \"epoch\": \"20180313\", \"request_num\": \"UNSPECIFIED\", \"obstype\": \"DOUBLE\", \"filter\": null, \"processName\": \"MainProcess\"}\n",
      "2020-08-27 13:39:47.385     INFO:      wavelength: Blind solving for the wavelengths for fiber 0 (arbitrary label). | {\"filename\": \"lscnrs01-fl09-20180313-double-bin1x1-011.fits\", \"site\": \"lsc\", \"instrument\": \"nres01\", \"epoch\": \"20180313\", \"request_num\": \"UNSPECIFIED\", \"obstype\": \"DOUBLE\", \"filter\": null, \"processName\": \"MainProcess\"}\n",
      "2020-08-27 13:41:21.474     INFO:      wavelength: Blind solving for the wavelengths for fiber 1 (arbitrary label). | {\"filename\": \"lscnrs01-fl09-20180313-double-bin1x1-011.fits\", \"site\": \"lsc\", \"instrument\": \"nres01\", \"epoch\": \"20180313\", \"request_num\": \"UNSPECIFIED\", \"obstype\": \"DOUBLE\", \"filter\": null, \"processName\": \"MainProcess\"}\n"
     ]
    },
    {
     "name": "stdout",
     "output_type": "stream",
     "text": [
      "2020-08-27 13:42:08.134     INFO:      wavelength: Principle order number is 51 for fiber 0.0 | {\"filename\": \"lscnrs01-fl09-20180313-double-bin1x1-011.fits\", \"site\": \"lsc\", \"instrument\": \"nres01\", \"epoch\": \"20180313\", \"request_num\": \"UNSPECIFIED\", \"obstype\": \"DOUBLE\", \"filter\": null, \"processName\": \"MainProcess\"}\n",
      "2020-08-27 13:42:16.915     INFO:      wavelength: Principle order number is 52 for fiber 1.0 | {\"filename\": \"lscnrs01-fl09-20180313-double-bin1x1-011.fits\", \"site\": \"lsc\", \"instrument\": \"nres01\", \"epoch\": \"20180313\", \"request_num\": \"UNSPECIFIED\", \"obstype\": \"DOUBLE\", \"filter\": null, \"processName\": \"MainProcess\"}\n",
      "2020-08-27 13:42:25.521     INFO:          stages: Running banzai.stages.WavelengthCalibrate | {\"filename\": \"lscnrs01-fl09-20180313-double-bin1x1-110.fits\", \"site\": \"lsc\", \"instrument\": \"nres01\", \"epoch\": \"20180313\", \"request_num\": \"UNSPECIFIED\", \"obstype\": \"DOUBLE\", \"filter\": null, \"processName\": \"MainProcess\"}\n",
      "2020-08-27 13:42:25.538     INFO:      wavelength: Blind solving for the wavelengths for fiber 0 (arbitrary label). | {\"filename\": \"lscnrs01-fl09-20180313-double-bin1x1-110.fits\", \"site\": \"lsc\", \"instrument\": \"nres01\", \"epoch\": \"20180313\", \"request_num\": \"UNSPECIFIED\", \"obstype\": \"DOUBLE\", \"filter\": null, \"processName\": \"MainProcess\"}\n",
      "2020-08-27 13:43:54.270     INFO:      wavelength: Blind solving for the wavelengths for fiber 1 (arbitrary label). | {\"filename\": \"lscnrs01-fl09-20180313-double-bin1x1-110.fits\", \"site\": \"lsc\", \"instrument\": \"nres01\", \"epoch\": \"20180313\", \"request_num\": \"UNSPECIFIED\", \"obstype\": \"DOUBLE\", \"filter\": null, \"processName\": \"MainProcess\"}\n",
      "2020-08-27 13:44:57.510     INFO:      wavelength: Principle order number is 51 for fiber 0.0 | {\"filename\": \"lscnrs01-fl09-20180313-double-bin1x1-110.fits\", \"site\": \"lsc\", \"instrument\": \"nres01\", \"epoch\": \"20180313\", \"request_num\": \"UNSPECIFIED\", \"obstype\": \"DOUBLE\", \"filter\": null, \"processName\": \"MainProcess\"}\n",
      "2020-08-27 13:45:06.284     INFO:      wavelength: Principle order number is 51 for fiber 1.0 | {\"filename\": \"lscnrs01-fl09-20180313-double-bin1x1-110.fits\", \"site\": \"lsc\", \"instrument\": \"nres01\", \"epoch\": \"20180313\", \"request_num\": \"UNSPECIFIED\", \"obstype\": \"DOUBLE\", \"filter\": null, \"processName\": \"MainProcess\"}\n",
      "2020-08-27 13:45:15.654     INFO:          stages: Running banzai.stages.AssessWavelengthSolution | {\"filename\": \"lscnrs01-fl09-20180313-double-bin1x1-011.fits\", \"site\": \"lsc\", \"instrument\": \"nres01\", \"epoch\": \"20180313\", \"request_num\": \"UNSPECIFIED\", \"obstype\": \"DOUBLE\", \"filter\": null, \"processName\": \"MainProcess\"}\n",
      "2020-08-27 13:45:15.659     INFO:          stages: Running banzai.stages.AssessWavelengthSolution | {\"filename\": \"lscnrs01-fl09-20180313-double-bin1x1-110.fits\", \"site\": \"lsc\", \"instrument\": \"nres01\", \"epoch\": \"20180313\", \"request_num\": \"UNSPECIFIED\", \"obstype\": \"DOUBLE\", \"filter\": null, \"processName\": \"MainProcess\"}\n",
      "2020-08-27 13:45:27.441     INFO:    calibrations: Finished | {\"processName\": \"MainProcess\"}\n",
      "2020-08-27 13:47:44.749     INFO:          stages: Running banzai.stages.BadPixelMaskLoader | {\"filename\": \"lscnrs01-fl09-20180313-0030-e00.fits.fz\", \"site\": \"lsc\", \"instrument\": \"nres01\", \"epoch\": \"20180313\", \"request_num\": \"0001446787\", \"obstype\": \"TARGET\", \"filter\": null, \"processName\": \"MainProcess\"}\n",
      "2020-08-27 13:47:44.959     INFO:    calibrations: Applying master calibration | {\"filename\": \"lscnrs01-fl09-20180313-0030-e00.fits.fz\", \"site\": \"lsc\", \"instrument\": \"nres01\", \"epoch\": \"20180313\", \"request_num\": \"0001446787\", \"obstype\": \"TARGET\", \"filter\": null, \"master_calibration\": \"bpm-lsc-nres01-fl09-20180215.fits.fz\", \"processName\": \"MainProcess\"}\n",
      "2020-08-27 13:47:44.995     INFO:          stages: Running banzai.stages.OverscanSubtractor | {\"filename\": \"lscnrs01-fl09-20180313-0030-e00.fits.fz\", \"site\": \"lsc\", \"instrument\": \"nres01\", \"epoch\": \"20180313\", \"request_num\": \"0001446787\", \"obstype\": \"TARGET\", \"filter\": null, \"processName\": \"MainProcess\"}\n",
      "2020-08-27 13:47:45.025     INFO:          stages: Running banzai.stages.GainNormalizer | {\"filename\": \"lscnrs01-fl09-20180313-0030-e00.fits.fz\", \"site\": \"lsc\", \"instrument\": \"nres01\", \"epoch\": \"20180313\", \"request_num\": \"0001446787\", \"obstype\": \"TARGET\", \"filter\": null, \"processName\": \"MainProcess\"}\n",
      "2020-08-27 13:47:45.026     INFO:            gain: Multiplying by gain | {\"filename\": \"lscnrs01-fl09-20180313-0030-e00.fits.fz\", \"site\": \"lsc\", \"instrument\": \"nres01\", \"epoch\": \"20180313\", \"request_num\": \"0001446787\", \"obstype\": \"TARGET\", \"filter\": null, \"processName\": \"MainProcess\"}\n",
      "2020-08-27 13:47:45.062     INFO:          stages: Running banzai.stages.Trimmer | {\"filename\": \"lscnrs01-fl09-20180313-0030-e00.fits.fz\", \"site\": \"lsc\", \"instrument\": \"nres01\", \"epoch\": \"20180313\", \"request_num\": \"0001446787\", \"obstype\": \"TARGET\", \"filter\": null, \"processName\": \"MainProcess\"}\n",
      "2020-08-27 13:47:45.063     INFO:            trim: Trimming image | {\"filename\": \"lscnrs01-fl09-20180313-0030-e00.fits.fz\", \"site\": \"lsc\", \"instrument\": \"nres01\", \"epoch\": \"20180313\", \"request_num\": \"0001446787\", \"obstype\": \"TARGET\", \"filter\": null, \"processName\": \"MainProcess\"}\n",
      "2020-08-27 13:47:45.333     INFO:          stages: Running banzai.stages.BiasSubtractor | {\"filename\": \"lscnrs01-fl09-20180313-0030-e00.fits.fz\", \"site\": \"lsc\", \"instrument\": \"nres01\", \"epoch\": \"20180313\", \"request_num\": \"0001446787\", \"obstype\": \"TARGET\", \"filter\": null, \"processName\": \"MainProcess\"}\n",
      "2020-08-27 13:47:46.062     INFO:    calibrations: Applying master calibration | {\"filename\": \"lscnrs01-fl09-20180313-0030-e00.fits.fz\", \"site\": \"lsc\", \"instrument\": \"nres01\", \"epoch\": \"20180313\", \"request_num\": \"0001446787\", \"obstype\": \"TARGET\", \"filter\": null, \"master_calibration\": \"lscnrs01-fl09-20180313-bias-bin1x1.fits.fz\", \"processName\": \"MainProcess\"}\n",
      "2020-08-27 13:47:46.259     INFO:          stages: Running banzai.stages.PoissonInitializer | {\"filename\": \"lscnrs01-fl09-20180313-0030-e00.fits.fz\", \"site\": \"lsc\", \"instrument\": \"nres01\", \"epoch\": \"20180313\", \"request_num\": \"0001446787\", \"obstype\": \"TARGET\", \"filter\": null, \"processName\": \"MainProcess\"}\n",
      "2020-08-27 13:47:46.373     INFO:          stages: Running banzai.stages.DarkSubtractor | {\"filename\": \"lscnrs01-fl09-20180313-0030-e00.fits.fz\", \"site\": \"lsc\", \"instrument\": \"nres01\", \"epoch\": \"20180313\", \"request_num\": \"0001446787\", \"obstype\": \"TARGET\", \"filter\": null, \"processName\": \"MainProcess\"}\n",
      "2020-08-27 13:47:47.104     INFO:    calibrations: Applying master calibration | {\"filename\": \"lscnrs01-fl09-20180313-0030-e00.fits.fz\", \"site\": \"lsc\", \"instrument\": \"nres01\", \"epoch\": \"20180313\", \"request_num\": \"0001446787\", \"obstype\": \"TARGET\", \"filter\": null, \"master_calibration\": \"lscnrs01-fl09-20180313-dark-bin1x1.fits.fz\", \"processName\": \"MainProcess\"}\n",
      "2020-08-27 13:47:47.270     INFO:          stages: Running banzai.stages.FlatLoader | {\"filename\": \"lscnrs01-fl09-20180313-0030-e00.fits.fz\", \"site\": \"lsc\", \"instrument\": \"nres01\", \"epoch\": \"20180313\", \"request_num\": \"0001446787\", \"obstype\": \"TARGET\", \"filter\": null, \"processName\": \"MainProcess\"}\n",
      "2020-08-27 13:47:48.629     INFO:    calibrations: Applying master calibration | {\"filename\": \"lscnrs01-fl09-20180313-0030-e00.fits.fz\", \"site\": \"lsc\", \"instrument\": \"nres01\", \"epoch\": \"20180313\", \"request_num\": \"0001446787\", \"obstype\": \"TARGET\", \"filter\": null, \"master_calibration\": \"lscnrs01-fl09-20180313-lampflat-bin1x1-110.fits.fz\", \"processName\": \"MainProcess\"}\n",
      "2020-08-27 13:47:48.761     INFO:          stages: Running banzai.stages.BackgroundSubtractor | {\"filename\": \"lscnrs01-fl09-20180313-0030-e00.fits.fz\", \"site\": \"lsc\", \"instrument\": \"nres01\", \"epoch\": \"20180313\", \"request_num\": \"0001446787\", \"obstype\": \"TARGET\", \"filter\": null, \"processName\": \"MainProcess\"}\n",
      "2020-08-27 13:47:49.146     INFO:          stages: Running banzai.stages.ArcLoader | {\"filename\": \"lscnrs01-fl09-20180313-0030-e00.fits.fz\", \"site\": \"lsc\", \"instrument\": \"nres01\", \"epoch\": \"20180313\", \"request_num\": \"0001446787\", \"obstype\": \"TARGET\", \"filter\": null, \"processName\": \"MainProcess\"}\n",
      "2020-08-27 13:47:50.870     INFO:    calibrations: Applying master calibration | {\"filename\": \"lscnrs01-fl09-20180313-0030-e00.fits.fz\", \"site\": \"lsc\", \"instrument\": \"nres01\", \"epoch\": \"20180313\", \"request_num\": \"0001446787\", \"obstype\": \"TARGET\", \"filter\": null, \"master_calibration\": \"lscnrs01-fl09-20180313-double-bin1x1-110.fits.fz\", \"processName\": \"MainProcess\"}\n"
     ]
    },
    {
     "name": "stdout",
     "output_type": "stream",
     "text": [
      "2020-08-27 13:47:51.012     INFO:          stages: Running banzai.stages.GetOptimalExtractionWeights | {\"filename\": \"lscnrs01-fl09-20180313-0030-e00.fits.fz\", \"site\": \"lsc\", \"instrument\": \"nres01\", \"epoch\": \"20180313\", \"request_num\": \"0001446787\", \"obstype\": \"TARGET\", \"filter\": null, \"processName\": \"MainProcess\"}\n",
      "2020-08-27 13:48:07.937     INFO:          stages: Running banzai.stages.WeightedExtract | {\"filename\": \"lscnrs01-fl09-20180313-0030-e00.fits.fz\", \"site\": \"lsc\", \"instrument\": \"nres01\", \"epoch\": \"20180313\", \"request_num\": \"0001446787\", \"obstype\": \"TARGET\", \"filter\": null, \"processName\": \"MainProcess\"}\n",
      "2020-08-27 13:48:25.380     INFO:          stages: Running banzai.stages.ContinuumNormalizer | {\"filename\": \"lscnrs01-fl09-20180313-0030-e00.fits.fz\", \"site\": \"lsc\", \"instrument\": \"nres01\", \"epoch\": \"20180313\", \"request_num\": \"0001446787\", \"obstype\": \"TARGET\", \"filter\": null, \"processName\": \"MainProcess\"}\n",
      "2020-08-27 13:48:25.977     INFO:          stages: Running banzai.stages.RVCalculator | {\"filename\": \"lscnrs01-fl09-20180313-0030-e00.fits.fz\", \"site\": \"lsc\", \"instrument\": \"nres01\", \"epoch\": \"20180313\", \"request_num\": \"0001446787\", \"obstype\": \"TARGET\", \"filter\": null, \"processName\": \"MainProcess\"}\n",
      "2020-08-27 13:48:25.991     INFO:              rv: Cross correlating for order: 75 | {\"filename\": \"lscnrs01-fl09-20180313-0030-e00.fits.fz\", \"site\": \"lsc\", \"instrument\": \"nres01\", \"epoch\": \"20180313\", \"request_num\": \"0001446787\", \"obstype\": \"TARGET\", \"filter\": null, \"processName\": \"MainProcess\"}\n",
      "2020-08-27 13:48:26.427     INFO:              rv: Cross correlating for order: 76 | {\"filename\": \"lscnrs01-fl09-20180313-0030-e00.fits.fz\", \"site\": \"lsc\", \"instrument\": \"nres01\", \"epoch\": \"20180313\", \"request_num\": \"0001446787\", \"obstype\": \"TARGET\", \"filter\": null, \"processName\": \"MainProcess\"}\n",
      "2020-08-27 13:48:26.845     INFO:              rv: Cross correlating for order: 77 | {\"filename\": \"lscnrs01-fl09-20180313-0030-e00.fits.fz\", \"site\": \"lsc\", \"instrument\": \"nres01\", \"epoch\": \"20180313\", \"request_num\": \"0001446787\", \"obstype\": \"TARGET\", \"filter\": null, \"processName\": \"MainProcess\"}\n",
      "2020-08-27 13:48:27.247     INFO:              rv: Cross correlating for order: 78 | {\"filename\": \"lscnrs01-fl09-20180313-0030-e00.fits.fz\", \"site\": \"lsc\", \"instrument\": \"nres01\", \"epoch\": \"20180313\", \"request_num\": \"0001446787\", \"obstype\": \"TARGET\", \"filter\": null, \"processName\": \"MainProcess\"}\n",
      "2020-08-27 13:48:27.635     INFO:              rv: Cross correlating for order: 79 | {\"filename\": \"lscnrs01-fl09-20180313-0030-e00.fits.fz\", \"site\": \"lsc\", \"instrument\": \"nres01\", \"epoch\": \"20180313\", \"request_num\": \"0001446787\", \"obstype\": \"TARGET\", \"filter\": null, \"processName\": \"MainProcess\"}\n",
      "2020-08-27 13:48:28.028     INFO:              rv: Cross correlating for order: 80 | {\"filename\": \"lscnrs01-fl09-20180313-0030-e00.fits.fz\", \"site\": \"lsc\", \"instrument\": \"nres01\", \"epoch\": \"20180313\", \"request_num\": \"0001446787\", \"obstype\": \"TARGET\", \"filter\": null, \"processName\": \"MainProcess\"}\n",
      "2020-08-27 13:48:28.407     INFO:              rv: Cross correlating for order: 81 | {\"filename\": \"lscnrs01-fl09-20180313-0030-e00.fits.fz\", \"site\": \"lsc\", \"instrument\": \"nres01\", \"epoch\": \"20180313\", \"request_num\": \"0001446787\", \"obstype\": \"TARGET\", \"filter\": null, \"processName\": \"MainProcess\"}\n",
      "2020-08-27 13:48:28.794     INFO:              rv: Cross correlating for order: 82 | {\"filename\": \"lscnrs01-fl09-20180313-0030-e00.fits.fz\", \"site\": \"lsc\", \"instrument\": \"nres01\", \"epoch\": \"20180313\", \"request_num\": \"0001446787\", \"obstype\": \"TARGET\", \"filter\": null, \"processName\": \"MainProcess\"}\n",
      "2020-08-27 13:48:29.177     INFO:              rv: Cross correlating for order: 83 | {\"filename\": \"lscnrs01-fl09-20180313-0030-e00.fits.fz\", \"site\": \"lsc\", \"instrument\": \"nres01\", \"epoch\": \"20180313\", \"request_num\": \"0001446787\", \"obstype\": \"TARGET\", \"filter\": null, \"processName\": \"MainProcess\"}\n",
      "2020-08-27 13:48:29.546     INFO:              rv: Cross correlating for order: 84 | {\"filename\": \"lscnrs01-fl09-20180313-0030-e00.fits.fz\", \"site\": \"lsc\", \"instrument\": \"nres01\", \"epoch\": \"20180313\", \"request_num\": \"0001446787\", \"obstype\": \"TARGET\", \"filter\": null, \"processName\": \"MainProcess\"}\n",
      "2020-08-27 13:48:29.911     INFO:              rv: Cross correlating for order: 85 | {\"filename\": \"lscnrs01-fl09-20180313-0030-e00.fits.fz\", \"site\": \"lsc\", \"instrument\": \"nres01\", \"epoch\": \"20180313\", \"request_num\": \"0001446787\", \"obstype\": \"TARGET\", \"filter\": null, \"processName\": \"MainProcess\"}\n",
      "2020-08-27 13:48:30.274     INFO:              rv: Cross correlating for order: 86 | {\"filename\": \"lscnrs01-fl09-20180313-0030-e00.fits.fz\", \"site\": \"lsc\", \"instrument\": \"nres01\", \"epoch\": \"20180313\", \"request_num\": \"0001446787\", \"obstype\": \"TARGET\", \"filter\": null, \"processName\": \"MainProcess\"}\n",
      "2020-08-27 13:48:30.634     INFO:              rv: Cross correlating for order: 87 | {\"filename\": \"lscnrs01-fl09-20180313-0030-e00.fits.fz\", \"site\": \"lsc\", \"instrument\": \"nres01\", \"epoch\": \"20180313\", \"request_num\": \"0001446787\", \"obstype\": \"TARGET\", \"filter\": null, \"processName\": \"MainProcess\"}\n",
      "2020-08-27 13:48:31.003     INFO:              rv: Cross correlating for order: 88 | {\"filename\": \"lscnrs01-fl09-20180313-0030-e00.fits.fz\", \"site\": \"lsc\", \"instrument\": \"nres01\", \"epoch\": \"20180313\", \"request_num\": \"0001446787\", \"obstype\": \"TARGET\", \"filter\": null, \"processName\": \"MainProcess\"}\n",
      "2020-08-27 13:48:31.369     INFO:              rv: Cross correlating for order: 89 | {\"filename\": \"lscnrs01-fl09-20180313-0030-e00.fits.fz\", \"site\": \"lsc\", \"instrument\": \"nres01\", \"epoch\": \"20180313\", \"request_num\": \"0001446787\", \"obstype\": \"TARGET\", \"filter\": null, \"processName\": \"MainProcess\"}\n",
      "2020-08-27 13:48:31.741     INFO:              rv: Cross correlating for order: 90 | {\"filename\": \"lscnrs01-fl09-20180313-0030-e00.fits.fz\", \"site\": \"lsc\", \"instrument\": \"nres01\", \"epoch\": \"20180313\", \"request_num\": \"0001446787\", \"obstype\": \"TARGET\", \"filter\": null, \"processName\": \"MainProcess\"}\n",
      "2020-08-27 13:48:32.100     INFO:              rv: Cross correlating for order: 91 | {\"filename\": \"lscnrs01-fl09-20180313-0030-e00.fits.fz\", \"site\": \"lsc\", \"instrument\": \"nres01\", \"epoch\": \"20180313\", \"request_num\": \"0001446787\", \"obstype\": \"TARGET\", \"filter\": null, \"processName\": \"MainProcess\"}\n",
      "2020-08-27 13:48:32.460     INFO:              rv: Cross correlating for order: 92 | {\"filename\": \"lscnrs01-fl09-20180313-0030-e00.fits.fz\", \"site\": \"lsc\", \"instrument\": \"nres01\", \"epoch\": \"20180313\", \"request_num\": \"0001446787\", \"obstype\": \"TARGET\", \"filter\": null, \"processName\": \"MainProcess\"}\n",
      "2020-08-27 13:48:32.842     INFO:              rv: Cross correlating for order: 93 | {\"filename\": \"lscnrs01-fl09-20180313-0030-e00.fits.fz\", \"site\": \"lsc\", \"instrument\": \"nres01\", \"epoch\": \"20180313\", \"request_num\": \"0001446787\", \"obstype\": \"TARGET\", \"filter\": null, \"processName\": \"MainProcess\"}\n",
      "2020-08-27 13:48:33.228     INFO:              rv: Cross correlating for order: 94 | {\"filename\": \"lscnrs01-fl09-20180313-0030-e00.fits.fz\", \"site\": \"lsc\", \"instrument\": \"nres01\", \"epoch\": \"20180313\", \"request_num\": \"0001446787\", \"obstype\": \"TARGET\", \"filter\": null, \"processName\": \"MainProcess\"}\n",
      "2020-08-27 13:48:33.624     INFO:              rv: Cross correlating for order: 95 | {\"filename\": \"lscnrs01-fl09-20180313-0030-e00.fits.fz\", \"site\": \"lsc\", \"instrument\": \"nres01\", \"epoch\": \"20180313\", \"request_num\": \"0001446787\", \"obstype\": \"TARGET\", \"filter\": null, \"processName\": \"MainProcess\"}\n",
      "2020-08-27 13:48:34.007     INFO:              rv: Cross correlating for order: 96 | {\"filename\": \"lscnrs01-fl09-20180313-0030-e00.fits.fz\", \"site\": \"lsc\", \"instrument\": \"nres01\", \"epoch\": \"20180313\", \"request_num\": \"0001446787\", \"obstype\": \"TARGET\", \"filter\": null, \"processName\": \"MainProcess\"}\n",
      "2020-08-27 13:48:34.374     INFO:              rv: Cross correlating for order: 97 | {\"filename\": \"lscnrs01-fl09-20180313-0030-e00.fits.fz\", \"site\": \"lsc\", \"instrument\": \"nres01\", \"epoch\": \"20180313\", \"request_num\": \"0001446787\", \"obstype\": \"TARGET\", \"filter\": null, \"processName\": \"MainProcess\"}\n",
      "2020-08-27 13:48:34.741     INFO:              rv: Cross correlating for order: 98 | {\"filename\": \"lscnrs01-fl09-20180313-0030-e00.fits.fz\", \"site\": \"lsc\", \"instrument\": \"nres01\", \"epoch\": \"20180313\", \"request_num\": \"0001446787\", \"obstype\": \"TARGET\", \"filter\": null, \"processName\": \"MainProcess\"}\n"
     ]
    },
    {
     "name": "stdout",
     "output_type": "stream",
     "text": [
      "2020-08-27 13:48:35.114     INFO:              rv: Cross correlating for order: 99 | {\"filename\": \"lscnrs01-fl09-20180313-0030-e00.fits.fz\", \"site\": \"lsc\", \"instrument\": \"nres01\", \"epoch\": \"20180313\", \"request_num\": \"0001446787\", \"obstype\": \"TARGET\", \"filter\": null, \"processName\": \"MainProcess\"}\n",
      "2020-08-27 13:48:35.475     INFO:              rv: Cross correlating for order: 100 | {\"filename\": \"lscnrs01-fl09-20180313-0030-e00.fits.fz\", \"site\": \"lsc\", \"instrument\": \"nres01\", \"epoch\": \"20180313\", \"request_num\": \"0001446787\", \"obstype\": \"TARGET\", \"filter\": null, \"processName\": \"MainProcess\"}\n",
      "2020-08-27 13:48:35.837     INFO:              rv: Cross correlating for order: 75 | {\"filename\": \"lscnrs01-fl09-20180313-0030-e00.fits.fz\", \"site\": \"lsc\", \"instrument\": \"nres01\", \"epoch\": \"20180313\", \"request_num\": \"0001446787\", \"obstype\": \"TARGET\", \"filter\": null, \"processName\": \"MainProcess\"}\n",
      "2020-08-27 13:48:36.257     INFO:              rv: Cross correlating for order: 76 | {\"filename\": \"lscnrs01-fl09-20180313-0030-e00.fits.fz\", \"site\": \"lsc\", \"instrument\": \"nres01\", \"epoch\": \"20180313\", \"request_num\": \"0001446787\", \"obstype\": \"TARGET\", \"filter\": null, \"processName\": \"MainProcess\"}\n",
      "2020-08-27 13:48:36.652     INFO:              rv: Cross correlating for order: 77 | {\"filename\": \"lscnrs01-fl09-20180313-0030-e00.fits.fz\", \"site\": \"lsc\", \"instrument\": \"nres01\", \"epoch\": \"20180313\", \"request_num\": \"0001446787\", \"obstype\": \"TARGET\", \"filter\": null, \"processName\": \"MainProcess\"}\n",
      "2020-08-27 13:48:37.044     INFO:              rv: Cross correlating for order: 78 | {\"filename\": \"lscnrs01-fl09-20180313-0030-e00.fits.fz\", \"site\": \"lsc\", \"instrument\": \"nres01\", \"epoch\": \"20180313\", \"request_num\": \"0001446787\", \"obstype\": \"TARGET\", \"filter\": null, \"processName\": \"MainProcess\"}\n",
      "2020-08-27 13:48:37.442     INFO:              rv: Cross correlating for order: 79 | {\"filename\": \"lscnrs01-fl09-20180313-0030-e00.fits.fz\", \"site\": \"lsc\", \"instrument\": \"nres01\", \"epoch\": \"20180313\", \"request_num\": \"0001446787\", \"obstype\": \"TARGET\", \"filter\": null, \"processName\": \"MainProcess\"}\n",
      "2020-08-27 13:48:37.833     INFO:              rv: Cross correlating for order: 80 | {\"filename\": \"lscnrs01-fl09-20180313-0030-e00.fits.fz\", \"site\": \"lsc\", \"instrument\": \"nres01\", \"epoch\": \"20180313\", \"request_num\": \"0001446787\", \"obstype\": \"TARGET\", \"filter\": null, \"processName\": \"MainProcess\"}\n",
      "2020-08-27 13:48:38.226     INFO:              rv: Cross correlating for order: 81 | {\"filename\": \"lscnrs01-fl09-20180313-0030-e00.fits.fz\", \"site\": \"lsc\", \"instrument\": \"nres01\", \"epoch\": \"20180313\", \"request_num\": \"0001446787\", \"obstype\": \"TARGET\", \"filter\": null, \"processName\": \"MainProcess\"}\n",
      "2020-08-27 13:48:38.610     INFO:              rv: Cross correlating for order: 82 | {\"filename\": \"lscnrs01-fl09-20180313-0030-e00.fits.fz\", \"site\": \"lsc\", \"instrument\": \"nres01\", \"epoch\": \"20180313\", \"request_num\": \"0001446787\", \"obstype\": \"TARGET\", \"filter\": null, \"processName\": \"MainProcess\"}\n",
      "2020-08-27 13:48:39.001     INFO:              rv: Cross correlating for order: 83 | {\"filename\": \"lscnrs01-fl09-20180313-0030-e00.fits.fz\", \"site\": \"lsc\", \"instrument\": \"nres01\", \"epoch\": \"20180313\", \"request_num\": \"0001446787\", \"obstype\": \"TARGET\", \"filter\": null, \"processName\": \"MainProcess\"}\n",
      "2020-08-27 13:48:39.392     INFO:              rv: Cross correlating for order: 84 | {\"filename\": \"lscnrs01-fl09-20180313-0030-e00.fits.fz\", \"site\": \"lsc\", \"instrument\": \"nres01\", \"epoch\": \"20180313\", \"request_num\": \"0001446787\", \"obstype\": \"TARGET\", \"filter\": null, \"processName\": \"MainProcess\"}\n",
      "2020-08-27 13:48:39.779     INFO:              rv: Cross correlating for order: 85 | {\"filename\": \"lscnrs01-fl09-20180313-0030-e00.fits.fz\", \"site\": \"lsc\", \"instrument\": \"nres01\", \"epoch\": \"20180313\", \"request_num\": \"0001446787\", \"obstype\": \"TARGET\", \"filter\": null, \"processName\": \"MainProcess\"}\n",
      "2020-08-27 13:48:40.166     INFO:              rv: Cross correlating for order: 86 | {\"filename\": \"lscnrs01-fl09-20180313-0030-e00.fits.fz\", \"site\": \"lsc\", \"instrument\": \"nres01\", \"epoch\": \"20180313\", \"request_num\": \"0001446787\", \"obstype\": \"TARGET\", \"filter\": null, \"processName\": \"MainProcess\"}\n",
      "2020-08-27 13:48:40.546     INFO:              rv: Cross correlating for order: 87 | {\"filename\": \"lscnrs01-fl09-20180313-0030-e00.fits.fz\", \"site\": \"lsc\", \"instrument\": \"nres01\", \"epoch\": \"20180313\", \"request_num\": \"0001446787\", \"obstype\": \"TARGET\", \"filter\": null, \"processName\": \"MainProcess\"}\n",
      "2020-08-27 13:48:40.959     INFO:              rv: Cross correlating for order: 88 | {\"filename\": \"lscnrs01-fl09-20180313-0030-e00.fits.fz\", \"site\": \"lsc\", \"instrument\": \"nres01\", \"epoch\": \"20180313\", \"request_num\": \"0001446787\", \"obstype\": \"TARGET\", \"filter\": null, \"processName\": \"MainProcess\"}\n",
      "2020-08-27 13:48:41.335     INFO:              rv: Cross correlating for order: 89 | {\"filename\": \"lscnrs01-fl09-20180313-0030-e00.fits.fz\", \"site\": \"lsc\", \"instrument\": \"nres01\", \"epoch\": \"20180313\", \"request_num\": \"0001446787\", \"obstype\": \"TARGET\", \"filter\": null, \"processName\": \"MainProcess\"}\n",
      "2020-08-27 13:48:41.711     INFO:              rv: Cross correlating for order: 90 | {\"filename\": \"lscnrs01-fl09-20180313-0030-e00.fits.fz\", \"site\": \"lsc\", \"instrument\": \"nres01\", \"epoch\": \"20180313\", \"request_num\": \"0001446787\", \"obstype\": \"TARGET\", \"filter\": null, \"processName\": \"MainProcess\"}\n",
      "2020-08-27 13:48:42.081     INFO:              rv: Cross correlating for order: 91 | {\"filename\": \"lscnrs01-fl09-20180313-0030-e00.fits.fz\", \"site\": \"lsc\", \"instrument\": \"nres01\", \"epoch\": \"20180313\", \"request_num\": \"0001446787\", \"obstype\": \"TARGET\", \"filter\": null, \"processName\": \"MainProcess\"}\n",
      "2020-08-27 13:48:42.462     INFO:              rv: Cross correlating for order: 92 | {\"filename\": \"lscnrs01-fl09-20180313-0030-e00.fits.fz\", \"site\": \"lsc\", \"instrument\": \"nres01\", \"epoch\": \"20180313\", \"request_num\": \"0001446787\", \"obstype\": \"TARGET\", \"filter\": null, \"processName\": \"MainProcess\"}\n",
      "2020-08-27 13:48:42.832     INFO:              rv: Cross correlating for order: 93 | {\"filename\": \"lscnrs01-fl09-20180313-0030-e00.fits.fz\", \"site\": \"lsc\", \"instrument\": \"nres01\", \"epoch\": \"20180313\", \"request_num\": \"0001446787\", \"obstype\": \"TARGET\", \"filter\": null, \"processName\": \"MainProcess\"}\n",
      "2020-08-27 13:48:43.213     INFO:              rv: Cross correlating for order: 94 | {\"filename\": \"lscnrs01-fl09-20180313-0030-e00.fits.fz\", \"site\": \"lsc\", \"instrument\": \"nres01\", \"epoch\": \"20180313\", \"request_num\": \"0001446787\", \"obstype\": \"TARGET\", \"filter\": null, \"processName\": \"MainProcess\"}\n",
      "2020-08-27 13:48:43.595     INFO:              rv: Cross correlating for order: 95 | {\"filename\": \"lscnrs01-fl09-20180313-0030-e00.fits.fz\", \"site\": \"lsc\", \"instrument\": \"nres01\", \"epoch\": \"20180313\", \"request_num\": \"0001446787\", \"obstype\": \"TARGET\", \"filter\": null, \"processName\": \"MainProcess\"}\n",
      "2020-08-27 13:48:43.985     INFO:              rv: Cross correlating for order: 96 | {\"filename\": \"lscnrs01-fl09-20180313-0030-e00.fits.fz\", \"site\": \"lsc\", \"instrument\": \"nres01\", \"epoch\": \"20180313\", \"request_num\": \"0001446787\", \"obstype\": \"TARGET\", \"filter\": null, \"processName\": \"MainProcess\"}\n",
      "2020-08-27 13:48:44.367     INFO:              rv: Cross correlating for order: 97 | {\"filename\": \"lscnrs01-fl09-20180313-0030-e00.fits.fz\", \"site\": \"lsc\", \"instrument\": \"nres01\", \"epoch\": \"20180313\", \"request_num\": \"0001446787\", \"obstype\": \"TARGET\", \"filter\": null, \"processName\": \"MainProcess\"}\n",
      "2020-08-27 13:48:44.743     INFO:              rv: Cross correlating for order: 98 | {\"filename\": \"lscnrs01-fl09-20180313-0030-e00.fits.fz\", \"site\": \"lsc\", \"instrument\": \"nres01\", \"epoch\": \"20180313\", \"request_num\": \"0001446787\", \"obstype\": \"TARGET\", \"filter\": null, \"processName\": \"MainProcess\"}\n",
      "2020-08-27 13:48:45.111     INFO:              rv: Cross correlating for order: 99 | {\"filename\": \"lscnrs01-fl09-20180313-0030-e00.fits.fz\", \"site\": \"lsc\", \"instrument\": \"nres01\", \"epoch\": \"20180313\", \"request_num\": \"0001446787\", \"obstype\": \"TARGET\", \"filter\": null, \"processName\": \"MainProcess\"}\n",
      "2020-08-27 13:48:45.497     INFO:              rv: Cross correlating for order: 100 | {\"filename\": \"lscnrs01-fl09-20180313-0030-e00.fits.fz\", \"site\": \"lsc\", \"instrument\": \"nres01\", \"epoch\": \"20180313\", \"request_num\": \"0001446787\", \"obstype\": \"TARGET\", \"filter\": null, \"processName\": \"MainProcess\"}\n"
     ]
    },
    {
     "name": "stdout",
     "output_type": "stream",
     "text": [
      "2020-08-27 13:48:55.432     INFO:          stages: Running banzai.stages.BadPixelMaskLoader | {\"filename\": \"lscnrs01-fl09-20180313-0031-e00.fits.fz\", \"site\": \"lsc\", \"instrument\": \"nres01\", \"epoch\": \"20180313\", \"request_num\": \"0001446787\", \"obstype\": \"TARGET\", \"filter\": null, \"processName\": \"MainProcess\"}\n",
      "2020-08-27 13:48:55.631     INFO:    calibrations: Applying master calibration | {\"filename\": \"lscnrs01-fl09-20180313-0031-e00.fits.fz\", \"site\": \"lsc\", \"instrument\": \"nres01\", \"epoch\": \"20180313\", \"request_num\": \"0001446787\", \"obstype\": \"TARGET\", \"filter\": null, \"master_calibration\": \"bpm-lsc-nres01-fl09-20180215.fits.fz\", \"processName\": \"MainProcess\"}\n",
      "2020-08-27 13:48:55.673     INFO:          stages: Running banzai.stages.OverscanSubtractor | {\"filename\": \"lscnrs01-fl09-20180313-0031-e00.fits.fz\", \"site\": \"lsc\", \"instrument\": \"nres01\", \"epoch\": \"20180313\", \"request_num\": \"0001446787\", \"obstype\": \"TARGET\", \"filter\": null, \"processName\": \"MainProcess\"}\n",
      "2020-08-27 13:48:55.701     INFO:          stages: Running banzai.stages.GainNormalizer | {\"filename\": \"lscnrs01-fl09-20180313-0031-e00.fits.fz\", \"site\": \"lsc\", \"instrument\": \"nres01\", \"epoch\": \"20180313\", \"request_num\": \"0001446787\", \"obstype\": \"TARGET\", \"filter\": null, \"processName\": \"MainProcess\"}\n",
      "2020-08-27 13:48:55.703     INFO:            gain: Multiplying by gain | {\"filename\": \"lscnrs01-fl09-20180313-0031-e00.fits.fz\", \"site\": \"lsc\", \"instrument\": \"nres01\", \"epoch\": \"20180313\", \"request_num\": \"0001446787\", \"obstype\": \"TARGET\", \"filter\": null, \"processName\": \"MainProcess\"}\n",
      "2020-08-27 13:48:55.739     INFO:          stages: Running banzai.stages.Trimmer | {\"filename\": \"lscnrs01-fl09-20180313-0031-e00.fits.fz\", \"site\": \"lsc\", \"instrument\": \"nres01\", \"epoch\": \"20180313\", \"request_num\": \"0001446787\", \"obstype\": \"TARGET\", \"filter\": null, \"processName\": \"MainProcess\"}\n",
      "2020-08-27 13:48:55.739     INFO:            trim: Trimming image | {\"filename\": \"lscnrs01-fl09-20180313-0031-e00.fits.fz\", \"site\": \"lsc\", \"instrument\": \"nres01\", \"epoch\": \"20180313\", \"request_num\": \"0001446787\", \"obstype\": \"TARGET\", \"filter\": null, \"processName\": \"MainProcess\"}\n",
      "2020-08-27 13:48:56.008     INFO:          stages: Running banzai.stages.BiasSubtractor | {\"filename\": \"lscnrs01-fl09-20180313-0031-e00.fits.fz\", \"site\": \"lsc\", \"instrument\": \"nres01\", \"epoch\": \"20180313\", \"request_num\": \"0001446787\", \"obstype\": \"TARGET\", \"filter\": null, \"processName\": \"MainProcess\"}\n",
      "2020-08-27 13:48:56.737     INFO:    calibrations: Applying master calibration | {\"filename\": \"lscnrs01-fl09-20180313-0031-e00.fits.fz\", \"site\": \"lsc\", \"instrument\": \"nres01\", \"epoch\": \"20180313\", \"request_num\": \"0001446787\", \"obstype\": \"TARGET\", \"filter\": null, \"master_calibration\": \"lscnrs01-fl09-20180313-bias-bin1x1.fits.fz\", \"processName\": \"MainProcess\"}\n",
      "2020-08-27 13:48:56.952     INFO:          stages: Running banzai.stages.PoissonInitializer | {\"filename\": \"lscnrs01-fl09-20180313-0031-e00.fits.fz\", \"site\": \"lsc\", \"instrument\": \"nres01\", \"epoch\": \"20180313\", \"request_num\": \"0001446787\", \"obstype\": \"TARGET\", \"filter\": null, \"processName\": \"MainProcess\"}\n",
      "2020-08-27 13:48:57.071     INFO:          stages: Running banzai.stages.DarkSubtractor | {\"filename\": \"lscnrs01-fl09-20180313-0031-e00.fits.fz\", \"site\": \"lsc\", \"instrument\": \"nres01\", \"epoch\": \"20180313\", \"request_num\": \"0001446787\", \"obstype\": \"TARGET\", \"filter\": null, \"processName\": \"MainProcess\"}\n",
      "2020-08-27 13:48:57.783     INFO:    calibrations: Applying master calibration | {\"filename\": \"lscnrs01-fl09-20180313-0031-e00.fits.fz\", \"site\": \"lsc\", \"instrument\": \"nres01\", \"epoch\": \"20180313\", \"request_num\": \"0001446787\", \"obstype\": \"TARGET\", \"filter\": null, \"master_calibration\": \"lscnrs01-fl09-20180313-dark-bin1x1.fits.fz\", \"processName\": \"MainProcess\"}\n",
      "2020-08-27 13:48:57.955     INFO:          stages: Running banzai.stages.FlatLoader | {\"filename\": \"lscnrs01-fl09-20180313-0031-e00.fits.fz\", \"site\": \"lsc\", \"instrument\": \"nres01\", \"epoch\": \"20180313\", \"request_num\": \"0001446787\", \"obstype\": \"TARGET\", \"filter\": null, \"processName\": \"MainProcess\"}\n",
      "2020-08-27 13:48:59.333     INFO:    calibrations: Applying master calibration | {\"filename\": \"lscnrs01-fl09-20180313-0031-e00.fits.fz\", \"site\": \"lsc\", \"instrument\": \"nres01\", \"epoch\": \"20180313\", \"request_num\": \"0001446787\", \"obstype\": \"TARGET\", \"filter\": null, \"master_calibration\": \"lscnrs01-fl09-20180313-lampflat-bin1x1-110.fits.fz\", \"processName\": \"MainProcess\"}\n",
      "2020-08-27 13:48:59.456     INFO:          stages: Running banzai.stages.BackgroundSubtractor | {\"filename\": \"lscnrs01-fl09-20180313-0031-e00.fits.fz\", \"site\": \"lsc\", \"instrument\": \"nres01\", \"epoch\": \"20180313\", \"request_num\": \"0001446787\", \"obstype\": \"TARGET\", \"filter\": null, \"processName\": \"MainProcess\"}\n",
      "2020-08-27 13:48:59.840     INFO:          stages: Running banzai.stages.ArcLoader | {\"filename\": \"lscnrs01-fl09-20180313-0031-e00.fits.fz\", \"site\": \"lsc\", \"instrument\": \"nres01\", \"epoch\": \"20180313\", \"request_num\": \"0001446787\", \"obstype\": \"TARGET\", \"filter\": null, \"processName\": \"MainProcess\"}\n",
      "2020-08-27 13:49:01.568     INFO:    calibrations: Applying master calibration | {\"filename\": \"lscnrs01-fl09-20180313-0031-e00.fits.fz\", \"site\": \"lsc\", \"instrument\": \"nres01\", \"epoch\": \"20180313\", \"request_num\": \"0001446787\", \"obstype\": \"TARGET\", \"filter\": null, \"master_calibration\": \"lscnrs01-fl09-20180313-double-bin1x1-110.fits.fz\", \"processName\": \"MainProcess\"}\n",
      "2020-08-27 13:49:01.707     INFO:          stages: Running banzai.stages.GetOptimalExtractionWeights | {\"filename\": \"lscnrs01-fl09-20180313-0031-e00.fits.fz\", \"site\": \"lsc\", \"instrument\": \"nres01\", \"epoch\": \"20180313\", \"request_num\": \"0001446787\", \"obstype\": \"TARGET\", \"filter\": null, \"processName\": \"MainProcess\"}\n",
      "2020-08-27 13:49:18.751     INFO:          stages: Running banzai.stages.WeightedExtract | {\"filename\": \"lscnrs01-fl09-20180313-0031-e00.fits.fz\", \"site\": \"lsc\", \"instrument\": \"nres01\", \"epoch\": \"20180313\", \"request_num\": \"0001446787\", \"obstype\": \"TARGET\", \"filter\": null, \"processName\": \"MainProcess\"}\n",
      "2020-08-27 13:49:35.550     INFO:          stages: Running banzai.stages.ContinuumNormalizer | {\"filename\": \"lscnrs01-fl09-20180313-0031-e00.fits.fz\", \"site\": \"lsc\", \"instrument\": \"nres01\", \"epoch\": \"20180313\", \"request_num\": \"0001446787\", \"obstype\": \"TARGET\", \"filter\": null, \"processName\": \"MainProcess\"}\n",
      "2020-08-27 13:49:36.097     INFO:          stages: Running banzai.stages.RVCalculator | {\"filename\": \"lscnrs01-fl09-20180313-0031-e00.fits.fz\", \"site\": \"lsc\", \"instrument\": \"nres01\", \"epoch\": \"20180313\", \"request_num\": \"0001446787\", \"obstype\": \"TARGET\", \"filter\": null, \"processName\": \"MainProcess\"}\n",
      "2020-08-27 13:49:36.107     INFO:              rv: Cross correlating for order: 75 | {\"filename\": \"lscnrs01-fl09-20180313-0031-e00.fits.fz\", \"site\": \"lsc\", \"instrument\": \"nres01\", \"epoch\": \"20180313\", \"request_num\": \"0001446787\", \"obstype\": \"TARGET\", \"filter\": null, \"processName\": \"MainProcess\"}\n",
      "2020-08-27 13:49:36.477     INFO:              rv: Cross correlating for order: 76 | {\"filename\": \"lscnrs01-fl09-20180313-0031-e00.fits.fz\", \"site\": \"lsc\", \"instrument\": \"nres01\", \"epoch\": \"20180313\", \"request_num\": \"0001446787\", \"obstype\": \"TARGET\", \"filter\": null, \"processName\": \"MainProcess\"}\n",
      "2020-08-27 13:49:36.866     INFO:              rv: Cross correlating for order: 77 | {\"filename\": \"lscnrs01-fl09-20180313-0031-e00.fits.fz\", \"site\": \"lsc\", \"instrument\": \"nres01\", \"epoch\": \"20180313\", \"request_num\": \"0001446787\", \"obstype\": \"TARGET\", \"filter\": null, \"processName\": \"MainProcess\"}\n",
      "2020-08-27 13:49:37.249     INFO:              rv: Cross correlating for order: 78 | {\"filename\": \"lscnrs01-fl09-20180313-0031-e00.fits.fz\", \"site\": \"lsc\", \"instrument\": \"nres01\", \"epoch\": \"20180313\", \"request_num\": \"0001446787\", \"obstype\": \"TARGET\", \"filter\": null, \"processName\": \"MainProcess\"}\n",
      "2020-08-27 13:49:37.631     INFO:              rv: Cross correlating for order: 79 | {\"filename\": \"lscnrs01-fl09-20180313-0031-e00.fits.fz\", \"site\": \"lsc\", \"instrument\": \"nres01\", \"epoch\": \"20180313\", \"request_num\": \"0001446787\", \"obstype\": \"TARGET\", \"filter\": null, \"processName\": \"MainProcess\"}\n",
      "2020-08-27 13:49:38.004     INFO:              rv: Cross correlating for order: 80 | {\"filename\": \"lscnrs01-fl09-20180313-0031-e00.fits.fz\", \"site\": \"lsc\", \"instrument\": \"nres01\", \"epoch\": \"20180313\", \"request_num\": \"0001446787\", \"obstype\": \"TARGET\", \"filter\": null, \"processName\": \"MainProcess\"}\n"
     ]
    },
    {
     "name": "stdout",
     "output_type": "stream",
     "text": [
      "2020-08-27 13:49:38.372     INFO:              rv: Cross correlating for order: 81 | {\"filename\": \"lscnrs01-fl09-20180313-0031-e00.fits.fz\", \"site\": \"lsc\", \"instrument\": \"nres01\", \"epoch\": \"20180313\", \"request_num\": \"0001446787\", \"obstype\": \"TARGET\", \"filter\": null, \"processName\": \"MainProcess\"}\n",
      "2020-08-27 13:49:38.740     INFO:              rv: Cross correlating for order: 82 | {\"filename\": \"lscnrs01-fl09-20180313-0031-e00.fits.fz\", \"site\": \"lsc\", \"instrument\": \"nres01\", \"epoch\": \"20180313\", \"request_num\": \"0001446787\", \"obstype\": \"TARGET\", \"filter\": null, \"processName\": \"MainProcess\"}\n",
      "2020-08-27 13:49:39.108     INFO:              rv: Cross correlating for order: 83 | {\"filename\": \"lscnrs01-fl09-20180313-0031-e00.fits.fz\", \"site\": \"lsc\", \"instrument\": \"nres01\", \"epoch\": \"20180313\", \"request_num\": \"0001446787\", \"obstype\": \"TARGET\", \"filter\": null, \"processName\": \"MainProcess\"}\n",
      "2020-08-27 13:49:39.473     INFO:              rv: Cross correlating for order: 84 | {\"filename\": \"lscnrs01-fl09-20180313-0031-e00.fits.fz\", \"site\": \"lsc\", \"instrument\": \"nres01\", \"epoch\": \"20180313\", \"request_num\": \"0001446787\", \"obstype\": \"TARGET\", \"filter\": null, \"processName\": \"MainProcess\"}\n",
      "2020-08-27 13:49:39.848     INFO:              rv: Cross correlating for order: 85 | {\"filename\": \"lscnrs01-fl09-20180313-0031-e00.fits.fz\", \"site\": \"lsc\", \"instrument\": \"nres01\", \"epoch\": \"20180313\", \"request_num\": \"0001446787\", \"obstype\": \"TARGET\", \"filter\": null, \"processName\": \"MainProcess\"}\n",
      "2020-08-27 13:49:40.223     INFO:              rv: Cross correlating for order: 86 | {\"filename\": \"lscnrs01-fl09-20180313-0031-e00.fits.fz\", \"site\": \"lsc\", \"instrument\": \"nres01\", \"epoch\": \"20180313\", \"request_num\": \"0001446787\", \"obstype\": \"TARGET\", \"filter\": null, \"processName\": \"MainProcess\"}\n",
      "2020-08-27 13:49:40.595     INFO:              rv: Cross correlating for order: 87 | {\"filename\": \"lscnrs01-fl09-20180313-0031-e00.fits.fz\", \"site\": \"lsc\", \"instrument\": \"nres01\", \"epoch\": \"20180313\", \"request_num\": \"0001446787\", \"obstype\": \"TARGET\", \"filter\": null, \"processName\": \"MainProcess\"}\n",
      "2020-08-27 13:49:40.967     INFO:              rv: Cross correlating for order: 88 | {\"filename\": \"lscnrs01-fl09-20180313-0031-e00.fits.fz\", \"site\": \"lsc\", \"instrument\": \"nres01\", \"epoch\": \"20180313\", \"request_num\": \"0001446787\", \"obstype\": \"TARGET\", \"filter\": null, \"processName\": \"MainProcess\"}\n",
      "2020-08-27 13:49:41.331     INFO:              rv: Cross correlating for order: 89 | {\"filename\": \"lscnrs01-fl09-20180313-0031-e00.fits.fz\", \"site\": \"lsc\", \"instrument\": \"nres01\", \"epoch\": \"20180313\", \"request_num\": \"0001446787\", \"obstype\": \"TARGET\", \"filter\": null, \"processName\": \"MainProcess\"}\n",
      "2020-08-27 13:49:41.694     INFO:              rv: Cross correlating for order: 90 | {\"filename\": \"lscnrs01-fl09-20180313-0031-e00.fits.fz\", \"site\": \"lsc\", \"instrument\": \"nres01\", \"epoch\": \"20180313\", \"request_num\": \"0001446787\", \"obstype\": \"TARGET\", \"filter\": null, \"processName\": \"MainProcess\"}\n",
      "2020-08-27 13:49:42.063     INFO:              rv: Cross correlating for order: 91 | {\"filename\": \"lscnrs01-fl09-20180313-0031-e00.fits.fz\", \"site\": \"lsc\", \"instrument\": \"nres01\", \"epoch\": \"20180313\", \"request_num\": \"0001446787\", \"obstype\": \"TARGET\", \"filter\": null, \"processName\": \"MainProcess\"}\n",
      "2020-08-27 13:49:42.427     INFO:              rv: Cross correlating for order: 92 | {\"filename\": \"lscnrs01-fl09-20180313-0031-e00.fits.fz\", \"site\": \"lsc\", \"instrument\": \"nres01\", \"epoch\": \"20180313\", \"request_num\": \"0001446787\", \"obstype\": \"TARGET\", \"filter\": null, \"processName\": \"MainProcess\"}\n",
      "2020-08-27 13:49:42.782     INFO:              rv: Cross correlating for order: 93 | {\"filename\": \"lscnrs01-fl09-20180313-0031-e00.fits.fz\", \"site\": \"lsc\", \"instrument\": \"nres01\", \"epoch\": \"20180313\", \"request_num\": \"0001446787\", \"obstype\": \"TARGET\", \"filter\": null, \"processName\": \"MainProcess\"}\n",
      "2020-08-27 13:49:43.152     INFO:              rv: Cross correlating for order: 94 | {\"filename\": \"lscnrs01-fl09-20180313-0031-e00.fits.fz\", \"site\": \"lsc\", \"instrument\": \"nres01\", \"epoch\": \"20180313\", \"request_num\": \"0001446787\", \"obstype\": \"TARGET\", \"filter\": null, \"processName\": \"MainProcess\"}\n",
      "2020-08-27 13:49:43.526     INFO:              rv: Cross correlating for order: 95 | {\"filename\": \"lscnrs01-fl09-20180313-0031-e00.fits.fz\", \"site\": \"lsc\", \"instrument\": \"nres01\", \"epoch\": \"20180313\", \"request_num\": \"0001446787\", \"obstype\": \"TARGET\", \"filter\": null, \"processName\": \"MainProcess\"}\n",
      "2020-08-27 13:49:43.892     INFO:              rv: Cross correlating for order: 96 | {\"filename\": \"lscnrs01-fl09-20180313-0031-e00.fits.fz\", \"site\": \"lsc\", \"instrument\": \"nres01\", \"epoch\": \"20180313\", \"request_num\": \"0001446787\", \"obstype\": \"TARGET\", \"filter\": null, \"processName\": \"MainProcess\"}\n",
      "2020-08-27 13:49:44.258     INFO:              rv: Cross correlating for order: 97 | {\"filename\": \"lscnrs01-fl09-20180313-0031-e00.fits.fz\", \"site\": \"lsc\", \"instrument\": \"nres01\", \"epoch\": \"20180313\", \"request_num\": \"0001446787\", \"obstype\": \"TARGET\", \"filter\": null, \"processName\": \"MainProcess\"}\n",
      "2020-08-27 13:49:44.618     INFO:              rv: Cross correlating for order: 98 | {\"filename\": \"lscnrs01-fl09-20180313-0031-e00.fits.fz\", \"site\": \"lsc\", \"instrument\": \"nres01\", \"epoch\": \"20180313\", \"request_num\": \"0001446787\", \"obstype\": \"TARGET\", \"filter\": null, \"processName\": \"MainProcess\"}\n",
      "2020-08-27 13:49:44.980     INFO:              rv: Cross correlating for order: 99 | {\"filename\": \"lscnrs01-fl09-20180313-0031-e00.fits.fz\", \"site\": \"lsc\", \"instrument\": \"nres01\", \"epoch\": \"20180313\", \"request_num\": \"0001446787\", \"obstype\": \"TARGET\", \"filter\": null, \"processName\": \"MainProcess\"}\n",
      "2020-08-27 13:49:45.340     INFO:              rv: Cross correlating for order: 100 | {\"filename\": \"lscnrs01-fl09-20180313-0031-e00.fits.fz\", \"site\": \"lsc\", \"instrument\": \"nres01\", \"epoch\": \"20180313\", \"request_num\": \"0001446787\", \"obstype\": \"TARGET\", \"filter\": null, \"processName\": \"MainProcess\"}\n",
      "2020-08-27 13:49:45.691     INFO:              rv: Cross correlating for order: 75 | {\"filename\": \"lscnrs01-fl09-20180313-0031-e00.fits.fz\", \"site\": \"lsc\", \"instrument\": \"nres01\", \"epoch\": \"20180313\", \"request_num\": \"0001446787\", \"obstype\": \"TARGET\", \"filter\": null, \"processName\": \"MainProcess\"}\n",
      "2020-08-27 13:49:46.104     INFO:              rv: Cross correlating for order: 76 | {\"filename\": \"lscnrs01-fl09-20180313-0031-e00.fits.fz\", \"site\": \"lsc\", \"instrument\": \"nres01\", \"epoch\": \"20180313\", \"request_num\": \"0001446787\", \"obstype\": \"TARGET\", \"filter\": null, \"processName\": \"MainProcess\"}\n",
      "2020-08-27 13:49:46.498     INFO:              rv: Cross correlating for order: 77 | {\"filename\": \"lscnrs01-fl09-20180313-0031-e00.fits.fz\", \"site\": \"lsc\", \"instrument\": \"nres01\", \"epoch\": \"20180313\", \"request_num\": \"0001446787\", \"obstype\": \"TARGET\", \"filter\": null, \"processName\": \"MainProcess\"}\n",
      "2020-08-27 13:49:46.890     INFO:              rv: Cross correlating for order: 78 | {\"filename\": \"lscnrs01-fl09-20180313-0031-e00.fits.fz\", \"site\": \"lsc\", \"instrument\": \"nres01\", \"epoch\": \"20180313\", \"request_num\": \"0001446787\", \"obstype\": \"TARGET\", \"filter\": null, \"processName\": \"MainProcess\"}\n",
      "2020-08-27 13:49:47.295     INFO:              rv: Cross correlating for order: 79 | {\"filename\": \"lscnrs01-fl09-20180313-0031-e00.fits.fz\", \"site\": \"lsc\", \"instrument\": \"nres01\", \"epoch\": \"20180313\", \"request_num\": \"0001446787\", \"obstype\": \"TARGET\", \"filter\": null, \"processName\": \"MainProcess\"}\n",
      "2020-08-27 13:49:47.686     INFO:              rv: Cross correlating for order: 80 | {\"filename\": \"lscnrs01-fl09-20180313-0031-e00.fits.fz\", \"site\": \"lsc\", \"instrument\": \"nres01\", \"epoch\": \"20180313\", \"request_num\": \"0001446787\", \"obstype\": \"TARGET\", \"filter\": null, \"processName\": \"MainProcess\"}\n",
      "2020-08-27 13:49:48.091     INFO:              rv: Cross correlating for order: 81 | {\"filename\": \"lscnrs01-fl09-20180313-0031-e00.fits.fz\", \"site\": \"lsc\", \"instrument\": \"nres01\", \"epoch\": \"20180313\", \"request_num\": \"0001446787\", \"obstype\": \"TARGET\", \"filter\": null, \"processName\": \"MainProcess\"}\n",
      "2020-08-27 13:49:48.487     INFO:              rv: Cross correlating for order: 82 | {\"filename\": \"lscnrs01-fl09-20180313-0031-e00.fits.fz\", \"site\": \"lsc\", \"instrument\": \"nres01\", \"epoch\": \"20180313\", \"request_num\": \"0001446787\", \"obstype\": \"TARGET\", \"filter\": null, \"processName\": \"MainProcess\"}\n"
     ]
    },
    {
     "name": "stdout",
     "output_type": "stream",
     "text": [
      "2020-08-27 13:49:48.886     INFO:              rv: Cross correlating for order: 83 | {\"filename\": \"lscnrs01-fl09-20180313-0031-e00.fits.fz\", \"site\": \"lsc\", \"instrument\": \"nres01\", \"epoch\": \"20180313\", \"request_num\": \"0001446787\", \"obstype\": \"TARGET\", \"filter\": null, \"processName\": \"MainProcess\"}\n",
      "2020-08-27 13:49:49.277     INFO:              rv: Cross correlating for order: 84 | {\"filename\": \"lscnrs01-fl09-20180313-0031-e00.fits.fz\", \"site\": \"lsc\", \"instrument\": \"nres01\", \"epoch\": \"20180313\", \"request_num\": \"0001446787\", \"obstype\": \"TARGET\", \"filter\": null, \"processName\": \"MainProcess\"}\n",
      "2020-08-27 13:49:49.676     INFO:              rv: Cross correlating for order: 85 | {\"filename\": \"lscnrs01-fl09-20180313-0031-e00.fits.fz\", \"site\": \"lsc\", \"instrument\": \"nres01\", \"epoch\": \"20180313\", \"request_num\": \"0001446787\", \"obstype\": \"TARGET\", \"filter\": null, \"processName\": \"MainProcess\"}\n",
      "2020-08-27 13:49:50.065     INFO:              rv: Cross correlating for order: 86 | {\"filename\": \"lscnrs01-fl09-20180313-0031-e00.fits.fz\", \"site\": \"lsc\", \"instrument\": \"nres01\", \"epoch\": \"20180313\", \"request_num\": \"0001446787\", \"obstype\": \"TARGET\", \"filter\": null, \"processName\": \"MainProcess\"}\n",
      "2020-08-27 13:49:50.456     INFO:              rv: Cross correlating for order: 87 | {\"filename\": \"lscnrs01-fl09-20180313-0031-e00.fits.fz\", \"site\": \"lsc\", \"instrument\": \"nres01\", \"epoch\": \"20180313\", \"request_num\": \"0001446787\", \"obstype\": \"TARGET\", \"filter\": null, \"processName\": \"MainProcess\"}\n",
      "2020-08-27 13:49:50.842     INFO:              rv: Cross correlating for order: 88 | {\"filename\": \"lscnrs01-fl09-20180313-0031-e00.fits.fz\", \"site\": \"lsc\", \"instrument\": \"nres01\", \"epoch\": \"20180313\", \"request_num\": \"0001446787\", \"obstype\": \"TARGET\", \"filter\": null, \"processName\": \"MainProcess\"}\n",
      "2020-08-27 13:49:51.235     INFO:              rv: Cross correlating for order: 89 | {\"filename\": \"lscnrs01-fl09-20180313-0031-e00.fits.fz\", \"site\": \"lsc\", \"instrument\": \"nres01\", \"epoch\": \"20180313\", \"request_num\": \"0001446787\", \"obstype\": \"TARGET\", \"filter\": null, \"processName\": \"MainProcess\"}\n",
      "2020-08-27 13:49:51.633     INFO:              rv: Cross correlating for order: 90 | {\"filename\": \"lscnrs01-fl09-20180313-0031-e00.fits.fz\", \"site\": \"lsc\", \"instrument\": \"nres01\", \"epoch\": \"20180313\", \"request_num\": \"0001446787\", \"obstype\": \"TARGET\", \"filter\": null, \"processName\": \"MainProcess\"}\n",
      "2020-08-27 13:49:52.005     INFO:              rv: Cross correlating for order: 91 | {\"filename\": \"lscnrs01-fl09-20180313-0031-e00.fits.fz\", \"site\": \"lsc\", \"instrument\": \"nres01\", \"epoch\": \"20180313\", \"request_num\": \"0001446787\", \"obstype\": \"TARGET\", \"filter\": null, \"processName\": \"MainProcess\"}\n",
      "2020-08-27 13:49:52.383     INFO:              rv: Cross correlating for order: 92 | {\"filename\": \"lscnrs01-fl09-20180313-0031-e00.fits.fz\", \"site\": \"lsc\", \"instrument\": \"nres01\", \"epoch\": \"20180313\", \"request_num\": \"0001446787\", \"obstype\": \"TARGET\", \"filter\": null, \"processName\": \"MainProcess\"}\n",
      "2020-08-27 13:49:52.756     INFO:              rv: Cross correlating for order: 93 | {\"filename\": \"lscnrs01-fl09-20180313-0031-e00.fits.fz\", \"site\": \"lsc\", \"instrument\": \"nres01\", \"epoch\": \"20180313\", \"request_num\": \"0001446787\", \"obstype\": \"TARGET\", \"filter\": null, \"processName\": \"MainProcess\"}\n",
      "2020-08-27 13:49:53.141     INFO:              rv: Cross correlating for order: 94 | {\"filename\": \"lscnrs01-fl09-20180313-0031-e00.fits.fz\", \"site\": \"lsc\", \"instrument\": \"nres01\", \"epoch\": \"20180313\", \"request_num\": \"0001446787\", \"obstype\": \"TARGET\", \"filter\": null, \"processName\": \"MainProcess\"}\n",
      "2020-08-27 13:49:53.533     INFO:              rv: Cross correlating for order: 95 | {\"filename\": \"lscnrs01-fl09-20180313-0031-e00.fits.fz\", \"site\": \"lsc\", \"instrument\": \"nres01\", \"epoch\": \"20180313\", \"request_num\": \"0001446787\", \"obstype\": \"TARGET\", \"filter\": null, \"processName\": \"MainProcess\"}\n",
      "2020-08-27 13:49:53.917     INFO:              rv: Cross correlating for order: 96 | {\"filename\": \"lscnrs01-fl09-20180313-0031-e00.fits.fz\", \"site\": \"lsc\", \"instrument\": \"nres01\", \"epoch\": \"20180313\", \"request_num\": \"0001446787\", \"obstype\": \"TARGET\", \"filter\": null, \"processName\": \"MainProcess\"}\n",
      "2020-08-27 13:49:54.322     INFO:              rv: Cross correlating for order: 97 | {\"filename\": \"lscnrs01-fl09-20180313-0031-e00.fits.fz\", \"site\": \"lsc\", \"instrument\": \"nres01\", \"epoch\": \"20180313\", \"request_num\": \"0001446787\", \"obstype\": \"TARGET\", \"filter\": null, \"processName\": \"MainProcess\"}\n",
      "2020-08-27 13:49:54.714     INFO:              rv: Cross correlating for order: 98 | {\"filename\": \"lscnrs01-fl09-20180313-0031-e00.fits.fz\", \"site\": \"lsc\", \"instrument\": \"nres01\", \"epoch\": \"20180313\", \"request_num\": \"0001446787\", \"obstype\": \"TARGET\", \"filter\": null, \"processName\": \"MainProcess\"}\n",
      "2020-08-27 13:49:55.104     INFO:              rv: Cross correlating for order: 99 | {\"filename\": \"lscnrs01-fl09-20180313-0031-e00.fits.fz\", \"site\": \"lsc\", \"instrument\": \"nres01\", \"epoch\": \"20180313\", \"request_num\": \"0001446787\", \"obstype\": \"TARGET\", \"filter\": null, \"processName\": \"MainProcess\"}\n",
      "2020-08-27 13:49:55.480     INFO:              rv: Cross correlating for order: 100 | {\"filename\": \"lscnrs01-fl09-20180313-0031-e00.fits.fz\", \"site\": \"lsc\", \"instrument\": \"nres01\", \"epoch\": \"20180313\", \"request_num\": \"0001446787\", \"obstype\": \"TARGET\", \"filter\": null, \"processName\": \"MainProcess\"}\n",
      "2020-08-27 13:50:04.438     INFO:          stages: Running banzai.stages.BadPixelMaskLoader | {\"filename\": \"lscnrs01-fl09-20180313-0029-e00.fits.fz\", \"site\": \"lsc\", \"instrument\": \"nres01\", \"epoch\": \"20180313\", \"request_num\": \"0001446787\", \"obstype\": \"TARGET\", \"filter\": null, \"processName\": \"MainProcess\"}\n",
      "2020-08-27 13:50:04.639     INFO:    calibrations: Applying master calibration | {\"filename\": \"lscnrs01-fl09-20180313-0029-e00.fits.fz\", \"site\": \"lsc\", \"instrument\": \"nres01\", \"epoch\": \"20180313\", \"request_num\": \"0001446787\", \"obstype\": \"TARGET\", \"filter\": null, \"master_calibration\": \"bpm-lsc-nres01-fl09-20180215.fits.fz\", \"processName\": \"MainProcess\"}\n",
      "2020-08-27 13:50:04.674     INFO:          stages: Running banzai.stages.OverscanSubtractor | {\"filename\": \"lscnrs01-fl09-20180313-0029-e00.fits.fz\", \"site\": \"lsc\", \"instrument\": \"nres01\", \"epoch\": \"20180313\", \"request_num\": \"0001446787\", \"obstype\": \"TARGET\", \"filter\": null, \"processName\": \"MainProcess\"}\n",
      "2020-08-27 13:50:04.704     INFO:          stages: Running banzai.stages.GainNormalizer | {\"filename\": \"lscnrs01-fl09-20180313-0029-e00.fits.fz\", \"site\": \"lsc\", \"instrument\": \"nres01\", \"epoch\": \"20180313\", \"request_num\": \"0001446787\", \"obstype\": \"TARGET\", \"filter\": null, \"processName\": \"MainProcess\"}\n",
      "2020-08-27 13:50:04.705     INFO:            gain: Multiplying by gain | {\"filename\": \"lscnrs01-fl09-20180313-0029-e00.fits.fz\", \"site\": \"lsc\", \"instrument\": \"nres01\", \"epoch\": \"20180313\", \"request_num\": \"0001446787\", \"obstype\": \"TARGET\", \"filter\": null, \"processName\": \"MainProcess\"}\n",
      "2020-08-27 13:50:04.743     INFO:          stages: Running banzai.stages.Trimmer | {\"filename\": \"lscnrs01-fl09-20180313-0029-e00.fits.fz\", \"site\": \"lsc\", \"instrument\": \"nres01\", \"epoch\": \"20180313\", \"request_num\": \"0001446787\", \"obstype\": \"TARGET\", \"filter\": null, \"processName\": \"MainProcess\"}\n",
      "2020-08-27 13:50:04.744     INFO:            trim: Trimming image | {\"filename\": \"lscnrs01-fl09-20180313-0029-e00.fits.fz\", \"site\": \"lsc\", \"instrument\": \"nres01\", \"epoch\": \"20180313\", \"request_num\": \"0001446787\", \"obstype\": \"TARGET\", \"filter\": null, \"processName\": \"MainProcess\"}\n",
      "2020-08-27 13:50:05.012     INFO:          stages: Running banzai.stages.BiasSubtractor | {\"filename\": \"lscnrs01-fl09-20180313-0029-e00.fits.fz\", \"site\": \"lsc\", \"instrument\": \"nres01\", \"epoch\": \"20180313\", \"request_num\": \"0001446787\", \"obstype\": \"TARGET\", \"filter\": null, \"processName\": \"MainProcess\"}\n",
      "2020-08-27 13:50:05.730     INFO:    calibrations: Applying master calibration | {\"filename\": \"lscnrs01-fl09-20180313-0029-e00.fits.fz\", \"site\": \"lsc\", \"instrument\": \"nres01\", \"epoch\": \"20180313\", \"request_num\": \"0001446787\", \"obstype\": \"TARGET\", \"filter\": null, \"master_calibration\": \"lscnrs01-fl09-20180313-bias-bin1x1.fits.fz\", \"processName\": \"MainProcess\"}\n",
      "2020-08-27 13:50:05.956     INFO:          stages: Running banzai.stages.PoissonInitializer | {\"filename\": \"lscnrs01-fl09-20180313-0029-e00.fits.fz\", \"site\": \"lsc\", \"instrument\": \"nres01\", \"epoch\": \"20180313\", \"request_num\": \"0001446787\", \"obstype\": \"TARGET\", \"filter\": null, \"processName\": \"MainProcess\"}\n"
     ]
    },
    {
     "name": "stdout",
     "output_type": "stream",
     "text": [
      "2020-08-27 13:50:06.080     INFO:          stages: Running banzai.stages.DarkSubtractor | {\"filename\": \"lscnrs01-fl09-20180313-0029-e00.fits.fz\", \"site\": \"lsc\", \"instrument\": \"nres01\", \"epoch\": \"20180313\", \"request_num\": \"0001446787\", \"obstype\": \"TARGET\", \"filter\": null, \"processName\": \"MainProcess\"}\n",
      "2020-08-27 13:50:06.808     INFO:    calibrations: Applying master calibration | {\"filename\": \"lscnrs01-fl09-20180313-0029-e00.fits.fz\", \"site\": \"lsc\", \"instrument\": \"nres01\", \"epoch\": \"20180313\", \"request_num\": \"0001446787\", \"obstype\": \"TARGET\", \"filter\": null, \"master_calibration\": \"lscnrs01-fl09-20180313-dark-bin1x1.fits.fz\", \"processName\": \"MainProcess\"}\n",
      "2020-08-27 13:50:06.984     INFO:          stages: Running banzai.stages.FlatLoader | {\"filename\": \"lscnrs01-fl09-20180313-0029-e00.fits.fz\", \"site\": \"lsc\", \"instrument\": \"nres01\", \"epoch\": \"20180313\", \"request_num\": \"0001446787\", \"obstype\": \"TARGET\", \"filter\": null, \"processName\": \"MainProcess\"}\n",
      "2020-08-27 13:50:08.364     INFO:    calibrations: Applying master calibration | {\"filename\": \"lscnrs01-fl09-20180313-0029-e00.fits.fz\", \"site\": \"lsc\", \"instrument\": \"nres01\", \"epoch\": \"20180313\", \"request_num\": \"0001446787\", \"obstype\": \"TARGET\", \"filter\": null, \"master_calibration\": \"lscnrs01-fl09-20180313-lampflat-bin1x1-110.fits.fz\", \"processName\": \"MainProcess\"}\n",
      "2020-08-27 13:50:08.486     INFO:          stages: Running banzai.stages.BackgroundSubtractor | {\"filename\": \"lscnrs01-fl09-20180313-0029-e00.fits.fz\", \"site\": \"lsc\", \"instrument\": \"nres01\", \"epoch\": \"20180313\", \"request_num\": \"0001446787\", \"obstype\": \"TARGET\", \"filter\": null, \"processName\": \"MainProcess\"}\n",
      "2020-08-27 13:50:08.874     INFO:          stages: Running banzai.stages.ArcLoader | {\"filename\": \"lscnrs01-fl09-20180313-0029-e00.fits.fz\", \"site\": \"lsc\", \"instrument\": \"nres01\", \"epoch\": \"20180313\", \"request_num\": \"0001446787\", \"obstype\": \"TARGET\", \"filter\": null, \"processName\": \"MainProcess\"}\n",
      "2020-08-27 13:50:10.567     INFO:    calibrations: Applying master calibration | {\"filename\": \"lscnrs01-fl09-20180313-0029-e00.fits.fz\", \"site\": \"lsc\", \"instrument\": \"nres01\", \"epoch\": \"20180313\", \"request_num\": \"0001446787\", \"obstype\": \"TARGET\", \"filter\": null, \"master_calibration\": \"lscnrs01-fl09-20180313-double-bin1x1-110.fits.fz\", \"processName\": \"MainProcess\"}\n",
      "2020-08-27 13:50:10.722     INFO:          stages: Running banzai.stages.GetOptimalExtractionWeights | {\"filename\": \"lscnrs01-fl09-20180313-0029-e00.fits.fz\", \"site\": \"lsc\", \"instrument\": \"nres01\", \"epoch\": \"20180313\", \"request_num\": \"0001446787\", \"obstype\": \"TARGET\", \"filter\": null, \"processName\": \"MainProcess\"}\n",
      "2020-08-27 13:50:27.574     INFO:          stages: Running banzai.stages.WeightedExtract | {\"filename\": \"lscnrs01-fl09-20180313-0029-e00.fits.fz\", \"site\": \"lsc\", \"instrument\": \"nres01\", \"epoch\": \"20180313\", \"request_num\": \"0001446787\", \"obstype\": \"TARGET\", \"filter\": null, \"processName\": \"MainProcess\"}\n",
      "2020-08-27 13:50:44.233     INFO:          stages: Running banzai.stages.ContinuumNormalizer | {\"filename\": \"lscnrs01-fl09-20180313-0029-e00.fits.fz\", \"site\": \"lsc\", \"instrument\": \"nres01\", \"epoch\": \"20180313\", \"request_num\": \"0001446787\", \"obstype\": \"TARGET\", \"filter\": null, \"processName\": \"MainProcess\"}\n",
      "2020-08-27 13:50:44.779     INFO:          stages: Running banzai.stages.RVCalculator | {\"filename\": \"lscnrs01-fl09-20180313-0029-e00.fits.fz\", \"site\": \"lsc\", \"instrument\": \"nres01\", \"epoch\": \"20180313\", \"request_num\": \"0001446787\", \"obstype\": \"TARGET\", \"filter\": null, \"processName\": \"MainProcess\"}\n",
      "2020-08-27 13:50:44.789     INFO:              rv: Cross correlating for order: 75 | {\"filename\": \"lscnrs01-fl09-20180313-0029-e00.fits.fz\", \"site\": \"lsc\", \"instrument\": \"nres01\", \"epoch\": \"20180313\", \"request_num\": \"0001446787\", \"obstype\": \"TARGET\", \"filter\": null, \"processName\": \"MainProcess\"}\n",
      "2020-08-27 13:50:45.171     INFO:              rv: Cross correlating for order: 76 | {\"filename\": \"lscnrs01-fl09-20180313-0029-e00.fits.fz\", \"site\": \"lsc\", \"instrument\": \"nres01\", \"epoch\": \"20180313\", \"request_num\": \"0001446787\", \"obstype\": \"TARGET\", \"filter\": null, \"processName\": \"MainProcess\"}\n",
      "2020-08-27 13:50:45.545     INFO:              rv: Cross correlating for order: 77 | {\"filename\": \"lscnrs01-fl09-20180313-0029-e00.fits.fz\", \"site\": \"lsc\", \"instrument\": \"nres01\", \"epoch\": \"20180313\", \"request_num\": \"0001446787\", \"obstype\": \"TARGET\", \"filter\": null, \"processName\": \"MainProcess\"}\n",
      "2020-08-27 13:50:45.918     INFO:              rv: Cross correlating for order: 78 | {\"filename\": \"lscnrs01-fl09-20180313-0029-e00.fits.fz\", \"site\": \"lsc\", \"instrument\": \"nres01\", \"epoch\": \"20180313\", \"request_num\": \"0001446787\", \"obstype\": \"TARGET\", \"filter\": null, \"processName\": \"MainProcess\"}\n",
      "2020-08-27 13:50:46.291     INFO:              rv: Cross correlating for order: 79 | {\"filename\": \"lscnrs01-fl09-20180313-0029-e00.fits.fz\", \"site\": \"lsc\", \"instrument\": \"nres01\", \"epoch\": \"20180313\", \"request_num\": \"0001446787\", \"obstype\": \"TARGET\", \"filter\": null, \"processName\": \"MainProcess\"}\n",
      "2020-08-27 13:50:46.662     INFO:              rv: Cross correlating for order: 80 | {\"filename\": \"lscnrs01-fl09-20180313-0029-e00.fits.fz\", \"site\": \"lsc\", \"instrument\": \"nres01\", \"epoch\": \"20180313\", \"request_num\": \"0001446787\", \"obstype\": \"TARGET\", \"filter\": null, \"processName\": \"MainProcess\"}\n",
      "2020-08-27 13:50:47.030     INFO:              rv: Cross correlating for order: 81 | {\"filename\": \"lscnrs01-fl09-20180313-0029-e00.fits.fz\", \"site\": \"lsc\", \"instrument\": \"nres01\", \"epoch\": \"20180313\", \"request_num\": \"0001446787\", \"obstype\": \"TARGET\", \"filter\": null, \"processName\": \"MainProcess\"}\n",
      "2020-08-27 13:50:47.403     INFO:              rv: Cross correlating for order: 82 | {\"filename\": \"lscnrs01-fl09-20180313-0029-e00.fits.fz\", \"site\": \"lsc\", \"instrument\": \"nres01\", \"epoch\": \"20180313\", \"request_num\": \"0001446787\", \"obstype\": \"TARGET\", \"filter\": null, \"processName\": \"MainProcess\"}\n",
      "2020-08-27 13:50:47.769     INFO:              rv: Cross correlating for order: 83 | {\"filename\": \"lscnrs01-fl09-20180313-0029-e00.fits.fz\", \"site\": \"lsc\", \"instrument\": \"nres01\", \"epoch\": \"20180313\", \"request_num\": \"0001446787\", \"obstype\": \"TARGET\", \"filter\": null, \"processName\": \"MainProcess\"}\n",
      "2020-08-27 13:50:48.134     INFO:              rv: Cross correlating for order: 84 | {\"filename\": \"lscnrs01-fl09-20180313-0029-e00.fits.fz\", \"site\": \"lsc\", \"instrument\": \"nres01\", \"epoch\": \"20180313\", \"request_num\": \"0001446787\", \"obstype\": \"TARGET\", \"filter\": null, \"processName\": \"MainProcess\"}\n",
      "2020-08-27 13:50:48.498     INFO:              rv: Cross correlating for order: 85 | {\"filename\": \"lscnrs01-fl09-20180313-0029-e00.fits.fz\", \"site\": \"lsc\", \"instrument\": \"nres01\", \"epoch\": \"20180313\", \"request_num\": \"0001446787\", \"obstype\": \"TARGET\", \"filter\": null, \"processName\": \"MainProcess\"}\n",
      "2020-08-27 13:50:48.859     INFO:              rv: Cross correlating for order: 86 | {\"filename\": \"lscnrs01-fl09-20180313-0029-e00.fits.fz\", \"site\": \"lsc\", \"instrument\": \"nres01\", \"epoch\": \"20180313\", \"request_num\": \"0001446787\", \"obstype\": \"TARGET\", \"filter\": null, \"processName\": \"MainProcess\"}\n",
      "2020-08-27 13:50:49.220     INFO:              rv: Cross correlating for order: 87 | {\"filename\": \"lscnrs01-fl09-20180313-0029-e00.fits.fz\", \"site\": \"lsc\", \"instrument\": \"nres01\", \"epoch\": \"20180313\", \"request_num\": \"0001446787\", \"obstype\": \"TARGET\", \"filter\": null, \"processName\": \"MainProcess\"}\n",
      "2020-08-27 13:50:49.581     INFO:              rv: Cross correlating for order: 88 | {\"filename\": \"lscnrs01-fl09-20180313-0029-e00.fits.fz\", \"site\": \"lsc\", \"instrument\": \"nres01\", \"epoch\": \"20180313\", \"request_num\": \"0001446787\", \"obstype\": \"TARGET\", \"filter\": null, \"processName\": \"MainProcess\"}\n",
      "2020-08-27 13:50:49.950     INFO:              rv: Cross correlating for order: 89 | {\"filename\": \"lscnrs01-fl09-20180313-0029-e00.fits.fz\", \"site\": \"lsc\", \"instrument\": \"nres01\", \"epoch\": \"20180313\", \"request_num\": \"0001446787\", \"obstype\": \"TARGET\", \"filter\": null, \"processName\": \"MainProcess\"}\n",
      "2020-08-27 13:50:50.317     INFO:              rv: Cross correlating for order: 90 | {\"filename\": \"lscnrs01-fl09-20180313-0029-e00.fits.fz\", \"site\": \"lsc\", \"instrument\": \"nres01\", \"epoch\": \"20180313\", \"request_num\": \"0001446787\", \"obstype\": \"TARGET\", \"filter\": null, \"processName\": \"MainProcess\"}\n"
     ]
    },
    {
     "name": "stdout",
     "output_type": "stream",
     "text": [
      "2020-08-27 13:50:50.687     INFO:              rv: Cross correlating for order: 91 | {\"filename\": \"lscnrs01-fl09-20180313-0029-e00.fits.fz\", \"site\": \"lsc\", \"instrument\": \"nres01\", \"epoch\": \"20180313\", \"request_num\": \"0001446787\", \"obstype\": \"TARGET\", \"filter\": null, \"processName\": \"MainProcess\"}\n",
      "2020-08-27 13:50:51.052     INFO:              rv: Cross correlating for order: 92 | {\"filename\": \"lscnrs01-fl09-20180313-0029-e00.fits.fz\", \"site\": \"lsc\", \"instrument\": \"nres01\", \"epoch\": \"20180313\", \"request_num\": \"0001446787\", \"obstype\": \"TARGET\", \"filter\": null, \"processName\": \"MainProcess\"}\n",
      "2020-08-27 13:50:51.408     INFO:              rv: Cross correlating for order: 93 | {\"filename\": \"lscnrs01-fl09-20180313-0029-e00.fits.fz\", \"site\": \"lsc\", \"instrument\": \"nres01\", \"epoch\": \"20180313\", \"request_num\": \"0001446787\", \"obstype\": \"TARGET\", \"filter\": null, \"processName\": \"MainProcess\"}\n",
      "2020-08-27 13:50:51.782     INFO:              rv: Cross correlating for order: 94 | {\"filename\": \"lscnrs01-fl09-20180313-0029-e00.fits.fz\", \"site\": \"lsc\", \"instrument\": \"nres01\", \"epoch\": \"20180313\", \"request_num\": \"0001446787\", \"obstype\": \"TARGET\", \"filter\": null, \"processName\": \"MainProcess\"}\n",
      "2020-08-27 13:50:52.162     INFO:              rv: Cross correlating for order: 95 | {\"filename\": \"lscnrs01-fl09-20180313-0029-e00.fits.fz\", \"site\": \"lsc\", \"instrument\": \"nres01\", \"epoch\": \"20180313\", \"request_num\": \"0001446787\", \"obstype\": \"TARGET\", \"filter\": null, \"processName\": \"MainProcess\"}\n",
      "2020-08-27 13:50:52.540     INFO:              rv: Cross correlating for order: 96 | {\"filename\": \"lscnrs01-fl09-20180313-0029-e00.fits.fz\", \"site\": \"lsc\", \"instrument\": \"nres01\", \"epoch\": \"20180313\", \"request_num\": \"0001446787\", \"obstype\": \"TARGET\", \"filter\": null, \"processName\": \"MainProcess\"}\n",
      "2020-08-27 13:50:52.922     INFO:              rv: Cross correlating for order: 97 | {\"filename\": \"lscnrs01-fl09-20180313-0029-e00.fits.fz\", \"site\": \"lsc\", \"instrument\": \"nres01\", \"epoch\": \"20180313\", \"request_num\": \"0001446787\", \"obstype\": \"TARGET\", \"filter\": null, \"processName\": \"MainProcess\"}\n",
      "2020-08-27 13:50:53.280     INFO:              rv: Cross correlating for order: 98 | {\"filename\": \"lscnrs01-fl09-20180313-0029-e00.fits.fz\", \"site\": \"lsc\", \"instrument\": \"nres01\", \"epoch\": \"20180313\", \"request_num\": \"0001446787\", \"obstype\": \"TARGET\", \"filter\": null, \"processName\": \"MainProcess\"}\n",
      "2020-08-27 13:50:53.649     INFO:              rv: Cross correlating for order: 99 | {\"filename\": \"lscnrs01-fl09-20180313-0029-e00.fits.fz\", \"site\": \"lsc\", \"instrument\": \"nres01\", \"epoch\": \"20180313\", \"request_num\": \"0001446787\", \"obstype\": \"TARGET\", \"filter\": null, \"processName\": \"MainProcess\"}\n",
      "2020-08-27 13:50:54.007     INFO:              rv: Cross correlating for order: 100 | {\"filename\": \"lscnrs01-fl09-20180313-0029-e00.fits.fz\", \"site\": \"lsc\", \"instrument\": \"nres01\", \"epoch\": \"20180313\", \"request_num\": \"0001446787\", \"obstype\": \"TARGET\", \"filter\": null, \"processName\": \"MainProcess\"}\n",
      "2020-08-27 13:50:54.365     INFO:              rv: Cross correlating for order: 75 | {\"filename\": \"lscnrs01-fl09-20180313-0029-e00.fits.fz\", \"site\": \"lsc\", \"instrument\": \"nres01\", \"epoch\": \"20180313\", \"request_num\": \"0001446787\", \"obstype\": \"TARGET\", \"filter\": null, \"processName\": \"MainProcess\"}\n",
      "2020-08-27 13:50:54.772     INFO:              rv: Cross correlating for order: 76 | {\"filename\": \"lscnrs01-fl09-20180313-0029-e00.fits.fz\", \"site\": \"lsc\", \"instrument\": \"nres01\", \"epoch\": \"20180313\", \"request_num\": \"0001446787\", \"obstype\": \"TARGET\", \"filter\": null, \"processName\": \"MainProcess\"}\n",
      "2020-08-27 13:50:55.163     INFO:              rv: Cross correlating for order: 77 | {\"filename\": \"lscnrs01-fl09-20180313-0029-e00.fits.fz\", \"site\": \"lsc\", \"instrument\": \"nres01\", \"epoch\": \"20180313\", \"request_num\": \"0001446787\", \"obstype\": \"TARGET\", \"filter\": null, \"processName\": \"MainProcess\"}\n",
      "2020-08-27 13:50:55.556     INFO:              rv: Cross correlating for order: 78 | {\"filename\": \"lscnrs01-fl09-20180313-0029-e00.fits.fz\", \"site\": \"lsc\", \"instrument\": \"nres01\", \"epoch\": \"20180313\", \"request_num\": \"0001446787\", \"obstype\": \"TARGET\", \"filter\": null, \"processName\": \"MainProcess\"}\n",
      "2020-08-27 13:50:55.950     INFO:              rv: Cross correlating for order: 79 | {\"filename\": \"lscnrs01-fl09-20180313-0029-e00.fits.fz\", \"site\": \"lsc\", \"instrument\": \"nres01\", \"epoch\": \"20180313\", \"request_num\": \"0001446787\", \"obstype\": \"TARGET\", \"filter\": null, \"processName\": \"MainProcess\"}\n",
      "2020-08-27 13:50:56.341     INFO:              rv: Cross correlating for order: 80 | {\"filename\": \"lscnrs01-fl09-20180313-0029-e00.fits.fz\", \"site\": \"lsc\", \"instrument\": \"nres01\", \"epoch\": \"20180313\", \"request_num\": \"0001446787\", \"obstype\": \"TARGET\", \"filter\": null, \"processName\": \"MainProcess\"}\n",
      "2020-08-27 13:50:56.733     INFO:              rv: Cross correlating for order: 81 | {\"filename\": \"lscnrs01-fl09-20180313-0029-e00.fits.fz\", \"site\": \"lsc\", \"instrument\": \"nres01\", \"epoch\": \"20180313\", \"request_num\": \"0001446787\", \"obstype\": \"TARGET\", \"filter\": null, \"processName\": \"MainProcess\"}\n",
      "2020-08-27 13:50:57.126     INFO:              rv: Cross correlating for order: 82 | {\"filename\": \"lscnrs01-fl09-20180313-0029-e00.fits.fz\", \"site\": \"lsc\", \"instrument\": \"nres01\", \"epoch\": \"20180313\", \"request_num\": \"0001446787\", \"obstype\": \"TARGET\", \"filter\": null, \"processName\": \"MainProcess\"}\n",
      "2020-08-27 13:50:57.513     INFO:              rv: Cross correlating for order: 83 | {\"filename\": \"lscnrs01-fl09-20180313-0029-e00.fits.fz\", \"site\": \"lsc\", \"instrument\": \"nres01\", \"epoch\": \"20180313\", \"request_num\": \"0001446787\", \"obstype\": \"TARGET\", \"filter\": null, \"processName\": \"MainProcess\"}\n",
      "2020-08-27 13:50:57.899     INFO:              rv: Cross correlating for order: 84 | {\"filename\": \"lscnrs01-fl09-20180313-0029-e00.fits.fz\", \"site\": \"lsc\", \"instrument\": \"nres01\", \"epoch\": \"20180313\", \"request_num\": \"0001446787\", \"obstype\": \"TARGET\", \"filter\": null, \"processName\": \"MainProcess\"}\n",
      "2020-08-27 13:50:58.296     INFO:              rv: Cross correlating for order: 85 | {\"filename\": \"lscnrs01-fl09-20180313-0029-e00.fits.fz\", \"site\": \"lsc\", \"instrument\": \"nres01\", \"epoch\": \"20180313\", \"request_num\": \"0001446787\", \"obstype\": \"TARGET\", \"filter\": null, \"processName\": \"MainProcess\"}\n",
      "2020-08-27 13:50:58.700     INFO:              rv: Cross correlating for order: 86 | {\"filename\": \"lscnrs01-fl09-20180313-0029-e00.fits.fz\", \"site\": \"lsc\", \"instrument\": \"nres01\", \"epoch\": \"20180313\", \"request_num\": \"0001446787\", \"obstype\": \"TARGET\", \"filter\": null, \"processName\": \"MainProcess\"}\n",
      "2020-08-27 13:50:59.091     INFO:              rv: Cross correlating for order: 87 | {\"filename\": \"lscnrs01-fl09-20180313-0029-e00.fits.fz\", \"site\": \"lsc\", \"instrument\": \"nres01\", \"epoch\": \"20180313\", \"request_num\": \"0001446787\", \"obstype\": \"TARGET\", \"filter\": null, \"processName\": \"MainProcess\"}\n",
      "2020-08-27 13:50:59.473     INFO:              rv: Cross correlating for order: 88 | {\"filename\": \"lscnrs01-fl09-20180313-0029-e00.fits.fz\", \"site\": \"lsc\", \"instrument\": \"nres01\", \"epoch\": \"20180313\", \"request_num\": \"0001446787\", \"obstype\": \"TARGET\", \"filter\": null, \"processName\": \"MainProcess\"}\n",
      "2020-08-27 13:50:59.852     INFO:              rv: Cross correlating for order: 89 | {\"filename\": \"lscnrs01-fl09-20180313-0029-e00.fits.fz\", \"site\": \"lsc\", \"instrument\": \"nres01\", \"epoch\": \"20180313\", \"request_num\": \"0001446787\", \"obstype\": \"TARGET\", \"filter\": null, \"processName\": \"MainProcess\"}\n",
      "2020-08-27 13:51:00.243     INFO:              rv: Cross correlating for order: 90 | {\"filename\": \"lscnrs01-fl09-20180313-0029-e00.fits.fz\", \"site\": \"lsc\", \"instrument\": \"nres01\", \"epoch\": \"20180313\", \"request_num\": \"0001446787\", \"obstype\": \"TARGET\", \"filter\": null, \"processName\": \"MainProcess\"}\n",
      "2020-08-27 13:51:00.619     INFO:              rv: Cross correlating for order: 91 | {\"filename\": \"lscnrs01-fl09-20180313-0029-e00.fits.fz\", \"site\": \"lsc\", \"instrument\": \"nres01\", \"epoch\": \"20180313\", \"request_num\": \"0001446787\", \"obstype\": \"TARGET\", \"filter\": null, \"processName\": \"MainProcess\"}\n",
      "2020-08-27 13:51:00.999     INFO:              rv: Cross correlating for order: 92 | {\"filename\": \"lscnrs01-fl09-20180313-0029-e00.fits.fz\", \"site\": \"lsc\", \"instrument\": \"nres01\", \"epoch\": \"20180313\", \"request_num\": \"0001446787\", \"obstype\": \"TARGET\", \"filter\": null, \"processName\": \"MainProcess\"}\n"
     ]
    },
    {
     "name": "stdout",
     "output_type": "stream",
     "text": [
      "2020-08-27 13:51:01.372     INFO:              rv: Cross correlating for order: 93 | {\"filename\": \"lscnrs01-fl09-20180313-0029-e00.fits.fz\", \"site\": \"lsc\", \"instrument\": \"nres01\", \"epoch\": \"20180313\", \"request_num\": \"0001446787\", \"obstype\": \"TARGET\", \"filter\": null, \"processName\": \"MainProcess\"}\n",
      "2020-08-27 13:51:01.755     INFO:              rv: Cross correlating for order: 94 | {\"filename\": \"lscnrs01-fl09-20180313-0029-e00.fits.fz\", \"site\": \"lsc\", \"instrument\": \"nres01\", \"epoch\": \"20180313\", \"request_num\": \"0001446787\", \"obstype\": \"TARGET\", \"filter\": null, \"processName\": \"MainProcess\"}\n",
      "2020-08-27 13:51:02.144     INFO:              rv: Cross correlating for order: 95 | {\"filename\": \"lscnrs01-fl09-20180313-0029-e00.fits.fz\", \"site\": \"lsc\", \"instrument\": \"nres01\", \"epoch\": \"20180313\", \"request_num\": \"0001446787\", \"obstype\": \"TARGET\", \"filter\": null, \"processName\": \"MainProcess\"}\n",
      "2020-08-27 13:51:02.527     INFO:              rv: Cross correlating for order: 96 | {\"filename\": \"lscnrs01-fl09-20180313-0029-e00.fits.fz\", \"site\": \"lsc\", \"instrument\": \"nres01\", \"epoch\": \"20180313\", \"request_num\": \"0001446787\", \"obstype\": \"TARGET\", \"filter\": null, \"processName\": \"MainProcess\"}\n",
      "2020-08-27 13:51:02.904     INFO:              rv: Cross correlating for order: 97 | {\"filename\": \"lscnrs01-fl09-20180313-0029-e00.fits.fz\", \"site\": \"lsc\", \"instrument\": \"nres01\", \"epoch\": \"20180313\", \"request_num\": \"0001446787\", \"obstype\": \"TARGET\", \"filter\": null, \"processName\": \"MainProcess\"}\n",
      "2020-08-27 13:51:03.285     INFO:              rv: Cross correlating for order: 98 | {\"filename\": \"lscnrs01-fl09-20180313-0029-e00.fits.fz\", \"site\": \"lsc\", \"instrument\": \"nres01\", \"epoch\": \"20180313\", \"request_num\": \"0001446787\", \"obstype\": \"TARGET\", \"filter\": null, \"processName\": \"MainProcess\"}\n"
     ]
    }
   ],
   "source": [
    "# set up the context object.\n",
    "import banzai.main\n",
    "context = banzai.main.parse_args(settings, parse_system_args=False)"
   ]
  },
  {
   "cell_type": "markdown",
   "metadata": {},
   "source": [
    "Download some test data from the archive\n",
    "----------------------------------------"
   ]
  },
  {
   "cell_type": "code",
   "execution_count": null,
   "metadata": {},
   "outputs": [],
   "source": [
    "# make directories for the test dataset.\n",
    "raw_data_dir = 'test_data/lsc/nres01/20180313/raw'\n",
    "os.makedirs(raw_data_dir, exist_ok=True)\n",
    "bpm_dir = 'test_data/lsc/nres01/bpm/'\n",
    "os.makedirs(bpm_dir, exist_ok=True)\n",
    "phoenix_dir = 'test_data/phoenix_models'\n",
    "os.makedirs(phoenix_dir, exist_ok=True)\n",
    "raw_phoenix_dir = 'test_data/raw_phoenix_models'\n",
    "os.makedirs(raw_phoenix_dir, exist_ok=True)"
   ]
  },
  {
   "cell_type": "code",
   "execution_count": null,
   "metadata": {},
   "outputs": [],
   "source": [
    "# choose which files we will download for our test dataset.\n",
    "bpm_filename = 'bpm-lsc-nres01-fl09-20180215.fits.fz'\n",
    "test_filenames = ['lscnrs01-fl09-20180313-0001-w00.fits.fz', 'lscnrs01-fl09-20180313-0002-w00.fits.fz',\n",
    "                  'lscnrs01-fl09-20180313-0003-w00.fits.fz', 'lscnrs01-fl09-20180313-0004-w00.fits.fz',\n",
    "                  'lscnrs01-fl09-20180313-0005-w00.fits.fz', 'lscnrs01-fl09-20180313-0006-a00.fits.fz',\n",
    "                  'lscnrs01-fl09-20180313-0007-a00.fits.fz', 'lscnrs01-fl09-20180313-0008-a00.fits.fz',\n",
    "                  'lscnrs01-fl09-20180313-0009-w00.fits.fz', 'lscnrs01-fl09-20180313-0010-w00.fits.fz',\n",
    "                  'lscnrs01-fl09-20180313-0011-w00.fits.fz', 'lscnrs01-fl09-20180313-0012-w00.fits.fz',\n",
    "                  'lscnrs01-fl09-20180313-0013-w00.fits.fz', 'lscnrs01-fl09-20180313-0014-w00.fits.fz',\n",
    "                  'lscnrs01-fl09-20180313-0015-w00.fits.fz', 'lscnrs01-fl09-20180313-0016-w00.fits.fz',\n",
    "                  'lscnrs01-fl09-20180313-0017-w00.fits.fz', 'lscnrs01-fl09-20180313-0018-w00.fits.fz',\n",
    "                  'lscnrs01-fl09-20180313-0019-a00.fits.fz', 'lscnrs01-fl09-20180313-0020-a00.fits.fz',\n",
    "                  'lscnrs01-fl09-20180313-0021-a00.fits.fz', 'lscnrs01-fl09-20180313-0022-a00.fits.fz',\n",
    "                  'lscnrs01-fl09-20180313-0023-a00.fits.fz', 'lscnrs01-fl09-20180313-0042-b00.fits.fz',\n",
    "                  'lscnrs01-fl09-20180313-0043-b00.fits.fz', 'lscnrs01-fl09-20180313-0044-b00.fits.fz',\n",
    "                  'lscnrs01-fl09-20180313-0045-b00.fits.fz', 'lscnrs01-fl09-20180313-0046-b00.fits.fz',\n",
    "                  'lscnrs01-fl09-20180313-0047-d00.fits.fz', 'lscnrs01-fl09-20180313-0048-d00.fits.fz',\n",
    "                  'lscnrs01-fl09-20180313-0049-d00.fits.fz', 'lscnrs01-fl09-20180313-0028-e00.fits.fz',\n",
    "                  'lscnrs01-fl09-20180313-0029-e00.fits.fz', 'lscnrs01-fl09-20180313-0030-e00.fits.fz',\n",
    "                  'lscnrs01-fl09-20180313-0031-e00.fits.fz']\n",
    "\n",
    "bpm_frame_id = '22529799'\n",
    "test_frame_ids = ['8148793', '8148822', '8148805', '8148824', '8148826', '8148876', '8148898',\n",
    "                  '8148932', '8148960', '8148978', '8149024', '8149104', '8149068', '8149090',\n",
    "                  '8149128', '8149173', '8149217', '8151252', '8149314', '8149388', '8149469',\n",
    "                  '8149547', '8149570', '8156341', '8156360', '8156366', '8156376', '8156385',\n",
    "                  '8156433', '8156500', '8156560', '8151997', '8152050', '8152110', '8152153']"
   ]
  },
  {
   "cell_type": "code",
   "execution_count": null,
   "metadata": {},
   "outputs": [],
   "source": [
    "# THIS DOWNLOADS A NEW DATA SET. DO NOT RUN IF YOU HAVE ALREADY DOWNLOADED THE DATA\n",
    "# Copy the data into the correct directory\n",
    "for test_filename, frame_id in zip(test_filenames, test_frame_ids):\n",
    "    archive_url = f'https://archive-api.lco.global/frames/{frame_id}'\n",
    "    frame_info = requests.get(archive_url).json()\n",
    "    with open(os.path.join(raw_data_dir, test_filename), 'wb') as f:\n",
    "        f.write(requests.get(frame_info['url']).content)\n",
    "        \n",
    "archive_url = f'https://archive-api.lco.global/frames/{bpm_frame_id}'\n",
    "frame_info = requests.get(archive_url).json()\n",
    "with open(os.path.join(bpm_dir, bpm_filename), 'wb') as f:\n",
    "    f.write(requests.get(frame_info['url']).content)"
   ]
  },
  {
   "cell_type": "code",
   "execution_count": null,
   "metadata": {},
   "outputs": [],
   "source": [
    "#Download the phoenix models and get them into the correct format. \n",
    "#Likewise, do not run if you have already downloaded the data.\n",
    "os.system(f'wget ftp://phoenix.astro.physik.uni-goettingen.de/v2.0/HiResFITS/PHOENIX-ACES-AGSS-COND-2011/Z-0.0/lte05700-4.50-0.0.PHOENIX-ACES-AGSS-COND-2011-HiRes.fits -P {raw_phoenix_dir}/')\n",
    "os.system(f'wget ftp://phoenix.astro.physik.uni-goettingen.de/v2.0/HiResFITS/WAVE_PHOENIX-ACES-AGSS-COND-2011.fits -P {raw_phoenix_dir}/')\n",
    "\n",
    "os.system(f'banzai_nres_munge_phoenix --input-dir={raw_phoenix_dir} --output-dir={phoenix_dir}')"
   ]
  },
  {
   "cell_type": "markdown",
   "metadata": {},
   "source": [
    "Initialize the db and context object for the rest of the pipeline\n",
    "-----------------------------------------------------------------"
   ]
  },
  {
   "cell_type": "code",
   "execution_count": null,
   "metadata": {},
   "outputs": [],
   "source": [
    "# THIS MAKES A FRESH DATABASE. DO NOT RUN ME UNLESS YOU WANT TO DELETE YOUR test.db AND MAKE A FRESH ONE\n",
    "full_phoenix_path=os.path.join(os.getcwd(),phoenix_dir)\n",
    "os.system(f'banzai_nres_create_db --db-address={os.environ[\"DB_ADDRESS\"]}')\n",
    "os.system(f'banzai_nres_populate_phoenix_models --model-location={full_phoenix_path} --db-address={os.environ[\"DB_ADDRESS\"]}')\n",
    "os.system(f'banzai_add_site --site elp --latitude 30.67986944 --longitude -104.015175 --elevation 2027 --timezone -6 --db-address={os.environ[\"DB_ADDRESS\"]}')\n",
    "os.system(f'banzai_add_site --site lsc --latitude -30.1673833333 --longitude -70.8047888889 --elevation 2198 --timezone -4 --db-address={os.environ[\"DB_ADDRESS\"]}')   \n",
    "os.system(f'banzai_add_instrument --site lsc --camera fl09 --name nres01 --instrument-type 1m0-NRES-SciCam --db-address={os.environ[\"DB_ADDRESS\"]}')\n",
    "os.system(f'banzai_add_instrument --site elp --camera fl17 --name nres02 --instrument-type 1m0-NRES-SciCam --db-address={os.environ[\"DB_ADDRESS\"]}')\n",
    "for bpm_filename in glob('test_data/*/nres??/bpm/*bpm*'):\n",
    "    logger.info(f'adding bpm {bpm_filename} to the database')\n",
    "    os.system(f'banzai_nres_add_bpm --filename {bpm_filename} --db-address={os.environ[\"DB_ADDRESS\"]}')"
   ]
  },
  {
   "cell_type": "markdown",
   "metadata": {},
   "source": [
    "Process and Stack Bias Files\n",
    "----------------------------"
   ]
  },
  {
   "cell_type": "code",
   "execution_count": null,
   "metadata": {},
   "outputs": [],
   "source": [
    "bias_files = glob(os.path.join('test_data/*/nres??/*/raw/*b00*'))\n",
    "for bias_file in bias_files: \n",
    "    run_pipeline_stages([{'path': bias_file}], context) "
   ]
  },
  {
   "cell_type": "code",
   "execution_count": null,
   "metadata": {},
   "outputs": [],
   "source": [
    "def mark_frames_as_good(filenames):\n",
    "    for filename in glob(f'test_data/*/nres??/*/processed/{filenames}'):\n",
    "        dbs.mark_frame(os.path.basename(filename), \"good\", db_address=os.environ['DB_ADDRESS'])"
   ]
  },
  {
   "cell_type": "code",
   "execution_count": null,
   "metadata": {},
   "outputs": [],
   "source": [
    "mark_frames_as_good('*b91*')"
   ]
  },
  {
   "cell_type": "code",
   "execution_count": 6,
   "metadata": {},
   "outputs": [],
   "source": [
    "instrument = dbs.get_instruments_at_site('lsc', settings.db_address)[0]"
   ]
  },
  {
   "cell_type": "code",
   "execution_count": null,
   "metadata": {},
   "outputs": [],
   "source": [
    "make_master_calibrations(instrument, 'BIAS', '2017-01-01', '2019-01-01', context) "
   ]
  },
  {
   "cell_type": "markdown",
   "metadata": {},
   "source": [
    "Process and Stack Dark Files\n",
    "----------------------------"
   ]
  },
  {
   "cell_type": "code",
   "execution_count": null,
   "metadata": {},
   "outputs": [],
   "source": [
    "dark_files = glob('test_data/*/nres??/*/raw/*d00*')\n",
    "for dark_file in dark_files: \n",
    "    run_pipeline_stages([{'path': dark_file}], context)"
   ]
  },
  {
   "cell_type": "code",
   "execution_count": null,
   "metadata": {},
   "outputs": [],
   "source": [
    "mark_frames_as_good('*d91*')"
   ]
  },
  {
   "cell_type": "code",
   "execution_count": null,
   "metadata": {},
   "outputs": [],
   "source": [
    "make_master_calibrations(instrument, 'DARK', '2017-01-01', '2019-01-01', context) "
   ]
  },
  {
   "cell_type": "markdown",
   "metadata": {},
   "source": [
    "Process and stack lamp flats. This is where we also solve for the traces and profile.\n",
    "----------"
   ]
  },
  {
   "cell_type": "code",
   "execution_count": null,
   "metadata": {},
   "outputs": [],
   "source": [
    "flat_files = glob('test_data/*/nres??/*/raw/*w00*')\n",
    "for flat_file in flat_files: \n",
    "    run_pipeline_stages([{'path': flat_file}], context)"
   ]
  },
  {
   "cell_type": "code",
   "execution_count": null,
   "metadata": {},
   "outputs": [],
   "source": [
    "make_master_calibrations(instrument, 'LAMPFLAT', '2017-01-01', '2019-01-01', context)"
   ]
  },
  {
   "cell_type": "markdown",
   "metadata": {},
   "source": [
    "Process and stack arc lamps. Find the wavelength solution\n",
    "--------"
   ]
  },
  {
   "cell_type": "code",
   "execution_count": null,
   "metadata": {},
   "outputs": [],
   "source": [
    "arc_files = glob('test_data/*/nres??/*/raw/*a00*')\n",
    "for arc_file in arc_files: \n",
    "    run_pipeline_stages([{'path': arc_file}], context)"
   ]
  },
  {
   "cell_type": "code",
   "execution_count": 7,
   "metadata": {},
   "outputs": [],
   "source": [
    "make_master_calibrations(instrument, 'DOUBLE', '2017-01-01', '2019-01-01', context)"
   ]
  },
  {
   "cell_type": "markdown",
   "metadata": {},
   "source": [
    "Process the science spectra\n",
    "------"
   ]
  },
  {
   "cell_type": "code",
   "execution_count": null,
   "metadata": {},
   "outputs": [],
   "source": [
    "science_files = glob('test_data/*/nres??/*/raw/*e00*')\n",
    "for science_file in science_files: \n",
    "    run_pipeline_stages([{'path': science_file}], context)"
   ]
  },
  {
   "cell_type": "code",
   "execution_count": null,
   "metadata": {},
   "outputs": [],
   "source": []
  }
 ],
 "metadata": {
  "kernelspec": {
   "display_name": "Python 3",
   "language": "python",
   "name": "python3"
  },
  "language_info": {
   "codemirror_mode": {
    "name": "ipython",
    "version": 3
   },
   "file_extension": ".py",
   "mimetype": "text/x-python",
   "name": "python",
   "nbconvert_exporter": "python",
   "pygments_lexer": "ipython3",
   "version": "3.6.8"
  }
 },
 "nbformat": 4,
 "nbformat_minor": 4
}
