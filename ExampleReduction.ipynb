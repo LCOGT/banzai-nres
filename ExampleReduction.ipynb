{
 "cells": [
  {
   "cell_type": "code",
   "execution_count": 1,
   "metadata": {},
   "outputs": [],
   "source": [
    "import os\n",
    "os.environ['OPENTSDB_PYTHON_METRICS_TEST_MODE'] = 'True'"
   ]
  },
  {
   "cell_type": "code",
   "execution_count": 2,
   "metadata": {},
   "outputs": [],
   "source": [
    "from banzai.calibrations import make_master_calibrations\n",
    "import requests\n",
    "from banzai_nres import settings\n",
    "from banzai import dbs\n",
    "from banzai.utils.stage_utils import run_pipeline_stages\n",
    "import logging\n",
    "from banzai.logs import set_log_level\n",
    "from glob import glob\n",
    "\n",
    "import pkg_resources"
   ]
  },
  {
   "cell_type": "markdown",
   "metadata": {},
   "source": [
    "Setup logging and some settings show we know where the DB should be.\n",
    "------"
   ]
  },
  {
   "cell_type": "code",
   "execution_count": 3,
   "metadata": {},
   "outputs": [],
   "source": [
    "set_log_level('DEBUG')\n",
    "logger = logging.getLogger('banzai')"
   ]
  },
  {
   "cell_type": "code",
   "execution_count": 4,
   "metadata": {},
   "outputs": [
    {
     "name": "stdout",
     "output_type": "stream",
     "text": [
      "2020-05-21 10:54:10.302     INFO:          stages: Running banzai.stages.BadPixelMaskLoader | {\"filename\": \"lscnrs01-fl09-20180313-0005-w00.fits.fz\", \"site\": \"lsc\", \"instrument\": \"nres01\", \"epoch\": \"20180313\", \"request_num\": \"UNSPECIFIED\", \"obstype\": \"LAMPFLAT\", \"filter\": null, \"processName\": \"MainProcess\"}\n",
      "2020-05-21 10:54:10.525     INFO:    calibrations: Applying master calibration | {\"filename\": \"lscnrs01-fl09-20180313-0005-w00.fits.fz\", \"site\": \"lsc\", \"instrument\": \"nres01\", \"epoch\": \"20180313\", \"request_num\": \"UNSPECIFIED\", \"obstype\": \"LAMPFLAT\", \"filter\": null, \"master_calibration\": \"bpm-lsc-nres01-fl09-20180215.fits.fz\", \"processName\": \"MainProcess\"}\n",
      "2020-05-21 10:54:10.563     INFO:          stages: Running banzai.stages.OverscanSubtractor | {\"filename\": \"lscnrs01-fl09-20180313-0005-w00.fits.fz\", \"site\": \"lsc\", \"instrument\": \"nres01\", \"epoch\": \"20180313\", \"request_num\": \"UNSPECIFIED\", \"obstype\": \"LAMPFLAT\", \"filter\": null, \"processName\": \"MainProcess\"}\n",
      "2020-05-21 10:54:10.619     INFO:          stages: Running banzai.stages.GainNormalizer | {\"filename\": \"lscnrs01-fl09-20180313-0005-w00.fits.fz\", \"site\": \"lsc\", \"instrument\": \"nres01\", \"epoch\": \"20180313\", \"request_num\": \"UNSPECIFIED\", \"obstype\": \"LAMPFLAT\", \"filter\": null, \"processName\": \"MainProcess\"}\n",
      "2020-05-21 10:54:10.619     INFO:            gain: Multiplying by gain | {\"filename\": \"lscnrs01-fl09-20180313-0005-w00.fits.fz\", \"site\": \"lsc\", \"instrument\": \"nres01\", \"epoch\": \"20180313\", \"request_num\": \"UNSPECIFIED\", \"obstype\": \"LAMPFLAT\", \"filter\": null, \"processName\": \"MainProcess\"}\n",
      "2020-05-21 10:54:10.654     INFO:          stages: Running banzai.stages.Trimmer | {\"filename\": \"lscnrs01-fl09-20180313-0005-w00.fits.fz\", \"site\": \"lsc\", \"instrument\": \"nres01\", \"epoch\": \"20180313\", \"request_num\": \"UNSPECIFIED\", \"obstype\": \"LAMPFLAT\", \"filter\": null, \"processName\": \"MainProcess\"}\n",
      "2020-05-21 10:54:10.654     INFO:            trim: Trimming image | {\"filename\": \"lscnrs01-fl09-20180313-0005-w00.fits.fz\", \"site\": \"lsc\", \"instrument\": \"nres01\", \"epoch\": \"20180313\", \"request_num\": \"UNSPECIFIED\", \"obstype\": \"LAMPFLAT\", \"filter\": null, \"processName\": \"MainProcess\"}\n",
      "2020-05-21 10:54:10.909     INFO:          stages: Running banzai.stages.PoissonInitializer | {\"filename\": \"lscnrs01-fl09-20180313-0005-w00.fits.fz\", \"site\": \"lsc\", \"instrument\": \"nres01\", \"epoch\": \"20180313\", \"request_num\": \"UNSPECIFIED\", \"obstype\": \"LAMPFLAT\", \"filter\": null, \"processName\": \"MainProcess\"}\n",
      "2020-05-21 10:54:11.065     INFO:          stages: Running banzai.stages.BiasSubtractor | {\"filename\": \"lscnrs01-fl09-20180313-0005-w00.fits.fz\", \"site\": \"lsc\", \"instrument\": \"nres01\", \"epoch\": \"20180313\", \"request_num\": \"UNSPECIFIED\", \"obstype\": \"LAMPFLAT\", \"filter\": null, \"processName\": \"MainProcess\"}\n",
      "2020-05-21 10:54:11.768     INFO:    calibrations: Applying master calibration | {\"filename\": \"lscnrs01-fl09-20180313-0005-w00.fits.fz\", \"site\": \"lsc\", \"instrument\": \"nres01\", \"epoch\": \"20180313\", \"request_num\": \"UNSPECIFIED\", \"obstype\": \"LAMPFLAT\", \"filter\": null, \"master_calibration\": \"lscnrs01-fl09-20180313-bias-bin1x1.fits.fz\", \"processName\": \"MainProcess\"}\n",
      "2020-05-21 10:54:11.949     INFO:          stages: Running banzai.stages.DarkSubtractor | {\"filename\": \"lscnrs01-fl09-20180313-0005-w00.fits.fz\", \"site\": \"lsc\", \"instrument\": \"nres01\", \"epoch\": \"20180313\", \"request_num\": \"UNSPECIFIED\", \"obstype\": \"LAMPFLAT\", \"filter\": null, \"processName\": \"MainProcess\"}\n",
      "2020-05-21 10:54:12.641     INFO:    calibrations: Applying master calibration | {\"filename\": \"lscnrs01-fl09-20180313-0005-w00.fits.fz\", \"site\": \"lsc\", \"instrument\": \"nres01\", \"epoch\": \"20180313\", \"request_num\": \"UNSPECIFIED\", \"obstype\": \"LAMPFLAT\", \"filter\": null, \"master_calibration\": \"lscnrs01-fl09-20180313-dark-bin1x1.fits.fz\", \"processName\": \"MainProcess\"}\n",
      "2020-05-21 10:54:15.750     INFO:          stages: Running banzai.stages.BadPixelMaskLoader | {\"filename\": \"lscnrs01-fl09-20180313-0018-w00.fits.fz\", \"site\": \"lsc\", \"instrument\": \"nres01\", \"epoch\": \"20180313\", \"request_num\": \"UNSPECIFIED\", \"obstype\": \"LAMPFLAT\", \"filter\": null, \"processName\": \"MainProcess\"}\n",
      "2020-05-21 10:54:15.935     INFO:    calibrations: Applying master calibration | {\"filename\": \"lscnrs01-fl09-20180313-0018-w00.fits.fz\", \"site\": \"lsc\", \"instrument\": \"nres01\", \"epoch\": \"20180313\", \"request_num\": \"UNSPECIFIED\", \"obstype\": \"LAMPFLAT\", \"filter\": null, \"master_calibration\": \"bpm-lsc-nres01-fl09-20180215.fits.fz\", \"processName\": \"MainProcess\"}\n",
      "2020-05-21 10:54:15.975     INFO:          stages: Running banzai.stages.OverscanSubtractor | {\"filename\": \"lscnrs01-fl09-20180313-0018-w00.fits.fz\", \"site\": \"lsc\", \"instrument\": \"nres01\", \"epoch\": \"20180313\", \"request_num\": \"UNSPECIFIED\", \"obstype\": \"LAMPFLAT\", \"filter\": null, \"processName\": \"MainProcess\"}\n",
      "2020-05-21 10:54:16.002     INFO:          stages: Running banzai.stages.GainNormalizer | {\"filename\": \"lscnrs01-fl09-20180313-0018-w00.fits.fz\", \"site\": \"lsc\", \"instrument\": \"nres01\", \"epoch\": \"20180313\", \"request_num\": \"UNSPECIFIED\", \"obstype\": \"LAMPFLAT\", \"filter\": null, \"processName\": \"MainProcess\"}\n",
      "2020-05-21 10:54:16.004     INFO:            gain: Multiplying by gain | {\"filename\": \"lscnrs01-fl09-20180313-0018-w00.fits.fz\", \"site\": \"lsc\", \"instrument\": \"nres01\", \"epoch\": \"20180313\", \"request_num\": \"UNSPECIFIED\", \"obstype\": \"LAMPFLAT\", \"filter\": null, \"processName\": \"MainProcess\"}\n",
      "2020-05-21 10:54:16.038     INFO:          stages: Running banzai.stages.Trimmer | {\"filename\": \"lscnrs01-fl09-20180313-0018-w00.fits.fz\", \"site\": \"lsc\", \"instrument\": \"nres01\", \"epoch\": \"20180313\", \"request_num\": \"UNSPECIFIED\", \"obstype\": \"LAMPFLAT\", \"filter\": null, \"processName\": \"MainProcess\"}\n",
      "2020-05-21 10:54:16.039     INFO:            trim: Trimming image | {\"filename\": \"lscnrs01-fl09-20180313-0018-w00.fits.fz\", \"site\": \"lsc\", \"instrument\": \"nres01\", \"epoch\": \"20180313\", \"request_num\": \"UNSPECIFIED\", \"obstype\": \"LAMPFLAT\", \"filter\": null, \"processName\": \"MainProcess\"}\n",
      "2020-05-21 10:54:16.284     INFO:          stages: Running banzai.stages.PoissonInitializer | {\"filename\": \"lscnrs01-fl09-20180313-0018-w00.fits.fz\", \"site\": \"lsc\", \"instrument\": \"nres01\", \"epoch\": \"20180313\", \"request_num\": \"UNSPECIFIED\", \"obstype\": \"LAMPFLAT\", \"filter\": null, \"processName\": \"MainProcess\"}\n",
      "2020-05-21 10:54:16.428     INFO:          stages: Running banzai.stages.BiasSubtractor | {\"filename\": \"lscnrs01-fl09-20180313-0018-w00.fits.fz\", \"site\": \"lsc\", \"instrument\": \"nres01\", \"epoch\": \"20180313\", \"request_num\": \"UNSPECIFIED\", \"obstype\": \"LAMPFLAT\", \"filter\": null, \"processName\": \"MainProcess\"}\n",
      "2020-05-21 10:54:17.088     INFO:    calibrations: Applying master calibration | {\"filename\": \"lscnrs01-fl09-20180313-0018-w00.fits.fz\", \"site\": \"lsc\", \"instrument\": \"nres01\", \"epoch\": \"20180313\", \"request_num\": \"UNSPECIFIED\", \"obstype\": \"LAMPFLAT\", \"filter\": null, \"master_calibration\": \"lscnrs01-fl09-20180313-bias-bin1x1.fits.fz\", \"processName\": \"MainProcess\"}\n",
      "2020-05-21 10:54:17.256     INFO:          stages: Running banzai.stages.DarkSubtractor | {\"filename\": \"lscnrs01-fl09-20180313-0018-w00.fits.fz\", \"site\": \"lsc\", \"instrument\": \"nres01\", \"epoch\": \"20180313\", \"request_num\": \"UNSPECIFIED\", \"obstype\": \"LAMPFLAT\", \"filter\": null, \"processName\": \"MainProcess\"}\n",
      "2020-05-21 10:54:17.939     INFO:    calibrations: Applying master calibration | {\"filename\": \"lscnrs01-fl09-20180313-0018-w00.fits.fz\", \"site\": \"lsc\", \"instrument\": \"nres01\", \"epoch\": \"20180313\", \"request_num\": \"UNSPECIFIED\", \"obstype\": \"LAMPFLAT\", \"filter\": null, \"master_calibration\": \"lscnrs01-fl09-20180313-dark-bin1x1.fits.fz\", \"processName\": \"MainProcess\"}\n",
      "2020-05-21 10:54:21.180     INFO:          stages: Running banzai.stages.BadPixelMaskLoader | {\"filename\": \"lscnrs01-fl09-20180313-0015-w00.fits.fz\", \"site\": \"lsc\", \"instrument\": \"nres01\", \"epoch\": \"20180313\", \"request_num\": \"UNSPECIFIED\", \"obstype\": \"LAMPFLAT\", \"filter\": null, \"processName\": \"MainProcess\"}\n",
      "2020-05-21 10:54:21.404     INFO:    calibrations: Applying master calibration | {\"filename\": \"lscnrs01-fl09-20180313-0015-w00.fits.fz\", \"site\": \"lsc\", \"instrument\": \"nres01\", \"epoch\": \"20180313\", \"request_num\": \"UNSPECIFIED\", \"obstype\": \"LAMPFLAT\", \"filter\": null, \"master_calibration\": \"bpm-lsc-nres01-fl09-20180215.fits.fz\", \"processName\": \"MainProcess\"}\n"
     ]
    },
    {
     "name": "stdout",
     "output_type": "stream",
     "text": [
      "2020-05-21 10:54:21.443     INFO:          stages: Running banzai.stages.OverscanSubtractor | {\"filename\": \"lscnrs01-fl09-20180313-0015-w00.fits.fz\", \"site\": \"lsc\", \"instrument\": \"nres01\", \"epoch\": \"20180313\", \"request_num\": \"UNSPECIFIED\", \"obstype\": \"LAMPFLAT\", \"filter\": null, \"processName\": \"MainProcess\"}\n",
      "2020-05-21 10:54:21.472     INFO:          stages: Running banzai.stages.GainNormalizer | {\"filename\": \"lscnrs01-fl09-20180313-0015-w00.fits.fz\", \"site\": \"lsc\", \"instrument\": \"nres01\", \"epoch\": \"20180313\", \"request_num\": \"UNSPECIFIED\", \"obstype\": \"LAMPFLAT\", \"filter\": null, \"processName\": \"MainProcess\"}\n",
      "2020-05-21 10:54:21.472     INFO:            gain: Multiplying by gain | {\"filename\": \"lscnrs01-fl09-20180313-0015-w00.fits.fz\", \"site\": \"lsc\", \"instrument\": \"nres01\", \"epoch\": \"20180313\", \"request_num\": \"UNSPECIFIED\", \"obstype\": \"LAMPFLAT\", \"filter\": null, \"processName\": \"MainProcess\"}\n",
      "2020-05-21 10:54:21.506     INFO:          stages: Running banzai.stages.Trimmer | {\"filename\": \"lscnrs01-fl09-20180313-0015-w00.fits.fz\", \"site\": \"lsc\", \"instrument\": \"nres01\", \"epoch\": \"20180313\", \"request_num\": \"UNSPECIFIED\", \"obstype\": \"LAMPFLAT\", \"filter\": null, \"processName\": \"MainProcess\"}\n",
      "2020-05-21 10:54:21.507     INFO:            trim: Trimming image | {\"filename\": \"lscnrs01-fl09-20180313-0015-w00.fits.fz\", \"site\": \"lsc\", \"instrument\": \"nres01\", \"epoch\": \"20180313\", \"request_num\": \"UNSPECIFIED\", \"obstype\": \"LAMPFLAT\", \"filter\": null, \"processName\": \"MainProcess\"}\n",
      "2020-05-21 10:54:21.761     INFO:          stages: Running banzai.stages.PoissonInitializer | {\"filename\": \"lscnrs01-fl09-20180313-0015-w00.fits.fz\", \"site\": \"lsc\", \"instrument\": \"nres01\", \"epoch\": \"20180313\", \"request_num\": \"UNSPECIFIED\", \"obstype\": \"LAMPFLAT\", \"filter\": null, \"processName\": \"MainProcess\"}\n",
      "2020-05-21 10:54:21.917     INFO:          stages: Running banzai.stages.BiasSubtractor | {\"filename\": \"lscnrs01-fl09-20180313-0015-w00.fits.fz\", \"site\": \"lsc\", \"instrument\": \"nres01\", \"epoch\": \"20180313\", \"request_num\": \"UNSPECIFIED\", \"obstype\": \"LAMPFLAT\", \"filter\": null, \"processName\": \"MainProcess\"}\n",
      "2020-05-21 10:54:22.595     INFO:    calibrations: Applying master calibration | {\"filename\": \"lscnrs01-fl09-20180313-0015-w00.fits.fz\", \"site\": \"lsc\", \"instrument\": \"nres01\", \"epoch\": \"20180313\", \"request_num\": \"UNSPECIFIED\", \"obstype\": \"LAMPFLAT\", \"filter\": null, \"master_calibration\": \"lscnrs01-fl09-20180313-bias-bin1x1.fits.fz\", \"processName\": \"MainProcess\"}\n",
      "2020-05-21 10:54:22.762     INFO:          stages: Running banzai.stages.DarkSubtractor | {\"filename\": \"lscnrs01-fl09-20180313-0015-w00.fits.fz\", \"site\": \"lsc\", \"instrument\": \"nres01\", \"epoch\": \"20180313\", \"request_num\": \"UNSPECIFIED\", \"obstype\": \"LAMPFLAT\", \"filter\": null, \"processName\": \"MainProcess\"}\n",
      "2020-05-21 10:54:23.432     INFO:    calibrations: Applying master calibration | {\"filename\": \"lscnrs01-fl09-20180313-0015-w00.fits.fz\", \"site\": \"lsc\", \"instrument\": \"nres01\", \"epoch\": \"20180313\", \"request_num\": \"UNSPECIFIED\", \"obstype\": \"LAMPFLAT\", \"filter\": null, \"master_calibration\": \"lscnrs01-fl09-20180313-dark-bin1x1.fits.fz\", \"processName\": \"MainProcess\"}\n",
      "2020-05-21 10:54:26.643     INFO:          stages: Running banzai.stages.BadPixelMaskLoader | {\"filename\": \"lscnrs01-fl09-20180313-0009-w00.fits.fz\", \"site\": \"lsc\", \"instrument\": \"nres01\", \"epoch\": \"20180313\", \"request_num\": \"UNSPECIFIED\", \"obstype\": \"LAMPFLAT\", \"filter\": null, \"processName\": \"MainProcess\"}\n",
      "2020-05-21 10:54:26.833     INFO:    calibrations: Applying master calibration | {\"filename\": \"lscnrs01-fl09-20180313-0009-w00.fits.fz\", \"site\": \"lsc\", \"instrument\": \"nres01\", \"epoch\": \"20180313\", \"request_num\": \"UNSPECIFIED\", \"obstype\": \"LAMPFLAT\", \"filter\": null, \"master_calibration\": \"bpm-lsc-nres01-fl09-20180215.fits.fz\", \"processName\": \"MainProcess\"}\n",
      "2020-05-21 10:54:26.871     INFO:          stages: Running banzai.stages.OverscanSubtractor | {\"filename\": \"lscnrs01-fl09-20180313-0009-w00.fits.fz\", \"site\": \"lsc\", \"instrument\": \"nres01\", \"epoch\": \"20180313\", \"request_num\": \"UNSPECIFIED\", \"obstype\": \"LAMPFLAT\", \"filter\": null, \"processName\": \"MainProcess\"}\n",
      "2020-05-21 10:54:26.900     INFO:          stages: Running banzai.stages.GainNormalizer | {\"filename\": \"lscnrs01-fl09-20180313-0009-w00.fits.fz\", \"site\": \"lsc\", \"instrument\": \"nres01\", \"epoch\": \"20180313\", \"request_num\": \"UNSPECIFIED\", \"obstype\": \"LAMPFLAT\", \"filter\": null, \"processName\": \"MainProcess\"}\n",
      "2020-05-21 10:54:26.901     INFO:            gain: Multiplying by gain | {\"filename\": \"lscnrs01-fl09-20180313-0009-w00.fits.fz\", \"site\": \"lsc\", \"instrument\": \"nres01\", \"epoch\": \"20180313\", \"request_num\": \"UNSPECIFIED\", \"obstype\": \"LAMPFLAT\", \"filter\": null, \"processName\": \"MainProcess\"}\n",
      "2020-05-21 10:54:26.934     INFO:          stages: Running banzai.stages.Trimmer | {\"filename\": \"lscnrs01-fl09-20180313-0009-w00.fits.fz\", \"site\": \"lsc\", \"instrument\": \"nres01\", \"epoch\": \"20180313\", \"request_num\": \"UNSPECIFIED\", \"obstype\": \"LAMPFLAT\", \"filter\": null, \"processName\": \"MainProcess\"}\n",
      "2020-05-21 10:54:26.935     INFO:            trim: Trimming image | {\"filename\": \"lscnrs01-fl09-20180313-0009-w00.fits.fz\", \"site\": \"lsc\", \"instrument\": \"nres01\", \"epoch\": \"20180313\", \"request_num\": \"UNSPECIFIED\", \"obstype\": \"LAMPFLAT\", \"filter\": null, \"processName\": \"MainProcess\"}\n",
      "2020-05-21 10:54:27.188     INFO:          stages: Running banzai.stages.PoissonInitializer | {\"filename\": \"lscnrs01-fl09-20180313-0009-w00.fits.fz\", \"site\": \"lsc\", \"instrument\": \"nres01\", \"epoch\": \"20180313\", \"request_num\": \"UNSPECIFIED\", \"obstype\": \"LAMPFLAT\", \"filter\": null, \"processName\": \"MainProcess\"}\n",
      "2020-05-21 10:54:27.340     INFO:          stages: Running banzai.stages.BiasSubtractor | {\"filename\": \"lscnrs01-fl09-20180313-0009-w00.fits.fz\", \"site\": \"lsc\", \"instrument\": \"nres01\", \"epoch\": \"20180313\", \"request_num\": \"UNSPECIFIED\", \"obstype\": \"LAMPFLAT\", \"filter\": null, \"processName\": \"MainProcess\"}\n",
      "2020-05-21 10:54:28.027     INFO:    calibrations: Applying master calibration | {\"filename\": \"lscnrs01-fl09-20180313-0009-w00.fits.fz\", \"site\": \"lsc\", \"instrument\": \"nres01\", \"epoch\": \"20180313\", \"request_num\": \"UNSPECIFIED\", \"obstype\": \"LAMPFLAT\", \"filter\": null, \"master_calibration\": \"lscnrs01-fl09-20180313-bias-bin1x1.fits.fz\", \"processName\": \"MainProcess\"}\n",
      "2020-05-21 10:54:28.203     INFO:          stages: Running banzai.stages.DarkSubtractor | {\"filename\": \"lscnrs01-fl09-20180313-0009-w00.fits.fz\", \"site\": \"lsc\", \"instrument\": \"nres01\", \"epoch\": \"20180313\", \"request_num\": \"UNSPECIFIED\", \"obstype\": \"LAMPFLAT\", \"filter\": null, \"processName\": \"MainProcess\"}\n",
      "2020-05-21 10:54:28.904     INFO:    calibrations: Applying master calibration | {\"filename\": \"lscnrs01-fl09-20180313-0009-w00.fits.fz\", \"site\": \"lsc\", \"instrument\": \"nres01\", \"epoch\": \"20180313\", \"request_num\": \"UNSPECIFIED\", \"obstype\": \"LAMPFLAT\", \"filter\": null, \"master_calibration\": \"lscnrs01-fl09-20180313-dark-bin1x1.fits.fz\", \"processName\": \"MainProcess\"}\n",
      "2020-05-21 10:54:32.086     INFO:          stages: Running banzai.stages.BadPixelMaskLoader | {\"filename\": \"lscnrs01-fl09-20180313-0011-w00.fits.fz\", \"site\": \"lsc\", \"instrument\": \"nres01\", \"epoch\": \"20180313\", \"request_num\": \"UNSPECIFIED\", \"obstype\": \"LAMPFLAT\", \"filter\": null, \"processName\": \"MainProcess\"}\n",
      "2020-05-21 10:54:32.268     INFO:    calibrations: Applying master calibration | {\"filename\": \"lscnrs01-fl09-20180313-0011-w00.fits.fz\", \"site\": \"lsc\", \"instrument\": \"nres01\", \"epoch\": \"20180313\", \"request_num\": \"UNSPECIFIED\", \"obstype\": \"LAMPFLAT\", \"filter\": null, \"master_calibration\": \"bpm-lsc-nres01-fl09-20180215.fits.fz\", \"processName\": \"MainProcess\"}\n",
      "2020-05-21 10:54:32.305     INFO:          stages: Running banzai.stages.OverscanSubtractor | {\"filename\": \"lscnrs01-fl09-20180313-0011-w00.fits.fz\", \"site\": \"lsc\", \"instrument\": \"nres01\", \"epoch\": \"20180313\", \"request_num\": \"UNSPECIFIED\", \"obstype\": \"LAMPFLAT\", \"filter\": null, \"processName\": \"MainProcess\"}\n",
      "2020-05-21 10:54:32.332     INFO:          stages: Running banzai.stages.GainNormalizer | {\"filename\": \"lscnrs01-fl09-20180313-0011-w00.fits.fz\", \"site\": \"lsc\", \"instrument\": \"nres01\", \"epoch\": \"20180313\", \"request_num\": \"UNSPECIFIED\", \"obstype\": \"LAMPFLAT\", \"filter\": null, \"processName\": \"MainProcess\"}\n"
     ]
    },
    {
     "name": "stdout",
     "output_type": "stream",
     "text": [
      "2020-05-21 10:54:32.333     INFO:            gain: Multiplying by gain | {\"filename\": \"lscnrs01-fl09-20180313-0011-w00.fits.fz\", \"site\": \"lsc\", \"instrument\": \"nres01\", \"epoch\": \"20180313\", \"request_num\": \"UNSPECIFIED\", \"obstype\": \"LAMPFLAT\", \"filter\": null, \"processName\": \"MainProcess\"}\n",
      "2020-05-21 10:54:32.368     INFO:          stages: Running banzai.stages.Trimmer | {\"filename\": \"lscnrs01-fl09-20180313-0011-w00.fits.fz\", \"site\": \"lsc\", \"instrument\": \"nres01\", \"epoch\": \"20180313\", \"request_num\": \"UNSPECIFIED\", \"obstype\": \"LAMPFLAT\", \"filter\": null, \"processName\": \"MainProcess\"}\n",
      "2020-05-21 10:54:32.369     INFO:            trim: Trimming image | {\"filename\": \"lscnrs01-fl09-20180313-0011-w00.fits.fz\", \"site\": \"lsc\", \"instrument\": \"nres01\", \"epoch\": \"20180313\", \"request_num\": \"UNSPECIFIED\", \"obstype\": \"LAMPFLAT\", \"filter\": null, \"processName\": \"MainProcess\"}\n",
      "2020-05-21 10:54:32.625     INFO:          stages: Running banzai.stages.PoissonInitializer | {\"filename\": \"lscnrs01-fl09-20180313-0011-w00.fits.fz\", \"site\": \"lsc\", \"instrument\": \"nres01\", \"epoch\": \"20180313\", \"request_num\": \"UNSPECIFIED\", \"obstype\": \"LAMPFLAT\", \"filter\": null, \"processName\": \"MainProcess\"}\n",
      "2020-05-21 10:54:32.774     INFO:          stages: Running banzai.stages.BiasSubtractor | {\"filename\": \"lscnrs01-fl09-20180313-0011-w00.fits.fz\", \"site\": \"lsc\", \"instrument\": \"nres01\", \"epoch\": \"20180313\", \"request_num\": \"UNSPECIFIED\", \"obstype\": \"LAMPFLAT\", \"filter\": null, \"processName\": \"MainProcess\"}\n",
      "2020-05-21 10:54:33.455     INFO:    calibrations: Applying master calibration | {\"filename\": \"lscnrs01-fl09-20180313-0011-w00.fits.fz\", \"site\": \"lsc\", \"instrument\": \"nres01\", \"epoch\": \"20180313\", \"request_num\": \"UNSPECIFIED\", \"obstype\": \"LAMPFLAT\", \"filter\": null, \"master_calibration\": \"lscnrs01-fl09-20180313-bias-bin1x1.fits.fz\", \"processName\": \"MainProcess\"}\n",
      "2020-05-21 10:54:33.632     INFO:          stages: Running banzai.stages.DarkSubtractor | {\"filename\": \"lscnrs01-fl09-20180313-0011-w00.fits.fz\", \"site\": \"lsc\", \"instrument\": \"nres01\", \"epoch\": \"20180313\", \"request_num\": \"UNSPECIFIED\", \"obstype\": \"LAMPFLAT\", \"filter\": null, \"processName\": \"MainProcess\"}\n",
      "2020-05-21 10:54:34.320     INFO:    calibrations: Applying master calibration | {\"filename\": \"lscnrs01-fl09-20180313-0011-w00.fits.fz\", \"site\": \"lsc\", \"instrument\": \"nres01\", \"epoch\": \"20180313\", \"request_num\": \"UNSPECIFIED\", \"obstype\": \"LAMPFLAT\", \"filter\": null, \"master_calibration\": \"lscnrs01-fl09-20180313-dark-bin1x1.fits.fz\", \"processName\": \"MainProcess\"}\n",
      "2020-05-21 10:54:37.563     INFO:          stages: Running banzai.stages.BadPixelMaskLoader | {\"filename\": \"lscnrs01-fl09-20180313-0004-w00.fits.fz\", \"site\": \"lsc\", \"instrument\": \"nres01\", \"epoch\": \"20180313\", \"request_num\": \"UNSPECIFIED\", \"obstype\": \"LAMPFLAT\", \"filter\": null, \"processName\": \"MainProcess\"}\n",
      "2020-05-21 10:54:37.753     INFO:    calibrations: Applying master calibration | {\"filename\": \"lscnrs01-fl09-20180313-0004-w00.fits.fz\", \"site\": \"lsc\", \"instrument\": \"nres01\", \"epoch\": \"20180313\", \"request_num\": \"UNSPECIFIED\", \"obstype\": \"LAMPFLAT\", \"filter\": null, \"master_calibration\": \"bpm-lsc-nres01-fl09-20180215.fits.fz\", \"processName\": \"MainProcess\"}\n",
      "2020-05-21 10:54:37.791     INFO:          stages: Running banzai.stages.OverscanSubtractor | {\"filename\": \"lscnrs01-fl09-20180313-0004-w00.fits.fz\", \"site\": \"lsc\", \"instrument\": \"nres01\", \"epoch\": \"20180313\", \"request_num\": \"UNSPECIFIED\", \"obstype\": \"LAMPFLAT\", \"filter\": null, \"processName\": \"MainProcess\"}\n",
      "2020-05-21 10:54:37.822     INFO:          stages: Running banzai.stages.GainNormalizer | {\"filename\": \"lscnrs01-fl09-20180313-0004-w00.fits.fz\", \"site\": \"lsc\", \"instrument\": \"nres01\", \"epoch\": \"20180313\", \"request_num\": \"UNSPECIFIED\", \"obstype\": \"LAMPFLAT\", \"filter\": null, \"processName\": \"MainProcess\"}\n",
      "2020-05-21 10:54:37.823     INFO:            gain: Multiplying by gain | {\"filename\": \"lscnrs01-fl09-20180313-0004-w00.fits.fz\", \"site\": \"lsc\", \"instrument\": \"nres01\", \"epoch\": \"20180313\", \"request_num\": \"UNSPECIFIED\", \"obstype\": \"LAMPFLAT\", \"filter\": null, \"processName\": \"MainProcess\"}\n",
      "2020-05-21 10:54:37.859     INFO:          stages: Running banzai.stages.Trimmer | {\"filename\": \"lscnrs01-fl09-20180313-0004-w00.fits.fz\", \"site\": \"lsc\", \"instrument\": \"nres01\", \"epoch\": \"20180313\", \"request_num\": \"UNSPECIFIED\", \"obstype\": \"LAMPFLAT\", \"filter\": null, \"processName\": \"MainProcess\"}\n",
      "2020-05-21 10:54:37.860     INFO:            trim: Trimming image | {\"filename\": \"lscnrs01-fl09-20180313-0004-w00.fits.fz\", \"site\": \"lsc\", \"instrument\": \"nres01\", \"epoch\": \"20180313\", \"request_num\": \"UNSPECIFIED\", \"obstype\": \"LAMPFLAT\", \"filter\": null, \"processName\": \"MainProcess\"}\n",
      "2020-05-21 10:54:38.123     INFO:          stages: Running banzai.stages.PoissonInitializer | {\"filename\": \"lscnrs01-fl09-20180313-0004-w00.fits.fz\", \"site\": \"lsc\", \"instrument\": \"nres01\", \"epoch\": \"20180313\", \"request_num\": \"UNSPECIFIED\", \"obstype\": \"LAMPFLAT\", \"filter\": null, \"processName\": \"MainProcess\"}\n",
      "2020-05-21 10:54:38.274     INFO:          stages: Running banzai.stages.BiasSubtractor | {\"filename\": \"lscnrs01-fl09-20180313-0004-w00.fits.fz\", \"site\": \"lsc\", \"instrument\": \"nres01\", \"epoch\": \"20180313\", \"request_num\": \"UNSPECIFIED\", \"obstype\": \"LAMPFLAT\", \"filter\": null, \"processName\": \"MainProcess\"}\n",
      "2020-05-21 10:54:38.982     INFO:    calibrations: Applying master calibration | {\"filename\": \"lscnrs01-fl09-20180313-0004-w00.fits.fz\", \"site\": \"lsc\", \"instrument\": \"nres01\", \"epoch\": \"20180313\", \"request_num\": \"UNSPECIFIED\", \"obstype\": \"LAMPFLAT\", \"filter\": null, \"master_calibration\": \"lscnrs01-fl09-20180313-bias-bin1x1.fits.fz\", \"processName\": \"MainProcess\"}\n",
      "2020-05-21 10:54:39.161     INFO:          stages: Running banzai.stages.DarkSubtractor | {\"filename\": \"lscnrs01-fl09-20180313-0004-w00.fits.fz\", \"site\": \"lsc\", \"instrument\": \"nres01\", \"epoch\": \"20180313\", \"request_num\": \"UNSPECIFIED\", \"obstype\": \"LAMPFLAT\", \"filter\": null, \"processName\": \"MainProcess\"}\n",
      "2020-05-21 10:54:39.858     INFO:    calibrations: Applying master calibration | {\"filename\": \"lscnrs01-fl09-20180313-0004-w00.fits.fz\", \"site\": \"lsc\", \"instrument\": \"nres01\", \"epoch\": \"20180313\", \"request_num\": \"UNSPECIFIED\", \"obstype\": \"LAMPFLAT\", \"filter\": null, \"master_calibration\": \"lscnrs01-fl09-20180313-dark-bin1x1.fits.fz\", \"processName\": \"MainProcess\"}\n",
      "2020-05-21 10:54:43.106     INFO:          stages: Running banzai.stages.BadPixelMaskLoader | {\"filename\": \"lscnrs01-fl09-20180313-0001-w00.fits.fz\", \"site\": \"lsc\", \"instrument\": \"nres01\", \"epoch\": \"20180313\", \"request_num\": \"UNSPECIFIED\", \"obstype\": \"LAMPFLAT\", \"filter\": null, \"processName\": \"MainProcess\"}\n",
      "2020-05-21 10:54:43.287     INFO:    calibrations: Applying master calibration | {\"filename\": \"lscnrs01-fl09-20180313-0001-w00.fits.fz\", \"site\": \"lsc\", \"instrument\": \"nres01\", \"epoch\": \"20180313\", \"request_num\": \"UNSPECIFIED\", \"obstype\": \"LAMPFLAT\", \"filter\": null, \"master_calibration\": \"bpm-lsc-nres01-fl09-20180215.fits.fz\", \"processName\": \"MainProcess\"}\n",
      "2020-05-21 10:54:43.325     INFO:          stages: Running banzai.stages.OverscanSubtractor | {\"filename\": \"lscnrs01-fl09-20180313-0001-w00.fits.fz\", \"site\": \"lsc\", \"instrument\": \"nres01\", \"epoch\": \"20180313\", \"request_num\": \"UNSPECIFIED\", \"obstype\": \"LAMPFLAT\", \"filter\": null, \"processName\": \"MainProcess\"}\n",
      "2020-05-21 10:54:43.351     INFO:          stages: Running banzai.stages.GainNormalizer | {\"filename\": \"lscnrs01-fl09-20180313-0001-w00.fits.fz\", \"site\": \"lsc\", \"instrument\": \"nres01\", \"epoch\": \"20180313\", \"request_num\": \"UNSPECIFIED\", \"obstype\": \"LAMPFLAT\", \"filter\": null, \"processName\": \"MainProcess\"}\n",
      "2020-05-21 10:54:43.352     INFO:            gain: Multiplying by gain | {\"filename\": \"lscnrs01-fl09-20180313-0001-w00.fits.fz\", \"site\": \"lsc\", \"instrument\": \"nres01\", \"epoch\": \"20180313\", \"request_num\": \"UNSPECIFIED\", \"obstype\": \"LAMPFLAT\", \"filter\": null, \"processName\": \"MainProcess\"}\n",
      "2020-05-21 10:54:43.386     INFO:          stages: Running banzai.stages.Trimmer | {\"filename\": \"lscnrs01-fl09-20180313-0001-w00.fits.fz\", \"site\": \"lsc\", \"instrument\": \"nres01\", \"epoch\": \"20180313\", \"request_num\": \"UNSPECIFIED\", \"obstype\": \"LAMPFLAT\", \"filter\": null, \"processName\": \"MainProcess\"}\n",
      "2020-05-21 10:54:43.386     INFO:            trim: Trimming image | {\"filename\": \"lscnrs01-fl09-20180313-0001-w00.fits.fz\", \"site\": \"lsc\", \"instrument\": \"nres01\", \"epoch\": \"20180313\", \"request_num\": \"UNSPECIFIED\", \"obstype\": \"LAMPFLAT\", \"filter\": null, \"processName\": \"MainProcess\"}\n"
     ]
    },
    {
     "name": "stdout",
     "output_type": "stream",
     "text": [
      "2020-05-21 10:54:43.647     INFO:          stages: Running banzai.stages.PoissonInitializer | {\"filename\": \"lscnrs01-fl09-20180313-0001-w00.fits.fz\", \"site\": \"lsc\", \"instrument\": \"nres01\", \"epoch\": \"20180313\", \"request_num\": \"UNSPECIFIED\", \"obstype\": \"LAMPFLAT\", \"filter\": null, \"processName\": \"MainProcess\"}\n",
      "2020-05-21 10:54:43.793     INFO:          stages: Running banzai.stages.BiasSubtractor | {\"filename\": \"lscnrs01-fl09-20180313-0001-w00.fits.fz\", \"site\": \"lsc\", \"instrument\": \"nres01\", \"epoch\": \"20180313\", \"request_num\": \"UNSPECIFIED\", \"obstype\": \"LAMPFLAT\", \"filter\": null, \"processName\": \"MainProcess\"}\n",
      "2020-05-21 10:54:44.458     INFO:    calibrations: Applying master calibration | {\"filename\": \"lscnrs01-fl09-20180313-0001-w00.fits.fz\", \"site\": \"lsc\", \"instrument\": \"nres01\", \"epoch\": \"20180313\", \"request_num\": \"UNSPECIFIED\", \"obstype\": \"LAMPFLAT\", \"filter\": null, \"master_calibration\": \"lscnrs01-fl09-20180313-bias-bin1x1.fits.fz\", \"processName\": \"MainProcess\"}\n",
      "2020-05-21 10:54:44.631     INFO:          stages: Running banzai.stages.DarkSubtractor | {\"filename\": \"lscnrs01-fl09-20180313-0001-w00.fits.fz\", \"site\": \"lsc\", \"instrument\": \"nres01\", \"epoch\": \"20180313\", \"request_num\": \"UNSPECIFIED\", \"obstype\": \"LAMPFLAT\", \"filter\": null, \"processName\": \"MainProcess\"}\n",
      "2020-05-21 10:54:45.326     INFO:    calibrations: Applying master calibration | {\"filename\": \"lscnrs01-fl09-20180313-0001-w00.fits.fz\", \"site\": \"lsc\", \"instrument\": \"nres01\", \"epoch\": \"20180313\", \"request_num\": \"UNSPECIFIED\", \"obstype\": \"LAMPFLAT\", \"filter\": null, \"master_calibration\": \"lscnrs01-fl09-20180313-dark-bin1x1.fits.fz\", \"processName\": \"MainProcess\"}\n",
      "2020-05-21 10:54:48.480     INFO:          stages: Running banzai.stages.BadPixelMaskLoader | {\"filename\": \"lscnrs01-fl09-20180313-0017-w00.fits.fz\", \"site\": \"lsc\", \"instrument\": \"nres01\", \"epoch\": \"20180313\", \"request_num\": \"UNSPECIFIED\", \"obstype\": \"LAMPFLAT\", \"filter\": null, \"processName\": \"MainProcess\"}\n",
      "2020-05-21 10:54:48.677     INFO:    calibrations: Applying master calibration | {\"filename\": \"lscnrs01-fl09-20180313-0017-w00.fits.fz\", \"site\": \"lsc\", \"instrument\": \"nres01\", \"epoch\": \"20180313\", \"request_num\": \"UNSPECIFIED\", \"obstype\": \"LAMPFLAT\", \"filter\": null, \"master_calibration\": \"bpm-lsc-nres01-fl09-20180215.fits.fz\", \"processName\": \"MainProcess\"}\n",
      "2020-05-21 10:54:48.717     INFO:          stages: Running banzai.stages.OverscanSubtractor | {\"filename\": \"lscnrs01-fl09-20180313-0017-w00.fits.fz\", \"site\": \"lsc\", \"instrument\": \"nres01\", \"epoch\": \"20180313\", \"request_num\": \"UNSPECIFIED\", \"obstype\": \"LAMPFLAT\", \"filter\": null, \"processName\": \"MainProcess\"}\n",
      "2020-05-21 10:54:48.744     INFO:          stages: Running banzai.stages.GainNormalizer | {\"filename\": \"lscnrs01-fl09-20180313-0017-w00.fits.fz\", \"site\": \"lsc\", \"instrument\": \"nres01\", \"epoch\": \"20180313\", \"request_num\": \"UNSPECIFIED\", \"obstype\": \"LAMPFLAT\", \"filter\": null, \"processName\": \"MainProcess\"}\n",
      "2020-05-21 10:54:48.744     INFO:            gain: Multiplying by gain | {\"filename\": \"lscnrs01-fl09-20180313-0017-w00.fits.fz\", \"site\": \"lsc\", \"instrument\": \"nres01\", \"epoch\": \"20180313\", \"request_num\": \"UNSPECIFIED\", \"obstype\": \"LAMPFLAT\", \"filter\": null, \"processName\": \"MainProcess\"}\n",
      "2020-05-21 10:54:48.778     INFO:          stages: Running banzai.stages.Trimmer | {\"filename\": \"lscnrs01-fl09-20180313-0017-w00.fits.fz\", \"site\": \"lsc\", \"instrument\": \"nres01\", \"epoch\": \"20180313\", \"request_num\": \"UNSPECIFIED\", \"obstype\": \"LAMPFLAT\", \"filter\": null, \"processName\": \"MainProcess\"}\n",
      "2020-05-21 10:54:48.778     INFO:            trim: Trimming image | {\"filename\": \"lscnrs01-fl09-20180313-0017-w00.fits.fz\", \"site\": \"lsc\", \"instrument\": \"nres01\", \"epoch\": \"20180313\", \"request_num\": \"UNSPECIFIED\", \"obstype\": \"LAMPFLAT\", \"filter\": null, \"processName\": \"MainProcess\"}\n",
      "2020-05-21 10:54:49.037     INFO:          stages: Running banzai.stages.PoissonInitializer | {\"filename\": \"lscnrs01-fl09-20180313-0017-w00.fits.fz\", \"site\": \"lsc\", \"instrument\": \"nres01\", \"epoch\": \"20180313\", \"request_num\": \"UNSPECIFIED\", \"obstype\": \"LAMPFLAT\", \"filter\": null, \"processName\": \"MainProcess\"}\n",
      "2020-05-21 10:54:49.186     INFO:          stages: Running banzai.stages.BiasSubtractor | {\"filename\": \"lscnrs01-fl09-20180313-0017-w00.fits.fz\", \"site\": \"lsc\", \"instrument\": \"nres01\", \"epoch\": \"20180313\", \"request_num\": \"UNSPECIFIED\", \"obstype\": \"LAMPFLAT\", \"filter\": null, \"processName\": \"MainProcess\"}\n",
      "2020-05-21 10:54:49.854     INFO:    calibrations: Applying master calibration | {\"filename\": \"lscnrs01-fl09-20180313-0017-w00.fits.fz\", \"site\": \"lsc\", \"instrument\": \"nres01\", \"epoch\": \"20180313\", \"request_num\": \"UNSPECIFIED\", \"obstype\": \"LAMPFLAT\", \"filter\": null, \"master_calibration\": \"lscnrs01-fl09-20180313-bias-bin1x1.fits.fz\", \"processName\": \"MainProcess\"}\n",
      "2020-05-21 10:54:50.022     INFO:          stages: Running banzai.stages.DarkSubtractor | {\"filename\": \"lscnrs01-fl09-20180313-0017-w00.fits.fz\", \"site\": \"lsc\", \"instrument\": \"nres01\", \"epoch\": \"20180313\", \"request_num\": \"UNSPECIFIED\", \"obstype\": \"LAMPFLAT\", \"filter\": null, \"processName\": \"MainProcess\"}\n",
      "2020-05-21 10:54:50.680     INFO:    calibrations: Applying master calibration | {\"filename\": \"lscnrs01-fl09-20180313-0017-w00.fits.fz\", \"site\": \"lsc\", \"instrument\": \"nres01\", \"epoch\": \"20180313\", \"request_num\": \"UNSPECIFIED\", \"obstype\": \"LAMPFLAT\", \"filter\": null, \"master_calibration\": \"lscnrs01-fl09-20180313-dark-bin1x1.fits.fz\", \"processName\": \"MainProcess\"}\n",
      "2020-05-21 10:54:53.767     INFO:          stages: Running banzai.stages.BadPixelMaskLoader | {\"filename\": \"lscnrs01-fl09-20180313-0013-w00.fits.fz\", \"site\": \"lsc\", \"instrument\": \"nres01\", \"epoch\": \"20180313\", \"request_num\": \"UNSPECIFIED\", \"obstype\": \"LAMPFLAT\", \"filter\": null, \"processName\": \"MainProcess\"}\n",
      "2020-05-21 10:54:53.944     INFO:    calibrations: Applying master calibration | {\"filename\": \"lscnrs01-fl09-20180313-0013-w00.fits.fz\", \"site\": \"lsc\", \"instrument\": \"nres01\", \"epoch\": \"20180313\", \"request_num\": \"UNSPECIFIED\", \"obstype\": \"LAMPFLAT\", \"filter\": null, \"master_calibration\": \"bpm-lsc-nres01-fl09-20180215.fits.fz\", \"processName\": \"MainProcess\"}\n",
      "2020-05-21 10:54:53.981     INFO:          stages: Running banzai.stages.OverscanSubtractor | {\"filename\": \"lscnrs01-fl09-20180313-0013-w00.fits.fz\", \"site\": \"lsc\", \"instrument\": \"nres01\", \"epoch\": \"20180313\", \"request_num\": \"UNSPECIFIED\", \"obstype\": \"LAMPFLAT\", \"filter\": null, \"processName\": \"MainProcess\"}\n",
      "2020-05-21 10:54:54.007     INFO:          stages: Running banzai.stages.GainNormalizer | {\"filename\": \"lscnrs01-fl09-20180313-0013-w00.fits.fz\", \"site\": \"lsc\", \"instrument\": \"nres01\", \"epoch\": \"20180313\", \"request_num\": \"UNSPECIFIED\", \"obstype\": \"LAMPFLAT\", \"filter\": null, \"processName\": \"MainProcess\"}\n",
      "2020-05-21 10:54:54.008     INFO:            gain: Multiplying by gain | {\"filename\": \"lscnrs01-fl09-20180313-0013-w00.fits.fz\", \"site\": \"lsc\", \"instrument\": \"nres01\", \"epoch\": \"20180313\", \"request_num\": \"UNSPECIFIED\", \"obstype\": \"LAMPFLAT\", \"filter\": null, \"processName\": \"MainProcess\"}\n",
      "2020-05-21 10:54:54.040     INFO:          stages: Running banzai.stages.Trimmer | {\"filename\": \"lscnrs01-fl09-20180313-0013-w00.fits.fz\", \"site\": \"lsc\", \"instrument\": \"nres01\", \"epoch\": \"20180313\", \"request_num\": \"UNSPECIFIED\", \"obstype\": \"LAMPFLAT\", \"filter\": null, \"processName\": \"MainProcess\"}\n",
      "2020-05-21 10:54:54.041     INFO:            trim: Trimming image | {\"filename\": \"lscnrs01-fl09-20180313-0013-w00.fits.fz\", \"site\": \"lsc\", \"instrument\": \"nres01\", \"epoch\": \"20180313\", \"request_num\": \"UNSPECIFIED\", \"obstype\": \"LAMPFLAT\", \"filter\": null, \"processName\": \"MainProcess\"}\n",
      "2020-05-21 10:54:54.287     INFO:          stages: Running banzai.stages.PoissonInitializer | {\"filename\": \"lscnrs01-fl09-20180313-0013-w00.fits.fz\", \"site\": \"lsc\", \"instrument\": \"nres01\", \"epoch\": \"20180313\", \"request_num\": \"UNSPECIFIED\", \"obstype\": \"LAMPFLAT\", \"filter\": null, \"processName\": \"MainProcess\"}\n",
      "2020-05-21 10:54:54.426     INFO:          stages: Running banzai.stages.BiasSubtractor | {\"filename\": \"lscnrs01-fl09-20180313-0013-w00.fits.fz\", \"site\": \"lsc\", \"instrument\": \"nres01\", \"epoch\": \"20180313\", \"request_num\": \"UNSPECIFIED\", \"obstype\": \"LAMPFLAT\", \"filter\": null, \"processName\": \"MainProcess\"}\n"
     ]
    },
    {
     "name": "stdout",
     "output_type": "stream",
     "text": [
      "2020-05-21 10:54:55.085     INFO:    calibrations: Applying master calibration | {\"filename\": \"lscnrs01-fl09-20180313-0013-w00.fits.fz\", \"site\": \"lsc\", \"instrument\": \"nres01\", \"epoch\": \"20180313\", \"request_num\": \"UNSPECIFIED\", \"obstype\": \"LAMPFLAT\", \"filter\": null, \"master_calibration\": \"lscnrs01-fl09-20180313-bias-bin1x1.fits.fz\", \"processName\": \"MainProcess\"}\n",
      "2020-05-21 10:54:55.252     INFO:          stages: Running banzai.stages.DarkSubtractor | {\"filename\": \"lscnrs01-fl09-20180313-0013-w00.fits.fz\", \"site\": \"lsc\", \"instrument\": \"nres01\", \"epoch\": \"20180313\", \"request_num\": \"UNSPECIFIED\", \"obstype\": \"LAMPFLAT\", \"filter\": null, \"processName\": \"MainProcess\"}\n",
      "2020-05-21 10:54:55.940     INFO:    calibrations: Applying master calibration | {\"filename\": \"lscnrs01-fl09-20180313-0013-w00.fits.fz\", \"site\": \"lsc\", \"instrument\": \"nres01\", \"epoch\": \"20180313\", \"request_num\": \"UNSPECIFIED\", \"obstype\": \"LAMPFLAT\", \"filter\": null, \"master_calibration\": \"lscnrs01-fl09-20180313-dark-bin1x1.fits.fz\", \"processName\": \"MainProcess\"}\n",
      "2020-05-21 10:54:59.043     INFO:          stages: Running banzai.stages.BadPixelMaskLoader | {\"filename\": \"lscnrs01-fl09-20180313-0010-w00.fits.fz\", \"site\": \"lsc\", \"instrument\": \"nres01\", \"epoch\": \"20180313\", \"request_num\": \"UNSPECIFIED\", \"obstype\": \"LAMPFLAT\", \"filter\": null, \"processName\": \"MainProcess\"}\n",
      "2020-05-21 10:54:59.269     INFO:    calibrations: Applying master calibration | {\"filename\": \"lscnrs01-fl09-20180313-0010-w00.fits.fz\", \"site\": \"lsc\", \"instrument\": \"nres01\", \"epoch\": \"20180313\", \"request_num\": \"UNSPECIFIED\", \"obstype\": \"LAMPFLAT\", \"filter\": null, \"master_calibration\": \"bpm-lsc-nres01-fl09-20180215.fits.fz\", \"processName\": \"MainProcess\"}\n",
      "2020-05-21 10:54:59.307     INFO:          stages: Running banzai.stages.OverscanSubtractor | {\"filename\": \"lscnrs01-fl09-20180313-0010-w00.fits.fz\", \"site\": \"lsc\", \"instrument\": \"nres01\", \"epoch\": \"20180313\", \"request_num\": \"UNSPECIFIED\", \"obstype\": \"LAMPFLAT\", \"filter\": null, \"processName\": \"MainProcess\"}\n",
      "2020-05-21 10:54:59.335     INFO:          stages: Running banzai.stages.GainNormalizer | {\"filename\": \"lscnrs01-fl09-20180313-0010-w00.fits.fz\", \"site\": \"lsc\", \"instrument\": \"nres01\", \"epoch\": \"20180313\", \"request_num\": \"UNSPECIFIED\", \"obstype\": \"LAMPFLAT\", \"filter\": null, \"processName\": \"MainProcess\"}\n",
      "2020-05-21 10:54:59.336     INFO:            gain: Multiplying by gain | {\"filename\": \"lscnrs01-fl09-20180313-0010-w00.fits.fz\", \"site\": \"lsc\", \"instrument\": \"nres01\", \"epoch\": \"20180313\", \"request_num\": \"UNSPECIFIED\", \"obstype\": \"LAMPFLAT\", \"filter\": null, \"processName\": \"MainProcess\"}\n",
      "2020-05-21 10:54:59.370     INFO:          stages: Running banzai.stages.Trimmer | {\"filename\": \"lscnrs01-fl09-20180313-0010-w00.fits.fz\", \"site\": \"lsc\", \"instrument\": \"nres01\", \"epoch\": \"20180313\", \"request_num\": \"UNSPECIFIED\", \"obstype\": \"LAMPFLAT\", \"filter\": null, \"processName\": \"MainProcess\"}\n",
      "2020-05-21 10:54:59.371     INFO:            trim: Trimming image | {\"filename\": \"lscnrs01-fl09-20180313-0010-w00.fits.fz\", \"site\": \"lsc\", \"instrument\": \"nres01\", \"epoch\": \"20180313\", \"request_num\": \"UNSPECIFIED\", \"obstype\": \"LAMPFLAT\", \"filter\": null, \"processName\": \"MainProcess\"}\n",
      "2020-05-21 10:54:59.615     INFO:          stages: Running banzai.stages.PoissonInitializer | {\"filename\": \"lscnrs01-fl09-20180313-0010-w00.fits.fz\", \"site\": \"lsc\", \"instrument\": \"nres01\", \"epoch\": \"20180313\", \"request_num\": \"UNSPECIFIED\", \"obstype\": \"LAMPFLAT\", \"filter\": null, \"processName\": \"MainProcess\"}\n",
      "2020-05-21 10:54:59.756     INFO:          stages: Running banzai.stages.BiasSubtractor | {\"filename\": \"lscnrs01-fl09-20180313-0010-w00.fits.fz\", \"site\": \"lsc\", \"instrument\": \"nres01\", \"epoch\": \"20180313\", \"request_num\": \"UNSPECIFIED\", \"obstype\": \"LAMPFLAT\", \"filter\": null, \"processName\": \"MainProcess\"}\n",
      "2020-05-21 10:55:00.421     INFO:    calibrations: Applying master calibration | {\"filename\": \"lscnrs01-fl09-20180313-0010-w00.fits.fz\", \"site\": \"lsc\", \"instrument\": \"nres01\", \"epoch\": \"20180313\", \"request_num\": \"UNSPECIFIED\", \"obstype\": \"LAMPFLAT\", \"filter\": null, \"master_calibration\": \"lscnrs01-fl09-20180313-bias-bin1x1.fits.fz\", \"processName\": \"MainProcess\"}\n",
      "2020-05-21 10:55:00.588     INFO:          stages: Running banzai.stages.DarkSubtractor | {\"filename\": \"lscnrs01-fl09-20180313-0010-w00.fits.fz\", \"site\": \"lsc\", \"instrument\": \"nres01\", \"epoch\": \"20180313\", \"request_num\": \"UNSPECIFIED\", \"obstype\": \"LAMPFLAT\", \"filter\": null, \"processName\": \"MainProcess\"}\n",
      "2020-05-21 10:55:01.245     INFO:    calibrations: Applying master calibration | {\"filename\": \"lscnrs01-fl09-20180313-0010-w00.fits.fz\", \"site\": \"lsc\", \"instrument\": \"nres01\", \"epoch\": \"20180313\", \"request_num\": \"UNSPECIFIED\", \"obstype\": \"LAMPFLAT\", \"filter\": null, \"master_calibration\": \"lscnrs01-fl09-20180313-dark-bin1x1.fits.fz\", \"processName\": \"MainProcess\"}\n",
      "2020-05-21 10:55:04.358     INFO:          stages: Running banzai.stages.BadPixelMaskLoader | {\"filename\": \"lscnrs01-fl09-20180313-0002-w00.fits.fz\", \"site\": \"lsc\", \"instrument\": \"nres01\", \"epoch\": \"20180313\", \"request_num\": \"UNSPECIFIED\", \"obstype\": \"LAMPFLAT\", \"filter\": null, \"processName\": \"MainProcess\"}\n",
      "2020-05-21 10:55:04.535     INFO:    calibrations: Applying master calibration | {\"filename\": \"lscnrs01-fl09-20180313-0002-w00.fits.fz\", \"site\": \"lsc\", \"instrument\": \"nres01\", \"epoch\": \"20180313\", \"request_num\": \"UNSPECIFIED\", \"obstype\": \"LAMPFLAT\", \"filter\": null, \"master_calibration\": \"bpm-lsc-nres01-fl09-20180215.fits.fz\", \"processName\": \"MainProcess\"}\n",
      "2020-05-21 10:55:04.573     INFO:          stages: Running banzai.stages.OverscanSubtractor | {\"filename\": \"lscnrs01-fl09-20180313-0002-w00.fits.fz\", \"site\": \"lsc\", \"instrument\": \"nres01\", \"epoch\": \"20180313\", \"request_num\": \"UNSPECIFIED\", \"obstype\": \"LAMPFLAT\", \"filter\": null, \"processName\": \"MainProcess\"}\n",
      "2020-05-21 10:55:04.601     INFO:          stages: Running banzai.stages.GainNormalizer | {\"filename\": \"lscnrs01-fl09-20180313-0002-w00.fits.fz\", \"site\": \"lsc\", \"instrument\": \"nres01\", \"epoch\": \"20180313\", \"request_num\": \"UNSPECIFIED\", \"obstype\": \"LAMPFLAT\", \"filter\": null, \"processName\": \"MainProcess\"}\n",
      "2020-05-21 10:55:04.602     INFO:            gain: Multiplying by gain | {\"filename\": \"lscnrs01-fl09-20180313-0002-w00.fits.fz\", \"site\": \"lsc\", \"instrument\": \"nres01\", \"epoch\": \"20180313\", \"request_num\": \"UNSPECIFIED\", \"obstype\": \"LAMPFLAT\", \"filter\": null, \"processName\": \"MainProcess\"}\n",
      "2020-05-21 10:55:04.635     INFO:          stages: Running banzai.stages.Trimmer | {\"filename\": \"lscnrs01-fl09-20180313-0002-w00.fits.fz\", \"site\": \"lsc\", \"instrument\": \"nres01\", \"epoch\": \"20180313\", \"request_num\": \"UNSPECIFIED\", \"obstype\": \"LAMPFLAT\", \"filter\": null, \"processName\": \"MainProcess\"}\n",
      "2020-05-21 10:55:04.636     INFO:            trim: Trimming image | {\"filename\": \"lscnrs01-fl09-20180313-0002-w00.fits.fz\", \"site\": \"lsc\", \"instrument\": \"nres01\", \"epoch\": \"20180313\", \"request_num\": \"UNSPECIFIED\", \"obstype\": \"LAMPFLAT\", \"filter\": null, \"processName\": \"MainProcess\"}\n",
      "2020-05-21 10:55:04.888     INFO:          stages: Running banzai.stages.PoissonInitializer | {\"filename\": \"lscnrs01-fl09-20180313-0002-w00.fits.fz\", \"site\": \"lsc\", \"instrument\": \"nres01\", \"epoch\": \"20180313\", \"request_num\": \"UNSPECIFIED\", \"obstype\": \"LAMPFLAT\", \"filter\": null, \"processName\": \"MainProcess\"}\n",
      "2020-05-21 10:55:05.029     INFO:          stages: Running banzai.stages.BiasSubtractor | {\"filename\": \"lscnrs01-fl09-20180313-0002-w00.fits.fz\", \"site\": \"lsc\", \"instrument\": \"nres01\", \"epoch\": \"20180313\", \"request_num\": \"UNSPECIFIED\", \"obstype\": \"LAMPFLAT\", \"filter\": null, \"processName\": \"MainProcess\"}\n",
      "2020-05-21 10:55:05.698     INFO:    calibrations: Applying master calibration | {\"filename\": \"lscnrs01-fl09-20180313-0002-w00.fits.fz\", \"site\": \"lsc\", \"instrument\": \"nres01\", \"epoch\": \"20180313\", \"request_num\": \"UNSPECIFIED\", \"obstype\": \"LAMPFLAT\", \"filter\": null, \"master_calibration\": \"lscnrs01-fl09-20180313-bias-bin1x1.fits.fz\", \"processName\": \"MainProcess\"}\n",
      "2020-05-21 10:55:05.876     INFO:          stages: Running banzai.stages.DarkSubtractor | {\"filename\": \"lscnrs01-fl09-20180313-0002-w00.fits.fz\", \"site\": \"lsc\", \"instrument\": \"nres01\", \"epoch\": \"20180313\", \"request_num\": \"UNSPECIFIED\", \"obstype\": \"LAMPFLAT\", \"filter\": null, \"processName\": \"MainProcess\"}\n"
     ]
    },
    {
     "name": "stdout",
     "output_type": "stream",
     "text": [
      "2020-05-21 10:55:06.566     INFO:    calibrations: Applying master calibration | {\"filename\": \"lscnrs01-fl09-20180313-0002-w00.fits.fz\", \"site\": \"lsc\", \"instrument\": \"nres01\", \"epoch\": \"20180313\", \"request_num\": \"UNSPECIFIED\", \"obstype\": \"LAMPFLAT\", \"filter\": null, \"master_calibration\": \"lscnrs01-fl09-20180313-dark-bin1x1.fits.fz\", \"processName\": \"MainProcess\"}\n",
      "2020-05-21 10:55:09.759     INFO:          stages: Running banzai.stages.BadPixelMaskLoader | {\"filename\": \"lscnrs01-fl09-20180313-0012-w00.fits.fz\", \"site\": \"lsc\", \"instrument\": \"nres01\", \"epoch\": \"20180313\", \"request_num\": \"UNSPECIFIED\", \"obstype\": \"LAMPFLAT\", \"filter\": null, \"processName\": \"MainProcess\"}\n",
      "2020-05-21 10:55:09.955     INFO:    calibrations: Applying master calibration | {\"filename\": \"lscnrs01-fl09-20180313-0012-w00.fits.fz\", \"site\": \"lsc\", \"instrument\": \"nres01\", \"epoch\": \"20180313\", \"request_num\": \"UNSPECIFIED\", \"obstype\": \"LAMPFLAT\", \"filter\": null, \"master_calibration\": \"bpm-lsc-nres01-fl09-20180215.fits.fz\", \"processName\": \"MainProcess\"}\n",
      "2020-05-21 10:55:09.994     INFO:          stages: Running banzai.stages.OverscanSubtractor | {\"filename\": \"lscnrs01-fl09-20180313-0012-w00.fits.fz\", \"site\": \"lsc\", \"instrument\": \"nres01\", \"epoch\": \"20180313\", \"request_num\": \"UNSPECIFIED\", \"obstype\": \"LAMPFLAT\", \"filter\": null, \"processName\": \"MainProcess\"}\n",
      "2020-05-21 10:55:10.021     INFO:          stages: Running banzai.stages.GainNormalizer | {\"filename\": \"lscnrs01-fl09-20180313-0012-w00.fits.fz\", \"site\": \"lsc\", \"instrument\": \"nres01\", \"epoch\": \"20180313\", \"request_num\": \"UNSPECIFIED\", \"obstype\": \"LAMPFLAT\", \"filter\": null, \"processName\": \"MainProcess\"}\n",
      "2020-05-21 10:55:10.022     INFO:            gain: Multiplying by gain | {\"filename\": \"lscnrs01-fl09-20180313-0012-w00.fits.fz\", \"site\": \"lsc\", \"instrument\": \"nres01\", \"epoch\": \"20180313\", \"request_num\": \"UNSPECIFIED\", \"obstype\": \"LAMPFLAT\", \"filter\": null, \"processName\": \"MainProcess\"}\n",
      "2020-05-21 10:55:10.055     INFO:          stages: Running banzai.stages.Trimmer | {\"filename\": \"lscnrs01-fl09-20180313-0012-w00.fits.fz\", \"site\": \"lsc\", \"instrument\": \"nres01\", \"epoch\": \"20180313\", \"request_num\": \"UNSPECIFIED\", \"obstype\": \"LAMPFLAT\", \"filter\": null, \"processName\": \"MainProcess\"}\n",
      "2020-05-21 10:55:10.056     INFO:            trim: Trimming image | {\"filename\": \"lscnrs01-fl09-20180313-0012-w00.fits.fz\", \"site\": \"lsc\", \"instrument\": \"nres01\", \"epoch\": \"20180313\", \"request_num\": \"UNSPECIFIED\", \"obstype\": \"LAMPFLAT\", \"filter\": null, \"processName\": \"MainProcess\"}\n",
      "2020-05-21 10:55:10.304     INFO:          stages: Running banzai.stages.PoissonInitializer | {\"filename\": \"lscnrs01-fl09-20180313-0012-w00.fits.fz\", \"site\": \"lsc\", \"instrument\": \"nres01\", \"epoch\": \"20180313\", \"request_num\": \"UNSPECIFIED\", \"obstype\": \"LAMPFLAT\", \"filter\": null, \"processName\": \"MainProcess\"}\n",
      "2020-05-21 10:55:10.445     INFO:          stages: Running banzai.stages.BiasSubtractor | {\"filename\": \"lscnrs01-fl09-20180313-0012-w00.fits.fz\", \"site\": \"lsc\", \"instrument\": \"nres01\", \"epoch\": \"20180313\", \"request_num\": \"UNSPECIFIED\", \"obstype\": \"LAMPFLAT\", \"filter\": null, \"processName\": \"MainProcess\"}\n",
      "2020-05-21 10:55:11.114     INFO:    calibrations: Applying master calibration | {\"filename\": \"lscnrs01-fl09-20180313-0012-w00.fits.fz\", \"site\": \"lsc\", \"instrument\": \"nres01\", \"epoch\": \"20180313\", \"request_num\": \"UNSPECIFIED\", \"obstype\": \"LAMPFLAT\", \"filter\": null, \"master_calibration\": \"lscnrs01-fl09-20180313-bias-bin1x1.fits.fz\", \"processName\": \"MainProcess\"}\n",
      "2020-05-21 10:55:11.282     INFO:          stages: Running banzai.stages.DarkSubtractor | {\"filename\": \"lscnrs01-fl09-20180313-0012-w00.fits.fz\", \"site\": \"lsc\", \"instrument\": \"nres01\", \"epoch\": \"20180313\", \"request_num\": \"UNSPECIFIED\", \"obstype\": \"LAMPFLAT\", \"filter\": null, \"processName\": \"MainProcess\"}\n",
      "2020-05-21 10:55:11.946     INFO:    calibrations: Applying master calibration | {\"filename\": \"lscnrs01-fl09-20180313-0012-w00.fits.fz\", \"site\": \"lsc\", \"instrument\": \"nres01\", \"epoch\": \"20180313\", \"request_num\": \"UNSPECIFIED\", \"obstype\": \"LAMPFLAT\", \"filter\": null, \"master_calibration\": \"lscnrs01-fl09-20180313-dark-bin1x1.fits.fz\", \"processName\": \"MainProcess\"}\n",
      "2020-05-21 10:55:15.087     INFO:          stages: Running banzai.stages.BadPixelMaskLoader | {\"filename\": \"lscnrs01-fl09-20180313-0014-w00.fits.fz\", \"site\": \"lsc\", \"instrument\": \"nres01\", \"epoch\": \"20180313\", \"request_num\": \"UNSPECIFIED\", \"obstype\": \"LAMPFLAT\", \"filter\": null, \"processName\": \"MainProcess\"}\n",
      "2020-05-21 10:55:15.271     INFO:    calibrations: Applying master calibration | {\"filename\": \"lscnrs01-fl09-20180313-0014-w00.fits.fz\", \"site\": \"lsc\", \"instrument\": \"nres01\", \"epoch\": \"20180313\", \"request_num\": \"UNSPECIFIED\", \"obstype\": \"LAMPFLAT\", \"filter\": null, \"master_calibration\": \"bpm-lsc-nres01-fl09-20180215.fits.fz\", \"processName\": \"MainProcess\"}\n",
      "2020-05-21 10:55:15.310     INFO:          stages: Running banzai.stages.OverscanSubtractor | {\"filename\": \"lscnrs01-fl09-20180313-0014-w00.fits.fz\", \"site\": \"lsc\", \"instrument\": \"nres01\", \"epoch\": \"20180313\", \"request_num\": \"UNSPECIFIED\", \"obstype\": \"LAMPFLAT\", \"filter\": null, \"processName\": \"MainProcess\"}\n",
      "2020-05-21 10:55:15.338     INFO:          stages: Running banzai.stages.GainNormalizer | {\"filename\": \"lscnrs01-fl09-20180313-0014-w00.fits.fz\", \"site\": \"lsc\", \"instrument\": \"nres01\", \"epoch\": \"20180313\", \"request_num\": \"UNSPECIFIED\", \"obstype\": \"LAMPFLAT\", \"filter\": null, \"processName\": \"MainProcess\"}\n",
      "2020-05-21 10:55:15.339     INFO:            gain: Multiplying by gain | {\"filename\": \"lscnrs01-fl09-20180313-0014-w00.fits.fz\", \"site\": \"lsc\", \"instrument\": \"nres01\", \"epoch\": \"20180313\", \"request_num\": \"UNSPECIFIED\", \"obstype\": \"LAMPFLAT\", \"filter\": null, \"processName\": \"MainProcess\"}\n",
      "2020-05-21 10:55:15.373     INFO:          stages: Running banzai.stages.Trimmer | {\"filename\": \"lscnrs01-fl09-20180313-0014-w00.fits.fz\", \"site\": \"lsc\", \"instrument\": \"nres01\", \"epoch\": \"20180313\", \"request_num\": \"UNSPECIFIED\", \"obstype\": \"LAMPFLAT\", \"filter\": null, \"processName\": \"MainProcess\"}\n",
      "2020-05-21 10:55:15.374     INFO:            trim: Trimming image | {\"filename\": \"lscnrs01-fl09-20180313-0014-w00.fits.fz\", \"site\": \"lsc\", \"instrument\": \"nres01\", \"epoch\": \"20180313\", \"request_num\": \"UNSPECIFIED\", \"obstype\": \"LAMPFLAT\", \"filter\": null, \"processName\": \"MainProcess\"}\n",
      "2020-05-21 10:55:15.660     INFO:          stages: Running banzai.stages.PoissonInitializer | {\"filename\": \"lscnrs01-fl09-20180313-0014-w00.fits.fz\", \"site\": \"lsc\", \"instrument\": \"nres01\", \"epoch\": \"20180313\", \"request_num\": \"UNSPECIFIED\", \"obstype\": \"LAMPFLAT\", \"filter\": null, \"processName\": \"MainProcess\"}\n",
      "2020-05-21 10:55:15.808     INFO:          stages: Running banzai.stages.BiasSubtractor | {\"filename\": \"lscnrs01-fl09-20180313-0014-w00.fits.fz\", \"site\": \"lsc\", \"instrument\": \"nres01\", \"epoch\": \"20180313\", \"request_num\": \"UNSPECIFIED\", \"obstype\": \"LAMPFLAT\", \"filter\": null, \"processName\": \"MainProcess\"}\n",
      "2020-05-21 10:55:16.508     INFO:    calibrations: Applying master calibration | {\"filename\": \"lscnrs01-fl09-20180313-0014-w00.fits.fz\", \"site\": \"lsc\", \"instrument\": \"nres01\", \"epoch\": \"20180313\", \"request_num\": \"UNSPECIFIED\", \"obstype\": \"LAMPFLAT\", \"filter\": null, \"master_calibration\": \"lscnrs01-fl09-20180313-bias-bin1x1.fits.fz\", \"processName\": \"MainProcess\"}\n",
      "2020-05-21 10:55:16.682     INFO:          stages: Running banzai.stages.DarkSubtractor | {\"filename\": \"lscnrs01-fl09-20180313-0014-w00.fits.fz\", \"site\": \"lsc\", \"instrument\": \"nres01\", \"epoch\": \"20180313\", \"request_num\": \"UNSPECIFIED\", \"obstype\": \"LAMPFLAT\", \"filter\": null, \"processName\": \"MainProcess\"}\n",
      "2020-05-21 10:55:17.420     INFO:    calibrations: Applying master calibration | {\"filename\": \"lscnrs01-fl09-20180313-0014-w00.fits.fz\", \"site\": \"lsc\", \"instrument\": \"nres01\", \"epoch\": \"20180313\", \"request_num\": \"UNSPECIFIED\", \"obstype\": \"LAMPFLAT\", \"filter\": null, \"master_calibration\": \"lscnrs01-fl09-20180313-dark-bin1x1.fits.fz\", \"processName\": \"MainProcess\"}\n",
      "2020-05-21 10:55:20.698     INFO:          stages: Running banzai.stages.BadPixelMaskLoader | {\"filename\": \"lscnrs01-fl09-20180313-0016-w00.fits.fz\", \"site\": \"lsc\", \"instrument\": \"nres01\", \"epoch\": \"20180313\", \"request_num\": \"UNSPECIFIED\", \"obstype\": \"LAMPFLAT\", \"filter\": null, \"processName\": \"MainProcess\"}\n"
     ]
    },
    {
     "name": "stdout",
     "output_type": "stream",
     "text": [
      "2020-05-21 10:55:20.877     INFO:    calibrations: Applying master calibration | {\"filename\": \"lscnrs01-fl09-20180313-0016-w00.fits.fz\", \"site\": \"lsc\", \"instrument\": \"nres01\", \"epoch\": \"20180313\", \"request_num\": \"UNSPECIFIED\", \"obstype\": \"LAMPFLAT\", \"filter\": null, \"master_calibration\": \"bpm-lsc-nres01-fl09-20180215.fits.fz\", \"processName\": \"MainProcess\"}\n",
      "2020-05-21 10:55:20.917     INFO:          stages: Running banzai.stages.OverscanSubtractor | {\"filename\": \"lscnrs01-fl09-20180313-0016-w00.fits.fz\", \"site\": \"lsc\", \"instrument\": \"nres01\", \"epoch\": \"20180313\", \"request_num\": \"UNSPECIFIED\", \"obstype\": \"LAMPFLAT\", \"filter\": null, \"processName\": \"MainProcess\"}\n",
      "2020-05-21 10:55:20.948     INFO:          stages: Running banzai.stages.GainNormalizer | {\"filename\": \"lscnrs01-fl09-20180313-0016-w00.fits.fz\", \"site\": \"lsc\", \"instrument\": \"nres01\", \"epoch\": \"20180313\", \"request_num\": \"UNSPECIFIED\", \"obstype\": \"LAMPFLAT\", \"filter\": null, \"processName\": \"MainProcess\"}\n",
      "2020-05-21 10:55:20.949     INFO:            gain: Multiplying by gain | {\"filename\": \"lscnrs01-fl09-20180313-0016-w00.fits.fz\", \"site\": \"lsc\", \"instrument\": \"nres01\", \"epoch\": \"20180313\", \"request_num\": \"UNSPECIFIED\", \"obstype\": \"LAMPFLAT\", \"filter\": null, \"processName\": \"MainProcess\"}\n",
      "2020-05-21 10:55:20.984     INFO:          stages: Running banzai.stages.Trimmer | {\"filename\": \"lscnrs01-fl09-20180313-0016-w00.fits.fz\", \"site\": \"lsc\", \"instrument\": \"nres01\", \"epoch\": \"20180313\", \"request_num\": \"UNSPECIFIED\", \"obstype\": \"LAMPFLAT\", \"filter\": null, \"processName\": \"MainProcess\"}\n",
      "2020-05-21 10:55:20.985     INFO:            trim: Trimming image | {\"filename\": \"lscnrs01-fl09-20180313-0016-w00.fits.fz\", \"site\": \"lsc\", \"instrument\": \"nres01\", \"epoch\": \"20180313\", \"request_num\": \"UNSPECIFIED\", \"obstype\": \"LAMPFLAT\", \"filter\": null, \"processName\": \"MainProcess\"}\n",
      "2020-05-21 10:55:21.258     INFO:          stages: Running banzai.stages.PoissonInitializer | {\"filename\": \"lscnrs01-fl09-20180313-0016-w00.fits.fz\", \"site\": \"lsc\", \"instrument\": \"nres01\", \"epoch\": \"20180313\", \"request_num\": \"UNSPECIFIED\", \"obstype\": \"LAMPFLAT\", \"filter\": null, \"processName\": \"MainProcess\"}\n",
      "2020-05-21 10:55:21.403     INFO:          stages: Running banzai.stages.BiasSubtractor | {\"filename\": \"lscnrs01-fl09-20180313-0016-w00.fits.fz\", \"site\": \"lsc\", \"instrument\": \"nres01\", \"epoch\": \"20180313\", \"request_num\": \"UNSPECIFIED\", \"obstype\": \"LAMPFLAT\", \"filter\": null, \"processName\": \"MainProcess\"}\n",
      "2020-05-21 10:55:22.091     INFO:    calibrations: Applying master calibration | {\"filename\": \"lscnrs01-fl09-20180313-0016-w00.fits.fz\", \"site\": \"lsc\", \"instrument\": \"nres01\", \"epoch\": \"20180313\", \"request_num\": \"UNSPECIFIED\", \"obstype\": \"LAMPFLAT\", \"filter\": null, \"master_calibration\": \"lscnrs01-fl09-20180313-bias-bin1x1.fits.fz\", \"processName\": \"MainProcess\"}\n",
      "2020-05-21 10:55:22.262     INFO:          stages: Running banzai.stages.DarkSubtractor | {\"filename\": \"lscnrs01-fl09-20180313-0016-w00.fits.fz\", \"site\": \"lsc\", \"instrument\": \"nres01\", \"epoch\": \"20180313\", \"request_num\": \"UNSPECIFIED\", \"obstype\": \"LAMPFLAT\", \"filter\": null, \"processName\": \"MainProcess\"}\n",
      "2020-05-21 10:55:22.973     INFO:    calibrations: Applying master calibration | {\"filename\": \"lscnrs01-fl09-20180313-0016-w00.fits.fz\", \"site\": \"lsc\", \"instrument\": \"nres01\", \"epoch\": \"20180313\", \"request_num\": \"UNSPECIFIED\", \"obstype\": \"LAMPFLAT\", \"filter\": null, \"master_calibration\": \"lscnrs01-fl09-20180313-dark-bin1x1.fits.fz\", \"processName\": \"MainProcess\"}\n",
      "2020-05-21 10:55:26.286     INFO:          stages: Running banzai.stages.BadPixelMaskLoader | {\"filename\": \"lscnrs01-fl09-20180313-0003-w00.fits.fz\", \"site\": \"lsc\", \"instrument\": \"nres01\", \"epoch\": \"20180313\", \"request_num\": \"UNSPECIFIED\", \"obstype\": \"LAMPFLAT\", \"filter\": null, \"processName\": \"MainProcess\"}\n",
      "2020-05-21 10:55:26.468     INFO:    calibrations: Applying master calibration | {\"filename\": \"lscnrs01-fl09-20180313-0003-w00.fits.fz\", \"site\": \"lsc\", \"instrument\": \"nres01\", \"epoch\": \"20180313\", \"request_num\": \"UNSPECIFIED\", \"obstype\": \"LAMPFLAT\", \"filter\": null, \"master_calibration\": \"bpm-lsc-nres01-fl09-20180215.fits.fz\", \"processName\": \"MainProcess\"}\n",
      "2020-05-21 10:55:26.505     INFO:          stages: Running banzai.stages.OverscanSubtractor | {\"filename\": \"lscnrs01-fl09-20180313-0003-w00.fits.fz\", \"site\": \"lsc\", \"instrument\": \"nres01\", \"epoch\": \"20180313\", \"request_num\": \"UNSPECIFIED\", \"obstype\": \"LAMPFLAT\", \"filter\": null, \"processName\": \"MainProcess\"}\n",
      "2020-05-21 10:55:26.532     INFO:          stages: Running banzai.stages.GainNormalizer | {\"filename\": \"lscnrs01-fl09-20180313-0003-w00.fits.fz\", \"site\": \"lsc\", \"instrument\": \"nres01\", \"epoch\": \"20180313\", \"request_num\": \"UNSPECIFIED\", \"obstype\": \"LAMPFLAT\", \"filter\": null, \"processName\": \"MainProcess\"}\n",
      "2020-05-21 10:55:26.532     INFO:            gain: Multiplying by gain | {\"filename\": \"lscnrs01-fl09-20180313-0003-w00.fits.fz\", \"site\": \"lsc\", \"instrument\": \"nres01\", \"epoch\": \"20180313\", \"request_num\": \"UNSPECIFIED\", \"obstype\": \"LAMPFLAT\", \"filter\": null, \"processName\": \"MainProcess\"}\n",
      "2020-05-21 10:55:26.566     INFO:          stages: Running banzai.stages.Trimmer | {\"filename\": \"lscnrs01-fl09-20180313-0003-w00.fits.fz\", \"site\": \"lsc\", \"instrument\": \"nres01\", \"epoch\": \"20180313\", \"request_num\": \"UNSPECIFIED\", \"obstype\": \"LAMPFLAT\", \"filter\": null, \"processName\": \"MainProcess\"}\n",
      "2020-05-21 10:55:26.567     INFO:            trim: Trimming image | {\"filename\": \"lscnrs01-fl09-20180313-0003-w00.fits.fz\", \"site\": \"lsc\", \"instrument\": \"nres01\", \"epoch\": \"20180313\", \"request_num\": \"UNSPECIFIED\", \"obstype\": \"LAMPFLAT\", \"filter\": null, \"processName\": \"MainProcess\"}\n",
      "2020-05-21 10:55:26.816     INFO:          stages: Running banzai.stages.PoissonInitializer | {\"filename\": \"lscnrs01-fl09-20180313-0003-w00.fits.fz\", \"site\": \"lsc\", \"instrument\": \"nres01\", \"epoch\": \"20180313\", \"request_num\": \"UNSPECIFIED\", \"obstype\": \"LAMPFLAT\", \"filter\": null, \"processName\": \"MainProcess\"}\n",
      "2020-05-21 10:55:26.966     INFO:          stages: Running banzai.stages.BiasSubtractor | {\"filename\": \"lscnrs01-fl09-20180313-0003-w00.fits.fz\", \"site\": \"lsc\", \"instrument\": \"nres01\", \"epoch\": \"20180313\", \"request_num\": \"UNSPECIFIED\", \"obstype\": \"LAMPFLAT\", \"filter\": null, \"processName\": \"MainProcess\"}\n",
      "2020-05-21 10:55:27.674     INFO:    calibrations: Applying master calibration | {\"filename\": \"lscnrs01-fl09-20180313-0003-w00.fits.fz\", \"site\": \"lsc\", \"instrument\": \"nres01\", \"epoch\": \"20180313\", \"request_num\": \"UNSPECIFIED\", \"obstype\": \"LAMPFLAT\", \"filter\": null, \"master_calibration\": \"lscnrs01-fl09-20180313-bias-bin1x1.fits.fz\", \"processName\": \"MainProcess\"}\n",
      "2020-05-21 10:55:27.847     INFO:          stages: Running banzai.stages.DarkSubtractor | {\"filename\": \"lscnrs01-fl09-20180313-0003-w00.fits.fz\", \"site\": \"lsc\", \"instrument\": \"nres01\", \"epoch\": \"20180313\", \"request_num\": \"UNSPECIFIED\", \"obstype\": \"LAMPFLAT\", \"filter\": null, \"processName\": \"MainProcess\"}\n",
      "2020-05-21 10:55:28.556     INFO:    calibrations: Applying master calibration | {\"filename\": \"lscnrs01-fl09-20180313-0003-w00.fits.fz\", \"site\": \"lsc\", \"instrument\": \"nres01\", \"epoch\": \"20180313\", \"request_num\": \"UNSPECIFIED\", \"obstype\": \"LAMPFLAT\", \"filter\": null, \"master_calibration\": \"lscnrs01-fl09-20180313-dark-bin1x1.fits.fz\", \"processName\": \"MainProcess\"}\n",
      "2020-05-21 10:55:47.613     INFO:    calibrations: Making master frames | {\"type\": \"1m0-NRES-SciCam\", \"site\": \"lsc\", \"camera\": \"fl09\", \"obstype\": \"LAMPFLAT\", \"min_date\": \"2017-01-01\", \"max_date\": \"2019-01-01\", \"processName\": \"MainProcess\"}\n",
      "2020-05-21 10:55:59.394     INFO:          stages: Running banzai.stages.FlatStacker | {\"filename\": \"lscnrs01-fl09-20180313-0005-w91.fits.fz\", \"site\": \"lsc\", \"instrument\": \"nres01\", \"epoch\": \"20180313\", \"request_num\": \"UNSPECIFIED\", \"obstype\": \"LAMPFLAT\", \"filter\": null, \"processName\": \"MainProcess\"}\n",
      "2020-05-21 10:56:02.247     INFO:    calibrations: Created master calibration stack | {\"filename\": \"lscnrs01-fl09-20180313-lampflat-bin1x1-011.fits\", \"site\": \"lsc\", \"instrument\": \"nres01\", \"epoch\": \"20180313\", \"request_num\": \"UNSPECIFIED\", \"obstype\": \"LAMPFLAT\", \"filter\": null, \"calibration_type\": \"LAMPFLAT\", \"processName\": \"MainProcess\"}\n",
      "2020-05-21 10:56:02.249     INFO:          stages: Running banzai.stages.FlatStacker | {\"filename\": \"lscnrs01-fl09-20180313-0018-w91.fits.fz\", \"site\": \"lsc\", \"instrument\": \"nres01\", \"epoch\": \"20180313\", \"request_num\": \"UNSPECIFIED\", \"obstype\": \"LAMPFLAT\", \"filter\": null, \"processName\": \"MainProcess\"}\n"
     ]
    },
    {
     "name": "stdout",
     "output_type": "stream",
     "text": [
      "2020-05-21 10:56:06.892     INFO:    calibrations: Created master calibration stack | {\"filename\": \"lscnrs01-fl09-20180313-lampflat-bin1x1-110.fits\", \"site\": \"lsc\", \"instrument\": \"nres01\", \"epoch\": \"20180313\", \"request_num\": \"UNSPECIFIED\", \"obstype\": \"LAMPFLAT\", \"filter\": null, \"calibration_type\": \"LAMPFLAT\", \"processName\": \"MainProcess\"}\n",
      "2020-05-21 10:56:07.178     INFO:          stages: Running banzai.stages.FlatLoader | {\"filename\": \"lscnrs01-fl09-20180313-lampflat-bin1x1-011.fits\", \"site\": \"lsc\", \"instrument\": \"nres01\", \"epoch\": \"20180313\", \"request_num\": \"UNSPECIFIED\", \"obstype\": \"LAMPFLAT\", \"filter\": null, \"processName\": \"MainProcess\"}\n",
      "2020-05-21 10:56:08.540     INFO:    calibrations: Applying master calibration | {\"filename\": \"lscnrs01-fl09-20180313-lampflat-bin1x1-011.fits\", \"site\": \"lsc\", \"instrument\": \"nres01\", \"epoch\": \"20180313\", \"request_num\": \"UNSPECIFIED\", \"obstype\": \"LAMPFLAT\", \"filter\": null, \"master_calibration\": \"lscnrs01-fl09-20180313-lampflat-bin1x1-011.fits.fz\", \"processName\": \"MainProcess\"}\n",
      "2020-05-21 10:56:08.661     INFO:          stages: Running banzai.stages.FlatLoader | {\"filename\": \"lscnrs01-fl09-20180313-lampflat-bin1x1-110.fits\", \"site\": \"lsc\", \"instrument\": \"nres01\", \"epoch\": \"20180313\", \"request_num\": \"UNSPECIFIED\", \"obstype\": \"LAMPFLAT\", \"filter\": null, \"processName\": \"MainProcess\"}\n",
      "2020-05-21 10:56:09.935     INFO:    calibrations: Applying master calibration | {\"filename\": \"lscnrs01-fl09-20180313-lampflat-bin1x1-110.fits\", \"site\": \"lsc\", \"instrument\": \"nres01\", \"epoch\": \"20180313\", \"request_num\": \"UNSPECIFIED\", \"obstype\": \"LAMPFLAT\", \"filter\": null, \"master_calibration\": \"lscnrs01-fl09-20180313-lampflat-bin1x1-110.fits.fz\", \"processName\": \"MainProcess\"}\n",
      "2020-05-21 10:56:10.381     INFO:          stages: Running banzai.stages.TraceInitializer | {\"filename\": \"lscnrs01-fl09-20180313-lampflat-bin1x1-011.fits\", \"site\": \"lsc\", \"instrument\": \"nres01\", \"epoch\": \"20180313\", \"request_num\": \"UNSPECIFIED\", \"obstype\": \"LAMPFLAT\", \"filter\": null, \"processName\": \"MainProcess\"}\n",
      "2020-05-21 10:56:10.381     INFO:          stages: Running banzai.stages.TraceInitializer | {\"filename\": \"lscnrs01-fl09-20180313-lampflat-bin1x1-110.fits\", \"site\": \"lsc\", \"instrument\": \"nres01\", \"epoch\": \"20180313\", \"request_num\": \"UNSPECIFIED\", \"obstype\": \"LAMPFLAT\", \"filter\": null, \"processName\": \"MainProcess\"}\n",
      "2020-05-21 10:56:10.383     INFO:          stages: Running banzai.stages.BackgroundSubtractor | {\"filename\": \"lscnrs01-fl09-20180313-lampflat-bin1x1-011.fits\", \"site\": \"lsc\", \"instrument\": \"nres01\", \"epoch\": \"20180313\", \"request_num\": \"UNSPECIFIED\", \"obstype\": \"LAMPFLAT\", \"filter\": null, \"processName\": \"MainProcess\"}\n",
      "2020-05-21 10:56:10.664     INFO:          stages: Running banzai.stages.BackgroundSubtractor | {\"filename\": \"lscnrs01-fl09-20180313-lampflat-bin1x1-110.fits\", \"site\": \"lsc\", \"instrument\": \"nres01\", \"epoch\": \"20180313\", \"request_num\": \"UNSPECIFIED\", \"obstype\": \"LAMPFLAT\", \"filter\": null, \"processName\": \"MainProcess\"}\n",
      "2020-05-21 10:56:10.951     INFO:          stages: Running banzai.stages.TraceRefiner | {\"filename\": \"lscnrs01-fl09-20180313-lampflat-bin1x1-011.fits\", \"site\": \"lsc\", \"instrument\": \"nres01\", \"epoch\": \"20180313\", \"request_num\": \"UNSPECIFIED\", \"obstype\": \"LAMPFLAT\", \"filter\": null, \"processName\": \"MainProcess\"}\n",
      "2020-05-21 10:56:11.181     INFO:          traces: Fitting smooth spline to order 1 | {\"filename\": \"lscnrs01-fl09-20180313-lampflat-bin1x1-011.fits\", \"site\": \"lsc\", \"instrument\": \"nres01\", \"epoch\": \"20180313\", \"request_num\": \"UNSPECIFIED\", \"obstype\": \"LAMPFLAT\", \"filter\": null, \"processName\": \"MainProcess\"}\n",
      "2020-05-21 10:56:11.502     INFO:          traces: Fitting smooth spline to order 2 | {\"filename\": \"lscnrs01-fl09-20180313-lampflat-bin1x1-011.fits\", \"site\": \"lsc\", \"instrument\": \"nres01\", \"epoch\": \"20180313\", \"request_num\": \"UNSPECIFIED\", \"obstype\": \"LAMPFLAT\", \"filter\": null, \"processName\": \"MainProcess\"}\n",
      "2020-05-21 10:56:11.828     INFO:          traces: Fitting smooth spline to order 3 | {\"filename\": \"lscnrs01-fl09-20180313-lampflat-bin1x1-011.fits\", \"site\": \"lsc\", \"instrument\": \"nres01\", \"epoch\": \"20180313\", \"request_num\": \"UNSPECIFIED\", \"obstype\": \"LAMPFLAT\", \"filter\": null, \"processName\": \"MainProcess\"}\n",
      "2020-05-21 10:56:12.160     INFO:          traces: Fitting smooth spline to order 4 | {\"filename\": \"lscnrs01-fl09-20180313-lampflat-bin1x1-011.fits\", \"site\": \"lsc\", \"instrument\": \"nres01\", \"epoch\": \"20180313\", \"request_num\": \"UNSPECIFIED\", \"obstype\": \"LAMPFLAT\", \"filter\": null, \"processName\": \"MainProcess\"}\n",
      "2020-05-21 10:56:12.481     INFO:          traces: Fitting smooth spline to order 5 | {\"filename\": \"lscnrs01-fl09-20180313-lampflat-bin1x1-011.fits\", \"site\": \"lsc\", \"instrument\": \"nres01\", \"epoch\": \"20180313\", \"request_num\": \"UNSPECIFIED\", \"obstype\": \"LAMPFLAT\", \"filter\": null, \"processName\": \"MainProcess\"}\n",
      "2020-05-21 10:56:12.804     INFO:          traces: Fitting smooth spline to order 6 | {\"filename\": \"lscnrs01-fl09-20180313-lampflat-bin1x1-011.fits\", \"site\": \"lsc\", \"instrument\": \"nres01\", \"epoch\": \"20180313\", \"request_num\": \"UNSPECIFIED\", \"obstype\": \"LAMPFLAT\", \"filter\": null, \"processName\": \"MainProcess\"}\n",
      "2020-05-21 10:56:13.131     INFO:          traces: Fitting smooth spline to order 7 | {\"filename\": \"lscnrs01-fl09-20180313-lampflat-bin1x1-011.fits\", \"site\": \"lsc\", \"instrument\": \"nres01\", \"epoch\": \"20180313\", \"request_num\": \"UNSPECIFIED\", \"obstype\": \"LAMPFLAT\", \"filter\": null, \"processName\": \"MainProcess\"}\n",
      "2020-05-21 10:56:13.465     INFO:          traces: Fitting smooth spline to order 8 | {\"filename\": \"lscnrs01-fl09-20180313-lampflat-bin1x1-011.fits\", \"site\": \"lsc\", \"instrument\": \"nres01\", \"epoch\": \"20180313\", \"request_num\": \"UNSPECIFIED\", \"obstype\": \"LAMPFLAT\", \"filter\": null, \"processName\": \"MainProcess\"}\n",
      "2020-05-21 10:56:13.793     INFO:          traces: Fitting smooth spline to order 9 | {\"filename\": \"lscnrs01-fl09-20180313-lampflat-bin1x1-011.fits\", \"site\": \"lsc\", \"instrument\": \"nres01\", \"epoch\": \"20180313\", \"request_num\": \"UNSPECIFIED\", \"obstype\": \"LAMPFLAT\", \"filter\": null, \"processName\": \"MainProcess\"}\n",
      "2020-05-21 10:56:14.124     INFO:          traces: Fitting smooth spline to order 10 | {\"filename\": \"lscnrs01-fl09-20180313-lampflat-bin1x1-011.fits\", \"site\": \"lsc\", \"instrument\": \"nres01\", \"epoch\": \"20180313\", \"request_num\": \"UNSPECIFIED\", \"obstype\": \"LAMPFLAT\", \"filter\": null, \"processName\": \"MainProcess\"}\n",
      "2020-05-21 10:56:14.447     INFO:          traces: Fitting smooth spline to order 11 | {\"filename\": \"lscnrs01-fl09-20180313-lampflat-bin1x1-011.fits\", \"site\": \"lsc\", \"instrument\": \"nres01\", \"epoch\": \"20180313\", \"request_num\": \"UNSPECIFIED\", \"obstype\": \"LAMPFLAT\", \"filter\": null, \"processName\": \"MainProcess\"}\n",
      "2020-05-21 10:56:14.772     INFO:          traces: Fitting smooth spline to order 12 | {\"filename\": \"lscnrs01-fl09-20180313-lampflat-bin1x1-011.fits\", \"site\": \"lsc\", \"instrument\": \"nres01\", \"epoch\": \"20180313\", \"request_num\": \"UNSPECIFIED\", \"obstype\": \"LAMPFLAT\", \"filter\": null, \"processName\": \"MainProcess\"}\n",
      "2020-05-21 10:56:15.099     INFO:          traces: Fitting smooth spline to order 13 | {\"filename\": \"lscnrs01-fl09-20180313-lampflat-bin1x1-011.fits\", \"site\": \"lsc\", \"instrument\": \"nres01\", \"epoch\": \"20180313\", \"request_num\": \"UNSPECIFIED\", \"obstype\": \"LAMPFLAT\", \"filter\": null, \"processName\": \"MainProcess\"}\n",
      "2020-05-21 10:56:15.423     INFO:          traces: Fitting smooth spline to order 14 | {\"filename\": \"lscnrs01-fl09-20180313-lampflat-bin1x1-011.fits\", \"site\": \"lsc\", \"instrument\": \"nres01\", \"epoch\": \"20180313\", \"request_num\": \"UNSPECIFIED\", \"obstype\": \"LAMPFLAT\", \"filter\": null, \"processName\": \"MainProcess\"}\n",
      "2020-05-21 10:56:15.746     INFO:          traces: Fitting smooth spline to order 15 | {\"filename\": \"lscnrs01-fl09-20180313-lampflat-bin1x1-011.fits\", \"site\": \"lsc\", \"instrument\": \"nres01\", \"epoch\": \"20180313\", \"request_num\": \"UNSPECIFIED\", \"obstype\": \"LAMPFLAT\", \"filter\": null, \"processName\": \"MainProcess\"}\n",
      "2020-05-21 10:56:16.075     INFO:          traces: Fitting smooth spline to order 16 | {\"filename\": \"lscnrs01-fl09-20180313-lampflat-bin1x1-011.fits\", \"site\": \"lsc\", \"instrument\": \"nres01\", \"epoch\": \"20180313\", \"request_num\": \"UNSPECIFIED\", \"obstype\": \"LAMPFLAT\", \"filter\": null, \"processName\": \"MainProcess\"}\n"
     ]
    },
    {
     "name": "stdout",
     "output_type": "stream",
     "text": [
      "2020-05-21 10:56:16.405     INFO:          traces: Fitting smooth spline to order 17 | {\"filename\": \"lscnrs01-fl09-20180313-lampflat-bin1x1-011.fits\", \"site\": \"lsc\", \"instrument\": \"nres01\", \"epoch\": \"20180313\", \"request_num\": \"UNSPECIFIED\", \"obstype\": \"LAMPFLAT\", \"filter\": null, \"processName\": \"MainProcess\"}\n",
      "2020-05-21 10:56:16.732     INFO:          traces: Fitting smooth spline to order 18 | {\"filename\": \"lscnrs01-fl09-20180313-lampflat-bin1x1-011.fits\", \"site\": \"lsc\", \"instrument\": \"nres01\", \"epoch\": \"20180313\", \"request_num\": \"UNSPECIFIED\", \"obstype\": \"LAMPFLAT\", \"filter\": null, \"processName\": \"MainProcess\"}\n",
      "2020-05-21 10:56:17.059     INFO:          traces: Fitting smooth spline to order 19 | {\"filename\": \"lscnrs01-fl09-20180313-lampflat-bin1x1-011.fits\", \"site\": \"lsc\", \"instrument\": \"nres01\", \"epoch\": \"20180313\", \"request_num\": \"UNSPECIFIED\", \"obstype\": \"LAMPFLAT\", \"filter\": null, \"processName\": \"MainProcess\"}\n",
      "2020-05-21 10:56:17.384     INFO:          traces: Fitting smooth spline to order 20 | {\"filename\": \"lscnrs01-fl09-20180313-lampflat-bin1x1-011.fits\", \"site\": \"lsc\", \"instrument\": \"nres01\", \"epoch\": \"20180313\", \"request_num\": \"UNSPECIFIED\", \"obstype\": \"LAMPFLAT\", \"filter\": null, \"processName\": \"MainProcess\"}\n",
      "2020-05-21 10:56:17.711     INFO:          traces: Fitting smooth spline to order 21 | {\"filename\": \"lscnrs01-fl09-20180313-lampflat-bin1x1-011.fits\", \"site\": \"lsc\", \"instrument\": \"nres01\", \"epoch\": \"20180313\", \"request_num\": \"UNSPECIFIED\", \"obstype\": \"LAMPFLAT\", \"filter\": null, \"processName\": \"MainProcess\"}\n",
      "2020-05-21 10:56:18.044     INFO:          traces: Fitting smooth spline to order 22 | {\"filename\": \"lscnrs01-fl09-20180313-lampflat-bin1x1-011.fits\", \"site\": \"lsc\", \"instrument\": \"nres01\", \"epoch\": \"20180313\", \"request_num\": \"UNSPECIFIED\", \"obstype\": \"LAMPFLAT\", \"filter\": null, \"processName\": \"MainProcess\"}\n",
      "2020-05-21 10:56:18.374     INFO:          traces: Fitting smooth spline to order 23 | {\"filename\": \"lscnrs01-fl09-20180313-lampflat-bin1x1-011.fits\", \"site\": \"lsc\", \"instrument\": \"nres01\", \"epoch\": \"20180313\", \"request_num\": \"UNSPECIFIED\", \"obstype\": \"LAMPFLAT\", \"filter\": null, \"processName\": \"MainProcess\"}\n",
      "2020-05-21 10:56:18.696     INFO:          traces: Fitting smooth spline to order 24 | {\"filename\": \"lscnrs01-fl09-20180313-lampflat-bin1x1-011.fits\", \"site\": \"lsc\", \"instrument\": \"nres01\", \"epoch\": \"20180313\", \"request_num\": \"UNSPECIFIED\", \"obstype\": \"LAMPFLAT\", \"filter\": null, \"processName\": \"MainProcess\"}\n",
      "2020-05-21 10:56:19.022     INFO:          traces: Fitting smooth spline to order 25 | {\"filename\": \"lscnrs01-fl09-20180313-lampflat-bin1x1-011.fits\", \"site\": \"lsc\", \"instrument\": \"nres01\", \"epoch\": \"20180313\", \"request_num\": \"UNSPECIFIED\", \"obstype\": \"LAMPFLAT\", \"filter\": null, \"processName\": \"MainProcess\"}\n",
      "2020-05-21 10:56:19.346     INFO:          traces: Fitting smooth spline to order 26 | {\"filename\": \"lscnrs01-fl09-20180313-lampflat-bin1x1-011.fits\", \"site\": \"lsc\", \"instrument\": \"nres01\", \"epoch\": \"20180313\", \"request_num\": \"UNSPECIFIED\", \"obstype\": \"LAMPFLAT\", \"filter\": null, \"processName\": \"MainProcess\"}\n",
      "2020-05-21 10:56:19.671     INFO:          traces: Fitting smooth spline to order 27 | {\"filename\": \"lscnrs01-fl09-20180313-lampflat-bin1x1-011.fits\", \"site\": \"lsc\", \"instrument\": \"nres01\", \"epoch\": \"20180313\", \"request_num\": \"UNSPECIFIED\", \"obstype\": \"LAMPFLAT\", \"filter\": null, \"processName\": \"MainProcess\"}\n",
      "2020-05-21 10:56:19.999     INFO:          traces: Fitting smooth spline to order 28 | {\"filename\": \"lscnrs01-fl09-20180313-lampflat-bin1x1-011.fits\", \"site\": \"lsc\", \"instrument\": \"nres01\", \"epoch\": \"20180313\", \"request_num\": \"UNSPECIFIED\", \"obstype\": \"LAMPFLAT\", \"filter\": null, \"processName\": \"MainProcess\"}\n",
      "2020-05-21 10:56:20.324     INFO:          traces: Fitting smooth spline to order 29 | {\"filename\": \"lscnrs01-fl09-20180313-lampflat-bin1x1-011.fits\", \"site\": \"lsc\", \"instrument\": \"nres01\", \"epoch\": \"20180313\", \"request_num\": \"UNSPECIFIED\", \"obstype\": \"LAMPFLAT\", \"filter\": null, \"processName\": \"MainProcess\"}\n",
      "2020-05-21 10:56:20.650     INFO:          traces: Fitting smooth spline to order 30 | {\"filename\": \"lscnrs01-fl09-20180313-lampflat-bin1x1-011.fits\", \"site\": \"lsc\", \"instrument\": \"nres01\", \"epoch\": \"20180313\", \"request_num\": \"UNSPECIFIED\", \"obstype\": \"LAMPFLAT\", \"filter\": null, \"processName\": \"MainProcess\"}\n",
      "2020-05-21 10:56:20.977     INFO:          traces: Fitting smooth spline to order 31 | {\"filename\": \"lscnrs01-fl09-20180313-lampflat-bin1x1-011.fits\", \"site\": \"lsc\", \"instrument\": \"nres01\", \"epoch\": \"20180313\", \"request_num\": \"UNSPECIFIED\", \"obstype\": \"LAMPFLAT\", \"filter\": null, \"processName\": \"MainProcess\"}\n",
      "2020-05-21 10:56:21.302     INFO:          traces: Fitting smooth spline to order 32 | {\"filename\": \"lscnrs01-fl09-20180313-lampflat-bin1x1-011.fits\", \"site\": \"lsc\", \"instrument\": \"nres01\", \"epoch\": \"20180313\", \"request_num\": \"UNSPECIFIED\", \"obstype\": \"LAMPFLAT\", \"filter\": null, \"processName\": \"MainProcess\"}\n",
      "2020-05-21 10:56:21.630     INFO:          traces: Fitting smooth spline to order 33 | {\"filename\": \"lscnrs01-fl09-20180313-lampflat-bin1x1-011.fits\", \"site\": \"lsc\", \"instrument\": \"nres01\", \"epoch\": \"20180313\", \"request_num\": \"UNSPECIFIED\", \"obstype\": \"LAMPFLAT\", \"filter\": null, \"processName\": \"MainProcess\"}\n",
      "2020-05-21 10:56:21.956     INFO:          traces: Fitting smooth spline to order 34 | {\"filename\": \"lscnrs01-fl09-20180313-lampflat-bin1x1-011.fits\", \"site\": \"lsc\", \"instrument\": \"nres01\", \"epoch\": \"20180313\", \"request_num\": \"UNSPECIFIED\", \"obstype\": \"LAMPFLAT\", \"filter\": null, \"processName\": \"MainProcess\"}\n",
      "2020-05-21 10:56:22.285     INFO:          traces: Fitting smooth spline to order 35 | {\"filename\": \"lscnrs01-fl09-20180313-lampflat-bin1x1-011.fits\", \"site\": \"lsc\", \"instrument\": \"nres01\", \"epoch\": \"20180313\", \"request_num\": \"UNSPECIFIED\", \"obstype\": \"LAMPFLAT\", \"filter\": null, \"processName\": \"MainProcess\"}\n",
      "2020-05-21 10:56:22.612     INFO:          traces: Fitting smooth spline to order 36 | {\"filename\": \"lscnrs01-fl09-20180313-lampflat-bin1x1-011.fits\", \"site\": \"lsc\", \"instrument\": \"nres01\", \"epoch\": \"20180313\", \"request_num\": \"UNSPECIFIED\", \"obstype\": \"LAMPFLAT\", \"filter\": null, \"processName\": \"MainProcess\"}\n",
      "2020-05-21 10:56:22.937     INFO:          traces: Fitting smooth spline to order 37 | {\"filename\": \"lscnrs01-fl09-20180313-lampflat-bin1x1-011.fits\", \"site\": \"lsc\", \"instrument\": \"nres01\", \"epoch\": \"20180313\", \"request_num\": \"UNSPECIFIED\", \"obstype\": \"LAMPFLAT\", \"filter\": null, \"processName\": \"MainProcess\"}\n",
      "2020-05-21 10:56:23.266     INFO:          traces: Fitting smooth spline to order 38 | {\"filename\": \"lscnrs01-fl09-20180313-lampflat-bin1x1-011.fits\", \"site\": \"lsc\", \"instrument\": \"nres01\", \"epoch\": \"20180313\", \"request_num\": \"UNSPECIFIED\", \"obstype\": \"LAMPFLAT\", \"filter\": null, \"processName\": \"MainProcess\"}\n",
      "2020-05-21 10:56:23.592     INFO:          traces: Fitting smooth spline to order 39 | {\"filename\": \"lscnrs01-fl09-20180313-lampflat-bin1x1-011.fits\", \"site\": \"lsc\", \"instrument\": \"nres01\", \"epoch\": \"20180313\", \"request_num\": \"UNSPECIFIED\", \"obstype\": \"LAMPFLAT\", \"filter\": null, \"processName\": \"MainProcess\"}\n",
      "2020-05-21 10:56:23.920     INFO:          traces: Fitting smooth spline to order 40 | {\"filename\": \"lscnrs01-fl09-20180313-lampflat-bin1x1-011.fits\", \"site\": \"lsc\", \"instrument\": \"nres01\", \"epoch\": \"20180313\", \"request_num\": \"UNSPECIFIED\", \"obstype\": \"LAMPFLAT\", \"filter\": null, \"processName\": \"MainProcess\"}\n",
      "2020-05-21 10:56:24.249     INFO:          traces: Fitting smooth spline to order 41 | {\"filename\": \"lscnrs01-fl09-20180313-lampflat-bin1x1-011.fits\", \"site\": \"lsc\", \"instrument\": \"nres01\", \"epoch\": \"20180313\", \"request_num\": \"UNSPECIFIED\", \"obstype\": \"LAMPFLAT\", \"filter\": null, \"processName\": \"MainProcess\"}\n",
      "2020-05-21 10:56:24.582     INFO:          traces: Fitting smooth spline to order 42 | {\"filename\": \"lscnrs01-fl09-20180313-lampflat-bin1x1-011.fits\", \"site\": \"lsc\", \"instrument\": \"nres01\", \"epoch\": \"20180313\", \"request_num\": \"UNSPECIFIED\", \"obstype\": \"LAMPFLAT\", \"filter\": null, \"processName\": \"MainProcess\"}\n",
      "2020-05-21 10:56:24.909     INFO:          traces: Fitting smooth spline to order 43 | {\"filename\": \"lscnrs01-fl09-20180313-lampflat-bin1x1-011.fits\", \"site\": \"lsc\", \"instrument\": \"nres01\", \"epoch\": \"20180313\", \"request_num\": \"UNSPECIFIED\", \"obstype\": \"LAMPFLAT\", \"filter\": null, \"processName\": \"MainProcess\"}\n"
     ]
    },
    {
     "name": "stdout",
     "output_type": "stream",
     "text": [
      "2020-05-21 10:56:25.236     INFO:          traces: Fitting smooth spline to order 44 | {\"filename\": \"lscnrs01-fl09-20180313-lampflat-bin1x1-011.fits\", \"site\": \"lsc\", \"instrument\": \"nres01\", \"epoch\": \"20180313\", \"request_num\": \"UNSPECIFIED\", \"obstype\": \"LAMPFLAT\", \"filter\": null, \"processName\": \"MainProcess\"}\n",
      "2020-05-21 10:56:25.562     INFO:          traces: Fitting smooth spline to order 45 | {\"filename\": \"lscnrs01-fl09-20180313-lampflat-bin1x1-011.fits\", \"site\": \"lsc\", \"instrument\": \"nres01\", \"epoch\": \"20180313\", \"request_num\": \"UNSPECIFIED\", \"obstype\": \"LAMPFLAT\", \"filter\": null, \"processName\": \"MainProcess\"}\n",
      "2020-05-21 10:56:25.888     INFO:          traces: Fitting smooth spline to order 46 | {\"filename\": \"lscnrs01-fl09-20180313-lampflat-bin1x1-011.fits\", \"site\": \"lsc\", \"instrument\": \"nres01\", \"epoch\": \"20180313\", \"request_num\": \"UNSPECIFIED\", \"obstype\": \"LAMPFLAT\", \"filter\": null, \"processName\": \"MainProcess\"}\n",
      "2020-05-21 10:56:26.211     INFO:          traces: Fitting smooth spline to order 47 | {\"filename\": \"lscnrs01-fl09-20180313-lampflat-bin1x1-011.fits\", \"site\": \"lsc\", \"instrument\": \"nres01\", \"epoch\": \"20180313\", \"request_num\": \"UNSPECIFIED\", \"obstype\": \"LAMPFLAT\", \"filter\": null, \"processName\": \"MainProcess\"}\n",
      "2020-05-21 10:56:26.540     INFO:          traces: Fitting smooth spline to order 48 | {\"filename\": \"lscnrs01-fl09-20180313-lampflat-bin1x1-011.fits\", \"site\": \"lsc\", \"instrument\": \"nres01\", \"epoch\": \"20180313\", \"request_num\": \"UNSPECIFIED\", \"obstype\": \"LAMPFLAT\", \"filter\": null, \"processName\": \"MainProcess\"}\n",
      "2020-05-21 10:56:26.866     INFO:          traces: Fitting smooth spline to order 49 | {\"filename\": \"lscnrs01-fl09-20180313-lampflat-bin1x1-011.fits\", \"site\": \"lsc\", \"instrument\": \"nres01\", \"epoch\": \"20180313\", \"request_num\": \"UNSPECIFIED\", \"obstype\": \"LAMPFLAT\", \"filter\": null, \"processName\": \"MainProcess\"}\n",
      "2020-05-21 10:56:27.187     INFO:          traces: Fitting smooth spline to order 50 | {\"filename\": \"lscnrs01-fl09-20180313-lampflat-bin1x1-011.fits\", \"site\": \"lsc\", \"instrument\": \"nres01\", \"epoch\": \"20180313\", \"request_num\": \"UNSPECIFIED\", \"obstype\": \"LAMPFLAT\", \"filter\": null, \"processName\": \"MainProcess\"}\n",
      "2020-05-21 10:56:27.512     INFO:          traces: Fitting smooth spline to order 51 | {\"filename\": \"lscnrs01-fl09-20180313-lampflat-bin1x1-011.fits\", \"site\": \"lsc\", \"instrument\": \"nres01\", \"epoch\": \"20180313\", \"request_num\": \"UNSPECIFIED\", \"obstype\": \"LAMPFLAT\", \"filter\": null, \"processName\": \"MainProcess\"}\n",
      "2020-05-21 10:56:27.835     INFO:          traces: Fitting smooth spline to order 52 | {\"filename\": \"lscnrs01-fl09-20180313-lampflat-bin1x1-011.fits\", \"site\": \"lsc\", \"instrument\": \"nres01\", \"epoch\": \"20180313\", \"request_num\": \"UNSPECIFIED\", \"obstype\": \"LAMPFLAT\", \"filter\": null, \"processName\": \"MainProcess\"}\n",
      "2020-05-21 10:56:28.163     INFO:          traces: Fitting smooth spline to order 53 | {\"filename\": \"lscnrs01-fl09-20180313-lampflat-bin1x1-011.fits\", \"site\": \"lsc\", \"instrument\": \"nres01\", \"epoch\": \"20180313\", \"request_num\": \"UNSPECIFIED\", \"obstype\": \"LAMPFLAT\", \"filter\": null, \"processName\": \"MainProcess\"}\n",
      "2020-05-21 10:56:28.504     INFO:          traces: Fitting smooth spline to order 54 | {\"filename\": \"lscnrs01-fl09-20180313-lampflat-bin1x1-011.fits\", \"site\": \"lsc\", \"instrument\": \"nres01\", \"epoch\": \"20180313\", \"request_num\": \"UNSPECIFIED\", \"obstype\": \"LAMPFLAT\", \"filter\": null, \"processName\": \"MainProcess\"}\n",
      "2020-05-21 10:56:28.840     INFO:          traces: Fitting smooth spline to order 55 | {\"filename\": \"lscnrs01-fl09-20180313-lampflat-bin1x1-011.fits\", \"site\": \"lsc\", \"instrument\": \"nres01\", \"epoch\": \"20180313\", \"request_num\": \"UNSPECIFIED\", \"obstype\": \"LAMPFLAT\", \"filter\": null, \"processName\": \"MainProcess\"}\n",
      "2020-05-21 10:56:29.172     INFO:          traces: Fitting smooth spline to order 56 | {\"filename\": \"lscnrs01-fl09-20180313-lampflat-bin1x1-011.fits\", \"site\": \"lsc\", \"instrument\": \"nres01\", \"epoch\": \"20180313\", \"request_num\": \"UNSPECIFIED\", \"obstype\": \"LAMPFLAT\", \"filter\": null, \"processName\": \"MainProcess\"}\n",
      "2020-05-21 10:56:29.501     INFO:          traces: Fitting smooth spline to order 57 | {\"filename\": \"lscnrs01-fl09-20180313-lampflat-bin1x1-011.fits\", \"site\": \"lsc\", \"instrument\": \"nres01\", \"epoch\": \"20180313\", \"request_num\": \"UNSPECIFIED\", \"obstype\": \"LAMPFLAT\", \"filter\": null, \"processName\": \"MainProcess\"}\n",
      "2020-05-21 10:56:29.825     INFO:          traces: Fitting smooth spline to order 58 | {\"filename\": \"lscnrs01-fl09-20180313-lampflat-bin1x1-011.fits\", \"site\": \"lsc\", \"instrument\": \"nres01\", \"epoch\": \"20180313\", \"request_num\": \"UNSPECIFIED\", \"obstype\": \"LAMPFLAT\", \"filter\": null, \"processName\": \"MainProcess\"}\n",
      "2020-05-21 10:56:30.153     INFO:          traces: Fitting smooth spline to order 59 | {\"filename\": \"lscnrs01-fl09-20180313-lampflat-bin1x1-011.fits\", \"site\": \"lsc\", \"instrument\": \"nres01\", \"epoch\": \"20180313\", \"request_num\": \"UNSPECIFIED\", \"obstype\": \"LAMPFLAT\", \"filter\": null, \"processName\": \"MainProcess\"}\n",
      "2020-05-21 10:56:30.486     INFO:          traces: Fitting smooth spline to order 60 | {\"filename\": \"lscnrs01-fl09-20180313-lampflat-bin1x1-011.fits\", \"site\": \"lsc\", \"instrument\": \"nres01\", \"epoch\": \"20180313\", \"request_num\": \"UNSPECIFIED\", \"obstype\": \"LAMPFLAT\", \"filter\": null, \"processName\": \"MainProcess\"}\n",
      "2020-05-21 10:56:30.814     INFO:          traces: Fitting smooth spline to order 61 | {\"filename\": \"lscnrs01-fl09-20180313-lampflat-bin1x1-011.fits\", \"site\": \"lsc\", \"instrument\": \"nres01\", \"epoch\": \"20180313\", \"request_num\": \"UNSPECIFIED\", \"obstype\": \"LAMPFLAT\", \"filter\": null, \"processName\": \"MainProcess\"}\n",
      "2020-05-21 10:56:31.137     INFO:          traces: Fitting smooth spline to order 62 | {\"filename\": \"lscnrs01-fl09-20180313-lampflat-bin1x1-011.fits\", \"site\": \"lsc\", \"instrument\": \"nres01\", \"epoch\": \"20180313\", \"request_num\": \"UNSPECIFIED\", \"obstype\": \"LAMPFLAT\", \"filter\": null, \"processName\": \"MainProcess\"}\n",
      "2020-05-21 10:56:31.460     INFO:          traces: Fitting smooth spline to order 63 | {\"filename\": \"lscnrs01-fl09-20180313-lampflat-bin1x1-011.fits\", \"site\": \"lsc\", \"instrument\": \"nres01\", \"epoch\": \"20180313\", \"request_num\": \"UNSPECIFIED\", \"obstype\": \"LAMPFLAT\", \"filter\": null, \"processName\": \"MainProcess\"}\n",
      "2020-05-21 10:56:31.782     INFO:          traces: Fitting smooth spline to order 64 | {\"filename\": \"lscnrs01-fl09-20180313-lampflat-bin1x1-011.fits\", \"site\": \"lsc\", \"instrument\": \"nres01\", \"epoch\": \"20180313\", \"request_num\": \"UNSPECIFIED\", \"obstype\": \"LAMPFLAT\", \"filter\": null, \"processName\": \"MainProcess\"}\n",
      "2020-05-21 10:56:32.105     INFO:          traces: Fitting smooth spline to order 65 | {\"filename\": \"lscnrs01-fl09-20180313-lampflat-bin1x1-011.fits\", \"site\": \"lsc\", \"instrument\": \"nres01\", \"epoch\": \"20180313\", \"request_num\": \"UNSPECIFIED\", \"obstype\": \"LAMPFLAT\", \"filter\": null, \"processName\": \"MainProcess\"}\n",
      "2020-05-21 10:56:32.429     INFO:          traces: Fitting smooth spline to order 66 | {\"filename\": \"lscnrs01-fl09-20180313-lampflat-bin1x1-011.fits\", \"site\": \"lsc\", \"instrument\": \"nres01\", \"epoch\": \"20180313\", \"request_num\": \"UNSPECIFIED\", \"obstype\": \"LAMPFLAT\", \"filter\": null, \"processName\": \"MainProcess\"}\n",
      "2020-05-21 10:56:32.752     INFO:          traces: Fitting smooth spline to order 67 | {\"filename\": \"lscnrs01-fl09-20180313-lampflat-bin1x1-011.fits\", \"site\": \"lsc\", \"instrument\": \"nres01\", \"epoch\": \"20180313\", \"request_num\": \"UNSPECIFIED\", \"obstype\": \"LAMPFLAT\", \"filter\": null, \"processName\": \"MainProcess\"}\n",
      "2020-05-21 10:56:33.076     INFO:          traces: Fitting smooth spline to order 68 | {\"filename\": \"lscnrs01-fl09-20180313-lampflat-bin1x1-011.fits\", \"site\": \"lsc\", \"instrument\": \"nres01\", \"epoch\": \"20180313\", \"request_num\": \"UNSPECIFIED\", \"obstype\": \"LAMPFLAT\", \"filter\": null, \"processName\": \"MainProcess\"}\n",
      "2020-05-21 10:56:33.398     INFO:          traces: Fitting smooth spline to order 69 | {\"filename\": \"lscnrs01-fl09-20180313-lampflat-bin1x1-011.fits\", \"site\": \"lsc\", \"instrument\": \"nres01\", \"epoch\": \"20180313\", \"request_num\": \"UNSPECIFIED\", \"obstype\": \"LAMPFLAT\", \"filter\": null, \"processName\": \"MainProcess\"}\n",
      "2020-05-21 10:56:33.721     INFO:          traces: Fitting smooth spline to order 70 | {\"filename\": \"lscnrs01-fl09-20180313-lampflat-bin1x1-011.fits\", \"site\": \"lsc\", \"instrument\": \"nres01\", \"epoch\": \"20180313\", \"request_num\": \"UNSPECIFIED\", \"obstype\": \"LAMPFLAT\", \"filter\": null, \"processName\": \"MainProcess\"}\n"
     ]
    },
    {
     "name": "stdout",
     "output_type": "stream",
     "text": [
      "2020-05-21 10:56:34.064     INFO:          traces: Fitting smooth spline to order 71 | {\"filename\": \"lscnrs01-fl09-20180313-lampflat-bin1x1-011.fits\", \"site\": \"lsc\", \"instrument\": \"nres01\", \"epoch\": \"20180313\", \"request_num\": \"UNSPECIFIED\", \"obstype\": \"LAMPFLAT\", \"filter\": null, \"processName\": \"MainProcess\"}\n",
      "2020-05-21 10:56:34.420     INFO:          traces: Fitting smooth spline to order 72 | {\"filename\": \"lscnrs01-fl09-20180313-lampflat-bin1x1-011.fits\", \"site\": \"lsc\", \"instrument\": \"nres01\", \"epoch\": \"20180313\", \"request_num\": \"UNSPECIFIED\", \"obstype\": \"LAMPFLAT\", \"filter\": null, \"processName\": \"MainProcess\"}\n",
      "2020-05-21 10:56:34.770     INFO:          traces: Fitting smooth spline to order 73 | {\"filename\": \"lscnrs01-fl09-20180313-lampflat-bin1x1-011.fits\", \"site\": \"lsc\", \"instrument\": \"nres01\", \"epoch\": \"20180313\", \"request_num\": \"UNSPECIFIED\", \"obstype\": \"LAMPFLAT\", \"filter\": null, \"processName\": \"MainProcess\"}\n",
      "2020-05-21 10:56:35.092     INFO:          traces: Fitting smooth spline to order 74 | {\"filename\": \"lscnrs01-fl09-20180313-lampflat-bin1x1-011.fits\", \"site\": \"lsc\", \"instrument\": \"nres01\", \"epoch\": \"20180313\", \"request_num\": \"UNSPECIFIED\", \"obstype\": \"LAMPFLAT\", \"filter\": null, \"processName\": \"MainProcess\"}\n",
      "2020-05-21 10:56:35.416     INFO:          traces: Fitting smooth spline to order 75 | {\"filename\": \"lscnrs01-fl09-20180313-lampflat-bin1x1-011.fits\", \"site\": \"lsc\", \"instrument\": \"nres01\", \"epoch\": \"20180313\", \"request_num\": \"UNSPECIFIED\", \"obstype\": \"LAMPFLAT\", \"filter\": null, \"processName\": \"MainProcess\"}\n",
      "2020-05-21 10:56:35.745     INFO:          traces: Fitting smooth spline to order 76 | {\"filename\": \"lscnrs01-fl09-20180313-lampflat-bin1x1-011.fits\", \"site\": \"lsc\", \"instrument\": \"nres01\", \"epoch\": \"20180313\", \"request_num\": \"UNSPECIFIED\", \"obstype\": \"LAMPFLAT\", \"filter\": null, \"processName\": \"MainProcess\"}\n",
      "2020-05-21 10:56:36.081     INFO:          traces: Fitting smooth spline to order 77 | {\"filename\": \"lscnrs01-fl09-20180313-lampflat-bin1x1-011.fits\", \"site\": \"lsc\", \"instrument\": \"nres01\", \"epoch\": \"20180313\", \"request_num\": \"UNSPECIFIED\", \"obstype\": \"LAMPFLAT\", \"filter\": null, \"processName\": \"MainProcess\"}\n",
      "2020-05-21 10:56:36.405     INFO:          traces: Fitting smooth spline to order 78 | {\"filename\": \"lscnrs01-fl09-20180313-lampflat-bin1x1-011.fits\", \"site\": \"lsc\", \"instrument\": \"nres01\", \"epoch\": \"20180313\", \"request_num\": \"UNSPECIFIED\", \"obstype\": \"LAMPFLAT\", \"filter\": null, \"processName\": \"MainProcess\"}\n",
      "2020-05-21 10:56:36.733     INFO:          traces: Fitting smooth spline to order 79 | {\"filename\": \"lscnrs01-fl09-20180313-lampflat-bin1x1-011.fits\", \"site\": \"lsc\", \"instrument\": \"nres01\", \"epoch\": \"20180313\", \"request_num\": \"UNSPECIFIED\", \"obstype\": \"LAMPFLAT\", \"filter\": null, \"processName\": \"MainProcess\"}\n",
      "2020-05-21 10:56:37.058     INFO:          traces: Fitting smooth spline to order 80 | {\"filename\": \"lscnrs01-fl09-20180313-lampflat-bin1x1-011.fits\", \"site\": \"lsc\", \"instrument\": \"nres01\", \"epoch\": \"20180313\", \"request_num\": \"UNSPECIFIED\", \"obstype\": \"LAMPFLAT\", \"filter\": null, \"processName\": \"MainProcess\"}\n",
      "2020-05-21 10:56:37.381     INFO:          traces: Fitting smooth spline to order 81 | {\"filename\": \"lscnrs01-fl09-20180313-lampflat-bin1x1-011.fits\", \"site\": \"lsc\", \"instrument\": \"nres01\", \"epoch\": \"20180313\", \"request_num\": \"UNSPECIFIED\", \"obstype\": \"LAMPFLAT\", \"filter\": null, \"processName\": \"MainProcess\"}\n",
      "2020-05-21 10:56:37.710     INFO:          traces: Fitting smooth spline to order 82 | {\"filename\": \"lscnrs01-fl09-20180313-lampflat-bin1x1-011.fits\", \"site\": \"lsc\", \"instrument\": \"nres01\", \"epoch\": \"20180313\", \"request_num\": \"UNSPECIFIED\", \"obstype\": \"LAMPFLAT\", \"filter\": null, \"processName\": \"MainProcess\"}\n",
      "2020-05-21 10:56:38.035     INFO:          traces: Fitting smooth spline to order 83 | {\"filename\": \"lscnrs01-fl09-20180313-lampflat-bin1x1-011.fits\", \"site\": \"lsc\", \"instrument\": \"nres01\", \"epoch\": \"20180313\", \"request_num\": \"UNSPECIFIED\", \"obstype\": \"LAMPFLAT\", \"filter\": null, \"processName\": \"MainProcess\"}\n",
      "2020-05-21 10:56:38.363     INFO:          traces: Fitting smooth spline to order 84 | {\"filename\": \"lscnrs01-fl09-20180313-lampflat-bin1x1-011.fits\", \"site\": \"lsc\", \"instrument\": \"nres01\", \"epoch\": \"20180313\", \"request_num\": \"UNSPECIFIED\", \"obstype\": \"LAMPFLAT\", \"filter\": null, \"processName\": \"MainProcess\"}\n",
      "2020-05-21 10:56:38.689     INFO:          traces: Fitting smooth spline to order 85 | {\"filename\": \"lscnrs01-fl09-20180313-lampflat-bin1x1-011.fits\", \"site\": \"lsc\", \"instrument\": \"nres01\", \"epoch\": \"20180313\", \"request_num\": \"UNSPECIFIED\", \"obstype\": \"LAMPFLAT\", \"filter\": null, \"processName\": \"MainProcess\"}\n",
      "2020-05-21 10:56:39.012     INFO:          traces: Fitting smooth spline to order 86 | {\"filename\": \"lscnrs01-fl09-20180313-lampflat-bin1x1-011.fits\", \"site\": \"lsc\", \"instrument\": \"nres01\", \"epoch\": \"20180313\", \"request_num\": \"UNSPECIFIED\", \"obstype\": \"LAMPFLAT\", \"filter\": null, \"processName\": \"MainProcess\"}\n",
      "2020-05-21 10:56:39.339     INFO:          traces: Fitting smooth spline to order 87 | {\"filename\": \"lscnrs01-fl09-20180313-lampflat-bin1x1-011.fits\", \"site\": \"lsc\", \"instrument\": \"nres01\", \"epoch\": \"20180313\", \"request_num\": \"UNSPECIFIED\", \"obstype\": \"LAMPFLAT\", \"filter\": null, \"processName\": \"MainProcess\"}\n",
      "2020-05-21 10:56:39.667     INFO:          traces: Fitting smooth spline to order 88 | {\"filename\": \"lscnrs01-fl09-20180313-lampflat-bin1x1-011.fits\", \"site\": \"lsc\", \"instrument\": \"nres01\", \"epoch\": \"20180313\", \"request_num\": \"UNSPECIFIED\", \"obstype\": \"LAMPFLAT\", \"filter\": null, \"processName\": \"MainProcess\"}\n",
      "2020-05-21 10:56:39.995     INFO:          traces: Fitting smooth spline to order 89 | {\"filename\": \"lscnrs01-fl09-20180313-lampflat-bin1x1-011.fits\", \"site\": \"lsc\", \"instrument\": \"nres01\", \"epoch\": \"20180313\", \"request_num\": \"UNSPECIFIED\", \"obstype\": \"LAMPFLAT\", \"filter\": null, \"processName\": \"MainProcess\"}\n",
      "2020-05-21 10:56:40.352     INFO:          traces: Fitting smooth spline to order 90 | {\"filename\": \"lscnrs01-fl09-20180313-lampflat-bin1x1-011.fits\", \"site\": \"lsc\", \"instrument\": \"nres01\", \"epoch\": \"20180313\", \"request_num\": \"UNSPECIFIED\", \"obstype\": \"LAMPFLAT\", \"filter\": null, \"processName\": \"MainProcess\"}\n",
      "2020-05-21 10:56:40.714     INFO:          traces: Fitting smooth spline to order 91 | {\"filename\": \"lscnrs01-fl09-20180313-lampflat-bin1x1-011.fits\", \"site\": \"lsc\", \"instrument\": \"nres01\", \"epoch\": \"20180313\", \"request_num\": \"UNSPECIFIED\", \"obstype\": \"LAMPFLAT\", \"filter\": null, \"processName\": \"MainProcess\"}\n",
      "2020-05-21 10:56:41.071     INFO:          traces: Fitting smooth spline to order 92 | {\"filename\": \"lscnrs01-fl09-20180313-lampflat-bin1x1-011.fits\", \"site\": \"lsc\", \"instrument\": \"nres01\", \"epoch\": \"20180313\", \"request_num\": \"UNSPECIFIED\", \"obstype\": \"LAMPFLAT\", \"filter\": null, \"processName\": \"MainProcess\"}\n",
      "2020-05-21 10:56:41.417     INFO:          traces: Fitting smooth spline to order 93 | {\"filename\": \"lscnrs01-fl09-20180313-lampflat-bin1x1-011.fits\", \"site\": \"lsc\", \"instrument\": \"nres01\", \"epoch\": \"20180313\", \"request_num\": \"UNSPECIFIED\", \"obstype\": \"LAMPFLAT\", \"filter\": null, \"processName\": \"MainProcess\"}\n",
      "2020-05-21 10:56:41.741     INFO:          traces: Fitting smooth spline to order 94 | {\"filename\": \"lscnrs01-fl09-20180313-lampflat-bin1x1-011.fits\", \"site\": \"lsc\", \"instrument\": \"nres01\", \"epoch\": \"20180313\", \"request_num\": \"UNSPECIFIED\", \"obstype\": \"LAMPFLAT\", \"filter\": null, \"processName\": \"MainProcess\"}\n",
      "2020-05-21 10:56:42.069     INFO:          traces: Fitting smooth spline to order 95 | {\"filename\": \"lscnrs01-fl09-20180313-lampflat-bin1x1-011.fits\", \"site\": \"lsc\", \"instrument\": \"nres01\", \"epoch\": \"20180313\", \"request_num\": \"UNSPECIFIED\", \"obstype\": \"LAMPFLAT\", \"filter\": null, \"processName\": \"MainProcess\"}\n",
      "2020-05-21 10:56:42.395     INFO:          traces: Fitting smooth spline to order 96 | {\"filename\": \"lscnrs01-fl09-20180313-lampflat-bin1x1-011.fits\", \"site\": \"lsc\", \"instrument\": \"nres01\", \"epoch\": \"20180313\", \"request_num\": \"UNSPECIFIED\", \"obstype\": \"LAMPFLAT\", \"filter\": null, \"processName\": \"MainProcess\"}\n",
      "2020-05-21 10:56:42.724     INFO:          traces: Fitting smooth spline to order 97 | {\"filename\": \"lscnrs01-fl09-20180313-lampflat-bin1x1-011.fits\", \"site\": \"lsc\", \"instrument\": \"nres01\", \"epoch\": \"20180313\", \"request_num\": \"UNSPECIFIED\", \"obstype\": \"LAMPFLAT\", \"filter\": null, \"processName\": \"MainProcess\"}\n"
     ]
    },
    {
     "name": "stdout",
     "output_type": "stream",
     "text": [
      "2020-05-21 10:56:43.048     INFO:          traces: Fitting smooth spline to order 98 | {\"filename\": \"lscnrs01-fl09-20180313-lampflat-bin1x1-011.fits\", \"site\": \"lsc\", \"instrument\": \"nres01\", \"epoch\": \"20180313\", \"request_num\": \"UNSPECIFIED\", \"obstype\": \"LAMPFLAT\", \"filter\": null, \"processName\": \"MainProcess\"}\n",
      "2020-05-21 10:56:43.374     INFO:          traces: Fitting smooth spline to order 99 | {\"filename\": \"lscnrs01-fl09-20180313-lampflat-bin1x1-011.fits\", \"site\": \"lsc\", \"instrument\": \"nres01\", \"epoch\": \"20180313\", \"request_num\": \"UNSPECIFIED\", \"obstype\": \"LAMPFLAT\", \"filter\": null, \"processName\": \"MainProcess\"}\n",
      "2020-05-21 10:56:43.701     INFO:          traces: Fitting smooth spline to order 100 | {\"filename\": \"lscnrs01-fl09-20180313-lampflat-bin1x1-011.fits\", \"site\": \"lsc\", \"instrument\": \"nres01\", \"epoch\": \"20180313\", \"request_num\": \"UNSPECIFIED\", \"obstype\": \"LAMPFLAT\", \"filter\": null, \"processName\": \"MainProcess\"}\n",
      "2020-05-21 10:56:44.029     INFO:          traces: Fitting smooth spline to order 101 | {\"filename\": \"lscnrs01-fl09-20180313-lampflat-bin1x1-011.fits\", \"site\": \"lsc\", \"instrument\": \"nres01\", \"epoch\": \"20180313\", \"request_num\": \"UNSPECIFIED\", \"obstype\": \"LAMPFLAT\", \"filter\": null, \"processName\": \"MainProcess\"}\n",
      "2020-05-21 10:56:44.350     INFO:          traces: Fitting smooth spline to order 102 | {\"filename\": \"lscnrs01-fl09-20180313-lampflat-bin1x1-011.fits\", \"site\": \"lsc\", \"instrument\": \"nres01\", \"epoch\": \"20180313\", \"request_num\": \"UNSPECIFIED\", \"obstype\": \"LAMPFLAT\", \"filter\": null, \"processName\": \"MainProcess\"}\n",
      "2020-05-21 10:56:44.675     INFO:          traces: Fitting smooth spline to order 103 | {\"filename\": \"lscnrs01-fl09-20180313-lampflat-bin1x1-011.fits\", \"site\": \"lsc\", \"instrument\": \"nres01\", \"epoch\": \"20180313\", \"request_num\": \"UNSPECIFIED\", \"obstype\": \"LAMPFLAT\", \"filter\": null, \"processName\": \"MainProcess\"}\n",
      "2020-05-21 10:56:44.999     INFO:          traces: Fitting smooth spline to order 104 | {\"filename\": \"lscnrs01-fl09-20180313-lampflat-bin1x1-011.fits\", \"site\": \"lsc\", \"instrument\": \"nres01\", \"epoch\": \"20180313\", \"request_num\": \"UNSPECIFIED\", \"obstype\": \"LAMPFLAT\", \"filter\": null, \"processName\": \"MainProcess\"}\n",
      "2020-05-21 10:56:45.322     INFO:          traces: Fitting smooth spline to order 105 | {\"filename\": \"lscnrs01-fl09-20180313-lampflat-bin1x1-011.fits\", \"site\": \"lsc\", \"instrument\": \"nres01\", \"epoch\": \"20180313\", \"request_num\": \"UNSPECIFIED\", \"obstype\": \"LAMPFLAT\", \"filter\": null, \"processName\": \"MainProcess\"}\n",
      "2020-05-21 10:56:45.648     INFO:          traces: Fitting smooth spline to order 106 | {\"filename\": \"lscnrs01-fl09-20180313-lampflat-bin1x1-011.fits\", \"site\": \"lsc\", \"instrument\": \"nres01\", \"epoch\": \"20180313\", \"request_num\": \"UNSPECIFIED\", \"obstype\": \"LAMPFLAT\", \"filter\": null, \"processName\": \"MainProcess\"}\n",
      "2020-05-21 10:56:45.975     INFO:          traces: Fitting smooth spline to order 107 | {\"filename\": \"lscnrs01-fl09-20180313-lampflat-bin1x1-011.fits\", \"site\": \"lsc\", \"instrument\": \"nres01\", \"epoch\": \"20180313\", \"request_num\": \"UNSPECIFIED\", \"obstype\": \"LAMPFLAT\", \"filter\": null, \"processName\": \"MainProcess\"}\n",
      "2020-05-21 10:56:46.301     INFO:          traces: Fitting smooth spline to order 108 | {\"filename\": \"lscnrs01-fl09-20180313-lampflat-bin1x1-011.fits\", \"site\": \"lsc\", \"instrument\": \"nres01\", \"epoch\": \"20180313\", \"request_num\": \"UNSPECIFIED\", \"obstype\": \"LAMPFLAT\", \"filter\": null, \"processName\": \"MainProcess\"}\n",
      "2020-05-21 10:56:46.626     INFO:          traces: Fitting smooth spline to order 109 | {\"filename\": \"lscnrs01-fl09-20180313-lampflat-bin1x1-011.fits\", \"site\": \"lsc\", \"instrument\": \"nres01\", \"epoch\": \"20180313\", \"request_num\": \"UNSPECIFIED\", \"obstype\": \"LAMPFLAT\", \"filter\": null, \"processName\": \"MainProcess\"}\n",
      "2020-05-21 10:56:46.950     INFO:          traces: Fitting smooth spline to order 110 | {\"filename\": \"lscnrs01-fl09-20180313-lampflat-bin1x1-011.fits\", \"site\": \"lsc\", \"instrument\": \"nres01\", \"epoch\": \"20180313\", \"request_num\": \"UNSPECIFIED\", \"obstype\": \"LAMPFLAT\", \"filter\": null, \"processName\": \"MainProcess\"}\n",
      "2020-05-21 10:56:47.273     INFO:          traces: Fitting smooth spline to order 111 | {\"filename\": \"lscnrs01-fl09-20180313-lampflat-bin1x1-011.fits\", \"site\": \"lsc\", \"instrument\": \"nres01\", \"epoch\": \"20180313\", \"request_num\": \"UNSPECIFIED\", \"obstype\": \"LAMPFLAT\", \"filter\": null, \"processName\": \"MainProcess\"}\n",
      "2020-05-21 10:56:47.601     INFO:          traces: Fitting smooth spline to order 112 | {\"filename\": \"lscnrs01-fl09-20180313-lampflat-bin1x1-011.fits\", \"site\": \"lsc\", \"instrument\": \"nres01\", \"epoch\": \"20180313\", \"request_num\": \"UNSPECIFIED\", \"obstype\": \"LAMPFLAT\", \"filter\": null, \"processName\": \"MainProcess\"}\n",
      "2020-05-21 10:56:47.925     INFO:          traces: Fitting smooth spline to order 113 | {\"filename\": \"lscnrs01-fl09-20180313-lampflat-bin1x1-011.fits\", \"site\": \"lsc\", \"instrument\": \"nres01\", \"epoch\": \"20180313\", \"request_num\": \"UNSPECIFIED\", \"obstype\": \"LAMPFLAT\", \"filter\": null, \"processName\": \"MainProcess\"}\n",
      "2020-05-21 10:56:48.249     INFO:          traces: Fitting smooth spline to order 114 | {\"filename\": \"lscnrs01-fl09-20180313-lampflat-bin1x1-011.fits\", \"site\": \"lsc\", \"instrument\": \"nres01\", \"epoch\": \"20180313\", \"request_num\": \"UNSPECIFIED\", \"obstype\": \"LAMPFLAT\", \"filter\": null, \"processName\": \"MainProcess\"}\n",
      "2020-05-21 10:56:48.586     INFO:          traces: Fitting smooth spline to order 115 | {\"filename\": \"lscnrs01-fl09-20180313-lampflat-bin1x1-011.fits\", \"site\": \"lsc\", \"instrument\": \"nres01\", \"epoch\": \"20180313\", \"request_num\": \"UNSPECIFIED\", \"obstype\": \"LAMPFLAT\", \"filter\": null, \"processName\": \"MainProcess\"}\n",
      "2020-05-21 10:56:48.915     INFO:          traces: Fitting smooth spline to order 116 | {\"filename\": \"lscnrs01-fl09-20180313-lampflat-bin1x1-011.fits\", \"site\": \"lsc\", \"instrument\": \"nres01\", \"epoch\": \"20180313\", \"request_num\": \"UNSPECIFIED\", \"obstype\": \"LAMPFLAT\", \"filter\": null, \"processName\": \"MainProcess\"}\n",
      "2020-05-21 10:56:49.268     INFO:          traces: Fitting smooth spline to order 117 | {\"filename\": \"lscnrs01-fl09-20180313-lampflat-bin1x1-011.fits\", \"site\": \"lsc\", \"instrument\": \"nres01\", \"epoch\": \"20180313\", \"request_num\": \"UNSPECIFIED\", \"obstype\": \"LAMPFLAT\", \"filter\": null, \"processName\": \"MainProcess\"}\n",
      "2020-05-21 10:56:49.589     INFO:          traces: Fitting smooth spline to order 118 | {\"filename\": \"lscnrs01-fl09-20180313-lampflat-bin1x1-011.fits\", \"site\": \"lsc\", \"instrument\": \"nres01\", \"epoch\": \"20180313\", \"request_num\": \"UNSPECIFIED\", \"obstype\": \"LAMPFLAT\", \"filter\": null, \"processName\": \"MainProcess\"}\n",
      "2020-05-21 10:56:49.911     INFO:          traces: Fitting smooth spline to order 119 | {\"filename\": \"lscnrs01-fl09-20180313-lampflat-bin1x1-011.fits\", \"site\": \"lsc\", \"instrument\": \"nres01\", \"epoch\": \"20180313\", \"request_num\": \"UNSPECIFIED\", \"obstype\": \"LAMPFLAT\", \"filter\": null, \"processName\": \"MainProcess\"}\n",
      "2020-05-21 10:56:50.232     INFO:          traces: Fitting smooth spline to order 120 | {\"filename\": \"lscnrs01-fl09-20180313-lampflat-bin1x1-011.fits\", \"site\": \"lsc\", \"instrument\": \"nres01\", \"epoch\": \"20180313\", \"request_num\": \"UNSPECIFIED\", \"obstype\": \"LAMPFLAT\", \"filter\": null, \"processName\": \"MainProcess\"}\n",
      "2020-05-21 10:56:50.556     INFO:          traces: Fitting smooth spline to order 121 | {\"filename\": \"lscnrs01-fl09-20180313-lampflat-bin1x1-011.fits\", \"site\": \"lsc\", \"instrument\": \"nres01\", \"epoch\": \"20180313\", \"request_num\": \"UNSPECIFIED\", \"obstype\": \"LAMPFLAT\", \"filter\": null, \"processName\": \"MainProcess\"}\n",
      "2020-05-21 10:56:50.878     INFO:          traces: Fitting smooth spline to order 122 | {\"filename\": \"lscnrs01-fl09-20180313-lampflat-bin1x1-011.fits\", \"site\": \"lsc\", \"instrument\": \"nres01\", \"epoch\": \"20180313\", \"request_num\": \"UNSPECIFIED\", \"obstype\": \"LAMPFLAT\", \"filter\": null, \"processName\": \"MainProcess\"}\n",
      "2020-05-21 10:56:51.201     INFO:          traces: Fitting smooth spline to order 123 | {\"filename\": \"lscnrs01-fl09-20180313-lampflat-bin1x1-011.fits\", \"site\": \"lsc\", \"instrument\": \"nres01\", \"epoch\": \"20180313\", \"request_num\": \"UNSPECIFIED\", \"obstype\": \"LAMPFLAT\", \"filter\": null, \"processName\": \"MainProcess\"}\n",
      "2020-05-21 10:56:51.529     INFO:          traces: Fitting smooth spline to order 124 | {\"filename\": \"lscnrs01-fl09-20180313-lampflat-bin1x1-011.fits\", \"site\": \"lsc\", \"instrument\": \"nres01\", \"epoch\": \"20180313\", \"request_num\": \"UNSPECIFIED\", \"obstype\": \"LAMPFLAT\", \"filter\": null, \"processName\": \"MainProcess\"}\n"
     ]
    },
    {
     "name": "stdout",
     "output_type": "stream",
     "text": [
      "2020-05-21 10:56:51.851     INFO:          traces: Fitting smooth spline to order 125 | {\"filename\": \"lscnrs01-fl09-20180313-lampflat-bin1x1-011.fits\", \"site\": \"lsc\", \"instrument\": \"nres01\", \"epoch\": \"20180313\", \"request_num\": \"UNSPECIFIED\", \"obstype\": \"LAMPFLAT\", \"filter\": null, \"processName\": \"MainProcess\"}\n",
      "2020-05-21 10:56:52.170     INFO:          traces: Fitting smooth spline to order 126 | {\"filename\": \"lscnrs01-fl09-20180313-lampflat-bin1x1-011.fits\", \"site\": \"lsc\", \"instrument\": \"nres01\", \"epoch\": \"20180313\", \"request_num\": \"UNSPECIFIED\", \"obstype\": \"LAMPFLAT\", \"filter\": null, \"processName\": \"MainProcess\"}\n",
      "2020-05-21 10:56:52.492     INFO:          traces: Fitting smooth spline to order 127 | {\"filename\": \"lscnrs01-fl09-20180313-lampflat-bin1x1-011.fits\", \"site\": \"lsc\", \"instrument\": \"nres01\", \"epoch\": \"20180313\", \"request_num\": \"UNSPECIFIED\", \"obstype\": \"LAMPFLAT\", \"filter\": null, \"processName\": \"MainProcess\"}\n",
      "2020-05-21 10:56:52.814     INFO:          traces: Fitting smooth spline to order 128 | {\"filename\": \"lscnrs01-fl09-20180313-lampflat-bin1x1-011.fits\", \"site\": \"lsc\", \"instrument\": \"nres01\", \"epoch\": \"20180313\", \"request_num\": \"UNSPECIFIED\", \"obstype\": \"LAMPFLAT\", \"filter\": null, \"processName\": \"MainProcess\"}\n",
      "2020-05-21 10:56:53.136     INFO:          traces: Fitting smooth spline to order 129 | {\"filename\": \"lscnrs01-fl09-20180313-lampflat-bin1x1-011.fits\", \"site\": \"lsc\", \"instrument\": \"nres01\", \"epoch\": \"20180313\", \"request_num\": \"UNSPECIFIED\", \"obstype\": \"LAMPFLAT\", \"filter\": null, \"processName\": \"MainProcess\"}\n",
      "2020-05-21 10:56:53.457     INFO:          traces: Fitting smooth spline to order 130 | {\"filename\": \"lscnrs01-fl09-20180313-lampflat-bin1x1-011.fits\", \"site\": \"lsc\", \"instrument\": \"nres01\", \"epoch\": \"20180313\", \"request_num\": \"UNSPECIFIED\", \"obstype\": \"LAMPFLAT\", \"filter\": null, \"processName\": \"MainProcess\"}\n",
      "2020-05-21 10:56:53.784     INFO:          traces: Fitting smooth spline to order 131 | {\"filename\": \"lscnrs01-fl09-20180313-lampflat-bin1x1-011.fits\", \"site\": \"lsc\", \"instrument\": \"nres01\", \"epoch\": \"20180313\", \"request_num\": \"UNSPECIFIED\", \"obstype\": \"LAMPFLAT\", \"filter\": null, \"processName\": \"MainProcess\"}\n",
      "2020-05-21 10:56:54.106     INFO:          traces: Fitting smooth spline to order 132 | {\"filename\": \"lscnrs01-fl09-20180313-lampflat-bin1x1-011.fits\", \"site\": \"lsc\", \"instrument\": \"nres01\", \"epoch\": \"20180313\", \"request_num\": \"UNSPECIFIED\", \"obstype\": \"LAMPFLAT\", \"filter\": null, \"processName\": \"MainProcess\"}\n",
      "2020-05-21 10:56:54.429     INFO:          traces: Fitting smooth spline to order 133 | {\"filename\": \"lscnrs01-fl09-20180313-lampflat-bin1x1-011.fits\", \"site\": \"lsc\", \"instrument\": \"nres01\", \"epoch\": \"20180313\", \"request_num\": \"UNSPECIFIED\", \"obstype\": \"LAMPFLAT\", \"filter\": null, \"processName\": \"MainProcess\"}\n",
      "2020-05-21 10:56:54.758     INFO:          traces: Fitting smooth spline to order 134 | {\"filename\": \"lscnrs01-fl09-20180313-lampflat-bin1x1-011.fits\", \"site\": \"lsc\", \"instrument\": \"nres01\", \"epoch\": \"20180313\", \"request_num\": \"UNSPECIFIED\", \"obstype\": \"LAMPFLAT\", \"filter\": null, \"processName\": \"MainProcess\"}\n",
      "2020-05-21 10:56:55.086     INFO:          traces: Fitting smooth spline to order 135 | {\"filename\": \"lscnrs01-fl09-20180313-lampflat-bin1x1-011.fits\", \"site\": \"lsc\", \"instrument\": \"nres01\", \"epoch\": \"20180313\", \"request_num\": \"UNSPECIFIED\", \"obstype\": \"LAMPFLAT\", \"filter\": null, \"processName\": \"MainProcess\"}\n",
      "2020-05-21 10:56:55.408     INFO:          traces: Fitting smooth spline to order 136 | {\"filename\": \"lscnrs01-fl09-20180313-lampflat-bin1x1-011.fits\", \"site\": \"lsc\", \"instrument\": \"nres01\", \"epoch\": \"20180313\", \"request_num\": \"UNSPECIFIED\", \"obstype\": \"LAMPFLAT\", \"filter\": null, \"processName\": \"MainProcess\"}\n",
      "2020-05-21 10:56:55.724     INFO:          traces: Fitting smooth spline to order 137 | {\"filename\": \"lscnrs01-fl09-20180313-lampflat-bin1x1-011.fits\", \"site\": \"lsc\", \"instrument\": \"nres01\", \"epoch\": \"20180313\", \"request_num\": \"UNSPECIFIED\", \"obstype\": \"LAMPFLAT\", \"filter\": null, \"processName\": \"MainProcess\"}\n",
      "2020-05-21 10:56:55.912     INFO:          stages: Running banzai.stages.TraceRefiner | {\"filename\": \"lscnrs01-fl09-20180313-lampflat-bin1x1-110.fits\", \"site\": \"lsc\", \"instrument\": \"nres01\", \"epoch\": \"20180313\", \"request_num\": \"UNSPECIFIED\", \"obstype\": \"LAMPFLAT\", \"filter\": null, \"processName\": \"MainProcess\"}\n",
      "2020-05-21 10:56:56.154     INFO:          traces: Fitting smooth spline to order 1 | {\"filename\": \"lscnrs01-fl09-20180313-lampflat-bin1x1-110.fits\", \"site\": \"lsc\", \"instrument\": \"nres01\", \"epoch\": \"20180313\", \"request_num\": \"UNSPECIFIED\", \"obstype\": \"LAMPFLAT\", \"filter\": null, \"processName\": \"MainProcess\"}\n",
      "2020-05-21 10:56:56.476     INFO:          traces: Fitting smooth spline to order 2 | {\"filename\": \"lscnrs01-fl09-20180313-lampflat-bin1x1-110.fits\", \"site\": \"lsc\", \"instrument\": \"nres01\", \"epoch\": \"20180313\", \"request_num\": \"UNSPECIFIED\", \"obstype\": \"LAMPFLAT\", \"filter\": null, \"processName\": \"MainProcess\"}\n",
      "2020-05-21 10:56:56.800     INFO:          traces: Fitting smooth spline to order 3 | {\"filename\": \"lscnrs01-fl09-20180313-lampflat-bin1x1-110.fits\", \"site\": \"lsc\", \"instrument\": \"nres01\", \"epoch\": \"20180313\", \"request_num\": \"UNSPECIFIED\", \"obstype\": \"LAMPFLAT\", \"filter\": null, \"processName\": \"MainProcess\"}\n",
      "2020-05-21 10:56:57.128     INFO:          traces: Fitting smooth spline to order 4 | {\"filename\": \"lscnrs01-fl09-20180313-lampflat-bin1x1-110.fits\", \"site\": \"lsc\", \"instrument\": \"nres01\", \"epoch\": \"20180313\", \"request_num\": \"UNSPECIFIED\", \"obstype\": \"LAMPFLAT\", \"filter\": null, \"processName\": \"MainProcess\"}\n",
      "2020-05-21 10:56:57.455     INFO:          traces: Fitting smooth spline to order 5 | {\"filename\": \"lscnrs01-fl09-20180313-lampflat-bin1x1-110.fits\", \"site\": \"lsc\", \"instrument\": \"nres01\", \"epoch\": \"20180313\", \"request_num\": \"UNSPECIFIED\", \"obstype\": \"LAMPFLAT\", \"filter\": null, \"processName\": \"MainProcess\"}\n",
      "2020-05-21 10:56:57.782     INFO:          traces: Fitting smooth spline to order 6 | {\"filename\": \"lscnrs01-fl09-20180313-lampflat-bin1x1-110.fits\", \"site\": \"lsc\", \"instrument\": \"nres01\", \"epoch\": \"20180313\", \"request_num\": \"UNSPECIFIED\", \"obstype\": \"LAMPFLAT\", \"filter\": null, \"processName\": \"MainProcess\"}\n",
      "2020-05-21 10:56:58.114     INFO:          traces: Fitting smooth spline to order 7 | {\"filename\": \"lscnrs01-fl09-20180313-lampflat-bin1x1-110.fits\", \"site\": \"lsc\", \"instrument\": \"nres01\", \"epoch\": \"20180313\", \"request_num\": \"UNSPECIFIED\", \"obstype\": \"LAMPFLAT\", \"filter\": null, \"processName\": \"MainProcess\"}\n",
      "2020-05-21 10:56:58.442     INFO:          traces: Fitting smooth spline to order 8 | {\"filename\": \"lscnrs01-fl09-20180313-lampflat-bin1x1-110.fits\", \"site\": \"lsc\", \"instrument\": \"nres01\", \"epoch\": \"20180313\", \"request_num\": \"UNSPECIFIED\", \"obstype\": \"LAMPFLAT\", \"filter\": null, \"processName\": \"MainProcess\"}\n",
      "2020-05-21 10:56:58.774     INFO:          traces: Fitting smooth spline to order 9 | {\"filename\": \"lscnrs01-fl09-20180313-lampflat-bin1x1-110.fits\", \"site\": \"lsc\", \"instrument\": \"nres01\", \"epoch\": \"20180313\", \"request_num\": \"UNSPECIFIED\", \"obstype\": \"LAMPFLAT\", \"filter\": null, \"processName\": \"MainProcess\"}\n",
      "2020-05-21 10:56:59.103     INFO:          traces: Fitting smooth spline to order 10 | {\"filename\": \"lscnrs01-fl09-20180313-lampflat-bin1x1-110.fits\", \"site\": \"lsc\", \"instrument\": \"nres01\", \"epoch\": \"20180313\", \"request_num\": \"UNSPECIFIED\", \"obstype\": \"LAMPFLAT\", \"filter\": null, \"processName\": \"MainProcess\"}\n",
      "2020-05-21 10:56:59.431     INFO:          traces: Fitting smooth spline to order 11 | {\"filename\": \"lscnrs01-fl09-20180313-lampflat-bin1x1-110.fits\", \"site\": \"lsc\", \"instrument\": \"nres01\", \"epoch\": \"20180313\", \"request_num\": \"UNSPECIFIED\", \"obstype\": \"LAMPFLAT\", \"filter\": null, \"processName\": \"MainProcess\"}\n",
      "2020-05-21 10:56:59.760     INFO:          traces: Fitting smooth spline to order 12 | {\"filename\": \"lscnrs01-fl09-20180313-lampflat-bin1x1-110.fits\", \"site\": \"lsc\", \"instrument\": \"nres01\", \"epoch\": \"20180313\", \"request_num\": \"UNSPECIFIED\", \"obstype\": \"LAMPFLAT\", \"filter\": null, \"processName\": \"MainProcess\"}\n",
      "2020-05-21 10:57:00.089     INFO:          traces: Fitting smooth spline to order 13 | {\"filename\": \"lscnrs01-fl09-20180313-lampflat-bin1x1-110.fits\", \"site\": \"lsc\", \"instrument\": \"nres01\", \"epoch\": \"20180313\", \"request_num\": \"UNSPECIFIED\", \"obstype\": \"LAMPFLAT\", \"filter\": null, \"processName\": \"MainProcess\"}\n"
     ]
    },
    {
     "name": "stdout",
     "output_type": "stream",
     "text": [
      "2020-05-21 10:57:00.415     INFO:          traces: Fitting smooth spline to order 14 | {\"filename\": \"lscnrs01-fl09-20180313-lampflat-bin1x1-110.fits\", \"site\": \"lsc\", \"instrument\": \"nres01\", \"epoch\": \"20180313\", \"request_num\": \"UNSPECIFIED\", \"obstype\": \"LAMPFLAT\", \"filter\": null, \"processName\": \"MainProcess\"}\n",
      "2020-05-21 10:57:00.742     INFO:          traces: Fitting smooth spline to order 15 | {\"filename\": \"lscnrs01-fl09-20180313-lampflat-bin1x1-110.fits\", \"site\": \"lsc\", \"instrument\": \"nres01\", \"epoch\": \"20180313\", \"request_num\": \"UNSPECIFIED\", \"obstype\": \"LAMPFLAT\", \"filter\": null, \"processName\": \"MainProcess\"}\n",
      "2020-05-21 10:57:01.073     INFO:          traces: Fitting smooth spline to order 16 | {\"filename\": \"lscnrs01-fl09-20180313-lampflat-bin1x1-110.fits\", \"site\": \"lsc\", \"instrument\": \"nres01\", \"epoch\": \"20180313\", \"request_num\": \"UNSPECIFIED\", \"obstype\": \"LAMPFLAT\", \"filter\": null, \"processName\": \"MainProcess\"}\n",
      "2020-05-21 10:57:01.401     INFO:          traces: Fitting smooth spline to order 17 | {\"filename\": \"lscnrs01-fl09-20180313-lampflat-bin1x1-110.fits\", \"site\": \"lsc\", \"instrument\": \"nres01\", \"epoch\": \"20180313\", \"request_num\": \"UNSPECIFIED\", \"obstype\": \"LAMPFLAT\", \"filter\": null, \"processName\": \"MainProcess\"}\n",
      "2020-05-21 10:57:01.725     INFO:          traces: Fitting smooth spline to order 18 | {\"filename\": \"lscnrs01-fl09-20180313-lampflat-bin1x1-110.fits\", \"site\": \"lsc\", \"instrument\": \"nres01\", \"epoch\": \"20180313\", \"request_num\": \"UNSPECIFIED\", \"obstype\": \"LAMPFLAT\", \"filter\": null, \"processName\": \"MainProcess\"}\n",
      "2020-05-21 10:57:02.051     INFO:          traces: Fitting smooth spline to order 19 | {\"filename\": \"lscnrs01-fl09-20180313-lampflat-bin1x1-110.fits\", \"site\": \"lsc\", \"instrument\": \"nres01\", \"epoch\": \"20180313\", \"request_num\": \"UNSPECIFIED\", \"obstype\": \"LAMPFLAT\", \"filter\": null, \"processName\": \"MainProcess\"}\n",
      "2020-05-21 10:57:02.374     INFO:          traces: Fitting smooth spline to order 20 | {\"filename\": \"lscnrs01-fl09-20180313-lampflat-bin1x1-110.fits\", \"site\": \"lsc\", \"instrument\": \"nres01\", \"epoch\": \"20180313\", \"request_num\": \"UNSPECIFIED\", \"obstype\": \"LAMPFLAT\", \"filter\": null, \"processName\": \"MainProcess\"}\n",
      "2020-05-21 10:57:02.698     INFO:          traces: Fitting smooth spline to order 21 | {\"filename\": \"lscnrs01-fl09-20180313-lampflat-bin1x1-110.fits\", \"site\": \"lsc\", \"instrument\": \"nres01\", \"epoch\": \"20180313\", \"request_num\": \"UNSPECIFIED\", \"obstype\": \"LAMPFLAT\", \"filter\": null, \"processName\": \"MainProcess\"}\n",
      "2020-05-21 10:57:03.020     INFO:          traces: Fitting smooth spline to order 22 | {\"filename\": \"lscnrs01-fl09-20180313-lampflat-bin1x1-110.fits\", \"site\": \"lsc\", \"instrument\": \"nres01\", \"epoch\": \"20180313\", \"request_num\": \"UNSPECIFIED\", \"obstype\": \"LAMPFLAT\", \"filter\": null, \"processName\": \"MainProcess\"}\n",
      "2020-05-21 10:57:03.346     INFO:          traces: Fitting smooth spline to order 23 | {\"filename\": \"lscnrs01-fl09-20180313-lampflat-bin1x1-110.fits\", \"site\": \"lsc\", \"instrument\": \"nres01\", \"epoch\": \"20180313\", \"request_num\": \"UNSPECIFIED\", \"obstype\": \"LAMPFLAT\", \"filter\": null, \"processName\": \"MainProcess\"}\n",
      "2020-05-21 10:57:03.678     INFO:          traces: Fitting smooth spline to order 24 | {\"filename\": \"lscnrs01-fl09-20180313-lampflat-bin1x1-110.fits\", \"site\": \"lsc\", \"instrument\": \"nres01\", \"epoch\": \"20180313\", \"request_num\": \"UNSPECIFIED\", \"obstype\": \"LAMPFLAT\", \"filter\": null, \"processName\": \"MainProcess\"}\n",
      "2020-05-21 10:57:04.021     INFO:          traces: Fitting smooth spline to order 25 | {\"filename\": \"lscnrs01-fl09-20180313-lampflat-bin1x1-110.fits\", \"site\": \"lsc\", \"instrument\": \"nres01\", \"epoch\": \"20180313\", \"request_num\": \"UNSPECIFIED\", \"obstype\": \"LAMPFLAT\", \"filter\": null, \"processName\": \"MainProcess\"}\n",
      "2020-05-21 10:57:04.349     INFO:          traces: Fitting smooth spline to order 26 | {\"filename\": \"lscnrs01-fl09-20180313-lampflat-bin1x1-110.fits\", \"site\": \"lsc\", \"instrument\": \"nres01\", \"epoch\": \"20180313\", \"request_num\": \"UNSPECIFIED\", \"obstype\": \"LAMPFLAT\", \"filter\": null, \"processName\": \"MainProcess\"}\n",
      "2020-05-21 10:57:04.676     INFO:          traces: Fitting smooth spline to order 27 | {\"filename\": \"lscnrs01-fl09-20180313-lampflat-bin1x1-110.fits\", \"site\": \"lsc\", \"instrument\": \"nres01\", \"epoch\": \"20180313\", \"request_num\": \"UNSPECIFIED\", \"obstype\": \"LAMPFLAT\", \"filter\": null, \"processName\": \"MainProcess\"}\n",
      "2020-05-21 10:57:05.003     INFO:          traces: Fitting smooth spline to order 28 | {\"filename\": \"lscnrs01-fl09-20180313-lampflat-bin1x1-110.fits\", \"site\": \"lsc\", \"instrument\": \"nres01\", \"epoch\": \"20180313\", \"request_num\": \"UNSPECIFIED\", \"obstype\": \"LAMPFLAT\", \"filter\": null, \"processName\": \"MainProcess\"}\n",
      "2020-05-21 10:57:05.329     INFO:          traces: Fitting smooth spline to order 29 | {\"filename\": \"lscnrs01-fl09-20180313-lampflat-bin1x1-110.fits\", \"site\": \"lsc\", \"instrument\": \"nres01\", \"epoch\": \"20180313\", \"request_num\": \"UNSPECIFIED\", \"obstype\": \"LAMPFLAT\", \"filter\": null, \"processName\": \"MainProcess\"}\n",
      "2020-05-21 10:57:05.651     INFO:          traces: Fitting smooth spline to order 30 | {\"filename\": \"lscnrs01-fl09-20180313-lampflat-bin1x1-110.fits\", \"site\": \"lsc\", \"instrument\": \"nres01\", \"epoch\": \"20180313\", \"request_num\": \"UNSPECIFIED\", \"obstype\": \"LAMPFLAT\", \"filter\": null, \"processName\": \"MainProcess\"}\n",
      "2020-05-21 10:57:05.976     INFO:          traces: Fitting smooth spline to order 31 | {\"filename\": \"lscnrs01-fl09-20180313-lampflat-bin1x1-110.fits\", \"site\": \"lsc\", \"instrument\": \"nres01\", \"epoch\": \"20180313\", \"request_num\": \"UNSPECIFIED\", \"obstype\": \"LAMPFLAT\", \"filter\": null, \"processName\": \"MainProcess\"}\n",
      "2020-05-21 10:57:06.305     INFO:          traces: Fitting smooth spline to order 32 | {\"filename\": \"lscnrs01-fl09-20180313-lampflat-bin1x1-110.fits\", \"site\": \"lsc\", \"instrument\": \"nres01\", \"epoch\": \"20180313\", \"request_num\": \"UNSPECIFIED\", \"obstype\": \"LAMPFLAT\", \"filter\": null, \"processName\": \"MainProcess\"}\n",
      "2020-05-21 10:57:06.642     INFO:          traces: Fitting smooth spline to order 33 | {\"filename\": \"lscnrs01-fl09-20180313-lampflat-bin1x1-110.fits\", \"site\": \"lsc\", \"instrument\": \"nres01\", \"epoch\": \"20180313\", \"request_num\": \"UNSPECIFIED\", \"obstype\": \"LAMPFLAT\", \"filter\": null, \"processName\": \"MainProcess\"}\n",
      "2020-05-21 10:57:06.978     INFO:          traces: Fitting smooth spline to order 34 | {\"filename\": \"lscnrs01-fl09-20180313-lampflat-bin1x1-110.fits\", \"site\": \"lsc\", \"instrument\": \"nres01\", \"epoch\": \"20180313\", \"request_num\": \"UNSPECIFIED\", \"obstype\": \"LAMPFLAT\", \"filter\": null, \"processName\": \"MainProcess\"}\n",
      "2020-05-21 10:57:07.305     INFO:          traces: Fitting smooth spline to order 35 | {\"filename\": \"lscnrs01-fl09-20180313-lampflat-bin1x1-110.fits\", \"site\": \"lsc\", \"instrument\": \"nres01\", \"epoch\": \"20180313\", \"request_num\": \"UNSPECIFIED\", \"obstype\": \"LAMPFLAT\", \"filter\": null, \"processName\": \"MainProcess\"}\n",
      "2020-05-21 10:57:07.632     INFO:          traces: Fitting smooth spline to order 36 | {\"filename\": \"lscnrs01-fl09-20180313-lampflat-bin1x1-110.fits\", \"site\": \"lsc\", \"instrument\": \"nres01\", \"epoch\": \"20180313\", \"request_num\": \"UNSPECIFIED\", \"obstype\": \"LAMPFLAT\", \"filter\": null, \"processName\": \"MainProcess\"}\n",
      "2020-05-21 10:57:07.958     INFO:          traces: Fitting smooth spline to order 37 | {\"filename\": \"lscnrs01-fl09-20180313-lampflat-bin1x1-110.fits\", \"site\": \"lsc\", \"instrument\": \"nres01\", \"epoch\": \"20180313\", \"request_num\": \"UNSPECIFIED\", \"obstype\": \"LAMPFLAT\", \"filter\": null, \"processName\": \"MainProcess\"}\n",
      "2020-05-21 10:57:08.280     INFO:          traces: Fitting smooth spline to order 38 | {\"filename\": \"lscnrs01-fl09-20180313-lampflat-bin1x1-110.fits\", \"site\": \"lsc\", \"instrument\": \"nres01\", \"epoch\": \"20180313\", \"request_num\": \"UNSPECIFIED\", \"obstype\": \"LAMPFLAT\", \"filter\": null, \"processName\": \"MainProcess\"}\n",
      "2020-05-21 10:57:08.602     INFO:          traces: Fitting smooth spline to order 39 | {\"filename\": \"lscnrs01-fl09-20180313-lampflat-bin1x1-110.fits\", \"site\": \"lsc\", \"instrument\": \"nres01\", \"epoch\": \"20180313\", \"request_num\": \"UNSPECIFIED\", \"obstype\": \"LAMPFLAT\", \"filter\": null, \"processName\": \"MainProcess\"}\n",
      "2020-05-21 10:57:08.923     INFO:          traces: Fitting smooth spline to order 40 | {\"filename\": \"lscnrs01-fl09-20180313-lampflat-bin1x1-110.fits\", \"site\": \"lsc\", \"instrument\": \"nres01\", \"epoch\": \"20180313\", \"request_num\": \"UNSPECIFIED\", \"obstype\": \"LAMPFLAT\", \"filter\": null, \"processName\": \"MainProcess\"}\n"
     ]
    },
    {
     "name": "stdout",
     "output_type": "stream",
     "text": [
      "2020-05-21 10:57:09.252     INFO:          traces: Fitting smooth spline to order 41 | {\"filename\": \"lscnrs01-fl09-20180313-lampflat-bin1x1-110.fits\", \"site\": \"lsc\", \"instrument\": \"nres01\", \"epoch\": \"20180313\", \"request_num\": \"UNSPECIFIED\", \"obstype\": \"LAMPFLAT\", \"filter\": null, \"processName\": \"MainProcess\"}\n",
      "2020-05-21 10:57:09.582     INFO:          traces: Fitting smooth spline to order 42 | {\"filename\": \"lscnrs01-fl09-20180313-lampflat-bin1x1-110.fits\", \"site\": \"lsc\", \"instrument\": \"nres01\", \"epoch\": \"20180313\", \"request_num\": \"UNSPECIFIED\", \"obstype\": \"LAMPFLAT\", \"filter\": null, \"processName\": \"MainProcess\"}\n",
      "2020-05-21 10:57:09.911     INFO:          traces: Fitting smooth spline to order 43 | {\"filename\": \"lscnrs01-fl09-20180313-lampflat-bin1x1-110.fits\", \"site\": \"lsc\", \"instrument\": \"nres01\", \"epoch\": \"20180313\", \"request_num\": \"UNSPECIFIED\", \"obstype\": \"LAMPFLAT\", \"filter\": null, \"processName\": \"MainProcess\"}\n",
      "2020-05-21 10:57:10.262     INFO:          traces: Fitting smooth spline to order 44 | {\"filename\": \"lscnrs01-fl09-20180313-lampflat-bin1x1-110.fits\", \"site\": \"lsc\", \"instrument\": \"nres01\", \"epoch\": \"20180313\", \"request_num\": \"UNSPECIFIED\", \"obstype\": \"LAMPFLAT\", \"filter\": null, \"processName\": \"MainProcess\"}\n",
      "2020-05-21 10:57:10.601     INFO:          traces: Fitting smooth spline to order 45 | {\"filename\": \"lscnrs01-fl09-20180313-lampflat-bin1x1-110.fits\", \"site\": \"lsc\", \"instrument\": \"nres01\", \"epoch\": \"20180313\", \"request_num\": \"UNSPECIFIED\", \"obstype\": \"LAMPFLAT\", \"filter\": null, \"processName\": \"MainProcess\"}\n",
      "2020-05-21 10:57:10.954     INFO:          traces: Fitting smooth spline to order 46 | {\"filename\": \"lscnrs01-fl09-20180313-lampflat-bin1x1-110.fits\", \"site\": \"lsc\", \"instrument\": \"nres01\", \"epoch\": \"20180313\", \"request_num\": \"UNSPECIFIED\", \"obstype\": \"LAMPFLAT\", \"filter\": null, \"processName\": \"MainProcess\"}\n",
      "2020-05-21 10:57:11.288     INFO:          traces: Fitting smooth spline to order 47 | {\"filename\": \"lscnrs01-fl09-20180313-lampflat-bin1x1-110.fits\", \"site\": \"lsc\", \"instrument\": \"nres01\", \"epoch\": \"20180313\", \"request_num\": \"UNSPECIFIED\", \"obstype\": \"LAMPFLAT\", \"filter\": null, \"processName\": \"MainProcess\"}\n",
      "2020-05-21 10:57:11.615     INFO:          traces: Fitting smooth spline to order 48 | {\"filename\": \"lscnrs01-fl09-20180313-lampflat-bin1x1-110.fits\", \"site\": \"lsc\", \"instrument\": \"nres01\", \"epoch\": \"20180313\", \"request_num\": \"UNSPECIFIED\", \"obstype\": \"LAMPFLAT\", \"filter\": null, \"processName\": \"MainProcess\"}\n",
      "2020-05-21 10:57:11.947     INFO:          traces: Fitting smooth spline to order 49 | {\"filename\": \"lscnrs01-fl09-20180313-lampflat-bin1x1-110.fits\", \"site\": \"lsc\", \"instrument\": \"nres01\", \"epoch\": \"20180313\", \"request_num\": \"UNSPECIFIED\", \"obstype\": \"LAMPFLAT\", \"filter\": null, \"processName\": \"MainProcess\"}\n",
      "2020-05-21 10:57:12.274     INFO:          traces: Fitting smooth spline to order 50 | {\"filename\": \"lscnrs01-fl09-20180313-lampflat-bin1x1-110.fits\", \"site\": \"lsc\", \"instrument\": \"nres01\", \"epoch\": \"20180313\", \"request_num\": \"UNSPECIFIED\", \"obstype\": \"LAMPFLAT\", \"filter\": null, \"processName\": \"MainProcess\"}\n",
      "2020-05-21 10:57:12.599     INFO:          traces: Fitting smooth spline to order 51 | {\"filename\": \"lscnrs01-fl09-20180313-lampflat-bin1x1-110.fits\", \"site\": \"lsc\", \"instrument\": \"nres01\", \"epoch\": \"20180313\", \"request_num\": \"UNSPECIFIED\", \"obstype\": \"LAMPFLAT\", \"filter\": null, \"processName\": \"MainProcess\"}\n",
      "2020-05-21 10:57:12.925     INFO:          traces: Fitting smooth spline to order 52 | {\"filename\": \"lscnrs01-fl09-20180313-lampflat-bin1x1-110.fits\", \"site\": \"lsc\", \"instrument\": \"nres01\", \"epoch\": \"20180313\", \"request_num\": \"UNSPECIFIED\", \"obstype\": \"LAMPFLAT\", \"filter\": null, \"processName\": \"MainProcess\"}\n",
      "2020-05-21 10:57:13.252     INFO:          traces: Fitting smooth spline to order 53 | {\"filename\": \"lscnrs01-fl09-20180313-lampflat-bin1x1-110.fits\", \"site\": \"lsc\", \"instrument\": \"nres01\", \"epoch\": \"20180313\", \"request_num\": \"UNSPECIFIED\", \"obstype\": \"LAMPFLAT\", \"filter\": null, \"processName\": \"MainProcess\"}\n",
      "2020-05-21 10:57:13.578     INFO:          traces: Fitting smooth spline to order 54 | {\"filename\": \"lscnrs01-fl09-20180313-lampflat-bin1x1-110.fits\", \"site\": \"lsc\", \"instrument\": \"nres01\", \"epoch\": \"20180313\", \"request_num\": \"UNSPECIFIED\", \"obstype\": \"LAMPFLAT\", \"filter\": null, \"processName\": \"MainProcess\"}\n",
      "2020-05-21 10:57:13.906     INFO:          traces: Fitting smooth spline to order 55 | {\"filename\": \"lscnrs01-fl09-20180313-lampflat-bin1x1-110.fits\", \"site\": \"lsc\", \"instrument\": \"nres01\", \"epoch\": \"20180313\", \"request_num\": \"UNSPECIFIED\", \"obstype\": \"LAMPFLAT\", \"filter\": null, \"processName\": \"MainProcess\"}\n",
      "2020-05-21 10:57:14.241     INFO:          traces: Fitting smooth spline to order 56 | {\"filename\": \"lscnrs01-fl09-20180313-lampflat-bin1x1-110.fits\", \"site\": \"lsc\", \"instrument\": \"nres01\", \"epoch\": \"20180313\", \"request_num\": \"UNSPECIFIED\", \"obstype\": \"LAMPFLAT\", \"filter\": null, \"processName\": \"MainProcess\"}\n",
      "2020-05-21 10:57:14.568     INFO:          traces: Fitting smooth spline to order 57 | {\"filename\": \"lscnrs01-fl09-20180313-lampflat-bin1x1-110.fits\", \"site\": \"lsc\", \"instrument\": \"nres01\", \"epoch\": \"20180313\", \"request_num\": \"UNSPECIFIED\", \"obstype\": \"LAMPFLAT\", \"filter\": null, \"processName\": \"MainProcess\"}\n",
      "2020-05-21 10:57:14.891     INFO:          traces: Fitting smooth spline to order 58 | {\"filename\": \"lscnrs01-fl09-20180313-lampflat-bin1x1-110.fits\", \"site\": \"lsc\", \"instrument\": \"nres01\", \"epoch\": \"20180313\", \"request_num\": \"UNSPECIFIED\", \"obstype\": \"LAMPFLAT\", \"filter\": null, \"processName\": \"MainProcess\"}\n",
      "2020-05-21 10:57:15.225     INFO:          traces: Fitting smooth spline to order 59 | {\"filename\": \"lscnrs01-fl09-20180313-lampflat-bin1x1-110.fits\", \"site\": \"lsc\", \"instrument\": \"nres01\", \"epoch\": \"20180313\", \"request_num\": \"UNSPECIFIED\", \"obstype\": \"LAMPFLAT\", \"filter\": null, \"processName\": \"MainProcess\"}\n",
      "2020-05-21 10:57:15.581     INFO:          traces: Fitting smooth spline to order 60 | {\"filename\": \"lscnrs01-fl09-20180313-lampflat-bin1x1-110.fits\", \"site\": \"lsc\", \"instrument\": \"nres01\", \"epoch\": \"20180313\", \"request_num\": \"UNSPECIFIED\", \"obstype\": \"LAMPFLAT\", \"filter\": null, \"processName\": \"MainProcess\"}\n",
      "2020-05-21 10:57:15.910     INFO:          traces: Fitting smooth spline to order 61 | {\"filename\": \"lscnrs01-fl09-20180313-lampflat-bin1x1-110.fits\", \"site\": \"lsc\", \"instrument\": \"nres01\", \"epoch\": \"20180313\", \"request_num\": \"UNSPECIFIED\", \"obstype\": \"LAMPFLAT\", \"filter\": null, \"processName\": \"MainProcess\"}\n",
      "2020-05-21 10:57:16.233     INFO:          traces: Fitting smooth spline to order 62 | {\"filename\": \"lscnrs01-fl09-20180313-lampflat-bin1x1-110.fits\", \"site\": \"lsc\", \"instrument\": \"nres01\", \"epoch\": \"20180313\", \"request_num\": \"UNSPECIFIED\", \"obstype\": \"LAMPFLAT\", \"filter\": null, \"processName\": \"MainProcess\"}\n",
      "2020-05-21 10:57:16.555     INFO:          traces: Fitting smooth spline to order 63 | {\"filename\": \"lscnrs01-fl09-20180313-lampflat-bin1x1-110.fits\", \"site\": \"lsc\", \"instrument\": \"nres01\", \"epoch\": \"20180313\", \"request_num\": \"UNSPECIFIED\", \"obstype\": \"LAMPFLAT\", \"filter\": null, \"processName\": \"MainProcess\"}\n",
      "2020-05-21 10:57:16.879     INFO:          traces: Fitting smooth spline to order 64 | {\"filename\": \"lscnrs01-fl09-20180313-lampflat-bin1x1-110.fits\", \"site\": \"lsc\", \"instrument\": \"nres01\", \"epoch\": \"20180313\", \"request_num\": \"UNSPECIFIED\", \"obstype\": \"LAMPFLAT\", \"filter\": null, \"processName\": \"MainProcess\"}\n",
      "2020-05-21 10:57:17.214     INFO:          traces: Fitting smooth spline to order 65 | {\"filename\": \"lscnrs01-fl09-20180313-lampflat-bin1x1-110.fits\", \"site\": \"lsc\", \"instrument\": \"nres01\", \"epoch\": \"20180313\", \"request_num\": \"UNSPECIFIED\", \"obstype\": \"LAMPFLAT\", \"filter\": null, \"processName\": \"MainProcess\"}\n",
      "2020-05-21 10:57:17.549     INFO:          traces: Fitting smooth spline to order 66 | {\"filename\": \"lscnrs01-fl09-20180313-lampflat-bin1x1-110.fits\", \"site\": \"lsc\", \"instrument\": \"nres01\", \"epoch\": \"20180313\", \"request_num\": \"UNSPECIFIED\", \"obstype\": \"LAMPFLAT\", \"filter\": null, \"processName\": \"MainProcess\"}\n",
      "2020-05-21 10:57:17.891     INFO:          traces: Fitting smooth spline to order 67 | {\"filename\": \"lscnrs01-fl09-20180313-lampflat-bin1x1-110.fits\", \"site\": \"lsc\", \"instrument\": \"nres01\", \"epoch\": \"20180313\", \"request_num\": \"UNSPECIFIED\", \"obstype\": \"LAMPFLAT\", \"filter\": null, \"processName\": \"MainProcess\"}\n"
     ]
    },
    {
     "name": "stdout",
     "output_type": "stream",
     "text": [
      "2020-05-21 10:57:18.223     INFO:          traces: Fitting smooth spline to order 68 | {\"filename\": \"lscnrs01-fl09-20180313-lampflat-bin1x1-110.fits\", \"site\": \"lsc\", \"instrument\": \"nres01\", \"epoch\": \"20180313\", \"request_num\": \"UNSPECIFIED\", \"obstype\": \"LAMPFLAT\", \"filter\": null, \"processName\": \"MainProcess\"}\n",
      "2020-05-21 10:57:18.549     INFO:          traces: Fitting smooth spline to order 69 | {\"filename\": \"lscnrs01-fl09-20180313-lampflat-bin1x1-110.fits\", \"site\": \"lsc\", \"instrument\": \"nres01\", \"epoch\": \"20180313\", \"request_num\": \"UNSPECIFIED\", \"obstype\": \"LAMPFLAT\", \"filter\": null, \"processName\": \"MainProcess\"}\n",
      "2020-05-21 10:57:18.870     INFO:          traces: Fitting smooth spline to order 70 | {\"filename\": \"lscnrs01-fl09-20180313-lampflat-bin1x1-110.fits\", \"site\": \"lsc\", \"instrument\": \"nres01\", \"epoch\": \"20180313\", \"request_num\": \"UNSPECIFIED\", \"obstype\": \"LAMPFLAT\", \"filter\": null, \"processName\": \"MainProcess\"}\n",
      "2020-05-21 10:57:19.194     INFO:          traces: Fitting smooth spline to order 71 | {\"filename\": \"lscnrs01-fl09-20180313-lampflat-bin1x1-110.fits\", \"site\": \"lsc\", \"instrument\": \"nres01\", \"epoch\": \"20180313\", \"request_num\": \"UNSPECIFIED\", \"obstype\": \"LAMPFLAT\", \"filter\": null, \"processName\": \"MainProcess\"}\n",
      "2020-05-21 10:57:19.514     INFO:          traces: Fitting smooth spline to order 72 | {\"filename\": \"lscnrs01-fl09-20180313-lampflat-bin1x1-110.fits\", \"site\": \"lsc\", \"instrument\": \"nres01\", \"epoch\": \"20180313\", \"request_num\": \"UNSPECIFIED\", \"obstype\": \"LAMPFLAT\", \"filter\": null, \"processName\": \"MainProcess\"}\n",
      "2020-05-21 10:57:19.837     INFO:          traces: Fitting smooth spline to order 73 | {\"filename\": \"lscnrs01-fl09-20180313-lampflat-bin1x1-110.fits\", \"site\": \"lsc\", \"instrument\": \"nres01\", \"epoch\": \"20180313\", \"request_num\": \"UNSPECIFIED\", \"obstype\": \"LAMPFLAT\", \"filter\": null, \"processName\": \"MainProcess\"}\n",
      "2020-05-21 10:57:20.160     INFO:          traces: Fitting smooth spline to order 74 | {\"filename\": \"lscnrs01-fl09-20180313-lampflat-bin1x1-110.fits\", \"site\": \"lsc\", \"instrument\": \"nres01\", \"epoch\": \"20180313\", \"request_num\": \"UNSPECIFIED\", \"obstype\": \"LAMPFLAT\", \"filter\": null, \"processName\": \"MainProcess\"}\n",
      "2020-05-21 10:57:20.481     INFO:          traces: Fitting smooth spline to order 75 | {\"filename\": \"lscnrs01-fl09-20180313-lampflat-bin1x1-110.fits\", \"site\": \"lsc\", \"instrument\": \"nres01\", \"epoch\": \"20180313\", \"request_num\": \"UNSPECIFIED\", \"obstype\": \"LAMPFLAT\", \"filter\": null, \"processName\": \"MainProcess\"}\n",
      "2020-05-21 10:57:20.802     INFO:          traces: Fitting smooth spline to order 76 | {\"filename\": \"lscnrs01-fl09-20180313-lampflat-bin1x1-110.fits\", \"site\": \"lsc\", \"instrument\": \"nres01\", \"epoch\": \"20180313\", \"request_num\": \"UNSPECIFIED\", \"obstype\": \"LAMPFLAT\", \"filter\": null, \"processName\": \"MainProcess\"}\n",
      "2020-05-21 10:57:21.125     INFO:          traces: Fitting smooth spline to order 77 | {\"filename\": \"lscnrs01-fl09-20180313-lampflat-bin1x1-110.fits\", \"site\": \"lsc\", \"instrument\": \"nres01\", \"epoch\": \"20180313\", \"request_num\": \"UNSPECIFIED\", \"obstype\": \"LAMPFLAT\", \"filter\": null, \"processName\": \"MainProcess\"}\n",
      "2020-05-21 10:57:21.446     INFO:          traces: Fitting smooth spline to order 78 | {\"filename\": \"lscnrs01-fl09-20180313-lampflat-bin1x1-110.fits\", \"site\": \"lsc\", \"instrument\": \"nres01\", \"epoch\": \"20180313\", \"request_num\": \"UNSPECIFIED\", \"obstype\": \"LAMPFLAT\", \"filter\": null, \"processName\": \"MainProcess\"}\n",
      "2020-05-21 10:57:21.776     INFO:          traces: Fitting smooth spline to order 79 | {\"filename\": \"lscnrs01-fl09-20180313-lampflat-bin1x1-110.fits\", \"site\": \"lsc\", \"instrument\": \"nres01\", \"epoch\": \"20180313\", \"request_num\": \"UNSPECIFIED\", \"obstype\": \"LAMPFLAT\", \"filter\": null, \"processName\": \"MainProcess\"}\n",
      "2020-05-21 10:57:22.101     INFO:          traces: Fitting smooth spline to order 80 | {\"filename\": \"lscnrs01-fl09-20180313-lampflat-bin1x1-110.fits\", \"site\": \"lsc\", \"instrument\": \"nres01\", \"epoch\": \"20180313\", \"request_num\": \"UNSPECIFIED\", \"obstype\": \"LAMPFLAT\", \"filter\": null, \"processName\": \"MainProcess\"}\n",
      "2020-05-21 10:57:22.424     INFO:          traces: Fitting smooth spline to order 81 | {\"filename\": \"lscnrs01-fl09-20180313-lampflat-bin1x1-110.fits\", \"site\": \"lsc\", \"instrument\": \"nres01\", \"epoch\": \"20180313\", \"request_num\": \"UNSPECIFIED\", \"obstype\": \"LAMPFLAT\", \"filter\": null, \"processName\": \"MainProcess\"}\n",
      "2020-05-21 10:57:22.757     INFO:          traces: Fitting smooth spline to order 82 | {\"filename\": \"lscnrs01-fl09-20180313-lampflat-bin1x1-110.fits\", \"site\": \"lsc\", \"instrument\": \"nres01\", \"epoch\": \"20180313\", \"request_num\": \"UNSPECIFIED\", \"obstype\": \"LAMPFLAT\", \"filter\": null, \"processName\": \"MainProcess\"}\n",
      "2020-05-21 10:57:23.081     INFO:          traces: Fitting smooth spline to order 83 | {\"filename\": \"lscnrs01-fl09-20180313-lampflat-bin1x1-110.fits\", \"site\": \"lsc\", \"instrument\": \"nres01\", \"epoch\": \"20180313\", \"request_num\": \"UNSPECIFIED\", \"obstype\": \"LAMPFLAT\", \"filter\": null, \"processName\": \"MainProcess\"}\n",
      "2020-05-21 10:57:23.405     INFO:          traces: Fitting smooth spline to order 84 | {\"filename\": \"lscnrs01-fl09-20180313-lampflat-bin1x1-110.fits\", \"site\": \"lsc\", \"instrument\": \"nres01\", \"epoch\": \"20180313\", \"request_num\": \"UNSPECIFIED\", \"obstype\": \"LAMPFLAT\", \"filter\": null, \"processName\": \"MainProcess\"}\n",
      "2020-05-21 10:57:23.729     INFO:          traces: Fitting smooth spline to order 85 | {\"filename\": \"lscnrs01-fl09-20180313-lampflat-bin1x1-110.fits\", \"site\": \"lsc\", \"instrument\": \"nres01\", \"epoch\": \"20180313\", \"request_num\": \"UNSPECIFIED\", \"obstype\": \"LAMPFLAT\", \"filter\": null, \"processName\": \"MainProcess\"}\n",
      "2020-05-21 10:57:24.054     INFO:          traces: Fitting smooth spline to order 86 | {\"filename\": \"lscnrs01-fl09-20180313-lampflat-bin1x1-110.fits\", \"site\": \"lsc\", \"instrument\": \"nres01\", \"epoch\": \"20180313\", \"request_num\": \"UNSPECIFIED\", \"obstype\": \"LAMPFLAT\", \"filter\": null, \"processName\": \"MainProcess\"}\n",
      "2020-05-21 10:57:24.378     INFO:          traces: Fitting smooth spline to order 87 | {\"filename\": \"lscnrs01-fl09-20180313-lampflat-bin1x1-110.fits\", \"site\": \"lsc\", \"instrument\": \"nres01\", \"epoch\": \"20180313\", \"request_num\": \"UNSPECIFIED\", \"obstype\": \"LAMPFLAT\", \"filter\": null, \"processName\": \"MainProcess\"}\n",
      "2020-05-21 10:57:24.702     INFO:          traces: Fitting smooth spline to order 88 | {\"filename\": \"lscnrs01-fl09-20180313-lampflat-bin1x1-110.fits\", \"site\": \"lsc\", \"instrument\": \"nres01\", \"epoch\": \"20180313\", \"request_num\": \"UNSPECIFIED\", \"obstype\": \"LAMPFLAT\", \"filter\": null, \"processName\": \"MainProcess\"}\n",
      "2020-05-21 10:57:25.027     INFO:          traces: Fitting smooth spline to order 89 | {\"filename\": \"lscnrs01-fl09-20180313-lampflat-bin1x1-110.fits\", \"site\": \"lsc\", \"instrument\": \"nres01\", \"epoch\": \"20180313\", \"request_num\": \"UNSPECIFIED\", \"obstype\": \"LAMPFLAT\", \"filter\": null, \"processName\": \"MainProcess\"}\n",
      "2020-05-21 10:57:25.352     INFO:          traces: Fitting smooth spline to order 90 | {\"filename\": \"lscnrs01-fl09-20180313-lampflat-bin1x1-110.fits\", \"site\": \"lsc\", \"instrument\": \"nres01\", \"epoch\": \"20180313\", \"request_num\": \"UNSPECIFIED\", \"obstype\": \"LAMPFLAT\", \"filter\": null, \"processName\": \"MainProcess\"}\n",
      "2020-05-21 10:57:25.675     INFO:          traces: Fitting smooth spline to order 91 | {\"filename\": \"lscnrs01-fl09-20180313-lampflat-bin1x1-110.fits\", \"site\": \"lsc\", \"instrument\": \"nres01\", \"epoch\": \"20180313\", \"request_num\": \"UNSPECIFIED\", \"obstype\": \"LAMPFLAT\", \"filter\": null, \"processName\": \"MainProcess\"}\n",
      "2020-05-21 10:57:25.999     INFO:          traces: Fitting smooth spline to order 92 | {\"filename\": \"lscnrs01-fl09-20180313-lampflat-bin1x1-110.fits\", \"site\": \"lsc\", \"instrument\": \"nres01\", \"epoch\": \"20180313\", \"request_num\": \"UNSPECIFIED\", \"obstype\": \"LAMPFLAT\", \"filter\": null, \"processName\": \"MainProcess\"}\n",
      "2020-05-21 10:57:26.322     INFO:          traces: Fitting smooth spline to order 93 | {\"filename\": \"lscnrs01-fl09-20180313-lampflat-bin1x1-110.fits\", \"site\": \"lsc\", \"instrument\": \"nres01\", \"epoch\": \"20180313\", \"request_num\": \"UNSPECIFIED\", \"obstype\": \"LAMPFLAT\", \"filter\": null, \"processName\": \"MainProcess\"}\n",
      "2020-05-21 10:57:26.645     INFO:          traces: Fitting smooth spline to order 94 | {\"filename\": \"lscnrs01-fl09-20180313-lampflat-bin1x1-110.fits\", \"site\": \"lsc\", \"instrument\": \"nres01\", \"epoch\": \"20180313\", \"request_num\": \"UNSPECIFIED\", \"obstype\": \"LAMPFLAT\", \"filter\": null, \"processName\": \"MainProcess\"}\n"
     ]
    },
    {
     "name": "stdout",
     "output_type": "stream",
     "text": [
      "2020-05-21 10:57:26.969     INFO:          traces: Fitting smooth spline to order 95 | {\"filename\": \"lscnrs01-fl09-20180313-lampflat-bin1x1-110.fits\", \"site\": \"lsc\", \"instrument\": \"nres01\", \"epoch\": \"20180313\", \"request_num\": \"UNSPECIFIED\", \"obstype\": \"LAMPFLAT\", \"filter\": null, \"processName\": \"MainProcess\"}\n",
      "2020-05-21 10:57:27.290     INFO:          traces: Fitting smooth spline to order 96 | {\"filename\": \"lscnrs01-fl09-20180313-lampflat-bin1x1-110.fits\", \"site\": \"lsc\", \"instrument\": \"nres01\", \"epoch\": \"20180313\", \"request_num\": \"UNSPECIFIED\", \"obstype\": \"LAMPFLAT\", \"filter\": null, \"processName\": \"MainProcess\"}\n",
      "2020-05-21 10:57:27.613     INFO:          traces: Fitting smooth spline to order 97 | {\"filename\": \"lscnrs01-fl09-20180313-lampflat-bin1x1-110.fits\", \"site\": \"lsc\", \"instrument\": \"nres01\", \"epoch\": \"20180313\", \"request_num\": \"UNSPECIFIED\", \"obstype\": \"LAMPFLAT\", \"filter\": null, \"processName\": \"MainProcess\"}\n",
      "2020-05-21 10:57:27.939     INFO:          traces: Fitting smooth spline to order 98 | {\"filename\": \"lscnrs01-fl09-20180313-lampflat-bin1x1-110.fits\", \"site\": \"lsc\", \"instrument\": \"nres01\", \"epoch\": \"20180313\", \"request_num\": \"UNSPECIFIED\", \"obstype\": \"LAMPFLAT\", \"filter\": null, \"processName\": \"MainProcess\"}\n",
      "2020-05-21 10:57:28.263     INFO:          traces: Fitting smooth spline to order 99 | {\"filename\": \"lscnrs01-fl09-20180313-lampflat-bin1x1-110.fits\", \"site\": \"lsc\", \"instrument\": \"nres01\", \"epoch\": \"20180313\", \"request_num\": \"UNSPECIFIED\", \"obstype\": \"LAMPFLAT\", \"filter\": null, \"processName\": \"MainProcess\"}\n",
      "2020-05-21 10:57:28.586     INFO:          traces: Fitting smooth spline to order 100 | {\"filename\": \"lscnrs01-fl09-20180313-lampflat-bin1x1-110.fits\", \"site\": \"lsc\", \"instrument\": \"nres01\", \"epoch\": \"20180313\", \"request_num\": \"UNSPECIFIED\", \"obstype\": \"LAMPFLAT\", \"filter\": null, \"processName\": \"MainProcess\"}\n",
      "2020-05-21 10:57:28.912     INFO:          traces: Fitting smooth spline to order 101 | {\"filename\": \"lscnrs01-fl09-20180313-lampflat-bin1x1-110.fits\", \"site\": \"lsc\", \"instrument\": \"nres01\", \"epoch\": \"20180313\", \"request_num\": \"UNSPECIFIED\", \"obstype\": \"LAMPFLAT\", \"filter\": null, \"processName\": \"MainProcess\"}\n",
      "2020-05-21 10:57:29.246     INFO:          traces: Fitting smooth spline to order 102 | {\"filename\": \"lscnrs01-fl09-20180313-lampflat-bin1x1-110.fits\", \"site\": \"lsc\", \"instrument\": \"nres01\", \"epoch\": \"20180313\", \"request_num\": \"UNSPECIFIED\", \"obstype\": \"LAMPFLAT\", \"filter\": null, \"processName\": \"MainProcess\"}\n",
      "2020-05-21 10:57:29.587     INFO:          traces: Fitting smooth spline to order 103 | {\"filename\": \"lscnrs01-fl09-20180313-lampflat-bin1x1-110.fits\", \"site\": \"lsc\", \"instrument\": \"nres01\", \"epoch\": \"20180313\", \"request_num\": \"UNSPECIFIED\", \"obstype\": \"LAMPFLAT\", \"filter\": null, \"processName\": \"MainProcess\"}\n",
      "2020-05-21 10:57:29.919     INFO:          traces: Fitting smooth spline to order 104 | {\"filename\": \"lscnrs01-fl09-20180313-lampflat-bin1x1-110.fits\", \"site\": \"lsc\", \"instrument\": \"nres01\", \"epoch\": \"20180313\", \"request_num\": \"UNSPECIFIED\", \"obstype\": \"LAMPFLAT\", \"filter\": null, \"processName\": \"MainProcess\"}\n",
      "2020-05-21 10:57:30.246     INFO:          traces: Fitting smooth spline to order 105 | {\"filename\": \"lscnrs01-fl09-20180313-lampflat-bin1x1-110.fits\", \"site\": \"lsc\", \"instrument\": \"nres01\", \"epoch\": \"20180313\", \"request_num\": \"UNSPECIFIED\", \"obstype\": \"LAMPFLAT\", \"filter\": null, \"processName\": \"MainProcess\"}\n",
      "2020-05-21 10:57:30.571     INFO:          traces: Fitting smooth spline to order 106 | {\"filename\": \"lscnrs01-fl09-20180313-lampflat-bin1x1-110.fits\", \"site\": \"lsc\", \"instrument\": \"nres01\", \"epoch\": \"20180313\", \"request_num\": \"UNSPECIFIED\", \"obstype\": \"LAMPFLAT\", \"filter\": null, \"processName\": \"MainProcess\"}\n",
      "2020-05-21 10:57:30.900     INFO:          traces: Fitting smooth spline to order 107 | {\"filename\": \"lscnrs01-fl09-20180313-lampflat-bin1x1-110.fits\", \"site\": \"lsc\", \"instrument\": \"nres01\", \"epoch\": \"20180313\", \"request_num\": \"UNSPECIFIED\", \"obstype\": \"LAMPFLAT\", \"filter\": null, \"processName\": \"MainProcess\"}\n",
      "2020-05-21 10:57:31.225     INFO:          traces: Fitting smooth spline to order 108 | {\"filename\": \"lscnrs01-fl09-20180313-lampflat-bin1x1-110.fits\", \"site\": \"lsc\", \"instrument\": \"nres01\", \"epoch\": \"20180313\", \"request_num\": \"UNSPECIFIED\", \"obstype\": \"LAMPFLAT\", \"filter\": null, \"processName\": \"MainProcess\"}\n",
      "2020-05-21 10:57:31.556     INFO:          traces: Fitting smooth spline to order 109 | {\"filename\": \"lscnrs01-fl09-20180313-lampflat-bin1x1-110.fits\", \"site\": \"lsc\", \"instrument\": \"nres01\", \"epoch\": \"20180313\", \"request_num\": \"UNSPECIFIED\", \"obstype\": \"LAMPFLAT\", \"filter\": null, \"processName\": \"MainProcess\"}\n",
      "2020-05-21 10:57:31.884     INFO:          traces: Fitting smooth spline to order 110 | {\"filename\": \"lscnrs01-fl09-20180313-lampflat-bin1x1-110.fits\", \"site\": \"lsc\", \"instrument\": \"nres01\", \"epoch\": \"20180313\", \"request_num\": \"UNSPECIFIED\", \"obstype\": \"LAMPFLAT\", \"filter\": null, \"processName\": \"MainProcess\"}\n",
      "2020-05-21 10:57:32.210     INFO:          traces: Fitting smooth spline to order 111 | {\"filename\": \"lscnrs01-fl09-20180313-lampflat-bin1x1-110.fits\", \"site\": \"lsc\", \"instrument\": \"nres01\", \"epoch\": \"20180313\", \"request_num\": \"UNSPECIFIED\", \"obstype\": \"LAMPFLAT\", \"filter\": null, \"processName\": \"MainProcess\"}\n",
      "2020-05-21 10:57:32.540     INFO:          traces: Fitting smooth spline to order 112 | {\"filename\": \"lscnrs01-fl09-20180313-lampflat-bin1x1-110.fits\", \"site\": \"lsc\", \"instrument\": \"nres01\", \"epoch\": \"20180313\", \"request_num\": \"UNSPECIFIED\", \"obstype\": \"LAMPFLAT\", \"filter\": null, \"processName\": \"MainProcess\"}\n",
      "2020-05-21 10:57:32.866     INFO:          traces: Fitting smooth spline to order 113 | {\"filename\": \"lscnrs01-fl09-20180313-lampflat-bin1x1-110.fits\", \"site\": \"lsc\", \"instrument\": \"nres01\", \"epoch\": \"20180313\", \"request_num\": \"UNSPECIFIED\", \"obstype\": \"LAMPFLAT\", \"filter\": null, \"processName\": \"MainProcess\"}\n",
      "2020-05-21 10:57:33.198     INFO:          traces: Fitting smooth spline to order 114 | {\"filename\": \"lscnrs01-fl09-20180313-lampflat-bin1x1-110.fits\", \"site\": \"lsc\", \"instrument\": \"nres01\", \"epoch\": \"20180313\", \"request_num\": \"UNSPECIFIED\", \"obstype\": \"LAMPFLAT\", \"filter\": null, \"processName\": \"MainProcess\"}\n",
      "2020-05-21 10:57:33.527     INFO:          traces: Fitting smooth spline to order 115 | {\"filename\": \"lscnrs01-fl09-20180313-lampflat-bin1x1-110.fits\", \"site\": \"lsc\", \"instrument\": \"nres01\", \"epoch\": \"20180313\", \"request_num\": \"UNSPECIFIED\", \"obstype\": \"LAMPFLAT\", \"filter\": null, \"processName\": \"MainProcess\"}\n",
      "2020-05-21 10:57:33.861     INFO:          traces: Fitting smooth spline to order 116 | {\"filename\": \"lscnrs01-fl09-20180313-lampflat-bin1x1-110.fits\", \"site\": \"lsc\", \"instrument\": \"nres01\", \"epoch\": \"20180313\", \"request_num\": \"UNSPECIFIED\", \"obstype\": \"LAMPFLAT\", \"filter\": null, \"processName\": \"MainProcess\"}\n",
      "2020-05-21 10:57:34.187     INFO:          traces: Fitting smooth spline to order 117 | {\"filename\": \"lscnrs01-fl09-20180313-lampflat-bin1x1-110.fits\", \"site\": \"lsc\", \"instrument\": \"nres01\", \"epoch\": \"20180313\", \"request_num\": \"UNSPECIFIED\", \"obstype\": \"LAMPFLAT\", \"filter\": null, \"processName\": \"MainProcess\"}\n",
      "2020-05-21 10:57:34.547     INFO:          traces: Fitting smooth spline to order 118 | {\"filename\": \"lscnrs01-fl09-20180313-lampflat-bin1x1-110.fits\", \"site\": \"lsc\", \"instrument\": \"nres01\", \"epoch\": \"20180313\", \"request_num\": \"UNSPECIFIED\", \"obstype\": \"LAMPFLAT\", \"filter\": null, \"processName\": \"MainProcess\"}\n",
      "2020-05-21 10:57:34.874     INFO:          traces: Fitting smooth spline to order 119 | {\"filename\": \"lscnrs01-fl09-20180313-lampflat-bin1x1-110.fits\", \"site\": \"lsc\", \"instrument\": \"nres01\", \"epoch\": \"20180313\", \"request_num\": \"UNSPECIFIED\", \"obstype\": \"LAMPFLAT\", \"filter\": null, \"processName\": \"MainProcess\"}\n",
      "2020-05-21 10:57:35.212     INFO:          traces: Fitting smooth spline to order 120 | {\"filename\": \"lscnrs01-fl09-20180313-lampflat-bin1x1-110.fits\", \"site\": \"lsc\", \"instrument\": \"nres01\", \"epoch\": \"20180313\", \"request_num\": \"UNSPECIFIED\", \"obstype\": \"LAMPFLAT\", \"filter\": null, \"processName\": \"MainProcess\"}\n",
      "2020-05-21 10:57:35.542     INFO:          traces: Fitting smooth spline to order 121 | {\"filename\": \"lscnrs01-fl09-20180313-lampflat-bin1x1-110.fits\", \"site\": \"lsc\", \"instrument\": \"nres01\", \"epoch\": \"20180313\", \"request_num\": \"UNSPECIFIED\", \"obstype\": \"LAMPFLAT\", \"filter\": null, \"processName\": \"MainProcess\"}\n"
     ]
    },
    {
     "name": "stdout",
     "output_type": "stream",
     "text": [
      "2020-05-21 10:57:35.867     INFO:          traces: Fitting smooth spline to order 122 | {\"filename\": \"lscnrs01-fl09-20180313-lampflat-bin1x1-110.fits\", \"site\": \"lsc\", \"instrument\": \"nres01\", \"epoch\": \"20180313\", \"request_num\": \"UNSPECIFIED\", \"obstype\": \"LAMPFLAT\", \"filter\": null, \"processName\": \"MainProcess\"}\n",
      "2020-05-21 10:57:36.189     INFO:          traces: Fitting smooth spline to order 123 | {\"filename\": \"lscnrs01-fl09-20180313-lampflat-bin1x1-110.fits\", \"site\": \"lsc\", \"instrument\": \"nres01\", \"epoch\": \"20180313\", \"request_num\": \"UNSPECIFIED\", \"obstype\": \"LAMPFLAT\", \"filter\": null, \"processName\": \"MainProcess\"}\n",
      "2020-05-21 10:57:36.512     INFO:          traces: Fitting smooth spline to order 124 | {\"filename\": \"lscnrs01-fl09-20180313-lampflat-bin1x1-110.fits\", \"site\": \"lsc\", \"instrument\": \"nres01\", \"epoch\": \"20180313\", \"request_num\": \"UNSPECIFIED\", \"obstype\": \"LAMPFLAT\", \"filter\": null, \"processName\": \"MainProcess\"}\n",
      "2020-05-21 10:57:36.855     INFO:          traces: Fitting smooth spline to order 125 | {\"filename\": \"lscnrs01-fl09-20180313-lampflat-bin1x1-110.fits\", \"site\": \"lsc\", \"instrument\": \"nres01\", \"epoch\": \"20180313\", \"request_num\": \"UNSPECIFIED\", \"obstype\": \"LAMPFLAT\", \"filter\": null, \"processName\": \"MainProcess\"}\n",
      "2020-05-21 10:57:37.183     INFO:          traces: Fitting smooth spline to order 126 | {\"filename\": \"lscnrs01-fl09-20180313-lampflat-bin1x1-110.fits\", \"site\": \"lsc\", \"instrument\": \"nres01\", \"epoch\": \"20180313\", \"request_num\": \"UNSPECIFIED\", \"obstype\": \"LAMPFLAT\", \"filter\": null, \"processName\": \"MainProcess\"}\n",
      "2020-05-21 10:57:37.506     INFO:          traces: Fitting smooth spline to order 127 | {\"filename\": \"lscnrs01-fl09-20180313-lampflat-bin1x1-110.fits\", \"site\": \"lsc\", \"instrument\": \"nres01\", \"epoch\": \"20180313\", \"request_num\": \"UNSPECIFIED\", \"obstype\": \"LAMPFLAT\", \"filter\": null, \"processName\": \"MainProcess\"}\n",
      "2020-05-21 10:57:37.834     INFO:          traces: Fitting smooth spline to order 128 | {\"filename\": \"lscnrs01-fl09-20180313-lampflat-bin1x1-110.fits\", \"site\": \"lsc\", \"instrument\": \"nres01\", \"epoch\": \"20180313\", \"request_num\": \"UNSPECIFIED\", \"obstype\": \"LAMPFLAT\", \"filter\": null, \"processName\": \"MainProcess\"}\n",
      "2020-05-21 10:57:38.160     INFO:          traces: Fitting smooth spline to order 129 | {\"filename\": \"lscnrs01-fl09-20180313-lampflat-bin1x1-110.fits\", \"site\": \"lsc\", \"instrument\": \"nres01\", \"epoch\": \"20180313\", \"request_num\": \"UNSPECIFIED\", \"obstype\": \"LAMPFLAT\", \"filter\": null, \"processName\": \"MainProcess\"}\n",
      "2020-05-21 10:57:38.497     INFO:          traces: Fitting smooth spline to order 130 | {\"filename\": \"lscnrs01-fl09-20180313-lampflat-bin1x1-110.fits\", \"site\": \"lsc\", \"instrument\": \"nres01\", \"epoch\": \"20180313\", \"request_num\": \"UNSPECIFIED\", \"obstype\": \"LAMPFLAT\", \"filter\": null, \"processName\": \"MainProcess\"}\n",
      "2020-05-21 10:57:38.830     INFO:          traces: Fitting smooth spline to order 131 | {\"filename\": \"lscnrs01-fl09-20180313-lampflat-bin1x1-110.fits\", \"site\": \"lsc\", \"instrument\": \"nres01\", \"epoch\": \"20180313\", \"request_num\": \"UNSPECIFIED\", \"obstype\": \"LAMPFLAT\", \"filter\": null, \"processName\": \"MainProcess\"}\n",
      "2020-05-21 10:57:39.160     INFO:          traces: Fitting smooth spline to order 132 | {\"filename\": \"lscnrs01-fl09-20180313-lampflat-bin1x1-110.fits\", \"site\": \"lsc\", \"instrument\": \"nres01\", \"epoch\": \"20180313\", \"request_num\": \"UNSPECIFIED\", \"obstype\": \"LAMPFLAT\", \"filter\": null, \"processName\": \"MainProcess\"}\n",
      "2020-05-21 10:57:39.500     INFO:          traces: Fitting smooth spline to order 133 | {\"filename\": \"lscnrs01-fl09-20180313-lampflat-bin1x1-110.fits\", \"site\": \"lsc\", \"instrument\": \"nres01\", \"epoch\": \"20180313\", \"request_num\": \"UNSPECIFIED\", \"obstype\": \"LAMPFLAT\", \"filter\": null, \"processName\": \"MainProcess\"}\n",
      "2020-05-21 10:57:39.833     INFO:          traces: Fitting smooth spline to order 134 | {\"filename\": \"lscnrs01-fl09-20180313-lampflat-bin1x1-110.fits\", \"site\": \"lsc\", \"instrument\": \"nres01\", \"epoch\": \"20180313\", \"request_num\": \"UNSPECIFIED\", \"obstype\": \"LAMPFLAT\", \"filter\": null, \"processName\": \"MainProcess\"}\n",
      "2020-05-21 10:57:40.157     INFO:          traces: Fitting smooth spline to order 135 | {\"filename\": \"lscnrs01-fl09-20180313-lampflat-bin1x1-110.fits\", \"site\": \"lsc\", \"instrument\": \"nres01\", \"epoch\": \"20180313\", \"request_num\": \"UNSPECIFIED\", \"obstype\": \"LAMPFLAT\", \"filter\": null, \"processName\": \"MainProcess\"}\n",
      "2020-05-21 10:57:40.484     INFO:          traces: Fitting smooth spline to order 136 | {\"filename\": \"lscnrs01-fl09-20180313-lampflat-bin1x1-110.fits\", \"site\": \"lsc\", \"instrument\": \"nres01\", \"epoch\": \"20180313\", \"request_num\": \"UNSPECIFIED\", \"obstype\": \"LAMPFLAT\", \"filter\": null, \"processName\": \"MainProcess\"}\n",
      "2020-05-21 10:57:40.815     INFO:          traces: Fitting smooth spline to order 137 | {\"filename\": \"lscnrs01-fl09-20180313-lampflat-bin1x1-110.fits\", \"site\": \"lsc\", \"instrument\": \"nres01\", \"epoch\": \"20180313\", \"request_num\": \"UNSPECIFIED\", \"obstype\": \"LAMPFLAT\", \"filter\": null, \"processName\": \"MainProcess\"}\n",
      "2020-05-21 10:57:41.141     INFO:          traces: Fitting smooth spline to order 138 | {\"filename\": \"lscnrs01-fl09-20180313-lampflat-bin1x1-110.fits\", \"site\": \"lsc\", \"instrument\": \"nres01\", \"epoch\": \"20180313\", \"request_num\": \"UNSPECIFIED\", \"obstype\": \"LAMPFLAT\", \"filter\": null, \"processName\": \"MainProcess\"}\n",
      "2020-05-21 10:57:41.328     INFO:          stages: Running banzai.stages.ProfileFitter | {\"filename\": \"lscnrs01-fl09-20180313-lampflat-bin1x1-011.fits\", \"site\": \"lsc\", \"instrument\": \"nres01\", \"epoch\": \"20180313\", \"request_num\": \"UNSPECIFIED\", \"obstype\": \"LAMPFLAT\", \"filter\": null, \"processName\": \"MainProcess\"}\n",
      "2020-05-21 10:57:48.496     INFO:          stages: Running banzai.stages.ProfileFitter | {\"filename\": \"lscnrs01-fl09-20180313-lampflat-bin1x1-110.fits\", \"site\": \"lsc\", \"instrument\": \"nres01\", \"epoch\": \"20180313\", \"request_num\": \"UNSPECIFIED\", \"obstype\": \"LAMPFLAT\", \"filter\": null, \"processName\": \"MainProcess\"}\n",
      "2020-05-21 10:58:04.044     INFO:    calibrations: Finished | {\"processName\": \"MainProcess\"}\n"
     ]
    }
   ],
   "source": [
    "from banzai import main"
   ]
  },
  {
   "cell_type": "code",
   "execution_count": 5,
   "metadata": {},
   "outputs": [],
   "source": [
    "os.environ['DB_ADDRESS'] = 'sqlite:///test_data/test.db'\n",
    "\n",
    "settings.processed_path= os.path.join(os.getcwd(), 'test_data')\n",
    "settings.fpack=True\n",
    "settings.db_address = os.environ['DB_ADDRESS']"
   ]
  },
  {
   "cell_type": "markdown",
   "metadata": {},
   "source": [
    "Download some test data from the archive\n",
    "----------------------------------------"
   ]
  },
  {
   "cell_type": "code",
   "execution_count": 6,
   "metadata": {},
   "outputs": [],
   "source": [
    "# make directories for the test dataset.\n",
    "raw_data_dir = 'test_data/lsc/nres01/20180313/raw'\n",
    "os.makedirs(raw_data_dir, exist_ok=True)\n",
    "bpm_dir = 'test_data/lsc/nres01/bpm/'\n",
    "os.makedirs(bpm_dir, exist_ok=True)"
   ]
  },
  {
   "cell_type": "code",
   "execution_count": 7,
   "metadata": {},
   "outputs": [],
   "source": [
    "# choose which files we will download for our test dataset.\n",
    "bpm_filename = 'bpm-lsc-nres01-fl09-20180215.fits.fz'\n",
    "test_filenames = ['lscnrs01-fl09-20180313-0001-w00.fits.fz', 'lscnrs01-fl09-20180313-0002-w00.fits.fz',\n",
    "                  'lscnrs01-fl09-20180313-0003-w00.fits.fz', 'lscnrs01-fl09-20180313-0004-w00.fits.fz',\n",
    "                  'lscnrs01-fl09-20180313-0005-w00.fits.fz', 'lscnrs01-fl09-20180313-0006-a00.fits.fz',\n",
    "                  'lscnrs01-fl09-20180313-0007-a00.fits.fz', 'lscnrs01-fl09-20180313-0008-a00.fits.fz',\n",
    "                  'lscnrs01-fl09-20180313-0009-w00.fits.fz', 'lscnrs01-fl09-20180313-0010-w00.fits.fz',\n",
    "                  'lscnrs01-fl09-20180313-0011-w00.fits.fz', 'lscnrs01-fl09-20180313-0012-w00.fits.fz',\n",
    "                  'lscnrs01-fl09-20180313-0013-w00.fits.fz', 'lscnrs01-fl09-20180313-0014-w00.fits.fz',\n",
    "                  'lscnrs01-fl09-20180313-0015-w00.fits.fz', 'lscnrs01-fl09-20180313-0016-w00.fits.fz',\n",
    "                  'lscnrs01-fl09-20180313-0017-w00.fits.fz', 'lscnrs01-fl09-20180313-0018-w00.fits.fz',\n",
    "                  'lscnrs01-fl09-20180313-0019-a00.fits.fz', 'lscnrs01-fl09-20180313-0020-a00.fits.fz',\n",
    "                  'lscnrs01-fl09-20180313-0021-a00.fits.fz', 'lscnrs01-fl09-20180313-0022-a00.fits.fz',\n",
    "                  'lscnrs01-fl09-20180313-0023-a00.fits.fz', 'lscnrs01-fl09-20180313-0042-b00.fits.fz',\n",
    "                  'lscnrs01-fl09-20180313-0043-b00.fits.fz', 'lscnrs01-fl09-20180313-0044-b00.fits.fz',\n",
    "                  'lscnrs01-fl09-20180313-0045-b00.fits.fz', 'lscnrs01-fl09-20180313-0046-b00.fits.fz',\n",
    "                  'lscnrs01-fl09-20180313-0047-d00.fits.fz', 'lscnrs01-fl09-20180313-0048-d00.fits.fz',\n",
    "                  'lscnrs01-fl09-20180313-0049-d00.fits.fz', 'lscnrs01-fl09-20180313-0028-e00.fits.fz',\n",
    "                  'lscnrs01-fl09-20180313-0029-e00.fits.fz', 'lscnrs01-fl09-20180313-0030-e00.fits.fz',\n",
    "                  'lscnrs01-fl09-20180313-0031-e00.fits.fz']\n",
    "\n",
    "bpm_frame_id = '22529799'\n",
    "test_frame_ids = ['8148793', '8148822', '8148805', '8148824', '8148826', '8148876', '8148898',\n",
    "                  '8148932', '8148960', '8148978', '8149024', '8149104', '8149068', '8149090',\n",
    "                  '8149128', '8149173', '8149217', '8151252', '8149314', '8149388', '8149469',\n",
    "                  '8149547', '8149570', '8156341', '8156360', '8156366', '8156376', '8156385',\n",
    "                  '8156433', '8156500', '8156560', '8151997', '8152050', '8152110', '8152153']"
   ]
  },
  {
   "cell_type": "code",
   "execution_count": null,
   "metadata": {},
   "outputs": [],
   "source": [
    "# DO NOT RUN ME IF YOU HAVE ALREADY REDUCED THE DATA BEFORE\n",
    "# Copy the data into the correct directory\n",
    "for test_filename, frame_id in zip(test_filenames, test_frame_ids):\n",
    "    archive_url = f'https://archive-api.lco.global/frames/{frame_id}'\n",
    "    frame_info = requests.get(archive_url).json()\n",
    "    with open(os.path.join(raw_data_dir, test_filename), 'wb') as f:\n",
    "        f.write(requests.get(frame_info['url']).content)\n",
    "        \n",
    "archive_url = f'https://archive-api.lco.global/frames/{bpm_frame_id}'\n",
    "frame_info = requests.get(archive_url).json()\n",
    "with open(os.path.join(bpm_dir, bpm_filename), 'wb') as f:\n",
    "    f.write(requests.get(frame_info['url']).content)"
   ]
  },
  {
   "cell_type": "markdown",
   "metadata": {},
   "source": [
    "Initialize the db and context object for the rest of the pipeline\n",
    "-----------------------------------------------------------------"
   ]
  },
  {
   "cell_type": "code",
   "execution_count": 8,
   "metadata": {},
   "outputs": [],
   "source": [
    "# set up the context object.\n",
    "import banzai\n",
    "context = banzai.main.parse_args(settings, parse_system_args=False)"
   ]
  },
  {
   "cell_type": "code",
   "execution_count": 9,
   "metadata": {},
   "outputs": [],
   "source": [
    "# DO NOT RUN ME IF YOU HAVE ALREADY REDUCED THE DATA BEFORE\n",
    "os.system(f'banzai_create_db --db-address={os.environ[\"DB_ADDRESS\"]}')\n",
    "os.system(f'banzai_add_instrument --site lsc --camera fl09 --name nres01 --camera-type 1m0-NRES-SciCam --db-address={os.environ[\"DB_ADDRESS\"]}')\n",
    "os.system(f'banzai_add_instrument --site elp --camera fl17 --name nres02 --camera-type 1m0-NRES-SciCam --db-address={os.environ[\"DB_ADDRESS\"]}')\n",
    "for bpm_filename in glob('test_data/*/nres??/bpm/*bpm*'):\n",
    "    logger.info(f'adding bpm {bpm_filename} to the database')\n",
    "    os.system(f'banzai_nres_add_bpm --filename {bpm_filename} --db-address={os.environ[\"DB_ADDRESS\"]}')"
   ]
  },
  {
   "cell_type": "markdown",
   "metadata": {},
   "source": [
    "Process and Stack Bias Files\n",
    "----------------------------"
   ]
  },
  {
   "cell_type": "code",
   "execution_count": 11,
   "metadata": {},
   "outputs": [],
   "source": [
    "bias_files = glob(os.path.join('test_data/*/nres??/*/raw/*b00*'))\n",
    "for bias_file in bias_files: \n",
    "    run_pipeline_stages([{'path': bias_file}], context) "
   ]
  },
  {
   "cell_type": "code",
   "execution_count": 12,
   "metadata": {},
   "outputs": [],
   "source": [
    "def mark_frames_as_good(filenames):\n",
    "    for filename in glob(f'test_data/*/nres??/*/processed/{filenames}'):\n",
    "        dbs.mark_frame(os.path.basename(filename), \"good\", db_address=os.environ['DB_ADDRESS'])"
   ]
  },
  {
   "cell_type": "code",
   "execution_count": 13,
   "metadata": {},
   "outputs": [],
   "source": [
    "mark_frames_as_good('*b91*')"
   ]
  },
  {
   "cell_type": "code",
   "execution_count": 9,
   "metadata": {},
   "outputs": [],
   "source": [
    "instrument = dbs.get_instruments_at_site('lsc', settings.db_address)[0]"
   ]
  },
  {
   "cell_type": "code",
   "execution_count": 15,
   "metadata": {},
   "outputs": [],
   "source": [
    "make_master_calibrations(instrument, 'BIAS', '2017-01-01', '2019-01-01', context) "
   ]
  },
  {
   "cell_type": "markdown",
   "metadata": {},
   "source": [
    "Process and Stack Dark Files\n",
    "----------------------------"
   ]
  },
  {
   "cell_type": "code",
   "execution_count": 16,
   "metadata": {},
   "outputs": [],
   "source": [
    "dark_files = glob('test_data/*/nres??/*/raw/*d00*')\n",
    "for dark_file in dark_files: \n",
    "    run_pipeline_stages([{'path': dark_file}], context)"
   ]
  },
  {
   "cell_type": "code",
   "execution_count": 17,
   "metadata": {},
   "outputs": [],
   "source": [
    "mark_frames_as_good('*d91*')"
   ]
  },
  {
   "cell_type": "code",
   "execution_count": 18,
   "metadata": {},
   "outputs": [],
   "source": [
    "make_master_calibrations(instrument, 'DARK', '2017-01-01', '2019-01-01', context) "
   ]
  },
  {
   "cell_type": "markdown",
   "metadata": {},
   "source": [
    "Process and stack lamp flats. This is where we also solve for the traces and profile.\n",
    "----------"
   ]
  },
  {
   "cell_type": "code",
   "execution_count": 10,
   "metadata": {},
   "outputs": [],
   "source": [
    "flat_files = glob('test_data/*/nres??/*/raw/*w00*')\n",
    "for flat_file in flat_files: \n",
    "    run_pipeline_stages([{'path': flat_file}], context)"
   ]
  },
  {
   "cell_type": "code",
   "execution_count": 11,
   "metadata": {},
   "outputs": [],
   "source": [
    "make_master_calibrations(instrument, 'LAMPFLAT', '2017-01-01', '2019-01-01', context)"
   ]
  },
  {
   "cell_type": "markdown",
   "metadata": {},
   "source": [
    "Process and stack arc lamps. Find the wavelength solution\n",
    "--------"
   ]
  },
  {
   "cell_type": "code",
   "execution_count": 12,
   "metadata": {},
   "outputs": [],
   "source": [
    "arc_files = glob('test_data/*/nres??/*/raw/*a00*')\n",
    "for arc_file in arc_files: \n",
    "    run_pipeline_stages([{'path': arc_file}], context)"
   ]
  },
  {
   "cell_type": "code",
   "execution_count": 13,
   "metadata": {},
   "outputs": [],
   "source": [
    "make_master_calibrations(instrument, 'DOUBLE', '2017-01-01', '2019-01-01', context) "
   ]
  },
  {
   "cell_type": "markdown",
   "metadata": {},
   "source": [
    "Process the science spectra\n",
    "------"
   ]
  },
  {
   "cell_type": "code",
   "execution_count": null,
   "metadata": {},
   "outputs": [],
   "source": [
    "science_files = glob('test_data/*/nres??/*/raw/*e00*')\n",
    "for science_file in science_files: \n",
    "    run_pipeline_stages([{'path': science_file}], context)"
   ]
  },
  {
   "cell_type": "code",
   "execution_count": null,
   "metadata": {},
   "outputs": [],
   "source": []
  }
 ],
 "metadata": {
  "kernelspec": {
   "display_name": "Python 3",
   "language": "python",
   "name": "python3"
  },
  "language_info": {
   "codemirror_mode": {
    "name": "ipython",
    "version": 3
   },
   "file_extension": ".py",
   "mimetype": "text/x-python",
   "name": "python",
   "nbconvert_exporter": "python",
   "pygments_lexer": "ipython3",
   "version": "3.6.8"
  }
 },
 "nbformat": 4,
 "nbformat_minor": 4
}
